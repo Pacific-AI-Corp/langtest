{
  "cells": [
    {
      "cell_type": "markdown",
      "metadata": {
        "id": "e7PsSmy9sCoR"
      },
      "source": [
        "<!-- ![logog](https://raw.githubusercontent.com/Pacific-AI-Corp/langtest/refs/heads/main/docs/assets/images/logo.png) -->\n",
        "![logog](https://raw.githubusercontent.com/Pacific-AI-Corp/langtest/main/docs/assets/images/logo.png)"
      ]
    },
    {
      "attachments": {},
      "cell_type": "markdown",
      "metadata": {
        "id": "7Etd4riZEtyi"
      },
      "source": [
        "[![Open In Colab](https://colab.research.google.com/assets/colab-badge.svg)](https://colab.research.google.com/github/Pacific-AI-Corp/langtest/blob/main/demo/tutorials/end-to-end-notebooks/JohnSnowLabs_RealWorld_Custom_Pipeline_Notebook.ipynb)"
      ]
    },
    {
      "attachments": {},
      "cell_type": "markdown",
      "metadata": {
        "id": "WJJzt3RWhEc6"
      },
      "source": [
        "**LangTest** is an open-source python library designed to help developers deliver safe and effective Natural Language Processing (NLP) models. Whether you are using **John Snow Labs, Hugging Face, Spacy** models or **OpenAI, Cohere, AI21, Hugging Face Inference API and Azure-OpenAI** based LLMs, it has got you covered. You can test any Named Entity Recognition (NER), Text Classification, fill-mask, Translation model using the library. We also support testing LLMS for Question-Answering, Summarization and text-generation tasks on benchmark datasets. The library supports 60+ out of the box tests. For a complete list of supported test categories, please refer to the [documentation](http://langtest.org/docs/pages/docs/test_categories).\n",
        "\n",
        "Metrics are calculated by comparing the model's extractions in the original list of sentences against the extractions carried out in the noisy list of sentences. The original annotated labels are not used at any point, we are simply comparing the model against itself in a 2 settings."
      ]
    },
    {
      "attachments": {},
      "cell_type": "markdown",
      "metadata": {
        "id": "26qXWhCYhHAt"
      },
      "source": [
        "# Getting started with LangTest on John Snow Labs"
      ]
    },
    {
      "cell_type": "code",
      "execution_count": null,
      "metadata": {
        "id": "azUb114QhOsY"
      },
      "outputs": [],
      "source": [
        "!pip install langtest[johnsnowlabs]"
      ]
    },
    {
      "attachments": {},
      "cell_type": "markdown",
      "metadata": {
        "id": "yR6kjOaiheKN"
      },
      "source": [
        "# Harness and its Parameters\n",
        "\n",
        "The Harness class is a testing class for Natural Language Processing (NLP) models. It evaluates the performance of a NLP model on a given task using test data and generates a report with test results.Harness can be imported from the LangTest library in the following way."
      ]
    },
    {
      "cell_type": "code",
      "execution_count": null,
      "metadata": {
        "id": "lTzSJpMlhgq5"
      },
      "outputs": [],
      "source": [
        "#Import Harness from the LangTest library\n",
        "from langtest import Harness"
      ]
    },
    {
      "cell_type": "markdown",
      "metadata": {
        "id": "sBcZjwJBhkOw"
      },
      "source": [
        "It imports the Harness class from within the module, that is designed to provide a blueprint or framework for conducting NLP testing, and that instances of the Harness class can be customized or configured for different testing scenarios or environments.\n",
        "\n",
        "Here is a list of the different parameters that can be passed to the Harness function:\n",
        "\n",
        "<br/>\n",
        "\n",
        "\n",
        "\n",
        "| Parameter  | Description |  \n",
        "| - | - | \n",
        "|**task**     |Task for which the model is to be evaluated (text-classification or ner)|\n",
        "| **model**     | Specifies the model(s) to be evaluated. This parameter can be provided as either a dictionary or a list of dictionaries. Each dictionary should contain the following keys: <ul><li>model (mandatory): \tPipelineModel or path to a saved model or pretrained pipeline/model from hub.</li><li>hub (mandatory): Hub (library) to use in back-end for loading model from public models hub or from path</li></ul>|\n",
        "| **data**      | The data to be used for evaluation. A dictionary providing flexibility and options for data sources. It should include the following keys: <ul><li>data_source (mandatory): The source of the data.</li><li>subset (optional): The subset of the data.</li><li>feature_column (optional): The column containing the features.</li><li>target_column (optional): The column containing the target labels.</li><li>split (optional): The data split to be used.</li><li>source (optional): Set to 'huggingface' when loading Hugging Face dataset.</li></ul> |\n",
        "| **config**    | Configuration for the tests to be performed, specified in the form of a YAML file. |\n",
        "\n",
        "\n",
        "<br/>\n",
        "<br/>"
      ]
    },
    {
      "cell_type": "markdown",
      "metadata": {
        "id": "JFhJ9CcbsKqN"
      },
      "source": [
        "# Real-World Project Workflows\n",
        "\n",
        "In this section, we dive into complete workflows for using the model testing module in real-world project settings."
      ]
    },
    {
      "cell_type": "markdown",
      "metadata": {
        "id": "UtxtE6Y0r4CJ"
      },
      "source": [
        "## Robustness Testing\n",
        "\n",
        "In this example, we will be testing a model's robustness to changes in capitalization - more specifically, we will be applying 2 tests: uppercase and lowercase. The real-world project workflow of the model robustness testing and fixing in this case goes as follows:\n",
        "\n",
        "1. Train NER model on original CoNLL training set\n",
        "\n",
        "2. Test NER model robustness on CoNLL test set\n",
        "\n",
        "3. Augment CoNLL training set based on test results\n",
        "\n",
        "4. Train new NER model on augmented CoNLL training set\n",
        "\n",
        "5. Test new NER model robustness on the CoNLL test set from step 2\n",
        "\n",
        "6. Compare robustness of new NER model against original NER model"
      ]
    },
    {
      "cell_type": "markdown",
      "metadata": {
        "id": "I21Jmq79jgC6"
      },
      "source": [
        "#### Load Train and Test CoNLL"
      ]
    },
    {
      "cell_type": "code",
      "execution_count": null,
      "metadata": {
        "id": "6uW22VqJje8E"
      },
      "outputs": [],
      "source": [
        "# Load test CoNLL\n",
        "!wget https://raw.githubusercontent.com/JohnSnowLabs/langtest/main/langtest/data/conll/sample.conll\n",
        "\n",
        "# Load train CoNLL\n",
        "!wget https://raw.githubusercontent.com/JohnSnowLabs/langtest/main/demo/data/conll03.conll"
      ]
    },
    {
      "cell_type": "markdown",
      "metadata": {
        "id": "MNtH_HOUt_PL"
      },
      "source": [
        "#### Step 1: Train NER Model"
      ]
    },
    {
      "cell_type": "code",
      "execution_count": null,
      "metadata": {
        "colab": {
          "base_uri": "https://localhost:8080/"
        },
        "id": "rInUVuLuDuWD",
        "outputId": "fbbae8b2-7aa9-4554-996c-48f72a66a6d0"
      },
      "outputs": [
        {
          "name": "stdout",
          "output_type": "stream",
          "text": [
            "🤓 Looks like /root/.johnsnowlabs is missing, creating it\n",
            "👷 Setting up  John Snow Labs home in /root/.johnsnowlabs, this might take a few minutes.\n",
            "Downloading 🫘+🚀 Java Library spark-nlp-assembly-4.3.2.jar\n",
            "🙆 JSL Home setup in /root/.johnsnowlabs\n",
            "👌 Launched \u001b[92mcpu optimized\u001b[39m session with with: 🚀Spark-NLP==4.3.2, running on ⚡ PySpark==3.1.2\n"
          ]
        }
      ],
      "source": [
        "from johnsnowlabs import nlp\n",
        "spark = nlp.start()"
      ]
    },
    {
      "cell_type": "code",
      "execution_count": null,
      "metadata": {
        "colab": {
          "base_uri": "https://localhost:8080/"
        },
        "id": "wEATo-dtt_s8",
        "outputId": "5c8f93cf-1e72-4d8a-b57c-99db11f2353c"
      },
      "outputs": [
        {
          "name": "stdout",
          "output_type": "stream",
          "text": [
            "glove_100d download started this may take some time.\n",
            "Approximate size to download 145.3 MB\n",
            "[OK!]\n"
          ]
        }
      ],
      "source": [
        "\n",
        "embeddings = nlp.WordEmbeddingsModel.pretrained('glove_100d') \\\n",
        "\t\t.setInputCols([\"document\", 'token']) \\\n",
        "\t\t.setOutputCol(\"embeddings\")\n",
        "\n",
        "nerTagger = nlp.NerDLApproach()\\\n",
        "    .setInputCols([\"document\", \"token\", \"embeddings\"])\\\n",
        "    .setLabelColumn(\"label\")\\\n",
        "    .setOutputCol(\"ner\")\\\n",
        "    .setMaxEpochs(20)\\\n",
        "    .setBatchSize(64)\\\n",
        "    .setRandomSeed(0)\\\n",
        "    .setVerbose(1)\\\n",
        "    .setValidationSplit(0)\\\n",
        "    .setEvaluationLogExtended(True) \\\n",
        "    .setEnableOutputLogs(True)\\\n",
        "    .setIncludeConfidence(True)\\\n",
        "    .setOutputLogsPath('ner_logs')\n",
        "\n",
        "training_pipeline = nlp.Pipeline(stages=[\n",
        "          embeddings,\n",
        "          nerTagger\n",
        " ])\n",
        "\n",
        "\n",
        "conll_data = nlp.CoNLL().readDataset(spark, 'conll03.conll')\n",
        "\n",
        "ner_model = training_pipeline.fit(conll_data)\n",
        "\n",
        "ner_model.stages[-1].write().overwrite().save('models/trained_ner_model')"
      ]
    },
    {
      "cell_type": "code",
      "execution_count": null,
      "metadata": {
        "colab": {
          "base_uri": "https://localhost:8080/"
        },
        "id": "pqHakqbJuqBf",
        "outputId": "540f1bb3-e73d-4e1f-836f-cf39bc9acc05"
      },
      "outputs": [
        {
          "name": "stdout",
          "output_type": "stream",
          "text": [
            "  adding: models/trained_ner_model/ (stored 0%)\n",
            "  adding: models/trained_ner_model/metadata/ (stored 0%)\n",
            "  adding: models/trained_ner_model/metadata/part-00000 (deflated 44%)\n",
            "  adding: models/trained_ner_model/metadata/.part-00000.crc (stored 0%)\n",
            "  adding: models/trained_ner_model/metadata/_SUCCESS (stored 0%)\n",
            "  adding: models/trained_ner_model/metadata/._SUCCESS.crc (stored 0%)\n",
            "  adding: models/trained_ner_model/.tensorflow.crc (deflated 0%)\n",
            "  adding: models/trained_ner_model/tensorflow (deflated 16%)\n",
            "  adding: models/trained_ner_model/fields/ (stored 0%)\n",
            "  adding: models/trained_ner_model/fields/datasetParams/ (stored 0%)\n",
            "  adding: models/trained_ner_model/fields/datasetParams/part-00001 (deflated 75%)\n",
            "  adding: models/trained_ner_model/fields/datasetParams/.part-00001.crc (stored 0%)\n",
            "  adding: models/trained_ner_model/fields/datasetParams/part-00000 (deflated 27%)\n",
            "  adding: models/trained_ner_model/fields/datasetParams/.part-00000.crc (stored 0%)\n",
            "  adding: models/trained_ner_model/fields/datasetParams/_SUCCESS (stored 0%)\n",
            "  adding: models/trained_ner_model/fields/datasetParams/._SUCCESS.crc (stored 0%)\n"
          ]
        }
      ],
      "source": [
        "!zip -r trained_ner_model.zip models/trained_ner_model"
      ]
    },
    {
      "cell_type": "markdown",
      "metadata": {
        "id": "kKgXC7cvuyar"
      },
      "source": [
        "#### Step 2: Test NER Model Robustness on Capitalization tests"
      ]
    },
    {
      "cell_type": "code",
      "execution_count": null,
      "metadata": {
        "colab": {
          "base_uri": "https://localhost:8080/"
        },
        "id": "MHqlSjFLuy7o",
        "outputId": "a6c5e109-976a-424a-88c7-c66d41ed87c2"
      },
      "outputs": [
        {
          "name": "stdout",
          "output_type": "stream",
          "text": [
            "Archive:  trained_ner_model.zip\n",
            "replace models/trained_ner_model/metadata/part-00000? [y]es, [n]o, [A]ll, [N]one, [r]ename: A\n",
            "  inflating: models/trained_ner_model/metadata/part-00000  \n",
            " extracting: models/trained_ner_model/metadata/.part-00000.crc  \n",
            " extracting: models/trained_ner_model/metadata/_SUCCESS  \n",
            " extracting: models/trained_ner_model/metadata/._SUCCESS.crc  \n",
            "  inflating: models/trained_ner_model/.tensorflow.crc  \n",
            "  inflating: models/trained_ner_model/tensorflow  \n",
            "  inflating: models/trained_ner_model/fields/datasetParams/part-00001  \n",
            " extracting: models/trained_ner_model/fields/datasetParams/.part-00001.crc  \n",
            "  inflating: models/trained_ner_model/fields/datasetParams/part-00000  \n",
            " extracting: models/trained_ner_model/fields/datasetParams/.part-00000.crc  \n",
            " extracting: models/trained_ner_model/fields/datasetParams/_SUCCESS  \n",
            " extracting: models/trained_ner_model/fields/datasetParams/._SUCCESS.crc  \n"
          ]
        }
      ],
      "source": [
        "!unzip trained_ner_model.zip"
      ]
    },
    {
      "cell_type": "code",
      "execution_count": null,
      "metadata": {
        "colab": {
          "base_uri": "https://localhost:8080/"
        },
        "id": "p_5nO14bvTzt",
        "outputId": "cb96d64c-20ad-4a74-b64a-4be5b8196ae8"
      },
      "outputs": [
        {
          "name": "stdout",
          "output_type": "stream",
          "text": [
            "glove_100d download started this may take some time.\n",
            "Approximate size to download 145.3 MB\n",
            "[OK!]\n"
          ]
        }
      ],
      "source": [
        "documentAssembler = nlp.DocumentAssembler()\\\n",
        "\t\t.setInputCol(\"text\")\\\n",
        "\t\t.setOutputCol(\"document\")\n",
        "\n",
        "tokenizer = nlp.Tokenizer()\\\n",
        "\t\t.setInputCols([\"document\"])\\\n",
        "\t\t.setOutputCol(\"token\")\n",
        "\n",
        "embeddings = nlp.WordEmbeddingsModel.pretrained('glove_100d') \\\n",
        "\t\t.setInputCols([\"document\", 'token']) \\\n",
        "\t\t.setOutputCol(\"embeddings\")\n",
        "\n",
        "ner = nlp.NerDLModel.load(\"models/trained_ner_model\") \\\n",
        "\t\t.setInputCols([\"document\", \"token\", \"embeddings\"]) \\\n",
        "\t\t.setOutputCol(\"ner\")\n",
        "\n",
        "ner_pipeline = nlp.Pipeline().setStages([\n",
        "\t\t\t\tdocumentAssembler,\n",
        "\t\t\t\ttokenizer,\n",
        "\t\t\t\tembeddings,\n",
        "\t\t\t\tner\n",
        "    ])\n",
        "\n",
        "ner_model = ner_pipeline.fit(spark.createDataFrame([[\"\"]]).toDF(\"text\"))"
      ]
    },
    {
      "cell_type": "code",
      "execution_count": null,
      "metadata": {
        "id": "RVk9NWn7u-Lm"
      },
      "outputs": [],
      "source": [
        "harness = Harness(task=\"ner\", model={\"model\": ner_model, \"hub\": \"johnsnowlabs\"}, data={\"data_source\" :\"sample.conll\"})"
      ]
    },
    {
      "cell_type": "code",
      "execution_count": null,
      "metadata": {
        "colab": {
          "base_uri": "https://localhost:8080/"
        },
        "id": "mynkAUwZyuFN",
        "outputId": "b49a5119-f4be-4a57-ae13-56e64bbde0b2"
      },
      "outputs": [
        {
          "data": {
            "text/plain": [
              "{'tests': {'defaults': {'min_pass_rate': 0.65},\n",
              " 'robustness': {'lowercase': {'min_pass_rate': 0.6},\n",
              "   'uppercase': {'min_pass_rate': 0.6}}}}"
            ]
          },
          "execution_count": 11,
          "metadata": {},
          "output_type": "execute_result"
        }
      ],
      "source": [
        "harness.configure({\n",
        "    'tests': {\n",
        "        'defaults': {'min_pass_rate': 0.65},\n",
        "\n",
        "        'robustness': {\n",
        "            'lowercase': {'min_pass_rate': 0.60},\n",
        "            'uppercase':{'min_pass_rate': 0.60}\n",
        "        }\n",
        "    }\n",
        "})"
      ]
    },
    {
      "cell_type": "markdown",
      "metadata": {
        "id": "ZPU46A7WigFr"
      },
      "source": [
        "Here we have configured the harness to perform two robustness tests (uppercase and lowercase) and defined the minimum pass rate for each test."
      ]
    },
    {
      "cell_type": "markdown",
      "metadata": {
        "id": "i6kPvA13F7cr"
      },
      "source": [
        "\n",
        "#### Generating the test cases.\n",
        "\n",
        "\n"
      ]
    },
    {
      "cell_type": "code",
      "execution_count": null,
      "metadata": {
        "colab": {
          "base_uri": "https://localhost:8080/"
        },
        "id": "mdNH3wCKF9fn",
        "outputId": "747be0ed-7cef-4f8c-db39-54bf6aadc3ef"
      },
      "outputs": [
        {
          "name": "stderr",
          "output_type": "stream",
          "text": [
            "Generating testcases... (robustness): 100%|██████████| 1/1 [00:36<00:00, 36.49s/it]\n"
          ]
        },
        {
          "data": {
            "text/plain": []
          },
          "execution_count": 12,
          "metadata": {},
          "output_type": "execute_result"
        }
      ],
      "source": [
        "harness.generate()"
      ]
    },
    {
      "cell_type": "markdown",
      "metadata": {
        "id": "nyjDdYLeGCmM"
      },
      "source": [
        "harness.generate() method automatically generates the test cases (based on the provided configuration)"
      ]
    },
    {
      "cell_type": "code",
      "execution_count": null,
      "metadata": {
        "colab": {
          "base_uri": "https://localhost:8080/",
          "height": 423
        },
        "id": "c0jL1_G7F_p6",
        "outputId": "3f448f76-5f22-4c71-d560-821965f0f686"
      },
      "outputs": [
        {
          "data": {
            "text/html": [
              "\n",
              "  <div id=\"df-dd6469a3-030c-4347-a983-3386069e3811\">\n",
              "    <div class=\"colab-df-container\">\n",
              "      <div>\n",
              "<style scoped>\n",
              "    .dataframe tbody tr th:only-of-type {\n",
              "        vertical-align: middle;\n",
              "    }\n",
              "\n",
              "    .dataframe tbody tr th {\n",
              "        vertical-align: top;\n",
              "    }\n",
              "\n",
              "    .dataframe thead th {\n",
              "        text-align: right;\n",
              "    }\n",
              "</style>\n",
              "<table border=\"1\" class=\"dataframe\">\n",
              "  <thead>\n",
              "    <tr style=\"text-align: right;\">\n",
              "      <th></th>\n",
              "      <th>category</th>\n",
              "      <th>test_type</th>\n",
              "      <th>original</th>\n",
              "      <th>test_case</th>\n",
              "      <th>expected_result</th>\n",
              "    </tr>\n",
              "  </thead>\n",
              "  <tbody>\n",
              "    <tr>\n",
              "      <th>0</th>\n",
              "      <td>robustness</td>\n",
              "      <td>lowercase</td>\n",
              "      <td>SOCCER - JAPAN GET LUCKY WIN , CHINA IN SURPRI...</td>\n",
              "      <td>soccer - japan get lucky win , china in surpri...</td>\n",
              "      <td>JAPAN: LOC, CHINA: LOC</td>\n",
              "    </tr>\n",
              "    <tr>\n",
              "      <th>1</th>\n",
              "      <td>robustness</td>\n",
              "      <td>lowercase</td>\n",
              "      <td>Nadim Ladki</td>\n",
              "      <td>nadim ladki</td>\n",
              "      <td>Nadim Ladki: PER</td>\n",
              "    </tr>\n",
              "    <tr>\n",
              "      <th>2</th>\n",
              "      <td>robustness</td>\n",
              "      <td>lowercase</td>\n",
              "      <td>AL-AIN , United Arab Emirates 1996-12-06</td>\n",
              "      <td>al-ain , united arab emirates 1996-12-06</td>\n",
              "      <td>AL-AIN: LOC, United Arab Emirates: ORG</td>\n",
              "    </tr>\n",
              "    <tr>\n",
              "      <th>3</th>\n",
              "      <td>robustness</td>\n",
              "      <td>lowercase</td>\n",
              "      <td>Japan began the defence of their Asian Cup tit...</td>\n",
              "      <td>japan began the defence of their asian cup tit...</td>\n",
              "      <td>Japan: LOC, Asian Cup: MISC, Syria: LOC, Group...</td>\n",
              "    </tr>\n",
              "    <tr>\n",
              "      <th>4</th>\n",
              "      <td>robustness</td>\n",
              "      <td>lowercase</td>\n",
              "      <td>But China saw their luck desert them in the se...</td>\n",
              "      <td>but china saw their luck desert them in the se...</td>\n",
              "      <td>China: LOC, Uzbekistan: LOC</td>\n",
              "    </tr>\n",
              "    <tr>\n",
              "      <th>...</th>\n",
              "      <td>...</td>\n",
              "      <td>...</td>\n",
              "      <td>...</td>\n",
              "      <td>...</td>\n",
              "      <td>...</td>\n",
              "    </tr>\n",
              "    <tr>\n",
              "      <th>447</th>\n",
              "      <td>robustness</td>\n",
              "      <td>uppercase</td>\n",
              "      <td>Portuguesa 1 Atletico Mineiro 0</td>\n",
              "      <td>PORTUGUESA 1 ATLETICO MINEIRO 0</td>\n",
              "      <td>Portuguesa: ORG, Atletico Mineiro: ORG</td>\n",
              "    </tr>\n",
              "    <tr>\n",
              "      <th>448</th>\n",
              "      <td>robustness</td>\n",
              "      <td>uppercase</td>\n",
              "      <td>CRICKET - LARA ENDURES ANOTHER MISERABLE DAY .</td>\n",
              "      <td>CRICKET - LARA ENDURES ANOTHER MISERABLE DAY .</td>\n",
              "      <td>LARA: PER</td>\n",
              "    </tr>\n",
              "    <tr>\n",
              "      <th>449</th>\n",
              "      <td>robustness</td>\n",
              "      <td>uppercase</td>\n",
              "      <td>Robert Galvin</td>\n",
              "      <td>ROBERT GALVIN</td>\n",
              "      <td>Robert Galvin: PER</td>\n",
              "    </tr>\n",
              "    <tr>\n",
              "      <th>450</th>\n",
              "      <td>robustness</td>\n",
              "      <td>uppercase</td>\n",
              "      <td>MELBOURNE 1996-12-06</td>\n",
              "      <td>MELBOURNE 1996-12-06</td>\n",
              "      <td>MELBOURNE: LOC</td>\n",
              "    </tr>\n",
              "    <tr>\n",
              "      <th>451</th>\n",
              "      <td>robustness</td>\n",
              "      <td>uppercase</td>\n",
              "      <td>Australia gave Brian Lara another reason to be...</td>\n",
              "      <td>AUSTRALIA GAVE BRIAN LARA ANOTHER REASON TO BE...</td>\n",
              "      <td>Australia: LOC, Brian Lara: PER, West Indies: ...</td>\n",
              "    </tr>\n",
              "  </tbody>\n",
              "</table>\n",
              "<p>452 rows × 5 columns</p>\n",
              "</div>\n",
              "      <button class=\"colab-df-convert\" onclick=\"convertToInteractive('df-dd6469a3-030c-4347-a983-3386069e3811')\"\n",
              "              title=\"Convert this dataframe to an interactive table.\"\n",
              "              style=\"display:none;\">\n",
              "        \n",
              "  <svg xmlns=\"http://www.w3.org/2000/svg\" height=\"24px\"viewBox=\"0 0 24 24\"\n",
              "       width=\"24px\">\n",
              "    <path d=\"M0 0h24v24H0V0z\" fill=\"none\"/>\n",
              "    <path d=\"M18.56 5.44l.94 2.06.94-2.06 2.06-.94-2.06-.94-.94-2.06-.94 2.06-2.06.94zm-11 1L8.5 8.5l.94-2.06 2.06-.94-2.06-.94L8.5 2.5l-.94 2.06-2.06.94zm10 10l.94 2.06.94-2.06 2.06-.94-2.06-.94-.94-2.06-.94 2.06-2.06.94z\"/><path d=\"M17.41 7.96l-1.37-1.37c-.4-.4-.92-.59-1.43-.59-.52 0-1.04.2-1.43.59L10.3 9.45l-7.72 7.72c-.78.78-.78 2.05 0 2.83L4 21.41c.39.39.9.59 1.41.59.51 0 1.02-.2 1.41-.59l7.78-7.78 2.81-2.81c.8-.78.8-2.07 0-2.86zM5.41 20L4 18.59l7.72-7.72 1.47 1.35L5.41 20z\"/>\n",
              "  </svg>\n",
              "      </button>\n",
              "      \n",
              "  <style>\n",
              "    .colab-df-container {\n",
              "      display:flex;\n",
              "      flex-wrap:wrap;\n",
              "      gap: 12px;\n",
              "    }\n",
              "\n",
              "    .colab-df-convert {\n",
              "      background-color: #E8F0FE;\n",
              "      border: none;\n",
              "      border-radius: 50%;\n",
              "      cursor: pointer;\n",
              "      display: none;\n",
              "      fill: #1967D2;\n",
              "      height: 32px;\n",
              "      padding: 0 0 0 0;\n",
              "      width: 32px;\n",
              "    }\n",
              "\n",
              "    .colab-df-convert:hover {\n",
              "      background-color: #E2EBFA;\n",
              "      box-shadow: 0px 1px 2px rgba(60, 64, 67, 0.3), 0px 1px 3px 1px rgba(60, 64, 67, 0.15);\n",
              "      fill: #174EA6;\n",
              "    }\n",
              "\n",
              "    [theme=dark] .colab-df-convert {\n",
              "      background-color: #3B4455;\n",
              "      fill: #D2E3FC;\n",
              "    }\n",
              "\n",
              "    [theme=dark] .colab-df-convert:hover {\n",
              "      background-color: #434B5C;\n",
              "      box-shadow: 0px 1px 3px 1px rgba(0, 0, 0, 0.15);\n",
              "      filter: drop-shadow(0px 1px 2px rgba(0, 0, 0, 0.3));\n",
              "      fill: #FFFFFF;\n",
              "    }\n",
              "  </style>\n",
              "\n",
              "      <script>\n",
              "        const buttonEl =\n",
              "          document.querySelector('#df-dd6469a3-030c-4347-a983-3386069e3811 button.colab-df-convert');\n",
              "        buttonEl.style.display =\n",
              "          google.colab.kernel.accessAllowed ? 'block' : 'none';\n",
              "\n",
              "        async function convertToInteractive(key) {\n",
              "          const element = document.querySelector('#df-dd6469a3-030c-4347-a983-3386069e3811');\n",
              "          const dataTable =\n",
              "            await google.colab.kernel.invokeFunction('convertToInteractive',\n",
              "                                                     [key], {});\n",
              "          if (!dataTable) return;\n",
              "\n",
              "          const docLinkHtml = 'Like what you see? Visit the ' +\n",
              "            '<a target=\"_blank\" href=https://colab.research.google.com/notebooks/data_table.ipynb>data table notebook</a>'\n",
              "            + ' to learn more about interactive tables.';\n",
              "          element.innerHTML = '';\n",
              "          dataTable['output_type'] = 'display_data';\n",
              "          await google.colab.output.renderOutput(dataTable, element);\n",
              "          const docLink = document.createElement('div');\n",
              "          docLink.innerHTML = docLinkHtml;\n",
              "          element.appendChild(docLink);\n",
              "        }\n",
              "      </script>\n",
              "    </div>\n",
              "  </div>\n",
              "  "
            ],
            "text/plain": [
              "       category  test_type                                           original  \\\n",
              "0    robustness  lowercase  SOCCER - JAPAN GET LUCKY WIN , CHINA IN SURPRI...   \n",
              "1    robustness  lowercase                                        Nadim Ladki   \n",
              "2    robustness  lowercase           AL-AIN , United Arab Emirates 1996-12-06   \n",
              "3    robustness  lowercase  Japan began the defence of their Asian Cup tit...   \n",
              "4    robustness  lowercase  But China saw their luck desert them in the se...   \n",
              "..          ...        ...                                                ...   \n",
              "447  robustness  uppercase                    Portuguesa 1 Atletico Mineiro 0   \n",
              "448  robustness  uppercase     CRICKET - LARA ENDURES ANOTHER MISERABLE DAY .   \n",
              "449  robustness  uppercase                                      Robert Galvin   \n",
              "450  robustness  uppercase                               MELBOURNE 1996-12-06   \n",
              "451  robustness  uppercase  Australia gave Brian Lara another reason to be...   \n",
              "\n",
              "                                             test_case  \\\n",
              "0    soccer - japan get lucky win , china in surpri...   \n",
              "1                                          nadim ladki   \n",
              "2             al-ain , united arab emirates 1996-12-06   \n",
              "3    japan began the defence of their asian cup tit...   \n",
              "4    but china saw their luck desert them in the se...   \n",
              "..                                                 ...   \n",
              "447                    PORTUGUESA 1 ATLETICO MINEIRO 0   \n",
              "448     CRICKET - LARA ENDURES ANOTHER MISERABLE DAY .   \n",
              "449                                      ROBERT GALVIN   \n",
              "450                               MELBOURNE 1996-12-06   \n",
              "451  AUSTRALIA GAVE BRIAN LARA ANOTHER REASON TO BE...   \n",
              "\n",
              "                                       expected_result  \n",
              "0                               JAPAN: LOC, CHINA: LOC  \n",
              "1                                     Nadim Ladki: PER  \n",
              "2               AL-AIN: LOC, United Arab Emirates: ORG  \n",
              "3    Japan: LOC, Asian Cup: MISC, Syria: LOC, Group...  \n",
              "4                          China: LOC, Uzbekistan: LOC  \n",
              "..                                                 ...  \n",
              "447             Portuguesa: ORG, Atletico Mineiro: ORG  \n",
              "448                                          LARA: PER  \n",
              "449                                 Robert Galvin: PER  \n",
              "450                                     MELBOURNE: LOC  \n",
              "451  Australia: LOC, Brian Lara: PER, West Indies: ...  \n",
              "\n",
              "[452 rows x 5 columns]"
            ]
          },
          "execution_count": 13,
          "metadata": {},
          "output_type": "execute_result"
        }
      ],
      "source": [
        "harness.testcases()"
      ]
    },
    {
      "cell_type": "markdown",
      "metadata": {
        "id": "NOJ8BAU2GGzd"
      },
      "source": [
        "harness.testcases() method gives the produced test cases in form of a pandas data frame."
      ]
    },
    {
      "cell_type": "markdown",
      "metadata": {
        "id": "43BjJGYoGKKS"
      },
      "source": [
        "#### Saving test configurations, data, test cases"
      ]
    },
    {
      "cell_type": "code",
      "execution_count": null,
      "metadata": {
        "id": "XYIMxVN8GFGH"
      },
      "outputs": [],
      "source": [
        "harness.save(\"saved_test_configurations\")"
      ]
    },
    {
      "cell_type": "markdown",
      "metadata": {
        "id": "3CwhQw6hGR9S"
      },
      "source": [
        "#### Running the tests"
      ]
    },
    {
      "cell_type": "code",
      "execution_count": null,
      "metadata": {
        "colab": {
          "base_uri": "https://localhost:8080/"
        },
        "id": "aguX6-aFGOnP",
        "outputId": "2193c5dc-ff36-4e2a-ee0b-af0d0279da9c"
      },
      "outputs": [
        {
          "name": "stderr",
          "output_type": "stream",
          "text": [
            "Running test cases...: 100%|██████████| 452/452 [00:59<00:00,  7.64it/s]\n"
          ]
        },
        {
          "data": {
            "text/plain": []
          },
          "execution_count": 15,
          "metadata": {},
          "output_type": "execute_result"
        }
      ],
      "source": [
        "harness.run()"
      ]
    },
    {
      "cell_type": "markdown",
      "metadata": {
        "id": "191O2oaUGWrH"
      },
      "source": [
        "Called after harness.generate() and is to used to run all the tests.  Returns a pass/fail flag for each test."
      ]
    },
    {
      "cell_type": "code",
      "execution_count": null,
      "metadata": {
        "colab": {
          "base_uri": "https://localhost:8080/",
          "height": 519
        },
        "id": "-cXkdnihGYke",
        "outputId": "22a49365-63c0-4703-fc82-b0563e23f11e"
      },
      "outputs": [
        {
          "data": {
            "text/html": [
              "\n",
              "  <div id=\"df-73e42868-e56b-4c1d-858c-c91c678d2511\">\n",
              "    <div class=\"colab-df-container\">\n",
              "      <div>\n",
              "<style scoped>\n",
              "    .dataframe tbody tr th:only-of-type {\n",
              "        vertical-align: middle;\n",
              "    }\n",
              "\n",
              "    .dataframe tbody tr th {\n",
              "        vertical-align: top;\n",
              "    }\n",
              "\n",
              "    .dataframe thead th {\n",
              "        text-align: right;\n",
              "    }\n",
              "</style>\n",
              "<table border=\"1\" class=\"dataframe\">\n",
              "  <thead>\n",
              "    <tr style=\"text-align: right;\">\n",
              "      <th></th>\n",
              "      <th>category</th>\n",
              "      <th>test_type</th>\n",
              "      <th>original</th>\n",
              "      <th>test_case</th>\n",
              "      <th>expected_result</th>\n",
              "      <th>actual_result</th>\n",
              "      <th>pass</th>\n",
              "    </tr>\n",
              "  </thead>\n",
              "  <tbody>\n",
              "    <tr>\n",
              "      <th>0</th>\n",
              "      <td>robustness</td>\n",
              "      <td>lowercase</td>\n",
              "      <td>SOCCER - JAPAN GET LUCKY WIN , CHINA IN SURPRI...</td>\n",
              "      <td>soccer - japan get lucky win , china in surpri...</td>\n",
              "      <td>JAPAN: LOC, CHINA: LOC</td>\n",
              "      <td></td>\n",
              "      <td>False</td>\n",
              "    </tr>\n",
              "    <tr>\n",
              "      <th>1</th>\n",
              "      <td>robustness</td>\n",
              "      <td>lowercase</td>\n",
              "      <td>Nadim Ladki</td>\n",
              "      <td>nadim ladki</td>\n",
              "      <td>Nadim Ladki: PER</td>\n",
              "      <td></td>\n",
              "      <td>False</td>\n",
              "    </tr>\n",
              "    <tr>\n",
              "      <th>2</th>\n",
              "      <td>robustness</td>\n",
              "      <td>lowercase</td>\n",
              "      <td>AL-AIN , United Arab Emirates 1996-12-06</td>\n",
              "      <td>al-ain , united arab emirates 1996-12-06</td>\n",
              "      <td>AL-AIN: LOC, United Arab Emirates: ORG</td>\n",
              "      <td>al-ain: LOC</td>\n",
              "      <td>False</td>\n",
              "    </tr>\n",
              "    <tr>\n",
              "      <th>3</th>\n",
              "      <td>robustness</td>\n",
              "      <td>lowercase</td>\n",
              "      <td>Japan began the defence of their Asian Cup tit...</td>\n",
              "      <td>japan began the defence of their asian cup tit...</td>\n",
              "      <td>Japan: LOC, Asian Cup: MISC, Syria: LOC, Group...</td>\n",
              "      <td>asian: MISC</td>\n",
              "      <td>False</td>\n",
              "    </tr>\n",
              "    <tr>\n",
              "      <th>4</th>\n",
              "      <td>robustness</td>\n",
              "      <td>lowercase</td>\n",
              "      <td>But China saw their luck desert them in the se...</td>\n",
              "      <td>but china saw their luck desert them in the se...</td>\n",
              "      <td>China: LOC, Uzbekistan: LOC</td>\n",
              "      <td></td>\n",
              "      <td>False</td>\n",
              "    </tr>\n",
              "    <tr>\n",
              "      <th>...</th>\n",
              "      <td>...</td>\n",
              "      <td>...</td>\n",
              "      <td>...</td>\n",
              "      <td>...</td>\n",
              "      <td>...</td>\n",
              "      <td>...</td>\n",
              "      <td>...</td>\n",
              "    </tr>\n",
              "    <tr>\n",
              "      <th>447</th>\n",
              "      <td>robustness</td>\n",
              "      <td>uppercase</td>\n",
              "      <td>Portuguesa 1 Atletico Mineiro 0</td>\n",
              "      <td>PORTUGUESA 1 ATLETICO MINEIRO 0</td>\n",
              "      <td>Portuguesa: ORG, Atletico Mineiro: ORG</td>\n",
              "      <td>PORTUGUESA: ORG, ATLETICO MINEIRO: ORG</td>\n",
              "      <td>True</td>\n",
              "    </tr>\n",
              "    <tr>\n",
              "      <th>448</th>\n",
              "      <td>robustness</td>\n",
              "      <td>uppercase</td>\n",
              "      <td>CRICKET - LARA ENDURES ANOTHER MISERABLE DAY .</td>\n",
              "      <td>CRICKET - LARA ENDURES ANOTHER MISERABLE DAY .</td>\n",
              "      <td>LARA: PER</td>\n",
              "      <td>LARA: PER</td>\n",
              "      <td>True</td>\n",
              "    </tr>\n",
              "    <tr>\n",
              "      <th>449</th>\n",
              "      <td>robustness</td>\n",
              "      <td>uppercase</td>\n",
              "      <td>Robert Galvin</td>\n",
              "      <td>ROBERT GALVIN</td>\n",
              "      <td>Robert Galvin: PER</td>\n",
              "      <td>ROBERT GALVIN: PER</td>\n",
              "      <td>True</td>\n",
              "    </tr>\n",
              "    <tr>\n",
              "      <th>450</th>\n",
              "      <td>robustness</td>\n",
              "      <td>uppercase</td>\n",
              "      <td>MELBOURNE 1996-12-06</td>\n",
              "      <td>MELBOURNE 1996-12-06</td>\n",
              "      <td>MELBOURNE: LOC</td>\n",
              "      <td>MELBOURNE: LOC</td>\n",
              "      <td>True</td>\n",
              "    </tr>\n",
              "    <tr>\n",
              "      <th>451</th>\n",
              "      <td>robustness</td>\n",
              "      <td>uppercase</td>\n",
              "      <td>Australia gave Brian Lara another reason to be...</td>\n",
              "      <td>AUSTRALIA GAVE BRIAN LARA ANOTHER REASON TO BE...</td>\n",
              "      <td>Australia: LOC, Brian Lara: PER, West Indies: ...</td>\n",
              "      <td>AUSTRALIA: LOC, BRIAN LARA: PER, WEST: LOC</td>\n",
              "      <td>False</td>\n",
              "    </tr>\n",
              "  </tbody>\n",
              "</table>\n",
              "<p>452 rows × 7 columns</p>\n",
              "</div>\n",
              "      <button class=\"colab-df-convert\" onclick=\"convertToInteractive('df-73e42868-e56b-4c1d-858c-c91c678d2511')\"\n",
              "              title=\"Convert this dataframe to an interactive table.\"\n",
              "              style=\"display:none;\">\n",
              "        \n",
              "  <svg xmlns=\"http://www.w3.org/2000/svg\" height=\"24px\"viewBox=\"0 0 24 24\"\n",
              "       width=\"24px\">\n",
              "    <path d=\"M0 0h24v24H0V0z\" fill=\"none\"/>\n",
              "    <path d=\"M18.56 5.44l.94 2.06.94-2.06 2.06-.94-2.06-.94-.94-2.06-.94 2.06-2.06.94zm-11 1L8.5 8.5l.94-2.06 2.06-.94-2.06-.94L8.5 2.5l-.94 2.06-2.06.94zm10 10l.94 2.06.94-2.06 2.06-.94-2.06-.94-.94-2.06-.94 2.06-2.06.94z\"/><path d=\"M17.41 7.96l-1.37-1.37c-.4-.4-.92-.59-1.43-.59-.52 0-1.04.2-1.43.59L10.3 9.45l-7.72 7.72c-.78.78-.78 2.05 0 2.83L4 21.41c.39.39.9.59 1.41.59.51 0 1.02-.2 1.41-.59l7.78-7.78 2.81-2.81c.8-.78.8-2.07 0-2.86zM5.41 20L4 18.59l7.72-7.72 1.47 1.35L5.41 20z\"/>\n",
              "  </svg>\n",
              "      </button>\n",
              "      \n",
              "  <style>\n",
              "    .colab-df-container {\n",
              "      display:flex;\n",
              "      flex-wrap:wrap;\n",
              "      gap: 12px;\n",
              "    }\n",
              "\n",
              "    .colab-df-convert {\n",
              "      background-color: #E8F0FE;\n",
              "      border: none;\n",
              "      border-radius: 50%;\n",
              "      cursor: pointer;\n",
              "      display: none;\n",
              "      fill: #1967D2;\n",
              "      height: 32px;\n",
              "      padding: 0 0 0 0;\n",
              "      width: 32px;\n",
              "    }\n",
              "\n",
              "    .colab-df-convert:hover {\n",
              "      background-color: #E2EBFA;\n",
              "      box-shadow: 0px 1px 2px rgba(60, 64, 67, 0.3), 0px 1px 3px 1px rgba(60, 64, 67, 0.15);\n",
              "      fill: #174EA6;\n",
              "    }\n",
              "\n",
              "    [theme=dark] .colab-df-convert {\n",
              "      background-color: #3B4455;\n",
              "      fill: #D2E3FC;\n",
              "    }\n",
              "\n",
              "    [theme=dark] .colab-df-convert:hover {\n",
              "      background-color: #434B5C;\n",
              "      box-shadow: 0px 1px 3px 1px rgba(0, 0, 0, 0.15);\n",
              "      filter: drop-shadow(0px 1px 2px rgba(0, 0, 0, 0.3));\n",
              "      fill: #FFFFFF;\n",
              "    }\n",
              "  </style>\n",
              "\n",
              "      <script>\n",
              "        const buttonEl =\n",
              "          document.querySelector('#df-73e42868-e56b-4c1d-858c-c91c678d2511 button.colab-df-convert');\n",
              "        buttonEl.style.display =\n",
              "          google.colab.kernel.accessAllowed ? 'block' : 'none';\n",
              "\n",
              "        async function convertToInteractive(key) {\n",
              "          const element = document.querySelector('#df-73e42868-e56b-4c1d-858c-c91c678d2511');\n",
              "          const dataTable =\n",
              "            await google.colab.kernel.invokeFunction('convertToInteractive',\n",
              "                                                     [key], {});\n",
              "          if (!dataTable) return;\n",
              "\n",
              "          const docLinkHtml = 'Like what you see? Visit the ' +\n",
              "            '<a target=\"_blank\" href=https://colab.research.google.com/notebooks/data_table.ipynb>data table notebook</a>'\n",
              "            + ' to learn more about interactive tables.';\n",
              "          element.innerHTML = '';\n",
              "          dataTable['output_type'] = 'display_data';\n",
              "          await google.colab.output.renderOutput(dataTable, element);\n",
              "          const docLink = document.createElement('div');\n",
              "          docLink.innerHTML = docLinkHtml;\n",
              "          element.appendChild(docLink);\n",
              "        }\n",
              "      </script>\n",
              "    </div>\n",
              "  </div>\n",
              "  "
            ],
            "text/plain": [
              "       category  test_type                                           original  \\\n",
              "0    robustness  lowercase  SOCCER - JAPAN GET LUCKY WIN , CHINA IN SURPRI...   \n",
              "1    robustness  lowercase                                        Nadim Ladki   \n",
              "2    robustness  lowercase           AL-AIN , United Arab Emirates 1996-12-06   \n",
              "3    robustness  lowercase  Japan began the defence of their Asian Cup tit...   \n",
              "4    robustness  lowercase  But China saw their luck desert them in the se...   \n",
              "..          ...        ...                                                ...   \n",
              "447  robustness  uppercase                    Portuguesa 1 Atletico Mineiro 0   \n",
              "448  robustness  uppercase     CRICKET - LARA ENDURES ANOTHER MISERABLE DAY .   \n",
              "449  robustness  uppercase                                      Robert Galvin   \n",
              "450  robustness  uppercase                               MELBOURNE 1996-12-06   \n",
              "451  robustness  uppercase  Australia gave Brian Lara another reason to be...   \n",
              "\n",
              "                                             test_case  \\\n",
              "0    soccer - japan get lucky win , china in surpri...   \n",
              "1                                          nadim ladki   \n",
              "2             al-ain , united arab emirates 1996-12-06   \n",
              "3    japan began the defence of their asian cup tit...   \n",
              "4    but china saw their luck desert them in the se...   \n",
              "..                                                 ...   \n",
              "447                    PORTUGUESA 1 ATLETICO MINEIRO 0   \n",
              "448     CRICKET - LARA ENDURES ANOTHER MISERABLE DAY .   \n",
              "449                                      ROBERT GALVIN   \n",
              "450                               MELBOURNE 1996-12-06   \n",
              "451  AUSTRALIA GAVE BRIAN LARA ANOTHER REASON TO BE...   \n",
              "\n",
              "                                       expected_result  \\\n",
              "0                               JAPAN: LOC, CHINA: LOC   \n",
              "1                                     Nadim Ladki: PER   \n",
              "2               AL-AIN: LOC, United Arab Emirates: ORG   \n",
              "3    Japan: LOC, Asian Cup: MISC, Syria: LOC, Group...   \n",
              "4                          China: LOC, Uzbekistan: LOC   \n",
              "..                                                 ...   \n",
              "447             Portuguesa: ORG, Atletico Mineiro: ORG   \n",
              "448                                          LARA: PER   \n",
              "449                                 Robert Galvin: PER   \n",
              "450                                     MELBOURNE: LOC   \n",
              "451  Australia: LOC, Brian Lara: PER, West Indies: ...   \n",
              "\n",
              "                                  actual_result   pass  \n",
              "0                                                False  \n",
              "1                                                False  \n",
              "2                                   al-ain: LOC  False  \n",
              "3                                   asian: MISC  False  \n",
              "4                                                False  \n",
              "..                                          ...    ...  \n",
              "447      PORTUGUESA: ORG, ATLETICO MINEIRO: ORG   True  \n",
              "448                                   LARA: PER   True  \n",
              "449                          ROBERT GALVIN: PER   True  \n",
              "450                              MELBOURNE: LOC   True  \n",
              "451  AUSTRALIA: LOC, BRIAN LARA: PER, WEST: LOC  False  \n",
              "\n",
              "[452 rows x 7 columns]"
            ]
          },
          "execution_count": 16,
          "metadata": {},
          "output_type": "execute_result"
        }
      ],
      "source": [
        "harness.generated_results()"
      ]
    },
    {
      "cell_type": "markdown",
      "metadata": {
        "id": "TKB8Rsr2GZME"
      },
      "source": [
        "This method returns the generated results in the form of a pandas dataframe, which provides a convenient and easy-to-use format for working with the test results. You can use this method to quickly identify the test cases that failed and to determine where fixes are needed."
      ]
    },
    {
      "cell_type": "code",
      "execution_count": null,
      "metadata": {
        "colab": {
          "base_uri": "https://localhost:8080/",
          "height": 112
        },
        "id": "gp57HcF9yxi7",
        "outputId": "81e7bfad-c92c-4f06-8238-e84eb61be5c6"
      },
      "outputs": [
        {
          "data": {
            "text/html": [
              "\n",
              "  <div id=\"df-4c941064-c257-4505-b67a-3b9525265555\">\n",
              "    <div class=\"colab-df-container\">\n",
              "      <div>\n",
              "<style scoped>\n",
              "    .dataframe tbody tr th:only-of-type {\n",
              "        vertical-align: middle;\n",
              "    }\n",
              "\n",
              "    .dataframe tbody tr th {\n",
              "        vertical-align: top;\n",
              "    }\n",
              "\n",
              "    .dataframe thead th {\n",
              "        text-align: right;\n",
              "    }\n",
              "</style>\n",
              "<table border=\"1\" class=\"dataframe\">\n",
              "  <thead>\n",
              "    <tr style=\"text-align: right;\">\n",
              "      <th></th>\n",
              "      <th>category</th>\n",
              "      <th>test_type</th>\n",
              "      <th>fail_count</th>\n",
              "      <th>pass_count</th>\n",
              "      <th>pass_rate</th>\n",
              "      <th>minimum_pass_rate</th>\n",
              "      <th>pass</th>\n",
              "    </tr>\n",
              "  </thead>\n",
              "  <tbody>\n",
              "    <tr>\n",
              "      <th>0</th>\n",
              "      <td>robustness</td>\n",
              "      <td>lowercase</td>\n",
              "      <td>198</td>\n",
              "      <td>28</td>\n",
              "      <td>12%</td>\n",
              "      <td>60%</td>\n",
              "      <td>False</td>\n",
              "    </tr>\n",
              "    <tr>\n",
              "      <th>1</th>\n",
              "      <td>robustness</td>\n",
              "      <td>uppercase</td>\n",
              "      <td>83</td>\n",
              "      <td>143</td>\n",
              "      <td>63%</td>\n",
              "      <td>60%</td>\n",
              "      <td>True</td>\n",
              "    </tr>\n",
              "  </tbody>\n",
              "</table>\n",
              "</div>\n",
              "      <button class=\"colab-df-convert\" onclick=\"convertToInteractive('df-4c941064-c257-4505-b67a-3b9525265555')\"\n",
              "              title=\"Convert this dataframe to an interactive table.\"\n",
              "              style=\"display:none;\">\n",
              "        \n",
              "  <svg xmlns=\"http://www.w3.org/2000/svg\" height=\"24px\"viewBox=\"0 0 24 24\"\n",
              "       width=\"24px\">\n",
              "    <path d=\"M0 0h24v24H0V0z\" fill=\"none\"/>\n",
              "    <path d=\"M18.56 5.44l.94 2.06.94-2.06 2.06-.94-2.06-.94-.94-2.06-.94 2.06-2.06.94zm-11 1L8.5 8.5l.94-2.06 2.06-.94-2.06-.94L8.5 2.5l-.94 2.06-2.06.94zm10 10l.94 2.06.94-2.06 2.06-.94-2.06-.94-.94-2.06-.94 2.06-2.06.94z\"/><path d=\"M17.41 7.96l-1.37-1.37c-.4-.4-.92-.59-1.43-.59-.52 0-1.04.2-1.43.59L10.3 9.45l-7.72 7.72c-.78.78-.78 2.05 0 2.83L4 21.41c.39.39.9.59 1.41.59.51 0 1.02-.2 1.41-.59l7.78-7.78 2.81-2.81c.8-.78.8-2.07 0-2.86zM5.41 20L4 18.59l7.72-7.72 1.47 1.35L5.41 20z\"/>\n",
              "  </svg>\n",
              "      </button>\n",
              "      \n",
              "  <style>\n",
              "    .colab-df-container {\n",
              "      display:flex;\n",
              "      flex-wrap:wrap;\n",
              "      gap: 12px;\n",
              "    }\n",
              "\n",
              "    .colab-df-convert {\n",
              "      background-color: #E8F0FE;\n",
              "      border: none;\n",
              "      border-radius: 50%;\n",
              "      cursor: pointer;\n",
              "      display: none;\n",
              "      fill: #1967D2;\n",
              "      height: 32px;\n",
              "      padding: 0 0 0 0;\n",
              "      width: 32px;\n",
              "    }\n",
              "\n",
              "    .colab-df-convert:hover {\n",
              "      background-color: #E2EBFA;\n",
              "      box-shadow: 0px 1px 2px rgba(60, 64, 67, 0.3), 0px 1px 3px 1px rgba(60, 64, 67, 0.15);\n",
              "      fill: #174EA6;\n",
              "    }\n",
              "\n",
              "    [theme=dark] .colab-df-convert {\n",
              "      background-color: #3B4455;\n",
              "      fill: #D2E3FC;\n",
              "    }\n",
              "\n",
              "    [theme=dark] .colab-df-convert:hover {\n",
              "      background-color: #434B5C;\n",
              "      box-shadow: 0px 1px 3px 1px rgba(0, 0, 0, 0.15);\n",
              "      filter: drop-shadow(0px 1px 2px rgba(0, 0, 0, 0.3));\n",
              "      fill: #FFFFFF;\n",
              "    }\n",
              "  </style>\n",
              "\n",
              "      <script>\n",
              "        const buttonEl =\n",
              "          document.querySelector('#df-4c941064-c257-4505-b67a-3b9525265555 button.colab-df-convert');\n",
              "        buttonEl.style.display =\n",
              "          google.colab.kernel.accessAllowed ? 'block' : 'none';\n",
              "\n",
              "        async function convertToInteractive(key) {\n",
              "          const element = document.querySelector('#df-4c941064-c257-4505-b67a-3b9525265555');\n",
              "          const dataTable =\n",
              "            await google.colab.kernel.invokeFunction('convertToInteractive',\n",
              "                                                     [key], {});\n",
              "          if (!dataTable) return;\n",
              "\n",
              "          const docLinkHtml = 'Like what you see? Visit the ' +\n",
              "            '<a target=\"_blank\" href=https://colab.research.google.com/notebooks/data_table.ipynb>data table notebook</a>'\n",
              "            + ' to learn more about interactive tables.';\n",
              "          element.innerHTML = '';\n",
              "          dataTable['output_type'] = 'display_data';\n",
              "          await google.colab.output.renderOutput(dataTable, element);\n",
              "          const docLink = document.createElement('div');\n",
              "          docLink.innerHTML = docLinkHtml;\n",
              "          element.appendChild(docLink);\n",
              "        }\n",
              "      </script>\n",
              "    </div>\n",
              "  </div>\n",
              "  "
            ],
            "text/plain": [
              "     category  test_type  fail_count  pass_count pass_rate minimum_pass_rate  \\\n",
              "0  robustness  lowercase         198          28       12%               60%   \n",
              "1  robustness  uppercase          83         143       63%               60%   \n",
              "\n",
              "    pass  \n",
              "0  False  \n",
              "1   True  "
            ]
          },
          "execution_count": 17,
          "metadata": {},
          "output_type": "execute_result"
        }
      ],
      "source": [
        "harness.report()"
      ]
    },
    {
      "cell_type": "markdown",
      "metadata": {
        "id": "7rpJ3QbPinkT"
      },
      "source": [
        "It summarizes the results giving information about pass and fail counts and overall test pass/fail flag."
      ]
    },
    {
      "cell_type": "markdown",
      "metadata": {
        "id": "3g-s1Gikv65h"
      },
      "source": [
        "#### Step 3: Augment CoNLL Training Set Based on Robustness Test Results"
      ]
    },
    {
      "cell_type": "code",
      "execution_count": null,
      "metadata": {
        "colab": {
          "base_uri": "https://localhost:8080/"
        },
        "id": "EBTz4Fqev7xX",
        "outputId": "5b875459-f082-46f2-afe1-6bdf6ed7664e"
      },
      "outputs": [
        {
          "data": {
            "text/plain": []
          },
          "execution_count": 18,
          "metadata": {},
          "output_type": "execute_result"
        }
      ],
      "source": [
        "data_kwargs = {\n",
        "      \"data_source\" : \"conll03.conll\",\n",
        "       }\n",
        "\n",
        "harness.augment(training_data=data_kwargs, save_data_path=\"augmented_train.conll\", export_mode=\"add\")"
      ]
    },
    {
      "cell_type": "markdown",
      "metadata": {
        "id": "O2HL6Gip0ST0"
      },
      "source": [
        "Essentially it applies perturbations to the input data based on the recommendations from the harness reports. Then this augmented_dataset is used to retrain the original model so as to make the model more robust and improve its performance."
      ]
    },
    {
      "cell_type": "markdown",
      "metadata": {
        "id": "z4aCF0kYwL4w"
      },
      "source": [
        "#### Step 4: Train New NER Model on Augmented CoNLL"
      ]
    },
    {
      "cell_type": "code",
      "execution_count": null,
      "metadata": {
        "colab": {
          "base_uri": "https://localhost:8080/"
        },
        "id": "gYvrpfGawJyw",
        "outputId": "14225658-8c5d-43a6-bb25-79a9f3c86e95"
      },
      "outputs": [
        {
          "name": "stdout",
          "output_type": "stream",
          "text": [
            "glove_100d download started this may take some time.\n",
            "Approximate size to download 145.3 MB\n",
            "[OK!]\n"
          ]
        }
      ],
      "source": [
        "embeddings = nlp.WordEmbeddingsModel.pretrained('glove_100d') \\\n",
        "\t\t.setInputCols([\"document\", 'token']) \\\n",
        "\t\t.setOutputCol(\"embeddings\")\n",
        "\n",
        "nerTagger = nlp.NerDLApproach()\\\n",
        "    .setInputCols([\"document\", \"token\", \"embeddings\"])\\\n",
        "    .setLabelColumn(\"label\")\\\n",
        "    .setOutputCol(\"ner\")\\\n",
        "    .setMaxEpochs(20)\\\n",
        "    .setBatchSize(64)\\\n",
        "    .setRandomSeed(0)\\\n",
        "    .setVerbose(1)\\\n",
        "    .setValidationSplit(0)\\\n",
        "    .setEvaluationLogExtended(True) \\\n",
        "    .setEnableOutputLogs(True)\\\n",
        "    .setIncludeConfidence(True)\\\n",
        "    .setOutputLogsPath('ner_logs')\n",
        "\n",
        "training_pipeline = nlp.Pipeline(stages=[\n",
        "          embeddings,\n",
        "          nerTagger\n",
        " ])\n",
        "\n",
        "\n",
        "conll_data = nlp.CoNLL().readDataset(spark, 'augmented_train.conll')\n",
        "\n",
        "ner_model = training_pipeline.fit(conll_data)\n",
        "\n",
        "ner_model.stages[-1].write().overwrite().save('models/augmented_ner_model')"
      ]
    },
    {
      "cell_type": "code",
      "execution_count": null,
      "metadata": {
        "colab": {
          "base_uri": "https://localhost:8080/"
        },
        "id": "nXhwYd8GwWho",
        "outputId": "7c082ae7-765c-4b35-dc1c-dcf0cb26ff4b"
      },
      "outputs": [
        {
          "name": "stdout",
          "output_type": "stream",
          "text": [
            "  adding: models/augmented_ner_model/ (stored 0%)\n",
            "  adding: models/augmented_ner_model/metadata/ (stored 0%)\n",
            "  adding: models/augmented_ner_model/metadata/part-00000 (deflated 44%)\n",
            "  adding: models/augmented_ner_model/metadata/.part-00000.crc (stored 0%)\n",
            "  adding: models/augmented_ner_model/metadata/_SUCCESS (stored 0%)\n",
            "  adding: models/augmented_ner_model/metadata/._SUCCESS.crc (stored 0%)\n",
            "  adding: models/augmented_ner_model/.tensorflow.crc (deflated 0%)\n",
            "  adding: models/augmented_ner_model/tensorflow (deflated 16%)\n",
            "  adding: models/augmented_ner_model/fields/ (stored 0%)\n",
            "  adding: models/augmented_ner_model/fields/datasetParams/ (stored 0%)\n",
            "  adding: models/augmented_ner_model/fields/datasetParams/part-00001 (deflated 75%)\n",
            "  adding: models/augmented_ner_model/fields/datasetParams/.part-00001.crc (stored 0%)\n",
            "  adding: models/augmented_ner_model/fields/datasetParams/part-00000 (deflated 26%)\n",
            "  adding: models/augmented_ner_model/fields/datasetParams/.part-00000.crc (stored 0%)\n",
            "  adding: models/augmented_ner_model/fields/datasetParams/_SUCCESS (stored 0%)\n",
            "  adding: models/augmented_ner_model/fields/datasetParams/._SUCCESS.crc (stored 0%)\n"
          ]
        }
      ],
      "source": [
        "!zip -r augmented_ner_model.zip models/augmented_ner_model"
      ]
    },
    {
      "cell_type": "code",
      "execution_count": null,
      "metadata": {
        "colab": {
          "base_uri": "https://localhost:8080/"
        },
        "id": "G35M1IqBwZQI",
        "outputId": "3beed28c-6434-41c1-9d59-3505865dd9b9"
      },
      "outputs": [
        {
          "name": "stdout",
          "output_type": "stream",
          "text": [
            "Archive:  augmented_ner_model.zip\n",
            "replace models/augmented_ner_model/metadata/part-00000? [y]es, [n]o, [A]ll, [N]one, [r]ename: A\n",
            "  inflating: models/augmented_ner_model/metadata/part-00000  \n",
            " extracting: models/augmented_ner_model/metadata/.part-00000.crc  \n",
            " extracting: models/augmented_ner_model/metadata/_SUCCESS  \n",
            " extracting: models/augmented_ner_model/metadata/._SUCCESS.crc  \n",
            "  inflating: models/augmented_ner_model/.tensorflow.crc  \n",
            "  inflating: models/augmented_ner_model/tensorflow  \n",
            "  inflating: models/augmented_ner_model/fields/datasetParams/part-00001  \n",
            " extracting: models/augmented_ner_model/fields/datasetParams/.part-00001.crc  \n",
            "  inflating: models/augmented_ner_model/fields/datasetParams/part-00000  \n",
            " extracting: models/augmented_ner_model/fields/datasetParams/.part-00000.crc  \n",
            " extracting: models/augmented_ner_model/fields/datasetParams/_SUCCESS  \n",
            " extracting: models/augmented_ner_model/fields/datasetParams/._SUCCESS.crc  \n"
          ]
        }
      ],
      "source": [
        "!unzip augmented_ner_model.zip"
      ]
    },
    {
      "cell_type": "code",
      "execution_count": null,
      "metadata": {
        "colab": {
          "base_uri": "https://localhost:8080/"
        },
        "id": "TbhBigz1wqCl",
        "outputId": "b01f39b9-c417-4e1b-9df6-385e52aaf56a"
      },
      "outputs": [
        {
          "name": "stdout",
          "output_type": "stream",
          "text": [
            "glove_100d download started this may take some time.\n",
            "Approximate size to download 145.3 MB\n",
            "[OK!]\n"
          ]
        }
      ],
      "source": [
        "documentAssembler = nlp.DocumentAssembler()\\\n",
        "\t\t.setInputCol(\"text\")\\\n",
        "\t\t.setOutputCol(\"document\")\n",
        "\n",
        "tokenizer = nlp.Tokenizer()\\\n",
        "\t\t.setInputCols([\"document\"])\\\n",
        "\t\t.setOutputCol(\"token\")\n",
        "\n",
        "embeddings = nlp.WordEmbeddingsModel.pretrained('glove_100d') \\\n",
        "\t\t.setInputCols([\"document\", 'token']) \\\n",
        "\t\t.setOutputCol(\"embeddings\")\n",
        "\n",
        "ner = nlp.NerDLModel.load(\"models/augmented_ner_model\") \\\n",
        "\t\t.setInputCols([\"document\", \"token\", \"embeddings\"]) \\\n",
        "\t\t.setOutputCol(\"ner\")\n",
        "\n",
        "ner_pipeline = nlp.Pipeline().setStages([\n",
        "\t\t\t\tdocumentAssembler,\n",
        "\t\t\t\ttokenizer,\n",
        "\t\t\t\tembeddings,\n",
        "\t\t\t\tner\n",
        "    ])\n",
        "\n",
        "ner_model_2 = ner_pipeline.fit(spark.createDataFrame([[\"\"]]).toDF(\"text\"))"
      ]
    },
    {
      "cell_type": "markdown",
      "metadata": {
        "id": "PGKzqGWzGtBq"
      },
      "source": [
        "#### Load saved test configurations, data"
      ]
    },
    {
      "cell_type": "code",
      "execution_count": null,
      "metadata": {
        "colab": {
          "base_uri": "https://localhost:8080/"
        },
        "id": "Rkr_aUQ9GnBe",
        "outputId": "39bd78e2-43ba-4be1-ab7d-4d8df2166c34"
      },
      "outputs": [
        {
          "name": "stderr",
          "output_type": "stream",
          "text": [
            "Generating testcases... (robustness): 100%|██████████| 1/1 [00:30<00:00, 30.30s/it]\n"
          ]
        }
      ],
      "source": [
        "h_new = Harness.load(\"saved_test_configurations\",\n",
        "                       model={\"model\": ner_model_2,\"hub\":\"johnsnowlabs\"}, \n",
        "                       task=\"ner\",                                 \n",
        "                       load_testcases=True)"
      ]
    },
    {
      "cell_type": "markdown",
      "metadata": {
        "id": "m58nhPDPHD_M"
      },
      "source": [
        "####Test New NER Model Robustness."
      ]
    },
    {
      "cell_type": "code",
      "execution_count": null,
      "metadata": {
        "colab": {
          "base_uri": "https://localhost:8080/",
          "height": 131
        },
        "id": "Liz0E1l5zNyJ",
        "outputId": "ab8c7dbc-92e6-474c-9d75-16f18d9b6806"
      },
      "outputs": [
        {
          "name": "stderr",
          "output_type": "stream",
          "text": [
            "Running test cases...: 100%|██████████| 452/452 [01:00<00:00,  7.49it/s]\n"
          ]
        },
        {
          "data": {
            "text/html": [
              "\n",
              "  <div id=\"df-c3171fc0-229f-4473-8c4b-22f2b37284f9\">\n",
              "    <div class=\"colab-df-container\">\n",
              "      <div>\n",
              "<style scoped>\n",
              "    .dataframe tbody tr th:only-of-type {\n",
              "        vertical-align: middle;\n",
              "    }\n",
              "\n",
              "    .dataframe tbody tr th {\n",
              "        vertical-align: top;\n",
              "    }\n",
              "\n",
              "    .dataframe thead th {\n",
              "        text-align: right;\n",
              "    }\n",
              "</style>\n",
              "<table border=\"1\" class=\"dataframe\">\n",
              "  <thead>\n",
              "    <tr style=\"text-align: right;\">\n",
              "      <th></th>\n",
              "      <th>category</th>\n",
              "      <th>test_type</th>\n",
              "      <th>fail_count</th>\n",
              "      <th>pass_count</th>\n",
              "      <th>pass_rate</th>\n",
              "      <th>minimum_pass_rate</th>\n",
              "      <th>pass</th>\n",
              "    </tr>\n",
              "  </thead>\n",
              "  <tbody>\n",
              "    <tr>\n",
              "      <th>0</th>\n",
              "      <td>robustness</td>\n",
              "      <td>lowercase</td>\n",
              "      <td>31</td>\n",
              "      <td>195</td>\n",
              "      <td>86%</td>\n",
              "      <td>60%</td>\n",
              "      <td>True</td>\n",
              "    </tr>\n",
              "    <tr>\n",
              "      <th>1</th>\n",
              "      <td>robustness</td>\n",
              "      <td>uppercase</td>\n",
              "      <td>39</td>\n",
              "      <td>187</td>\n",
              "      <td>83%</td>\n",
              "      <td>60%</td>\n",
              "      <td>True</td>\n",
              "    </tr>\n",
              "  </tbody>\n",
              "</table>\n",
              "</div>\n",
              "      <button class=\"colab-df-convert\" onclick=\"convertToInteractive('df-c3171fc0-229f-4473-8c4b-22f2b37284f9')\"\n",
              "              title=\"Convert this dataframe to an interactive table.\"\n",
              "              style=\"display:none;\">\n",
              "        \n",
              "  <svg xmlns=\"http://www.w3.org/2000/svg\" height=\"24px\"viewBox=\"0 0 24 24\"\n",
              "       width=\"24px\">\n",
              "    <path d=\"M0 0h24v24H0V0z\" fill=\"none\"/>\n",
              "    <path d=\"M18.56 5.44l.94 2.06.94-2.06 2.06-.94-2.06-.94-.94-2.06-.94 2.06-2.06.94zm-11 1L8.5 8.5l.94-2.06 2.06-.94-2.06-.94L8.5 2.5l-.94 2.06-2.06.94zm10 10l.94 2.06.94-2.06 2.06-.94-2.06-.94-.94-2.06-.94 2.06-2.06.94z\"/><path d=\"M17.41 7.96l-1.37-1.37c-.4-.4-.92-.59-1.43-.59-.52 0-1.04.2-1.43.59L10.3 9.45l-7.72 7.72c-.78.78-.78 2.05 0 2.83L4 21.41c.39.39.9.59 1.41.59.51 0 1.02-.2 1.41-.59l7.78-7.78 2.81-2.81c.8-.78.8-2.07 0-2.86zM5.41 20L4 18.59l7.72-7.72 1.47 1.35L5.41 20z\"/>\n",
              "  </svg>\n",
              "      </button>\n",
              "      \n",
              "  <style>\n",
              "    .colab-df-container {\n",
              "      display:flex;\n",
              "      flex-wrap:wrap;\n",
              "      gap: 12px;\n",
              "    }\n",
              "\n",
              "    .colab-df-convert {\n",
              "      background-color: #E8F0FE;\n",
              "      border: none;\n",
              "      border-radius: 50%;\n",
              "      cursor: pointer;\n",
              "      display: none;\n",
              "      fill: #1967D2;\n",
              "      height: 32px;\n",
              "      padding: 0 0 0 0;\n",
              "      width: 32px;\n",
              "    }\n",
              "\n",
              "    .colab-df-convert:hover {\n",
              "      background-color: #E2EBFA;\n",
              "      box-shadow: 0px 1px 2px rgba(60, 64, 67, 0.3), 0px 1px 3px 1px rgba(60, 64, 67, 0.15);\n",
              "      fill: #174EA6;\n",
              "    }\n",
              "\n",
              "    [theme=dark] .colab-df-convert {\n",
              "      background-color: #3B4455;\n",
              "      fill: #D2E3FC;\n",
              "    }\n",
              "\n",
              "    [theme=dark] .colab-df-convert:hover {\n",
              "      background-color: #434B5C;\n",
              "      box-shadow: 0px 1px 3px 1px rgba(0, 0, 0, 0.15);\n",
              "      filter: drop-shadow(0px 1px 2px rgba(0, 0, 0, 0.3));\n",
              "      fill: #FFFFFF;\n",
              "    }\n",
              "  </style>\n",
              "\n",
              "      <script>\n",
              "        const buttonEl =\n",
              "          document.querySelector('#df-c3171fc0-229f-4473-8c4b-22f2b37284f9 button.colab-df-convert');\n",
              "        buttonEl.style.display =\n",
              "          google.colab.kernel.accessAllowed ? 'block' : 'none';\n",
              "\n",
              "        async function convertToInteractive(key) {\n",
              "          const element = document.querySelector('#df-c3171fc0-229f-4473-8c4b-22f2b37284f9');\n",
              "          const dataTable =\n",
              "            await google.colab.kernel.invokeFunction('convertToInteractive',\n",
              "                                                     [key], {});\n",
              "          if (!dataTable) return;\n",
              "\n",
              "          const docLinkHtml = 'Like what you see? Visit the ' +\n",
              "            '<a target=\"_blank\" href=https://colab.research.google.com/notebooks/data_table.ipynb>data table notebook</a>'\n",
              "            + ' to learn more about interactive tables.';\n",
              "          element.innerHTML = '';\n",
              "          dataTable['output_type'] = 'display_data';\n",
              "          await google.colab.output.renderOutput(dataTable, element);\n",
              "          const docLink = document.createElement('div');\n",
              "          docLink.innerHTML = docLinkHtml;\n",
              "          element.appendChild(docLink);\n",
              "        }\n",
              "      </script>\n",
              "    </div>\n",
              "  </div>\n",
              "  "
            ],
            "text/plain": [
              "     category  test_type  fail_count  pass_count pass_rate minimum_pass_rate  \\\n",
              "0  robustness  lowercase          31         195       86%               60%   \n",
              "1  robustness  uppercase          39         187       83%               60%   \n",
              "\n",
              "   pass  \n",
              "0  True  \n",
              "1  True  "
            ]
          },
          "execution_count": 24,
          "metadata": {},
          "output_type": "execute_result"
        }
      ],
      "source": [
        "harness.run().report()"
      ]
    },
    {
      "cell_type": "markdown",
      "metadata": {
        "id": "qATGzuHDi2sR"
      },
      "source": [
        "We can see that after augmentation, both tests are performing better than earlier."
      ]
    },
    {
      "cell_type": "markdown",
      "metadata": {
        "id": "APU3YhhLc1hH"
      },
      "source": [
        "# Comparison Table ( Normal V/S Augmented Model )"
      ]
    },
    {
      "cell_type": "markdown",
      "metadata": {
        "id": "ooTBisOrdR7g"
      },
      "source": [
        "| Model            | Category   | Test_Type | Fail_Count | Pass_Count | Pass_Rate | Minimum_Pass_Rate | Pass  |\n",
        "|------------------|------------|-----------|------------|------------|-----------|-------------------|-------|\n",
        "| Initial_Model    | Robustness | Lowercase |     198    |     28     |    12%    |        60%        | False |\n",
        "|                  |            |           |            |            |           |                   |       |\n",
        "| Initial_Model    | Robustness | Uppercase |     83     |    143     |    63%    |        60%        | True  |\n",
        "|                  |            |           |            |            |           |                   |       |\n",
        "| Augmented_Model  | Robustness | Lowercase |     31     |    195     |    86%    |        60%        | True  |\n",
        "|                  |            |           |            |            |           |                   |       |\n",
        "| Augmented_Model  | Robustness | Uppercase |     39     |    187     |    83%    |        60%        | True  |\n"
      ]
    }
  ],
  "metadata": {
    "colab": {
      "provenance": [],
      "toc_visible": true
    },
    "kernelspec": {
      "display_name": "Python 3",
      "name": "python3"
    },
    "language_info": {
      "name": "python"
    }
  },
  "nbformat": 4,
  "nbformat_minor": 0
}
