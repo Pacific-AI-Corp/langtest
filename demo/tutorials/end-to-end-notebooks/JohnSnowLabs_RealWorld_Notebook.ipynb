{
  "cells": [
    {
      "cell_type": "markdown",
      "metadata": {
        "id": "e7PsSmy9sCoR"
      },
      "source": [
        "<!-- ![logog](https://raw.githubusercontent.com/Pacific-AI-Corp/langtest/refs/heads/main/docs/assets/images/logo.png) -->\n",
        "![logog](https://raw.githubusercontent.com/Pacific-AI-Corp/langtest/main/docs/assets/images/logo.png)"
      ]
    },
    {
      "attachments": {},
      "cell_type": "markdown",
      "metadata": {
        "id": "MhgkQYQiEvZt"
      },
      "source": [
        "[![Open In Colab](https://colab.research.google.com/assets/colab-badge.svg)](https://colab.research.google.com/github/Pacific-AI-Corp/langtest/blob/main/demo/tutorials/end-to-end-notebooks/JohnSnowLabs_RealWorld_Notebook.ipynb)"
      ]
    },
    {
      "attachments": {},
      "cell_type": "markdown",
      "metadata": {
        "id": "WJJzt3RWhEc6"
      },
      "source": [
        "**LangTest** is an open-source python library designed to help developers deliver safe and effective Natural Language Processing (NLP) models. Whether you are using **John Snow Labs, Hugging Face, Spacy** models or **OpenAI, Cohere, AI21, Hugging Face Inference API and Azure-OpenAI** based LLMs, it has got you covered. You can test any Named Entity Recognition (NER), Text Classification, fill-mask, Translation model using the library. We also support testing LLMS for Question-Answering, Summarization and text-generation tasks on benchmark datasets. The library supports 60+ out of the box tests. For a complete list of supported test categories, please refer to the [documentation](http://langtest.org/docs/pages/docs/test_categories).\n",
        "\n",
        "Metrics are calculated by comparing the model's extractions in the original list of sentences against the extractions carried out in the noisy list of sentences. The original annotated labels are not used at any point, we are simply comparing the model against itself in a 2 settings."
      ]
    },
    {
      "attachments": {},
      "cell_type": "markdown",
      "metadata": {
        "id": "26qXWhCYhHAt"
      },
      "source": [
        "# Getting started with LangTest on John Snow Labs"
      ]
    },
    {
      "cell_type": "code",
      "execution_count": null,
      "metadata": {
        "id": "azUb114QhOsY"
      },
      "outputs": [],
      "source": [
        "!pip install langtest[johnsnowlabs]"
      ]
    },
    {
      "attachments": {},
      "cell_type": "markdown",
      "metadata": {
        "id": "yR6kjOaiheKN"
      },
      "source": [
        "# Harness and its Parameters\n",
        "\n",
        "The Harness class is a testing class for Natural Language Processing (NLP) models. It evaluates the performance of a NLP model on a given task using test data and generates a report with test results.Harness can be imported from the LangTest library in the following way."
      ]
    },
    {
      "cell_type": "code",
      "execution_count": 3,
      "metadata": {
        "id": "lTzSJpMlhgq5"
      },
      "outputs": [],
      "source": [
        "#Import Harness from the LangTest library\n",
        "from langtest import Harness"
      ]
    },
    {
      "cell_type": "markdown",
      "metadata": {
        "id": "sBcZjwJBhkOw"
      },
      "source": [
        "It imports the Harness class from within the module, that is designed to provide a blueprint or framework for conducting NLP testing, and that instances of the Harness class can be customized or configured for different testing scenarios or environments.\n",
        "\n",
        "Here is a list of the different parameters that can be passed to the Harness function:\n",
        "\n",
        "<br/>\n",
        "\n",
        "\n",
        "\n",
        "| Parameter  | Description |  \n",
        "| - | - | \n",
        "|**task**     |Task for which the model is to be evaluated (text-classification or ner)|\n",
        "| **model**     | Specifies the model(s) to be evaluated. This parameter can be provided as either a dictionary or a list of dictionaries. Each dictionary should contain the following keys: <ul><li>model (mandatory): \tPipelineModel or path to a saved model or pretrained pipeline/model from hub.</li><li>hub (mandatory): Hub (library) to use in back-end for loading model from public models hub or from path</li></ul>|\n",
        "| **data**      | The data to be used for evaluation. A dictionary providing flexibility and options for data sources. It should include the following keys: <ul><li>data_source (mandatory): The source of the data.</li><li>subset (optional): The subset of the data.</li><li>feature_column (optional): The column containing the features.</li><li>target_column (optional): The column containing the target labels.</li><li>split (optional): The data split to be used.</li><li>source (optional): Set to 'huggingface' when loading Hugging Face dataset.</li></ul> |\n",
        "| **config**    | Configuration for the tests to be performed, specified in the form of a YAML file. |\n",
        "\n",
        "\n",
        "<br/>\n",
        "<br/>"
      ]
    },
    {
      "cell_type": "markdown",
      "metadata": {
        "id": "JFhJ9CcbsKqN"
      },
      "source": [
        "# Real-World Project Workflows\n",
        "\n",
        "In this section, we dive into complete workflows for using the model testing module in real-world project settings."
      ]
    },
    {
      "cell_type": "markdown",
      "metadata": {
        "id": "UtxtE6Y0r4CJ"
      },
      "source": [
        "## Robustness Testing\n",
        "\n",
        "In this example, we will be testing a model's robustness. We will be applying 2 tests: add_typo and lowercase. The real-world project workflow of the model robustness testing and fixing in this case goes as follows:\n",
        "\n",
        "1. Train NER model on original CoNLL training set\n",
        "\n",
        "2. Test NER model robustness on CoNLL test set\n",
        "\n",
        "3. Augment CoNLL training set based on test results \n",
        "\n",
        "4. Train new NER model on augmented CoNLL training set\n",
        "\n",
        "5. Test new NER model robustness on the CoNLL test set from step 2\n",
        "\n",
        "6. Compare robustness of new NER model against original NER model"
      ]
    },
    {
      "cell_type": "markdown",
      "metadata": {
        "id": "I21Jmq79jgC6"
      },
      "source": [
        "#### Load Train and Test CoNLL"
      ]
    },
    {
      "cell_type": "code",
      "execution_count": null,
      "metadata": {
        "id": "6uW22VqJje8E"
      },
      "outputs": [],
      "source": [
        "# Load test CoNLL\n",
        "!wget https://raw.githubusercontent.com/JohnSnowLabs/langtest/main/langtest/data/conll/sample.conll\n",
        "\n",
        "# Load train CoNLL\n",
        "!wget https://raw.githubusercontent.com/JohnSnowLabs/langtest/main/demo/data/conll03.conll"
      ]
    },
    {
      "cell_type": "markdown",
      "metadata": {
        "id": "MNtH_HOUt_PL"
      },
      "source": [
        "#### Step 1: Train NER Model"
      ]
    },
    {
      "cell_type": "code",
      "execution_count": 5,
      "metadata": {
        "id": "jRnEmCfPhsZs"
      },
      "outputs": [],
      "source": [
        "from johnsnowlabs import nlp"
      ]
    },
    {
      "cell_type": "code",
      "execution_count": 6,
      "metadata": {
        "colab": {
          "base_uri": "https://localhost:8080/"
        },
        "id": "bHXeP18sGp-g",
        "outputId": "1bd2ea97-e002-451b-d60b-cae915c78fb6"
      },
      "outputs": [
        {
          "name": "stdout",
          "output_type": "stream",
          "text": [
            "Warning::Spark Session already created, some configs may not take.\n",
            "small_bert_L2_128 download started this may take some time.\n",
            "Approximate size to download 16.1 MB\n",
            "[OK!]\n"
          ]
        }
      ],
      "source": [
        "ner_model = nlp.load('bert train.ner').fit(dataset_path=\"/content/conll03.conll\")\n"
      ]
    },
    {
      "cell_type": "markdown",
      "metadata": {
        "id": "kKgXC7cvuyar"
      },
      "source": [
        "#### Step 2: Test NER Model Robustness  "
      ]
    },
    {
      "cell_type": "code",
      "execution_count": 17,
      "metadata": {
        "id": "RVk9NWn7u-Lm"
      },
      "outputs": [],
      "source": [
        "harness = Harness(task=\"ner\", model={\"model\": ner_model, \"hub\": \"johnsnowlabs\"}, data={\"data_source\" :\"sample.conll\"})"
      ]
    },
    {
      "cell_type": "code",
      "execution_count": 18,
      "metadata": {
        "colab": {
          "base_uri": "https://localhost:8080/"
        },
        "id": "mynkAUwZyuFN",
        "outputId": "a7b97865-fc75-4070-c5b4-0533617a7782"
      },
      "outputs": [
        {
          "data": {
            "text/plain": [
              "{'tests': {'defaults': {'min_pass_rate': 0.65},\n",
              " 'robustness': {'add_typo': {'min_pass_rate': 0.65},\n",
              "   'lowercase': {'min_pass_rate': 0.65}}}}"
            ]
          },
          "execution_count": 18,
          "metadata": {},
          "output_type": "execute_result"
        }
      ],
      "source": [
        "harness.configure({\n",
        "    'tests': {\n",
        "        'defaults': {'min_pass_rate': 0.65},\n",
        "        \n",
        "        'robustness': {\n",
        "            'add_typo': {'min_pass_rate': 0.65}, \n",
        "            'lowercase':{'min_pass_rate': 0.65},\n",
        "        }\n",
        "    }\n",
        "})"
      ]
    },
    {
      "cell_type": "markdown",
      "metadata": {
        "id": "ZPU46A7WigFr"
      },
      "source": [
        "Here we have configured the harness to perform two robustness tests (add_typo and lowercase) and defined the minimum pass rate for each test."
      ]
    },
    {
      "cell_type": "markdown",
      "metadata": {
        "id": "MomLlmTwjpzU"
      },
      "source": [
        "\n",
        "#### Generating the test cases.\n",
        "\n",
        "\n"
      ]
    },
    {
      "cell_type": "code",
      "execution_count": 19,
      "metadata": {
        "colab": {
          "base_uri": "https://localhost:8080/"
        },
        "id": "UiUNzTwF89ye",
        "outputId": "1ec7fe1f-c342-45da-b919-d48e8e082341"
      },
      "outputs": [
        {
          "data": {
            "text/plain": []
          },
          "execution_count": 19,
          "metadata": {},
          "output_type": "execute_result"
        }
      ],
      "source": [
        "harness.generate()"
      ]
    },
    {
      "cell_type": "markdown",
      "metadata": {
        "id": "UiMIF-o49Bg_"
      },
      "source": [
        "harness.generate() method automatically generates the test cases (based on the provided configuration)"
      ]
    },
    {
      "cell_type": "code",
      "execution_count": 20,
      "metadata": {
        "colab": {
          "base_uri": "https://localhost:8080/",
          "height": 423
        },
        "id": "p0tTwFfc891k",
        "outputId": "05b03712-2723-418a-936e-2cbbc818f215"
      },
      "outputs": [
        {
          "data": {
            "text/html": [
              "\n",
              "  <div id=\"df-59f01293-d56b-43a3-a26e-ae2bc1a8b9a5\">\n",
              "    <div class=\"colab-df-container\">\n",
              "      <div>\n",
              "<style scoped>\n",
              "    .dataframe tbody tr th:only-of-type {\n",
              "        vertical-align: middle;\n",
              "    }\n",
              "\n",
              "    .dataframe tbody tr th {\n",
              "        vertical-align: top;\n",
              "    }\n",
              "\n",
              "    .dataframe thead th {\n",
              "        text-align: right;\n",
              "    }\n",
              "</style>\n",
              "<table border=\"1\" class=\"dataframe\">\n",
              "  <thead>\n",
              "    <tr style=\"text-align: right;\">\n",
              "      <th></th>\n",
              "      <th>category</th>\n",
              "      <th>test_type</th>\n",
              "      <th>original</th>\n",
              "      <th>test_case</th>\n",
              "      <th>expected_result</th>\n",
              "    </tr>\n",
              "  </thead>\n",
              "  <tbody>\n",
              "    <tr>\n",
              "      <th>0</th>\n",
              "      <td>robustness</td>\n",
              "      <td>add_typo</td>\n",
              "      <td>SOCCER - JAPAN GET LUCKY WIN , CHINA IN SURPRI...</td>\n",
              "      <td>SOCCER - JAPAN GET LUCKY WIN , DHINA IN SURPRI...</td>\n",
              "      <td>JAPAN: B-LOC, CHINA: B-PER</td>\n",
              "    </tr>\n",
              "    <tr>\n",
              "      <th>1</th>\n",
              "      <td>robustness</td>\n",
              "      <td>add_typo</td>\n",
              "      <td>Nadim Ladki</td>\n",
              "      <td>Padim Ladki</td>\n",
              "      <td>Nadim: B-PER, Ladki: I-PER</td>\n",
              "    </tr>\n",
              "    <tr>\n",
              "      <th>2</th>\n",
              "      <td>robustness</td>\n",
              "      <td>add_typo</td>\n",
              "      <td>AL-AIN , United Arab Emirates 1996-12-06</td>\n",
              "      <td>AL-AIN , United Arab Emirates1 996-12-06</td>\n",
              "      <td>AL-AIN: B-LOC, United: B-LOC, Arab: I-LOC, Emi...</td>\n",
              "    </tr>\n",
              "    <tr>\n",
              "      <th>3</th>\n",
              "      <td>robustness</td>\n",
              "      <td>add_typo</td>\n",
              "      <td>Japan began the defence of their Asian Cup tit...</td>\n",
              "      <td>Japan began the sefence of their Asian Cup tit...</td>\n",
              "      <td>Japan: B-LOC, Asian: B-MISC, Cup: I-MISC, Syri...</td>\n",
              "    </tr>\n",
              "    <tr>\n",
              "      <th>4</th>\n",
              "      <td>robustness</td>\n",
              "      <td>add_typo</td>\n",
              "      <td>But China saw their luck desert them in the se...</td>\n",
              "      <td>But China saw their luck desert them in the se...</td>\n",
              "      <td>China: B-LOC, Uzbekistan: B-LOC</td>\n",
              "    </tr>\n",
              "    <tr>\n",
              "      <th>...</th>\n",
              "      <td>...</td>\n",
              "      <td>...</td>\n",
              "      <td>...</td>\n",
              "      <td>...</td>\n",
              "      <td>...</td>\n",
              "    </tr>\n",
              "    <tr>\n",
              "      <th>447</th>\n",
              "      <td>robustness</td>\n",
              "      <td>lowercase</td>\n",
              "      <td>Portuguesa 1 Atletico Mineiro 0</td>\n",
              "      <td>portuguesa 1 atletico mineiro 0</td>\n",
              "      <td>Portuguesa: B-ORG, Atletico: B-ORG, Mineiro: I...</td>\n",
              "    </tr>\n",
              "    <tr>\n",
              "      <th>448</th>\n",
              "      <td>robustness</td>\n",
              "      <td>lowercase</td>\n",
              "      <td>CRICKET - LARA ENDURES ANOTHER MISERABLE DAY .</td>\n",
              "      <td>cricket - lara endures another miserable day .</td>\n",
              "      <td>LARA: B-PER</td>\n",
              "    </tr>\n",
              "    <tr>\n",
              "      <th>449</th>\n",
              "      <td>robustness</td>\n",
              "      <td>lowercase</td>\n",
              "      <td>Robert Galvin</td>\n",
              "      <td>robert galvin</td>\n",
              "      <td>Robert: B-PER, Galvin: I-PER</td>\n",
              "    </tr>\n",
              "    <tr>\n",
              "      <th>450</th>\n",
              "      <td>robustness</td>\n",
              "      <td>lowercase</td>\n",
              "      <td>MELBOURNE 1996-12-06</td>\n",
              "      <td>melbourne 1996-12-06</td>\n",
              "      <td>MELBOURNE: B-LOC</td>\n",
              "    </tr>\n",
              "    <tr>\n",
              "      <th>451</th>\n",
              "      <td>robustness</td>\n",
              "      <td>lowercase</td>\n",
              "      <td>Australia gave Brian Lara another reason to be...</td>\n",
              "      <td>australia gave brian lara another reason to be...</td>\n",
              "      <td>Australia: B-LOC, Brian: B-PER, Lara: I-PER, W...</td>\n",
              "    </tr>\n",
              "  </tbody>\n",
              "</table>\n",
              "<p>452 rows × 5 columns</p>\n",
              "</div>\n",
              "      <button class=\"colab-df-convert\" onclick=\"convertToInteractive('df-59f01293-d56b-43a3-a26e-ae2bc1a8b9a5')\"\n",
              "              title=\"Convert this dataframe to an interactive table.\"\n",
              "              style=\"display:none;\">\n",
              "        \n",
              "  <svg xmlns=\"http://www.w3.org/2000/svg\" height=\"24px\"viewBox=\"0 0 24 24\"\n",
              "       width=\"24px\">\n",
              "    <path d=\"M0 0h24v24H0V0z\" fill=\"none\"/>\n",
              "    <path d=\"M18.56 5.44l.94 2.06.94-2.06 2.06-.94-2.06-.94-.94-2.06-.94 2.06-2.06.94zm-11 1L8.5 8.5l.94-2.06 2.06-.94-2.06-.94L8.5 2.5l-.94 2.06-2.06.94zm10 10l.94 2.06.94-2.06 2.06-.94-2.06-.94-.94-2.06-.94 2.06-2.06.94z\"/><path d=\"M17.41 7.96l-1.37-1.37c-.4-.4-.92-.59-1.43-.59-.52 0-1.04.2-1.43.59L10.3 9.45l-7.72 7.72c-.78.78-.78 2.05 0 2.83L4 21.41c.39.39.9.59 1.41.59.51 0 1.02-.2 1.41-.59l7.78-7.78 2.81-2.81c.8-.78.8-2.07 0-2.86zM5.41 20L4 18.59l7.72-7.72 1.47 1.35L5.41 20z\"/>\n",
              "  </svg>\n",
              "      </button>\n",
              "      \n",
              "  <style>\n",
              "    .colab-df-container {\n",
              "      display:flex;\n",
              "      flex-wrap:wrap;\n",
              "      gap: 12px;\n",
              "    }\n",
              "\n",
              "    .colab-df-convert {\n",
              "      background-color: #E8F0FE;\n",
              "      border: none;\n",
              "      border-radius: 50%;\n",
              "      cursor: pointer;\n",
              "      display: none;\n",
              "      fill: #1967D2;\n",
              "      height: 32px;\n",
              "      padding: 0 0 0 0;\n",
              "      width: 32px;\n",
              "    }\n",
              "\n",
              "    .colab-df-convert:hover {\n",
              "      background-color: #E2EBFA;\n",
              "      box-shadow: 0px 1px 2px rgba(60, 64, 67, 0.3), 0px 1px 3px 1px rgba(60, 64, 67, 0.15);\n",
              "      fill: #174EA6;\n",
              "    }\n",
              "\n",
              "    [theme=dark] .colab-df-convert {\n",
              "      background-color: #3B4455;\n",
              "      fill: #D2E3FC;\n",
              "    }\n",
              "\n",
              "    [theme=dark] .colab-df-convert:hover {\n",
              "      background-color: #434B5C;\n",
              "      box-shadow: 0px 1px 3px 1px rgba(0, 0, 0, 0.15);\n",
              "      filter: drop-shadow(0px 1px 2px rgba(0, 0, 0, 0.3));\n",
              "      fill: #FFFFFF;\n",
              "    }\n",
              "  </style>\n",
              "\n",
              "      <script>\n",
              "        const buttonEl =\n",
              "          document.querySelector('#df-59f01293-d56b-43a3-a26e-ae2bc1a8b9a5 button.colab-df-convert');\n",
              "        buttonEl.style.display =\n",
              "          google.colab.kernel.accessAllowed ? 'block' : 'none';\n",
              "\n",
              "        async function convertToInteractive(key) {\n",
              "          const element = document.querySelector('#df-59f01293-d56b-43a3-a26e-ae2bc1a8b9a5');\n",
              "          const dataTable =\n",
              "            await google.colab.kernel.invokeFunction('convertToInteractive',\n",
              "                                                     [key], {});\n",
              "          if (!dataTable) return;\n",
              "\n",
              "          const docLinkHtml = 'Like what you see? Visit the ' +\n",
              "            '<a target=\"_blank\" href=https://colab.research.google.com/notebooks/data_table.ipynb>data table notebook</a>'\n",
              "            + ' to learn more about interactive tables.';\n",
              "          element.innerHTML = '';\n",
              "          dataTable['output_type'] = 'display_data';\n",
              "          await google.colab.output.renderOutput(dataTable, element);\n",
              "          const docLink = document.createElement('div');\n",
              "          docLink.innerHTML = docLinkHtml;\n",
              "          element.appendChild(docLink);\n",
              "        }\n",
              "      </script>\n",
              "    </div>\n",
              "  </div>\n",
              "  "
            ],
            "text/plain": [
              "       category  test_type                                           original  \\\n",
              "0    robustness   add_typo  SOCCER - JAPAN GET LUCKY WIN , CHINA IN SURPRI...   \n",
              "1    robustness   add_typo                                        Nadim Ladki   \n",
              "2    robustness   add_typo           AL-AIN , United Arab Emirates 1996-12-06   \n",
              "3    robustness   add_typo  Japan began the defence of their Asian Cup tit...   \n",
              "4    robustness   add_typo  But China saw their luck desert them in the se...   \n",
              "..          ...        ...                                                ...   \n",
              "447  robustness  lowercase                    Portuguesa 1 Atletico Mineiro 0   \n",
              "448  robustness  lowercase     CRICKET - LARA ENDURES ANOTHER MISERABLE DAY .   \n",
              "449  robustness  lowercase                                      Robert Galvin   \n",
              "450  robustness  lowercase                               MELBOURNE 1996-12-06   \n",
              "451  robustness  lowercase  Australia gave Brian Lara another reason to be...   \n",
              "\n",
              "                                             test_case  \\\n",
              "0    SOCCER - JAPAN GET LUCKY WIN , DHINA IN SURPRI...   \n",
              "1                                          Padim Ladki   \n",
              "2             AL-AIN , United Arab Emirates1 996-12-06   \n",
              "3    Japan began the sefence of their Asian Cup tit...   \n",
              "4    But China saw their luck desert them in the se...   \n",
              "..                                                 ...   \n",
              "447                    portuguesa 1 atletico mineiro 0   \n",
              "448     cricket - lara endures another miserable day .   \n",
              "449                                      robert galvin   \n",
              "450                               melbourne 1996-12-06   \n",
              "451  australia gave brian lara another reason to be...   \n",
              "\n",
              "                                       expected_result  \n",
              "0                           JAPAN: B-LOC, CHINA: B-PER  \n",
              "1                           Nadim: B-PER, Ladki: I-PER  \n",
              "2    AL-AIN: B-LOC, United: B-LOC, Arab: I-LOC, Emi...  \n",
              "3    Japan: B-LOC, Asian: B-MISC, Cup: I-MISC, Syri...  \n",
              "4                      China: B-LOC, Uzbekistan: B-LOC  \n",
              "..                                                 ...  \n",
              "447  Portuguesa: B-ORG, Atletico: B-ORG, Mineiro: I...  \n",
              "448                                        LARA: B-PER  \n",
              "449                       Robert: B-PER, Galvin: I-PER  \n",
              "450                                   MELBOURNE: B-LOC  \n",
              "451  Australia: B-LOC, Brian: B-PER, Lara: I-PER, W...  \n",
              "\n",
              "[452 rows x 5 columns]"
            ]
          },
          "execution_count": 20,
          "metadata": {},
          "output_type": "execute_result"
        }
      ],
      "source": [
        "harness.testcases()"
      ]
    },
    {
      "cell_type": "markdown",
      "metadata": {
        "id": "nRgq7e-g9Gev"
      },
      "source": [
        "harness.testcases() method gives the produced test cases in form of a pandas data frame."
      ]
    },
    {
      "cell_type": "markdown",
      "metadata": {
        "id": "IaPBjl_R9slh"
      },
      "source": [
        "#### Saving test configurations, data, test cases"
      ]
    },
    {
      "cell_type": "code",
      "execution_count": 21,
      "metadata": {
        "id": "ba0MYutC96CN"
      },
      "outputs": [],
      "source": [
        "harness.save(\"saved_test_configurations\")"
      ]
    },
    {
      "cell_type": "markdown",
      "metadata": {
        "id": "groBqKuD9I34"
      },
      "source": [
        "#### Running the tests"
      ]
    },
    {
      "cell_type": "code",
      "execution_count": 22,
      "metadata": {
        "colab": {
          "base_uri": "https://localhost:8080/"
        },
        "id": "CHQHRbQb9EDi",
        "outputId": "2af7ca3f-034c-4e3d-d1b5-6b029e23613a"
      },
      "outputs": [
        {
          "name": "stderr",
          "output_type": "stream",
          "text": [
            "Running test cases...: 100%|██████████| 452/452 [00:58<00:00,  7.66it/s]\n"
          ]
        },
        {
          "data": {
            "text/plain": []
          },
          "execution_count": 22,
          "metadata": {},
          "output_type": "execute_result"
        }
      ],
      "source": [
        "harness.run()"
      ]
    },
    {
      "cell_type": "markdown",
      "metadata": {
        "id": "71zHGe2q9O6G"
      },
      "source": [
        "Called after harness.generate() and is to used to run all the tests.  Returns a pass/fail flag for each test."
      ]
    },
    {
      "cell_type": "code",
      "execution_count": 23,
      "metadata": {
        "colab": {
          "base_uri": "https://localhost:8080/",
          "height": 423
        },
        "id": "keBNodfJ894u",
        "outputId": "4b553141-0e2f-4512-f94a-108f5c92281b"
      },
      "outputs": [
        {
          "data": {
            "text/html": [
              "\n",
              "  <div id=\"df-fc107874-5555-4990-947f-a33b0d8d1291\">\n",
              "    <div class=\"colab-df-container\">\n",
              "      <div>\n",
              "<style scoped>\n",
              "    .dataframe tbody tr th:only-of-type {\n",
              "        vertical-align: middle;\n",
              "    }\n",
              "\n",
              "    .dataframe tbody tr th {\n",
              "        vertical-align: top;\n",
              "    }\n",
              "\n",
              "    .dataframe thead th {\n",
              "        text-align: right;\n",
              "    }\n",
              "</style>\n",
              "<table border=\"1\" class=\"dataframe\">\n",
              "  <thead>\n",
              "    <tr style=\"text-align: right;\">\n",
              "      <th></th>\n",
              "      <th>category</th>\n",
              "      <th>test_type</th>\n",
              "      <th>original</th>\n",
              "      <th>test_case</th>\n",
              "      <th>expected_result</th>\n",
              "      <th>actual_result</th>\n",
              "      <th>pass</th>\n",
              "    </tr>\n",
              "  </thead>\n",
              "  <tbody>\n",
              "    <tr>\n",
              "      <th>0</th>\n",
              "      <td>robustness</td>\n",
              "      <td>add_typo</td>\n",
              "      <td>SOCCER - JAPAN GET LUCKY WIN , CHINA IN SURPRI...</td>\n",
              "      <td>SOCCER - JAPAN GET LUCKY WIN , DHINA IN SURPRI...</td>\n",
              "      <td>japan: LOC, china: LOC</td>\n",
              "      <td>japan: LOC, dhina: PER</td>\n",
              "      <td>False</td>\n",
              "    </tr>\n",
              "    <tr>\n",
              "      <th>1</th>\n",
              "      <td>robustness</td>\n",
              "      <td>add_typo</td>\n",
              "      <td>Nadim Ladki</td>\n",
              "      <td>Padim Ladki</td>\n",
              "      <td>nadim ladki: PER</td>\n",
              "      <td>padim ladki: PER</td>\n",
              "      <td>True</td>\n",
              "    </tr>\n",
              "    <tr>\n",
              "      <th>2</th>\n",
              "      <td>robustness</td>\n",
              "      <td>add_typo</td>\n",
              "      <td>AL-AIN , United Arab Emirates 1996-12-06</td>\n",
              "      <td>AL-AIN , United Arab Emirates1 996-12-06</td>\n",
              "      <td>al-ain: LOC, united arab emirates: LOC</td>\n",
              "      <td>al-ain: LOC, united arab emirates1: LOC</td>\n",
              "      <td>False</td>\n",
              "    </tr>\n",
              "    <tr>\n",
              "      <th>3</th>\n",
              "      <td>robustness</td>\n",
              "      <td>add_typo</td>\n",
              "      <td>Japan began the defence of their Asian Cup tit...</td>\n",
              "      <td>Japan began the sefence of their Asian Cup tit...</td>\n",
              "      <td>japan: LOC, asian cup: MISC, syria: LOC</td>\n",
              "      <td>japan: LOC, asian cup: MISC, syria: LOC</td>\n",
              "      <td>True</td>\n",
              "    </tr>\n",
              "    <tr>\n",
              "      <th>4</th>\n",
              "      <td>robustness</td>\n",
              "      <td>add_typo</td>\n",
              "      <td>But China saw their luck desert them in the se...</td>\n",
              "      <td>But China saw their luck desert them in the se...</td>\n",
              "      <td>china: LOC, uzbekistan: LOC</td>\n",
              "      <td>china: LOC, matsh: PER, uzbekistan: LOC</td>\n",
              "      <td>False</td>\n",
              "    </tr>\n",
              "    <tr>\n",
              "      <th>...</th>\n",
              "      <td>...</td>\n",
              "      <td>...</td>\n",
              "      <td>...</td>\n",
              "      <td>...</td>\n",
              "      <td>...</td>\n",
              "      <td>...</td>\n",
              "      <td>...</td>\n",
              "    </tr>\n",
              "    <tr>\n",
              "      <th>447</th>\n",
              "      <td>robustness</td>\n",
              "      <td>lowercase</td>\n",
              "      <td>Portuguesa 1 Atletico Mineiro 0</td>\n",
              "      <td>portuguesa 1 atletico mineiro 0</td>\n",
              "      <td>portuguesa: ORG, atletico mineiro: ORG</td>\n",
              "      <td>portuguesa: ORG, atletico mineiro: ORG</td>\n",
              "      <td>True</td>\n",
              "    </tr>\n",
              "    <tr>\n",
              "      <th>448</th>\n",
              "      <td>robustness</td>\n",
              "      <td>lowercase</td>\n",
              "      <td>CRICKET - LARA ENDURES ANOTHER MISERABLE DAY .</td>\n",
              "      <td>cricket - lara endures another miserable day .</td>\n",
              "      <td>lara endures: PER</td>\n",
              "      <td>lara endures: PER</td>\n",
              "      <td>True</td>\n",
              "    </tr>\n",
              "    <tr>\n",
              "      <th>449</th>\n",
              "      <td>robustness</td>\n",
              "      <td>lowercase</td>\n",
              "      <td>Robert Galvin</td>\n",
              "      <td>robert galvin</td>\n",
              "      <td>robert galvin: PER</td>\n",
              "      <td>robert galvin: PER</td>\n",
              "      <td>True</td>\n",
              "    </tr>\n",
              "    <tr>\n",
              "      <th>450</th>\n",
              "      <td>robustness</td>\n",
              "      <td>lowercase</td>\n",
              "      <td>MELBOURNE 1996-12-06</td>\n",
              "      <td>melbourne 1996-12-06</td>\n",
              "      <td>melbourne: LOC</td>\n",
              "      <td>melbourne: LOC</td>\n",
              "      <td>True</td>\n",
              "    </tr>\n",
              "    <tr>\n",
              "      <th>451</th>\n",
              "      <td>robustness</td>\n",
              "      <td>lowercase</td>\n",
              "      <td>Australia gave Brian Lara another reason to be...</td>\n",
              "      <td>australia gave brian lara another reason to be...</td>\n",
              "      <td>australia: LOC, brian lara: PER, west indies: LOC</td>\n",
              "      <td>australia: LOC, brian lara: PER, west indies: LOC</td>\n",
              "      <td>True</td>\n",
              "    </tr>\n",
              "  </tbody>\n",
              "</table>\n",
              "<p>452 rows × 7 columns</p>\n",
              "</div>\n",
              "      <button class=\"colab-df-convert\" onclick=\"convertToInteractive('df-fc107874-5555-4990-947f-a33b0d8d1291')\"\n",
              "              title=\"Convert this dataframe to an interactive table.\"\n",
              "              style=\"display:none;\">\n",
              "        \n",
              "  <svg xmlns=\"http://www.w3.org/2000/svg\" height=\"24px\"viewBox=\"0 0 24 24\"\n",
              "       width=\"24px\">\n",
              "    <path d=\"M0 0h24v24H0V0z\" fill=\"none\"/>\n",
              "    <path d=\"M18.56 5.44l.94 2.06.94-2.06 2.06-.94-2.06-.94-.94-2.06-.94 2.06-2.06.94zm-11 1L8.5 8.5l.94-2.06 2.06-.94-2.06-.94L8.5 2.5l-.94 2.06-2.06.94zm10 10l.94 2.06.94-2.06 2.06-.94-2.06-.94-.94-2.06-.94 2.06-2.06.94z\"/><path d=\"M17.41 7.96l-1.37-1.37c-.4-.4-.92-.59-1.43-.59-.52 0-1.04.2-1.43.59L10.3 9.45l-7.72 7.72c-.78.78-.78 2.05 0 2.83L4 21.41c.39.39.9.59 1.41.59.51 0 1.02-.2 1.41-.59l7.78-7.78 2.81-2.81c.8-.78.8-2.07 0-2.86zM5.41 20L4 18.59l7.72-7.72 1.47 1.35L5.41 20z\"/>\n",
              "  </svg>\n",
              "      </button>\n",
              "      \n",
              "  <style>\n",
              "    .colab-df-container {\n",
              "      display:flex;\n",
              "      flex-wrap:wrap;\n",
              "      gap: 12px;\n",
              "    }\n",
              "\n",
              "    .colab-df-convert {\n",
              "      background-color: #E8F0FE;\n",
              "      border: none;\n",
              "      border-radius: 50%;\n",
              "      cursor: pointer;\n",
              "      display: none;\n",
              "      fill: #1967D2;\n",
              "      height: 32px;\n",
              "      padding: 0 0 0 0;\n",
              "      width: 32px;\n",
              "    }\n",
              "\n",
              "    .colab-df-convert:hover {\n",
              "      background-color: #E2EBFA;\n",
              "      box-shadow: 0px 1px 2px rgba(60, 64, 67, 0.3), 0px 1px 3px 1px rgba(60, 64, 67, 0.15);\n",
              "      fill: #174EA6;\n",
              "    }\n",
              "\n",
              "    [theme=dark] .colab-df-convert {\n",
              "      background-color: #3B4455;\n",
              "      fill: #D2E3FC;\n",
              "    }\n",
              "\n",
              "    [theme=dark] .colab-df-convert:hover {\n",
              "      background-color: #434B5C;\n",
              "      box-shadow: 0px 1px 3px 1px rgba(0, 0, 0, 0.15);\n",
              "      filter: drop-shadow(0px 1px 2px rgba(0, 0, 0, 0.3));\n",
              "      fill: #FFFFFF;\n",
              "    }\n",
              "  </style>\n",
              "\n",
              "      <script>\n",
              "        const buttonEl =\n",
              "          document.querySelector('#df-fc107874-5555-4990-947f-a33b0d8d1291 button.colab-df-convert');\n",
              "        buttonEl.style.display =\n",
              "          google.colab.kernel.accessAllowed ? 'block' : 'none';\n",
              "\n",
              "        async function convertToInteractive(key) {\n",
              "          const element = document.querySelector('#df-fc107874-5555-4990-947f-a33b0d8d1291');\n",
              "          const dataTable =\n",
              "            await google.colab.kernel.invokeFunction('convertToInteractive',\n",
              "                                                     [key], {});\n",
              "          if (!dataTable) return;\n",
              "\n",
              "          const docLinkHtml = 'Like what you see? Visit the ' +\n",
              "            '<a target=\"_blank\" href=https://colab.research.google.com/notebooks/data_table.ipynb>data table notebook</a>'\n",
              "            + ' to learn more about interactive tables.';\n",
              "          element.innerHTML = '';\n",
              "          dataTable['output_type'] = 'display_data';\n",
              "          await google.colab.output.renderOutput(dataTable, element);\n",
              "          const docLink = document.createElement('div');\n",
              "          docLink.innerHTML = docLinkHtml;\n",
              "          element.appendChild(docLink);\n",
              "        }\n",
              "      </script>\n",
              "    </div>\n",
              "  </div>\n",
              "  "
            ],
            "text/plain": [
              "       category  test_type                                           original  \\\n",
              "0    robustness   add_typo  SOCCER - JAPAN GET LUCKY WIN , CHINA IN SURPRI...   \n",
              "1    robustness   add_typo                                        Nadim Ladki   \n",
              "2    robustness   add_typo           AL-AIN , United Arab Emirates 1996-12-06   \n",
              "3    robustness   add_typo  Japan began the defence of their Asian Cup tit...   \n",
              "4    robustness   add_typo  But China saw their luck desert them in the se...   \n",
              "..          ...        ...                                                ...   \n",
              "447  robustness  lowercase                    Portuguesa 1 Atletico Mineiro 0   \n",
              "448  robustness  lowercase     CRICKET - LARA ENDURES ANOTHER MISERABLE DAY .   \n",
              "449  robustness  lowercase                                      Robert Galvin   \n",
              "450  robustness  lowercase                               MELBOURNE 1996-12-06   \n",
              "451  robustness  lowercase  Australia gave Brian Lara another reason to be...   \n",
              "\n",
              "                                             test_case  \\\n",
              "0    SOCCER - JAPAN GET LUCKY WIN , DHINA IN SURPRI...   \n",
              "1                                          Padim Ladki   \n",
              "2             AL-AIN , United Arab Emirates1 996-12-06   \n",
              "3    Japan began the sefence of their Asian Cup tit...   \n",
              "4    But China saw their luck desert them in the se...   \n",
              "..                                                 ...   \n",
              "447                    portuguesa 1 atletico mineiro 0   \n",
              "448     cricket - lara endures another miserable day .   \n",
              "449                                      robert galvin   \n",
              "450                               melbourne 1996-12-06   \n",
              "451  australia gave brian lara another reason to be...   \n",
              "\n",
              "                                       expected_result  \\\n",
              "0                               japan: LOC, china: LOC   \n",
              "1                                     nadim ladki: PER   \n",
              "2               al-ain: LOC, united arab emirates: LOC   \n",
              "3              japan: LOC, asian cup: MISC, syria: LOC   \n",
              "4                          china: LOC, uzbekistan: LOC   \n",
              "..                                                 ...   \n",
              "447             portuguesa: ORG, atletico mineiro: ORG   \n",
              "448                                  lara endures: PER   \n",
              "449                                 robert galvin: PER   \n",
              "450                                     melbourne: LOC   \n",
              "451  australia: LOC, brian lara: PER, west indies: LOC   \n",
              "\n",
              "                                         actual_result   pass  \n",
              "0                               japan: LOC, dhina: PER  False  \n",
              "1                                     padim ladki: PER   True  \n",
              "2              al-ain: LOC, united arab emirates1: LOC  False  \n",
              "3              japan: LOC, asian cup: MISC, syria: LOC   True  \n",
              "4              china: LOC, matsh: PER, uzbekistan: LOC  False  \n",
              "..                                                 ...    ...  \n",
              "447             portuguesa: ORG, atletico mineiro: ORG   True  \n",
              "448                                  lara endures: PER   True  \n",
              "449                                 robert galvin: PER   True  \n",
              "450                                     melbourne: LOC   True  \n",
              "451  australia: LOC, brian lara: PER, west indies: LOC   True  \n",
              "\n",
              "[452 rows x 7 columns]"
            ]
          },
          "execution_count": 23,
          "metadata": {},
          "output_type": "execute_result"
        }
      ],
      "source": [
        "harness.generated_results()"
      ]
    },
    {
      "cell_type": "markdown",
      "metadata": {
        "id": "57lqGecA9UXG"
      },
      "source": [
        "This method returns the generated results in the form of a pandas dataframe, which provides a convenient and easy-to-use format for working with the test results. You can use this method to quickly identify the test cases that failed and to determine where fixes are needed."
      ]
    },
    {
      "cell_type": "markdown",
      "metadata": {
        "id": "jPvPCr_S9Zb8"
      },
      "source": [
        "#### Report of the tests"
      ]
    },
    {
      "cell_type": "code",
      "execution_count": 24,
      "metadata": {
        "colab": {
          "base_uri": "https://localhost:8080/",
          "height": 112
        },
        "id": "gp57HcF9yxi7",
        "outputId": "a980bcff-4eba-4930-bfa7-0a1f7e67bd8e"
      },
      "outputs": [
        {
          "data": {
            "text/html": [
              "\n",
              "  <div id=\"df-6c333c35-9a95-41e9-8471-416e02cb232d\">\n",
              "    <div class=\"colab-df-container\">\n",
              "      <div>\n",
              "<style scoped>\n",
              "    .dataframe tbody tr th:only-of-type {\n",
              "        vertical-align: middle;\n",
              "    }\n",
              "\n",
              "    .dataframe tbody tr th {\n",
              "        vertical-align: top;\n",
              "    }\n",
              "\n",
              "    .dataframe thead th {\n",
              "        text-align: right;\n",
              "    }\n",
              "</style>\n",
              "<table border=\"1\" class=\"dataframe\">\n",
              "  <thead>\n",
              "    <tr style=\"text-align: right;\">\n",
              "      <th></th>\n",
              "      <th>category</th>\n",
              "      <th>test_type</th>\n",
              "      <th>fail_count</th>\n",
              "      <th>pass_count</th>\n",
              "      <th>pass_rate</th>\n",
              "      <th>minimum_pass_rate</th>\n",
              "      <th>pass</th>\n",
              "    </tr>\n",
              "  </thead>\n",
              "  <tbody>\n",
              "    <tr>\n",
              "      <th>0</th>\n",
              "      <td>robustness</td>\n",
              "      <td>add_typo</td>\n",
              "      <td>98</td>\n",
              "      <td>128</td>\n",
              "      <td>57%</td>\n",
              "      <td>65%</td>\n",
              "      <td>False</td>\n",
              "    </tr>\n",
              "    <tr>\n",
              "      <th>1</th>\n",
              "      <td>robustness</td>\n",
              "      <td>lowercase</td>\n",
              "      <td>0</td>\n",
              "      <td>226</td>\n",
              "      <td>100%</td>\n",
              "      <td>65%</td>\n",
              "      <td>True</td>\n",
              "    </tr>\n",
              "  </tbody>\n",
              "</table>\n",
              "</div>\n",
              "      <button class=\"colab-df-convert\" onclick=\"convertToInteractive('df-6c333c35-9a95-41e9-8471-416e02cb232d')\"\n",
              "              title=\"Convert this dataframe to an interactive table.\"\n",
              "              style=\"display:none;\">\n",
              "        \n",
              "  <svg xmlns=\"http://www.w3.org/2000/svg\" height=\"24px\"viewBox=\"0 0 24 24\"\n",
              "       width=\"24px\">\n",
              "    <path d=\"M0 0h24v24H0V0z\" fill=\"none\"/>\n",
              "    <path d=\"M18.56 5.44l.94 2.06.94-2.06 2.06-.94-2.06-.94-.94-2.06-.94 2.06-2.06.94zm-11 1L8.5 8.5l.94-2.06 2.06-.94-2.06-.94L8.5 2.5l-.94 2.06-2.06.94zm10 10l.94 2.06.94-2.06 2.06-.94-2.06-.94-.94-2.06-.94 2.06-2.06.94z\"/><path d=\"M17.41 7.96l-1.37-1.37c-.4-.4-.92-.59-1.43-.59-.52 0-1.04.2-1.43.59L10.3 9.45l-7.72 7.72c-.78.78-.78 2.05 0 2.83L4 21.41c.39.39.9.59 1.41.59.51 0 1.02-.2 1.41-.59l7.78-7.78 2.81-2.81c.8-.78.8-2.07 0-2.86zM5.41 20L4 18.59l7.72-7.72 1.47 1.35L5.41 20z\"/>\n",
              "  </svg>\n",
              "      </button>\n",
              "      \n",
              "  <style>\n",
              "    .colab-df-container {\n",
              "      display:flex;\n",
              "      flex-wrap:wrap;\n",
              "      gap: 12px;\n",
              "    }\n",
              "\n",
              "    .colab-df-convert {\n",
              "      background-color: #E8F0FE;\n",
              "      border: none;\n",
              "      border-radius: 50%;\n",
              "      cursor: pointer;\n",
              "      display: none;\n",
              "      fill: #1967D2;\n",
              "      height: 32px;\n",
              "      padding: 0 0 0 0;\n",
              "      width: 32px;\n",
              "    }\n",
              "\n",
              "    .colab-df-convert:hover {\n",
              "      background-color: #E2EBFA;\n",
              "      box-shadow: 0px 1px 2px rgba(60, 64, 67, 0.3), 0px 1px 3px 1px rgba(60, 64, 67, 0.15);\n",
              "      fill: #174EA6;\n",
              "    }\n",
              "\n",
              "    [theme=dark] .colab-df-convert {\n",
              "      background-color: #3B4455;\n",
              "      fill: #D2E3FC;\n",
              "    }\n",
              "\n",
              "    [theme=dark] .colab-df-convert:hover {\n",
              "      background-color: #434B5C;\n",
              "      box-shadow: 0px 1px 3px 1px rgba(0, 0, 0, 0.15);\n",
              "      filter: drop-shadow(0px 1px 2px rgba(0, 0, 0, 0.3));\n",
              "      fill: #FFFFFF;\n",
              "    }\n",
              "  </style>\n",
              "\n",
              "      <script>\n",
              "        const buttonEl =\n",
              "          document.querySelector('#df-6c333c35-9a95-41e9-8471-416e02cb232d button.colab-df-convert');\n",
              "        buttonEl.style.display =\n",
              "          google.colab.kernel.accessAllowed ? 'block' : 'none';\n",
              "\n",
              "        async function convertToInteractive(key) {\n",
              "          const element = document.querySelector('#df-6c333c35-9a95-41e9-8471-416e02cb232d');\n",
              "          const dataTable =\n",
              "            await google.colab.kernel.invokeFunction('convertToInteractive',\n",
              "                                                     [key], {});\n",
              "          if (!dataTable) return;\n",
              "\n",
              "          const docLinkHtml = 'Like what you see? Visit the ' +\n",
              "            '<a target=\"_blank\" href=https://colab.research.google.com/notebooks/data_table.ipynb>data table notebook</a>'\n",
              "            + ' to learn more about interactive tables.';\n",
              "          element.innerHTML = '';\n",
              "          dataTable['output_type'] = 'display_data';\n",
              "          await google.colab.output.renderOutput(dataTable, element);\n",
              "          const docLink = document.createElement('div');\n",
              "          docLink.innerHTML = docLinkHtml;\n",
              "          element.appendChild(docLink);\n",
              "        }\n",
              "      </script>\n",
              "    </div>\n",
              "  </div>\n",
              "  "
            ],
            "text/plain": [
              "     category  test_type  fail_count  pass_count pass_rate minimum_pass_rate  \\\n",
              "0  robustness   add_typo          98         128       57%               65%   \n",
              "1  robustness  lowercase           0         226      100%               65%   \n",
              "\n",
              "    pass  \n",
              "0  False  \n",
              "1   True  "
            ]
          },
          "execution_count": 24,
          "metadata": {},
          "output_type": "execute_result"
        }
      ],
      "source": [
        "harness.report()"
      ]
    },
    {
      "cell_type": "markdown",
      "metadata": {
        "id": "7rpJ3QbPinkT"
      },
      "source": [
        "It summarizes the results giving information about pass and fail counts and overall test pass/fail flag."
      ]
    },
    {
      "cell_type": "markdown",
      "metadata": {
        "id": "3g-s1Gikv65h"
      },
      "source": [
        "#### Step 3: Augment CoNLL Training Set Based on Robustness Test Results"
      ]
    },
    {
      "cell_type": "code",
      "execution_count": 25,
      "metadata": {
        "colab": {
          "base_uri": "https://localhost:8080/"
        },
        "id": "EBTz4Fqev7xX",
        "outputId": "10c6b4a0-e51b-43c8-8b1a-ab3de87bbd39"
      },
      "outputs": [
        {
          "data": {
            "text/plain": []
          },
          "execution_count": 25,
          "metadata": {},
          "output_type": "execute_result"
        }
      ],
      "source": [
        "data_kwargs = {\n",
        "      \"data_source\" : \"conll03.conll\",\n",
        "       }\n",
        "\n",
        "harness.augment(training_data=data_kwargs, save_data_path=\"augmented.conll\", export_mode=\"add\")"
      ]
    },
    {
      "cell_type": "markdown",
      "metadata": {
        "id": "O2HL6Gip0ST0"
      },
      "source": [
        "Essentially it applies perturbations to the input data based on the recommendations from the harness reports. Then this augmented_dataset is used to retrain the original model so as to make the model more robust and improve its performance."
      ]
    },
    {
      "cell_type": "markdown",
      "metadata": {
        "id": "z4aCF0kYwL4w"
      },
      "source": [
        "#### Step 4: Train New NER Model on Augmented CoNLL"
      ]
    },
    {
      "cell_type": "code",
      "execution_count": 26,
      "metadata": {
        "colab": {
          "base_uri": "https://localhost:8080/"
        },
        "id": "WvRFmf3PGz3k",
        "outputId": "ec91e2ab-af1a-4ade-fd3a-2035162d4cf5"
      },
      "outputs": [
        {
          "name": "stdout",
          "output_type": "stream",
          "text": [
            "Warning::Spark Session already created, some configs may not take.\n",
            "Warning::Spark Session already created, some configs may not take.\n",
            "small_bert_L2_128 download started this may take some time.\n",
            "Approximate size to download 16.1 MB\n",
            "[OK!]\n"
          ]
        }
      ],
      "source": [
        "augmented_ner_model = nlp.load('bert train.ner').fit(dataset_path= \"augmented.conll\")"
      ]
    },
    {
      "cell_type": "markdown",
      "metadata": {
        "id": "QK8o7XaI_ZAf"
      },
      "source": [
        "#### Load saved test configurations, data"
      ]
    },
    {
      "cell_type": "code",
      "execution_count": 27,
      "metadata": {
        "colab": {
          "base_uri": "https://localhost:8080/"
        },
        "id": "UpaSjj05_fPd",
        "outputId": "16f2d397-9fa4-420a-81c5-37bec5bb6904"
      },
      "outputs": [
        {
          "name": "stderr",
          "output_type": "stream",
          "text": [
            "Generating testcases... (robustness): 100%|██████████| 1/1 [00:30<00:00, 30.37s/it]\n"
          ]
        }
      ],
      "source": [
        "harness = harness = Harness.load(\"saved_test_configurations\",\n",
        "                                 model={\"model\":augmented_ner_model,\"hub\":\"johnsnowlabs\"},\n",
        "                                 task = \"ner\",\n",
        "                                 load_testcases=True)"
      ]
    },
    {
      "cell_type": "markdown",
      "metadata": {
        "id": "9aif5bl_G0GZ"
      },
      "source": [
        "#### Step 5: Test New NER Model Robustness"
      ]
    },
    {
      "cell_type": "code",
      "execution_count": 28,
      "metadata": {
        "colab": {
          "base_uri": "https://localhost:8080/"
        },
        "id": "StrOVtMoAQpf",
        "outputId": "616b624e-c5bd-4b19-c044-f82ee97729bb"
      },
      "outputs": [
        {
          "name": "stderr",
          "output_type": "stream",
          "text": [
            "Running test cases...: 100%|██████████| 452/452 [00:59<00:00,  7.55it/s]\n"
          ]
        },
        {
          "data": {
            "text/plain": []
          },
          "execution_count": 28,
          "metadata": {},
          "output_type": "execute_result"
        }
      ],
      "source": [
        "harness.run()"
      ]
    },
    {
      "cell_type": "code",
      "execution_count": 29,
      "metadata": {
        "colab": {
          "base_uri": "https://localhost:8080/",
          "height": 423
        },
        "id": "znh2xqQmAWHf",
        "outputId": "c0b55b2c-efa0-4ac1-a290-3eaa6b34b0f4"
      },
      "outputs": [
        {
          "data": {
            "text/html": [
              "\n",
              "  <div id=\"df-43323da6-bdf5-41b6-a6de-2db1828c3edf\">\n",
              "    <div class=\"colab-df-container\">\n",
              "      <div>\n",
              "<style scoped>\n",
              "    .dataframe tbody tr th:only-of-type {\n",
              "        vertical-align: middle;\n",
              "    }\n",
              "\n",
              "    .dataframe tbody tr th {\n",
              "        vertical-align: top;\n",
              "    }\n",
              "\n",
              "    .dataframe thead th {\n",
              "        text-align: right;\n",
              "    }\n",
              "</style>\n",
              "<table border=\"1\" class=\"dataframe\">\n",
              "  <thead>\n",
              "    <tr style=\"text-align: right;\">\n",
              "      <th></th>\n",
              "      <th>category</th>\n",
              "      <th>test_type</th>\n",
              "      <th>original</th>\n",
              "      <th>test_case</th>\n",
              "      <th>expected_result</th>\n",
              "      <th>actual_result</th>\n",
              "      <th>pass</th>\n",
              "    </tr>\n",
              "  </thead>\n",
              "  <tbody>\n",
              "    <tr>\n",
              "      <th>0</th>\n",
              "      <td>robustness</td>\n",
              "      <td>add_typo</td>\n",
              "      <td>SOCCER - JAPAN GET LUCKY WIN , CHINA IN SURPRI...</td>\n",
              "      <td>SOCCER - JAPAN GET LUCKY WIN , CHINA IN SYRPRI...</td>\n",
              "      <td>japan: LOC, china: LOC</td>\n",
              "      <td>japan: LOC, china: LOC</td>\n",
              "      <td>True</td>\n",
              "    </tr>\n",
              "    <tr>\n",
              "      <th>1</th>\n",
              "      <td>robustness</td>\n",
              "      <td>add_typo</td>\n",
              "      <td>Nadim Ladki</td>\n",
              "      <td>Nasim Ladki</td>\n",
              "      <td>nadim ladki: PER</td>\n",
              "      <td>nasim ladki: PER</td>\n",
              "      <td>True</td>\n",
              "    </tr>\n",
              "    <tr>\n",
              "      <th>2</th>\n",
              "      <td>robustness</td>\n",
              "      <td>add_typo</td>\n",
              "      <td>AL-AIN , United Arab Emirates 1996-12-06</td>\n",
              "      <td>AL-AIN , United Arsb Emirates 1996-12-06</td>\n",
              "      <td>al-ain: LOC, united: LOC, arab emirates: LOC</td>\n",
              "      <td>al-ain: LOC, united arsb emirates: LOC</td>\n",
              "      <td>False</td>\n",
              "    </tr>\n",
              "    <tr>\n",
              "      <th>3</th>\n",
              "      <td>robustness</td>\n",
              "      <td>add_typo</td>\n",
              "      <td>Japan began the defence of their Asian Cup tit...</td>\n",
              "      <td>Japan began the defence of their Asian Cup tit...</td>\n",
              "      <td>japan: LOC, asian cup: MISC, syria: LOC</td>\n",
              "      <td>japan: LOC, asian cup: MISC, syria: LOC</td>\n",
              "      <td>True</td>\n",
              "    </tr>\n",
              "    <tr>\n",
              "      <th>4</th>\n",
              "      <td>robustness</td>\n",
              "      <td>add_typo</td>\n",
              "      <td>But China saw their luck desert them in the se...</td>\n",
              "      <td>But China saw their luck dseert them in the se...</td>\n",
              "      <td>china: LOC, uzbekistan: LOC</td>\n",
              "      <td>china: LOC, uzbekistan: LOC</td>\n",
              "      <td>True</td>\n",
              "    </tr>\n",
              "    <tr>\n",
              "      <th>...</th>\n",
              "      <td>...</td>\n",
              "      <td>...</td>\n",
              "      <td>...</td>\n",
              "      <td>...</td>\n",
              "      <td>...</td>\n",
              "      <td>...</td>\n",
              "      <td>...</td>\n",
              "    </tr>\n",
              "    <tr>\n",
              "      <th>447</th>\n",
              "      <td>robustness</td>\n",
              "      <td>lowercase</td>\n",
              "      <td>Portuguesa 1 Atletico Mineiro 0</td>\n",
              "      <td>portuguesa 1 atletico mineiro 0</td>\n",
              "      <td>portuguesa: ORG, atletico mineiro: ORG</td>\n",
              "      <td>portuguesa: ORG, atletico mineiro: ORG</td>\n",
              "      <td>True</td>\n",
              "    </tr>\n",
              "    <tr>\n",
              "      <th>448</th>\n",
              "      <td>robustness</td>\n",
              "      <td>lowercase</td>\n",
              "      <td>CRICKET - LARA ENDURES ANOTHER MISERABLE DAY .</td>\n",
              "      <td>cricket - lara endures another miserable day .</td>\n",
              "      <td>lara: PER</td>\n",
              "      <td>lara: PER</td>\n",
              "      <td>True</td>\n",
              "    </tr>\n",
              "    <tr>\n",
              "      <th>449</th>\n",
              "      <td>robustness</td>\n",
              "      <td>lowercase</td>\n",
              "      <td>Robert Galvin</td>\n",
              "      <td>robert galvin</td>\n",
              "      <td>robert galvin: PER</td>\n",
              "      <td>robert galvin: PER</td>\n",
              "      <td>True</td>\n",
              "    </tr>\n",
              "    <tr>\n",
              "      <th>450</th>\n",
              "      <td>robustness</td>\n",
              "      <td>lowercase</td>\n",
              "      <td>MELBOURNE 1996-12-06</td>\n",
              "      <td>melbourne 1996-12-06</td>\n",
              "      <td>melbourne: LOC</td>\n",
              "      <td>melbourne: LOC</td>\n",
              "      <td>True</td>\n",
              "    </tr>\n",
              "    <tr>\n",
              "      <th>451</th>\n",
              "      <td>robustness</td>\n",
              "      <td>lowercase</td>\n",
              "      <td>Australia gave Brian Lara another reason to be...</td>\n",
              "      <td>australia gave brian lara another reason to be...</td>\n",
              "      <td>australia: LOC, brian lara: PER, west: LOC, wo...</td>\n",
              "      <td>australia: LOC, brian lara: PER, west: LOC, wo...</td>\n",
              "      <td>True</td>\n",
              "    </tr>\n",
              "  </tbody>\n",
              "</table>\n",
              "<p>452 rows × 7 columns</p>\n",
              "</div>\n",
              "      <button class=\"colab-df-convert\" onclick=\"convertToInteractive('df-43323da6-bdf5-41b6-a6de-2db1828c3edf')\"\n",
              "              title=\"Convert this dataframe to an interactive table.\"\n",
              "              style=\"display:none;\">\n",
              "        \n",
              "  <svg xmlns=\"http://www.w3.org/2000/svg\" height=\"24px\"viewBox=\"0 0 24 24\"\n",
              "       width=\"24px\">\n",
              "    <path d=\"M0 0h24v24H0V0z\" fill=\"none\"/>\n",
              "    <path d=\"M18.56 5.44l.94 2.06.94-2.06 2.06-.94-2.06-.94-.94-2.06-.94 2.06-2.06.94zm-11 1L8.5 8.5l.94-2.06 2.06-.94-2.06-.94L8.5 2.5l-.94 2.06-2.06.94zm10 10l.94 2.06.94-2.06 2.06-.94-2.06-.94-.94-2.06-.94 2.06-2.06.94z\"/><path d=\"M17.41 7.96l-1.37-1.37c-.4-.4-.92-.59-1.43-.59-.52 0-1.04.2-1.43.59L10.3 9.45l-7.72 7.72c-.78.78-.78 2.05 0 2.83L4 21.41c.39.39.9.59 1.41.59.51 0 1.02-.2 1.41-.59l7.78-7.78 2.81-2.81c.8-.78.8-2.07 0-2.86zM5.41 20L4 18.59l7.72-7.72 1.47 1.35L5.41 20z\"/>\n",
              "  </svg>\n",
              "      </button>\n",
              "      \n",
              "  <style>\n",
              "    .colab-df-container {\n",
              "      display:flex;\n",
              "      flex-wrap:wrap;\n",
              "      gap: 12px;\n",
              "    }\n",
              "\n",
              "    .colab-df-convert {\n",
              "      background-color: #E8F0FE;\n",
              "      border: none;\n",
              "      border-radius: 50%;\n",
              "      cursor: pointer;\n",
              "      display: none;\n",
              "      fill: #1967D2;\n",
              "      height: 32px;\n",
              "      padding: 0 0 0 0;\n",
              "      width: 32px;\n",
              "    }\n",
              "\n",
              "    .colab-df-convert:hover {\n",
              "      background-color: #E2EBFA;\n",
              "      box-shadow: 0px 1px 2px rgba(60, 64, 67, 0.3), 0px 1px 3px 1px rgba(60, 64, 67, 0.15);\n",
              "      fill: #174EA6;\n",
              "    }\n",
              "\n",
              "    [theme=dark] .colab-df-convert {\n",
              "      background-color: #3B4455;\n",
              "      fill: #D2E3FC;\n",
              "    }\n",
              "\n",
              "    [theme=dark] .colab-df-convert:hover {\n",
              "      background-color: #434B5C;\n",
              "      box-shadow: 0px 1px 3px 1px rgba(0, 0, 0, 0.15);\n",
              "      filter: drop-shadow(0px 1px 2px rgba(0, 0, 0, 0.3));\n",
              "      fill: #FFFFFF;\n",
              "    }\n",
              "  </style>\n",
              "\n",
              "      <script>\n",
              "        const buttonEl =\n",
              "          document.querySelector('#df-43323da6-bdf5-41b6-a6de-2db1828c3edf button.colab-df-convert');\n",
              "        buttonEl.style.display =\n",
              "          google.colab.kernel.accessAllowed ? 'block' : 'none';\n",
              "\n",
              "        async function convertToInteractive(key) {\n",
              "          const element = document.querySelector('#df-43323da6-bdf5-41b6-a6de-2db1828c3edf');\n",
              "          const dataTable =\n",
              "            await google.colab.kernel.invokeFunction('convertToInteractive',\n",
              "                                                     [key], {});\n",
              "          if (!dataTable) return;\n",
              "\n",
              "          const docLinkHtml = 'Like what you see? Visit the ' +\n",
              "            '<a target=\"_blank\" href=https://colab.research.google.com/notebooks/data_table.ipynb>data table notebook</a>'\n",
              "            + ' to learn more about interactive tables.';\n",
              "          element.innerHTML = '';\n",
              "          dataTable['output_type'] = 'display_data';\n",
              "          await google.colab.output.renderOutput(dataTable, element);\n",
              "          const docLink = document.createElement('div');\n",
              "          docLink.innerHTML = docLinkHtml;\n",
              "          element.appendChild(docLink);\n",
              "        }\n",
              "      </script>\n",
              "    </div>\n",
              "  </div>\n",
              "  "
            ],
            "text/plain": [
              "       category  test_type                                           original  \\\n",
              "0    robustness   add_typo  SOCCER - JAPAN GET LUCKY WIN , CHINA IN SURPRI...   \n",
              "1    robustness   add_typo                                        Nadim Ladki   \n",
              "2    robustness   add_typo           AL-AIN , United Arab Emirates 1996-12-06   \n",
              "3    robustness   add_typo  Japan began the defence of their Asian Cup tit...   \n",
              "4    robustness   add_typo  But China saw their luck desert them in the se...   \n",
              "..          ...        ...                                                ...   \n",
              "447  robustness  lowercase                    Portuguesa 1 Atletico Mineiro 0   \n",
              "448  robustness  lowercase     CRICKET - LARA ENDURES ANOTHER MISERABLE DAY .   \n",
              "449  robustness  lowercase                                      Robert Galvin   \n",
              "450  robustness  lowercase                               MELBOURNE 1996-12-06   \n",
              "451  robustness  lowercase  Australia gave Brian Lara another reason to be...   \n",
              "\n",
              "                                             test_case  \\\n",
              "0    SOCCER - JAPAN GET LUCKY WIN , CHINA IN SYRPRI...   \n",
              "1                                          Nasim Ladki   \n",
              "2             AL-AIN , United Arsb Emirates 1996-12-06   \n",
              "3    Japan began the defence of their Asian Cup tit...   \n",
              "4    But China saw their luck dseert them in the se...   \n",
              "..                                                 ...   \n",
              "447                    portuguesa 1 atletico mineiro 0   \n",
              "448     cricket - lara endures another miserable day .   \n",
              "449                                      robert galvin   \n",
              "450                               melbourne 1996-12-06   \n",
              "451  australia gave brian lara another reason to be...   \n",
              "\n",
              "                                       expected_result  \\\n",
              "0                               japan: LOC, china: LOC   \n",
              "1                                     nadim ladki: PER   \n",
              "2         al-ain: LOC, united: LOC, arab emirates: LOC   \n",
              "3              japan: LOC, asian cup: MISC, syria: LOC   \n",
              "4                          china: LOC, uzbekistan: LOC   \n",
              "..                                                 ...   \n",
              "447             portuguesa: ORG, atletico mineiro: ORG   \n",
              "448                                          lara: PER   \n",
              "449                                 robert galvin: PER   \n",
              "450                                     melbourne: LOC   \n",
              "451  australia: LOC, brian lara: PER, west: LOC, wo...   \n",
              "\n",
              "                                         actual_result   pass  \n",
              "0                               japan: LOC, china: LOC   True  \n",
              "1                                     nasim ladki: PER   True  \n",
              "2               al-ain: LOC, united arsb emirates: LOC  False  \n",
              "3              japan: LOC, asian cup: MISC, syria: LOC   True  \n",
              "4                          china: LOC, uzbekistan: LOC   True  \n",
              "..                                                 ...    ...  \n",
              "447             portuguesa: ORG, atletico mineiro: ORG   True  \n",
              "448                                          lara: PER   True  \n",
              "449                                 robert galvin: PER   True  \n",
              "450                                     melbourne: LOC   True  \n",
              "451  australia: LOC, brian lara: PER, west: LOC, wo...   True  \n",
              "\n",
              "[452 rows x 7 columns]"
            ]
          },
          "execution_count": 29,
          "metadata": {},
          "output_type": "execute_result"
        }
      ],
      "source": [
        "harness.generated_results()"
      ]
    },
    {
      "cell_type": "code",
      "execution_count": 30,
      "metadata": {
        "colab": {
          "base_uri": "https://localhost:8080/",
          "height": 112
        },
        "id": "JSqkrBOZ-TeG",
        "outputId": "34060368-241c-48dc-818e-bd84f7e85a1a"
      },
      "outputs": [
        {
          "data": {
            "text/html": [
              "\n",
              "  <div id=\"df-edba045f-a1ff-461e-8890-1d8266dcb62f\">\n",
              "    <div class=\"colab-df-container\">\n",
              "      <div>\n",
              "<style scoped>\n",
              "    .dataframe tbody tr th:only-of-type {\n",
              "        vertical-align: middle;\n",
              "    }\n",
              "\n",
              "    .dataframe tbody tr th {\n",
              "        vertical-align: top;\n",
              "    }\n",
              "\n",
              "    .dataframe thead th {\n",
              "        text-align: right;\n",
              "    }\n",
              "</style>\n",
              "<table border=\"1\" class=\"dataframe\">\n",
              "  <thead>\n",
              "    <tr style=\"text-align: right;\">\n",
              "      <th></th>\n",
              "      <th>category</th>\n",
              "      <th>test_type</th>\n",
              "      <th>fail_count</th>\n",
              "      <th>pass_count</th>\n",
              "      <th>pass_rate</th>\n",
              "      <th>minimum_pass_rate</th>\n",
              "      <th>pass</th>\n",
              "    </tr>\n",
              "  </thead>\n",
              "  <tbody>\n",
              "    <tr>\n",
              "      <th>0</th>\n",
              "      <td>robustness</td>\n",
              "      <td>add_typo</td>\n",
              "      <td>62</td>\n",
              "      <td>164</td>\n",
              "      <td>73%</td>\n",
              "      <td>65%</td>\n",
              "      <td>True</td>\n",
              "    </tr>\n",
              "    <tr>\n",
              "      <th>1</th>\n",
              "      <td>robustness</td>\n",
              "      <td>lowercase</td>\n",
              "      <td>0</td>\n",
              "      <td>226</td>\n",
              "      <td>100%</td>\n",
              "      <td>65%</td>\n",
              "      <td>True</td>\n",
              "    </tr>\n",
              "  </tbody>\n",
              "</table>\n",
              "</div>\n",
              "      <button class=\"colab-df-convert\" onclick=\"convertToInteractive('df-edba045f-a1ff-461e-8890-1d8266dcb62f')\"\n",
              "              title=\"Convert this dataframe to an interactive table.\"\n",
              "              style=\"display:none;\">\n",
              "        \n",
              "  <svg xmlns=\"http://www.w3.org/2000/svg\" height=\"24px\"viewBox=\"0 0 24 24\"\n",
              "       width=\"24px\">\n",
              "    <path d=\"M0 0h24v24H0V0z\" fill=\"none\"/>\n",
              "    <path d=\"M18.56 5.44l.94 2.06.94-2.06 2.06-.94-2.06-.94-.94-2.06-.94 2.06-2.06.94zm-11 1L8.5 8.5l.94-2.06 2.06-.94-2.06-.94L8.5 2.5l-.94 2.06-2.06.94zm10 10l.94 2.06.94-2.06 2.06-.94-2.06-.94-.94-2.06-.94 2.06-2.06.94z\"/><path d=\"M17.41 7.96l-1.37-1.37c-.4-.4-.92-.59-1.43-.59-.52 0-1.04.2-1.43.59L10.3 9.45l-7.72 7.72c-.78.78-.78 2.05 0 2.83L4 21.41c.39.39.9.59 1.41.59.51 0 1.02-.2 1.41-.59l7.78-7.78 2.81-2.81c.8-.78.8-2.07 0-2.86zM5.41 20L4 18.59l7.72-7.72 1.47 1.35L5.41 20z\"/>\n",
              "  </svg>\n",
              "      </button>\n",
              "      \n",
              "  <style>\n",
              "    .colab-df-container {\n",
              "      display:flex;\n",
              "      flex-wrap:wrap;\n",
              "      gap: 12px;\n",
              "    }\n",
              "\n",
              "    .colab-df-convert {\n",
              "      background-color: #E8F0FE;\n",
              "      border: none;\n",
              "      border-radius: 50%;\n",
              "      cursor: pointer;\n",
              "      display: none;\n",
              "      fill: #1967D2;\n",
              "      height: 32px;\n",
              "      padding: 0 0 0 0;\n",
              "      width: 32px;\n",
              "    }\n",
              "\n",
              "    .colab-df-convert:hover {\n",
              "      background-color: #E2EBFA;\n",
              "      box-shadow: 0px 1px 2px rgba(60, 64, 67, 0.3), 0px 1px 3px 1px rgba(60, 64, 67, 0.15);\n",
              "      fill: #174EA6;\n",
              "    }\n",
              "\n",
              "    [theme=dark] .colab-df-convert {\n",
              "      background-color: #3B4455;\n",
              "      fill: #D2E3FC;\n",
              "    }\n",
              "\n",
              "    [theme=dark] .colab-df-convert:hover {\n",
              "      background-color: #434B5C;\n",
              "      box-shadow: 0px 1px 3px 1px rgba(0, 0, 0, 0.15);\n",
              "      filter: drop-shadow(0px 1px 2px rgba(0, 0, 0, 0.3));\n",
              "      fill: #FFFFFF;\n",
              "    }\n",
              "  </style>\n",
              "\n",
              "      <script>\n",
              "        const buttonEl =\n",
              "          document.querySelector('#df-edba045f-a1ff-461e-8890-1d8266dcb62f button.colab-df-convert');\n",
              "        buttonEl.style.display =\n",
              "          google.colab.kernel.accessAllowed ? 'block' : 'none';\n",
              "\n",
              "        async function convertToInteractive(key) {\n",
              "          const element = document.querySelector('#df-edba045f-a1ff-461e-8890-1d8266dcb62f');\n",
              "          const dataTable =\n",
              "            await google.colab.kernel.invokeFunction('convertToInteractive',\n",
              "                                                     [key], {});\n",
              "          if (!dataTable) return;\n",
              "\n",
              "          const docLinkHtml = 'Like what you see? Visit the ' +\n",
              "            '<a target=\"_blank\" href=https://colab.research.google.com/notebooks/data_table.ipynb>data table notebook</a>'\n",
              "            + ' to learn more about interactive tables.';\n",
              "          element.innerHTML = '';\n",
              "          dataTable['output_type'] = 'display_data';\n",
              "          await google.colab.output.renderOutput(dataTable, element);\n",
              "          const docLink = document.createElement('div');\n",
              "          docLink.innerHTML = docLinkHtml;\n",
              "          element.appendChild(docLink);\n",
              "        }\n",
              "      </script>\n",
              "    </div>\n",
              "  </div>\n",
              "  "
            ],
            "text/plain": [
              "     category  test_type  fail_count  pass_count pass_rate minimum_pass_rate  \\\n",
              "0  robustness   add_typo          62         164       73%               65%   \n",
              "1  robustness  lowercase           0         226      100%               65%   \n",
              "\n",
              "   pass  \n",
              "0  True  \n",
              "1  True  "
            ]
          },
          "execution_count": 30,
          "metadata": {},
          "output_type": "execute_result"
        }
      ],
      "source": [
        "harness.report()"
      ]
    },
    {
      "cell_type": "markdown",
      "metadata": {
        "id": "J0J5n2b1Ak-U"
      },
      "source": [
        "\n",
        "We can see that after performing augmentation, even the **add_typo** test is passing which failed earlier."
      ]
    }
  ],
  "metadata": {
    "colab": {
      "machine_shape": "hm",
      "provenance": []
    },
    "gpuClass": "standard",
    "kernelspec": {
      "display_name": "Python 3",
      "name": "python3"
    },
    "language_info": {
      "name": "python"
    }
  },
  "nbformat": 4,
  "nbformat_minor": 0
}
