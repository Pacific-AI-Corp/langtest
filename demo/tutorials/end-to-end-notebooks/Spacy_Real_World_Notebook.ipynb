{
  "cells": [
    {
      "cell_type": "markdown",
      "metadata": {
        "id": "FXCo9ChZK4sp"
      },
      "source": [
        "<!-- ![logog](https://raw.githubusercontent.com/Pacific-AI-Corp/langtest/refs/heads/main/docs/assets/images/logo.png) -->\n",
        "![logog](https://raw.githubusercontent.com/Pacific-AI-Corp/langtest/main/docs/assets/images/logo.png)"
      ]
    },
    {
      "attachments": {},
      "cell_type": "markdown",
      "metadata": {
        "id": "z_s0VunSEymN"
      },
      "source": [
        "[![Open In Colab](https://colab.research.google.com/assets/colab-badge.svg)](https://colab.research.google.com/github/Pacific-AI-Corp/langtest/blob/main/demo/tutorials/end-to-end-notebooks/Spacy_Real_World_Notebook.ipynb)"
      ]
    },
    {
      "attachments": {},
      "cell_type": "markdown",
      "metadata": {
        "id": "YmH33D89K8PV"
      },
      "source": [
        "**LangTest** is an open-source python library designed to help developers deliver safe and effective Natural Language Processing (NLP) models. Whether you are using **John Snow Labs, Hugging Face, Spacy** models or **OpenAI, Cohere, AI21, Hugging Face Inference API and Azure-OpenAI** based LLMs, it has got you covered. You can test any Named Entity Recognition (NER), Text Classification, fill-mask, Translation model using the library. We also support testing LLMS for Question-Answering, Summarization and text-generation tasks on benchmark datasets. The library supports 60+ out of the box tests. For a complete list of supported test categories, please refer to the [documentation](http://langtest.org/docs/pages/docs/test_categories).\n",
        "\n",
        "Metrics are calculated by comparing the model's extractions in the original list of sentences against the extractions carried out in the noisy list of sentences. The original annotated labels are not used at any point, we are simply comparing the model against itself in a 2 settings."
      ]
    },
    {
      "attachments": {},
      "cell_type": "markdown",
      "metadata": {
        "id": "yAA-xYrlLGjq"
      },
      "source": [
        "# Getting started with LangTest on spacy"
      ]
    },
    {
      "cell_type": "code",
      "execution_count": null,
      "metadata": {
        "id": "rXvzNeQqLI_Z"
      },
      "outputs": [],
      "source": [
        "!pip install langtest[spacy]"
      ]
    },
    {
      "attachments": {},
      "cell_type": "markdown",
      "metadata": {
        "id": "dEclvIaELPOw"
      },
      "source": [
        "# Harness and its Parameters\n",
        "\n",
        "The Harness class is a testing class for Natural Language Processing (NLP) models. It evaluates the performance of a given NLP model on a given task using test data and generates a report with test results.Harness can be imported from the LangTest library in the following way."
      ]
    },
    {
      "cell_type": "code",
      "execution_count": 2,
      "metadata": {
        "id": "6LOwPUvoLRgI"
      },
      "outputs": [],
      "source": [
        "#Import Harness from the LangTest library\n",
        "from langtest import Harness"
      ]
    },
    {
      "cell_type": "markdown",
      "metadata": {
        "id": "OJXUdGQ1LSF9"
      },
      "source": [
        "It imports the Harness class from within the module, that is designed to provide a blueprint or framework for conducting NLP testing, and that instances of the Harness class can be customized or configured for different testing scenarios or environments.\n",
        "\n",
        "Here is a list of the different parameters that can be passed to the Harness function:\n",
        "\n",
        "<br/>\n",
        "\n",
        "\n",
        "\n",
        "| Parameter  | Description |  \n",
        "| - | - | \n",
        "|**task**     |Task for which the model is to be evaluated (text-classification or ner)|\n",
        "| **model**     | Specifies the model(s) to be evaluated. This parameter can be provided as either a dictionary or a list of dictionaries. Each dictionary should contain the following keys: <ul><li>model (mandatory): \tPipelineModel or path to a saved model or pretrained pipeline/model from hub.</li><li>hub (mandatory): Hub (library) to use in back-end for loading model from public models hub or from path</li></ul>|\n",
        "| **data**      | The data to be used for evaluation. A dictionary providing flexibility and options for data sources. It should include the following keys: <ul><li>data_source (mandatory): The source of the data.</li><li>subset (optional): The subset of the data.</li><li>feature_column (optional): The column containing the features.</li><li>target_column (optional): The column containing the target labels.</li><li>split (optional): The data split to be used.</li><li>source (optional): Set to 'huggingface' when loading Hugging Face dataset.</li></ul> |\n",
        "| **config**    | Configuration for the tests to be performed, specified in the form of a YAML file. |\n",
        "\n",
        "\n",
        "<br/>\n",
        "<br/>"
      ]
    },
    {
      "cell_type": "markdown",
      "metadata": {
        "id": "JGvcEwDwLYss"
      },
      "source": [
        "## Robustness Testing\n",
        "\n",
        "In this example, we will be testing a model's robustness. We will be applying 2 tests: uppercase and add_typo. The real-world project workflow of the model robustness testing and fixing in this case goes as follows:\n",
        "\n",
        "1. Train NER model on original CoNLL training set\n",
        "\n",
        "2. Test NER model robustness on CoNLL test set\n",
        "\n",
        "3. Augment CoNLL training set based on test results \n",
        "\n",
        "4. Train new NER model on augmented CoNLL training set\n",
        "\n",
        "5. Test new NER model robustness on the CoNLL test set from step 2\n",
        "\n",
        "6. Compare robustness of new NER model against original NER model"
      ]
    },
    {
      "cell_type": "markdown",
      "metadata": {
        "id": "mhARXTRrLblj"
      },
      "source": [
        "####Load Train and Test CoNLL"
      ]
    },
    {
      "cell_type": "code",
      "execution_count": null,
      "metadata": {
        "id": "bb_JS-WvLVaS"
      },
      "outputs": [],
      "source": [
        "# Load test CoNLL\n",
        "!wget https://raw.githubusercontent.com/JohnSnowLabs/langtest/main/langtest/data/conll/sample.conll\n",
        "\n",
        "# Load train CoNLL\n",
        "!wget https://raw.githubusercontent.com/JohnSnowLabs/langtest/main/demo/data/conll03.conll"
      ]
    },
    {
      "cell_type": "markdown",
      "metadata": {
        "id": "b6kTvLBaMm0K"
      },
      "source": [
        "#### Convert CoNLL into spaCy's JSON format:"
      ]
    },
    {
      "cell_type": "code",
      "execution_count": 4,
      "metadata": {
        "id": "-cK9bb2uMngM"
      },
      "outputs": [],
      "source": [
        "import json\n",
        "import spacy\n",
        "from pathlib import Path\n",
        "\n",
        "def read_conll_file(file_path):\n",
        "    with open(file_path, \"r\", encoding=\"utf-8\") as file:\n",
        "        content = file.read().strip()\n",
        "\n",
        "    sentences = content.split(\"\\n\\n\")\n",
        "\n",
        "    data = []\n",
        "    for sentence in sentences:\n",
        "        tokens = sentence.split(\"\\n\")\n",
        "        token_data = []\n",
        "\n",
        "        for token in tokens:\n",
        "            parts = token.split()\n",
        "            if len(parts) == 4:\n",
        "                token_data.append((parts[0], parts[3]))\n",
        "\n",
        "        data.append(token_data)\n",
        "\n",
        "    return data\n",
        "\n",
        "def convert_to_spacy_format(data):\n",
        "    spacy_data = []\n",
        "\n",
        "    for tokens in data:\n",
        "        text = \" \".join([token[0] for token in tokens])\n",
        "        entities = []\n",
        "\n",
        "        i = 0\n",
        "        while i < len(tokens):\n",
        "            token, label = tokens[i]\n",
        "\n",
        "            if label.startswith(\"B-\"):\n",
        "                start = i\n",
        "                end = i\n",
        "                label = label[2:]\n",
        "\n",
        "                i += 1\n",
        "                while i < len(tokens) and tokens[i][1] == f\"I-{label}\":\n",
        "                    end = i\n",
        "                    i += 1\n",
        "\n",
        "                start_char = len(\" \".join([token[0] for token in tokens[:start]])) + (1 if start > 0 else 0)\n",
        "                end_char = len(\" \".join([token[0] for token in tokens[:end+1]]))\n",
        "\n",
        "                entities.append((start_char, end_char, label))\n",
        "            else:\n",
        "                i += 1\n",
        "\n",
        "        spacy_data.append({\"text\": text, \"entities\": entities})\n",
        "\n",
        "    return spacy_data\n",
        "\n",
        "def convert_conll_to_spacy(conll_file_path, output_file_path):\n",
        "    conll_data = read_conll_file(conll_file_path)\n",
        "    spacy_data = convert_to_spacy_format(conll_data)\n",
        "\n",
        "    with open(output_file_path, \"w\", encoding=\"utf-8\") as file:\n",
        "        json.dump(spacy_data, file, indent=2, ensure_ascii=False)\n",
        "\n"
      ]
    },
    {
      "cell_type": "markdown",
      "metadata": {
        "id": "VYv2yE4eNDGp"
      },
      "source": [
        "#### Provide path to train CoNLL and output path to save spaCy's JSON format"
      ]
    },
    {
      "cell_type": "code",
      "execution_count": 5,
      "metadata": {
        "id": "ddD9Hxu7NATq"
      },
      "outputs": [],
      "source": [
        "conll_file_path = \"/content/conll03.conll\"\n",
        "output_file_path = \"output_spacy.json\"\n",
        "convert_conll_to_spacy(conll_file_path, output_file_path)"
      ]
    },
    {
      "cell_type": "markdown",
      "metadata": {
        "id": "nSHUWKLvNfKM"
      },
      "source": [
        "#### Training Pipeline"
      ]
    },
    {
      "cell_type": "code",
      "execution_count": 6,
      "metadata": {
        "id": "VuYjsJqVHP0b"
      },
      "outputs": [],
      "source": [
        "import spacy\n",
        "import random\n",
        "import json\n",
        "import os\n",
        "from spacy.training import Example\n",
        "from spacy.util import minibatch, compounding\n",
        "from pathlib import Path\n",
        "\n",
        "def load_data(file_path):\n",
        "    with open(file_path, \"r\", encoding=\"utf-8\") as file:\n",
        "        data = json.load(file)\n",
        "    return [(item[\"text\"], {\"entities\": item[\"entities\"]}) for item in data]\n",
        "\n",
        "def train_ner_model(training_data, output_dir, n_iter=15):\n",
        "    nlp = spacy.blank(\"en\")\n",
        "    nlp.add_pipe(\"ner\")\n",
        "    ner = nlp.get_pipe(\"ner\")\n",
        "\n",
        "    for _, annotations in training_data:\n",
        "        for ent in annotations.get(\"entities\"):\n",
        "            ner.add_label(ent[2])\n",
        "\n",
        "    pipe_exceptions = [\"ner\", \"trf_wordpiecer\", \"trf_tok2vec\"]\n",
        "    other_pipes = [pipe for pipe in nlp.pipe_names if pipe not in pipe_exceptions]\n",
        "\n",
        "    # Set the random seeds manually\n",
        "    random.seed(1)\n",
        "    os.environ[\"PYTHONHASHSEED\"] = str(1)\n",
        "    \n",
        "    with nlp.disable_pipes(*other_pipes):\n",
        "        optimizer = nlp.begin_training()\n",
        "        for itn in range(n_iter):\n",
        "            random.shuffle(training_data)\n",
        "            losses = {}\n",
        "            batches = minibatch(training_data, size=compounding(4.0, 32.0, 1.001))\n",
        "\n",
        "            for batch in batches:\n",
        "                examples = []\n",
        "                for text, annotations in batch:\n",
        "                    doc = nlp.make_doc(text)\n",
        "                    example = Example.from_dict(doc, annotations)\n",
        "                    examples.append(example)\n",
        "                nlp.update(examples, sgd=optimizer, drop=0.35, losses=losses)\n",
        "\n",
        "            print(f\"Losses at iteration {itn}: {losses}\")\n",
        "\n",
        "    if output_dir is not None:\n",
        "        output_dir = Path(output_dir)\n",
        "        if not output_dir.exists():\n",
        "            output_dir.mkdir()\n",
        "        nlp.to_disk(output_dir)\n",
        "        print(f\"Saved model to {output_dir}\")\n",
        "\n",
        "def load_model(model_dir):\n",
        "    model_path = Path(model_dir)\n",
        "    nlp = spacy.load(model_path)\n",
        "    return nlp"
      ]
    },
    {
      "cell_type": "markdown",
      "metadata": {
        "id": "rGJFp6L2NnPQ"
      },
      "source": [
        "#### Provide path to obtained spaCy's JSON format and path to save the trained model."
      ]
    },
    {
      "cell_type": "code",
      "execution_count": 7,
      "metadata": {
        "colab": {
          "base_uri": "https://localhost:8080/"
        },
        "id": "8O3_AS7hNqBI",
        "outputId": "186e0105-efe6-4ded-8993-7c21424fa76d"
      },
      "outputs": [
        {
          "name": "stdout",
          "output_type": "stream",
          "text": [
            "Losses at iteration 0: {'ner': 6381.857948643968}\n",
            "Losses at iteration 1: {'ner': 3864.764122574894}\n",
            "Losses at iteration 2: {'ner': 3051.151795866062}\n",
            "Losses at iteration 3: {'ner': 2499.3476493165126}\n",
            "Losses at iteration 4: {'ner': 2117.314489854248}\n",
            "Losses at iteration 5: {'ner': 1889.0129265490214}\n",
            "Losses at iteration 6: {'ner': 1611.2352991810694}\n",
            "Losses at iteration 7: {'ner': 1523.9908579266075}\n",
            "Losses at iteration 8: {'ner': 1375.6149325422787}\n",
            "Losses at iteration 9: {'ner': 1208.7780095227226}\n",
            "Losses at iteration 10: {'ner': 1138.7647214479105}\n",
            "Losses at iteration 11: {'ner': 1112.2123309850094}\n",
            "Losses at iteration 12: {'ner': 926.2312691842374}\n",
            "Losses at iteration 13: {'ner': 860.0685264074192}\n",
            "Losses at iteration 14: {'ner': 843.776615387614}\n",
            "Saved model to output_model\n"
          ]
        }
      ],
      "source": [
        "data_file = \"output_spacy.json\"\n",
        "output_dir = \"output_model\"\n",
        "train_data = load_data(data_file)\n",
        "train_ner_model(train_data, output_dir)\n"
      ]
    },
    {
      "cell_type": "markdown",
      "metadata": {
        "id": "-v4rjCsyPKK0"
      },
      "source": [
        "#### Test NER Model Robustness "
      ]
    },
    {
      "cell_type": "code",
      "execution_count": 9,
      "metadata": {
        "id": "Qm4mZTl7H985"
      },
      "outputs": [],
      "source": [
        "h = Harness(task=\"ner\",model={\"model\": \"output_model\", \"hub\": \"spacy\"}, data={\"data_source\": \"/content/sample.conll\"})"
      ]
    },
    {
      "cell_type": "code",
      "execution_count": 10,
      "metadata": {
        "colab": {
          "base_uri": "https://localhost:8080/"
        },
        "id": "GSGF80KrJFb1",
        "outputId": "00a83d73-53a7-40ca-95f8-d36c65eee395"
      },
      "outputs": [
        {
          "data": {
            "text/plain": [
              "{'tests': {'defaults': {'min_pass_rate': 0.6},\n",
              " 'robustness': {'add_typo': {'min_pass_rate': 0.6},\n",
              "   'uppercase': {'min_pass_rate': 0.6}}}}"
            ]
          },
          "execution_count": 10,
          "metadata": {},
          "output_type": "execute_result"
        }
      ],
      "source": [
        "h.configure({\n",
        "    'tests': {\n",
        "        'defaults': {'min_pass_rate': 0.60},\n",
        "        \n",
        "        'robustness': {\n",
        "            'add_typo': {'min_pass_rate': 0.60}, \n",
        "            'uppercase':{'min_pass_rate': 0.60},\n",
        "        }\n",
        "    }\n",
        "})"
      ]
    },
    {
      "cell_type": "markdown",
      "metadata": {
        "id": "sxR0FrOLPWaw"
      },
      "source": [
        "Here we have configured the harness to perform two robustness tests (add_typo and uppercase) and defined the minimum pass rate for each test."
      ]
    },
    {
      "cell_type": "markdown",
      "metadata": {
        "id": "rh3CCi91Pei-"
      },
      "source": [
        "\n",
        "#### Generating the test cases."
      ]
    },
    {
      "cell_type": "code",
      "execution_count": 11,
      "metadata": {
        "colab": {
          "base_uri": "https://localhost:8080/"
        },
        "id": "LYCtfBR8JMx6",
        "outputId": "a1fcb0ea-ace0-496b-8dcf-0869f3aaa96b"
      },
      "outputs": [
        {
          "name": "stderr",
          "output_type": "stream",
          "text": [
            "Generating testcases... (robustness): 100%|██████████| 1/1 [00:01<00:00,  1.59s/it]\n"
          ]
        },
        {
          "data": {
            "text/plain": []
          },
          "execution_count": 11,
          "metadata": {},
          "output_type": "execute_result"
        }
      ],
      "source": [
        "h.generate()"
      ]
    },
    {
      "cell_type": "markdown",
      "metadata": {
        "id": "MUi0z5AMPhJX"
      },
      "source": [
        "harness.generate() method automatically generates the test cases (based on the provided configuration)"
      ]
    },
    {
      "cell_type": "code",
      "execution_count": 12,
      "metadata": {
        "colab": {
          "base_uri": "https://localhost:8080/",
          "height": 423
        },
        "id": "6qD4rrzjJSTd",
        "outputId": "b68d4b50-28ca-4a50-8a51-c5a87ddfdf5c"
      },
      "outputs": [
        {
          "data": {
            "text/html": [
              "\n",
              "  <div id=\"df-64b121be-7cc7-42d3-b8ff-7120b7e165e2\">\n",
              "    <div class=\"colab-df-container\">\n",
              "      <div>\n",
              "<style scoped>\n",
              "    .dataframe tbody tr th:only-of-type {\n",
              "        vertical-align: middle;\n",
              "    }\n",
              "\n",
              "    .dataframe tbody tr th {\n",
              "        vertical-align: top;\n",
              "    }\n",
              "\n",
              "    .dataframe thead th {\n",
              "        text-align: right;\n",
              "    }\n",
              "</style>\n",
              "<table border=\"1\" class=\"dataframe\">\n",
              "  <thead>\n",
              "    <tr style=\"text-align: right;\">\n",
              "      <th></th>\n",
              "      <th>category</th>\n",
              "      <th>test_type</th>\n",
              "      <th>original</th>\n",
              "      <th>test_case</th>\n",
              "      <th>expected_result</th>\n",
              "    </tr>\n",
              "  </thead>\n",
              "  <tbody>\n",
              "    <tr>\n",
              "      <th>0</th>\n",
              "      <td>robustness</td>\n",
              "      <td>add_typo</td>\n",
              "      <td>SOCCER - JAPAN GET LUCKY WIN , CHINA IN SURPRI...</td>\n",
              "      <td>SOCCER - JAPAN GET LUCKY WIN , CHINA IY SURPRI...</td>\n",
              "      <td>JAPAN: LOC, CHINA: LOC, SURPRISE: LOC</td>\n",
              "    </tr>\n",
              "    <tr>\n",
              "      <th>1</th>\n",
              "      <td>robustness</td>\n",
              "      <td>add_typo</td>\n",
              "      <td>Nadim Ladki</td>\n",
              "      <td>Nadim aLdki</td>\n",
              "      <td>Nadim Ladki: PER</td>\n",
              "    </tr>\n",
              "    <tr>\n",
              "      <th>2</th>\n",
              "      <td>robustness</td>\n",
              "      <td>add_typo</td>\n",
              "      <td>AL-AIN , United Arab Emirates 1996-12-06</td>\n",
              "      <td>AL-AIN , United Arag Emirates 1996-12-06</td>\n",
              "      <td>AL-AIN: LOC, United Arab Emirates 1996-12: ORG</td>\n",
              "    </tr>\n",
              "    <tr>\n",
              "      <th>3</th>\n",
              "      <td>robustness</td>\n",
              "      <td>add_typo</td>\n",
              "      <td>Japan began the defence of their Asian Cup tit...</td>\n",
              "      <td>Japan began the defence of their Asian Cup tit...</td>\n",
              "      <td>Japan: LOC, Asian Cup: MISC, Syria: LOC, Group...</td>\n",
              "    </tr>\n",
              "    <tr>\n",
              "      <th>4</th>\n",
              "      <td>robustness</td>\n",
              "      <td>add_typo</td>\n",
              "      <td>But China saw their luck desert them in the se...</td>\n",
              "      <td>But China saw their luck desert them in the se...</td>\n",
              "      <td>China: LOC, Uzbekistan: LOC</td>\n",
              "    </tr>\n",
              "    <tr>\n",
              "      <th>...</th>\n",
              "      <td>...</td>\n",
              "      <td>...</td>\n",
              "      <td>...</td>\n",
              "      <td>...</td>\n",
              "      <td>...</td>\n",
              "    </tr>\n",
              "    <tr>\n",
              "      <th>447</th>\n",
              "      <td>robustness</td>\n",
              "      <td>uppercase</td>\n",
              "      <td>Portuguesa 1 Atletico Mineiro 0</td>\n",
              "      <td>PORTUGUESA 1 ATLETICO MINEIRO 0</td>\n",
              "      <td>Portuguesa: ORG, Atletico Mineiro: PER</td>\n",
              "    </tr>\n",
              "    <tr>\n",
              "      <th>448</th>\n",
              "      <td>robustness</td>\n",
              "      <td>uppercase</td>\n",
              "      <td>CRICKET - LARA ENDURES ANOTHER MISERABLE DAY .</td>\n",
              "      <td>CRICKET - LARA ENDURES ANOTHER MISERABLE DAY .</td>\n",
              "      <td>LARA: PER, MISERABLE: MISC</td>\n",
              "    </tr>\n",
              "    <tr>\n",
              "      <th>449</th>\n",
              "      <td>robustness</td>\n",
              "      <td>uppercase</td>\n",
              "      <td>Robert Galvin</td>\n",
              "      <td>ROBERT GALVIN</td>\n",
              "      <td>Robert Galvin: PER</td>\n",
              "    </tr>\n",
              "    <tr>\n",
              "      <th>450</th>\n",
              "      <td>robustness</td>\n",
              "      <td>uppercase</td>\n",
              "      <td>MELBOURNE 1996-12-06</td>\n",
              "      <td>MELBOURNE 1996-12-06</td>\n",
              "      <td>MELBOURNE: LOC</td>\n",
              "    </tr>\n",
              "    <tr>\n",
              "      <th>451</th>\n",
              "      <td>robustness</td>\n",
              "      <td>uppercase</td>\n",
              "      <td>Australia gave Brian Lara another reason to be...</td>\n",
              "      <td>AUSTRALIA GAVE BRIAN LARA ANOTHER REASON TO BE...</td>\n",
              "      <td>Australia: LOC, Brian Lara: PER, West Indies: ...</td>\n",
              "    </tr>\n",
              "  </tbody>\n",
              "</table>\n",
              "<p>452 rows × 5 columns</p>\n",
              "</div>\n",
              "      <button class=\"colab-df-convert\" onclick=\"convertToInteractive('df-64b121be-7cc7-42d3-b8ff-7120b7e165e2')\"\n",
              "              title=\"Convert this dataframe to an interactive table.\"\n",
              "              style=\"display:none;\">\n",
              "        \n",
              "  <svg xmlns=\"http://www.w3.org/2000/svg\" height=\"24px\"viewBox=\"0 0 24 24\"\n",
              "       width=\"24px\">\n",
              "    <path d=\"M0 0h24v24H0V0z\" fill=\"none\"/>\n",
              "    <path d=\"M18.56 5.44l.94 2.06.94-2.06 2.06-.94-2.06-.94-.94-2.06-.94 2.06-2.06.94zm-11 1L8.5 8.5l.94-2.06 2.06-.94-2.06-.94L8.5 2.5l-.94 2.06-2.06.94zm10 10l.94 2.06.94-2.06 2.06-.94-2.06-.94-.94-2.06-.94 2.06-2.06.94z\"/><path d=\"M17.41 7.96l-1.37-1.37c-.4-.4-.92-.59-1.43-.59-.52 0-1.04.2-1.43.59L10.3 9.45l-7.72 7.72c-.78.78-.78 2.05 0 2.83L4 21.41c.39.39.9.59 1.41.59.51 0 1.02-.2 1.41-.59l7.78-7.78 2.81-2.81c.8-.78.8-2.07 0-2.86zM5.41 20L4 18.59l7.72-7.72 1.47 1.35L5.41 20z\"/>\n",
              "  </svg>\n",
              "      </button>\n",
              "      \n",
              "  <style>\n",
              "    .colab-df-container {\n",
              "      display:flex;\n",
              "      flex-wrap:wrap;\n",
              "      gap: 12px;\n",
              "    }\n",
              "\n",
              "    .colab-df-convert {\n",
              "      background-color: #E8F0FE;\n",
              "      border: none;\n",
              "      border-radius: 50%;\n",
              "      cursor: pointer;\n",
              "      display: none;\n",
              "      fill: #1967D2;\n",
              "      height: 32px;\n",
              "      padding: 0 0 0 0;\n",
              "      width: 32px;\n",
              "    }\n",
              "\n",
              "    .colab-df-convert:hover {\n",
              "      background-color: #E2EBFA;\n",
              "      box-shadow: 0px 1px 2px rgba(60, 64, 67, 0.3), 0px 1px 3px 1px rgba(60, 64, 67, 0.15);\n",
              "      fill: #174EA6;\n",
              "    }\n",
              "\n",
              "    [theme=dark] .colab-df-convert {\n",
              "      background-color: #3B4455;\n",
              "      fill: #D2E3FC;\n",
              "    }\n",
              "\n",
              "    [theme=dark] .colab-df-convert:hover {\n",
              "      background-color: #434B5C;\n",
              "      box-shadow: 0px 1px 3px 1px rgba(0, 0, 0, 0.15);\n",
              "      filter: drop-shadow(0px 1px 2px rgba(0, 0, 0, 0.3));\n",
              "      fill: #FFFFFF;\n",
              "    }\n",
              "  </style>\n",
              "\n",
              "      <script>\n",
              "        const buttonEl =\n",
              "          document.querySelector('#df-64b121be-7cc7-42d3-b8ff-7120b7e165e2 button.colab-df-convert');\n",
              "        buttonEl.style.display =\n",
              "          google.colab.kernel.accessAllowed ? 'block' : 'none';\n",
              "\n",
              "        async function convertToInteractive(key) {\n",
              "          const element = document.querySelector('#df-64b121be-7cc7-42d3-b8ff-7120b7e165e2');\n",
              "          const dataTable =\n",
              "            await google.colab.kernel.invokeFunction('convertToInteractive',\n",
              "                                                     [key], {});\n",
              "          if (!dataTable) return;\n",
              "\n",
              "          const docLinkHtml = 'Like what you see? Visit the ' +\n",
              "            '<a target=\"_blank\" href=https://colab.research.google.com/notebooks/data_table.ipynb>data table notebook</a>'\n",
              "            + ' to learn more about interactive tables.';\n",
              "          element.innerHTML = '';\n",
              "          dataTable['output_type'] = 'display_data';\n",
              "          await google.colab.output.renderOutput(dataTable, element);\n",
              "          const docLink = document.createElement('div');\n",
              "          docLink.innerHTML = docLinkHtml;\n",
              "          element.appendChild(docLink);\n",
              "        }\n",
              "      </script>\n",
              "    </div>\n",
              "  </div>\n",
              "  "
            ],
            "text/plain": [
              "       category  test_type                                           original  \\\n",
              "0    robustness   add_typo  SOCCER - JAPAN GET LUCKY WIN , CHINA IN SURPRI...   \n",
              "1    robustness   add_typo                                        Nadim Ladki   \n",
              "2    robustness   add_typo           AL-AIN , United Arab Emirates 1996-12-06   \n",
              "3    robustness   add_typo  Japan began the defence of their Asian Cup tit...   \n",
              "4    robustness   add_typo  But China saw their luck desert them in the se...   \n",
              "..          ...        ...                                                ...   \n",
              "447  robustness  uppercase                    Portuguesa 1 Atletico Mineiro 0   \n",
              "448  robustness  uppercase     CRICKET - LARA ENDURES ANOTHER MISERABLE DAY .   \n",
              "449  robustness  uppercase                                      Robert Galvin   \n",
              "450  robustness  uppercase                               MELBOURNE 1996-12-06   \n",
              "451  robustness  uppercase  Australia gave Brian Lara another reason to be...   \n",
              "\n",
              "                                             test_case  \\\n",
              "0    SOCCER - JAPAN GET LUCKY WIN , CHINA IY SURPRI...   \n",
              "1                                          Nadim aLdki   \n",
              "2             AL-AIN , United Arag Emirates 1996-12-06   \n",
              "3    Japan began the defence of their Asian Cup tit...   \n",
              "4    But China saw their luck desert them in the se...   \n",
              "..                                                 ...   \n",
              "447                    PORTUGUESA 1 ATLETICO MINEIRO 0   \n",
              "448     CRICKET - LARA ENDURES ANOTHER MISERABLE DAY .   \n",
              "449                                      ROBERT GALVIN   \n",
              "450                               MELBOURNE 1996-12-06   \n",
              "451  AUSTRALIA GAVE BRIAN LARA ANOTHER REASON TO BE...   \n",
              "\n",
              "                                       expected_result  \n",
              "0                JAPAN: LOC, CHINA: LOC, SURPRISE: LOC  \n",
              "1                                     Nadim Ladki: PER  \n",
              "2       AL-AIN: LOC, United Arab Emirates 1996-12: ORG  \n",
              "3    Japan: LOC, Asian Cup: MISC, Syria: LOC, Group...  \n",
              "4                          China: LOC, Uzbekistan: LOC  \n",
              "..                                                 ...  \n",
              "447             Portuguesa: ORG, Atletico Mineiro: PER  \n",
              "448                         LARA: PER, MISERABLE: MISC  \n",
              "449                                 Robert Galvin: PER  \n",
              "450                                     MELBOURNE: LOC  \n",
              "451  Australia: LOC, Brian Lara: PER, West Indies: ...  \n",
              "\n",
              "[452 rows x 5 columns]"
            ]
          },
          "execution_count": 12,
          "metadata": {},
          "output_type": "execute_result"
        }
      ],
      "source": [
        "h.testcases()"
      ]
    },
    {
      "cell_type": "markdown",
      "metadata": {
        "id": "YrcJMkEyPhwV"
      },
      "source": [
        "harness.testcases() method gives the produced test cases in form of a pandas data frame."
      ]
    },
    {
      "cell_type": "markdown",
      "metadata": {
        "id": "zZndfk3pPuLq"
      },
      "source": [
        "#### Saving test configurations, data, test cases"
      ]
    },
    {
      "cell_type": "code",
      "execution_count": 13,
      "metadata": {
        "id": "jwvUMF4KJTCz"
      },
      "outputs": [],
      "source": [
        "h.save(\"saved_test_configurations\")"
      ]
    },
    {
      "cell_type": "markdown",
      "metadata": {
        "id": "r68O_EnLPxF2"
      },
      "source": [
        "#### Running the tests"
      ]
    },
    {
      "cell_type": "code",
      "execution_count": 14,
      "metadata": {
        "colab": {
          "base_uri": "https://localhost:8080/"
        },
        "id": "Pgv1hV6hJZZi",
        "outputId": "7db08544-ae2b-4f72-ef2d-c99349d37f30"
      },
      "outputs": [
        {
          "name": "stderr",
          "output_type": "stream",
          "text": [
            "Running test cases...: 100%|██████████| 452/452 [00:03<00:00, 125.03it/s]\n"
          ]
        },
        {
          "data": {
            "text/plain": []
          },
          "execution_count": 14,
          "metadata": {},
          "output_type": "execute_result"
        }
      ],
      "source": [
        "h.run()"
      ]
    },
    {
      "cell_type": "markdown",
      "metadata": {
        "id": "33Am7EGiP0O4"
      },
      "source": [
        "Called after harness.generate() and is to used to run all the tests.  Returns a pass/fail flag for each test."
      ]
    },
    {
      "cell_type": "code",
      "execution_count": 15,
      "metadata": {
        "colab": {
          "base_uri": "https://localhost:8080/",
          "height": 554
        },
        "id": "pZH5Jy8bJcBb",
        "outputId": "932685d2-057a-4bc0-bfc5-b9cf1c14ec7a"
      },
      "outputs": [
        {
          "data": {
            "text/html": [
              "\n",
              "  <div id=\"df-6fb8e131-5b8b-40c8-bff6-fcb595790617\">\n",
              "    <div class=\"colab-df-container\">\n",
              "      <div>\n",
              "<style scoped>\n",
              "    .dataframe tbody tr th:only-of-type {\n",
              "        vertical-align: middle;\n",
              "    }\n",
              "\n",
              "    .dataframe tbody tr th {\n",
              "        vertical-align: top;\n",
              "    }\n",
              "\n",
              "    .dataframe thead th {\n",
              "        text-align: right;\n",
              "    }\n",
              "</style>\n",
              "<table border=\"1\" class=\"dataframe\">\n",
              "  <thead>\n",
              "    <tr style=\"text-align: right;\">\n",
              "      <th></th>\n",
              "      <th>category</th>\n",
              "      <th>test_type</th>\n",
              "      <th>original</th>\n",
              "      <th>test_case</th>\n",
              "      <th>expected_result</th>\n",
              "      <th>actual_result</th>\n",
              "      <th>pass</th>\n",
              "    </tr>\n",
              "  </thead>\n",
              "  <tbody>\n",
              "    <tr>\n",
              "      <th>0</th>\n",
              "      <td>robustness</td>\n",
              "      <td>add_typo</td>\n",
              "      <td>SOCCER - JAPAN GET LUCKY WIN , CHINA IN SURPRI...</td>\n",
              "      <td>SOCCER - JAPAN GET LUCKY WIN , CHINA IY SURPRI...</td>\n",
              "      <td>JAPAN: LOC, CHINA: LOC, SURPRISE: LOC</td>\n",
              "      <td>JAPAN: LOC</td>\n",
              "      <td>False</td>\n",
              "    </tr>\n",
              "    <tr>\n",
              "      <th>1</th>\n",
              "      <td>robustness</td>\n",
              "      <td>add_typo</td>\n",
              "      <td>Nadim Ladki</td>\n",
              "      <td>Nadim aLdki</td>\n",
              "      <td>Nadim Ladki: PER</td>\n",
              "      <td>Nadim: PER</td>\n",
              "      <td>False</td>\n",
              "    </tr>\n",
              "    <tr>\n",
              "      <th>2</th>\n",
              "      <td>robustness</td>\n",
              "      <td>add_typo</td>\n",
              "      <td>AL-AIN , United Arab Emirates 1996-12-06</td>\n",
              "      <td>AL-AIN , United Arag Emirates 1996-12-06</td>\n",
              "      <td>AL-AIN: LOC, United Arab Emirates 1996-12: ORG</td>\n",
              "      <td>AL-AIN: LOC, United Arag Emirates: ORG</td>\n",
              "      <td>False</td>\n",
              "    </tr>\n",
              "    <tr>\n",
              "      <th>3</th>\n",
              "      <td>robustness</td>\n",
              "      <td>add_typo</td>\n",
              "      <td>Japan began the defence of their Asian Cup tit...</td>\n",
              "      <td>Japan began the defence of their Asian Cup tit...</td>\n",
              "      <td>Japan: LOC, Asian Cup: MISC, Syria: LOC, Group...</td>\n",
              "      <td>Japan: LOC, Asian Cup: MISC, Syria: LOC, Group...</td>\n",
              "      <td>True</td>\n",
              "    </tr>\n",
              "    <tr>\n",
              "      <th>4</th>\n",
              "      <td>robustness</td>\n",
              "      <td>add_typo</td>\n",
              "      <td>But China saw their luck desert them in the se...</td>\n",
              "      <td>But China saw their luck desert them in the se...</td>\n",
              "      <td>China: LOC, Uzbekistan: LOC</td>\n",
              "      <td>China: LOC, Uzbekistan: LOC</td>\n",
              "      <td>True</td>\n",
              "    </tr>\n",
              "    <tr>\n",
              "      <th>...</th>\n",
              "      <td>...</td>\n",
              "      <td>...</td>\n",
              "      <td>...</td>\n",
              "      <td>...</td>\n",
              "      <td>...</td>\n",
              "      <td>...</td>\n",
              "      <td>...</td>\n",
              "    </tr>\n",
              "    <tr>\n",
              "      <th>447</th>\n",
              "      <td>robustness</td>\n",
              "      <td>uppercase</td>\n",
              "      <td>Portuguesa 1 Atletico Mineiro 0</td>\n",
              "      <td>PORTUGUESA 1 ATLETICO MINEIRO 0</td>\n",
              "      <td>Portuguesa: ORG, Atletico Mineiro: PER</td>\n",
              "      <td>PORTUGUESA: ORG, ATLETICO MINEIRO: ORG</td>\n",
              "      <td>False</td>\n",
              "    </tr>\n",
              "    <tr>\n",
              "      <th>448</th>\n",
              "      <td>robustness</td>\n",
              "      <td>uppercase</td>\n",
              "      <td>CRICKET - LARA ENDURES ANOTHER MISERABLE DAY .</td>\n",
              "      <td>CRICKET - LARA ENDURES ANOTHER MISERABLE DAY .</td>\n",
              "      <td>LARA: PER, MISERABLE: MISC</td>\n",
              "      <td>LARA: PER, MISERABLE: MISC</td>\n",
              "      <td>True</td>\n",
              "    </tr>\n",
              "    <tr>\n",
              "      <th>449</th>\n",
              "      <td>robustness</td>\n",
              "      <td>uppercase</td>\n",
              "      <td>Robert Galvin</td>\n",
              "      <td>ROBERT GALVIN</td>\n",
              "      <td>Robert Galvin: PER</td>\n",
              "      <td>ROBERT: MISC</td>\n",
              "      <td>False</td>\n",
              "    </tr>\n",
              "    <tr>\n",
              "      <th>450</th>\n",
              "      <td>robustness</td>\n",
              "      <td>uppercase</td>\n",
              "      <td>MELBOURNE 1996-12-06</td>\n",
              "      <td>MELBOURNE 1996-12-06</td>\n",
              "      <td>MELBOURNE: LOC</td>\n",
              "      <td>MELBOURNE: LOC</td>\n",
              "      <td>True</td>\n",
              "    </tr>\n",
              "    <tr>\n",
              "      <th>451</th>\n",
              "      <td>robustness</td>\n",
              "      <td>uppercase</td>\n",
              "      <td>Australia gave Brian Lara another reason to be...</td>\n",
              "      <td>AUSTRALIA GAVE BRIAN LARA ANOTHER REASON TO BE...</td>\n",
              "      <td>Australia: LOC, Brian Lara: PER, West Indies: ...</td>\n",
              "      <td>AUSTRALIA: LOC, MISERABLE: MISC, WEST: LOC, OP...</td>\n",
              "      <td>False</td>\n",
              "    </tr>\n",
              "  </tbody>\n",
              "</table>\n",
              "<p>452 rows × 7 columns</p>\n",
              "</div>\n",
              "      <button class=\"colab-df-convert\" onclick=\"convertToInteractive('df-6fb8e131-5b8b-40c8-bff6-fcb595790617')\"\n",
              "              title=\"Convert this dataframe to an interactive table.\"\n",
              "              style=\"display:none;\">\n",
              "        \n",
              "  <svg xmlns=\"http://www.w3.org/2000/svg\" height=\"24px\"viewBox=\"0 0 24 24\"\n",
              "       width=\"24px\">\n",
              "    <path d=\"M0 0h24v24H0V0z\" fill=\"none\"/>\n",
              "    <path d=\"M18.56 5.44l.94 2.06.94-2.06 2.06-.94-2.06-.94-.94-2.06-.94 2.06-2.06.94zm-11 1L8.5 8.5l.94-2.06 2.06-.94-2.06-.94L8.5 2.5l-.94 2.06-2.06.94zm10 10l.94 2.06.94-2.06 2.06-.94-2.06-.94-.94-2.06-.94 2.06-2.06.94z\"/><path d=\"M17.41 7.96l-1.37-1.37c-.4-.4-.92-.59-1.43-.59-.52 0-1.04.2-1.43.59L10.3 9.45l-7.72 7.72c-.78.78-.78 2.05 0 2.83L4 21.41c.39.39.9.59 1.41.59.51 0 1.02-.2 1.41-.59l7.78-7.78 2.81-2.81c.8-.78.8-2.07 0-2.86zM5.41 20L4 18.59l7.72-7.72 1.47 1.35L5.41 20z\"/>\n",
              "  </svg>\n",
              "      </button>\n",
              "      \n",
              "  <style>\n",
              "    .colab-df-container {\n",
              "      display:flex;\n",
              "      flex-wrap:wrap;\n",
              "      gap: 12px;\n",
              "    }\n",
              "\n",
              "    .colab-df-convert {\n",
              "      background-color: #E8F0FE;\n",
              "      border: none;\n",
              "      border-radius: 50%;\n",
              "      cursor: pointer;\n",
              "      display: none;\n",
              "      fill: #1967D2;\n",
              "      height: 32px;\n",
              "      padding: 0 0 0 0;\n",
              "      width: 32px;\n",
              "    }\n",
              "\n",
              "    .colab-df-convert:hover {\n",
              "      background-color: #E2EBFA;\n",
              "      box-shadow: 0px 1px 2px rgba(60, 64, 67, 0.3), 0px 1px 3px 1px rgba(60, 64, 67, 0.15);\n",
              "      fill: #174EA6;\n",
              "    }\n",
              "\n",
              "    [theme=dark] .colab-df-convert {\n",
              "      background-color: #3B4455;\n",
              "      fill: #D2E3FC;\n",
              "    }\n",
              "\n",
              "    [theme=dark] .colab-df-convert:hover {\n",
              "      background-color: #434B5C;\n",
              "      box-shadow: 0px 1px 3px 1px rgba(0, 0, 0, 0.15);\n",
              "      filter: drop-shadow(0px 1px 2px rgba(0, 0, 0, 0.3));\n",
              "      fill: #FFFFFF;\n",
              "    }\n",
              "  </style>\n",
              "\n",
              "      <script>\n",
              "        const buttonEl =\n",
              "          document.querySelector('#df-6fb8e131-5b8b-40c8-bff6-fcb595790617 button.colab-df-convert');\n",
              "        buttonEl.style.display =\n",
              "          google.colab.kernel.accessAllowed ? 'block' : 'none';\n",
              "\n",
              "        async function convertToInteractive(key) {\n",
              "          const element = document.querySelector('#df-6fb8e131-5b8b-40c8-bff6-fcb595790617');\n",
              "          const dataTable =\n",
              "            await google.colab.kernel.invokeFunction('convertToInteractive',\n",
              "                                                     [key], {});\n",
              "          if (!dataTable) return;\n",
              "\n",
              "          const docLinkHtml = 'Like what you see? Visit the ' +\n",
              "            '<a target=\"_blank\" href=https://colab.research.google.com/notebooks/data_table.ipynb>data table notebook</a>'\n",
              "            + ' to learn more about interactive tables.';\n",
              "          element.innerHTML = '';\n",
              "          dataTable['output_type'] = 'display_data';\n",
              "          await google.colab.output.renderOutput(dataTable, element);\n",
              "          const docLink = document.createElement('div');\n",
              "          docLink.innerHTML = docLinkHtml;\n",
              "          element.appendChild(docLink);\n",
              "        }\n",
              "      </script>\n",
              "    </div>\n",
              "  </div>\n",
              "  "
            ],
            "text/plain": [
              "       category  test_type                                           original  \\\n",
              "0    robustness   add_typo  SOCCER - JAPAN GET LUCKY WIN , CHINA IN SURPRI...   \n",
              "1    robustness   add_typo                                        Nadim Ladki   \n",
              "2    robustness   add_typo           AL-AIN , United Arab Emirates 1996-12-06   \n",
              "3    robustness   add_typo  Japan began the defence of their Asian Cup tit...   \n",
              "4    robustness   add_typo  But China saw their luck desert them in the se...   \n",
              "..          ...        ...                                                ...   \n",
              "447  robustness  uppercase                    Portuguesa 1 Atletico Mineiro 0   \n",
              "448  robustness  uppercase     CRICKET - LARA ENDURES ANOTHER MISERABLE DAY .   \n",
              "449  robustness  uppercase                                      Robert Galvin   \n",
              "450  robustness  uppercase                               MELBOURNE 1996-12-06   \n",
              "451  robustness  uppercase  Australia gave Brian Lara another reason to be...   \n",
              "\n",
              "                                             test_case  \\\n",
              "0    SOCCER - JAPAN GET LUCKY WIN , CHINA IY SURPRI...   \n",
              "1                                          Nadim aLdki   \n",
              "2             AL-AIN , United Arag Emirates 1996-12-06   \n",
              "3    Japan began the defence of their Asian Cup tit...   \n",
              "4    But China saw their luck desert them in the se...   \n",
              "..                                                 ...   \n",
              "447                    PORTUGUESA 1 ATLETICO MINEIRO 0   \n",
              "448     CRICKET - LARA ENDURES ANOTHER MISERABLE DAY .   \n",
              "449                                      ROBERT GALVIN   \n",
              "450                               MELBOURNE 1996-12-06   \n",
              "451  AUSTRALIA GAVE BRIAN LARA ANOTHER REASON TO BE...   \n",
              "\n",
              "                                       expected_result  \\\n",
              "0                JAPAN: LOC, CHINA: LOC, SURPRISE: LOC   \n",
              "1                                     Nadim Ladki: PER   \n",
              "2       AL-AIN: LOC, United Arab Emirates 1996-12: ORG   \n",
              "3    Japan: LOC, Asian Cup: MISC, Syria: LOC, Group...   \n",
              "4                          China: LOC, Uzbekistan: LOC   \n",
              "..                                                 ...   \n",
              "447             Portuguesa: ORG, Atletico Mineiro: PER   \n",
              "448                         LARA: PER, MISERABLE: MISC   \n",
              "449                                 Robert Galvin: PER   \n",
              "450                                     MELBOURNE: LOC   \n",
              "451  Australia: LOC, Brian Lara: PER, West Indies: ...   \n",
              "\n",
              "                                         actual_result   pass  \n",
              "0                                           JAPAN: LOC  False  \n",
              "1                                           Nadim: PER  False  \n",
              "2               AL-AIN: LOC, United Arag Emirates: ORG  False  \n",
              "3    Japan: LOC, Asian Cup: MISC, Syria: LOC, Group...   True  \n",
              "4                          China: LOC, Uzbekistan: LOC   True  \n",
              "..                                                 ...    ...  \n",
              "447             PORTUGUESA: ORG, ATLETICO MINEIRO: ORG  False  \n",
              "448                         LARA: PER, MISERABLE: MISC   True  \n",
              "449                                       ROBERT: MISC  False  \n",
              "450                                     MELBOURNE: LOC   True  \n",
              "451  AUSTRALIA: LOC, MISERABLE: MISC, WEST: LOC, OP...  False  \n",
              "\n",
              "[452 rows x 7 columns]"
            ]
          },
          "execution_count": 15,
          "metadata": {},
          "output_type": "execute_result"
        }
      ],
      "source": [
        "h.generated_results()"
      ]
    },
    {
      "cell_type": "markdown",
      "metadata": {
        "id": "kH3MqUUGP1Us"
      },
      "source": [
        "This method returns the generated results in the form of a pandas dataframe, which provides a convenient and easy-to-use format for working with the test results. You can use this method to quickly identify the test cases that failed and to determine where fixes are needed."
      ]
    },
    {
      "cell_type": "markdown",
      "metadata": {
        "id": "6yycurcqP8TP"
      },
      "source": [
        "#### Report of the tests"
      ]
    },
    {
      "cell_type": "code",
      "execution_count": 16,
      "metadata": {
        "colab": {
          "base_uri": "https://localhost:8080/",
          "height": 112
        },
        "id": "eoB1Cp8SJe0D",
        "outputId": "710a513b-d7e5-4e6c-9825-5c6b8cb8ff88"
      },
      "outputs": [
        {
          "data": {
            "text/html": [
              "\n",
              "  <div id=\"df-8abbb3a6-203b-49a4-b643-73d5ae4b4d88\">\n",
              "    <div class=\"colab-df-container\">\n",
              "      <div>\n",
              "<style scoped>\n",
              "    .dataframe tbody tr th:only-of-type {\n",
              "        vertical-align: middle;\n",
              "    }\n",
              "\n",
              "    .dataframe tbody tr th {\n",
              "        vertical-align: top;\n",
              "    }\n",
              "\n",
              "    .dataframe thead th {\n",
              "        text-align: right;\n",
              "    }\n",
              "</style>\n",
              "<table border=\"1\" class=\"dataframe\">\n",
              "  <thead>\n",
              "    <tr style=\"text-align: right;\">\n",
              "      <th></th>\n",
              "      <th>category</th>\n",
              "      <th>test_type</th>\n",
              "      <th>fail_count</th>\n",
              "      <th>pass_count</th>\n",
              "      <th>pass_rate</th>\n",
              "      <th>minimum_pass_rate</th>\n",
              "      <th>pass</th>\n",
              "    </tr>\n",
              "  </thead>\n",
              "  <tbody>\n",
              "    <tr>\n",
              "      <th>0</th>\n",
              "      <td>robustness</td>\n",
              "      <td>add_typo</td>\n",
              "      <td>53</td>\n",
              "      <td>173</td>\n",
              "      <td>77%</td>\n",
              "      <td>60%</td>\n",
              "      <td>True</td>\n",
              "    </tr>\n",
              "    <tr>\n",
              "      <th>1</th>\n",
              "      <td>robustness</td>\n",
              "      <td>uppercase</td>\n",
              "      <td>151</td>\n",
              "      <td>75</td>\n",
              "      <td>33%</td>\n",
              "      <td>60%</td>\n",
              "      <td>False</td>\n",
              "    </tr>\n",
              "  </tbody>\n",
              "</table>\n",
              "</div>\n",
              "      <button class=\"colab-df-convert\" onclick=\"convertToInteractive('df-8abbb3a6-203b-49a4-b643-73d5ae4b4d88')\"\n",
              "              title=\"Convert this dataframe to an interactive table.\"\n",
              "              style=\"display:none;\">\n",
              "        \n",
              "  <svg xmlns=\"http://www.w3.org/2000/svg\" height=\"24px\"viewBox=\"0 0 24 24\"\n",
              "       width=\"24px\">\n",
              "    <path d=\"M0 0h24v24H0V0z\" fill=\"none\"/>\n",
              "    <path d=\"M18.56 5.44l.94 2.06.94-2.06 2.06-.94-2.06-.94-.94-2.06-.94 2.06-2.06.94zm-11 1L8.5 8.5l.94-2.06 2.06-.94-2.06-.94L8.5 2.5l-.94 2.06-2.06.94zm10 10l.94 2.06.94-2.06 2.06-.94-2.06-.94-.94-2.06-.94 2.06-2.06.94z\"/><path d=\"M17.41 7.96l-1.37-1.37c-.4-.4-.92-.59-1.43-.59-.52 0-1.04.2-1.43.59L10.3 9.45l-7.72 7.72c-.78.78-.78 2.05 0 2.83L4 21.41c.39.39.9.59 1.41.59.51 0 1.02-.2 1.41-.59l7.78-7.78 2.81-2.81c.8-.78.8-2.07 0-2.86zM5.41 20L4 18.59l7.72-7.72 1.47 1.35L5.41 20z\"/>\n",
              "  </svg>\n",
              "      </button>\n",
              "      \n",
              "  <style>\n",
              "    .colab-df-container {\n",
              "      display:flex;\n",
              "      flex-wrap:wrap;\n",
              "      gap: 12px;\n",
              "    }\n",
              "\n",
              "    .colab-df-convert {\n",
              "      background-color: #E8F0FE;\n",
              "      border: none;\n",
              "      border-radius: 50%;\n",
              "      cursor: pointer;\n",
              "      display: none;\n",
              "      fill: #1967D2;\n",
              "      height: 32px;\n",
              "      padding: 0 0 0 0;\n",
              "      width: 32px;\n",
              "    }\n",
              "\n",
              "    .colab-df-convert:hover {\n",
              "      background-color: #E2EBFA;\n",
              "      box-shadow: 0px 1px 2px rgba(60, 64, 67, 0.3), 0px 1px 3px 1px rgba(60, 64, 67, 0.15);\n",
              "      fill: #174EA6;\n",
              "    }\n",
              "\n",
              "    [theme=dark] .colab-df-convert {\n",
              "      background-color: #3B4455;\n",
              "      fill: #D2E3FC;\n",
              "    }\n",
              "\n",
              "    [theme=dark] .colab-df-convert:hover {\n",
              "      background-color: #434B5C;\n",
              "      box-shadow: 0px 1px 3px 1px rgba(0, 0, 0, 0.15);\n",
              "      filter: drop-shadow(0px 1px 2px rgba(0, 0, 0, 0.3));\n",
              "      fill: #FFFFFF;\n",
              "    }\n",
              "  </style>\n",
              "\n",
              "      <script>\n",
              "        const buttonEl =\n",
              "          document.querySelector('#df-8abbb3a6-203b-49a4-b643-73d5ae4b4d88 button.colab-df-convert');\n",
              "        buttonEl.style.display =\n",
              "          google.colab.kernel.accessAllowed ? 'block' : 'none';\n",
              "\n",
              "        async function convertToInteractive(key) {\n",
              "          const element = document.querySelector('#df-8abbb3a6-203b-49a4-b643-73d5ae4b4d88');\n",
              "          const dataTable =\n",
              "            await google.colab.kernel.invokeFunction('convertToInteractive',\n",
              "                                                     [key], {});\n",
              "          if (!dataTable) return;\n",
              "\n",
              "          const docLinkHtml = 'Like what you see? Visit the ' +\n",
              "            '<a target=\"_blank\" href=https://colab.research.google.com/notebooks/data_table.ipynb>data table notebook</a>'\n",
              "            + ' to learn more about interactive tables.';\n",
              "          element.innerHTML = '';\n",
              "          dataTable['output_type'] = 'display_data';\n",
              "          await google.colab.output.renderOutput(dataTable, element);\n",
              "          const docLink = document.createElement('div');\n",
              "          docLink.innerHTML = docLinkHtml;\n",
              "          element.appendChild(docLink);\n",
              "        }\n",
              "      </script>\n",
              "    </div>\n",
              "  </div>\n",
              "  "
            ],
            "text/plain": [
              "     category  test_type  fail_count  pass_count pass_rate minimum_pass_rate  \\\n",
              "0  robustness   add_typo          53         173       77%               60%   \n",
              "1  robustness  uppercase         151          75       33%               60%   \n",
              "\n",
              "    pass  \n",
              "0   True  \n",
              "1  False  "
            ]
          },
          "execution_count": 16,
          "metadata": {},
          "output_type": "execute_result"
        }
      ],
      "source": [
        "h.report()"
      ]
    },
    {
      "cell_type": "markdown",
      "metadata": {
        "id": "icgZzCXBP5Pl"
      },
      "source": [
        "It summarizes the results giving information about pass and fail counts and overall test pass/fail flag."
      ]
    },
    {
      "cell_type": "markdown",
      "metadata": {
        "id": "0c2hM-c1QB0a"
      },
      "source": [
        "#### Augment CoNLL Training Set Based on Robustness Test Results"
      ]
    },
    {
      "cell_type": "code",
      "execution_count": 17,
      "metadata": {
        "colab": {
          "base_uri": "https://localhost:8080/"
        },
        "id": "1PgESWMTJupx",
        "outputId": "1faa39be-a5c4-4603-e083-2efb28d0e159"
      },
      "outputs": [
        {
          "data": {
            "text/plain": []
          },
          "execution_count": 17,
          "metadata": {},
          "output_type": "execute_result"
        }
      ],
      "source": [
        "data_kwargs = {\n",
        "      \"data_source\" : \"conll03.conll\",\n",
        "       }\n",
        "\n",
        "h.augment(training_data=data_kwargs, save_data_path=\"augmented.conll\", export_mode=\"add\")"
      ]
    },
    {
      "cell_type": "markdown",
      "metadata": {
        "id": "Sec1D3VxQGn_"
      },
      "source": [
        "#### Provide path to Augmented CoNLL and output path to save spaCy's JSON format for augmented conll."
      ]
    },
    {
      "cell_type": "code",
      "execution_count": 18,
      "metadata": {
        "id": "aVFALR0pJrSu"
      },
      "outputs": [],
      "source": [
        "conll_file_path = \"augmented.conll\"\n",
        "output_file_path = \"augmented_output_spacy.json\"\n",
        "convert_conll_to_spacy(conll_file_path, output_file_path)"
      ]
    },
    {
      "cell_type": "markdown",
      "metadata": {
        "id": "MK5qCIvtQgAY"
      },
      "source": [
        "#### Provide path to augmented spaCy's JSON format and path to save new augmented model."
      ]
    },
    {
      "cell_type": "code",
      "execution_count": 19,
      "metadata": {
        "colab": {
          "base_uri": "https://localhost:8080/"
        },
        "id": "RJvg_VviQeen",
        "outputId": "91c71952-f9bd-4057-b668-dfe3405fded5"
      },
      "outputs": [
        {
          "name": "stdout",
          "output_type": "stream",
          "text": [
            "Losses at iteration 0: {'ner': 9605.107478641221}\n",
            "Losses at iteration 1: {'ner': 6125.186236990126}\n",
            "Losses at iteration 2: {'ner': 4688.077327161083}\n",
            "Losses at iteration 3: {'ner': 3704.1383706821543}\n",
            "Losses at iteration 4: {'ner': 3190.90800643878}\n",
            "Losses at iteration 5: {'ner': 2742.468519395338}\n",
            "Losses at iteration 6: {'ner': 2401.4555582425937}\n",
            "Losses at iteration 7: {'ner': 2305.815699847071}\n",
            "Losses at iteration 8: {'ner': 1942.8317778558853}\n",
            "Losses at iteration 9: {'ner': 1858.8346100515546}\n",
            "Losses at iteration 10: {'ner': 1756.4482908866023}\n",
            "Losses at iteration 11: {'ner': 1732.2546920814216}\n",
            "Losses at iteration 12: {'ner': 1563.8353816914448}\n",
            "Losses at iteration 13: {'ner': 1464.5912482381007}\n",
            "Losses at iteration 14: {'ner': 1409.599310790677}\n",
            "Saved model to augmented_output_model\n"
          ]
        }
      ],
      "source": [
        "data_file = \"augmented_output_spacy.json\"\n",
        "output_dir = \"augmented_output_model\"\n",
        "train_data = load_data(data_file)\n",
        "train_ner_model(train_data, output_dir)"
      ]
    },
    {
      "cell_type": "markdown",
      "metadata": {
        "id": "ScelHh2fRzsa"
      },
      "source": [
        "#### Load saved test configurations, data"
      ]
    },
    {
      "cell_type": "code",
      "execution_count": 21,
      "metadata": {
        "colab": {
          "base_uri": "https://localhost:8080/"
        },
        "id": "PNnavL1XKf83",
        "outputId": "b48419e3-227b-4753-9370-d470e388d693"
      },
      "outputs": [
        {
          "name": "stderr",
          "output_type": "stream",
          "text": [
            "Generating testcases... (robustness): 100%|██████████| 1/1 [00:02<00:00,  2.03s/it]\n"
          ]
        }
      ],
      "source": [
        "harness = Harness.load(\"saved_test_configurations\",\n",
        "                       model={\"model\": \"augmented_output_model\",\"hub\":\"spacy\"},\n",
        "                       task=\"ner\",                                 \n",
        "                       load_testcases=True)"
      ]
    },
    {
      "cell_type": "markdown",
      "metadata": {
        "id": "dI12ledNR4I7"
      },
      "source": [
        "#### Test New NER Model Robustness"
      ]
    },
    {
      "cell_type": "code",
      "execution_count": 22,
      "metadata": {
        "colab": {
          "base_uri": "https://localhost:8080/",
          "height": 131
        },
        "id": "mHKf2EgZKqKO",
        "outputId": "a46ae8e7-4a11-408d-81ce-80f0ab5f6a7d"
      },
      "outputs": [
        {
          "name": "stderr",
          "output_type": "stream",
          "text": [
            "Running test cases...: 100%|██████████| 452/452 [00:04<00:00, 97.65it/s] \n"
          ]
        },
        {
          "data": {
            "text/html": [
              "\n",
              "  <div id=\"df-3f969ee4-df88-4937-b811-46a6a5fb3082\">\n",
              "    <div class=\"colab-df-container\">\n",
              "      <div>\n",
              "<style scoped>\n",
              "    .dataframe tbody tr th:only-of-type {\n",
              "        vertical-align: middle;\n",
              "    }\n",
              "\n",
              "    .dataframe tbody tr th {\n",
              "        vertical-align: top;\n",
              "    }\n",
              "\n",
              "    .dataframe thead th {\n",
              "        text-align: right;\n",
              "    }\n",
              "</style>\n",
              "<table border=\"1\" class=\"dataframe\">\n",
              "  <thead>\n",
              "    <tr style=\"text-align: right;\">\n",
              "      <th></th>\n",
              "      <th>category</th>\n",
              "      <th>test_type</th>\n",
              "      <th>fail_count</th>\n",
              "      <th>pass_count</th>\n",
              "      <th>pass_rate</th>\n",
              "      <th>minimum_pass_rate</th>\n",
              "      <th>pass</th>\n",
              "    </tr>\n",
              "  </thead>\n",
              "  <tbody>\n",
              "    <tr>\n",
              "      <th>0</th>\n",
              "      <td>robustness</td>\n",
              "      <td>add_typo</td>\n",
              "      <td>46</td>\n",
              "      <td>180</td>\n",
              "      <td>80%</td>\n",
              "      <td>60%</td>\n",
              "      <td>True</td>\n",
              "    </tr>\n",
              "    <tr>\n",
              "      <th>1</th>\n",
              "      <td>robustness</td>\n",
              "      <td>uppercase</td>\n",
              "      <td>82</td>\n",
              "      <td>144</td>\n",
              "      <td>64%</td>\n",
              "      <td>60%</td>\n",
              "      <td>True</td>\n",
              "    </tr>\n",
              "  </tbody>\n",
              "</table>\n",
              "</div>\n",
              "      <button class=\"colab-df-convert\" onclick=\"convertToInteractive('df-3f969ee4-df88-4937-b811-46a6a5fb3082')\"\n",
              "              title=\"Convert this dataframe to an interactive table.\"\n",
              "              style=\"display:none;\">\n",
              "        \n",
              "  <svg xmlns=\"http://www.w3.org/2000/svg\" height=\"24px\"viewBox=\"0 0 24 24\"\n",
              "       width=\"24px\">\n",
              "    <path d=\"M0 0h24v24H0V0z\" fill=\"none\"/>\n",
              "    <path d=\"M18.56 5.44l.94 2.06.94-2.06 2.06-.94-2.06-.94-.94-2.06-.94 2.06-2.06.94zm-11 1L8.5 8.5l.94-2.06 2.06-.94-2.06-.94L8.5 2.5l-.94 2.06-2.06.94zm10 10l.94 2.06.94-2.06 2.06-.94-2.06-.94-.94-2.06-.94 2.06-2.06.94z\"/><path d=\"M17.41 7.96l-1.37-1.37c-.4-.4-.92-.59-1.43-.59-.52 0-1.04.2-1.43.59L10.3 9.45l-7.72 7.72c-.78.78-.78 2.05 0 2.83L4 21.41c.39.39.9.59 1.41.59.51 0 1.02-.2 1.41-.59l7.78-7.78 2.81-2.81c.8-.78.8-2.07 0-2.86zM5.41 20L4 18.59l7.72-7.72 1.47 1.35L5.41 20z\"/>\n",
              "  </svg>\n",
              "      </button>\n",
              "      \n",
              "  <style>\n",
              "    .colab-df-container {\n",
              "      display:flex;\n",
              "      flex-wrap:wrap;\n",
              "      gap: 12px;\n",
              "    }\n",
              "\n",
              "    .colab-df-convert {\n",
              "      background-color: #E8F0FE;\n",
              "      border: none;\n",
              "      border-radius: 50%;\n",
              "      cursor: pointer;\n",
              "      display: none;\n",
              "      fill: #1967D2;\n",
              "      height: 32px;\n",
              "      padding: 0 0 0 0;\n",
              "      width: 32px;\n",
              "    }\n",
              "\n",
              "    .colab-df-convert:hover {\n",
              "      background-color: #E2EBFA;\n",
              "      box-shadow: 0px 1px 2px rgba(60, 64, 67, 0.3), 0px 1px 3px 1px rgba(60, 64, 67, 0.15);\n",
              "      fill: #174EA6;\n",
              "    }\n",
              "\n",
              "    [theme=dark] .colab-df-convert {\n",
              "      background-color: #3B4455;\n",
              "      fill: #D2E3FC;\n",
              "    }\n",
              "\n",
              "    [theme=dark] .colab-df-convert:hover {\n",
              "      background-color: #434B5C;\n",
              "      box-shadow: 0px 1px 3px 1px rgba(0, 0, 0, 0.15);\n",
              "      filter: drop-shadow(0px 1px 2px rgba(0, 0, 0, 0.3));\n",
              "      fill: #FFFFFF;\n",
              "    }\n",
              "  </style>\n",
              "\n",
              "      <script>\n",
              "        const buttonEl =\n",
              "          document.querySelector('#df-3f969ee4-df88-4937-b811-46a6a5fb3082 button.colab-df-convert');\n",
              "        buttonEl.style.display =\n",
              "          google.colab.kernel.accessAllowed ? 'block' : 'none';\n",
              "\n",
              "        async function convertToInteractive(key) {\n",
              "          const element = document.querySelector('#df-3f969ee4-df88-4937-b811-46a6a5fb3082');\n",
              "          const dataTable =\n",
              "            await google.colab.kernel.invokeFunction('convertToInteractive',\n",
              "                                                     [key], {});\n",
              "          if (!dataTable) return;\n",
              "\n",
              "          const docLinkHtml = 'Like what you see? Visit the ' +\n",
              "            '<a target=\"_blank\" href=https://colab.research.google.com/notebooks/data_table.ipynb>data table notebook</a>'\n",
              "            + ' to learn more about interactive tables.';\n",
              "          element.innerHTML = '';\n",
              "          dataTable['output_type'] = 'display_data';\n",
              "          await google.colab.output.renderOutput(dataTable, element);\n",
              "          const docLink = document.createElement('div');\n",
              "          docLink.innerHTML = docLinkHtml;\n",
              "          element.appendChild(docLink);\n",
              "        }\n",
              "      </script>\n",
              "    </div>\n",
              "  </div>\n",
              "  "
            ],
            "text/plain": [
              "     category  test_type  fail_count  pass_count pass_rate minimum_pass_rate  \\\n",
              "0  robustness   add_typo          46         180       80%               60%   \n",
              "1  robustness  uppercase          82         144       64%               60%   \n",
              "\n",
              "   pass  \n",
              "0  True  \n",
              "1  True  "
            ]
          },
          "execution_count": 22,
          "metadata": {},
          "output_type": "execute_result"
        }
      ],
      "source": [
        "harness.run().report()"
      ]
    },
    {
      "cell_type": "markdown",
      "metadata": {
        "id": "2VP0gYlgVFoh"
      },
      "source": [
        "\n",
        "We can see that after performing augmentation, even the **uppercase** test is passing which failed earlier."
      ]
    }
  ],
  "metadata": {
    "colab": {
      "provenance": [],
      "toc_visible": true
    },
    "kernelspec": {
      "display_name": "Python 3",
      "name": "python3"
    },
    "language_info": {
      "name": "python"
    }
  },
  "nbformat": 4,
  "nbformat_minor": 0
}
