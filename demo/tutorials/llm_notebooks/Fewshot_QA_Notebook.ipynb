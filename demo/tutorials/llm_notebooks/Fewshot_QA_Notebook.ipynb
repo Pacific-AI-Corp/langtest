{
  "cells": [
    {
      "attachments": {},
      "cell_type": "markdown",
      "metadata": {
        "id": "e7PsSmy9sCoR"
      },
      "source": [
        "![logog](https://raw.githubusercontent.com/Pacific-AI-Corp/langtest/main/docs/assets/images/logo.png)"
      ]
    },
    {
      "attachments": {},
      "cell_type": "markdown",
      "metadata": {
        "id": "3o5sAOfwL5qd"
      },
      "source": [
        "[![Open In Colab](https://colab.research.google.com/assets/colab-badge.svg)](https://colab.research.google.com/github/Pacific-AI-Corp/langtest/blob/main/demo/tutorials/llm_notebooks/Fewshot_QA_Notebook.ipynb)"
      ]
    },
    {
      "attachments": {},
      "cell_type": "markdown",
      "metadata": {
        "id": "WJJzt3RWhEc6"
      },
      "source": [
        "**LangTest** is an open-source python library designed to help developers deliver safe and effective Natural Language Processing (NLP) models. Whether you are using **John Snow Labs, Hugging Face, Spacy** models or **OpenAI, Cohere, AI21, Hugging Face Inference API and Azure-OpenAI** based LLMs, it has got you covered. You can test any Named Entity Recognition (NER), Text Classification, fill-mask, Translation model using the library. We also support testing LLMS for Question-Answering, Summarization and text-generation tasks on benchmark datasets. The library supports 60+ out of the box tests. For a complete list of supported test categories, please refer to the [documentation](http://langtest.org/docs/pages/docs/test_categories).\n",
        "\n",
        "Metrics are calculated by comparing the model's extractions in the original list of sentences against the extractions carried out in the noisy list of sentences. The original annotated labels are not used at any point, we are simply comparing the model against itself in a 2 settings."
      ]
    },
    {
      "attachments": {},
      "cell_type": "markdown",
      "metadata": {
        "id": "26qXWhCYhHAt"
      },
      "source": [
        "# Getting started with LangTest "
      ]
    },
    {
      "cell_type": "code",
      "execution_count": null,
      "metadata": {},
      "outputs": [],
      "source": [
        "!pip install \"langtest[evaluate,openai,transformers]==2.2.0\" "
      ]
    },
    {
      "attachments": {},
      "cell_type": "markdown",
      "metadata": {
        "id": "yR6kjOaiheKN"
      },
      "source": [
        "# Harness and Its Parameters\n",
        "\n",
        "The Harness class is a testing class for Natural Language Processing (NLP) models. It evaluates the performance of a NLP model on a given task using test data and generates a report with test results.Harness can be imported from the LangTest library in the following way."
      ]
    },
    {
      "cell_type": "code",
      "execution_count": 1,
      "metadata": {
        "id": "lTzSJpMlhgq5"
      },
      "outputs": [],
      "source": [
        "#Import Harness from the LangTest library\n",
        "from langtest import Harness"
      ]
    },
    {
      "attachments": {},
      "cell_type": "markdown",
      "metadata": {
        "id": "sBcZjwJBhkOw"
      },
      "source": [
        "It imports the Harness class from within the module, that is designed to provide a blueprint or framework for conducting NLP testing, and that instances of the Harness class can be customized or configured for different testing scenarios or environments.\n",
        "\n",
        "Here is a list of the different parameters that can be passed to the Harness function:\n",
        "\n",
        "<br/>\n",
        "\n",
        "\n",
        "| Parameter  | Description |  \n",
        "| - | - | \n",
        "|**task**     |Task for which the model is to be evaluated (question-answering or summarization)|\n",
        "| **model**     | Specifies the model(s) to be evaluated. This parameter can be provided as either a dictionary or a list of dictionaries. Each dictionary should contain the following keys: <ul><li>model (mandatory): \tPipelineModel or path to a saved model or pretrained pipeline/model from hub.</li><li>hub (mandatory): Hub (library) to use in back-end for loading model from public models hub or from path</li></ul>|\n",
        "| **data**      | The data to be used for evaluation. A dictionary providing flexibility and options for data sources. It should include the following keys: <ul><li>data_source (mandatory): The source of the data.</li><li>subset (optional): The subset of the data.</li><li>feature_column (optional): The column containing the features.</li><li>target_column (optional): The column containing the target labels.</li><li>split (optional): The data split to be used.</li><li>source (optional): Set to 'huggingface' when loading Hugging Face dataset.</li></ul> |\n",
        "| **config**    | Configuration for the tests to be performed, specified in the form of a YAML file. |\n",
        "\n",
        "<br/>\n",
        "<br/>"
      ]
    },
    {
      "attachments": {},
      "cell_type": "markdown",
      "metadata": {
        "id": "JFhJ9CcbsKqN"
      },
      "source": [
        "# OpenAI Model Testing For Question Answering\n",
        "\n",
        "In this section, we dive into testing of OpenAI models in Question Answering task.\n",
        "\n",
        "LangTest supports robustness tests for LLM testing for now."
      ]
    },
    {
      "attachments": {},
      "cell_type": "markdown",
      "metadata": {
        "id": "kKgXC7cvuyar"
      },
      "source": [
        "### Set environment for OpenAI"
      ]
    },
    {
      "cell_type": "code",
      "execution_count": 2,
      "metadata": {
        "id": "MHqlSjFLuy7o"
      },
      "outputs": [],
      "source": [
        "import os\n",
        "\n",
        "os.environ[\"OPENAI_API_KEY\"] = \"<YOUR_API_KEY>\" #Replace with your OpenAI API Key"
      ]
    },
    {
      "attachments": {},
      "cell_type": "markdown",
      "metadata": {},
      "source": [
        "## BoolQ-test-tiny dataset testing"
      ]
    },
    {
      "cell_type": "markdown",
      "metadata": {},
      "source": [
        "The YAML content defines a task named \"BoolQ\" that specifies how an intelligent bot should respond to queries. The task instructions dictate that the bot must provide a concise answer of either \"true\" or \"false.\" The `prompt_type` is set to \"instruct,\" indicating that the bot should execute the task based on direct commands rather than engaging in conversational interaction.\n",
        "\n",
        "The YAML also includes examples to illustrate how the bot should handle specific questions. Each example contains a \"context\" that provides background information and a \"question\" that the bot needs to answer with either \"true\" or \"false.\" In the provided examples:\n",
        "1. The context discusses the renewal of the series \"The Good Fight\" for a third season, and the question asks whether there is a third series of \"The Good Fight,\" to which the bot correctly responds \"True.\"\n",
        "2. The context mentions the cancellation of \"Lost in Space\" at the end of season 3 without resolving the story, and the question asks whether the Robinsons ever returned to Earth, to which the bot incorrectly responds \"True,\" presumably due to the bot misunderstanding or misinterpreting the context."
      ]
    },
    {
      "cell_type": "code",
      "execution_count": 3,
      "metadata": {},
      "outputs": [],
      "source": [
        "yaml_content = \"\"\"\n",
        "prompt_config:\n",
        "  \"BoolQ\":\n",
        "    instructions: \"You are an intelligent bot and it is your responsibility to make sure to give a concise answer. Answer should be `true` or  `false`.\"\n",
        "    prompt_type: \"instruct\" # instruct for completion and chat for conversation(chat models)\n",
        "    examples:\n",
        "      - user:\n",
        "          context: \"The Good Fight -- A second 13-episode season premiered on March 4, 2018. On May 2, 2018, the series was renewed for a third season.\"\n",
        "          question: \"is there a third series of the good fight?\"\n",
        "        ai:\n",
        "          answer: \"True\"\n",
        "      - user:\n",
        "          context: \"Lost in Space -- The fate of the castaways is never resolved, as the series was unexpectedly canceled at the end of season 3.\"\n",
        "          question: \"did the robinsons ever get back to earth\"\n",
        "        ai:\n",
        "          answer: \"True\"\n",
        "  \"NQ-open\":\n",
        "    instructions: \"You are an intelligent bot and it is your responsibility to make sure to give a short concise answer.\"\n",
        "    prompt_type: \"instruct\" # completion\n",
        "    examples:\n",
        "      - user:\n",
        "          question: \"where does the electron come from in beta decay?\"\n",
        "        ai:\n",
        "          answer: \"an atomic nucleus\"\n",
        "      - user:\n",
        "          question: \"who wrote you're a grand ol flag?\"\n",
        "        ai:\n",
        "          answer: \"George M. Cohan\"\n",
        "\n",
        "tests:\n",
        "  defaults:\n",
        "    min_pass_rate: 0.8\n",
        "  robustness:\n",
        "    uppercase:\n",
        "      min_pass_rate: 0.8\n",
        "    add_typo:\n",
        "      min_pass_rate: 0.8\n",
        "\"\"\"\n",
        "\n",
        "with open(\"config.yaml\", \"w\") as f:\n",
        "    f.write(yaml_content)\n"
      ]
    },
    {
      "attachments": {},
      "cell_type": "markdown",
      "metadata": {
        "id": "swaYPW-wPlku"
      },
      "source": [
        "### Setup and Configure Harness"
      ]
    },
    {
      "cell_type": "code",
      "execution_count": 4,
      "metadata": {
        "colab": {
          "base_uri": "https://localhost:8080/"
        },
        "id": "p_5nO14bvTzt",
        "outputId": "cee6c5f4-6f32-4f72-e9db-440a410b59c7"
      },
      "outputs": [
        {
          "name": "stdout",
          "output_type": "stream",
          "text": [
            "Test Configuration : \n",
            " {\n",
            " \"prompt_config\": {\n",
            "  \"BoolQ\": {\n",
            "   \"instructions\": \"You are an intelligent bot and it is your responsibility to make sure to give a concise answer. Answer should be `true` or  `false`.\",\n",
            "   \"prompt_type\": \"instruct\",\n",
            "   \"examples\": [\n",
            "    {\n",
            "     \"user\": {\n",
            "      \"context\": \"The Good Fight -- A second 13-episode season premiered on March 4, 2018. On May 2, 2018, the series was renewed for a third season.\",\n",
            "      \"question\": \"is there a third series of the good fight?\"\n",
            "     },\n",
            "     \"ai\": {\n",
            "      \"answer\": \"True\"\n",
            "     }\n",
            "    },\n",
            "    {\n",
            "     \"user\": {\n",
            "      \"context\": \"Lost in Space -- The fate of the castaways is never resolved, as the series was unexpectedly canceled at the end of season 3.\",\n",
            "      \"question\": \"did the robinsons ever get back to earth\"\n",
            "     },\n",
            "     \"ai\": {\n",
            "      \"answer\": \"True\"\n",
            "     }\n",
            "    }\n",
            "   ]\n",
            "  },\n",
            "  \"NQ-open\": {\n",
            "   \"instructions\": \"You are an intelligent bot and it is your responsibility to make sure to give a short concise answer.\",\n",
            "   \"prompt_type\": \"instruct\",\n",
            "   \"examples\": [\n",
            "    {\n",
            "     \"user\": {\n",
            "      \"question\": \"where does the electron come from in beta decay?\"\n",
            "     },\n",
            "     \"ai\": {\n",
            "      \"answer\": \"an atomic nucleus\"\n",
            "     }\n",
            "    },\n",
            "    {\n",
            "     \"user\": {\n",
            "      \"question\": \"who wrote you're a grand ol flag?\"\n",
            "     },\n",
            "     \"ai\": {\n",
            "      \"answer\": \"George M. Cohan\"\n",
            "     }\n",
            "    }\n",
            "   ]\n",
            "  }\n",
            " },\n",
            " \"tests\": {\n",
            "  \"defaults\": {\n",
            "   \"min_pass_rate\": 0.8\n",
            "  },\n",
            "  \"robustness\": {\n",
            "   \"uppercase\": {\n",
            "    \"min_pass_rate\": 0.8\n",
            "   },\n",
            "   \"add_typo\": {\n",
            "    \"min_pass_rate\": 0.8\n",
            "   }\n",
            "  }\n",
            " }\n",
            "}\n"
          ]
        }
      ],
      "source": [
        "harness = Harness(\n",
        "                  task=\"question-answering\", \n",
        "                  model={\"model\": \"gpt-3.5-turbo-instruct\",\"hub\":\"openai\"}, \n",
        "                  data=[{\"data_source\" :\"BoolQ\",\n",
        "                        \"split\":\"test-tiny\"},\n",
        "                        {\"data_source\" :\"NQ-open\",\n",
        "                         \"split\":\"test-tiny\"}],\n",
        "                  config=\"config.yaml\"\n",
        "                  )"
      ]
    },
    {
      "attachments": {},
      "cell_type": "markdown",
      "metadata": {
        "id": "jWPAw9q0PwD1"
      },
      "source": [
        "We have specified task as QA, hub as OpenAI and model as GPT-3.5.\n",
        "\n",
        "For dataset we used `BoolQ` dataset and `test-tiny` split which includes 50 samples. Other available datasets are: [Benchmark Datasets](https://langtest.org/docs/pages/docs/data#question-answering)"
      ]
    },
    {
      "attachments": {},
      "cell_type": "markdown",
      "metadata": {},
      "source": [
        "For tests we used lowercase and uppercase. Other available robustness tests for QA task are:\n",
        "* `add_context`\n",
        "* `add_contraction`\n",
        "* `add_punctuation`\n",
        "* `add_typo`\n",
        "* `add_ocr_typo`\n",
        "* `american_to_british`\n",
        "* `british_to_american`\n",
        "* `lowercase`\n",
        "* `strip_punctuation`\n",
        "* `titlecase`\n",
        "* `uppercase`\n",
        "* `number_to_word`\n",
        "* `add_abbreviation`\n",
        "* `add_speech_to_text_typo`\n",
        "* `add_slangs`\n",
        "* `dyslexia_word_swap`\n",
        "* `multiple_perturbations`\n",
        "* `adjective_synonym_swap`\n",
        "* `adjective_antonym_swap`\n",
        "* `strip_all_punctuation`"
      ]
    },
    {
      "attachments": {},
      "cell_type": "markdown",
      "metadata": {},
      "source": [
        "Available Bias tests for QA task are:\n",
        "\n",
        "* `replace_to_male_pronouns`\n",
        "* `replace_to_female_pronouns`\n",
        "* `replace_to_neutral_pronouns`\n",
        "* `replace_to_high_income_country`\n",
        "* `replace_to_low_income_country`\n",
        "* `replace_to_upper_middle_income_country`\n",
        "* `replace_to_lower_middle_income_country`\n",
        "* `replace_to_white_firstnames`\n",
        "* `replace_to_black_firstnames`\n",
        "* `replace_to_hispanic_firstnames`\n",
        "* `replace_to_asian_firstnames`\n",
        "* `replace_to_white_lastnames`\n",
        "* `replace_to_sikh_names`\n",
        "* `replace_to_christian_names`\n",
        "* `replace_to_hindu_names`\n",
        "* `replace_to_muslim_names`\n",
        "* `replace_to_inter_racial_lastnames`\n",
        "* `replace_to_native_american_lastnames`\n",
        "* `replace_to_asian_lastnames`\n",
        "* `replace_to_hispanic_lastnames`\n",
        "* `replace_to_black_lastnames`\n",
        "* `replace_to_parsi_names`\n",
        "* `replace_to_jain_names`\n",
        "* `replace_to_buddhist_names`\n",
        "\n",
        "Available Representation tests for QA task are:\n",
        "\n",
        "* `min_gender_representation_count`\n",
        "* `min_ethnicity_name_representation_count`\n",
        "* `min_religion_name_representation_count`\n",
        "* `min_country_economic_representation_count`\n",
        "* `min_gender_representation_proportion`\n",
        "* `min_ethnicity_name_representation_proportion`\n",
        "* `min_religion_name_representation_proportion`\n",
        "* `min_country_economic_representation_proportion`\n",
        "\n",
        "\n",
        "Available Accuracy tests for QA task are:\n",
        "\n",
        "* `min_exact_match_score`\n",
        "* `min_bleu_score`\n",
        "* `min_rouge1_score`\n",
        "* `min_rouge2_score`\n",
        "* `min_rougeL_score`\n",
        "* `min_rougeLsum_score`\n",
        "\n",
        "\n",
        "Available Fairness tests for QA task are:\n",
        "\n",
        "* `max_gender_rouge1_score`\n",
        "* `max_gender_rouge2_score`\n",
        "* `max_gender_rougeL_score`\n",
        "* `max_gender_rougeLsum_score`\n",
        "* `min_gender_rouge1_score`\n",
        "* `min_gender_rouge2_score`\n",
        "* `min_gender_rougeL_score`\n",
        "* `min_gender_rougeLsum_score`"
      ]
    },
    {
      "attachments": {},
      "cell_type": "markdown",
      "metadata": {},
      "source": [
        "You can also set prompts and other model parameters in config. Possible parameters are:\n",
        "* `user_promt:` Promt to be given to the model.\n",
        "* `temperature:` Temperature of the model.\n",
        "* `max_tokens:` Maximum number of output tokens allowed for model."
      ]
    },
    {
      "attachments": {},
      "cell_type": "markdown",
      "metadata": {
        "id": "ZPU46A7WigFr"
      },
      "source": [
        "Here we have configured the harness to perform two robustness tests (uppercase and lowercase) and defined the minimum pass rate for each test."
      ]
    },
    {
      "attachments": {},
      "cell_type": "markdown",
      "metadata": {},
      "source": [
        "➤ You can adjust the level of transformation in the sentence by using the \"`prob`\" parameter, which controls the proportion of words to be changed during robustness tests.\n",
        "\n",
        "➤ **NOTE** : \"`prob`\" defaults to 1.0, which means all words will be transformed.\n",
        "```\n",
        "harness.configure(\n",
        "{\n",
        " 'tests': {\n",
        "    'defaults': {'min_pass_rate': 0.65},\n",
        "      'robustness': {\n",
        "        'lowercase': {'min_pass_rate': 0.66, 'prob': 0.50}, \n",
        "        'uppercase':{'min_pass_rate': 0.60, 'prob': 0.70},\n",
        "      }\n",
        "  }\n",
        "})\n",
        "\n",
        "```"
      ]
    },
    {
      "cell_type": "code",
      "execution_count": 7,
      "metadata": {},
      "outputs": [],
      "source": [
        "harness.data = {k: v[:10] for k, v in harness.data.items()}"
      ]
    },
    {
      "attachments": {},
      "cell_type": "markdown",
      "metadata": {
        "id": "i6kPvA13F7cr"
      },
      "source": [
        "\n",
        "### Generating the test cases."
      ]
    },
    {
      "cell_type": "code",
      "execution_count": 5,
      "metadata": {
        "colab": {
          "base_uri": "https://localhost:8080/"
        },
        "id": "mdNH3wCKF9fn",
        "outputId": "cd348490-7ade-40fa-d870-dc059f5aa647"
      },
      "outputs": [
        {
          "name": "stdout",
          "output_type": "stream",
          "text": [
            "================================================================================\n",
            "                                     BoolQ                                      \n",
            "================================================================================\n"
          ]
        },
        {
          "name": "stderr",
          "output_type": "stream",
          "text": [
            "Generating testcases...: 100%|██████████| 1/1 [00:00<00:00, 995.80it/s]\n"
          ]
        },
        {
          "name": "stdout",
          "output_type": "stream",
          "text": [
            "--------------------------------------------------------------------------------\n",
            "\n",
            "================================================================================\n",
            "                                    NQ-open                                     \n",
            "================================================================================\n"
          ]
        },
        {
          "name": "stderr",
          "output_type": "stream",
          "text": [
            "Generating testcases...: 100%|██████████| 1/1 [00:00<?, ?it/s]\n",
            "WARNING:root:[W009] Removing samples where no transformation has been applied:\n",
            "[W010] - Test 'add_typo': 5 samples removed out of 50\n",
            "\n"
          ]
        },
        {
          "name": "stdout",
          "output_type": "stream",
          "text": [
            "--------------------------------------------------------------------------------\n",
            "\n"
          ]
        },
        {
          "data": {
            "text/plain": []
          },
          "execution_count": 5,
          "metadata": {},
          "output_type": "execute_result"
        }
      ],
      "source": [
        "harness.generate()"
      ]
    },
    {
      "attachments": {},
      "cell_type": "markdown",
      "metadata": {
        "id": "nyjDdYLeGCmM"
      },
      "source": [
        "harness.generate() method automatically generates the test cases (based on the provided configuration)"
      ]
    },
    {
      "cell_type": "code",
      "execution_count": 6,
      "metadata": {
        "colab": {
          "base_uri": "https://localhost:8080/",
          "height": 641
        },
        "id": "c0jL1_G7F_p6",
        "outputId": "502c1525-9000-4041-823b-3b04f6650892"
      },
      "outputs": [
        {
          "data": {
            "text/html": [
              "<div>\n",
              "<style scoped>\n",
              "    .dataframe tbody tr th:only-of-type {\n",
              "        vertical-align: middle;\n",
              "    }\n",
              "\n",
              "    .dataframe tbody tr th {\n",
              "        vertical-align: top;\n",
              "    }\n",
              "\n",
              "    .dataframe thead th {\n",
              "        text-align: right;\n",
              "    }\n",
              "</style>\n",
              "<table border=\"1\" class=\"dataframe\">\n",
              "  <thead>\n",
              "    <tr style=\"text-align: right;\">\n",
              "      <th></th>\n",
              "      <th>category</th>\n",
              "      <th>dataset_name</th>\n",
              "      <th>test_type</th>\n",
              "      <th>original_context</th>\n",
              "      <th>original_question</th>\n",
              "      <th>perturbed_context</th>\n",
              "      <th>perturbed_question</th>\n",
              "    </tr>\n",
              "  </thead>\n",
              "  <tbody>\n",
              "    <tr>\n",
              "      <th>0</th>\n",
              "      <td>robustness</td>\n",
              "      <td>BoolQ</td>\n",
              "      <td>uppercase</td>\n",
              "      <td>20 euro note -- Until now there has been only ...</td>\n",
              "      <td>is the first series 20 euro note still legal t...</td>\n",
              "      <td>20 EURO NOTE -- UNTIL NOW THERE HAS BEEN ONLY ...</td>\n",
              "      <td>IS THE FIRST SERIES 20 EURO NOTE STILL LEGAL T...</td>\n",
              "    </tr>\n",
              "    <tr>\n",
              "      <th>1</th>\n",
              "      <td>robustness</td>\n",
              "      <td>BoolQ</td>\n",
              "      <td>uppercase</td>\n",
              "      <td>2018–19 UEFA Champions League -- The final wil...</td>\n",
              "      <td>do the champions league winners get automatic ...</td>\n",
              "      <td>2018–19 UEFA CHAMPIONS LEAGUE -- THE FINAL WIL...</td>\n",
              "      <td>DO THE CHAMPIONS LEAGUE WINNERS GET AUTOMATIC ...</td>\n",
              "    </tr>\n",
              "    <tr>\n",
              "      <th>2</th>\n",
              "      <td>robustness</td>\n",
              "      <td>BoolQ</td>\n",
              "      <td>uppercase</td>\n",
              "      <td>Bullsnake -- Bullsnakes are very powerful cons...</td>\n",
              "      <td>can a bull snake kill a small dog</td>\n",
              "      <td>BULLSNAKE -- BULLSNAKES ARE VERY POWERFUL CONS...</td>\n",
              "      <td>CAN A BULL SNAKE KILL A SMALL DOG</td>\n",
              "    </tr>\n",
              "    <tr>\n",
              "      <th>3</th>\n",
              "      <td>robustness</td>\n",
              "      <td>BoolQ</td>\n",
              "      <td>uppercase</td>\n",
              "      <td>NBA playoffs -- All rounds are best-of-seven s...</td>\n",
              "      <td>are all nba playoff games best of 7</td>\n",
              "      <td>NBA PLAYOFFS -- ALL ROUNDS ARE BEST-OF-SEVEN S...</td>\n",
              "      <td>ARE ALL NBA PLAYOFF GAMES BEST OF 7</td>\n",
              "    </tr>\n",
              "    <tr>\n",
              "      <th>4</th>\n",
              "      <td>robustness</td>\n",
              "      <td>BoolQ</td>\n",
              "      <td>uppercase</td>\n",
              "      <td>Manchester station group -- The Manchester sta...</td>\n",
              "      <td>can i use my train ticket on the tram in manch...</td>\n",
              "      <td>MANCHESTER STATION GROUP -- THE MANCHESTER STA...</td>\n",
              "      <td>CAN I USE MY TRAIN TICKET ON THE TRAM IN MANCH...</td>\n",
              "    </tr>\n",
              "    <tr>\n",
              "      <th>...</th>\n",
              "      <td>...</td>\n",
              "      <td>...</td>\n",
              "      <td>...</td>\n",
              "      <td>...</td>\n",
              "      <td>...</td>\n",
              "      <td>...</td>\n",
              "      <td>...</td>\n",
              "    </tr>\n",
              "    <tr>\n",
              "      <th>190</th>\n",
              "      <td>robustness</td>\n",
              "      <td>NQ-open</td>\n",
              "      <td>add_typo</td>\n",
              "      <td>-</td>\n",
              "      <td>who has the most followers on the twitter</td>\n",
              "      <td>-</td>\n",
              "      <td>who has the most followers on tme twitter</td>\n",
              "    </tr>\n",
              "    <tr>\n",
              "      <th>191</th>\n",
              "      <td>robustness</td>\n",
              "      <td>NQ-open</td>\n",
              "      <td>add_typo</td>\n",
              "      <td>-</td>\n",
              "      <td>who said it's not what your country can do for...</td>\n",
              "      <td>-</td>\n",
              "      <td>who said it's not what your country can do for...</td>\n",
              "    </tr>\n",
              "    <tr>\n",
              "      <th>192</th>\n",
              "      <td>robustness</td>\n",
              "      <td>NQ-open</td>\n",
              "      <td>add_typo</td>\n",
              "      <td>-</td>\n",
              "      <td>when does lil wayne new album drop 2018</td>\n",
              "      <td>-</td>\n",
              "      <td>jhen does lil wayne new album drop 2018</td>\n",
              "    </tr>\n",
              "    <tr>\n",
              "      <th>193</th>\n",
              "      <td>robustness</td>\n",
              "      <td>NQ-open</td>\n",
              "      <td>add_typo</td>\n",
              "      <td>-</td>\n",
              "      <td>the khajuraho temples are especially well know...</td>\n",
              "      <td>-</td>\n",
              "      <td>the khajuraho temples are rspecially well know...</td>\n",
              "    </tr>\n",
              "    <tr>\n",
              "      <th>194</th>\n",
              "      <td>robustness</td>\n",
              "      <td>NQ-open</td>\n",
              "      <td>add_typo</td>\n",
              "      <td>-</td>\n",
              "      <td>when does the regular nba basketball season start</td>\n",
              "      <td>-</td>\n",
              "      <td>when does the regular nba basuetball season start</td>\n",
              "    </tr>\n",
              "  </tbody>\n",
              "</table>\n",
              "<p>195 rows × 7 columns</p>\n",
              "</div>"
            ],
            "text/plain": [
              "       category dataset_name  test_type  \\\n",
              "0    robustness        BoolQ  uppercase   \n",
              "1    robustness        BoolQ  uppercase   \n",
              "2    robustness        BoolQ  uppercase   \n",
              "3    robustness        BoolQ  uppercase   \n",
              "4    robustness        BoolQ  uppercase   \n",
              "..          ...          ...        ...   \n",
              "190  robustness      NQ-open   add_typo   \n",
              "191  robustness      NQ-open   add_typo   \n",
              "192  robustness      NQ-open   add_typo   \n",
              "193  robustness      NQ-open   add_typo   \n",
              "194  robustness      NQ-open   add_typo   \n",
              "\n",
              "                                      original_context  \\\n",
              "0    20 euro note -- Until now there has been only ...   \n",
              "1    2018–19 UEFA Champions League -- The final wil...   \n",
              "2    Bullsnake -- Bullsnakes are very powerful cons...   \n",
              "3    NBA playoffs -- All rounds are best-of-seven s...   \n",
              "4    Manchester station group -- The Manchester sta...   \n",
              "..                                                 ...   \n",
              "190                                                  -   \n",
              "191                                                  -   \n",
              "192                                                  -   \n",
              "193                                                  -   \n",
              "194                                                  -   \n",
              "\n",
              "                                     original_question  \\\n",
              "0    is the first series 20 euro note still legal t...   \n",
              "1    do the champions league winners get automatic ...   \n",
              "2                    can a bull snake kill a small dog   \n",
              "3                  are all nba playoff games best of 7   \n",
              "4    can i use my train ticket on the tram in manch...   \n",
              "..                                                 ...   \n",
              "190          who has the most followers on the twitter   \n",
              "191  who said it's not what your country can do for...   \n",
              "192            when does lil wayne new album drop 2018   \n",
              "193  the khajuraho temples are especially well know...   \n",
              "194  when does the regular nba basketball season start   \n",
              "\n",
              "                                     perturbed_context  \\\n",
              "0    20 EURO NOTE -- UNTIL NOW THERE HAS BEEN ONLY ...   \n",
              "1    2018–19 UEFA CHAMPIONS LEAGUE -- THE FINAL WIL...   \n",
              "2    BULLSNAKE -- BULLSNAKES ARE VERY POWERFUL CONS...   \n",
              "3    NBA PLAYOFFS -- ALL ROUNDS ARE BEST-OF-SEVEN S...   \n",
              "4    MANCHESTER STATION GROUP -- THE MANCHESTER STA...   \n",
              "..                                                 ...   \n",
              "190                                                  -   \n",
              "191                                                  -   \n",
              "192                                                  -   \n",
              "193                                                  -   \n",
              "194                                                  -   \n",
              "\n",
              "                                    perturbed_question  \n",
              "0    IS THE FIRST SERIES 20 EURO NOTE STILL LEGAL T...  \n",
              "1    DO THE CHAMPIONS LEAGUE WINNERS GET AUTOMATIC ...  \n",
              "2                    CAN A BULL SNAKE KILL A SMALL DOG  \n",
              "3                  ARE ALL NBA PLAYOFF GAMES BEST OF 7  \n",
              "4    CAN I USE MY TRAIN TICKET ON THE TRAM IN MANCH...  \n",
              "..                                                 ...  \n",
              "190          who has the most followers on tme twitter  \n",
              "191  who said it's not what your country can do for...  \n",
              "192            jhen does lil wayne new album drop 2018  \n",
              "193  the khajuraho temples are rspecially well know...  \n",
              "194  when does the regular nba basuetball season start  \n",
              "\n",
              "[195 rows x 7 columns]"
            ]
          },
          "execution_count": 6,
          "metadata": {},
          "output_type": "execute_result"
        }
      ],
      "source": [
        "harness.testcases()"
      ]
    },
    {
      "attachments": {},
      "cell_type": "markdown",
      "metadata": {
        "id": "NOJ8BAU2GGzd"
      },
      "source": [
        "harness.testcases() method displays the produced test cases in form of a pandas data frame."
      ]
    },
    {
      "attachments": {},
      "cell_type": "markdown",
      "metadata": {
        "id": "3CwhQw6hGR9S"
      },
      "source": [
        "### Running the tests"
      ]
    },
    {
      "cell_type": "code",
      "execution_count": 7,
      "metadata": {
        "colab": {
          "base_uri": "https://localhost:8080/"
        },
        "id": "aguX6-aFGOnP",
        "outputId": "bb014811-522b-4f07-fa8a-bf3d1c906d7f"
      },
      "outputs": [
        {
          "name": "stdout",
          "output_type": "stream",
          "text": [
            "================================================================================\n",
            "                                     BoolQ                                      \n",
            "================================================================================\n"
          ]
        },
        {
          "name": "stderr",
          "output_type": "stream",
          "text": [
            "Running testcases... : 100%|██████████| 100/100 [01:19<00:00,  1.26it/s]\n"
          ]
        },
        {
          "name": "stdout",
          "output_type": "stream",
          "text": [
            "--------------------------------------------------------------------------------\n",
            "\n",
            "================================================================================\n",
            "                                    NQ-open                                     \n",
            "================================================================================\n"
          ]
        },
        {
          "name": "stderr",
          "output_type": "stream",
          "text": [
            "Running testcases... : 100%|██████████| 95/95 [01:47<00:00,  1.13s/it]"
          ]
        },
        {
          "name": "stdout",
          "output_type": "stream",
          "text": [
            "--------------------------------------------------------------------------------\n",
            "\n"
          ]
        },
        {
          "name": "stderr",
          "output_type": "stream",
          "text": [
            "\n"
          ]
        },
        {
          "data": {
            "text/plain": []
          },
          "execution_count": 7,
          "metadata": {},
          "output_type": "execute_result"
        }
      ],
      "source": [
        "harness.run()"
      ]
    },
    {
      "attachments": {},
      "cell_type": "markdown",
      "metadata": {
        "id": "191O2oaUGWrH"
      },
      "source": [
        "Called after harness.generate() and is to used to run all the tests.  Returns a pass/fail flag for each test."
      ]
    },
    {
      "cell_type": "code",
      "execution_count": 8,
      "metadata": {
        "colab": {
          "base_uri": "https://localhost:8080/",
          "height": 797
        },
        "id": "-cXkdnihGYke",
        "outputId": "2aa88caa-5e83-44fe-b3aa-b81b9ae9115a"
      },
      "outputs": [
        {
          "data": {
            "text/html": [
              "<div>\n",
              "<style scoped>\n",
              "    .dataframe tbody tr th:only-of-type {\n",
              "        vertical-align: middle;\n",
              "    }\n",
              "\n",
              "    .dataframe tbody tr th {\n",
              "        vertical-align: top;\n",
              "    }\n",
              "\n",
              "    .dataframe thead th {\n",
              "        text-align: right;\n",
              "    }\n",
              "</style>\n",
              "<table border=\"1\" class=\"dataframe\">\n",
              "  <thead>\n",
              "    <tr style=\"text-align: right;\">\n",
              "      <th></th>\n",
              "      <th>category</th>\n",
              "      <th>dataset_name</th>\n",
              "      <th>test_type</th>\n",
              "      <th>original_context</th>\n",
              "      <th>original_question</th>\n",
              "      <th>perturbed_context</th>\n",
              "      <th>perturbed_question</th>\n",
              "      <th>expected_result</th>\n",
              "      <th>actual_result</th>\n",
              "      <th>pass</th>\n",
              "    </tr>\n",
              "  </thead>\n",
              "  <tbody>\n",
              "    <tr>\n",
              "      <th>0</th>\n",
              "      <td>robustness</td>\n",
              "      <td>BoolQ</td>\n",
              "      <td>uppercase</td>\n",
              "      <td>20 euro note -- Until now there has been only ...</td>\n",
              "      <td>is the first series 20 euro note still legal t...</td>\n",
              "      <td>20 EURO NOTE -- UNTIL NOW THERE HAS BEEN ONLY ...</td>\n",
              "      <td>IS THE FIRST SERIES 20 EURO NOTE STILL LEGAL T...</td>\n",
              "      <td>\\nFalse</td>\n",
              "      <td>\\nFalse</td>\n",
              "      <td>True</td>\n",
              "    </tr>\n",
              "    <tr>\n",
              "      <th>1</th>\n",
              "      <td>robustness</td>\n",
              "      <td>BoolQ</td>\n",
              "      <td>uppercase</td>\n",
              "      <td>2018–19 UEFA Champions League -- The final wil...</td>\n",
              "      <td>do the champions league winners get automatic ...</td>\n",
              "      <td>2018–19 UEFA CHAMPIONS LEAGUE -- THE FINAL WIL...</td>\n",
              "      <td>DO THE CHAMPIONS LEAGUE WINNERS GET AUTOMATIC ...</td>\n",
              "      <td>\\nTrue</td>\n",
              "      <td>\\nTrue</td>\n",
              "      <td>True</td>\n",
              "    </tr>\n",
              "    <tr>\n",
              "      <th>2</th>\n",
              "      <td>robustness</td>\n",
              "      <td>BoolQ</td>\n",
              "      <td>uppercase</td>\n",
              "      <td>Bullsnake -- Bullsnakes are very powerful cons...</td>\n",
              "      <td>can a bull snake kill a small dog</td>\n",
              "      <td>BULLSNAKE -- BULLSNAKES ARE VERY POWERFUL CONS...</td>\n",
              "      <td>CAN A BULL SNAKE KILL A SMALL DOG</td>\n",
              "      <td>\\nFalse</td>\n",
              "      <td>\\nFalse</td>\n",
              "      <td>True</td>\n",
              "    </tr>\n",
              "    <tr>\n",
              "      <th>3</th>\n",
              "      <td>robustness</td>\n",
              "      <td>BoolQ</td>\n",
              "      <td>uppercase</td>\n",
              "      <td>NBA playoffs -- All rounds are best-of-seven s...</td>\n",
              "      <td>are all nba playoff games best of 7</td>\n",
              "      <td>NBA PLAYOFFS -- ALL ROUNDS ARE BEST-OF-SEVEN S...</td>\n",
              "      <td>ARE ALL NBA PLAYOFF GAMES BEST OF 7</td>\n",
              "      <td>\\nTrue</td>\n",
              "      <td>True</td>\n",
              "      <td>True</td>\n",
              "    </tr>\n",
              "    <tr>\n",
              "      <th>4</th>\n",
              "      <td>robustness</td>\n",
              "      <td>BoolQ</td>\n",
              "      <td>uppercase</td>\n",
              "      <td>Manchester station group -- The Manchester sta...</td>\n",
              "      <td>can i use my train ticket on the tram in manch...</td>\n",
              "      <td>MANCHESTER STATION GROUP -- THE MANCHESTER STA...</td>\n",
              "      <td>CAN I USE MY TRAIN TICKET ON THE TRAM IN MANCH...</td>\n",
              "      <td>\\nTrue</td>\n",
              "      <td>\\nFalse</td>\n",
              "      <td>False</td>\n",
              "    </tr>\n",
              "    <tr>\n",
              "      <th>...</th>\n",
              "      <td>...</td>\n",
              "      <td>...</td>\n",
              "      <td>...</td>\n",
              "      <td>...</td>\n",
              "      <td>...</td>\n",
              "      <td>...</td>\n",
              "      <td>...</td>\n",
              "      <td>...</td>\n",
              "      <td>...</td>\n",
              "      <td>...</td>\n",
              "    </tr>\n",
              "    <tr>\n",
              "      <th>190</th>\n",
              "      <td>robustness</td>\n",
              "      <td>NQ-open</td>\n",
              "      <td>add_typo</td>\n",
              "      <td>-</td>\n",
              "      <td>who has the most followers on the twitter</td>\n",
              "      <td>-</td>\n",
              "      <td>who has the most followers on tme twitter</td>\n",
              "      <td>?\\n\\nAs of 2021, the person with the most foll...</td>\n",
              "      <td>?\\n\\nAs of June 2021, the account with the mos...</td>\n",
              "      <td>True</td>\n",
              "    </tr>\n",
              "    <tr>\n",
              "      <th>191</th>\n",
              "      <td>robustness</td>\n",
              "      <td>NQ-open</td>\n",
              "      <td>add_typo</td>\n",
              "      <td>-</td>\n",
              "      <td>who said it's not what your country can do for...</td>\n",
              "      <td>-</td>\n",
              "      <td>who said it's not what your country can do for...</td>\n",
              "      <td>?\\n\\nJohn F. Kennedy</td>\n",
              "      <td>?\\n\\n\\nJohn F. Kennedy</td>\n",
              "      <td>True</td>\n",
              "    </tr>\n",
              "    <tr>\n",
              "      <th>192</th>\n",
              "      <td>robustness</td>\n",
              "      <td>NQ-open</td>\n",
              "      <td>add_typo</td>\n",
              "      <td>-</td>\n",
              "      <td>when does lil wayne new album drop 2018</td>\n",
              "      <td>-</td>\n",
              "      <td>jhen does lil wayne new album drop 2018</td>\n",
              "      <td>\\nLil Wayne's album, \"Tha Carter V,\" was relea...</td>\n",
              "      <td>?\\n\\nThere is no official release date for Lil...</td>\n",
              "      <td>False</td>\n",
              "    </tr>\n",
              "    <tr>\n",
              "      <th>193</th>\n",
              "      <td>robustness</td>\n",
              "      <td>NQ-open</td>\n",
              "      <td>add_typo</td>\n",
              "      <td>-</td>\n",
              "      <td>the khajuraho temples are especially well know...</td>\n",
              "      <td>-</td>\n",
              "      <td>the khajuraho temples are rspecially well know...</td>\n",
              "      <td>\\nerotic sculptures</td>\n",
              "      <td>?\\n\\nerotic sculptures.</td>\n",
              "      <td>True</td>\n",
              "    </tr>\n",
              "    <tr>\n",
              "      <th>194</th>\n",
              "      <td>robustness</td>\n",
              "      <td>NQ-open</td>\n",
              "      <td>add_typo</td>\n",
              "      <td>-</td>\n",
              "      <td>when does the regular nba basketball season start</td>\n",
              "      <td>-</td>\n",
              "      <td>when does the regular nba basuetball season start</td>\n",
              "      <td>?\\nThe regular NBA basketball season typically...</td>\n",
              "      <td>?\\n\\nThe regular NBA basketball season typical...</td>\n",
              "      <td>True</td>\n",
              "    </tr>\n",
              "  </tbody>\n",
              "</table>\n",
              "<p>195 rows × 10 columns</p>\n",
              "</div>"
            ],
            "text/plain": [
              "       category dataset_name  test_type  \\\n",
              "0    robustness        BoolQ  uppercase   \n",
              "1    robustness        BoolQ  uppercase   \n",
              "2    robustness        BoolQ  uppercase   \n",
              "3    robustness        BoolQ  uppercase   \n",
              "4    robustness        BoolQ  uppercase   \n",
              "..          ...          ...        ...   \n",
              "190  robustness      NQ-open   add_typo   \n",
              "191  robustness      NQ-open   add_typo   \n",
              "192  robustness      NQ-open   add_typo   \n",
              "193  robustness      NQ-open   add_typo   \n",
              "194  robustness      NQ-open   add_typo   \n",
              "\n",
              "                                      original_context  \\\n",
              "0    20 euro note -- Until now there has been only ...   \n",
              "1    2018–19 UEFA Champions League -- The final wil...   \n",
              "2    Bullsnake -- Bullsnakes are very powerful cons...   \n",
              "3    NBA playoffs -- All rounds are best-of-seven s...   \n",
              "4    Manchester station group -- The Manchester sta...   \n",
              "..                                                 ...   \n",
              "190                                                  -   \n",
              "191                                                  -   \n",
              "192                                                  -   \n",
              "193                                                  -   \n",
              "194                                                  -   \n",
              "\n",
              "                                     original_question  \\\n",
              "0    is the first series 20 euro note still legal t...   \n",
              "1    do the champions league winners get automatic ...   \n",
              "2                    can a bull snake kill a small dog   \n",
              "3                  are all nba playoff games best of 7   \n",
              "4    can i use my train ticket on the tram in manch...   \n",
              "..                                                 ...   \n",
              "190          who has the most followers on the twitter   \n",
              "191  who said it's not what your country can do for...   \n",
              "192            when does lil wayne new album drop 2018   \n",
              "193  the khajuraho temples are especially well know...   \n",
              "194  when does the regular nba basketball season start   \n",
              "\n",
              "                                     perturbed_context  \\\n",
              "0    20 EURO NOTE -- UNTIL NOW THERE HAS BEEN ONLY ...   \n",
              "1    2018–19 UEFA CHAMPIONS LEAGUE -- THE FINAL WIL...   \n",
              "2    BULLSNAKE -- BULLSNAKES ARE VERY POWERFUL CONS...   \n",
              "3    NBA PLAYOFFS -- ALL ROUNDS ARE BEST-OF-SEVEN S...   \n",
              "4    MANCHESTER STATION GROUP -- THE MANCHESTER STA...   \n",
              "..                                                 ...   \n",
              "190                                                  -   \n",
              "191                                                  -   \n",
              "192                                                  -   \n",
              "193                                                  -   \n",
              "194                                                  -   \n",
              "\n",
              "                                    perturbed_question  \\\n",
              "0    IS THE FIRST SERIES 20 EURO NOTE STILL LEGAL T...   \n",
              "1    DO THE CHAMPIONS LEAGUE WINNERS GET AUTOMATIC ...   \n",
              "2                    CAN A BULL SNAKE KILL A SMALL DOG   \n",
              "3                  ARE ALL NBA PLAYOFF GAMES BEST OF 7   \n",
              "4    CAN I USE MY TRAIN TICKET ON THE TRAM IN MANCH...   \n",
              "..                                                 ...   \n",
              "190          who has the most followers on tme twitter   \n",
              "191  who said it's not what your country can do for...   \n",
              "192            jhen does lil wayne new album drop 2018   \n",
              "193  the khajuraho temples are rspecially well know...   \n",
              "194  when does the regular nba basuetball season start   \n",
              "\n",
              "                                       expected_result  \\\n",
              "0                                              \\nFalse   \n",
              "1                                               \\nTrue   \n",
              "2                                              \\nFalse   \n",
              "3                                               \\nTrue   \n",
              "4                                               \\nTrue   \n",
              "..                                                 ...   \n",
              "190  ?\\n\\nAs of 2021, the person with the most foll...   \n",
              "191                               ?\\n\\nJohn F. Kennedy   \n",
              "192  \\nLil Wayne's album, \"Tha Carter V,\" was relea...   \n",
              "193                                \\nerotic sculptures   \n",
              "194  ?\\nThe regular NBA basketball season typically...   \n",
              "\n",
              "                                         actual_result   pass  \n",
              "0                                             \\nFalse    True  \n",
              "1                                               \\nTrue   True  \n",
              "2                                              \\nFalse   True  \n",
              "3                                                 True   True  \n",
              "4                                              \\nFalse  False  \n",
              "..                                                 ...    ...  \n",
              "190  ?\\n\\nAs of June 2021, the account with the mos...   True  \n",
              "191                             ?\\n\\n\\nJohn F. Kennedy   True  \n",
              "192  ?\\n\\nThere is no official release date for Lil...  False  \n",
              "193                            ?\\n\\nerotic sculptures.   True  \n",
              "194  ?\\n\\nThe regular NBA basketball season typical...   True  \n",
              "\n",
              "[195 rows x 10 columns]"
            ]
          },
          "execution_count": 8,
          "metadata": {},
          "output_type": "execute_result"
        }
      ],
      "source": [
        "harness.generated_results()"
      ]
    },
    {
      "attachments": {},
      "cell_type": "markdown",
      "metadata": {
        "id": "TKB8Rsr2GZME"
      },
      "source": [
        "This method returns the generated results in the form of a pandas dataframe, which provides a convenient and easy-to-use format for working with the test results. You can use this method to quickly identify the test cases that failed and to determine where fixes are needed."
      ]
    },
    {
      "attachments": {},
      "cell_type": "markdown",
      "metadata": {
        "id": "PBSlpWnUU55G"
      },
      "source": [
        "### Final Results"
      ]
    },
    {
      "attachments": {},
      "cell_type": "markdown",
      "metadata": {},
      "source": [
        "We can call `.report()` which summarizes the results giving information about pass and fail counts and overall test pass/fail flag."
      ]
    },
    {
      "cell_type": "code",
      "execution_count": 9,
      "metadata": {
        "colab": {
          "base_uri": "https://localhost:8080/",
          "height": 112
        },
        "id": "gp57HcF9yxi7",
        "outputId": "b893072f-102a-45a6-be03-d737996e659c"
      },
      "outputs": [
        {
          "data": {
            "text/html": [
              "<div>\n",
              "<style scoped>\n",
              "    .dataframe tbody tr th:only-of-type {\n",
              "        vertical-align: middle;\n",
              "    }\n",
              "\n",
              "    .dataframe tbody tr th {\n",
              "        vertical-align: top;\n",
              "    }\n",
              "\n",
              "    .dataframe thead tr th {\n",
              "        text-align: left;\n",
              "    }\n",
              "\n",
              "    .dataframe thead tr:last-of-type th {\n",
              "        text-align: right;\n",
              "    }\n",
              "</style>\n",
              "<table border=\"1\" class=\"dataframe\">\n",
              "  <thead>\n",
              "    <tr>\n",
              "      <th></th>\n",
              "      <th></th>\n",
              "      <th></th>\n",
              "      <th colspan=\"5\" halign=\"left\">Benchmarking Results: gpt-3.5-turbo-instruct</th>\n",
              "    </tr>\n",
              "    <tr>\n",
              "      <th></th>\n",
              "      <th></th>\n",
              "      <th></th>\n",
              "      <th>fail_count</th>\n",
              "      <th>pass_count</th>\n",
              "      <th>pass_rate</th>\n",
              "      <th>minimum_pass_rate</th>\n",
              "      <th>pass</th>\n",
              "    </tr>\n",
              "    <tr>\n",
              "      <th>dataset_name</th>\n",
              "      <th>category</th>\n",
              "      <th>test_type</th>\n",
              "      <th></th>\n",
              "      <th></th>\n",
              "      <th></th>\n",
              "      <th></th>\n",
              "      <th></th>\n",
              "    </tr>\n",
              "  </thead>\n",
              "  <tbody>\n",
              "    <tr>\n",
              "      <th rowspan=\"2\" valign=\"top\">BoolQ</th>\n",
              "      <th rowspan=\"2\" valign=\"top\">robustness</th>\n",
              "      <th>uppercase</th>\n",
              "      <td>14</td>\n",
              "      <td>36</td>\n",
              "      <td>72%</td>\n",
              "      <td>80%</td>\n",
              "      <td>False</td>\n",
              "    </tr>\n",
              "    <tr>\n",
              "      <th>add_typo</th>\n",
              "      <td>8</td>\n",
              "      <td>42</td>\n",
              "      <td>84%</td>\n",
              "      <td>80%</td>\n",
              "      <td>True</td>\n",
              "    </tr>\n",
              "    <tr>\n",
              "      <th rowspan=\"2\" valign=\"top\">NQ-open</th>\n",
              "      <th rowspan=\"2\" valign=\"top\">robustness</th>\n",
              "      <th>uppercase</th>\n",
              "      <td>9</td>\n",
              "      <td>41</td>\n",
              "      <td>82%</td>\n",
              "      <td>80%</td>\n",
              "      <td>True</td>\n",
              "    </tr>\n",
              "    <tr>\n",
              "      <th>add_typo</th>\n",
              "      <td>10</td>\n",
              "      <td>35</td>\n",
              "      <td>78%</td>\n",
              "      <td>80%</td>\n",
              "      <td>False</td>\n",
              "    </tr>\n",
              "  </tbody>\n",
              "</table>\n",
              "</div>"
            ],
            "text/plain": [
              "                                  Benchmarking Results: gpt-3.5-turbo-instruct  \\\n",
              "                                                                    fail_count   \n",
              "dataset_name category   test_type                                                \n",
              "BoolQ        robustness uppercase                                           14   \n",
              "                        add_typo                                             8   \n",
              "NQ-open      robustness uppercase                                            9   \n",
              "                        add_typo                                            10   \n",
              "\n",
              "                                                                          \\\n",
              "                                  pass_count pass_rate minimum_pass_rate   \n",
              "dataset_name category   test_type                                          \n",
              "BoolQ        robustness uppercase         36       72%               80%   \n",
              "                        add_typo          42       84%               80%   \n",
              "NQ-open      robustness uppercase         41       82%               80%   \n",
              "                        add_typo          35       78%               80%   \n",
              "\n",
              "                                          \n",
              "                                    pass  \n",
              "dataset_name category   test_type         \n",
              "BoolQ        robustness uppercase  False  \n",
              "                        add_typo    True  \n",
              "NQ-open      robustness uppercase   True  \n",
              "                        add_typo   False  "
            ]
          },
          "execution_count": 9,
          "metadata": {},
          "output_type": "execute_result"
        }
      ],
      "source": [
        "harness.report()"
      ]
    }
  ],
  "metadata": {
    "accelerator": "TPU",
    "colab": {
      "machine_shape": "hm",
      "provenance": [],
      "toc_visible": true
    },
    "gpuClass": "standard",
    "kernelspec": {
      "display_name": "Python 3",
      "name": "python3"
    },
    "language_info": {
      "codemirror_mode": {
        "name": "ipython",
        "version": 3
      },
      "file_extension": ".py",
      "mimetype": "text/x-python",
      "name": "python",
      "nbconvert_exporter": "python",
      "pygments_lexer": "ipython3",
      "version": "3.8.10"
    }
  },
  "nbformat": 4,
  "nbformat_minor": 0
}
