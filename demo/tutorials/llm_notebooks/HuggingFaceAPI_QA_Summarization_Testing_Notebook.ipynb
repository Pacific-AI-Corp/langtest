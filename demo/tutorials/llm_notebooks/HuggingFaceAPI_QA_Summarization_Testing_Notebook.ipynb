{
  "cells": [
    {
      "attachments": {},
      "cell_type": "markdown",
      "metadata": {
        "id": "e7PsSmy9sCoR"
      },
      "source": [
        "![logog](https://raw.githubusercontent.com/Pacific-AI-Corp/langtest/main/docs/assets/images/logo.png)"
      ]
    },
    {
      "attachments": {},
      "cell_type": "markdown",
      "metadata": {
        "id": "3o5sAOfwL5qd"
      },
      "source": [
        "[![Open In Colab](https://colab.research.google.com/assets/colab-badge.svg)](https://colab.research.google.com/github/Pacific-AI-Corp/langtest/blob/main/demo/tutorials/llm_notebooks/HuggingFaceAPI_QA_Summarization_Testing_Notebook.ipynb)"
      ]
    },
    {
      "attachments": {},
      "cell_type": "markdown",
      "metadata": {
        "id": "WJJzt3RWhEc6"
      },
      "source": [
        "**LangTest** is an open-source python library designed to help developers deliver safe and effective Natural Language Processing (NLP) models. Whether you are using **John Snow Labs, Hugging Face, Spacy** models or **OpenAI, Cohere, AI21, Hugging Face Inference API and Azure-OpenAI** based LLMs, it has got you covered. You can test any Named Entity Recognition (NER), Text Classification, fill-mask, Translation model using the library. We also support testing LLMS for Question-Answering, Summarization and text-generation tasks on benchmark datasets. The library supports 60+ out of the box tests. For a complete list of supported test categories, please refer to the [documentation](http://langtest.org/docs/pages/docs/test_categories).\n",
        "\n",
        "Metrics are calculated by comparing the model's extractions in the original list of sentences against the extractions carried out in the noisy list of sentences. The original annotated labels are not used at any point, we are simply comparing the model against itself in a 2 settings."
      ]
    },
    {
      "attachments": {},
      "cell_type": "markdown",
      "metadata": {
        "id": "26qXWhCYhHAt"
      },
      "source": [
        "# Getting started with LangTest"
      ]
    },
    {
      "cell_type": "code",
      "execution_count": null,
      "metadata": {
        "colab": {
          "base_uri": "https://localhost:8080/"
        },
        "id": "azUb114QhOsY",
        "outputId": "45a0a692-5076-4fcf-ceb4-b5eb914d9aed"
      },
      "outputs": [],
      "source": [
        "!pip install \"langtest[evaluate,langchain,transformers]\" "
      ]
    },
    {
      "cell_type": "markdown",
      "metadata": {},
      "source": [
        "# Harness and Its Parameters\n",
        "\n",
        "The Harness class is a testing class for Natural Language Processing (NLP) models. It evaluates the performance of a NLP model on a given task using test data and generates a report with test results.Harness can be imported from the LangTest library in the following way."
      ]
    },
    {
      "cell_type": "code",
      "execution_count": null,
      "metadata": {
        "id": "lTzSJpMlhgq5"
      },
      "outputs": [],
      "source": [
        "#Import Harness from the LangTest library\n",
        "from langtest import Harness"
      ]
    },
    {
      "attachments": {},
      "cell_type": "markdown",
      "metadata": {
        "id": "sBcZjwJBhkOw"
      },
      "source": [
        "It imports the Harness class from within the module, that is designed to provide a blueprint or framework for conducting NLP testing, and that instances of the Harness class can be customized or configured for different testing scenarios or environments.\n",
        "\n",
        "Here is a list of the different parameters that can be passed to the Harness function:\n",
        "\n",
        "<br/>\n",
        "\n",
        "\n",
        "| Parameter  | Description |  \n",
        "| - | - | \n",
        "|**task**     |Task for which the model is to be evaluated (question-answering or summarization)|\n",
        "| **model**     | Specifies the model(s) to be evaluated. This parameter can be provided as either a dictionary or a list of dictionaries. Each dictionary should contain the following keys: <ul><li>model (mandatory): \tPipelineModel or path to a saved model or pretrained pipeline/model from hub.</li><li>hub (mandatory): Hub (library) to use in back-end for loading model from public models hub or from path</li></ul>|\n",
        "| **data**      | The data to be used for evaluation. A dictionary providing flexibility and options for data sources. It should include the following keys: <ul><li>data_source (mandatory): The source of the data.</li><li>subset (optional): The subset of the data.</li><li>feature_column (optional): The column containing the features.</li><li>target_column (optional): The column containing the target labels.</li><li>split (optional): The data split to be used.</li><li>source (optional): Set to 'huggingface' when loading Hugging Face dataset.</li></ul> |\n",
        "| **config**    | Configuration for the tests to be performed, specified in the form of a YAML file. |\n",
        "\n",
        "<br/>\n",
        "<br/>"
      ]
    },
    {
      "attachments": {},
      "cell_type": "markdown",
      "metadata": {
        "id": "JFhJ9CcbsKqN"
      },
      "source": [
        "# Model Testing from HuggingFace Hub For Question Answering\n",
        "\n",
        "In this section, we dive into testing of HuggingFace Hub models in Question Answering task.\n",
        "\n",
        "LangTest supports robustness tests for LLM testing for now."
      ]
    },
    {
      "attachments": {},
      "cell_type": "markdown",
      "metadata": {
        "id": "kKgXC7cvuyar"
      },
      "source": [
        "### Set environment for HuggingFace Hub"
      ]
    },
    {
      "cell_type": "code",
      "execution_count": null,
      "metadata": {
        "id": "MHqlSjFLuy7o"
      },
      "outputs": [],
      "source": [
        "import os\n",
        "os.environ[\"HUGGINGFACEHUB_API_TOKEN\"] = \"<API_TOKEN>\""
      ]
    },
    {
      "attachments": {},
      "cell_type": "markdown",
      "metadata": {},
      "source": [
        "## BoolQ-test-tiny dataset testing"
      ]
    },
    {
      "attachments": {},
      "cell_type": "markdown",
      "metadata": {
        "id": "swaYPW-wPlku"
      },
      "source": [
        "### Setup and Configure Harness"
      ]
    },
    {
      "cell_type": "code",
      "execution_count": null,
      "metadata": {},
      "outputs": [],
      "source": [
        "harness = Harness(\n",
        "                  task=\"question-answering\", \n",
        "                  model={\"model\": \"google/flan-t5-small\",\"hub\": \"huggingface-inference-api\"},\n",
        "                  data={\"data_source\" :\"BoolQ\",\n",
        "                        \"split\":\"test-tiny\"}\n",
        "                  )"
      ]
    },
    {
      "attachments": {},
      "cell_type": "markdown",
      "metadata": {
        "id": "jWPAw9q0PwD1"
      },
      "source": [
        "We have specified task as QA, hub as `huggingface-inference-api` and model as `google/flan-t5-small`, `google/flan-t5-xl`, `stabilityai/stablelm-tuned-alpha-3b`, or `databricks/dolly-v2-3b`.\n",
        "\n",
        "For dataset we used `BoolQ` dataset and `test-tiny` split which includes 50 samples. Other available datasets are: [Benchmark Datasets](https://langtest.org/docs/pages/docs/data#question-answering)"
      ]
    },
    {
      "attachments": {},
      "cell_type": "markdown",
      "metadata": {},
      "source": [
        "For tests we used lowercase and uppercase. Other available robustness tests for QA task are:\n",
        "* `add_context`\n",
        "* `add_contraction`\n",
        "* `add_punctuation`\n",
        "* `add_typo`\n",
        "* `add_ocr_typo`\n",
        "* `american_to_british`\n",
        "* `british_to_american`\n",
        "* `lowercase`\n",
        "* `strip_punctuation`\n",
        "* `titlecase`\n",
        "* `uppercase`\n",
        "* `number_to_word`\n",
        "* `add_abbreviation`\n",
        "* `add_speech_to_text_typo`\n",
        "* `add_slangs`\n",
        "* `dyslexia_word_swap`\n",
        "* `multiple_perturbations`\n",
        "* `adjective_synonym_swap`\n",
        "* `adjective_antonym_swap`\n",
        "* `strip_all_punctuation`"
      ]
    },
    {
      "attachments": {},
      "cell_type": "markdown",
      "metadata": {},
      "source": [
        "Available Bias tests for QA task are:\n",
        "\n",
        "* `replace_to_male_pronouns`\n",
        "* `replace_to_female_pronouns`\n",
        "* `replace_to_neutral_pronouns`\n",
        "* `replace_to_high_income_country`\n",
        "* `replace_to_low_income_country`\n",
        "* `replace_to_upper_middle_income_country`\n",
        "* `replace_to_lower_middle_income_country`\n",
        "* `replace_to_white_firstnames`\n",
        "* `replace_to_black_firstnames`\n",
        "* `replace_to_hispanic_firstnames`\n",
        "* `replace_to_asian_firstnames`\n",
        "* `replace_to_white_lastnames`\n",
        "* `replace_to_sikh_names`\n",
        "* `replace_to_christian_names`\n",
        "* `replace_to_hindu_names`\n",
        "* `replace_to_muslim_names`\n",
        "* `replace_to_inter_racial_lastnames`\n",
        "* `replace_to_native_american_lastnames`\n",
        "* `replace_to_asian_lastnames`\n",
        "* `replace_to_hispanic_lastnames`\n",
        "* `replace_to_black_lastnames`\n",
        "* `replace_to_parsi_names`\n",
        "* `replace_to_jain_names`\n",
        "* `replace_to_buddhist_names`\n",
        "\n",
        "Available Representation tests for QA task are:\n",
        "\n",
        "* `min_gender_representation_count`\n",
        "* `min_ethnicity_name_representation_count`\n",
        "* `min_religion_name_representation_count`\n",
        "* `min_country_economic_representation_count`\n",
        "* `min_gender_representation_proportion`\n",
        "* `min_ethnicity_name_representation_proportion`\n",
        "* `min_religion_name_representation_proportion`\n",
        "* `min_country_economic_representation_proportion`\n",
        "\n",
        "\n",
        "Available Accuracy tests for QA task are:\n",
        "\n",
        "* `min_exact_match_score`\n",
        "* `min_bleu_score`\n",
        "* `min_rouge1_score`\n",
        "* `min_rouge2_score`\n",
        "* `min_rougeL_score`\n",
        "* `min_rougeLsum_score`\n",
        "\n",
        "\n",
        "Available Fairness tests for QA task are:\n",
        "\n",
        "* `max_gender_rouge1_score`\n",
        "* `max_gender_rouge2_score`\n",
        "* `max_gender_rougeL_score`\n",
        "* `max_gender_rougeLsum_score`\n",
        "* `min_gender_rouge1_score`\n",
        "* `min_gender_rouge2_score`\n",
        "* `min_gender_rougeL_score`\n",
        "* `min_gender_rougeLsum_score`"
      ]
    },
    {
      "attachments": {},
      "cell_type": "markdown",
      "metadata": {},
      "source": [
        "You can also set prompts and other model parameters in config. Possible parameters are:\n",
        "* `user_promt:` Promt to be given to the model.\n",
        "* `temperature:` Temperature of the model.\n",
        "* `max_tokens:` Maximum number of output tokens allowed for model."
      ]
    },
    {
      "cell_type": "code",
      "execution_count": null,
      "metadata": {
        "colab": {
          "base_uri": "https://localhost:8080/"
        },
        "id": "Q-ghKYLpPqtt",
        "outputId": "20f1a53b-2745-4028-bbe7-8ce4dccb745e"
      },
      "outputs": [],
      "source": [
        "harness.configure({\n",
        "    'model_parameters': {\n",
        "        'temperature': 0,\n",
        "        'max_tokens': 64\n",
        "    },\n",
        "    \n",
        "    'tests': {\n",
        "      'defaults':{\n",
        "        'min_pass_rate': 1.00\n",
        "      },\n",
        "\n",
        "      'robustness':{\n",
        "        'lowercase': {'min_pass_rate': 0.70},\n",
        "        'uppercase': {'min_pass_rate': 0.70}\n",
        "      }\n",
        "    }\n",
        "})"
      ]
    },
    {
      "attachments": {},
      "cell_type": "markdown",
      "metadata": {
        "id": "ZPU46A7WigFr"
      },
      "source": [
        "Here we have configured the harness to perform two robustness tests (uppercase and lowercase) and defined the minimum pass rate for each test."
      ]
    },
    {
      "attachments": {},
      "cell_type": "markdown",
      "metadata": {},
      "source": [
        "➤ You can adjust the level of transformation in the sentence by using the \"`prob`\" parameter, which controls the proportion of words to be changed during robustness tests.\n",
        "\n",
        "➤ **NOTE** : \"`prob`\" defaults to 1.0, which means all words will be transformed.\n",
        "```\n",
        "harness.configure(\n",
        "{\n",
        " 'tests': {\n",
        "    'defaults': {'min_pass_rate': 0.65},\n",
        "      'robustness': {\n",
        "        'lowercase': {'min_pass_rate': 0.66, 'prob': 0.50}, \n",
        "        'uppercase':{'min_pass_rate': 0.60, 'prob': 0.70},\n",
        "      }\n",
        "  }\n",
        "})\n",
        "\n",
        "```"
      ]
    },
    {
      "attachments": {},
      "cell_type": "markdown",
      "metadata": {
        "id": "i6kPvA13F7cr"
      },
      "source": [
        "\n",
        "### Generating the test cases."
      ]
    },
    {
      "cell_type": "code",
      "execution_count": null,
      "metadata": {
        "colab": {
          "base_uri": "https://localhost:8080/"
        },
        "id": "mdNH3wCKF9fn",
        "outputId": "cd348490-7ade-40fa-d870-dc059f5aa647"
      },
      "outputs": [],
      "source": [
        "harness.generate()"
      ]
    },
    {
      "attachments": {},
      "cell_type": "markdown",
      "metadata": {
        "id": "nyjDdYLeGCmM"
      },
      "source": [
        "harness.generate() method automatically generates the test cases (based on the provided configuration)"
      ]
    },
    {
      "cell_type": "code",
      "execution_count": null,
      "metadata": {
        "colab": {
          "base_uri": "https://localhost:8080/",
          "height": 641
        },
        "id": "c0jL1_G7F_p6",
        "outputId": "502c1525-9000-4041-823b-3b04f6650892"
      },
      "outputs": [],
      "source": [
        "harness.testcases()"
      ]
    },
    {
      "attachments": {},
      "cell_type": "markdown",
      "metadata": {
        "id": "NOJ8BAU2GGzd"
      },
      "source": [
        "harness.testcases() method displays the produced test cases in form of a pandas data frame."
      ]
    },
    {
      "attachments": {},
      "cell_type": "markdown",
      "metadata": {
        "id": "3CwhQw6hGR9S"
      },
      "source": [
        "### Running the tests"
      ]
    },
    {
      "cell_type": "code",
      "execution_count": null,
      "metadata": {
        "colab": {
          "base_uri": "https://localhost:8080/"
        },
        "id": "aguX6-aFGOnP",
        "outputId": "bb014811-522b-4f07-fa8a-bf3d1c906d7f"
      },
      "outputs": [],
      "source": [
        "harness.run()"
      ]
    },
    {
      "attachments": {},
      "cell_type": "markdown",
      "metadata": {
        "id": "191O2oaUGWrH"
      },
      "source": [
        "Called after harness.generate() and is to used to run all the tests.  Returns a pass/fail flag for each test."
      ]
    },
    {
      "cell_type": "code",
      "execution_count": null,
      "metadata": {
        "id": "XDbd1mpREWR5"
      },
      "outputs": [],
      "source": [
        "harness.generated_results()"
      ]
    },
    {
      "attachments": {},
      "cell_type": "markdown",
      "metadata": {
        "id": "TKB8Rsr2GZME"
      },
      "source": [
        "This method returns the generated results in the form of a pandas dataframe, which provides a convenient and easy-to-use format for working with the test results. You can use this method to quickly identify the test cases that failed and to determine where fixes are needed."
      ]
    },
    {
      "attachments": {},
      "cell_type": "markdown",
      "metadata": {
        "id": "PBSlpWnUU55G"
      },
      "source": [
        "### Final Results"
      ]
    },
    {
      "attachments": {},
      "cell_type": "markdown",
      "metadata": {},
      "source": [
        "We can call `.report()` which summarizes the results giving information about pass and fail counts and overall test pass/fail flag."
      ]
    },
    {
      "cell_type": "code",
      "execution_count": null,
      "metadata": {
        "colab": {
          "base_uri": "https://localhost:8080/",
          "height": 112
        },
        "id": "gp57HcF9yxi7",
        "outputId": "b893072f-102a-45a6-be03-d737996e659c"
      },
      "outputs": [],
      "source": [
        "harness.report()"
      ]
    },
    {
      "attachments": {},
      "cell_type": "markdown",
      "metadata": {
        "id": "5N0cKfKiLsiQ"
      },
      "source": [
        "#### NQ-open-test dataset testing"
      ]
    },
    {
      "attachments": {},
      "cell_type": "markdown",
      "metadata": {},
      "source": [
        "We can also use another dataset, NQ-open for testing the model."
      ]
    },
    {
      "cell_type": "code",
      "execution_count": null,
      "metadata": {},
      "outputs": [],
      "source": [
        "harness = Harness(\n",
        "                  task=\"question-answering\", \n",
        "                  model={\"model\": \"google/flan-t5-small\",\"hub\":\"huggingface-inference-api\"}, \n",
        "                  data={\"data_source\" :\"NQ-open\",\n",
        "                        \"split\":\"test-tiny\"}\n",
        "                  )"
      ]
    },
    {
      "cell_type": "code",
      "execution_count": null,
      "metadata": {
        "colab": {
          "base_uri": "https://localhost:8080/"
        },
        "id": "ZnLWJkPVEDmg",
        "outputId": "92ca0633-a1c6-4de3-f9fd-c77e6bcb5374"
      },
      "outputs": [],
      "source": [
        "harness.configure({\n",
        "    'model_parameters': {\n",
        "      'max_tokens': 64\n",
        "    },\n",
        "    'tests': {\n",
        "      'defaults':{\n",
        "        'min_pass_rate': 1.00\n",
        "      },\n",
        "\n",
        "      'robustness':{\n",
        "        'lowercase': {'min_pass_rate': 0.70},\n",
        "        'uppercase': {'min_pass_rate': 0.70}\n",
        "      }\n",
        "    }\n",
        "})"
      ]
    },
    {
      "cell_type": "code",
      "execution_count": null,
      "metadata": {
        "colab": {
          "base_uri": "https://localhost:8080/"
        },
        "id": "A3U0kM62EG6B",
        "outputId": "1ad54c30-3371-41b6-e85c-4dc69ffcd8aa"
      },
      "outputs": [],
      "source": [
        "harness.generate()"
      ]
    },
    {
      "cell_type": "code",
      "execution_count": null,
      "metadata": {
        "colab": {
          "base_uri": "https://localhost:8080/",
          "height": 423
        },
        "id": "0ipwMsy0EHYY",
        "outputId": "a3e9c1fb-22dc-416d-8cf6-043ac4b28432"
      },
      "outputs": [],
      "source": [
        "harness.testcases()"
      ]
    },
    {
      "cell_type": "code",
      "execution_count": null,
      "metadata": {
        "colab": {
          "base_uri": "https://localhost:8080/"
        },
        "id": "0Nic5HRZEJu5",
        "outputId": "dbbf911a-413e-479c-996b-98430920f0b5"
      },
      "outputs": [],
      "source": [
        "harness.run()"
      ]
    },
    {
      "cell_type": "code",
      "execution_count": null,
      "metadata": {
        "id": "BjZc-ZcCELbU"
      },
      "outputs": [],
      "source": [
        "harness.generated_results()"
      ]
    },
    {
      "cell_type": "code",
      "execution_count": null,
      "metadata": {
        "colab": {
          "base_uri": "https://localhost:8080/",
          "height": 112
        },
        "id": "PlrAxK1eENmh",
        "outputId": "7fd59473-20ac-402b-a39b-e5e3e29cf1f4"
      },
      "outputs": [],
      "source": [
        "harness.report()"
      ]
    },
    {
      "attachments": {},
      "cell_type": "markdown",
      "metadata": {},
      "source": [
        "# HuggingFace Hub Model Testing For Summarization\n",
        "\n",
        "In this section, we dive into testing of HuggingFace Hub models in Summarization task.\n",
        "\n",
        "LangTest supports robustness tests for LLM testing for now."
      ]
    },
    {
      "attachments": {},
      "cell_type": "markdown",
      "metadata": {},
      "source": [
        "## XSum-test-tiny dataset testing"
      ]
    },
    {
      "attachments": {},
      "cell_type": "markdown",
      "metadata": {},
      "source": [
        "### Setup and configure harness"
      ]
    },
    {
      "cell_type": "code",
      "execution_count": null,
      "metadata": {},
      "outputs": [],
      "source": [
        "harness = Harness(\n",
        "                  task=\"summarization\", \n",
        "                  model={\"model\": \"google/pegasus-newsroom\", \"hub\":\"huggingface-inference-api\"}, \n",
        "                  data={\"data_source\" :\"XSum\",\n",
        "                        \"split\":\"test-tiny\"}\n",
        "                  )"
      ]
    },
    {
      "attachments": {},
      "cell_type": "markdown",
      "metadata": {},
      "source": [
        "We have specified task as Summarization, hub as `huggingface-inference-api` and any summarization model from huggingface model hub such as `google/pegasus-newsroom`, `facebook/bart-large-cnn`, `google/pegasus-cnn_dailymail`, `google/bigbird-pegasus-large-bigpatent` and many more.\n",
        "\n",
        "For dataset we used XSum-test-tiny which includes 50 lines from XSum-test. Available datasets for summarization are:\n",
        "\n",
        "* `XSum-test`\n",
        "* `XSum-test-tiny`"
      ]
    },
    {
      "attachments": {},
      "cell_type": "markdown",
      "metadata": {},
      "source": [
        "For tests we used lowercase and uppercase. Other available robustness tests for summarization task are:\n",
        "\n",
        "* `add_context`\n",
        "* `add_contraction`\n",
        "* `add_punctuation`\n",
        "* `add_typo`\n",
        "* `add_ocr_typo`\n",
        "* `american_to_british`\n",
        "* `british_to_american`\n",
        "* `lowercase`\n",
        "* `strip_punctuation`\n",
        "* `titlecase`\n",
        "* `uppercase`\n",
        "* `number_to_word`\n",
        "* `add_abbreviation`\n",
        "* `add_speech_to_text_typo`\n",
        "* `add_slangs`\n",
        "* `dyslexia_word_swap`\n",
        "* `multiple_perturbations`\n",
        "* `adjective_synonym_swap`\n",
        "* `adjective_antonym_swap`\n",
        "* `strip_all_punctuation`\n",
        "\n",
        "Available Bias tests for summarization task are:\n",
        "\n",
        "* `replace_to_male_pronouns`\n",
        "* `replace_to_female_pronouns`\n",
        "* `replace_to_neutral_pronouns`\n",
        "* `replace_to_high_income_country`\n",
        "* `replace_to_low_income_country`\n",
        "* `replace_to_upper_middle_income_country`\n",
        "* `replace_to_lower_middle_income_country`\n",
        "* `replace_to_white_firstnames`\n",
        "* `replace_to_black_firstnames`\n",
        "* `replace_to_hispanic_firstnames`\n",
        "* `replace_to_asian_firstnames`\n",
        "* `replace_to_white_lastnames`\n",
        "* `replace_to_sikh_names`\n",
        "* `replace_to_christian_names`\n",
        "* `replace_to_hindu_names`\n",
        "* `replace_to_muslim_names`\n",
        "* `replace_to_inter_racial_lastnames`\n",
        "* `replace_to_native_american_lastnames`\n",
        "* `replace_to_asian_lastnames`\n",
        "* `replace_to_hispanic_lastnames`\n",
        "* `replace_to_black_lastnames`\n",
        "* `replace_to_parsi_names`\n",
        "* `replace_to_jain_names`\n",
        "* `replace_to_buddhist_names`\n",
        "\n",
        "Available Representation tests for summarization task are:\n",
        "\n",
        "* `min_gender_representation_count`\n",
        "* `min_ethnicity_name_representation_count`\n",
        "* `min_religion_name_representation_count`\n",
        "* `min_country_economic_representation_count`\n",
        "* `min_gender_representation_proportion`\n",
        "* `min_ethnicity_name_representation_proportion`\n",
        "* `min_religion_name_representation_proportion`\n",
        "* `min_country_economic_representation_proportion`\n",
        "\n",
        "\n",
        "Available Accuracy tests for summarization task are:\n",
        "\n",
        "* `min_exact_match_score`\n",
        "* `min_bleu_score`\n",
        "* `min_rouge1_score`\n",
        "* `min_rouge2_score`\n",
        "* `min_rougeL_score`\n",
        "* `min_rougeLsum_score`\n",
        "\n",
        "\n",
        "Available Fairness tests for summarization task are:\n",
        "\n",
        "* `max_gender_rouge1_score`\n",
        "* `max_gender_rouge2_score`\n",
        "* `max_gender_rougeL_score`\n",
        "* `max_gender_rougeLsum_score`\n",
        "* `min_gender_rouge1_score`\n",
        "* `min_gender_rouge2_score`\n",
        "* `min_gender_rougeL_score`\n",
        "* `min_gender_rougeLsum_score`"
      ]
    },
    {
      "cell_type": "code",
      "execution_count": 31,
      "metadata": {},
      "outputs": [
        {
          "data": {
            "text/plain": [
              "{'tests': {'defaults': {'min_pass_rate': 0.65},\n",
              "  'robustness': {'uppercase': {'min_pass_rate': 0.66},\n",
              "   'lowercase': {'min_pass_rate': 0.6}}}}"
            ]
          },
          "execution_count": 31,
          "metadata": {},
          "output_type": "execute_result"
        }
      ],
      "source": [
        "harness.configure(\n",
        "{\n",
        " 'tests': {'defaults': {'min_pass_rate': 0.65},\n",
        "           'robustness': {'uppercase': {'min_pass_rate': 0.66}, \n",
        "                          'lowercase':{'min_pass_rate': 0.60},\n",
        "                        }\n",
        "          }\n",
        " }\n",
        " )"
      ]
    },
    {
      "attachments": {},
      "cell_type": "markdown",
      "metadata": {},
      "source": [
        "`Here we have configured the harness to perform two robustness tests (uppercase and lowercase) and defined the minimum pass rate for each test.`"
      ]
    },
    {
      "attachments": {},
      "cell_type": "markdown",
      "metadata": {},
      "source": [
        "### Generating the Test Cases"
      ]
    },
    {
      "cell_type": "code",
      "execution_count": 33,
      "metadata": {},
      "outputs": [
        {
          "name": "stderr",
          "output_type": "stream",
          "text": [
            "Generating testcases...: 100%|██████████| 1/1 [00:00<?, ?it/s]\n"
          ]
        },
        {
          "data": {
            "text/plain": []
          },
          "execution_count": 33,
          "metadata": {},
          "output_type": "execute_result"
        }
      ],
      "source": [
        "harness.generate()"
      ]
    },
    {
      "cell_type": "code",
      "execution_count": 34,
      "metadata": {},
      "outputs": [
        {
          "data": {
            "text/html": [
              "<div>\n",
              "<style scoped>\n",
              "    .dataframe tbody tr th:only-of-type {\n",
              "        vertical-align: middle;\n",
              "    }\n",
              "\n",
              "    .dataframe tbody tr th {\n",
              "        vertical-align: top;\n",
              "    }\n",
              "\n",
              "    .dataframe thead th {\n",
              "        text-align: right;\n",
              "    }\n",
              "</style>\n",
              "<table border=\"1\" class=\"dataframe\">\n",
              "  <thead>\n",
              "    <tr style=\"text-align: right;\">\n",
              "      <th></th>\n",
              "      <th>category</th>\n",
              "      <th>test_type</th>\n",
              "      <th>original</th>\n",
              "      <th>test_case</th>\n",
              "    </tr>\n",
              "  </thead>\n",
              "  <tbody>\n",
              "    <tr>\n",
              "      <th>0</th>\n",
              "      <td>robustness</td>\n",
              "      <td>uppercase</td>\n",
              "      <td>The ex-Reading defender denied fraudulent trad...</td>\n",
              "      <td>THE EX-READING DEFENDER DENIED FRAUDULENT TRAD...</td>\n",
              "    </tr>\n",
              "    <tr>\n",
              "      <th>1</th>\n",
              "      <td>robustness</td>\n",
              "      <td>uppercase</td>\n",
              "      <td>Voges was forced to retire hurt on 86 after su...</td>\n",
              "      <td>VOGES WAS FORCED TO RETIRE HURT ON 86 AFTER SU...</td>\n",
              "    </tr>\n",
              "    <tr>\n",
              "      <th>2</th>\n",
              "      <td>robustness</td>\n",
              "      <td>uppercase</td>\n",
              "      <td>Seven photographs taken in the Norfolk country...</td>\n",
              "      <td>SEVEN PHOTOGRAPHS TAKEN IN THE NORFOLK COUNTRY...</td>\n",
              "    </tr>\n",
              "    <tr>\n",
              "      <th>3</th>\n",
              "      <td>robustness</td>\n",
              "      <td>uppercase</td>\n",
              "      <td>Chris Poole - known as \"moot\" online - created...</td>\n",
              "      <td>CHRIS POOLE - KNOWN AS \"MOOT\" ONLINE - CREATED...</td>\n",
              "    </tr>\n",
              "    <tr>\n",
              "      <th>4</th>\n",
              "      <td>robustness</td>\n",
              "      <td>uppercase</td>\n",
              "      <td>Four police officers were injured in the incid...</td>\n",
              "      <td>FOUR POLICE OFFICERS WERE INJURED IN THE INCID...</td>\n",
              "    </tr>\n",
              "    <tr>\n",
              "      <th>5</th>\n",
              "      <td>robustness</td>\n",
              "      <td>uppercase</td>\n",
              "      <td>The injured pedestrian - a young man - is thou...</td>\n",
              "      <td>THE INJURED PEDESTRIAN - A YOUNG MAN - IS THOU...</td>\n",
              "    </tr>\n",
              "    <tr>\n",
              "      <th>6</th>\n",
              "      <td>robustness</td>\n",
              "      <td>uppercase</td>\n",
              "      <td>Barca will be investigated for alleged misappr...</td>\n",
              "      <td>BARCA WILL BE INVESTIGATED FOR ALLEGED MISAPPR...</td>\n",
              "    </tr>\n",
              "    <tr>\n",
              "      <th>7</th>\n",
              "      <td>robustness</td>\n",
              "      <td>uppercase</td>\n",
              "      <td>The think tank said the city's 1,536 schools n...</td>\n",
              "      <td>THE THINK TANK SAID THE CITY'S 1,536 SCHOOLS N...</td>\n",
              "    </tr>\n",
              "    <tr>\n",
              "      <th>8</th>\n",
              "      <td>robustness</td>\n",
              "      <td>lowercase</td>\n",
              "      <td>The ex-Reading defender denied fraudulent trad...</td>\n",
              "      <td>the ex-reading defender denied fraudulent trad...</td>\n",
              "    </tr>\n",
              "    <tr>\n",
              "      <th>9</th>\n",
              "      <td>robustness</td>\n",
              "      <td>lowercase</td>\n",
              "      <td>Voges was forced to retire hurt on 86 after su...</td>\n",
              "      <td>voges was forced to retire hurt on 86 after su...</td>\n",
              "    </tr>\n",
              "    <tr>\n",
              "      <th>10</th>\n",
              "      <td>robustness</td>\n",
              "      <td>lowercase</td>\n",
              "      <td>Seven photographs taken in the Norfolk country...</td>\n",
              "      <td>seven photographs taken in the norfolk country...</td>\n",
              "    </tr>\n",
              "    <tr>\n",
              "      <th>11</th>\n",
              "      <td>robustness</td>\n",
              "      <td>lowercase</td>\n",
              "      <td>Chris Poole - known as \"moot\" online - created...</td>\n",
              "      <td>chris poole - known as \"moot\" online - created...</td>\n",
              "    </tr>\n",
              "    <tr>\n",
              "      <th>12</th>\n",
              "      <td>robustness</td>\n",
              "      <td>lowercase</td>\n",
              "      <td>Four police officers were injured in the incid...</td>\n",
              "      <td>four police officers were injured in the incid...</td>\n",
              "    </tr>\n",
              "    <tr>\n",
              "      <th>13</th>\n",
              "      <td>robustness</td>\n",
              "      <td>lowercase</td>\n",
              "      <td>The injured pedestrian - a young man - is thou...</td>\n",
              "      <td>the injured pedestrian - a young man - is thou...</td>\n",
              "    </tr>\n",
              "    <tr>\n",
              "      <th>14</th>\n",
              "      <td>robustness</td>\n",
              "      <td>lowercase</td>\n",
              "      <td>Barca will be investigated for alleged misappr...</td>\n",
              "      <td>barca will be investigated for alleged misappr...</td>\n",
              "    </tr>\n",
              "    <tr>\n",
              "      <th>15</th>\n",
              "      <td>robustness</td>\n",
              "      <td>lowercase</td>\n",
              "      <td>The think tank said the city's 1,536 schools n...</td>\n",
              "      <td>the think tank said the city's 1,536 schools n...</td>\n",
              "    </tr>\n",
              "  </tbody>\n",
              "</table>\n",
              "</div>"
            ],
            "text/plain": [
              "      category  test_type                                           original  \\\n",
              "0   robustness  uppercase  The ex-Reading defender denied fraudulent trad...   \n",
              "1   robustness  uppercase  Voges was forced to retire hurt on 86 after su...   \n",
              "2   robustness  uppercase  Seven photographs taken in the Norfolk country...   \n",
              "3   robustness  uppercase  Chris Poole - known as \"moot\" online - created...   \n",
              "4   robustness  uppercase  Four police officers were injured in the incid...   \n",
              "5   robustness  uppercase  The injured pedestrian - a young man - is thou...   \n",
              "6   robustness  uppercase  Barca will be investigated for alleged misappr...   \n",
              "7   robustness  uppercase  The think tank said the city's 1,536 schools n...   \n",
              "8   robustness  lowercase  The ex-Reading defender denied fraudulent trad...   \n",
              "9   robustness  lowercase  Voges was forced to retire hurt on 86 after su...   \n",
              "10  robustness  lowercase  Seven photographs taken in the Norfolk country...   \n",
              "11  robustness  lowercase  Chris Poole - known as \"moot\" online - created...   \n",
              "12  robustness  lowercase  Four police officers were injured in the incid...   \n",
              "13  robustness  lowercase  The injured pedestrian - a young man - is thou...   \n",
              "14  robustness  lowercase  Barca will be investigated for alleged misappr...   \n",
              "15  robustness  lowercase  The think tank said the city's 1,536 schools n...   \n",
              "\n",
              "                                            test_case  \n",
              "0   THE EX-READING DEFENDER DENIED FRAUDULENT TRAD...  \n",
              "1   VOGES WAS FORCED TO RETIRE HURT ON 86 AFTER SU...  \n",
              "2   SEVEN PHOTOGRAPHS TAKEN IN THE NORFOLK COUNTRY...  \n",
              "3   CHRIS POOLE - KNOWN AS \"MOOT\" ONLINE - CREATED...  \n",
              "4   FOUR POLICE OFFICERS WERE INJURED IN THE INCID...  \n",
              "5   THE INJURED PEDESTRIAN - A YOUNG MAN - IS THOU...  \n",
              "6   BARCA WILL BE INVESTIGATED FOR ALLEGED MISAPPR...  \n",
              "7   THE THINK TANK SAID THE CITY'S 1,536 SCHOOLS N...  \n",
              "8   the ex-reading defender denied fraudulent trad...  \n",
              "9   voges was forced to retire hurt on 86 after su...  \n",
              "10  seven photographs taken in the norfolk country...  \n",
              "11  chris poole - known as \"moot\" online - created...  \n",
              "12  four police officers were injured in the incid...  \n",
              "13  the injured pedestrian - a young man - is thou...  \n",
              "14  barca will be investigated for alleged misappr...  \n",
              "15  the think tank said the city's 1,536 schools n...  "
            ]
          },
          "execution_count": 34,
          "metadata": {},
          "output_type": "execute_result"
        }
      ],
      "source": [
        "harness.testcases()"
      ]
    },
    {
      "attachments": {},
      "cell_type": "markdown",
      "metadata": {},
      "source": [
        "### Running the tests"
      ]
    },
    {
      "cell_type": "code",
      "execution_count": 36,
      "metadata": {},
      "outputs": [
        {
          "name": "stderr",
          "output_type": "stream",
          "text": [
            "Running testcases... : 100%|██████████| 16/16 [01:46<00:00,  6.67s/it]\n"
          ]
        },
        {
          "data": {
            "text/plain": []
          },
          "execution_count": 36,
          "metadata": {},
          "output_type": "execute_result"
        }
      ],
      "source": [
        "harness.run()"
      ]
    },
    {
      "attachments": {},
      "cell_type": "markdown",
      "metadata": {},
      "source": [
        "### Generated Results"
      ]
    },
    {
      "cell_type": "code",
      "execution_count": 39,
      "metadata": {},
      "outputs": [
        {
          "data": {
            "text/html": [
              "<div>\n",
              "<style scoped>\n",
              "    .dataframe tbody tr th:only-of-type {\n",
              "        vertical-align: middle;\n",
              "    }\n",
              "\n",
              "    .dataframe tbody tr th {\n",
              "        vertical-align: top;\n",
              "    }\n",
              "\n",
              "    .dataframe thead th {\n",
              "        text-align: right;\n",
              "    }\n",
              "</style>\n",
              "<table border=\"1\" class=\"dataframe\">\n",
              "  <thead>\n",
              "    <tr style=\"text-align: right;\">\n",
              "      <th></th>\n",
              "      <th>category</th>\n",
              "      <th>test_type</th>\n",
              "      <th>original</th>\n",
              "      <th>test_case</th>\n",
              "      <th>expected_result</th>\n",
              "      <th>actual_result</th>\n",
              "      <th>eval_score</th>\n",
              "      <th>pass</th>\n",
              "    </tr>\n",
              "  </thead>\n",
              "  <tbody>\n",
              "    <tr>\n",
              "      <th>0</th>\n",
              "      <td>robustness</td>\n",
              "      <td>uppercase</td>\n",
              "      <td>The ex-Reading defender denied fraudulent trading charges relating to the Sodje Sports Foundation - a charity to raise money for Nigerian sport.\\nMr Sodje, 37, is jointly charged with elder brothers Efe, 44, Bright, 50 and Stephen, 42.\\nAppearing at the Old Bailey earlier, all four denied the offence.\\nThe charge relates to offences which allegedly took place between 2008 and 2014.\\nSam, from Kent, Efe and Bright, of Greater Manchester, and Stephen, from Bexley, are due to stand trial in July.\\nThey were all released on bail.</td>\n",
              "      <td>THE EX-READING DEFENDER DENIED FRAUDULENT TRADING CHARGES RELATING TO THE SODJE SPORTS FOUNDATION - A CHARITY TO RAISE MONEY FOR NIGERIAN SPORT.\\nMR SODJE, 37, IS JOINTLY CHARGED WITH ELDER BROTHERS EFE, 44, BRIGHT, 50 AND STEPHEN, 42.\\nAPPEARING AT THE OLD BAILEY EARLIER, ALL FOUR DENIED THE OFFENCE.\\nTHE CHARGE RELATES TO OFFENCES WHICH ALLEGEDLY TOOK PLACE BETWEEN 2008 AND 2014.\\nSAM, FROM KENT, EFE AND BRIGHT, OF GREATER MANCHESTER, AND STEPHEN, FROM BEXLEY, ARE DUE TO STAND TRIAL IN JULY.\\nTHEY WERE ALL RELEASED ON BAIL.</td>\n",
              "      <td>The ex-Reading defender denied fraudulent trading charges relating to the Sodje Sports Foundation - a charity to raise money for Nigerian sport. Mr Sodje, 37, is jointly charged with elder brothers Efe, 44, Bright, 50 and Stephen, 42. Appearing at the Old Bailey earlier, all</td>\n",
              "      <td>Former Liverpool defender Steven Caulker has pleaded guilty to one count of conspiracy to commit fraud and one count of conspiracy to commit money laundering in connection with the alleged manipulation of foreign exchange markets.</td>\n",
              "      <td>0.000000</td>\n",
              "      <td>False</td>\n",
              "    </tr>\n",
              "    <tr>\n",
              "      <th>1</th>\n",
              "      <td>robustness</td>\n",
              "      <td>uppercase</td>\n",
              "      <td>Voges was forced to retire hurt on 86 after suffering the injury while batting during the County Championship draw with Somerset on 4 June.\\nMiddlesex hope to have the Australian back for their T20 Blast game against Hampshire at Lord's on 3 August.\\nThe 37-year-old has scored 230 runs in four first-class games this season at an average of 57.50.\\n\"Losing Adam is naturally a blow as he contributes significantly to everything we do,\" director of cricket Angus Fraser said.\\n\"His absence, however, does give opportunities to other players who are desperate to play in the first XI.\\n\"In the past we have coped well without an overseas player and I expect us to do so now.\"\\nDefending county champions Middlesex are sixth in the Division One table, having drawn all four of their matches this season.\\nVoges retired from international cricket in February with a Test batting average of 61.87 from 31 innings, second only to Australian great Sir Donald Bradman's career average of 99.94 from 52 Tests.</td>\n",
              "      <td>VOGES WAS FORCED TO RETIRE HURT ON 86 AFTER SUFFERING THE INJURY WHILE BATTING DURING THE COUNTY CHAMPIONSHIP DRAW WITH SOMERSET ON 4 JUNE.\\nMIDDLESEX HOPE TO HAVE THE AUSTRALIAN BACK FOR THEIR T20 BLAST GAME AGAINST HAMPSHIRE AT LORD'S ON 3 AUGUST.\\nTHE 37-YEAR-OLD HAS SCORED 230 RUNS IN FOUR FIRST-CLASS GAMES THIS SEASON AT AN AVERAGE OF 57.50.\\n\"LOSING ADAM IS NATURALLY A BLOW AS HE CONTRIBUTES SIGNIFICANTLY TO EVERYTHING WE DO,\" DIRECTOR OF CRICKET ANGUS FRASER SAID.\\n\"HIS ABSENCE, HOWEVER, DOES GIVE OPPORTUNITIES TO OTHER PLAYERS WHO ARE DESPERATE TO PLAY IN THE FIRST XI.\\n\"IN THE PAST WE HAVE COPED WELL WITHOUT AN OVERSEAS PLAYER AND I EXPECT US TO DO SO NOW.\"\\nDEFENDING COUNTY CHAMPIONS MIDDLESEX ARE SIXTH IN THE DIVISION ONE TABLE, HAVING DRAWN ALL FOUR OF THEIR MATCHES THIS SEASON.\\nVOGES RETIRED FROM INTERNATIONAL CRICKET IN FEBRUARY WITH A TEST BATTING AVERAGE OF 61.87 FROM 31 INNINGS, SECOND ONLY TO AUSTRALIAN GREAT SIR DONALD BRADMAN'S CAREER AVERAGE OF 99.94 FROM 52 TESTS.</td>\n",
              "      <td>Former Australia batsman Adam Voges has been ruled out of Middlesex's first-class season because of a stress fracture in his lower back, the county have announced.</td>\n",
              "      <td>Former Australia batsman Adam Voges has been forced to retire from first-class cricket after injuring his ankle during Middlesex's draw with Somerset on 4 June.</td>\n",
              "      <td>0.301887</td>\n",
              "      <td>False</td>\n",
              "    </tr>\n",
              "    <tr>\n",
              "      <th>2</th>\n",
              "      <td>robustness</td>\n",
              "      <td>uppercase</td>\n",
              "      <td>Seven photographs taken in the Norfolk countryside by photographer Josh Olins will appear in the June edition.\\nIn her first sitting for a magazine, the duchess is seen looking relaxed and wearing casual clothes.\\nThe shoot was in collaboration with the National Portrait Gallery, where two images are being displayed in the Vogue 100: A Century of Style exhibition.\\nThe duchess, who has a keen interest in photography, has been patron of the National Portrait Gallery since 2012.\\nNicholas Cullinan, director of the National Portrait Gallery, said: \"Josh has captured the duchess exactly as she is - full of life, with a great sense of humour, thoughtful and intelligent, and in fact, very beautiful.\"\\nHe said the images also encapsulated what Vogue had done over the past 100 years - \"to pair the best photographers with the great personalities of the day, in order to reflect broader shifts in culture and society\".\\nAlexandra Shulman, editor-in-chief of British Vogue, said: \"To be able to publish a photographic shoot with the Duchess of Cambridge has been one of my greatest ambitions for the magazine.\"\\nThe collaboration for the June edition had resulted in \"a true celebration of our centenary as well as a fitting tribute to a young woman whose interest in both photography and the countryside is well known\", she said.\\nOther royal portraits to have featured in the fashion magazine include Diana, Princess of Wales - who graced the cover four times - and Princess Anne.\\nThe duchess is to visit the exhibition at the National Portrait Gallery on Wednesday, Kensington Palace said.</td>\n",
              "      <td>SEVEN PHOTOGRAPHS TAKEN IN THE NORFOLK COUNTRYSIDE BY PHOTOGRAPHER JOSH OLINS WILL APPEAR IN THE JUNE EDITION.\\nIN HER FIRST SITTING FOR A MAGAZINE, THE DUCHESS IS SEEN LOOKING RELAXED AND WEARING CASUAL CLOTHES.\\nTHE SHOOT WAS IN COLLABORATION WITH THE NATIONAL PORTRAIT GALLERY, WHERE TWO IMAGES ARE BEING DISPLAYED IN THE VOGUE 100: A CENTURY OF STYLE EXHIBITION.\\nTHE DUCHESS, WHO HAS A KEEN INTEREST IN PHOTOGRAPHY, HAS BEEN PATRON OF THE NATIONAL PORTRAIT GALLERY SINCE 2012.\\nNICHOLAS CULLINAN, DIRECTOR OF THE NATIONAL PORTRAIT GALLERY, SAID: \"JOSH HAS CAPTURED THE DUCHESS EXACTLY AS SHE IS - FULL OF LIFE, WITH A GREAT SENSE OF HUMOUR, THOUGHTFUL AND INTELLIGENT, AND IN FACT, VERY BEAUTIFUL.\"\\nHE SAID THE IMAGES ALSO ENCAPSULATED WHAT VOGUE HAD DONE OVER THE PAST 100 YEARS - \"TO PAIR THE BEST PHOTOGRAPHERS WITH THE GREAT PERSONALITIES OF THE DAY, IN ORDER TO REFLECT BROADER SHIFTS IN CULTURE AND SOCIETY\".\\nALEXANDRA SHULMAN, EDITOR-IN-CHIEF OF BRITISH VOGUE, SAID: \"TO BE ABLE TO PUBLISH A PHOTOGRAPHIC SHOOT WITH THE DUCHESS OF CAMBRIDGE HAS BEEN ONE OF MY GREATEST AMBITIONS FOR THE MAGAZINE.\"\\nTHE COLLABORATION FOR THE JUNE EDITION HAD RESULTED IN \"A TRUE CELEBRATION OF OUR CENTENARY AS WELL AS A FITTING TRIBUTE TO A YOUNG WOMAN WHOSE INTEREST IN BOTH PHOTOGRAPHY AND THE COUNTRYSIDE IS WELL KNOWN\", SHE SAID.\\nOTHER ROYAL PORTRAITS TO HAVE FEATURED IN THE FASHION MAGAZINE INCLUDE DIANA, PRINCESS OF WALES - WHO GRACED THE COVER FOUR TIMES - AND PRINCESS ANNE.\\nTHE DUCHESS IS TO VISIT THE EXHIBITION AT THE NATIONAL PORTRAIT GALLERY ON WEDNESDAY, KENSINGTON PALACE SAID.</td>\n",
              "      <td>Seven photographs taken in the Norfolk countryside by photographer Josh Olins will appear in the June edition of British Vogue. In her first sitting for a magazine, the duchess is seen looking relaxed and wearing casual clothes. The shoot was in collaboration with the National Portrait Gallery, where two images are being displayed in the Vogue 100</td>\n",
              "      <td>The Duchess of Cambridge will appear on the cover of British Vogue for the first time in the magazine's 100th anniversary issue, it has been announced.</td>\n",
              "      <td>0.121951</td>\n",
              "      <td>False</td>\n",
              "    </tr>\n",
              "    <tr>\n",
              "      <th>3</th>\n",
              "      <td>robustness</td>\n",
              "      <td>uppercase</td>\n",
              "      <td>Chris Poole - known as \"moot\" online - created the site in 2003.\\nIt has gone on to be closely associated with offensive and often illegal activity, including instances where the images of child abuse were shared.\\nIt was widely credited as being the first place where leaked images of nude celebrities were posted following 2014's well-publicised security breach affecting Apple's iCloud service. That incident prompted a policy change on the site.\\nHowever, 4chan has also been the rallying point for many instances of online activism from the likes of Anonymous, the loosely organized hacktivism group.\\nMr Poole shared news of his new position on blogging site Tumblr.\\n\"When meeting with current and former Googlers, I continually find myself drawn to their intelligence, passion, and enthusiasm - as well as a universal desire to share it with others.\"\\n\"I'm also impressed by Google's commitment to enabling these same talented people to tackle some of the world's most interesting and important problems.\\nHe added: \"I can't wait to contribute my own experience from a dozen years of building online communities, and to begin the next chapter of my career at such an incredible company.\"\\nMr Poole stepped down as the administrator of 4chan in January 2015. Now he is expected to turn his attentions to Google's social networking efforts.\\nHis arrival was welcomed by Bradley Horowitz, the head of \"streams, photos and sharing\" at the search giant's floundering social network, Google+.\\n\"I'm thrilled he's joining our team here at Google,\" Mr Horowitz said.\\n\"Welcome Chris!ï»¿\"\\nSeveral commentators described the appointment as \"unexpected\" but noted that Mr Poole's expertise with social media could prove useful to the search firm.\\nFollow Dave Lee on Twitter @DaveLeeBBC and on Facebook</td>\n",
              "      <td>CHRIS POOLE - KNOWN AS \"MOOT\" ONLINE - CREATED THE SITE IN 2003.\\nIT HAS GONE ON TO BE CLOSELY ASSOCIATED WITH OFFENSIVE AND OFTEN ILLEGAL ACTIVITY, INCLUDING INSTANCES WHERE THE IMAGES OF CHILD ABUSE WERE SHARED.\\nIT WAS WIDELY CREDITED AS BEING THE FIRST PLACE WHERE LEAKED IMAGES OF NUDE CELEBRITIES WERE POSTED FOLLOWING 2014'S WELL-PUBLICISED SECURITY BREACH AFFECTING APPLE'S ICLOUD SERVICE. THAT INCIDENT PROMPTED A POLICY CHANGE ON THE SITE.\\nHOWEVER, 4CHAN HAS ALSO BEEN THE RALLYING POINT FOR MANY INSTANCES OF ONLINE ACTIVISM FROM THE LIKES OF ANONYMOUS, THE LOOSELY ORGANIZED HACKTIVISM GROUP.\\nMR POOLE SHARED NEWS OF HIS NEW POSITION ON BLOGGING SITE TUMBLR.\\n\"WHEN MEETING WITH CURRENT AND FORMER GOOGLERS, I CONTINUALLY FIND MYSELF DRAWN TO THEIR INTELLIGENCE, PASSION, AND ENTHUSIASM - AS WELL AS A UNIVERSAL DESIRE TO SHARE IT WITH OTHERS.\"\\n\"I'M ALSO IMPRESSED BY GOOGLE'S COMMITMENT TO ENABLING THESE SAME TALENTED PEOPLE TO TACKLE SOME OF THE WORLD'S MOST INTERESTING AND IMPORTANT PROBLEMS.\\nHE ADDED: \"I CAN'T WAIT TO CONTRIBUTE MY OWN EXPERIENCE FROM A DOZEN YEARS OF BUILDING ONLINE COMMUNITIES, AND TO BEGIN THE NEXT CHAPTER OF MY CAREER AT SUCH AN INCREDIBLE COMPANY.\"\\nMR POOLE STEPPED DOWN AS THE ADMINISTRATOR OF 4CHAN IN JANUARY 2015. NOW HE IS EXPECTED TO TURN HIS ATTENTIONS TO GOOGLE'S SOCIAL NETWORKING EFFORTS.\\nHIS ARRIVAL WAS WELCOMED BY BRADLEY HOROWITZ, THE HEAD OF \"STREAMS, PHOTOS AND SHARING\" AT THE SEARCH GIANT'S FLOUNDERING SOCIAL NETWORK, GOOGLE+.\\n\"I'M THRILLED HE'S JOINING OUR TEAM HERE AT GOOGLE,\" MR HOROWITZ SAID.\\n\"WELCOME CHRIS!Ï»¿\"\\nSEVERAL COMMENTATORS DESCRIBED THE APPOINTMENT AS \"UNEXPECTED\" BUT NOTED THAT MR POOLE'S EXPERTISE WITH SOCIAL MEDIA COULD PROVE USEFUL TO THE SEARCH FIRM.\\nFOLLOW DAVE LEE ON TWITTER @DAVELEEBBC AND ON FACEBOOK</td>\n",
              "      <td>The man who created the notorious online forum 4chan has been appointed head of Google's social network, Google+, the search giant has announced. The BBC's Dave Lee reports.</td>\n",
              "      <td>CHRIS POOLE - KNOWN AS \"MOOT\" ONLINE - CREATED THE SITE IN 2003. It has gone on to be CLOSELY ASSOCIATED with OFFENSIVE and OFTEN ILLEGAL ACTIVITY, including inSTANCES where the IMAGES of Child ABUSE were shared. It was</td>\n",
              "      <td>0.030769</td>\n",
              "      <td>False</td>\n",
              "    </tr>\n",
              "    <tr>\n",
              "      <th>4</th>\n",
              "      <td>robustness</td>\n",
              "      <td>uppercase</td>\n",
              "      <td>Four police officers were injured in the incident on Friday night.\\nA man, aged 19, and a boy, aged 16, have been charged with six counts of aggravated vehicle taking.\\nThey are due to appear before Belfast Magistrates' Court on Monday.\\nThe 19-year-old man has also been charged with driving while disqualified and using a motor vehicle without insurance.</td>\n",
              "      <td>FOUR POLICE OFFICERS WERE INJURED IN THE INCIDENT ON FRIDAY NIGHT.\\nA MAN, AGED 19, AND A BOY, AGED 16, HAVE BEEN CHARGED WITH SIX COUNTS OF AGGRAVATED VEHICLE TAKING.\\nTHEY ARE DUE TO APPEAR BEFORE BELFAST MAGISTRATES' COURT ON MONDAY.\\nTHE 19-YEAR-OLD MAN HAS ALSO BEEN CHARGED WITH DRIVING WHILE DISQUALIFIED AND USING A MOTOR VEHICLE WITHOUT INSURANCE.</td>\n",
              "      <td>Four police officers were injured in the incident on Friday night. A man, aged 19, and a boy, aged 16, have been charged with six counts of aggravated vehicle taking. They are due to appear before Belfast Magistrates' Court on Monday.</td>\n",
              "      <td>A 19-year-old man and a 16-year-old boy have been charged after four police officers were injured in a car crash in Belfast on Friday night.</td>\n",
              "      <td>0.294118</td>\n",
              "      <td>False</td>\n",
              "    </tr>\n",
              "    <tr>\n",
              "      <th>5</th>\n",
              "      <td>robustness</td>\n",
              "      <td>uppercase</td>\n",
              "      <td>The injured pedestrian - a young man - is thought to have been walking with a group of people from a graduation ceremony at the Caird Hall.\\nThe incident took place on High Street at about 18:00.\\nThe man's injuries are believed not to be life-threatening. The driver of the taxi is thought to be uninjured.</td>\n",
              "      <td>THE INJURED PEDESTRIAN - A YOUNG MAN - IS THOUGHT TO HAVE BEEN WALKING WITH A GROUP OF PEOPLE FROM A GRADUATION CEREMONY AT THE CAIRD HALL.\\nTHE INCIDENT TOOK PLACE ON HIGH STREET AT ABOUT 18:00.\\nTHE MAN'S INJURIES ARE BELIEVED NOT TO BE LIFE-THREATENING. THE DRIVER OF THE TAXI IS THOUGHT TO BE UNINJURED.</td>\n",
              "      <td>The injured pedestrian - a young man - is thought to have been walking with a group of people from a graduation ceremony at the Caird Hall. The incident took place on High Street at about 18:00. The man's injuries are believed not to be life-threatening. The driver of the taxi is thought to</td>\n",
              "      <td>A man in his 20s has been seriously injured after he was hit by a TAXI in central London. He is thought to have been walking with a group of people from a graduation ceremony at the CAIRD HALL.</td>\n",
              "      <td>0.391304</td>\n",
              "      <td>False</td>\n",
              "    </tr>\n",
              "    <tr>\n",
              "      <th>6</th>\n",
              "      <td>robustness</td>\n",
              "      <td>uppercase</td>\n",
              "      <td>Barca will be investigated for alleged misappropriation of funds in the £48.6m (57m euros) deal with Santos.\\nThe signing of Neymar has been correct and his signing has caused despair and envy in some of our adversaries\\nRosell, speaking at a news conference after a Barca board meeting, insisted he had \"acted correctly\".\\nVice-president Josep Maria Bartomeu now takes over from the 49-year-old Rosell, who came to power in 2010.\\nRosell's future has been a real source of concern ever since a Spanish national court judge accepted a lawsuit this week from Barcelona club member Jordi Cases, who alleged that the amount paid for Neymar was more than the reported fee.\\nRosell maintains the accusation is \"unfair and reckless\".\\nHe added: \"For some time, my family and myself have suffered threats and attacks in silence. These threats and attacks have made me wonder if being president means having to jeopardise my family.\\n\"From the beginning, I have said the signing of Neymar has been correct and his signing has caused despair and envy in some of our adversaries.\"\\nRosell said he was resigning to spare the club's board of directors from \"unfair attacks\" that could \"negatively affect their management or the image of the club\".\\nHe added: \"It has been an honour to serve the Barcelonistas. It's been a privilege to be the president of FC Barcelona.\"\\nRosell was named Barca president in the summer of 2010 after winning a landslide vote to succeed Joan Laporta, earning 61.34% of a record turn-out of 57,088 voters.\\nHe had also been vice-president under Laporta before resigning in 2005.</td>\n",
              "      <td>BARCA WILL BE INVESTIGATED FOR ALLEGED MISAPPROPRIATION OF FUNDS IN THE £48.6M (57M EUROS) DEAL WITH SANTOS.\\nTHE SIGNING OF NEYMAR HAS BEEN CORRECT AND HIS SIGNING HAS CAUSED DESPAIR AND ENVY IN SOME OF OUR ADVERSARIES\\nROSELL, SPEAKING AT A NEWS CONFERENCE AFTER A BARCA BOARD MEETING, INSISTED HE HAD \"ACTED CORRECTLY\".\\nVICE-PRESIDENT JOSEP MARIA BARTOMEU NOW TAKES OVER FROM THE 49-YEAR-OLD ROSELL, WHO CAME TO POWER IN 2010.\\nROSELL'S FUTURE HAS BEEN A REAL SOURCE OF CONCERN EVER SINCE A SPANISH NATIONAL COURT JUDGE ACCEPTED A LAWSUIT THIS WEEK FROM BARCELONA CLUB MEMBER JORDI CASES, WHO ALLEGED THAT THE AMOUNT PAID FOR NEYMAR WAS MORE THAN THE REPORTED FEE.\\nROSELL MAINTAINS THE ACCUSATION IS \"UNFAIR AND RECKLESS\".\\nHE ADDED: \"FOR SOME TIME, MY FAMILY AND MYSELF HAVE SUFFERED THREATS AND ATTACKS IN SILENCE. THESE THREATS AND ATTACKS HAVE MADE ME WONDER IF BEING PRESIDENT MEANS HAVING TO JEOPARDISE MY FAMILY.\\n\"FROM THE BEGINNING, I HAVE SAID THE SIGNING OF NEYMAR HAS BEEN CORRECT AND HIS SIGNING HAS CAUSED DESPAIR AND ENVY IN SOME OF OUR ADVERSARIES.\"\\nROSELL SAID HE WAS RESIGNING TO SPARE THE CLUB'S BOARD OF DIRECTORS FROM \"UNFAIR ATTACKS\" THAT COULD \"NEGATIVELY AFFECT THEIR MANAGEMENT OR THE IMAGE OF THE CLUB\".\\nHE ADDED: \"IT HAS BEEN AN HONOUR TO SERVE THE BARCELONISTAS. IT'S BEEN A PRIVILEGE TO BE THE PRESIDENT OF FC BARCELONA.\"\\nROSELL WAS NAMED BARCA PRESIDENT IN THE SUMMER OF 2010 AFTER WINNING A LANDSLIDE VOTE TO SUCCEED JOAN LAPORTA, EARNING 61.34% OF A RECORD TURN-OUT OF 57,088 VOTERS.\\nHE HAD ALSO BEEN VICE-PRESIDENT UNDER LAPORTA BEFORE RESIGNING IN 2005.</td>\n",
              "      <td>Barcelona's president, Sandro Rosell, has resigned from his post following the alleged misappropriation of funds in the £48.6m (57m euros) deal for Neymar.</td>\n",
              "      <td>Barcelona will be INVESTIGATED FOR ALLEGED MISAPPROPRIATION OF FUNDS IN THE £48.6M (57M EUROS) DEAL WITH SANTOS.</td>\n",
              "      <td>0.487805</td>\n",
              "      <td>False</td>\n",
              "    </tr>\n",
              "    <tr>\n",
              "      <th>7</th>\n",
              "      <td>robustness</td>\n",
              "      <td>uppercase</td>\n",
              "      <td>The think tank said the city's 1,536 schools needed to save £360m in the first year if the government's National Funding Formula (NFF) plan goes ahead.\\nThe amount is the equivalent of 12,857 qualified teachers, on an average salary of £28,000.\\nThe government said London was the highest funded part of the country.\\nIt added that under the plans, which are under consultation, inner-city schools would be allocated 30% more money per pupil than the national average.\\nBut London Councils, which represents the city's 32 boroughs and the City, said no school would gain enough funding from the NFF to compensate for increased cost pressures from inflation, higher pension contributions and national insurance.\\nMinisters said the new formula was needed to tackle uneven levels of funding across England, with the best funded areas getting more than £6,300 per pupil per year, while the worst-funded averaging £4,200.\\nIt said the funding cut was on top of National Audit Office figures which showed England schools faced an eight per cent real-terms cut per pupil by 2019-20 because it  wider cost pressures.\\nIn a statement, London Councils said: \"At a time when UK schools are seen as underperforming by international standards, and when businesses based in London are facing massive uncertainty about recruiting skilled staff, there is an urgent need to invest in schools in London and across the rest of the country.\"\\nIt added: \"Without the right qualifications and skills, London's children will be unable to access jobs and contribute to the national economy. Over 60% of jobs in inner London require a degree and around 45% of jobs in the rest of the capital require a degree.\"</td>\n",
              "      <td>THE THINK TANK SAID THE CITY'S 1,536 SCHOOLS NEEDED TO SAVE £360M IN THE FIRST YEAR IF THE GOVERNMENT'S NATIONAL FUNDING FORMULA (NFF) PLAN GOES AHEAD.\\nTHE AMOUNT IS THE EQUIVALENT OF 12,857 QUALIFIED TEACHERS, ON AN AVERAGE SALARY OF £28,000.\\nTHE GOVERNMENT SAID LONDON WAS THE HIGHEST FUNDED PART OF THE COUNTRY.\\nIT ADDED THAT UNDER THE PLANS, WHICH ARE UNDER CONSULTATION, INNER-CITY SCHOOLS WOULD BE ALLOCATED 30% MORE MONEY PER PUPIL THAN THE NATIONAL AVERAGE.\\nBUT LONDON COUNCILS, WHICH REPRESENTS THE CITY'S 32 BOROUGHS AND THE CITY, SAID NO SCHOOL WOULD GAIN ENOUGH FUNDING FROM THE NFF TO COMPENSATE FOR INCREASED COST PRESSURES FROM INFLATION, HIGHER PENSION CONTRIBUTIONS AND NATIONAL INSURANCE.\\nMINISTERS SAID THE NEW FORMULA WAS NEEDED TO TACKLE UNEVEN LEVELS OF FUNDING ACROSS ENGLAND, WITH THE BEST FUNDED AREAS GETTING MORE THAN £6,300 PER PUPIL PER YEAR, WHILE THE WORST-FUNDED AVERAGING £4,200.\\nIT SAID THE FUNDING CUT WAS ON TOP OF NATIONAL AUDIT OFFICE FIGURES WHICH SHOWED ENGLAND SCHOOLS FACED AN EIGHT PER CENT REAL-TERMS CUT PER PUPIL BY 2019-20 BECAUSE IT  WIDER COST PRESSURES.\\nIN A STATEMENT, LONDON COUNCILS SAID: \"AT A TIME WHEN UK SCHOOLS ARE SEEN AS UNDERPERFORMING BY INTERNATIONAL STANDARDS, AND WHEN BUSINESSES BASED IN LONDON ARE FACING MASSIVE UNCERTAINTY ABOUT RECRUITING SKILLED STAFF, THERE IS AN URGENT NEED TO INVEST IN SCHOOLS IN LONDON AND ACROSS THE REST OF THE COUNTRY.\"\\nIT ADDED: \"WITHOUT THE RIGHT QUALIFICATIONS AND SKILLS, LONDON'S CHILDREN WILL BE UNABLE TO ACCESS JOBS AND CONTRIBUTE TO THE NATIONAL ECONOMY. OVER 60% OF JOBS IN INNER LONDON REQUIRE A DEGREE AND AROUND 45% OF JOBS IN THE REST OF THE CAPITAL REQUIRE A DEGREE.\"</td>\n",
              "      <td>The London Councils think tank said the city's 1,536 schools needed to save £360m in the first year if the government's National Funding Formula (NFF) plan goes ahead. The amount is the equivalent of 12,857 qualified teachers, on an average salary of £28,000. The government said</td>\n",
              "      <td>London's 1,536 schools need to save £360M in the first year if the government's national funding plan goes ahead, says think tank.</td>\n",
              "      <td>0.486486</td>\n",
              "      <td>False</td>\n",
              "    </tr>\n",
              "    <tr>\n",
              "      <th>8</th>\n",
              "      <td>robustness</td>\n",
              "      <td>lowercase</td>\n",
              "      <td>The ex-Reading defender denied fraudulent trading charges relating to the Sodje Sports Foundation - a charity to raise money for Nigerian sport.\\nMr Sodje, 37, is jointly charged with elder brothers Efe, 44, Bright, 50 and Stephen, 42.\\nAppearing at the Old Bailey earlier, all four denied the offence.\\nThe charge relates to offences which allegedly took place between 2008 and 2014.\\nSam, from Kent, Efe and Bright, of Greater Manchester, and Stephen, from Bexley, are due to stand trial in July.\\nThey were all released on bail.</td>\n",
              "      <td>the ex-reading defender denied fraudulent trading charges relating to the sodje sports foundation - a charity to raise money for nigerian sport.\\nmr sodje, 37, is jointly charged with elder brothers efe, 44, bright, 50 and stephen, 42.\\nappearing at the old bailey earlier, all four denied the offence.\\nthe charge relates to offences which allegedly took place between 2008 and 2014.\\nsam, from kent, efe and bright, of greater manchester, and stephen, from bexley, are due to stand trial in july.\\nthey were all released on bail.</td>\n",
              "      <td>The ex-Reading defender denied fraudulent trading charges relating to the Sodje Sports Foundation - a charity to raise money for Nigerian sport. Mr Sodje, 37, is jointly charged with elder brothers Efe, 44, Bright, 50 and Stephen, 42. Appearing at the Old Bailey earlier, all</td>\n",
              "      <td>Ex-Reading defender Samuel Eto'o has denied fraudulent trading charges relating to the sodje sports foundation - a charity to raise money for Nigerian sport.</td>\n",
              "      <td>0.558824</td>\n",
              "      <td>True</td>\n",
              "    </tr>\n",
              "    <tr>\n",
              "      <th>9</th>\n",
              "      <td>robustness</td>\n",
              "      <td>lowercase</td>\n",
              "      <td>Voges was forced to retire hurt on 86 after suffering the injury while batting during the County Championship draw with Somerset on 4 June.\\nMiddlesex hope to have the Australian back for their T20 Blast game against Hampshire at Lord's on 3 August.\\nThe 37-year-old has scored 230 runs in four first-class games this season at an average of 57.50.\\n\"Losing Adam is naturally a blow as he contributes significantly to everything we do,\" director of cricket Angus Fraser said.\\n\"His absence, however, does give opportunities to other players who are desperate to play in the first XI.\\n\"In the past we have coped well without an overseas player and I expect us to do so now.\"\\nDefending county champions Middlesex are sixth in the Division One table, having drawn all four of their matches this season.\\nVoges retired from international cricket in February with a Test batting average of 61.87 from 31 innings, second only to Australian great Sir Donald Bradman's career average of 99.94 from 52 Tests.</td>\n",
              "      <td>voges was forced to retire hurt on 86 after suffering the injury while batting during the county championship draw with somerset on 4 june.\\nmiddlesex hope to have the australian back for their t20 blast game against hampshire at lord's on 3 august.\\nthe 37-year-old has scored 230 runs in four first-class games this season at an average of 57.50.\\n\"losing adam is naturally a blow as he contributes significantly to everything we do,\" director of cricket angus fraser said.\\n\"his absence, however, does give opportunities to other players who are desperate to play in the first xi.\\n\"in the past we have coped well without an overseas player and i expect us to do so now.\"\\ndefending county champions middlesex are sixth in the division one table, having drawn all four of their matches this season.\\nvoges retired from international cricket in february with a test batting average of 61.87 from 31 innings, second only to australian great sir donald bradman's career average of 99.94 from 52 tests.</td>\n",
              "      <td>Former Australia batsman Adam Voges has been ruled out of Middlesex's first-class season because of a stress fracture in his lower back, the county have announced.</td>\n",
              "      <td>Former Australia batsman Adam Voges has been ruled out of Middlesex's first-class season after injuring his hamstring during the county championship draw with Somerset on June 4.</td>\n",
              "      <td>0.545455</td>\n",
              "      <td>True</td>\n",
              "    </tr>\n",
              "    <tr>\n",
              "      <th>10</th>\n",
              "      <td>robustness</td>\n",
              "      <td>lowercase</td>\n",
              "      <td>Seven photographs taken in the Norfolk countryside by photographer Josh Olins will appear in the June edition.\\nIn her first sitting for a magazine, the duchess is seen looking relaxed and wearing casual clothes.\\nThe shoot was in collaboration with the National Portrait Gallery, where two images are being displayed in the Vogue 100: A Century of Style exhibition.\\nThe duchess, who has a keen interest in photography, has been patron of the National Portrait Gallery since 2012.\\nNicholas Cullinan, director of the National Portrait Gallery, said: \"Josh has captured the duchess exactly as she is - full of life, with a great sense of humour, thoughtful and intelligent, and in fact, very beautiful.\"\\nHe said the images also encapsulated what Vogue had done over the past 100 years - \"to pair the best photographers with the great personalities of the day, in order to reflect broader shifts in culture and society\".\\nAlexandra Shulman, editor-in-chief of British Vogue, said: \"To be able to publish a photographic shoot with the Duchess of Cambridge has been one of my greatest ambitions for the magazine.\"\\nThe collaboration for the June edition had resulted in \"a true celebration of our centenary as well as a fitting tribute to a young woman whose interest in both photography and the countryside is well known\", she said.\\nOther royal portraits to have featured in the fashion magazine include Diana, Princess of Wales - who graced the cover four times - and Princess Anne.\\nThe duchess is to visit the exhibition at the National Portrait Gallery on Wednesday, Kensington Palace said.</td>\n",
              "      <td>seven photographs taken in the norfolk countryside by photographer josh olins will appear in the june edition.\\nin her first sitting for a magazine, the duchess is seen looking relaxed and wearing casual clothes.\\nthe shoot was in collaboration with the national portrait gallery, where two images are being displayed in the vogue 100: a century of style exhibition.\\nthe duchess, who has a keen interest in photography, has been patron of the national portrait gallery since 2012.\\nnicholas cullinan, director of the national portrait gallery, said: \"josh has captured the duchess exactly as she is - full of life, with a great sense of humour, thoughtful and intelligent, and in fact, very beautiful.\"\\nhe said the images also encapsulated what vogue had done over the past 100 years - \"to pair the best photographers with the great personalities of the day, in order to reflect broader shifts in culture and society\".\\nalexandra shulman, editor-in-chief of british vogue, said: \"to be able to publish a photographic shoot with the duchess of cambridge has been one of my greatest ambitions for the magazine.\"\\nthe collaboration for the june edition had resulted in \"a true celebration of our centenary as well as a fitting tribute to a young woman whose interest in both photography and the countryside is well known\", she said.\\nother royal portraits to have featured in the fashion magazine include diana, princess of wales - who graced the cover four times - and princess anne.\\nthe duchess is to visit the exhibition at the national portrait gallery on wednesday, kensington palace said.</td>\n",
              "      <td>Seven photographs taken in the Norfolk countryside by photographer Josh Olins will appear in the June edition of British Vogue. In her first sitting for a magazine, the duchess is seen looking relaxed and wearing casual clothes. The shoot was in collaboration with the National Portrait Gallery, where two images are being displayed in the Vogue 100</td>\n",
              "      <td>Seven photographs taken in the norfolk countryside by photographer josholins will appear in the june edition of British Vogue. in her first sitting for a magazine, the duchess is seen looking relaxed and wearing casual clothes. the shoot was in collaboration with the national portrait gallery, where two images are being displayed in the vogue</td>\n",
              "      <td>0.945455</td>\n",
              "      <td>True</td>\n",
              "    </tr>\n",
              "    <tr>\n",
              "      <th>11</th>\n",
              "      <td>robustness</td>\n",
              "      <td>lowercase</td>\n",
              "      <td>Chris Poole - known as \"moot\" online - created the site in 2003.\\nIt has gone on to be closely associated with offensive and often illegal activity, including instances where the images of child abuse were shared.\\nIt was widely credited as being the first place where leaked images of nude celebrities were posted following 2014's well-publicised security breach affecting Apple's iCloud service. That incident prompted a policy change on the site.\\nHowever, 4chan has also been the rallying point for many instances of online activism from the likes of Anonymous, the loosely organized hacktivism group.\\nMr Poole shared news of his new position on blogging site Tumblr.\\n\"When meeting with current and former Googlers, I continually find myself drawn to their intelligence, passion, and enthusiasm - as well as a universal desire to share it with others.\"\\n\"I'm also impressed by Google's commitment to enabling these same talented people to tackle some of the world's most interesting and important problems.\\nHe added: \"I can't wait to contribute my own experience from a dozen years of building online communities, and to begin the next chapter of my career at such an incredible company.\"\\nMr Poole stepped down as the administrator of 4chan in January 2015. Now he is expected to turn his attentions to Google's social networking efforts.\\nHis arrival was welcomed by Bradley Horowitz, the head of \"streams, photos and sharing\" at the search giant's floundering social network, Google+.\\n\"I'm thrilled he's joining our team here at Google,\" Mr Horowitz said.\\n\"Welcome Chris!ï»¿\"\\nSeveral commentators described the appointment as \"unexpected\" but noted that Mr Poole's expertise with social media could prove useful to the search firm.\\nFollow Dave Lee on Twitter @DaveLeeBBC and on Facebook</td>\n",
              "      <td>chris poole - known as \"moot\" online - created the site in 2003.\\nit has gone on to be closely associated with offensive and often illegal activity, including instances where the images of child abuse were shared.\\nit was widely credited as being the first place where leaked images of nude celebrities were posted following 2014's well-publicised security breach affecting apple's icloud service. that incident prompted a policy change on the site.\\nhowever, 4chan has also been the rallying point for many instances of online activism from the likes of anonymous, the loosely organized hacktivism group.\\nmr poole shared news of his new position on blogging site tumblr.\\n\"when meeting with current and former googlers, i continually find myself drawn to their intelligence, passion, and enthusiasm - as well as a universal desire to share it with others.\"\\n\"i'm also impressed by google's commitment to enabling these same talented people to tackle some of the world's most interesting and important problems.\\nhe added: \"i can't wait to contribute my own experience from a dozen years of building online communities, and to begin the next chapter of my career at such an incredible company.\"\\nmr poole stepped down as the administrator of 4chan in january 2015. now he is expected to turn his attentions to google's social networking efforts.\\nhis arrival was welcomed by bradley horowitz, the head of \"streams, photos and sharing\" at the search giant's floundering social network, google+.\\n\"i'm thrilled he's joining our team here at google,\" mr horowitz said.\\n\"welcome chris!ï»¿\"\\nseveral commentators described the appointment as \"unexpected\" but noted that mr poole's expertise with social media could prove useful to the search firm.\\nfollow dave lee on twitter @daveleebbc and on facebook</td>\n",
              "      <td>The man who created the notorious online forum 4chan has been appointed head of Google's social network, Google+, the search giant has announced. The BBC's Dave Lee reports.</td>\n",
              "      <td>Google has appointed the former administrator of 4chan, one of the world's most notorious online forums, to its social media team. Dave Lee reports.</td>\n",
              "      <td>0.113208</td>\n",
              "      <td>False</td>\n",
              "    </tr>\n",
              "    <tr>\n",
              "      <th>12</th>\n",
              "      <td>robustness</td>\n",
              "      <td>lowercase</td>\n",
              "      <td>Four police officers were injured in the incident on Friday night.\\nA man, aged 19, and a boy, aged 16, have been charged with six counts of aggravated vehicle taking.\\nThey are due to appear before Belfast Magistrates' Court on Monday.\\nThe 19-year-old man has also been charged with driving while disqualified and using a motor vehicle without insurance.</td>\n",
              "      <td>four police officers were injured in the incident on friday night.\\na man, aged 19, and a boy, aged 16, have been charged with six counts of aggravated vehicle taking.\\nthey are due to appear before belfast magistrates' court on monday.\\nthe 19-year-old man has also been charged with driving while disqualified and using a motor vehicle without insurance.</td>\n",
              "      <td>Four police officers were injured in the incident on Friday night. A man, aged 19, and a boy, aged 16, have been charged with six counts of aggravated vehicle taking. They are due to appear before Belfast Magistrates' Court on Monday.</td>\n",
              "      <td>Four police officers were injured in the incident on Friday night. a man, aged 19, and a boy, aged 16, have been charged with six counts of aggravated vehicle taking. they are due to appear before Belfast magistrates' court on Monday.</td>\n",
              "      <td>1.000000</td>\n",
              "      <td>True</td>\n",
              "    </tr>\n",
              "    <tr>\n",
              "      <th>13</th>\n",
              "      <td>robustness</td>\n",
              "      <td>lowercase</td>\n",
              "      <td>The injured pedestrian - a young man - is thought to have been walking with a group of people from a graduation ceremony at the Caird Hall.\\nThe incident took place on High Street at about 18:00.\\nThe man's injuries are believed not to be life-threatening. The driver of the taxi is thought to be uninjured.</td>\n",
              "      <td>the injured pedestrian - a young man - is thought to have been walking with a group of people from a graduation ceremony at the caird hall.\\nthe incident took place on high street at about 18:00.\\nthe man's injuries are believed not to be life-threatening. the driver of the taxi is thought to be uninjured.</td>\n",
              "      <td>The injured pedestrian - a young man - is thought to have been walking with a group of people from a graduation ceremony at the Caird Hall. The incident took place on High Street at about 18:00. The man's injuries are believed not to be life-threatening. The driver of the taxi is thought to</td>\n",
              "      <td>A pedestrian is injured after being hit by a taxi in central London. The incident took place on high street at about 18:00. the man's injuries are believed not to be life-threatening. the driver of the taxi is thought to be uninjured.</td>\n",
              "      <td>0.591837</td>\n",
              "      <td>True</td>\n",
              "    </tr>\n",
              "    <tr>\n",
              "      <th>14</th>\n",
              "      <td>robustness</td>\n",
              "      <td>lowercase</td>\n",
              "      <td>Barca will be investigated for alleged misappropriation of funds in the £48.6m (57m euros) deal with Santos.\\nThe signing of Neymar has been correct and his signing has caused despair and envy in some of our adversaries\\nRosell, speaking at a news conference after a Barca board meeting, insisted he had \"acted correctly\".\\nVice-president Josep Maria Bartomeu now takes over from the 49-year-old Rosell, who came to power in 2010.\\nRosell's future has been a real source of concern ever since a Spanish national court judge accepted a lawsuit this week from Barcelona club member Jordi Cases, who alleged that the amount paid for Neymar was more than the reported fee.\\nRosell maintains the accusation is \"unfair and reckless\".\\nHe added: \"For some time, my family and myself have suffered threats and attacks in silence. These threats and attacks have made me wonder if being president means having to jeopardise my family.\\n\"From the beginning, I have said the signing of Neymar has been correct and his signing has caused despair and envy in some of our adversaries.\"\\nRosell said he was resigning to spare the club's board of directors from \"unfair attacks\" that could \"negatively affect their management or the image of the club\".\\nHe added: \"It has been an honour to serve the Barcelonistas. It's been a privilege to be the president of FC Barcelona.\"\\nRosell was named Barca president in the summer of 2010 after winning a landslide vote to succeed Joan Laporta, earning 61.34% of a record turn-out of 57,088 voters.\\nHe had also been vice-president under Laporta before resigning in 2005.</td>\n",
              "      <td>barca will be investigated for alleged misappropriation of funds in the £48.6m (57m euros) deal with santos.\\nthe signing of neymar has been correct and his signing has caused despair and envy in some of our adversaries\\nrosell, speaking at a news conference after a barca board meeting, insisted he had \"acted correctly\".\\nvice-president josep maria bartomeu now takes over from the 49-year-old rosell, who came to power in 2010.\\nrosell's future has been a real source of concern ever since a spanish national court judge accepted a lawsuit this week from barcelona club member jordi cases, who alleged that the amount paid for neymar was more than the reported fee.\\nrosell maintains the accusation is \"unfair and reckless\".\\nhe added: \"for some time, my family and myself have suffered threats and attacks in silence. these threats and attacks have made me wonder if being president means having to jeopardise my family.\\n\"from the beginning, i have said the signing of neymar has been correct and his signing has caused despair and envy in some of our adversaries.\"\\nrosell said he was resigning to spare the club's board of directors from \"unfair attacks\" that could \"negatively affect their management or the image of the club\".\\nhe added: \"it has been an honour to serve the barcelonistas. it's been a privilege to be the president of fc barcelona.\"\\nrosell was named barca president in the summer of 2010 after winning a landslide vote to succeed joan laporta, earning 61.34% of a record turn-out of 57,088 voters.\\nhe had also been vice-president under laporta before resigning in 2005.</td>\n",
              "      <td>Barcelona's president, Sandro Rosell, has resigned from his post following the alleged misappropriation of funds in the £48.6m (57m euros) deal for Neymar.</td>\n",
              "      <td>Barcelona will be investigated for alleged misappropriation of funds in the £48.6m (57m euros) deal with santos, the club has announced.</td>\n",
              "      <td>0.444444</td>\n",
              "      <td>False</td>\n",
              "    </tr>\n",
              "    <tr>\n",
              "      <th>15</th>\n",
              "      <td>robustness</td>\n",
              "      <td>lowercase</td>\n",
              "      <td>The think tank said the city's 1,536 schools needed to save £360m in the first year if the government's National Funding Formula (NFF) plan goes ahead.\\nThe amount is the equivalent of 12,857 qualified teachers, on an average salary of £28,000.\\nThe government said London was the highest funded part of the country.\\nIt added that under the plans, which are under consultation, inner-city schools would be allocated 30% more money per pupil than the national average.\\nBut London Councils, which represents the city's 32 boroughs and the City, said no school would gain enough funding from the NFF to compensate for increased cost pressures from inflation, higher pension contributions and national insurance.\\nMinisters said the new formula was needed to tackle uneven levels of funding across England, with the best funded areas getting more than £6,300 per pupil per year, while the worst-funded averaging £4,200.\\nIt said the funding cut was on top of National Audit Office figures which showed England schools faced an eight per cent real-terms cut per pupil by 2019-20 because it  wider cost pressures.\\nIn a statement, London Councils said: \"At a time when UK schools are seen as underperforming by international standards, and when businesses based in London are facing massive uncertainty about recruiting skilled staff, there is an urgent need to invest in schools in London and across the rest of the country.\"\\nIt added: \"Without the right qualifications and skills, London's children will be unable to access jobs and contribute to the national economy. Over 60% of jobs in inner London require a degree and around 45% of jobs in the rest of the capital require a degree.\"</td>\n",
              "      <td>the think tank said the city's 1,536 schools needed to save £360m in the first year if the government's national funding formula (nff) plan goes ahead.\\nthe amount is the equivalent of 12,857 qualified teachers, on an average salary of £28,000.\\nthe government said london was the highest funded part of the country.\\nit added that under the plans, which are under consultation, inner-city schools would be allocated 30% more money per pupil than the national average.\\nbut london councils, which represents the city's 32 boroughs and the city, said no school would gain enough funding from the nff to compensate for increased cost pressures from inflation, higher pension contributions and national insurance.\\nministers said the new formula was needed to tackle uneven levels of funding across england, with the best funded areas getting more than £6,300 per pupil per year, while the worst-funded averaging £4,200.\\nit said the funding cut was on top of national audit office figures which showed england schools faced an eight per cent real-terms cut per pupil by 2019-20 because it  wider cost pressures.\\nin a statement, london councils said: \"at a time when uk schools are seen as underperforming by international standards, and when businesses based in london are facing massive uncertainty about recruiting skilled staff, there is an urgent need to invest in schools in london and across the rest of the country.\"\\nit added: \"without the right qualifications and skills, london's children will be unable to access jobs and contribute to the national economy. over 60% of jobs in inner london require a degree and around 45% of jobs in the rest of the capital require a degree.\"</td>\n",
              "      <td>The London Councils think tank said the city's 1,536 schools needed to save £360m in the first year if the government's National Funding Formula (NFF) plan goes ahead. The amount is the equivalent of 12,857 qualified teachers, on an average salary of £28,000. The government said</td>\n",
              "      <td>London's 1,536 schools need to save £360m in the first year if the government's national funding formula (nff) plan goes ahead</td>\n",
              "      <td>0.547945</td>\n",
              "      <td>True</td>\n",
              "    </tr>\n",
              "  </tbody>\n",
              "</table>\n",
              "</div>"
            ],
            "text/plain": [
              "      category  test_type  \\\n",
              "0   robustness  uppercase   \n",
              "1   robustness  uppercase   \n",
              "2   robustness  uppercase   \n",
              "3   robustness  uppercase   \n",
              "4   robustness  uppercase   \n",
              "5   robustness  uppercase   \n",
              "6   robustness  uppercase   \n",
              "7   robustness  uppercase   \n",
              "8   robustness  lowercase   \n",
              "9   robustness  lowercase   \n",
              "10  robustness  lowercase   \n",
              "11  robustness  lowercase   \n",
              "12  robustness  lowercase   \n",
              "13  robustness  lowercase   \n",
              "14  robustness  lowercase   \n",
              "15  robustness  lowercase   \n",
              "\n",
              "                                                                                                                                                                                                                                                                                                                                                                                                                                                                                                                                                                                                                                                                                                                                                                                                                                                                                                                                                                                                                                                                                                                                                                                                                                                                                                                                                                                                                                                                                                                                                                                                                                                                                                                                                                                                                                                                    original  \\\n",
              "0                                                                                                                                                                                                                                                                                                                                                                                                                                                                                                                                                                                                                                                                                                                                                                                                                                                                                                                                                                                                                                                                                                                                                                                                                                                                                                                        The ex-Reading defender denied fraudulent trading charges relating to the Sodje Sports Foundation - a charity to raise money for Nigerian sport.\\nMr Sodje, 37, is jointly charged with elder brothers Efe, 44, Bright, 50 and Stephen, 42.\\nAppearing at the Old Bailey earlier, all four denied the offence.\\nThe charge relates to offences which allegedly took place between 2008 and 2014.\\nSam, from Kent, Efe and Bright, of Greater Manchester, and Stephen, from Bexley, are due to stand trial in July.\\nThey were all released on bail.   \n",
              "1                                                                                                                                                                                                                                                                                                                                                                                                                                                                                                                                                                                                                                                                                                                                                                                                                                  Voges was forced to retire hurt on 86 after suffering the injury while batting during the County Championship draw with Somerset on 4 June.\\nMiddlesex hope to have the Australian back for their T20 Blast game against Hampshire at Lord's on 3 August.\\nThe 37-year-old has scored 230 runs in four first-class games this season at an average of 57.50.\\n\"Losing Adam is naturally a blow as he contributes significantly to everything we do,\" director of cricket Angus Fraser said.\\n\"His absence, however, does give opportunities to other players who are desperate to play in the first XI.\\n\"In the past we have coped well without an overseas player and I expect us to do so now.\"\\nDefending county champions Middlesex are sixth in the Division One table, having drawn all four of their matches this season.\\nVoges retired from international cricket in February with a Test batting average of 61.87 from 31 innings, second only to Australian great Sir Donald Bradman's career average of 99.94 from 52 Tests.   \n",
              "2                                                                                                                                                                                                                 Seven photographs taken in the Norfolk countryside by photographer Josh Olins will appear in the June edition.\\nIn her first sitting for a magazine, the duchess is seen looking relaxed and wearing casual clothes.\\nThe shoot was in collaboration with the National Portrait Gallery, where two images are being displayed in the Vogue 100: A Century of Style exhibition.\\nThe duchess, who has a keen interest in photography, has been patron of the National Portrait Gallery since 2012.\\nNicholas Cullinan, director of the National Portrait Gallery, said: \"Josh has captured the duchess exactly as she is - full of life, with a great sense of humour, thoughtful and intelligent, and in fact, very beautiful.\"\\nHe said the images also encapsulated what Vogue had done over the past 100 years - \"to pair the best photographers with the great personalities of the day, in order to reflect broader shifts in culture and society\".\\nAlexandra Shulman, editor-in-chief of British Vogue, said: \"To be able to publish a photographic shoot with the Duchess of Cambridge has been one of my greatest ambitions for the magazine.\"\\nThe collaboration for the June edition had resulted in \"a true celebration of our centenary as well as a fitting tribute to a young woman whose interest in both photography and the countryside is well known\", she said.\\nOther royal portraits to have featured in the fashion magazine include Diana, Princess of Wales - who graced the cover four times - and Princess Anne.\\nThe duchess is to visit the exhibition at the National Portrait Gallery on Wednesday, Kensington Palace said.   \n",
              "3   Chris Poole - known as \"moot\" online - created the site in 2003.\\nIt has gone on to be closely associated with offensive and often illegal activity, including instances where the images of child abuse were shared.\\nIt was widely credited as being the first place where leaked images of nude celebrities were posted following 2014's well-publicised security breach affecting Apple's iCloud service. That incident prompted a policy change on the site.\\nHowever, 4chan has also been the rallying point for many instances of online activism from the likes of Anonymous, the loosely organized hacktivism group.\\nMr Poole shared news of his new position on blogging site Tumblr.\\n\"When meeting with current and former Googlers, I continually find myself drawn to their intelligence, passion, and enthusiasm - as well as a universal desire to share it with others.\"\\n\"I'm also impressed by Google's commitment to enabling these same talented people to tackle some of the world's most interesting and important problems.\\nHe added: \"I can't wait to contribute my own experience from a dozen years of building online communities, and to begin the next chapter of my career at such an incredible company.\"\\nMr Poole stepped down as the administrator of 4chan in January 2015. Now he is expected to turn his attentions to Google's social networking efforts.\\nHis arrival was welcomed by Bradley Horowitz, the head of \"streams, photos and sharing\" at the search giant's floundering social network, Google+.\\n\"I'm thrilled he's joining our team here at Google,\" Mr Horowitz said.\\n\"Welcome Chris!ï»¿\"\\nSeveral commentators described the appointment as \"unexpected\" but noted that Mr Poole's expertise with social media could prove useful to the search firm.\\nFollow Dave Lee on Twitter @DaveLeeBBC and on Facebook   \n",
              "4                                                                                                                                                                                                                                                                                                                                                                                                                                                                                                                                                                                                                                                                                                                                                                                                                                                                                                                                                                                                                                                                                                                                                                                                                                                                                                                                                                                                                                                                                                       Four police officers were injured in the incident on Friday night.\\nA man, aged 19, and a boy, aged 16, have been charged with six counts of aggravated vehicle taking.\\nThey are due to appear before Belfast Magistrates' Court on Monday.\\nThe 19-year-old man has also been charged with driving while disqualified and using a motor vehicle without insurance.   \n",
              "5                                                                                                                                                                                                                                                                                                                                                                                                                                                                                                                                                                                                                                                                                                                                                                                                                                                                                                                                                                                                                                                                                                                                                                                                                                                                                                                                                                                                                                                                                                                                                        The injured pedestrian - a young man - is thought to have been walking with a group of people from a graduation ceremony at the Caird Hall.\\nThe incident took place on High Street at about 18:00.\\nThe man's injuries are believed not to be life-threatening. The driver of the taxi is thought to be uninjured.   \n",
              "6                                                                                                                                                                                                               Barca will be investigated for alleged misappropriation of funds in the £48.6m (57m euros) deal with Santos.\\nThe signing of Neymar has been correct and his signing has caused despair and envy in some of our adversaries\\nRosell, speaking at a news conference after a Barca board meeting, insisted he had \"acted correctly\".\\nVice-president Josep Maria Bartomeu now takes over from the 49-year-old Rosell, who came to power in 2010.\\nRosell's future has been a real source of concern ever since a Spanish national court judge accepted a lawsuit this week from Barcelona club member Jordi Cases, who alleged that the amount paid for Neymar was more than the reported fee.\\nRosell maintains the accusation is \"unfair and reckless\".\\nHe added: \"For some time, my family and myself have suffered threats and attacks in silence. These threats and attacks have made me wonder if being president means having to jeopardise my family.\\n\"From the beginning, I have said the signing of Neymar has been correct and his signing has caused despair and envy in some of our adversaries.\"\\nRosell said he was resigning to spare the club's board of directors from \"unfair attacks\" that could \"negatively affect their management or the image of the club\".\\nHe added: \"It has been an honour to serve the Barcelonistas. It's been a privilege to be the president of FC Barcelona.\"\\nRosell was named Barca president in the summer of 2010 after winning a landslide vote to succeed Joan Laporta, earning 61.34% of a record turn-out of 57,088 voters.\\nHe had also been vice-president under Laporta before resigning in 2005.   \n",
              "7                                                                                                                     The think tank said the city's 1,536 schools needed to save £360m in the first year if the government's National Funding Formula (NFF) plan goes ahead.\\nThe amount is the equivalent of 12,857 qualified teachers, on an average salary of £28,000.\\nThe government said London was the highest funded part of the country.\\nIt added that under the plans, which are under consultation, inner-city schools would be allocated 30% more money per pupil than the national average.\\nBut London Councils, which represents the city's 32 boroughs and the City, said no school would gain enough funding from the NFF to compensate for increased cost pressures from inflation, higher pension contributions and national insurance.\\nMinisters said the new formula was needed to tackle uneven levels of funding across England, with the best funded areas getting more than £6,300 per pupil per year, while the worst-funded averaging £4,200.\\nIt said the funding cut was on top of National Audit Office figures which showed England schools faced an eight per cent real-terms cut per pupil by 2019-20 because it  wider cost pressures.\\nIn a statement, London Councils said: \"At a time when UK schools are seen as underperforming by international standards, and when businesses based in London are facing massive uncertainty about recruiting skilled staff, there is an urgent need to invest in schools in London and across the rest of the country.\"\\nIt added: \"Without the right qualifications and skills, London's children will be unable to access jobs and contribute to the national economy. Over 60% of jobs in inner London require a degree and around 45% of jobs in the rest of the capital require a degree.\"   \n",
              "8                                                                                                                                                                                                                                                                                                                                                                                                                                                                                                                                                                                                                                                                                                                                                                                                                                                                                                                                                                                                                                                                                                                                                                                                                                                                                                                        The ex-Reading defender denied fraudulent trading charges relating to the Sodje Sports Foundation - a charity to raise money for Nigerian sport.\\nMr Sodje, 37, is jointly charged with elder brothers Efe, 44, Bright, 50 and Stephen, 42.\\nAppearing at the Old Bailey earlier, all four denied the offence.\\nThe charge relates to offences which allegedly took place between 2008 and 2014.\\nSam, from Kent, Efe and Bright, of Greater Manchester, and Stephen, from Bexley, are due to stand trial in July.\\nThey were all released on bail.   \n",
              "9                                                                                                                                                                                                                                                                                                                                                                                                                                                                                                                                                                                                                                                                                                                                                                                                                                  Voges was forced to retire hurt on 86 after suffering the injury while batting during the County Championship draw with Somerset on 4 June.\\nMiddlesex hope to have the Australian back for their T20 Blast game against Hampshire at Lord's on 3 August.\\nThe 37-year-old has scored 230 runs in four first-class games this season at an average of 57.50.\\n\"Losing Adam is naturally a blow as he contributes significantly to everything we do,\" director of cricket Angus Fraser said.\\n\"His absence, however, does give opportunities to other players who are desperate to play in the first XI.\\n\"In the past we have coped well without an overseas player and I expect us to do so now.\"\\nDefending county champions Middlesex are sixth in the Division One table, having drawn all four of their matches this season.\\nVoges retired from international cricket in February with a Test batting average of 61.87 from 31 innings, second only to Australian great Sir Donald Bradman's career average of 99.94 from 52 Tests.   \n",
              "10                                                                                                                                                                                                                Seven photographs taken in the Norfolk countryside by photographer Josh Olins will appear in the June edition.\\nIn her first sitting for a magazine, the duchess is seen looking relaxed and wearing casual clothes.\\nThe shoot was in collaboration with the National Portrait Gallery, where two images are being displayed in the Vogue 100: A Century of Style exhibition.\\nThe duchess, who has a keen interest in photography, has been patron of the National Portrait Gallery since 2012.\\nNicholas Cullinan, director of the National Portrait Gallery, said: \"Josh has captured the duchess exactly as she is - full of life, with a great sense of humour, thoughtful and intelligent, and in fact, very beautiful.\"\\nHe said the images also encapsulated what Vogue had done over the past 100 years - \"to pair the best photographers with the great personalities of the day, in order to reflect broader shifts in culture and society\".\\nAlexandra Shulman, editor-in-chief of British Vogue, said: \"To be able to publish a photographic shoot with the Duchess of Cambridge has been one of my greatest ambitions for the magazine.\"\\nThe collaboration for the June edition had resulted in \"a true celebration of our centenary as well as a fitting tribute to a young woman whose interest in both photography and the countryside is well known\", she said.\\nOther royal portraits to have featured in the fashion magazine include Diana, Princess of Wales - who graced the cover four times - and Princess Anne.\\nThe duchess is to visit the exhibition at the National Portrait Gallery on Wednesday, Kensington Palace said.   \n",
              "11  Chris Poole - known as \"moot\" online - created the site in 2003.\\nIt has gone on to be closely associated with offensive and often illegal activity, including instances where the images of child abuse were shared.\\nIt was widely credited as being the first place where leaked images of nude celebrities were posted following 2014's well-publicised security breach affecting Apple's iCloud service. That incident prompted a policy change on the site.\\nHowever, 4chan has also been the rallying point for many instances of online activism from the likes of Anonymous, the loosely organized hacktivism group.\\nMr Poole shared news of his new position on blogging site Tumblr.\\n\"When meeting with current and former Googlers, I continually find myself drawn to their intelligence, passion, and enthusiasm - as well as a universal desire to share it with others.\"\\n\"I'm also impressed by Google's commitment to enabling these same talented people to tackle some of the world's most interesting and important problems.\\nHe added: \"I can't wait to contribute my own experience from a dozen years of building online communities, and to begin the next chapter of my career at such an incredible company.\"\\nMr Poole stepped down as the administrator of 4chan in January 2015. Now he is expected to turn his attentions to Google's social networking efforts.\\nHis arrival was welcomed by Bradley Horowitz, the head of \"streams, photos and sharing\" at the search giant's floundering social network, Google+.\\n\"I'm thrilled he's joining our team here at Google,\" Mr Horowitz said.\\n\"Welcome Chris!ï»¿\"\\nSeveral commentators described the appointment as \"unexpected\" but noted that Mr Poole's expertise with social media could prove useful to the search firm.\\nFollow Dave Lee on Twitter @DaveLeeBBC and on Facebook   \n",
              "12                                                                                                                                                                                                                                                                                                                                                                                                                                                                                                                                                                                                                                                                                                                                                                                                                                                                                                                                                                                                                                                                                                                                                                                                                                                                                                                                                                                                                                                                                                      Four police officers were injured in the incident on Friday night.\\nA man, aged 19, and a boy, aged 16, have been charged with six counts of aggravated vehicle taking.\\nThey are due to appear before Belfast Magistrates' Court on Monday.\\nThe 19-year-old man has also been charged with driving while disqualified and using a motor vehicle without insurance.   \n",
              "13                                                                                                                                                                                                                                                                                                                                                                                                                                                                                                                                                                                                                                                                                                                                                                                                                                                                                                                                                                                                                                                                                                                                                                                                                                                                                                                                                                                                                                                                                                                                                       The injured pedestrian - a young man - is thought to have been walking with a group of people from a graduation ceremony at the Caird Hall.\\nThe incident took place on High Street at about 18:00.\\nThe man's injuries are believed not to be life-threatening. The driver of the taxi is thought to be uninjured.   \n",
              "14                                                                                                                                                                                                              Barca will be investigated for alleged misappropriation of funds in the £48.6m (57m euros) deal with Santos.\\nThe signing of Neymar has been correct and his signing has caused despair and envy in some of our adversaries\\nRosell, speaking at a news conference after a Barca board meeting, insisted he had \"acted correctly\".\\nVice-president Josep Maria Bartomeu now takes over from the 49-year-old Rosell, who came to power in 2010.\\nRosell's future has been a real source of concern ever since a Spanish national court judge accepted a lawsuit this week from Barcelona club member Jordi Cases, who alleged that the amount paid for Neymar was more than the reported fee.\\nRosell maintains the accusation is \"unfair and reckless\".\\nHe added: \"For some time, my family and myself have suffered threats and attacks in silence. These threats and attacks have made me wonder if being president means having to jeopardise my family.\\n\"From the beginning, I have said the signing of Neymar has been correct and his signing has caused despair and envy in some of our adversaries.\"\\nRosell said he was resigning to spare the club's board of directors from \"unfair attacks\" that could \"negatively affect their management or the image of the club\".\\nHe added: \"It has been an honour to serve the Barcelonistas. It's been a privilege to be the president of FC Barcelona.\"\\nRosell was named Barca president in the summer of 2010 after winning a landslide vote to succeed Joan Laporta, earning 61.34% of a record turn-out of 57,088 voters.\\nHe had also been vice-president under Laporta before resigning in 2005.   \n",
              "15                                                                                                                    The think tank said the city's 1,536 schools needed to save £360m in the first year if the government's National Funding Formula (NFF) plan goes ahead.\\nThe amount is the equivalent of 12,857 qualified teachers, on an average salary of £28,000.\\nThe government said London was the highest funded part of the country.\\nIt added that under the plans, which are under consultation, inner-city schools would be allocated 30% more money per pupil than the national average.\\nBut London Councils, which represents the city's 32 boroughs and the City, said no school would gain enough funding from the NFF to compensate for increased cost pressures from inflation, higher pension contributions and national insurance.\\nMinisters said the new formula was needed to tackle uneven levels of funding across England, with the best funded areas getting more than £6,300 per pupil per year, while the worst-funded averaging £4,200.\\nIt said the funding cut was on top of National Audit Office figures which showed England schools faced an eight per cent real-terms cut per pupil by 2019-20 because it  wider cost pressures.\\nIn a statement, London Councils said: \"At a time when UK schools are seen as underperforming by international standards, and when businesses based in London are facing massive uncertainty about recruiting skilled staff, there is an urgent need to invest in schools in London and across the rest of the country.\"\\nIt added: \"Without the right qualifications and skills, London's children will be unable to access jobs and contribute to the national economy. Over 60% of jobs in inner London require a degree and around 45% of jobs in the rest of the capital require a degree.\"   \n",
              "\n",
              "                                                                                                                                                                                                                                                                                                                                                                                                                                                                                                                                                                                                                                                                                                                                                                                                                                                                                                                                                                                                                                                                                                                                                                                                                                                                                                                                                                                                                                                                                                                                                                                                                                                                                                                                                                                                                                                                   test_case  \\\n",
              "0                                                                                                                                                                                                                                                                                                                                                                                                                                                                                                                                                                                                                                                                                                                                                                                                                                                                                                                                                                                                                                                                                                                                                                                                                                                                                                                        THE EX-READING DEFENDER DENIED FRAUDULENT TRADING CHARGES RELATING TO THE SODJE SPORTS FOUNDATION - A CHARITY TO RAISE MONEY FOR NIGERIAN SPORT.\\nMR SODJE, 37, IS JOINTLY CHARGED WITH ELDER BROTHERS EFE, 44, BRIGHT, 50 AND STEPHEN, 42.\\nAPPEARING AT THE OLD BAILEY EARLIER, ALL FOUR DENIED THE OFFENCE.\\nTHE CHARGE RELATES TO OFFENCES WHICH ALLEGEDLY TOOK PLACE BETWEEN 2008 AND 2014.\\nSAM, FROM KENT, EFE AND BRIGHT, OF GREATER MANCHESTER, AND STEPHEN, FROM BEXLEY, ARE DUE TO STAND TRIAL IN JULY.\\nTHEY WERE ALL RELEASED ON BAIL.   \n",
              "1                                                                                                                                                                                                                                                                                                                                                                                                                                                                                                                                                                                                                                                                                                                                                                                                                                  VOGES WAS FORCED TO RETIRE HURT ON 86 AFTER SUFFERING THE INJURY WHILE BATTING DURING THE COUNTY CHAMPIONSHIP DRAW WITH SOMERSET ON 4 JUNE.\\nMIDDLESEX HOPE TO HAVE THE AUSTRALIAN BACK FOR THEIR T20 BLAST GAME AGAINST HAMPSHIRE AT LORD'S ON 3 AUGUST.\\nTHE 37-YEAR-OLD HAS SCORED 230 RUNS IN FOUR FIRST-CLASS GAMES THIS SEASON AT AN AVERAGE OF 57.50.\\n\"LOSING ADAM IS NATURALLY A BLOW AS HE CONTRIBUTES SIGNIFICANTLY TO EVERYTHING WE DO,\" DIRECTOR OF CRICKET ANGUS FRASER SAID.\\n\"HIS ABSENCE, HOWEVER, DOES GIVE OPPORTUNITIES TO OTHER PLAYERS WHO ARE DESPERATE TO PLAY IN THE FIRST XI.\\n\"IN THE PAST WE HAVE COPED WELL WITHOUT AN OVERSEAS PLAYER AND I EXPECT US TO DO SO NOW.\"\\nDEFENDING COUNTY CHAMPIONS MIDDLESEX ARE SIXTH IN THE DIVISION ONE TABLE, HAVING DRAWN ALL FOUR OF THEIR MATCHES THIS SEASON.\\nVOGES RETIRED FROM INTERNATIONAL CRICKET IN FEBRUARY WITH A TEST BATTING AVERAGE OF 61.87 FROM 31 INNINGS, SECOND ONLY TO AUSTRALIAN GREAT SIR DONALD BRADMAN'S CAREER AVERAGE OF 99.94 FROM 52 TESTS.   \n",
              "2                                                                                                                                                                                                                 SEVEN PHOTOGRAPHS TAKEN IN THE NORFOLK COUNTRYSIDE BY PHOTOGRAPHER JOSH OLINS WILL APPEAR IN THE JUNE EDITION.\\nIN HER FIRST SITTING FOR A MAGAZINE, THE DUCHESS IS SEEN LOOKING RELAXED AND WEARING CASUAL CLOTHES.\\nTHE SHOOT WAS IN COLLABORATION WITH THE NATIONAL PORTRAIT GALLERY, WHERE TWO IMAGES ARE BEING DISPLAYED IN THE VOGUE 100: A CENTURY OF STYLE EXHIBITION.\\nTHE DUCHESS, WHO HAS A KEEN INTEREST IN PHOTOGRAPHY, HAS BEEN PATRON OF THE NATIONAL PORTRAIT GALLERY SINCE 2012.\\nNICHOLAS CULLINAN, DIRECTOR OF THE NATIONAL PORTRAIT GALLERY, SAID: \"JOSH HAS CAPTURED THE DUCHESS EXACTLY AS SHE IS - FULL OF LIFE, WITH A GREAT SENSE OF HUMOUR, THOUGHTFUL AND INTELLIGENT, AND IN FACT, VERY BEAUTIFUL.\"\\nHE SAID THE IMAGES ALSO ENCAPSULATED WHAT VOGUE HAD DONE OVER THE PAST 100 YEARS - \"TO PAIR THE BEST PHOTOGRAPHERS WITH THE GREAT PERSONALITIES OF THE DAY, IN ORDER TO REFLECT BROADER SHIFTS IN CULTURE AND SOCIETY\".\\nALEXANDRA SHULMAN, EDITOR-IN-CHIEF OF BRITISH VOGUE, SAID: \"TO BE ABLE TO PUBLISH A PHOTOGRAPHIC SHOOT WITH THE DUCHESS OF CAMBRIDGE HAS BEEN ONE OF MY GREATEST AMBITIONS FOR THE MAGAZINE.\"\\nTHE COLLABORATION FOR THE JUNE EDITION HAD RESULTED IN \"A TRUE CELEBRATION OF OUR CENTENARY AS WELL AS A FITTING TRIBUTE TO A YOUNG WOMAN WHOSE INTEREST IN BOTH PHOTOGRAPHY AND THE COUNTRYSIDE IS WELL KNOWN\", SHE SAID.\\nOTHER ROYAL PORTRAITS TO HAVE FEATURED IN THE FASHION MAGAZINE INCLUDE DIANA, PRINCESS OF WALES - WHO GRACED THE COVER FOUR TIMES - AND PRINCESS ANNE.\\nTHE DUCHESS IS TO VISIT THE EXHIBITION AT THE NATIONAL PORTRAIT GALLERY ON WEDNESDAY, KENSINGTON PALACE SAID.   \n",
              "3   CHRIS POOLE - KNOWN AS \"MOOT\" ONLINE - CREATED THE SITE IN 2003.\\nIT HAS GONE ON TO BE CLOSELY ASSOCIATED WITH OFFENSIVE AND OFTEN ILLEGAL ACTIVITY, INCLUDING INSTANCES WHERE THE IMAGES OF CHILD ABUSE WERE SHARED.\\nIT WAS WIDELY CREDITED AS BEING THE FIRST PLACE WHERE LEAKED IMAGES OF NUDE CELEBRITIES WERE POSTED FOLLOWING 2014'S WELL-PUBLICISED SECURITY BREACH AFFECTING APPLE'S ICLOUD SERVICE. THAT INCIDENT PROMPTED A POLICY CHANGE ON THE SITE.\\nHOWEVER, 4CHAN HAS ALSO BEEN THE RALLYING POINT FOR MANY INSTANCES OF ONLINE ACTIVISM FROM THE LIKES OF ANONYMOUS, THE LOOSELY ORGANIZED HACKTIVISM GROUP.\\nMR POOLE SHARED NEWS OF HIS NEW POSITION ON BLOGGING SITE TUMBLR.\\n\"WHEN MEETING WITH CURRENT AND FORMER GOOGLERS, I CONTINUALLY FIND MYSELF DRAWN TO THEIR INTELLIGENCE, PASSION, AND ENTHUSIASM - AS WELL AS A UNIVERSAL DESIRE TO SHARE IT WITH OTHERS.\"\\n\"I'M ALSO IMPRESSED BY GOOGLE'S COMMITMENT TO ENABLING THESE SAME TALENTED PEOPLE TO TACKLE SOME OF THE WORLD'S MOST INTERESTING AND IMPORTANT PROBLEMS.\\nHE ADDED: \"I CAN'T WAIT TO CONTRIBUTE MY OWN EXPERIENCE FROM A DOZEN YEARS OF BUILDING ONLINE COMMUNITIES, AND TO BEGIN THE NEXT CHAPTER OF MY CAREER AT SUCH AN INCREDIBLE COMPANY.\"\\nMR POOLE STEPPED DOWN AS THE ADMINISTRATOR OF 4CHAN IN JANUARY 2015. NOW HE IS EXPECTED TO TURN HIS ATTENTIONS TO GOOGLE'S SOCIAL NETWORKING EFFORTS.\\nHIS ARRIVAL WAS WELCOMED BY BRADLEY HOROWITZ, THE HEAD OF \"STREAMS, PHOTOS AND SHARING\" AT THE SEARCH GIANT'S FLOUNDERING SOCIAL NETWORK, GOOGLE+.\\n\"I'M THRILLED HE'S JOINING OUR TEAM HERE AT GOOGLE,\" MR HOROWITZ SAID.\\n\"WELCOME CHRIS!Ï»¿\"\\nSEVERAL COMMENTATORS DESCRIBED THE APPOINTMENT AS \"UNEXPECTED\" BUT NOTED THAT MR POOLE'S EXPERTISE WITH SOCIAL MEDIA COULD PROVE USEFUL TO THE SEARCH FIRM.\\nFOLLOW DAVE LEE ON TWITTER @DAVELEEBBC AND ON FACEBOOK   \n",
              "4                                                                                                                                                                                                                                                                                                                                                                                                                                                                                                                                                                                                                                                                                                                                                                                                                                                                                                                                                                                                                                                                                                                                                                                                                                                                                                                                                                                                                                                                                                       FOUR POLICE OFFICERS WERE INJURED IN THE INCIDENT ON FRIDAY NIGHT.\\nA MAN, AGED 19, AND A BOY, AGED 16, HAVE BEEN CHARGED WITH SIX COUNTS OF AGGRAVATED VEHICLE TAKING.\\nTHEY ARE DUE TO APPEAR BEFORE BELFAST MAGISTRATES' COURT ON MONDAY.\\nTHE 19-YEAR-OLD MAN HAS ALSO BEEN CHARGED WITH DRIVING WHILE DISQUALIFIED AND USING A MOTOR VEHICLE WITHOUT INSURANCE.   \n",
              "5                                                                                                                                                                                                                                                                                                                                                                                                                                                                                                                                                                                                                                                                                                                                                                                                                                                                                                                                                                                                                                                                                                                                                                                                                                                                                                                                                                                                                                                                                                                                                        THE INJURED PEDESTRIAN - A YOUNG MAN - IS THOUGHT TO HAVE BEEN WALKING WITH A GROUP OF PEOPLE FROM A GRADUATION CEREMONY AT THE CAIRD HALL.\\nTHE INCIDENT TOOK PLACE ON HIGH STREET AT ABOUT 18:00.\\nTHE MAN'S INJURIES ARE BELIEVED NOT TO BE LIFE-THREATENING. THE DRIVER OF THE TAXI IS THOUGHT TO BE UNINJURED.   \n",
              "6                                                                                                                                                                                                               BARCA WILL BE INVESTIGATED FOR ALLEGED MISAPPROPRIATION OF FUNDS IN THE £48.6M (57M EUROS) DEAL WITH SANTOS.\\nTHE SIGNING OF NEYMAR HAS BEEN CORRECT AND HIS SIGNING HAS CAUSED DESPAIR AND ENVY IN SOME OF OUR ADVERSARIES\\nROSELL, SPEAKING AT A NEWS CONFERENCE AFTER A BARCA BOARD MEETING, INSISTED HE HAD \"ACTED CORRECTLY\".\\nVICE-PRESIDENT JOSEP MARIA BARTOMEU NOW TAKES OVER FROM THE 49-YEAR-OLD ROSELL, WHO CAME TO POWER IN 2010.\\nROSELL'S FUTURE HAS BEEN A REAL SOURCE OF CONCERN EVER SINCE A SPANISH NATIONAL COURT JUDGE ACCEPTED A LAWSUIT THIS WEEK FROM BARCELONA CLUB MEMBER JORDI CASES, WHO ALLEGED THAT THE AMOUNT PAID FOR NEYMAR WAS MORE THAN THE REPORTED FEE.\\nROSELL MAINTAINS THE ACCUSATION IS \"UNFAIR AND RECKLESS\".\\nHE ADDED: \"FOR SOME TIME, MY FAMILY AND MYSELF HAVE SUFFERED THREATS AND ATTACKS IN SILENCE. THESE THREATS AND ATTACKS HAVE MADE ME WONDER IF BEING PRESIDENT MEANS HAVING TO JEOPARDISE MY FAMILY.\\n\"FROM THE BEGINNING, I HAVE SAID THE SIGNING OF NEYMAR HAS BEEN CORRECT AND HIS SIGNING HAS CAUSED DESPAIR AND ENVY IN SOME OF OUR ADVERSARIES.\"\\nROSELL SAID HE WAS RESIGNING TO SPARE THE CLUB'S BOARD OF DIRECTORS FROM \"UNFAIR ATTACKS\" THAT COULD \"NEGATIVELY AFFECT THEIR MANAGEMENT OR THE IMAGE OF THE CLUB\".\\nHE ADDED: \"IT HAS BEEN AN HONOUR TO SERVE THE BARCELONISTAS. IT'S BEEN A PRIVILEGE TO BE THE PRESIDENT OF FC BARCELONA.\"\\nROSELL WAS NAMED BARCA PRESIDENT IN THE SUMMER OF 2010 AFTER WINNING A LANDSLIDE VOTE TO SUCCEED JOAN LAPORTA, EARNING 61.34% OF A RECORD TURN-OUT OF 57,088 VOTERS.\\nHE HAD ALSO BEEN VICE-PRESIDENT UNDER LAPORTA BEFORE RESIGNING IN 2005.   \n",
              "7                                                                                                                     THE THINK TANK SAID THE CITY'S 1,536 SCHOOLS NEEDED TO SAVE £360M IN THE FIRST YEAR IF THE GOVERNMENT'S NATIONAL FUNDING FORMULA (NFF) PLAN GOES AHEAD.\\nTHE AMOUNT IS THE EQUIVALENT OF 12,857 QUALIFIED TEACHERS, ON AN AVERAGE SALARY OF £28,000.\\nTHE GOVERNMENT SAID LONDON WAS THE HIGHEST FUNDED PART OF THE COUNTRY.\\nIT ADDED THAT UNDER THE PLANS, WHICH ARE UNDER CONSULTATION, INNER-CITY SCHOOLS WOULD BE ALLOCATED 30% MORE MONEY PER PUPIL THAN THE NATIONAL AVERAGE.\\nBUT LONDON COUNCILS, WHICH REPRESENTS THE CITY'S 32 BOROUGHS AND THE CITY, SAID NO SCHOOL WOULD GAIN ENOUGH FUNDING FROM THE NFF TO COMPENSATE FOR INCREASED COST PRESSURES FROM INFLATION, HIGHER PENSION CONTRIBUTIONS AND NATIONAL INSURANCE.\\nMINISTERS SAID THE NEW FORMULA WAS NEEDED TO TACKLE UNEVEN LEVELS OF FUNDING ACROSS ENGLAND, WITH THE BEST FUNDED AREAS GETTING MORE THAN £6,300 PER PUPIL PER YEAR, WHILE THE WORST-FUNDED AVERAGING £4,200.\\nIT SAID THE FUNDING CUT WAS ON TOP OF NATIONAL AUDIT OFFICE FIGURES WHICH SHOWED ENGLAND SCHOOLS FACED AN EIGHT PER CENT REAL-TERMS CUT PER PUPIL BY 2019-20 BECAUSE IT  WIDER COST PRESSURES.\\nIN A STATEMENT, LONDON COUNCILS SAID: \"AT A TIME WHEN UK SCHOOLS ARE SEEN AS UNDERPERFORMING BY INTERNATIONAL STANDARDS, AND WHEN BUSINESSES BASED IN LONDON ARE FACING MASSIVE UNCERTAINTY ABOUT RECRUITING SKILLED STAFF, THERE IS AN URGENT NEED TO INVEST IN SCHOOLS IN LONDON AND ACROSS THE REST OF THE COUNTRY.\"\\nIT ADDED: \"WITHOUT THE RIGHT QUALIFICATIONS AND SKILLS, LONDON'S CHILDREN WILL BE UNABLE TO ACCESS JOBS AND CONTRIBUTE TO THE NATIONAL ECONOMY. OVER 60% OF JOBS IN INNER LONDON REQUIRE A DEGREE AND AROUND 45% OF JOBS IN THE REST OF THE CAPITAL REQUIRE A DEGREE.\"   \n",
              "8                                                                                                                                                                                                                                                                                                                                                                                                                                                                                                                                                                                                                                                                                                                                                                                                                                                                                                                                                                                                                                                                                                                                                                                                                                                                                                                        the ex-reading defender denied fraudulent trading charges relating to the sodje sports foundation - a charity to raise money for nigerian sport.\\nmr sodje, 37, is jointly charged with elder brothers efe, 44, bright, 50 and stephen, 42.\\nappearing at the old bailey earlier, all four denied the offence.\\nthe charge relates to offences which allegedly took place between 2008 and 2014.\\nsam, from kent, efe and bright, of greater manchester, and stephen, from bexley, are due to stand trial in july.\\nthey were all released on bail.   \n",
              "9                                                                                                                                                                                                                                                                                                                                                                                                                                                                                                                                                                                                                                                                                                                                                                                                                                  voges was forced to retire hurt on 86 after suffering the injury while batting during the county championship draw with somerset on 4 june.\\nmiddlesex hope to have the australian back for their t20 blast game against hampshire at lord's on 3 august.\\nthe 37-year-old has scored 230 runs in four first-class games this season at an average of 57.50.\\n\"losing adam is naturally a blow as he contributes significantly to everything we do,\" director of cricket angus fraser said.\\n\"his absence, however, does give opportunities to other players who are desperate to play in the first xi.\\n\"in the past we have coped well without an overseas player and i expect us to do so now.\"\\ndefending county champions middlesex are sixth in the division one table, having drawn all four of their matches this season.\\nvoges retired from international cricket in february with a test batting average of 61.87 from 31 innings, second only to australian great sir donald bradman's career average of 99.94 from 52 tests.   \n",
              "10                                                                                                                                                                                                                seven photographs taken in the norfolk countryside by photographer josh olins will appear in the june edition.\\nin her first sitting for a magazine, the duchess is seen looking relaxed and wearing casual clothes.\\nthe shoot was in collaboration with the national portrait gallery, where two images are being displayed in the vogue 100: a century of style exhibition.\\nthe duchess, who has a keen interest in photography, has been patron of the national portrait gallery since 2012.\\nnicholas cullinan, director of the national portrait gallery, said: \"josh has captured the duchess exactly as she is - full of life, with a great sense of humour, thoughtful and intelligent, and in fact, very beautiful.\"\\nhe said the images also encapsulated what vogue had done over the past 100 years - \"to pair the best photographers with the great personalities of the day, in order to reflect broader shifts in culture and society\".\\nalexandra shulman, editor-in-chief of british vogue, said: \"to be able to publish a photographic shoot with the duchess of cambridge has been one of my greatest ambitions for the magazine.\"\\nthe collaboration for the june edition had resulted in \"a true celebration of our centenary as well as a fitting tribute to a young woman whose interest in both photography and the countryside is well known\", she said.\\nother royal portraits to have featured in the fashion magazine include diana, princess of wales - who graced the cover four times - and princess anne.\\nthe duchess is to visit the exhibition at the national portrait gallery on wednesday, kensington palace said.   \n",
              "11  chris poole - known as \"moot\" online - created the site in 2003.\\nit has gone on to be closely associated with offensive and often illegal activity, including instances where the images of child abuse were shared.\\nit was widely credited as being the first place where leaked images of nude celebrities were posted following 2014's well-publicised security breach affecting apple's icloud service. that incident prompted a policy change on the site.\\nhowever, 4chan has also been the rallying point for many instances of online activism from the likes of anonymous, the loosely organized hacktivism group.\\nmr poole shared news of his new position on blogging site tumblr.\\n\"when meeting with current and former googlers, i continually find myself drawn to their intelligence, passion, and enthusiasm - as well as a universal desire to share it with others.\"\\n\"i'm also impressed by google's commitment to enabling these same talented people to tackle some of the world's most interesting and important problems.\\nhe added: \"i can't wait to contribute my own experience from a dozen years of building online communities, and to begin the next chapter of my career at such an incredible company.\"\\nmr poole stepped down as the administrator of 4chan in january 2015. now he is expected to turn his attentions to google's social networking efforts.\\nhis arrival was welcomed by bradley horowitz, the head of \"streams, photos and sharing\" at the search giant's floundering social network, google+.\\n\"i'm thrilled he's joining our team here at google,\" mr horowitz said.\\n\"welcome chris!ï»¿\"\\nseveral commentators described the appointment as \"unexpected\" but noted that mr poole's expertise with social media could prove useful to the search firm.\\nfollow dave lee on twitter @daveleebbc and on facebook   \n",
              "12                                                                                                                                                                                                                                                                                                                                                                                                                                                                                                                                                                                                                                                                                                                                                                                                                                                                                                                                                                                                                                                                                                                                                                                                                                                                                                                                                                                                                                                                                                      four police officers were injured in the incident on friday night.\\na man, aged 19, and a boy, aged 16, have been charged with six counts of aggravated vehicle taking.\\nthey are due to appear before belfast magistrates' court on monday.\\nthe 19-year-old man has also been charged with driving while disqualified and using a motor vehicle without insurance.   \n",
              "13                                                                                                                                                                                                                                                                                                                                                                                                                                                                                                                                                                                                                                                                                                                                                                                                                                                                                                                                                                                                                                                                                                                                                                                                                                                                                                                                                                                                                                                                                                                                                       the injured pedestrian - a young man - is thought to have been walking with a group of people from a graduation ceremony at the caird hall.\\nthe incident took place on high street at about 18:00.\\nthe man's injuries are believed not to be life-threatening. the driver of the taxi is thought to be uninjured.   \n",
              "14                                                                                                                                                                                                              barca will be investigated for alleged misappropriation of funds in the £48.6m (57m euros) deal with santos.\\nthe signing of neymar has been correct and his signing has caused despair and envy in some of our adversaries\\nrosell, speaking at a news conference after a barca board meeting, insisted he had \"acted correctly\".\\nvice-president josep maria bartomeu now takes over from the 49-year-old rosell, who came to power in 2010.\\nrosell's future has been a real source of concern ever since a spanish national court judge accepted a lawsuit this week from barcelona club member jordi cases, who alleged that the amount paid for neymar was more than the reported fee.\\nrosell maintains the accusation is \"unfair and reckless\".\\nhe added: \"for some time, my family and myself have suffered threats and attacks in silence. these threats and attacks have made me wonder if being president means having to jeopardise my family.\\n\"from the beginning, i have said the signing of neymar has been correct and his signing has caused despair and envy in some of our adversaries.\"\\nrosell said he was resigning to spare the club's board of directors from \"unfair attacks\" that could \"negatively affect their management or the image of the club\".\\nhe added: \"it has been an honour to serve the barcelonistas. it's been a privilege to be the president of fc barcelona.\"\\nrosell was named barca president in the summer of 2010 after winning a landslide vote to succeed joan laporta, earning 61.34% of a record turn-out of 57,088 voters.\\nhe had also been vice-president under laporta before resigning in 2005.   \n",
              "15                                                                                                                    the think tank said the city's 1,536 schools needed to save £360m in the first year if the government's national funding formula (nff) plan goes ahead.\\nthe amount is the equivalent of 12,857 qualified teachers, on an average salary of £28,000.\\nthe government said london was the highest funded part of the country.\\nit added that under the plans, which are under consultation, inner-city schools would be allocated 30% more money per pupil than the national average.\\nbut london councils, which represents the city's 32 boroughs and the city, said no school would gain enough funding from the nff to compensate for increased cost pressures from inflation, higher pension contributions and national insurance.\\nministers said the new formula was needed to tackle uneven levels of funding across england, with the best funded areas getting more than £6,300 per pupil per year, while the worst-funded averaging £4,200.\\nit said the funding cut was on top of national audit office figures which showed england schools faced an eight per cent real-terms cut per pupil by 2019-20 because it  wider cost pressures.\\nin a statement, london councils said: \"at a time when uk schools are seen as underperforming by international standards, and when businesses based in london are facing massive uncertainty about recruiting skilled staff, there is an urgent need to invest in schools in london and across the rest of the country.\"\\nit added: \"without the right qualifications and skills, london's children will be unable to access jobs and contribute to the national economy. over 60% of jobs in inner london require a degree and around 45% of jobs in the rest of the capital require a degree.\"   \n",
              "\n",
              "                                                                                                                                                                                                                                                                                                                                                  expected_result  \\\n",
              "0                                                                             The ex-Reading defender denied fraudulent trading charges relating to the Sodje Sports Foundation - a charity to raise money for Nigerian sport. Mr Sodje, 37, is jointly charged with elder brothers Efe, 44, Bright, 50 and Stephen, 42. Appearing at the Old Bailey earlier, all   \n",
              "1                                                                                                                                                                                             Former Australia batsman Adam Voges has been ruled out of Middlesex's first-class season because of a stress fracture in his lower back, the county have announced.   \n",
              "2   Seven photographs taken in the Norfolk countryside by photographer Josh Olins will appear in the June edition of British Vogue. In her first sitting for a magazine, the duchess is seen looking relaxed and wearing casual clothes. The shoot was in collaboration with the National Portrait Gallery, where two images are being displayed in the Vogue 100   \n",
              "3                                                                                                                                                                                   The man who created the notorious online forum 4chan has been appointed head of Google's social network, Google+, the search giant has announced. The BBC's Dave Lee reports.   \n",
              "4                                                                                                                      Four police officers were injured in the incident on Friday night. A man, aged 19, and a boy, aged 16, have been charged with six counts of aggravated vehicle taking. They are due to appear before Belfast Magistrates' Court on Monday.   \n",
              "5                                                             The injured pedestrian - a young man - is thought to have been walking with a group of people from a graduation ceremony at the Caird Hall. The incident took place on High Street at about 18:00. The man's injuries are believed not to be life-threatening. The driver of the taxi is thought to   \n",
              "6                                                                                                                                                                                                     Barcelona's president, Sandro Rosell, has resigned from his post following the alleged misappropriation of funds in the £48.6m (57m euros) deal for Neymar.   \n",
              "7                                                                         The London Councils think tank said the city's 1,536 schools needed to save £360m in the first year if the government's National Funding Formula (NFF) plan goes ahead. The amount is the equivalent of 12,857 qualified teachers, on an average salary of £28,000. The government said   \n",
              "8                                                                             The ex-Reading defender denied fraudulent trading charges relating to the Sodje Sports Foundation - a charity to raise money for Nigerian sport. Mr Sodje, 37, is jointly charged with elder brothers Efe, 44, Bright, 50 and Stephen, 42. Appearing at the Old Bailey earlier, all   \n",
              "9                                                                                                                                                                                             Former Australia batsman Adam Voges has been ruled out of Middlesex's first-class season because of a stress fracture in his lower back, the county have announced.   \n",
              "10  Seven photographs taken in the Norfolk countryside by photographer Josh Olins will appear in the June edition of British Vogue. In her first sitting for a magazine, the duchess is seen looking relaxed and wearing casual clothes. The shoot was in collaboration with the National Portrait Gallery, where two images are being displayed in the Vogue 100   \n",
              "11                                                                                                                                                                                  The man who created the notorious online forum 4chan has been appointed head of Google's social network, Google+, the search giant has announced. The BBC's Dave Lee reports.   \n",
              "12                                                                                                                     Four police officers were injured in the incident on Friday night. A man, aged 19, and a boy, aged 16, have been charged with six counts of aggravated vehicle taking. They are due to appear before Belfast Magistrates' Court on Monday.   \n",
              "13                                                            The injured pedestrian - a young man - is thought to have been walking with a group of people from a graduation ceremony at the Caird Hall. The incident took place on High Street at about 18:00. The man's injuries are believed not to be life-threatening. The driver of the taxi is thought to   \n",
              "14                                                                                                                                                                                                    Barcelona's president, Sandro Rosell, has resigned from his post following the alleged misappropriation of funds in the £48.6m (57m euros) deal for Neymar.   \n",
              "15                                                                        The London Councils think tank said the city's 1,536 schools needed to save £360m in the first year if the government's National Funding Formula (NFF) plan goes ahead. The amount is the equivalent of 12,857 qualified teachers, on an average salary of £28,000. The government said   \n",
              "\n",
              "                                                                                                                                                                                                                                                                                                                                               actual_result  \\\n",
              "0                                                                                                                     Former Liverpool defender Steven Caulker has pleaded guilty to one count of conspiracy to commit fraud and one count of conspiracy to commit money laundering in connection with the alleged manipulation of foreign exchange markets.   \n",
              "1                                                                                                                                                                                           Former Australia batsman Adam Voges has been forced to retire from first-class cricket after injuring his ankle during Middlesex's draw with Somerset on 4 June.   \n",
              "2                                                                                                                                                                                                    The Duchess of Cambridge will appear on the cover of British Vogue for the first time in the magazine's 100th anniversary issue, it has been announced.   \n",
              "3                                                                                                                                CHRIS POOLE - KNOWN AS \"MOOT\" ONLINE - CREATED THE SITE IN 2003. It has gone on to be CLOSELY ASSOCIATED with OFFENSIVE and OFTEN ILLEGAL ACTIVITY, including inSTANCES where the IMAGES of Child ABUSE were shared. It was   \n",
              "4                                                                                                                                                                                                               A 19-year-old man and a 16-year-old boy have been charged after four police officers were injured in a car crash in Belfast on Friday night.   \n",
              "5                                                                                                                                                          A man in his 20s has been seriously injured after he was hit by a TAXI in central London. He is thought to have been walking with a group of people from a graduation ceremony at the CAIRD HALL.   \n",
              "6                                                                                                                                                                                                                                           Barcelona will be INVESTIGATED FOR ALLEGED MISAPPROPRIATION OF FUNDS IN THE £48.6M (57M EUROS) DEAL WITH SANTOS.   \n",
              "7                                                                                                                                                                                                                         London's 1,536 schools need to save £360M in the first year if the government's national funding plan goes ahead, says think tank.   \n",
              "8                                                                                                                                                                                              Ex-Reading defender Samuel Eto'o has denied fraudulent trading charges relating to the sodje sports foundation - a charity to raise money for Nigerian sport.   \n",
              "9                                                                                                                                                                         Former Australia batsman Adam Voges has been ruled out of Middlesex's first-class season after injuring his hamstring during the county championship draw with Somerset on June 4.   \n",
              "10  Seven photographs taken in the norfolk countryside by photographer josholins will appear in the june edition of British Vogue. in her first sitting for a magazine, the duchess is seen looking relaxed and wearing casual clothes. the shoot was in collaboration with the national portrait gallery, where two images are being displayed in the vogue   \n",
              "11                                                                                                                                                                                                      Google has appointed the former administrator of 4chan, one of the world's most notorious online forums, to its social media team. Dave Lee reports.   \n",
              "12                                                                                                                Four police officers were injured in the incident on Friday night. a man, aged 19, and a boy, aged 16, have been charged with six counts of aggravated vehicle taking. they are due to appear before Belfast magistrates' court on Monday.   \n",
              "13                                                                                                                A pedestrian is injured after being hit by a taxi in central London. The incident took place on high street at about 18:00. the man's injuries are believed not to be life-threatening. the driver of the taxi is thought to be uninjured.   \n",
              "14                                                                                                                                                                                                                  Barcelona will be investigated for alleged misappropriation of funds in the £48.6m (57m euros) deal with santos, the club has announced.   \n",
              "15                                                                                                                                                                                                                            London's 1,536 schools need to save £360m in the first year if the government's national funding formula (nff) plan goes ahead   \n",
              "\n",
              "    eval_score   pass  \n",
              "0     0.000000  False  \n",
              "1     0.301887  False  \n",
              "2     0.121951  False  \n",
              "3     0.030769  False  \n",
              "4     0.294118  False  \n",
              "5     0.391304  False  \n",
              "6     0.487805  False  \n",
              "7     0.486486  False  \n",
              "8     0.558824   True  \n",
              "9     0.545455   True  \n",
              "10    0.945455   True  \n",
              "11    0.113208  False  \n",
              "12    1.000000   True  \n",
              "13    0.591837   True  \n",
              "14    0.444444  False  \n",
              "15    0.547945   True  "
            ]
          },
          "execution_count": 39,
          "metadata": {},
          "output_type": "execute_result"
        }
      ],
      "source": [
        "harness.generated_results()"
      ]
    },
    {
      "attachments": {},
      "cell_type": "markdown",
      "metadata": {},
      "source": [
        "### Final Results"
      ]
    },
    {
      "attachments": {},
      "cell_type": "markdown",
      "metadata": {},
      "source": [
        "We can call `.report()` which summarizes the results giving information about pass and fail counts and overall test pass/fail flag."
      ]
    },
    {
      "cell_type": "code",
      "execution_count": 40,
      "metadata": {},
      "outputs": [
        {
          "data": {
            "text/html": [
              "<div>\n",
              "<style scoped>\n",
              "    .dataframe tbody tr th:only-of-type {\n",
              "        vertical-align: middle;\n",
              "    }\n",
              "\n",
              "    .dataframe tbody tr th {\n",
              "        vertical-align: top;\n",
              "    }\n",
              "\n",
              "    .dataframe thead th {\n",
              "        text-align: right;\n",
              "    }\n",
              "</style>\n",
              "<table border=\"1\" class=\"dataframe\">\n",
              "  <thead>\n",
              "    <tr style=\"text-align: right;\">\n",
              "      <th></th>\n",
              "      <th>category</th>\n",
              "      <th>test_type</th>\n",
              "      <th>fail_count</th>\n",
              "      <th>pass_count</th>\n",
              "      <th>pass_rate</th>\n",
              "      <th>minimum_pass_rate</th>\n",
              "      <th>pass</th>\n",
              "    </tr>\n",
              "  </thead>\n",
              "  <tbody>\n",
              "    <tr>\n",
              "      <th>0</th>\n",
              "      <td>robustness</td>\n",
              "      <td>uppercase</td>\n",
              "      <td>8</td>\n",
              "      <td>0</td>\n",
              "      <td>0%</td>\n",
              "      <td>66%</td>\n",
              "      <td>False</td>\n",
              "    </tr>\n",
              "    <tr>\n",
              "      <th>1</th>\n",
              "      <td>robustness</td>\n",
              "      <td>lowercase</td>\n",
              "      <td>2</td>\n",
              "      <td>6</td>\n",
              "      <td>75%</td>\n",
              "      <td>60%</td>\n",
              "      <td>True</td>\n",
              "    </tr>\n",
              "  </tbody>\n",
              "</table>\n",
              "</div>"
            ],
            "text/plain": [
              "     category  test_type  fail_count  pass_count pass_rate minimum_pass_rate  \\\n",
              "0  robustness  uppercase           8           0        0%               66%   \n",
              "1  robustness  lowercase           2           6       75%               60%   \n",
              "\n",
              "    pass  \n",
              "0  False  \n",
              "1   True  "
            ]
          },
          "execution_count": 40,
          "metadata": {},
          "output_type": "execute_result"
        }
      ],
      "source": [
        "harness.report()"
      ]
    }
  ],
  "metadata": {
    "accelerator": "TPU",
    "colab": {
      "machine_shape": "hm",
      "provenance": [],
      "toc_visible": true
    },
    "gpuClass": "standard",
    "kernelspec": {
      "display_name": "Python 3",
      "name": "python3"
    },
    "language_info": {
      "codemirror_mode": {
        "name": "ipython",
        "version": 3
      },
      "file_extension": ".py",
      "mimetype": "text/x-python",
      "name": "python",
      "nbconvert_exporter": "python",
      "pygments_lexer": "ipython3",
      "version": "3.11.3"
    }
  },
  "nbformat": 4,
  "nbformat_minor": 0
}
