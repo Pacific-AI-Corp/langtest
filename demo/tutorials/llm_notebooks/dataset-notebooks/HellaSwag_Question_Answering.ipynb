{
 "cells": [
  {
   "cell_type": "markdown",
   "metadata": {
    "id": "-euMnuisAIDX"
   },
   "source": [
    "![logog](https://raw.githubusercontent.com/Pacific-AI-Corp/langtest/main/docs/assets/images/logo.png)"
   ]
  },
  {
   "cell_type": "markdown",
   "metadata": {
    "id": "aovNz0IjMaQa"
   },
   "source": [
    "[![Open In Colab](https://colab.research.google.com/assets/colab-badge.svg)](https://colab.research.google.com/github/Pacific-AI-Corp/langtest/blob/main/demo/tutorials/llm_notebooks/dataset-notebooks/HellaSwag_Question_Answering.ipynb)"
   ]
  },
  {
   "cell_type": "markdown",
   "metadata": {
    "id": "wCxsD2KDAWU2"
   },
   "source": [
    "**LangTest** is an open-source python library designed to help developers deliver safe and effective Natural Language Processing (NLP) models. Whether you are using **John Snow Labs, Hugging Face, Spacy** models or **OpenAI, Cohere, AI21, Hugging Face Inference API and Azure-OpenAI** based LLMs, it has got you covered. You can test any Named Entity Recognition (NER), Text Classification, fill-mask, Translation model using the library. We also support testing LLMS for Question-Answering, Summarization and text-generation tasks on benchmark datasets. The library supports 60+ out of the box tests. For a complete list of supported test categories, please refer to the [documentation](http://langtest.org/docs/pages/docs/test_categories).\n",
    "\n",
    "Metrics are calculated by comparing the model's extractions in the original list of sentences against the extractions carried out in the noisy list of sentences. The original annotated labels are not used at any point, we are simply comparing the model against itself in a 2 settings."
   ]
  },
  {
   "cell_type": "markdown",
   "metadata": {
    "id": "jNG1OYuQAgtW"
   },
   "source": [
    "# Getting started with LangTest"
   ]
  },
  {
   "cell_type": "code",
   "execution_count": 1,
   "metadata": {
    "id": "Kfq1l9G7MaQe"
   },
   "outputs": [],
   "source": [
    "!pip install \"langtest[openai,transformers,evaluate]\""
   ]
  },
  {
   "cell_type": "markdown",
   "metadata": {
    "id": "EsEtlSiNAnSO"
   },
   "source": [
    "# Harness and Its Parameters\n",
    "\n",
    "The Harness class is a testing class for Natural Language Processing (NLP) models. It evaluates the performance of a NLP model on a given task using test data and generates a report with test results.Harness can be imported from the LangTest library in the following way."
   ]
  },
  {
   "cell_type": "code",
   "execution_count": 2,
   "metadata": {
    "executionInfo": {
     "elapsed": 5393,
     "status": "ok",
     "timestamp": 1692371469721,
     "user": {
      "displayName": "Prikshit sharma",
      "userId": "07819241395213139913"
     },
     "user_tz": -330
    },
    "id": "w2GPpdowS1C9"
   },
   "outputs": [],
   "source": [
    "#Import Harness from the LangTest library\n",
    "from langtest import Harness"
   ]
  },
  {
   "cell_type": "markdown",
   "metadata": {
    "id": "7_6PF_HGA4EO"
   },
   "source": [
    "It imports the Harness class from within the module, that is designed to provide a blueprint or framework for conducting NLP testing, and that instances of the Harness class can be customized or configured for different testing scenarios or environments.\n",
    "\n",
    "Here is a list of the different parameters that can be passed to the Harness function:\n",
    "\n",
    "<br/>\n",
    "\n",
    "\n",
    "| Parameter  | Description |  \n",
    "| - | - | \n",
    "|**task**     |Task for which the model is to be evaluated (question-answering or summarization)|\n",
    "| **model**     | Specifies the model(s) to be evaluated. This parameter can be provided as either a dictionary or a list of dictionaries. Each dictionary should contain the following keys: <ul><li>model (mandatory): \tPipelineModel or path to a saved model or pretrained pipeline/model from hub.</li><li>hub (mandatory): Hub (library) to use in back-end for loading model from public models hub or from path</li></ul>|\n",
    "| **data**      | The data to be used for evaluation. A dictionary providing flexibility and options for data sources. It should include the following keys: <ul><li>data_source (mandatory): The source of the data.</li><li>subset (optional): The subset of the data.</li><li>feature_column (optional): The column containing the features.</li><li>target_column (optional): The column containing the target labels.</li><li>split (optional): The data split to be used.</li><li>source (optional): Set to 'huggingface' when loading Hugging Face dataset.</li></ul> |\n",
    "| **config**    | Configuration for the tests to be performed, specified in the form of a YAML file. |\n",
    "\n",
    "<br/>\n",
    "<br/>"
   ]
  },
  {
   "cell_type": "markdown",
   "metadata": {
    "id": "pHJQHDcSA_CV"
   },
   "source": [
    "# OpenAI Model Testing For Question Answering\n",
    "\n",
    "In this section, we dive into testing of OpenAI models in Question Answering task.\n",
    "\n",
    "LangTest supports robustness tests for LLM testing for now."
   ]
  },
  {
   "cell_type": "code",
   "execution_count": 3,
   "metadata": {
    "executionInfo": {
     "elapsed": 986,
     "status": "ok",
     "timestamp": 1692371470685,
     "user": {
      "displayName": "Prikshit sharma",
      "userId": "07819241395213139913"
     },
     "user_tz": -330
    },
    "id": "YXVcv79JTAWA"
   },
   "outputs": [],
   "source": [
    "import os\n",
    "\n",
    "os.environ[\"OPENAI_API_KEY\"] = \"<YOUR_API_KEY>\""
   ]
  },
  {
   "cell_type": "markdown",
   "metadata": {
    "id": "2Q1uClT2kgLB"
   },
   "source": [
    "## HellaSwag\n",
    "Paper: [HellaSwag: Can a Machine Really Finish Your Sentence?](https://aclanthology.org/P19-1472/)\n",
    "\n",
    "**Dataset Summary**\n",
    "\n",
    "HellaSwag is a benchmark designed to evaluate the capacity of language models to generate contextually appropriate and plausible completions. The dataset includes sentences with contexts from WikiHow.\n",
    "\n",
    "**Data Splits**\n",
    "\n",
    "- `test` :\tTest set from the HellaSwag dataset, containing 3000 samples.\n",
    "- `test-tiny` :\t50 random samples from HellaSwag-test dataset to reduce the cost and computation time."
   ]
  },
  {
   "cell_type": "markdown",
   "metadata": {
    "id": "1WO54aEnBKK8"
   },
   "source": [
    "### Setup and Configure Harness"
   ]
  },
  {
   "cell_type": "code",
   "execution_count": 4,
   "metadata": {
    "colab": {
     "base_uri": "https://localhost:8080/"
    },
    "executionInfo": {
     "elapsed": 96,
     "status": "ok",
     "timestamp": 1692371470689,
     "user": {
      "displayName": "Prikshit sharma",
      "userId": "07819241395213139913"
     },
     "user_tz": -330
    },
    "id": "f13UydObTDRG",
    "outputId": "ca611547-a70e-4074-d618-dc6d643af577"
   },
   "outputs": [
    {
     "name": "stdout",
     "output_type": "stream",
     "text": [
      "Test Configuration : \n",
      " {\n",
      " \"model_parameters\": {\n",
      "  \"max_tokens\": 64\n",
      " },\n",
      " \"tests\": {\n",
      "  \"defaults\": {\n",
      "   \"min_pass_rate\": 1.0\n",
      "  },\n",
      "  \"robustness\": {\n",
      "   \"add_typo\": {\n",
      "    \"min_pass_rate\": 0.7\n",
      "   },\n",
      "   \"lowercase\": {\n",
      "    \"min_pass_rate\": 0.7\n",
      "   }\n",
      "  }\n",
      " }\n",
      "}\n"
     ]
    }
   ],
   "source": [
    "harness = Harness(\n",
    "                  task=\"question-answering\", \n",
    "                  model={\"model\": \"gpt-3.5-turbo-instruct\",\"hub\":\"openai\"}, \n",
    "                  data={\"data_source\" :\"HellaSwag\",\n",
    "                        \"split\":\"test-tiny\"}\n",
    "                  )\n"
   ]
  },
  {
   "cell_type": "markdown",
   "metadata": {
    "id": "djMJVtS3U3Wv"
   },
   "source": [
    "## Robustness"
   ]
  },
  {
   "cell_type": "markdown",
   "metadata": {
    "id": "NQ1KF731BW5O"
   },
   "source": [
    "For tests we used uppercase, Add Slangs. Other available robustness tests for QA task are:\n",
    "* `add_context`\n",
    "* `add_contraction`\n",
    "* `add_punctuation`\n",
    "* `add_typo`\n",
    "* `add_ocr_typo`\n",
    "* `american_to_british`\n",
    "* `british_to_american`\n",
    "* `lowercase`\n",
    "* `strip_punctuation`\n",
    "* `titlecase`\n",
    "* `uppercase`\n",
    "* `number_to_word`\n",
    "* `add_abbreviation`\n",
    "* `add_speech_to_text_typo`\n",
    "* `add_slangs`\n",
    "* `dyslexia_word_swap`\n",
    "* `multiple_perturbations`\n",
    "* `adjective_synonym_swap`\n",
    "* `adjective_antonym_swap`\n",
    "* `strip_all_punctuation`"
   ]
  },
  {
   "cell_type": "markdown",
   "metadata": {
    "id": "8VxrRAMkBf1H"
   },
   "source": [
    "You can also set prompts and other model parameters in config. Possible parameters are:\n",
    "* `user_promt:` Promt to be given to the model.\n",
    "* `temperature:` Temperature of the model.\n",
    "* `max_tokens:` Maximum number of output tokens allowed for model."
   ]
  },
  {
   "cell_type": "code",
   "execution_count": 5,
   "metadata": {
    "colab": {
     "base_uri": "https://localhost:8080/"
    },
    "executionInfo": {
     "elapsed": 101,
     "status": "ok",
     "timestamp": 1692371470701,
     "user": {
      "displayName": "Prikshit sharma",
      "userId": "07819241395213139913"
     },
     "user_tz": -330
    },
    "id": "fMFVq3mCTQ7j",
    "outputId": "846b0c1e-c4f8-4c67-d764-a864d960bc9c"
   },
   "outputs": [
    {
     "data": {
      "text/plain": [
       "{'tests': {'defaults': {'min_pass_rate': 0.65},\n",
       "  'robustness': {'uppercase': {'min_pass_rate': 0.66},\n",
       "   'add_slangs': {'min_pass_rate': 0.6}}}}"
      ]
     },
     "execution_count": 5,
     "metadata": {},
     "output_type": "execute_result"
    }
   ],
   "source": [
    "harness.configure(\n",
    "{\n",
    " 'tests': {\n",
    "    'defaults': {'min_pass_rate': 0.65},\n",
    "      'robustness': {\n",
    "        'uppercase': {'min_pass_rate': 0.66},\n",
    "        'add_slangs':{'min_pass_rate': 0.60},\n",
    "      }\n",
    "  }\n",
    "})"
   ]
  },
  {
   "cell_type": "markdown",
   "metadata": {
    "id": "Zf0f11wUMaQ_"
   },
   "source": [
    "➤ You can adjust the level of transformation in the sentence by using the \"`prob`\" parameter, which controls the proportion of words to be changed during robustness tests.\n",
    "\n",
    "➤ **NOTE** : \"`prob`\" defaults to 1.0, which means all words will be transformed.\n",
    "```\n",
    "harness.configure(\n",
    "{\n",
    " 'tests': {\n",
    "    'defaults': {'min_pass_rate': 0.65},\n",
    "      'robustness': {\n",
    "        'uppercase': {'min_pass_rate': 0.66, 'prob': 0.50},\n",
    "        'add_slangs':{'min_pass_rate': 0.60, 'prob': 0.70},\n",
    "      }\n",
    "  }\n",
    "})\n",
    "\n",
    "```"
   ]
  },
  {
   "cell_type": "markdown",
   "metadata": {
    "id": "m5IuCmiEBuW8"
   },
   "source": [
    "Here we have configured the harness to perform Five robustness tests and defined the minimum pass rate for each test."
   ]
  },
  {
   "cell_type": "code",
   "execution_count": 6,
   "metadata": {
    "executionInfo": {
     "elapsed": 91,
     "status": "ok",
     "timestamp": 1692371470704,
     "user": {
      "displayName": "Prikshit sharma",
      "userId": "07819241395213139913"
     },
     "user_tz": -330
    },
    "id": "nmHqJ_TlUg8h"
   },
   "outputs": [],
   "source": [
    "harness.data = harness.data[:10]"
   ]
  },
  {
   "cell_type": "markdown",
   "metadata": {
    "id": "nAeqBsbAB_1M"
   },
   "source": [
    "### Generating the test cases."
   ]
  },
  {
   "cell_type": "code",
   "execution_count": 7,
   "metadata": {
    "colab": {
     "base_uri": "https://localhost:8080/"
    },
    "executionInfo": {
     "elapsed": 92,
     "status": "ok",
     "timestamp": 1692371470707,
     "user": {
      "displayName": "Prikshit sharma",
      "userId": "07819241395213139913"
     },
     "user_tz": -330
    },
    "id": "CCJxFd4nUkMN",
    "outputId": "7ae31051-70c1-4e28-d3b0-4728d105f94a"
   },
   "outputs": [
    {
     "name": "stderr",
     "output_type": "stream",
     "text": [
      "Generating testcases...: 100%|██████████| 1/1 [00:00<00:00, 1000.07it/s]\n"
     ]
    },
    {
     "data": {
      "text/plain": []
     },
     "execution_count": 7,
     "metadata": {},
     "output_type": "execute_result"
    }
   ],
   "source": [
    "harness.generate()"
   ]
  },
  {
   "cell_type": "code",
   "execution_count": 8,
   "metadata": {
    "colab": {
     "base_uri": "https://localhost:8080/",
     "height": 676
    },
    "executionInfo": {
     "elapsed": 88,
     "status": "ok",
     "timestamp": 1692371470711,
     "user": {
      "displayName": "Prikshit sharma",
      "userId": "07819241395213139913"
     },
     "user_tz": -330
    },
    "id": "GVriwjmeo-H_",
    "outputId": "2a403698-4510-40c5-911e-dc0d4ef01cfe"
   },
   "outputs": [
    {
     "data": {
      "text/html": [
       "<div>\n",
       "<style scoped>\n",
       "    .dataframe tbody tr th:only-of-type {\n",
       "        vertical-align: middle;\n",
       "    }\n",
       "\n",
       "    .dataframe tbody tr th {\n",
       "        vertical-align: top;\n",
       "    }\n",
       "\n",
       "    .dataframe thead th {\n",
       "        text-align: right;\n",
       "    }\n",
       "</style>\n",
       "<table border=\"1\" class=\"dataframe\">\n",
       "  <thead>\n",
       "    <tr style=\"text-align: right;\">\n",
       "      <th></th>\n",
       "      <th>category</th>\n",
       "      <th>test_type</th>\n",
       "      <th>original_question</th>\n",
       "      <th>perturbed_question</th>\n",
       "    </tr>\n",
       "  </thead>\n",
       "  <tbody>\n",
       "    <tr>\n",
       "      <th>0</th>\n",
       "      <td>robustness</td>\n",
       "      <td>uppercase</td>\n",
       "      <td>A man is being pulled on a water ski as he flo...</td>\n",
       "      <td>A MAN IS BEING PULLED ON A WATER SKI AS HE FLO...</td>\n",
       "    </tr>\n",
       "    <tr>\n",
       "      <th>1</th>\n",
       "      <td>robustness</td>\n",
       "      <td>uppercase</td>\n",
       "      <td>A huge crowd is in the stands in an arena. A m...</td>\n",
       "      <td>A HUGE CROWD IS IN THE STANDS IN AN ARENA. A M...</td>\n",
       "    </tr>\n",
       "    <tr>\n",
       "      <th>2</th>\n",
       "      <td>robustness</td>\n",
       "      <td>uppercase</td>\n",
       "      <td>The man that threw the javelin celebrates. Ano...</td>\n",
       "      <td>THE MAN THAT THREW THE JAVELIN CELEBRATES. ANO...</td>\n",
       "    </tr>\n",
       "    <tr>\n",
       "      <th>3</th>\n",
       "      <td>robustness</td>\n",
       "      <td>uppercase</td>\n",
       "      <td>The second man to throw the javelin and a man ...</td>\n",
       "      <td>THE SECOND MAN TO THROW THE JAVELIN AND A MAN ...</td>\n",
       "    </tr>\n",
       "    <tr>\n",
       "      <th>4</th>\n",
       "      <td>robustness</td>\n",
       "      <td>uppercase</td>\n",
       "      <td>The same men run to the the javelin's landing ...</td>\n",
       "      <td>THE SAME MEN RUN TO THE THE JAVELIN'S LANDING ...</td>\n",
       "    </tr>\n",
       "    <tr>\n",
       "      <th>5</th>\n",
       "      <td>robustness</td>\n",
       "      <td>uppercase</td>\n",
       "      <td>Again, the men run to where the javelin lands....</td>\n",
       "      <td>AGAIN, THE MEN RUN TO WHERE THE JAVELIN LANDS....</td>\n",
       "    </tr>\n",
       "    <tr>\n",
       "      <th>6</th>\n",
       "      <td>robustness</td>\n",
       "      <td>uppercase</td>\n",
       "      <td>The fourth man looks disappointed looking for ...</td>\n",
       "      <td>THE FOURTH MAN LOOKS DISAPPOINTED LOOKING FOR ...</td>\n",
       "    </tr>\n",
       "    <tr>\n",
       "      <th>7</th>\n",
       "      <td>robustness</td>\n",
       "      <td>uppercase</td>\n",
       "      <td>A man puts a gold medal around the neck of the...</td>\n",
       "      <td>A MAN PUTS A GOLD MEDAL AROUND THE NECK OF THE...</td>\n",
       "    </tr>\n",
       "    <tr>\n",
       "      <th>8</th>\n",
       "      <td>robustness</td>\n",
       "      <td>uppercase</td>\n",
       "      <td>A woman is standing in her kitchen in front of...</td>\n",
       "      <td>A WOMAN IS STANDING IN HER KITCHEN IN FRONT OF...</td>\n",
       "    </tr>\n",
       "    <tr>\n",
       "      <th>9</th>\n",
       "      <td>robustness</td>\n",
       "      <td>uppercase</td>\n",
       "      <td>A woman is standing in her kitchen in front of...</td>\n",
       "      <td>A WOMAN IS STANDING IN HER KITCHEN IN FRONT OF...</td>\n",
       "    </tr>\n",
       "    <tr>\n",
       "      <th>10</th>\n",
       "      <td>robustness</td>\n",
       "      <td>add_slangs</td>\n",
       "      <td>A man is being pulled on a water ski as he flo...</td>\n",
       "      <td>A chap is being pulled on a Adam's ale ski as ...</td>\n",
       "    </tr>\n",
       "    <tr>\n",
       "      <th>11</th>\n",
       "      <td>robustness</td>\n",
       "      <td>add_slangs</td>\n",
       "      <td>A huge crowd is in the stands in an arena. A m...</td>\n",
       "      <td>A humongous crowd is in the stands in an arena...</td>\n",
       "    </tr>\n",
       "    <tr>\n",
       "      <th>12</th>\n",
       "      <td>robustness</td>\n",
       "      <td>add_slangs</td>\n",
       "      <td>The man that threw the javelin celebrates. Ano...</td>\n",
       "      <td>The chap that threw the javelin celebrates. An...</td>\n",
       "    </tr>\n",
       "    <tr>\n",
       "      <th>13</th>\n",
       "      <td>robustness</td>\n",
       "      <td>add_slangs</td>\n",
       "      <td>The second man to throw the javelin and a man ...</td>\n",
       "      <td>The second chap to throw the javelin and a blo...</td>\n",
       "    </tr>\n",
       "    <tr>\n",
       "      <th>14</th>\n",
       "      <td>robustness</td>\n",
       "      <td>add_slangs</td>\n",
       "      <td>The same men run to the the javelin's landing ...</td>\n",
       "      <td>The same men run to the the javelin's landing ...</td>\n",
       "    </tr>\n",
       "    <tr>\n",
       "      <th>15</th>\n",
       "      <td>robustness</td>\n",
       "      <td>add_slangs</td>\n",
       "      <td>Again, the men run to where the javelin lands....</td>\n",
       "      <td>Again, the men run to where the javelin lands....</td>\n",
       "    </tr>\n",
       "    <tr>\n",
       "      <th>16</th>\n",
       "      <td>robustness</td>\n",
       "      <td>add_slangs</td>\n",
       "      <td>The fourth man looks disappointed looking for ...</td>\n",
       "      <td>The fourth bloke looks gutted looking for his ...</td>\n",
       "    </tr>\n",
       "    <tr>\n",
       "      <th>17</th>\n",
       "      <td>robustness</td>\n",
       "      <td>add_slangs</td>\n",
       "      <td>A man puts a gold medal around the neck of the...</td>\n",
       "      <td>A chap puts a gold medal around the gregory of...</td>\n",
       "    </tr>\n",
       "    <tr>\n",
       "      <th>18</th>\n",
       "      <td>robustness</td>\n",
       "      <td>add_slangs</td>\n",
       "      <td>A woman is standing in her kitchen in front of...</td>\n",
       "      <td>A lass is standing in her kitchen in front of ...</td>\n",
       "    </tr>\n",
       "    <tr>\n",
       "      <th>19</th>\n",
       "      <td>robustness</td>\n",
       "      <td>add_slangs</td>\n",
       "      <td>A woman is standing in her kitchen in front of...</td>\n",
       "      <td>A lass is standing in her kitchen in front of ...</td>\n",
       "    </tr>\n",
       "  </tbody>\n",
       "</table>\n",
       "</div>"
      ],
      "text/plain": [
       "      category   test_type                                  original_question  \\\n",
       "0   robustness   uppercase  A man is being pulled on a water ski as he flo...   \n",
       "1   robustness   uppercase  A huge crowd is in the stands in an arena. A m...   \n",
       "2   robustness   uppercase  The man that threw the javelin celebrates. Ano...   \n",
       "3   robustness   uppercase  The second man to throw the javelin and a man ...   \n",
       "4   robustness   uppercase  The same men run to the the javelin's landing ...   \n",
       "5   robustness   uppercase  Again, the men run to where the javelin lands....   \n",
       "6   robustness   uppercase  The fourth man looks disappointed looking for ...   \n",
       "7   robustness   uppercase  A man puts a gold medal around the neck of the...   \n",
       "8   robustness   uppercase  A woman is standing in her kitchen in front of...   \n",
       "9   robustness   uppercase  A woman is standing in her kitchen in front of...   \n",
       "10  robustness  add_slangs  A man is being pulled on a water ski as he flo...   \n",
       "11  robustness  add_slangs  A huge crowd is in the stands in an arena. A m...   \n",
       "12  robustness  add_slangs  The man that threw the javelin celebrates. Ano...   \n",
       "13  robustness  add_slangs  The second man to throw the javelin and a man ...   \n",
       "14  robustness  add_slangs  The same men run to the the javelin's landing ...   \n",
       "15  robustness  add_slangs  Again, the men run to where the javelin lands....   \n",
       "16  robustness  add_slangs  The fourth man looks disappointed looking for ...   \n",
       "17  robustness  add_slangs  A man puts a gold medal around the neck of the...   \n",
       "18  robustness  add_slangs  A woman is standing in her kitchen in front of...   \n",
       "19  robustness  add_slangs  A woman is standing in her kitchen in front of...   \n",
       "\n",
       "                                   perturbed_question  \n",
       "0   A MAN IS BEING PULLED ON A WATER SKI AS HE FLO...  \n",
       "1   A HUGE CROWD IS IN THE STANDS IN AN ARENA. A M...  \n",
       "2   THE MAN THAT THREW THE JAVELIN CELEBRATES. ANO...  \n",
       "3   THE SECOND MAN TO THROW THE JAVELIN AND A MAN ...  \n",
       "4   THE SAME MEN RUN TO THE THE JAVELIN'S LANDING ...  \n",
       "5   AGAIN, THE MEN RUN TO WHERE THE JAVELIN LANDS....  \n",
       "6   THE FOURTH MAN LOOKS DISAPPOINTED LOOKING FOR ...  \n",
       "7   A MAN PUTS A GOLD MEDAL AROUND THE NECK OF THE...  \n",
       "8   A WOMAN IS STANDING IN HER KITCHEN IN FRONT OF...  \n",
       "9   A WOMAN IS STANDING IN HER KITCHEN IN FRONT OF...  \n",
       "10  A chap is being pulled on a Adam's ale ski as ...  \n",
       "11  A humongous crowd is in the stands in an arena...  \n",
       "12  The chap that threw the javelin celebrates. An...  \n",
       "13  The second chap to throw the javelin and a blo...  \n",
       "14  The same men run to the the javelin's landing ...  \n",
       "15  Again, the men run to where the javelin lands....  \n",
       "16  The fourth bloke looks gutted looking for his ...  \n",
       "17  A chap puts a gold medal around the gregory of...  \n",
       "18  A lass is standing in her kitchen in front of ...  \n",
       "19  A lass is standing in her kitchen in front of ...  "
      ]
     },
     "execution_count": 8,
     "metadata": {},
     "output_type": "execute_result"
    }
   ],
   "source": [
    "harness.testcases()"
   ]
  },
  {
   "cell_type": "markdown",
   "metadata": {
    "id": "ZEWchFb8CDrk"
   },
   "source": [
    "harness.generate() method automatically generates the test cases (based on the provided configuration)"
   ]
  },
  {
   "cell_type": "markdown",
   "metadata": {
    "id": "MEnLcl-OCG1O"
   },
   "source": [
    "### Running the tests"
   ]
  },
  {
   "cell_type": "code",
   "execution_count": 9,
   "metadata": {
    "colab": {
     "base_uri": "https://localhost:8080/"
    },
    "executionInfo": {
     "elapsed": 33602,
     "status": "ok",
     "timestamp": 1692371504235,
     "user": {
      "displayName": "Prikshit sharma",
      "userId": "07819241395213139913"
     },
     "user_tz": -330
    },
    "id": "gFEez-T0UlcC",
    "outputId": "d826a414-f45b-4e09-e75e-70fb919a7356"
   },
   "outputs": [
    {
     "name": "stderr",
     "output_type": "stream",
     "text": [
      "Running testcases... : 100%|██████████| 20/20 [00:36<00:00,  1.83s/it]\n"
     ]
    },
    {
     "data": {
      "text/plain": []
     },
     "execution_count": 9,
     "metadata": {},
     "output_type": "execute_result"
    }
   ],
   "source": [
    "harness.run()"
   ]
  },
  {
   "cell_type": "markdown",
   "metadata": {
    "id": "3ice4dqfCVlr"
   },
   "source": [
    "Called after harness.generate() and is to used to run all the tests.  Returns a pass/fail flag for each test."
   ]
  },
  {
   "cell_type": "markdown",
   "metadata": {
    "id": "g1NxuqveOc-t"
   },
   "source": [
    "### Generated Results"
   ]
  },
  {
   "cell_type": "code",
   "execution_count": 10,
   "metadata": {
    "colab": {
     "base_uri": "https://localhost:8080/",
     "height": 1000
    },
    "executionInfo": {
     "elapsed": 8934,
     "status": "ok",
     "timestamp": 1692371513156,
     "user": {
      "displayName": "Prikshit sharma",
      "userId": "07819241395213139913"
     },
     "user_tz": -330
    },
    "id": "ZjYBONiuYJdK",
    "outputId": "9fed64d4-fef6-486a-c666-b80814110988"
   },
   "outputs": [
    {
     "data": {
      "text/html": [
       "<div>\n",
       "<style scoped>\n",
       "    .dataframe tbody tr th:only-of-type {\n",
       "        vertical-align: middle;\n",
       "    }\n",
       "\n",
       "    .dataframe tbody tr th {\n",
       "        vertical-align: top;\n",
       "    }\n",
       "\n",
       "    .dataframe thead th {\n",
       "        text-align: right;\n",
       "    }\n",
       "</style>\n",
       "<table border=\"1\" class=\"dataframe\">\n",
       "  <thead>\n",
       "    <tr style=\"text-align: right;\">\n",
       "      <th></th>\n",
       "      <th>category</th>\n",
       "      <th>test_type</th>\n",
       "      <th>original_question</th>\n",
       "      <th>perturbed_question</th>\n",
       "      <th>expected_result</th>\n",
       "      <th>actual_result</th>\n",
       "      <th>pass</th>\n",
       "    </tr>\n",
       "  </thead>\n",
       "  <tbody>\n",
       "    <tr>\n",
       "      <th>0</th>\n",
       "      <td>robustness</td>\n",
       "      <td>uppercase</td>\n",
       "      <td>A man is being pulled on a water ski as he flo...</td>\n",
       "      <td>A MAN IS BEING PULLED ON A WATER SKI AS HE FLO...</td>\n",
       "      <td>is \\nAnswer: Enjoying the feeling of the wind...</td>\n",
       "      <td>\\nAnswer: Suddenly, the man is yanked forward ...</td>\n",
       "      <td>False</td>\n",
       "    </tr>\n",
       "    <tr>\n",
       "      <th>1</th>\n",
       "      <td>robustness</td>\n",
       "      <td>uppercase</td>\n",
       "      <td>A huge crowd is in the stands in an arena. A m...</td>\n",
       "      <td>A HUGE CROWD IS IN THE STANDS IN AN ARENA. A M...</td>\n",
       "      <td>in tracksuits\\n\\nAnswer: Stand near the track...</td>\n",
       "      <td>ARE CHEERING\\n\\nAnswer: The javelin sails thr...</td>\n",
       "      <td>False</td>\n",
       "    </tr>\n",
       "    <tr>\n",
       "      <th>2</th>\n",
       "      <td>robustness</td>\n",
       "      <td>uppercase</td>\n",
       "      <td>The man that threw the javelin celebrates. Ano...</td>\n",
       "      <td>THE MAN THAT THREW THE JAVELIN CELEBRATES. ANO...</td>\n",
       "      <td>\\nAnswer: Several men stand in a circle, watc...</td>\n",
       "      <td>ARE \\nAnswer: GATHERED AROUND THE THROWING FI...</td>\n",
       "      <td>False</td>\n",
       "    </tr>\n",
       "    <tr>\n",
       "      <th>3</th>\n",
       "      <td>robustness</td>\n",
       "      <td>uppercase</td>\n",
       "      <td>The second man to throw the javelin and a man ...</td>\n",
       "      <td>THE SECOND MAN TO THROW THE JAVELIN AND A MAN ...</td>\n",
       "      <td>\\n\\nAnswer: The same men cheer as the third ma...</td>\n",
       "      <td>\\n\\nAnswer: The same men rise to their feet in...</td>\n",
       "      <td>True</td>\n",
       "    </tr>\n",
       "    <tr>\n",
       "      <th>4</th>\n",
       "      <td>robustness</td>\n",
       "      <td>uppercase</td>\n",
       "      <td>The same men run to the the javelin's landing ...</td>\n",
       "      <td>THE SAME MEN RUN TO THE THE JAVELIN'S LANDING ...</td>\n",
       "      <td>\\nAnswer: The fourth man's javelin sailed far ...</td>\n",
       "      <td>\\n\\nAnswer: The javelin sails through the air ...</td>\n",
       "      <td>False</td>\n",
       "    </tr>\n",
       "    <tr>\n",
       "      <th>5</th>\n",
       "      <td>robustness</td>\n",
       "      <td>uppercase</td>\n",
       "      <td>Again, the men run to where the javelin lands....</td>\n",
       "      <td>AGAIN, THE MEN RUN TO WHERE THE JAVELIN LANDS....</td>\n",
       "      <td>\\n\\nAnswer: The first man to throw a javelin w...</td>\n",
       "      <td>\\n\\nThe first man to throw a javelin quickly r...</td>\n",
       "      <td>False</td>\n",
       "    </tr>\n",
       "    <tr>\n",
       "      <th>6</th>\n",
       "      <td>robustness</td>\n",
       "      <td>uppercase</td>\n",
       "      <td>The fourth man looks disappointed looking for ...</td>\n",
       "      <td>THE FOURTH MAN LOOKS DISAPPOINTED LOOKING FOR ...</td>\n",
       "      <td>\\n\\nThe third man cheers and claps, while the ...</td>\n",
       "      <td>IN A \\nAnswer: Blue shirt stands nearby, watc...</td>\n",
       "      <td>False</td>\n",
       "    </tr>\n",
       "    <tr>\n",
       "      <th>7</th>\n",
       "      <td>robustness</td>\n",
       "      <td>uppercase</td>\n",
       "      <td>A man puts a gold medal around the neck of the...</td>\n",
       "      <td>A MAN PUTS A GOLD MEDAL AROUND THE NECK OF THE...</td>\n",
       "      <td>\\nAnswer: He then turns to the third thrower a...</td>\n",
       "      <td>\\n\\nThen he moves on to congratulate the third...</td>\n",
       "      <td>False</td>\n",
       "    </tr>\n",
       "    <tr>\n",
       "      <th>8</th>\n",
       "      <td>robustness</td>\n",
       "      <td>uppercase</td>\n",
       "      <td>A woman is standing in her kitchen in front of...</td>\n",
       "      <td>A WOMAN IS STANDING IN HER KITCHEN IN FRONT OF...</td>\n",
       "      <td>\\n\\nis looking intently at a recipe, trying to...</td>\n",
       "      <td>\\n\\nReaches out her hand and picks up a knife ...</td>\n",
       "      <td>False</td>\n",
       "    </tr>\n",
       "    <tr>\n",
       "      <th>9</th>\n",
       "      <td>robustness</td>\n",
       "      <td>uppercase</td>\n",
       "      <td>A woman is standing in her kitchen in front of...</td>\n",
       "      <td>A WOMAN IS STANDING IN HER KITCHEN IN FRONT OF...</td>\n",
       "      <td>turns to the camera and says \\n\\n\"I'm making ...</td>\n",
       "      <td>\\n\\nis preparing a meal for her family using t...</td>\n",
       "      <td>False</td>\n",
       "    </tr>\n",
       "    <tr>\n",
       "      <th>10</th>\n",
       "      <td>robustness</td>\n",
       "      <td>add_slangs</td>\n",
       "      <td>A man is being pulled on a water ski as he flo...</td>\n",
       "      <td>A chap is being pulled on a Adam's ale ski as ...</td>\n",
       "      <td>\\nAnswer: Smiles widely, enjoying the feeling...</td>\n",
       "      <td>\\nAnswer: Enjoys the peacefulness of the mome...</td>\n",
       "      <td>True</td>\n",
       "    </tr>\n",
       "    <tr>\n",
       "      <th>11</th>\n",
       "      <td>robustness</td>\n",
       "      <td>add_slangs</td>\n",
       "      <td>A huge crowd is in the stands in an arena. A m...</td>\n",
       "      <td>A humongous crowd is in the stands in an arena...</td>\n",
       "      <td>compete\\n\\nAnswer: As the javelin sails throu...</td>\n",
       "      <td>\\n\\nseveral men can be seen running towards th...</td>\n",
       "      <td>True</td>\n",
       "    </tr>\n",
       "    <tr>\n",
       "      <th>12</th>\n",
       "      <td>robustness</td>\n",
       "      <td>add_slangs</td>\n",
       "      <td>The man that threw the javelin celebrates. Ano...</td>\n",
       "      <td>The chap that threw the javelin celebrates. An...</td>\n",
       "      <td>stand\\n\\nAnswer: Several men stand nearby, wa...</td>\n",
       "      <td>\\n\\nAnswer: Several men can be seen gathering ...</td>\n",
       "      <td>True</td>\n",
       "    </tr>\n",
       "    <tr>\n",
       "      <th>13</th>\n",
       "      <td>robustness</td>\n",
       "      <td>add_slangs</td>\n",
       "      <td>The second man to throw the javelin and a man ...</td>\n",
       "      <td>The second chap to throw the javelin and a blo...</td>\n",
       "      <td>\\n\\nAnswer: Both of the same men now celebrate...</td>\n",
       "      <td>\\n\\nAnswer: The same men in the stands erupt i...</td>\n",
       "      <td>True</td>\n",
       "    </tr>\n",
       "    <tr>\n",
       "      <th>14</th>\n",
       "      <td>robustness</td>\n",
       "      <td>add_slangs</td>\n",
       "      <td>The same men run to the the javelin's landing ...</td>\n",
       "      <td>The same men run to the the javelin's landing ...</td>\n",
       "      <td>\\n\\nAnswer: The javelin sailed through the air...</td>\n",
       "      <td>\\n\\nAnswer: His throw sails through the air an...</td>\n",
       "      <td>False</td>\n",
       "    </tr>\n",
       "    <tr>\n",
       "      <th>15</th>\n",
       "      <td>robustness</td>\n",
       "      <td>add_slangs</td>\n",
       "      <td>Again, the men run to where the javelin lands....</td>\n",
       "      <td>Again, the men run to where the javelin lands....</td>\n",
       "      <td>\\n\\nAnswer: Heaves it with all his might, aimi...</td>\n",
       "      <td>\\n\\nAnswer: Quickly takes the lead, a satisfie...</td>\n",
       "      <td>False</td>\n",
       "    </tr>\n",
       "    <tr>\n",
       "      <th>16</th>\n",
       "      <td>robustness</td>\n",
       "      <td>add_slangs</td>\n",
       "      <td>The fourth man looks disappointed looking for ...</td>\n",
       "      <td>The fourth bloke looks gutted looking for his ...</td>\n",
       "      <td>\\n\\nThe second man, seeing the joy of the firs...</td>\n",
       "      <td>\\n\\nAnswer: The second bloke, not to be outdon...</td>\n",
       "      <td>False</td>\n",
       "    </tr>\n",
       "    <tr>\n",
       "      <th>17</th>\n",
       "      <td>robustness</td>\n",
       "      <td>add_slangs</td>\n",
       "      <td>A man puts a gold medal around the neck of the...</td>\n",
       "      <td>A chap puts a gold medal around the gregory of...</td>\n",
       "      <td>\\n\\nHe then turns to the third thrower and pre...</td>\n",
       "      <td>\\nAnswer: He then places a bronze medal on th...</td>\n",
       "      <td>True</td>\n",
       "    </tr>\n",
       "    <tr>\n",
       "      <th>18</th>\n",
       "      <td>robustness</td>\n",
       "      <td>add_slangs</td>\n",
       "      <td>A woman is standing in her kitchen in front of...</td>\n",
       "      <td>A lass is standing in her kitchen in front of ...</td>\n",
       "      <td>\\n\\nis carefully examining the ingredients she...</td>\n",
       "      <td>\\n\\nShe reaches for a knife to begin preparing...</td>\n",
       "      <td>False</td>\n",
       "    </tr>\n",
       "    <tr>\n",
       "      <th>19</th>\n",
       "      <td>robustness</td>\n",
       "      <td>add_slangs</td>\n",
       "      <td>A woman is standing in her kitchen in front of...</td>\n",
       "      <td>A lass is standing in her kitchen in front of ...</td>\n",
       "      <td>says \"I'm going to \\nAnswer: make a delicious...</td>\n",
       "      <td>\\nShe carefully measures out the ingredients a...</td>\n",
       "      <td>False</td>\n",
       "    </tr>\n",
       "  </tbody>\n",
       "</table>\n",
       "</div>"
      ],
      "text/plain": [
       "      category   test_type                                  original_question  \\\n",
       "0   robustness   uppercase  A man is being pulled on a water ski as he flo...   \n",
       "1   robustness   uppercase  A huge crowd is in the stands in an arena. A m...   \n",
       "2   robustness   uppercase  The man that threw the javelin celebrates. Ano...   \n",
       "3   robustness   uppercase  The second man to throw the javelin and a man ...   \n",
       "4   robustness   uppercase  The same men run to the the javelin's landing ...   \n",
       "5   robustness   uppercase  Again, the men run to where the javelin lands....   \n",
       "6   robustness   uppercase  The fourth man looks disappointed looking for ...   \n",
       "7   robustness   uppercase  A man puts a gold medal around the neck of the...   \n",
       "8   robustness   uppercase  A woman is standing in her kitchen in front of...   \n",
       "9   robustness   uppercase  A woman is standing in her kitchen in front of...   \n",
       "10  robustness  add_slangs  A man is being pulled on a water ski as he flo...   \n",
       "11  robustness  add_slangs  A huge crowd is in the stands in an arena. A m...   \n",
       "12  robustness  add_slangs  The man that threw the javelin celebrates. Ano...   \n",
       "13  robustness  add_slangs  The second man to throw the javelin and a man ...   \n",
       "14  robustness  add_slangs  The same men run to the the javelin's landing ...   \n",
       "15  robustness  add_slangs  Again, the men run to where the javelin lands....   \n",
       "16  robustness  add_slangs  The fourth man looks disappointed looking for ...   \n",
       "17  robustness  add_slangs  A man puts a gold medal around the neck of the...   \n",
       "18  robustness  add_slangs  A woman is standing in her kitchen in front of...   \n",
       "19  robustness  add_slangs  A woman is standing in her kitchen in front of...   \n",
       "\n",
       "                                   perturbed_question  \\\n",
       "0   A MAN IS BEING PULLED ON A WATER SKI AS HE FLO...   \n",
       "1   A HUGE CROWD IS IN THE STANDS IN AN ARENA. A M...   \n",
       "2   THE MAN THAT THREW THE JAVELIN CELEBRATES. ANO...   \n",
       "3   THE SECOND MAN TO THROW THE JAVELIN AND A MAN ...   \n",
       "4   THE SAME MEN RUN TO THE THE JAVELIN'S LANDING ...   \n",
       "5   AGAIN, THE MEN RUN TO WHERE THE JAVELIN LANDS....   \n",
       "6   THE FOURTH MAN LOOKS DISAPPOINTED LOOKING FOR ...   \n",
       "7   A MAN PUTS A GOLD MEDAL AROUND THE NECK OF THE...   \n",
       "8   A WOMAN IS STANDING IN HER KITCHEN IN FRONT OF...   \n",
       "9   A WOMAN IS STANDING IN HER KITCHEN IN FRONT OF...   \n",
       "10  A chap is being pulled on a Adam's ale ski as ...   \n",
       "11  A humongous crowd is in the stands in an arena...   \n",
       "12  The chap that threw the javelin celebrates. An...   \n",
       "13  The second chap to throw the javelin and a blo...   \n",
       "14  The same men run to the the javelin's landing ...   \n",
       "15  Again, the men run to where the javelin lands....   \n",
       "16  The fourth bloke looks gutted looking for his ...   \n",
       "17  A chap puts a gold medal around the gregory of...   \n",
       "18  A lass is standing in her kitchen in front of ...   \n",
       "19  A lass is standing in her kitchen in front of ...   \n",
       "\n",
       "                                      expected_result  \\\n",
       "0    is \\nAnswer: Enjoying the feeling of the wind...   \n",
       "1    in tracksuits\\n\\nAnswer: Stand near the track...   \n",
       "2    \\nAnswer: Several men stand in a circle, watc...   \n",
       "3   \\n\\nAnswer: The same men cheer as the third ma...   \n",
       "4   \\nAnswer: The fourth man's javelin sailed far ...   \n",
       "5   \\n\\nAnswer: The first man to throw a javelin w...   \n",
       "6   \\n\\nThe third man cheers and claps, while the ...   \n",
       "7   \\nAnswer: He then turns to the third thrower a...   \n",
       "8   \\n\\nis looking intently at a recipe, trying to...   \n",
       "9    turns to the camera and says \\n\\n\"I'm making ...   \n",
       "10   \\nAnswer: Smiles widely, enjoying the feeling...   \n",
       "11   compete\\n\\nAnswer: As the javelin sails throu...   \n",
       "12   stand\\n\\nAnswer: Several men stand nearby, wa...   \n",
       "13  \\n\\nAnswer: Both of the same men now celebrate...   \n",
       "14  \\n\\nAnswer: The javelin sailed through the air...   \n",
       "15  \\n\\nAnswer: Heaves it with all his might, aimi...   \n",
       "16  \\n\\nThe second man, seeing the joy of the firs...   \n",
       "17  \\n\\nHe then turns to the third thrower and pre...   \n",
       "18  \\n\\nis carefully examining the ingredients she...   \n",
       "19   says \"I'm going to \\nAnswer: make a delicious...   \n",
       "\n",
       "                                        actual_result   pass  \n",
       "0   \\nAnswer: Suddenly, the man is yanked forward ...  False  \n",
       "1    ARE CHEERING\\n\\nAnswer: The javelin sails thr...  False  \n",
       "2    ARE \\nAnswer: GATHERED AROUND THE THROWING FI...  False  \n",
       "3   \\n\\nAnswer: The same men rise to their feet in...   True  \n",
       "4   \\n\\nAnswer: The javelin sails through the air ...  False  \n",
       "5   \\n\\nThe first man to throw a javelin quickly r...  False  \n",
       "6    IN A \\nAnswer: Blue shirt stands nearby, watc...  False  \n",
       "7   \\n\\nThen he moves on to congratulate the third...  False  \n",
       "8   \\n\\nReaches out her hand and picks up a knife ...  False  \n",
       "9   \\n\\nis preparing a meal for her family using t...  False  \n",
       "10   \\nAnswer: Enjoys the peacefulness of the mome...   True  \n",
       "11  \\n\\nseveral men can be seen running towards th...   True  \n",
       "12  \\n\\nAnswer: Several men can be seen gathering ...   True  \n",
       "13  \\n\\nAnswer: The same men in the stands erupt i...   True  \n",
       "14  \\n\\nAnswer: His throw sails through the air an...  False  \n",
       "15  \\n\\nAnswer: Quickly takes the lead, a satisfie...  False  \n",
       "16  \\n\\nAnswer: The second bloke, not to be outdon...  False  \n",
       "17   \\nAnswer: He then places a bronze medal on th...   True  \n",
       "18  \\n\\nShe reaches for a knife to begin preparing...  False  \n",
       "19  \\nShe carefully measures out the ingredients a...  False  "
      ]
     },
     "execution_count": 10,
     "metadata": {},
     "output_type": "execute_result"
    }
   ],
   "source": [
    "harness.generated_results()"
   ]
  },
  {
   "cell_type": "markdown",
   "metadata": {
    "id": "Gl5QGV9pCZfz"
   },
   "source": [
    "This method returns the generated results in the form of a pandas dataframe, which provides a convenient and easy-to-use format for working with the test results. You can use this method to quickly identify the test cases that failed and to determine where fixes are needed."
   ]
  },
  {
   "cell_type": "markdown",
   "metadata": {
    "id": "9fBgU33hCb2K"
   },
   "source": [
    "### Final Results\n",
    "\n",
    "We can call `.report()` which summarizes the results giving information about pass and fail counts and overall test pass/fail flag."
   ]
  },
  {
   "cell_type": "code",
   "execution_count": 11,
   "metadata": {
    "colab": {
     "base_uri": "https://localhost:8080/",
     "height": 112
    },
    "executionInfo": {
     "elapsed": 8651,
     "status": "ok",
     "timestamp": 1692371521790,
     "user": {
      "displayName": "Prikshit sharma",
      "userId": "07819241395213139913"
     },
     "user_tz": -330
    },
    "id": "nDmRw1AeUqIl",
    "outputId": "ac2fcda0-466f-4240-ab80-3ed1a063896d"
   },
   "outputs": [
    {
     "data": {
      "text/html": [
       "<div>\n",
       "<style scoped>\n",
       "    .dataframe tbody tr th:only-of-type {\n",
       "        vertical-align: middle;\n",
       "    }\n",
       "\n",
       "    .dataframe tbody tr th {\n",
       "        vertical-align: top;\n",
       "    }\n",
       "\n",
       "    .dataframe thead th {\n",
       "        text-align: right;\n",
       "    }\n",
       "</style>\n",
       "<table border=\"1\" class=\"dataframe\">\n",
       "  <thead>\n",
       "    <tr style=\"text-align: right;\">\n",
       "      <th></th>\n",
       "      <th>category</th>\n",
       "      <th>test_type</th>\n",
       "      <th>fail_count</th>\n",
       "      <th>pass_count</th>\n",
       "      <th>pass_rate</th>\n",
       "      <th>minimum_pass_rate</th>\n",
       "      <th>pass</th>\n",
       "    </tr>\n",
       "  </thead>\n",
       "  <tbody>\n",
       "    <tr>\n",
       "      <th>0</th>\n",
       "      <td>robustness</td>\n",
       "      <td>uppercase</td>\n",
       "      <td>9</td>\n",
       "      <td>1</td>\n",
       "      <td>10%</td>\n",
       "      <td>66%</td>\n",
       "      <td>False</td>\n",
       "    </tr>\n",
       "    <tr>\n",
       "      <th>1</th>\n",
       "      <td>robustness</td>\n",
       "      <td>add_slangs</td>\n",
       "      <td>5</td>\n",
       "      <td>5</td>\n",
       "      <td>50%</td>\n",
       "      <td>60%</td>\n",
       "      <td>False</td>\n",
       "    </tr>\n",
       "  </tbody>\n",
       "</table>\n",
       "</div>"
      ],
      "text/plain": [
       "     category   test_type  fail_count  pass_count pass_rate minimum_pass_rate  \\\n",
       "0  robustness   uppercase           9           1       10%               66%   \n",
       "1  robustness  add_slangs           5           5       50%               60%   \n",
       "\n",
       "    pass  \n",
       "0  False  \n",
       "1  False  "
      ]
     },
     "execution_count": 11,
     "metadata": {},
     "output_type": "execute_result"
    }
   ],
   "source": [
    "harness.report()"
   ]
  },
  {
   "cell_type": "markdown",
   "metadata": {
    "id": "IULGQtWAWp4L"
   },
   "source": [
    "## Fairness"
   ]
  },
  {
   "cell_type": "markdown",
   "metadata": {
    "id": "z85d594ZGXyX"
   },
   "source": [
    "Available Fairness tests for QA task are:\n",
    "\n",
    "* `max_gender_rouge1_score`\n",
    "* `max_gender_rouge2_score`\n",
    "* `max_gender_rougeL_score`\n",
    "* `max_gender_rougeLsum_score`\n",
    "* `min_gender_rouge1_score`\n",
    "* `min_gender_rouge2_score`\n",
    "* `min_gender_rougeL_score`\n",
    "* `min_gender_rougeLsum_score`"
   ]
  },
  {
   "cell_type": "code",
   "execution_count": 12,
   "metadata": {
    "colab": {
     "base_uri": "https://localhost:8080/"
    },
    "executionInfo": {
     "elapsed": 54,
     "status": "ok",
     "timestamp": 1692371521792,
     "user": {
      "displayName": "Prikshit sharma",
      "userId": "07819241395213139913"
     },
     "user_tz": -330
    },
    "id": "OoMGAn_FWpaP",
    "outputId": "d4d9186f-6381-40b5-b616-8392292ff534"
   },
   "outputs": [
    {
     "name": "stdout",
     "output_type": "stream",
     "text": [
      "Test Configuration : \n",
      " {\n",
      " \"model_parameters\": {\n",
      "  \"max_tokens\": 64\n",
      " },\n",
      " \"tests\": {\n",
      "  \"defaults\": {\n",
      "   \"min_pass_rate\": 1.0\n",
      "  },\n",
      "  \"robustness\": {\n",
      "   \"add_typo\": {\n",
      "    \"min_pass_rate\": 0.7\n",
      "   },\n",
      "   \"lowercase\": {\n",
      "    \"min_pass_rate\": 0.7\n",
      "   }\n",
      "  }\n",
      " }\n",
      "}\n"
     ]
    }
   ],
   "source": [
    "harness = Harness(\n",
    "                  task=\"question-answering\", \n",
    "                  model={\"model\": \"gpt-3.5-turbo-instruct\",\"hub\":\"openai\"}, \n",
    "                  data={\"data_source\" :\"HellaSwag\",\n",
    "                        \"split\":\"test-tiny\"}\n",
    "                  )\n"
   ]
  },
  {
   "cell_type": "code",
   "execution_count": 13,
   "metadata": {
    "colab": {
     "base_uri": "https://localhost:8080/"
    },
    "executionInfo": {
     "elapsed": 47,
     "status": "ok",
     "timestamp": 1692371521795,
     "user": {
      "displayName": "Prikshit sharma",
      "userId": "07819241395213139913"
     },
     "user_tz": -330
    },
    "id": "45-rhwhTXMWb",
    "outputId": "a5f11c21-fc81-44e4-c6aa-743f1bc8f289"
   },
   "outputs": [
    {
     "data": {
      "text/plain": [
       "{'tests': {'defaults': {'min_pass_rate': 0.65},\n",
       "  'fairness': {'min_gender_rougeL_score': {'min_score': 0.66},\n",
       "   'max_gender_rougeLsum_score': {'max_score': 0.66}}}}"
      ]
     },
     "execution_count": 13,
     "metadata": {},
     "output_type": "execute_result"
    }
   ],
   "source": [
    "harness.configure(\n",
    "{\n",
    " 'tests': {\n",
    "    'defaults': {'min_pass_rate': 0.65},\n",
    "    'fairness': {\n",
    "      'min_gender_rougeL_score': {'min_score': 0.66},\n",
    "      'max_gender_rougeLsum_score': {'max_score': 0.66},\n",
    "    }\n",
    "  }\n",
    "})"
   ]
  },
  {
   "cell_type": "markdown",
   "metadata": {
    "id": "dw85pgowGx8t"
   },
   "source": [
    "### Generating the Test Cases"
   ]
  },
  {
   "cell_type": "code",
   "execution_count": 14,
   "metadata": {
    "colab": {
     "base_uri": "https://localhost:8080/"
    },
    "executionInfo": {
     "elapsed": 42,
     "status": "ok",
     "timestamp": 1692371521798,
     "user": {
      "displayName": "Prikshit sharma",
      "userId": "07819241395213139913"
     },
     "user_tz": -330
    },
    "id": "F2p1pXfoXzND",
    "outputId": "9b0ceda9-6d7a-4b1c-db0d-4c8bc7e77110"
   },
   "outputs": [
    {
     "name": "stderr",
     "output_type": "stream",
     "text": [
      "Generating testcases...: 100%|██████████| 1/1 [00:00<?, ?it/s]\n"
     ]
    },
    {
     "data": {
      "text/plain": []
     },
     "execution_count": 14,
     "metadata": {},
     "output_type": "execute_result"
    }
   ],
   "source": [
    "harness.generate()"
   ]
  },
  {
   "cell_type": "code",
   "execution_count": 15,
   "metadata": {
    "colab": {
     "base_uri": "https://localhost:8080/",
     "height": 237
    },
    "executionInfo": {
     "elapsed": 32,
     "status": "ok",
     "timestamp": 1692371521799,
     "user": {
      "displayName": "Prikshit sharma",
      "userId": "07819241395213139913"
     },
     "user_tz": -330
    },
    "id": "vJZxMYyKX0Pe",
    "outputId": "4ca14831-05cf-4074-81ce-eec85816b900"
   },
   "outputs": [
    {
     "data": {
      "text/html": [
       "<div>\n",
       "<style scoped>\n",
       "    .dataframe tbody tr th:only-of-type {\n",
       "        vertical-align: middle;\n",
       "    }\n",
       "\n",
       "    .dataframe tbody tr th {\n",
       "        vertical-align: top;\n",
       "    }\n",
       "\n",
       "    .dataframe thead th {\n",
       "        text-align: right;\n",
       "    }\n",
       "</style>\n",
       "<table border=\"1\" class=\"dataframe\">\n",
       "  <thead>\n",
       "    <tr style=\"text-align: right;\">\n",
       "      <th></th>\n",
       "      <th>category</th>\n",
       "      <th>test_type</th>\n",
       "      <th>test_case</th>\n",
       "    </tr>\n",
       "  </thead>\n",
       "  <tbody>\n",
       "    <tr>\n",
       "      <th>0</th>\n",
       "      <td>fairness</td>\n",
       "      <td>min_gender_rougeL_score</td>\n",
       "      <td>male</td>\n",
       "    </tr>\n",
       "    <tr>\n",
       "      <th>1</th>\n",
       "      <td>fairness</td>\n",
       "      <td>min_gender_rougeL_score</td>\n",
       "      <td>female</td>\n",
       "    </tr>\n",
       "    <tr>\n",
       "      <th>2</th>\n",
       "      <td>fairness</td>\n",
       "      <td>min_gender_rougeL_score</td>\n",
       "      <td>unknown</td>\n",
       "    </tr>\n",
       "    <tr>\n",
       "      <th>3</th>\n",
       "      <td>fairness</td>\n",
       "      <td>max_gender_rougeLsum_score</td>\n",
       "      <td>male</td>\n",
       "    </tr>\n",
       "    <tr>\n",
       "      <th>4</th>\n",
       "      <td>fairness</td>\n",
       "      <td>max_gender_rougeLsum_score</td>\n",
       "      <td>female</td>\n",
       "    </tr>\n",
       "    <tr>\n",
       "      <th>5</th>\n",
       "      <td>fairness</td>\n",
       "      <td>max_gender_rougeLsum_score</td>\n",
       "      <td>unknown</td>\n",
       "    </tr>\n",
       "  </tbody>\n",
       "</table>\n",
       "</div>"
      ],
      "text/plain": [
       "   category                   test_type test_case\n",
       "0  fairness     min_gender_rougeL_score      male\n",
       "1  fairness     min_gender_rougeL_score    female\n",
       "2  fairness     min_gender_rougeL_score   unknown\n",
       "3  fairness  max_gender_rougeLsum_score      male\n",
       "4  fairness  max_gender_rougeLsum_score    female\n",
       "5  fairness  max_gender_rougeLsum_score   unknown"
      ]
     },
     "execution_count": 15,
     "metadata": {},
     "output_type": "execute_result"
    }
   ],
   "source": [
    "harness.testcases()"
   ]
  },
  {
   "cell_type": "markdown",
   "metadata": {
    "id": "zSgEmwr7G2Xl"
   },
   "source": [
    "### Running the tests"
   ]
  },
  {
   "cell_type": "code",
   "execution_count": 16,
   "metadata": {
    "colab": {
     "base_uri": "https://localhost:8080/",
     "height": 181,
     "referenced_widgets": [
      "a5865051b0e6493e9b1c52c8b68cdc01",
      "1dc51983ad0b44f3a3952518a8cf29cc",
      "86314a7d1c5b4a33a587a5adaebbcf65",
      "5260c75dafa24778a8ad471157150d1f",
      "b5fc53e21c8d4a83861984324daf70df",
      "a3c28dc4aa4e4ff5949e2619ce15b1ad",
      "806242b077a54490bfb8b651a920731e",
      "049504a8a56d4cb7b4d862c3930797f5",
      "d6f4e3fb37684f769131108e6a0b8854",
      "2788750897444c4daca761d66faedcf9",
      "b8f5881762cd4c8cbb8ee49ceaef0a79",
      "3a2524723f584f2da1583bb00fb4c9fa",
      "a98b7adbcd2f45c894fd035915ab9a73",
      "878863b01bb74868b9d7ebaa65fd94a9",
      "3e26347e114d409abd07d9fddc8fb066",
      "555ed32560414647a2561e5c9b806766",
      "afee4fb69ef84c3691fe8b653fef0a3b",
      "ca87ddf2ed2443948df07ab511fbbecc",
      "6cdbcea242744ae89229986a260659ff",
      "ebfcd48e2b724ec5a2aa9982791c6589",
      "f33329552f0c48ccaec4533c372fa713",
      "a12935b4d6f041bdb9aa953870dfcaff",
      "00277aa0835b4a5da167be14e0d0b7ec",
      "a51b5e1dd06544aa8c13fee2826f073a",
      "603fe5a31b864cdcaaac7bc52d26b819",
      "fb2f7a17ab3a426192df3873b88558fc",
      "8ef4f96480ab473ea3ebbf3388bba9bd",
      "89fd469c15484b8492d47904bc9e9f7d",
      "d2123de867634dac9e122dd0225ac669",
      "ea3ec3b1618647bda479abd5cfcd6e65",
      "f521ffa26da041cc9150430b3fe34cf8",
      "857ca69524e445d1a63fbb92a2a43cde",
      "7f43404171d34bb48dda4fa80cd21341",
      "17fc2b0a120d49d58471f48712787ad1",
      "5652e20d5ee34a6c86d849549eecb7bf",
      "5334dfa3b4134925b0f04f13379433f7",
      "c2765d706eae4dd2ad367a3782baad0d",
      "bfc06e917a5f450b80fb33235ee086da",
      "1ff135cf79f44ae7bb355da28c807578",
      "f99cfb6a13ca4f7997bd4e31b16c2f65",
      "bfe860d142b84e2caaf9241607de2552",
      "dccb19335e9b40efa0d5072a30338b44",
      "61f28152be1848e3bc914e13152410a6",
      "aed90f4c63874a56920af088380932a3"
     ]
    },
    "executionInfo": {
     "elapsed": 63031,
     "status": "ok",
     "timestamp": 1692371584801,
     "user": {
      "displayName": "Prikshit sharma",
      "userId": "07819241395213139913"
     },
     "user_tz": -330
    },
    "id": "marZgGMEX2F1",
    "outputId": "07bee045-ba50-43c3-9854-8ab271800db8"
   },
   "outputs": [
    {
     "name": "stderr",
     "output_type": "stream",
     "text": [
      "Running testcases... :   0%|          | 0/6 [00:00<?, ?it/s]"
     ]
    },
    {
     "name": "stderr",
     "output_type": "stream",
     "text": [
      "Running testcases... : 100%|██████████| 6/6 [00:56<00:00,  4.63s/it]"
     ]
    },
    {
     "data": {
      "text/plain": []
     },
     "execution_count": 16,
     "metadata": {},
     "output_type": "execute_result"
    }
   ],
   "source": [
    "harness.run()"
   ]
  },
  {
   "cell_type": "markdown",
   "metadata": {
    "id": "syaSCLsQIGiV"
   },
   "source": [
    "### Generated Results"
   ]
  },
  {
   "cell_type": "code",
   "execution_count": 17,
   "metadata": {
    "colab": {
     "base_uri": "https://localhost:8080/",
     "height": 237
    },
    "executionInfo": {
     "elapsed": 92,
     "status": "ok",
     "timestamp": 1692371584803,
     "user": {
      "displayName": "Prikshit sharma",
      "userId": "07819241395213139913"
     },
     "user_tz": -330
    },
    "id": "ZoI8_JUBX4XC",
    "outputId": "ba4fd078-9765-4259-8888-e7c3fd66fd6a"
   },
   "outputs": [
    {
     "data": {
      "text/html": [
       "<div>\n",
       "<style scoped>\n",
       "    .dataframe tbody tr th:only-of-type {\n",
       "        vertical-align: middle;\n",
       "    }\n",
       "\n",
       "    .dataframe tbody tr th {\n",
       "        vertical-align: top;\n",
       "    }\n",
       "\n",
       "    .dataframe thead th {\n",
       "        text-align: right;\n",
       "    }\n",
       "</style>\n",
       "<table border=\"1\" class=\"dataframe\">\n",
       "  <thead>\n",
       "    <tr style=\"text-align: right;\">\n",
       "      <th></th>\n",
       "      <th>category</th>\n",
       "      <th>test_type</th>\n",
       "      <th>test_case</th>\n",
       "      <th>expected_result</th>\n",
       "      <th>actual_result</th>\n",
       "      <th>pass</th>\n",
       "    </tr>\n",
       "  </thead>\n",
       "  <tbody>\n",
       "    <tr>\n",
       "      <th>0</th>\n",
       "      <td>fairness</td>\n",
       "      <td>min_gender_rougeL_score</td>\n",
       "      <td>male</td>\n",
       "      <td>0.66</td>\n",
       "      <td>0.225262</td>\n",
       "      <td>False</td>\n",
       "    </tr>\n",
       "    <tr>\n",
       "      <th>1</th>\n",
       "      <td>fairness</td>\n",
       "      <td>min_gender_rougeL_score</td>\n",
       "      <td>female</td>\n",
       "      <td>0.66</td>\n",
       "      <td>0.226833</td>\n",
       "      <td>False</td>\n",
       "    </tr>\n",
       "    <tr>\n",
       "      <th>2</th>\n",
       "      <td>fairness</td>\n",
       "      <td>min_gender_rougeL_score</td>\n",
       "      <td>unknown</td>\n",
       "      <td>0.66</td>\n",
       "      <td>0.201649</td>\n",
       "      <td>False</td>\n",
       "    </tr>\n",
       "    <tr>\n",
       "      <th>3</th>\n",
       "      <td>fairness</td>\n",
       "      <td>max_gender_rougeLsum_score</td>\n",
       "      <td>male</td>\n",
       "      <td>0.66</td>\n",
       "      <td>0.226112</td>\n",
       "      <td>True</td>\n",
       "    </tr>\n",
       "    <tr>\n",
       "      <th>4</th>\n",
       "      <td>fairness</td>\n",
       "      <td>max_gender_rougeLsum_score</td>\n",
       "      <td>female</td>\n",
       "      <td>0.66</td>\n",
       "      <td>0.223813</td>\n",
       "      <td>True</td>\n",
       "    </tr>\n",
       "    <tr>\n",
       "      <th>5</th>\n",
       "      <td>fairness</td>\n",
       "      <td>max_gender_rougeLsum_score</td>\n",
       "      <td>unknown</td>\n",
       "      <td>0.66</td>\n",
       "      <td>0.203270</td>\n",
       "      <td>True</td>\n",
       "    </tr>\n",
       "  </tbody>\n",
       "</table>\n",
       "</div>"
      ],
      "text/plain": [
       "   category                   test_type test_case  expected_result  \\\n",
       "0  fairness     min_gender_rougeL_score      male             0.66   \n",
       "1  fairness     min_gender_rougeL_score    female             0.66   \n",
       "2  fairness     min_gender_rougeL_score   unknown             0.66   \n",
       "3  fairness  max_gender_rougeLsum_score      male             0.66   \n",
       "4  fairness  max_gender_rougeLsum_score    female             0.66   \n",
       "5  fairness  max_gender_rougeLsum_score   unknown             0.66   \n",
       "\n",
       "   actual_result   pass  \n",
       "0       0.225262  False  \n",
       "1       0.226833  False  \n",
       "2       0.201649  False  \n",
       "3       0.226112   True  \n",
       "4       0.223813   True  \n",
       "5       0.203270   True  "
      ]
     },
     "execution_count": 17,
     "metadata": {},
     "output_type": "execute_result"
    }
   ],
   "source": [
    "harness.generated_results()"
   ]
  },
  {
   "cell_type": "markdown",
   "metadata": {
    "id": "o39sXReLG7K9"
   },
   "source": [
    "### Final Results"
   ]
  },
  {
   "cell_type": "code",
   "execution_count": 18,
   "metadata": {
    "colab": {
     "base_uri": "https://localhost:8080/",
     "height": 112
    },
    "executionInfo": {
     "elapsed": 84,
     "status": "ok",
     "timestamp": 1692371584805,
     "user": {
      "displayName": "Prikshit sharma",
      "userId": "07819241395213139913"
     },
     "user_tz": -330
    },
    "id": "AiyJ7SyJYC9V",
    "outputId": "ea39ae05-b4bc-4e7e-ac49-5e52c98752e7"
   },
   "outputs": [
    {
     "data": {
      "text/html": [
       "<div>\n",
       "<style scoped>\n",
       "    .dataframe tbody tr th:only-of-type {\n",
       "        vertical-align: middle;\n",
       "    }\n",
       "\n",
       "    .dataframe tbody tr th {\n",
       "        vertical-align: top;\n",
       "    }\n",
       "\n",
       "    .dataframe thead th {\n",
       "        text-align: right;\n",
       "    }\n",
       "</style>\n",
       "<table border=\"1\" class=\"dataframe\">\n",
       "  <thead>\n",
       "    <tr style=\"text-align: right;\">\n",
       "      <th></th>\n",
       "      <th>category</th>\n",
       "      <th>test_type</th>\n",
       "      <th>fail_count</th>\n",
       "      <th>pass_count</th>\n",
       "      <th>pass_rate</th>\n",
       "      <th>minimum_pass_rate</th>\n",
       "      <th>pass</th>\n",
       "    </tr>\n",
       "  </thead>\n",
       "  <tbody>\n",
       "    <tr>\n",
       "      <th>0</th>\n",
       "      <td>fairness</td>\n",
       "      <td>min_gender_rougeL_score</td>\n",
       "      <td>3</td>\n",
       "      <td>0</td>\n",
       "      <td>0%</td>\n",
       "      <td>65%</td>\n",
       "      <td>False</td>\n",
       "    </tr>\n",
       "    <tr>\n",
       "      <th>1</th>\n",
       "      <td>fairness</td>\n",
       "      <td>max_gender_rougeLsum_score</td>\n",
       "      <td>0</td>\n",
       "      <td>3</td>\n",
       "      <td>100%</td>\n",
       "      <td>65%</td>\n",
       "      <td>True</td>\n",
       "    </tr>\n",
       "  </tbody>\n",
       "</table>\n",
       "</div>"
      ],
      "text/plain": [
       "   category                   test_type  fail_count  pass_count pass_rate  \\\n",
       "0  fairness     min_gender_rougeL_score           3           0        0%   \n",
       "1  fairness  max_gender_rougeLsum_score           0           3      100%   \n",
       "\n",
       "  minimum_pass_rate   pass  \n",
       "0               65%  False  \n",
       "1               65%   True  "
      ]
     },
     "execution_count": 18,
     "metadata": {},
     "output_type": "execute_result"
    }
   ],
   "source": [
    "harness.report()"
   ]
  },
  {
   "cell_type": "markdown",
   "metadata": {
    "id": "0jSkCQudYh3F"
   },
   "source": [
    "## Accuracy"
   ]
  },
  {
   "cell_type": "markdown",
   "metadata": {
    "id": "YwAzCAHkGd0X"
   },
   "source": [
    "Available Accuracy tests for QA task are:\n",
    "\n",
    "* `min_exact_match_score`\n",
    "* `min_bleu_score`\n",
    "* `min_rouge1_score`\n",
    "* `min_rouge2_score`\n",
    "* `min_rougeL_score`\n",
    "* `min_rougeLsum_score`"
   ]
  },
  {
   "cell_type": "code",
   "execution_count": 19,
   "metadata": {
    "colab": {
     "base_uri": "https://localhost:8080/"
    },
    "executionInfo": {
     "elapsed": 80,
     "status": "ok",
     "timestamp": 1692371584807,
     "user": {
      "displayName": "Prikshit sharma",
      "userId": "07819241395213139913"
     },
     "user_tz": -330
    },
    "id": "qG3UX5c-YgJn",
    "outputId": "e624c1ef-a5bd-406e-e52e-0ba57b700d92"
   },
   "outputs": [
    {
     "name": "stdout",
     "output_type": "stream",
     "text": [
      "Test Configuration : \n",
      " {\n",
      " \"model_parameters\": {\n",
      "  \"max_tokens\": 64\n",
      " },\n",
      " \"tests\": {\n",
      "  \"defaults\": {\n",
      "   \"min_pass_rate\": 1.0\n",
      "  },\n",
      "  \"robustness\": {\n",
      "   \"add_typo\": {\n",
      "    \"min_pass_rate\": 0.7\n",
      "   },\n",
      "   \"lowercase\": {\n",
      "    \"min_pass_rate\": 0.7\n",
      "   }\n",
      "  }\n",
      " }\n",
      "}\n"
     ]
    }
   ],
   "source": [
    "harness = Harness(\n",
    "                  task=\"question-answering\", \n",
    "                  model={\"model\": \"gpt-3.5-turbo-instruct\",\"hub\":\"openai\"}, \n",
    "                  data={\"data_source\" :\"HellaSwag\",\n",
    "                        \"split\":\"test-tiny\"}\n",
    "                  )\n"
   ]
  },
  {
   "cell_type": "code",
   "execution_count": 20,
   "metadata": {
    "colab": {
     "base_uri": "https://localhost:8080/"
    },
    "executionInfo": {
     "elapsed": 75,
     "status": "ok",
     "timestamp": 1692371584810,
     "user": {
      "displayName": "Prikshit sharma",
      "userId": "07819241395213139913"
     },
     "user_tz": -330
    },
    "id": "KuLxNXwXYl2z",
    "outputId": "2c139828-88b4-4046-e3dc-eaf6f760b065"
   },
   "outputs": [
    {
     "data": {
      "text/plain": [
       "{'tests': {'defaults': {'min_pass_rate': 0.65},\n",
       "  'accuracy': {'min_exact_match_score': {'min_score': 0.8},\n",
       "   'min_rouge2_score': {'min_score': 0.8},\n",
       "   'min_rougeL_score': {'min_score': 0.8},\n",
       "   'min_bleu_score': {'min_score': 0.8}}}}"
      ]
     },
     "execution_count": 20,
     "metadata": {},
     "output_type": "execute_result"
    }
   ],
   "source": [
    "harness.configure(\n",
    "{\n",
    " 'tests': {\n",
    "    'defaults': {'min_pass_rate': 0.65},\n",
    "    'accuracy': {\n",
    "        'min_exact_match_score': {'min_score': 0.80},\n",
    "        'min_rouge2_score':{'min_score': 0.80},\n",
    "        'min_rougeL_score':{'min_score': 0.80},\n",
    "        'min_bleu_score':{'min_score': 0.80},\n",
    "    }\n",
    "  }\n",
    "})"
   ]
  },
  {
   "cell_type": "markdown",
   "metadata": {
    "id": "hd6BEnBtHyME"
   },
   "source": [
    "### Generating the test cases."
   ]
  },
  {
   "cell_type": "code",
   "execution_count": 21,
   "metadata": {
    "colab": {
     "base_uri": "https://localhost:8080/"
    },
    "executionInfo": {
     "elapsed": 73,
     "status": "ok",
     "timestamp": 1692371584817,
     "user": {
      "displayName": "Prikshit sharma",
      "userId": "07819241395213139913"
     },
     "user_tz": -330
    },
    "id": "4_wMTSmbYqTa",
    "outputId": "6416f922-4a73-4e2e-c497-5c68e5899348"
   },
   "outputs": [
    {
     "name": "stderr",
     "output_type": "stream",
     "text": [
      "Generating testcases...: 100%|██████████| 1/1 [00:00<00:00, 1001.51it/s]\n"
     ]
    },
    {
     "data": {
      "text/plain": []
     },
     "execution_count": 21,
     "metadata": {},
     "output_type": "execute_result"
    }
   ],
   "source": [
    "harness.generate()"
   ]
  },
  {
   "cell_type": "code",
   "execution_count": 22,
   "metadata": {
    "colab": {
     "base_uri": "https://localhost:8080/",
     "height": 175
    },
    "executionInfo": {
     "elapsed": 64,
     "status": "ok",
     "timestamp": 1692371584820,
     "user": {
      "displayName": "Prikshit sharma",
      "userId": "07819241395213139913"
     },
     "user_tz": -330
    },
    "id": "W28l71dScgG0",
    "outputId": "ad84e1cc-2aac-4922-9e6e-047f8c1994f4"
   },
   "outputs": [
    {
     "data": {
      "text/html": [
       "<div>\n",
       "<style scoped>\n",
       "    .dataframe tbody tr th:only-of-type {\n",
       "        vertical-align: middle;\n",
       "    }\n",
       "\n",
       "    .dataframe tbody tr th {\n",
       "        vertical-align: top;\n",
       "    }\n",
       "\n",
       "    .dataframe thead th {\n",
       "        text-align: right;\n",
       "    }\n",
       "</style>\n",
       "<table border=\"1\" class=\"dataframe\">\n",
       "  <thead>\n",
       "    <tr style=\"text-align: right;\">\n",
       "      <th></th>\n",
       "      <th>category</th>\n",
       "      <th>test_type</th>\n",
       "    </tr>\n",
       "  </thead>\n",
       "  <tbody>\n",
       "    <tr>\n",
       "      <th>0</th>\n",
       "      <td>accuracy</td>\n",
       "      <td>min_exact_match_score</td>\n",
       "    </tr>\n",
       "    <tr>\n",
       "      <th>1</th>\n",
       "      <td>accuracy</td>\n",
       "      <td>min_rouge2_score</td>\n",
       "    </tr>\n",
       "    <tr>\n",
       "      <th>2</th>\n",
       "      <td>accuracy</td>\n",
       "      <td>min_rougeL_score</td>\n",
       "    </tr>\n",
       "    <tr>\n",
       "      <th>3</th>\n",
       "      <td>accuracy</td>\n",
       "      <td>min_bleu_score</td>\n",
       "    </tr>\n",
       "  </tbody>\n",
       "</table>\n",
       "</div>"
      ],
      "text/plain": [
       "   category              test_type\n",
       "0  accuracy  min_exact_match_score\n",
       "1  accuracy       min_rouge2_score\n",
       "2  accuracy       min_rougeL_score\n",
       "3  accuracy         min_bleu_score"
      ]
     },
     "execution_count": 22,
     "metadata": {},
     "output_type": "execute_result"
    }
   ],
   "source": [
    "harness.testcases()"
   ]
  },
  {
   "cell_type": "markdown",
   "metadata": {
    "id": "UsbsuknXH0ue"
   },
   "source": [
    "### Running the tests"
   ]
  },
  {
   "cell_type": "code",
   "execution_count": 23,
   "metadata": {
    "colab": {
     "base_uri": "https://localhost:8080/",
     "height": 200,
     "referenced_widgets": [
      "2c76fb5515eb4199bf49a033c6786dda",
      "619a7eedc5f445f5aaf02c476f102ac7",
      "fe9a6a822b4448c19cbdcef0d24edb40",
      "3279f97bf107490c9124d5a5ea2c0d70",
      "56de53612dc0494e9c5a957e98149bf1",
      "0348e4782c39493cb0db54d1799d9e5e",
      "bc24f7e3225d477db0304299131a1b75",
      "ca3c959c36ed4ffd99317d2985c04708",
      "dcc41c5daaee4443821f66b4eaef006c",
      "6307eed67d804587b9d1795dc3a45bb2",
      "d9a3347014df41958cb7ff8cd55f1bc1",
      "fb6f58781e184f328bde1ddfe5db93cf",
      "3cefb05e4e95492bb64b74fb4c7821c6",
      "4fdc1b9447a84abc9a3cb76541258b7e",
      "8caa24aeef00469382e892921d5d85f5",
      "7705dce819e143fb8896b51cfa1b0350",
      "43844863851c47c6bc8cc10214b05b96",
      "109f0694996d4d0684afdede524ab517",
      "424d1ed5764144baa8a3c0354c9070c0",
      "9dabd2a5acbb4daf8ef8048b1904b311",
      "b0385a30a0504796afaf20baf43b2b80",
      "b9f30a961fe74f28a800336e250170a8",
      "8be5603bd7bb4fc3aeb1cfd6bbea87c5",
      "ff311d59e9d84351818be86b950448fe",
      "da41106e5caa4c71ad59a7ac0c0c77d1",
      "67c14c523a844790b3f01629e49cd6ff",
      "53ef788cd7b14da0bc7d6054cfbb2fd2",
      "a13e7d1e4dd24849be112a9a3a72c502",
      "8f08a4e7a028419f8064b3a3e3d44524",
      "c93113e752fa49c6b8eae46deeed3660",
      "fec191fedd86425a8482d0e53688fc53",
      "fff6d647683046109a1bfe1362b7e42a",
      "0796c53cde67423383787c1d018153bf",
      "9edd7e7ff7f444c19132ebbbc004496c",
      "6d47ccf28d574ee187ca2128efa0f0e4",
      "127b6585de4641a1bbcde1752cfdd574",
      "0ecb91f872414a84a3c6b3fbbb4a6721",
      "cf360b3bb6f94fa48515f5c86f1e4a0e",
      "584b852473904e47bcb0ff120b354235",
      "6f8ead78942d40359c81f626cb7f3fe0",
      "29fcb896c20e4dffb6f3cc904b13b9e9",
      "c6e7c27449814ac8bc81c0719f3d2f5d",
      "5d0c495c092f4298b32460e49d9ababc",
      "c88938daf6904651914e7ad923bdea87"
     ]
    },
    "executionInfo": {
     "elapsed": 45801,
     "status": "ok",
     "timestamp": 1692371630560,
     "user": {
      "displayName": "Prikshit sharma",
      "userId": "07819241395213139913"
     },
     "user_tz": -330
    },
    "id": "PxeBTKR9chtd",
    "outputId": "d609a777-6df0-46bf-890b-bca0e5b89081"
   },
   "outputs": [
    {
     "name": "stderr",
     "output_type": "stream",
     "text": [
      "Running testcases... : 100%|██████████| 4/4 [00:55<00:00, 13.79s/it]\n"
     ]
    },
    {
     "data": {
      "text/plain": []
     },
     "execution_count": 23,
     "metadata": {},
     "output_type": "execute_result"
    }
   ],
   "source": [
    "harness.run()"
   ]
  },
  {
   "cell_type": "markdown",
   "metadata": {
    "id": "LDYWRg6DIC4B"
   },
   "source": [
    "### Generated Results"
   ]
  },
  {
   "cell_type": "code",
   "execution_count": 24,
   "metadata": {
    "colab": {
     "base_uri": "https://localhost:8080/",
     "height": 175
    },
    "executionInfo": {
     "elapsed": 50,
     "status": "ok",
     "timestamp": 1692371630561,
     "user": {
      "displayName": "Prikshit sharma",
      "userId": "07819241395213139913"
     },
     "user_tz": -330
    },
    "id": "xzjd-oQvcji8",
    "outputId": "8c943801-b1c0-46ba-adba-406d4e658a37"
   },
   "outputs": [
    {
     "data": {
      "text/html": [
       "<div>\n",
       "<style scoped>\n",
       "    .dataframe tbody tr th:only-of-type {\n",
       "        vertical-align: middle;\n",
       "    }\n",
       "\n",
       "    .dataframe tbody tr th {\n",
       "        vertical-align: top;\n",
       "    }\n",
       "\n",
       "    .dataframe thead th {\n",
       "        text-align: right;\n",
       "    }\n",
       "</style>\n",
       "<table border=\"1\" class=\"dataframe\">\n",
       "  <thead>\n",
       "    <tr style=\"text-align: right;\">\n",
       "      <th></th>\n",
       "      <th>category</th>\n",
       "      <th>test_type</th>\n",
       "      <th>expected_result</th>\n",
       "      <th>actual_result</th>\n",
       "      <th>pass</th>\n",
       "    </tr>\n",
       "  </thead>\n",
       "  <tbody>\n",
       "    <tr>\n",
       "      <th>0</th>\n",
       "      <td>accuracy</td>\n",
       "      <td>min_exact_match_score</td>\n",
       "      <td>0.8</td>\n",
       "      <td>0.000000</td>\n",
       "      <td>False</td>\n",
       "    </tr>\n",
       "    <tr>\n",
       "      <th>1</th>\n",
       "      <td>accuracy</td>\n",
       "      <td>min_rouge2_score</td>\n",
       "      <td>0.8</td>\n",
       "      <td>0.050087</td>\n",
       "      <td>False</td>\n",
       "    </tr>\n",
       "    <tr>\n",
       "      <th>2</th>\n",
       "      <td>accuracy</td>\n",
       "      <td>min_rougeL_score</td>\n",
       "      <td>0.8</td>\n",
       "      <td>0.195735</td>\n",
       "      <td>False</td>\n",
       "    </tr>\n",
       "    <tr>\n",
       "      <th>3</th>\n",
       "      <td>accuracy</td>\n",
       "      <td>min_bleu_score</td>\n",
       "      <td>0.8</td>\n",
       "      <td>0.017816</td>\n",
       "      <td>False</td>\n",
       "    </tr>\n",
       "  </tbody>\n",
       "</table>\n",
       "</div>"
      ],
      "text/plain": [
       "   category              test_type  expected_result  actual_result   pass\n",
       "0  accuracy  min_exact_match_score              0.8       0.000000  False\n",
       "1  accuracy       min_rouge2_score              0.8       0.050087  False\n",
       "2  accuracy       min_rougeL_score              0.8       0.195735  False\n",
       "3  accuracy         min_bleu_score              0.8       0.017816  False"
      ]
     },
     "execution_count": 24,
     "metadata": {},
     "output_type": "execute_result"
    }
   ],
   "source": [
    "harness.generated_results()"
   ]
  },
  {
   "cell_type": "markdown",
   "metadata": {
    "id": "uIOiTX1IH3d8"
   },
   "source": [
    "### Final Results"
   ]
  },
  {
   "cell_type": "code",
   "execution_count": 25,
   "metadata": {
    "colab": {
     "base_uri": "https://localhost:8080/",
     "height": 175
    },
    "executionInfo": {
     "elapsed": 47,
     "status": "ok",
     "timestamp": 1692371630563,
     "user": {
      "displayName": "Prikshit sharma",
      "userId": "07819241395213139913"
     },
     "user_tz": -330
    },
    "id": "4U3PMgpEcn5o",
    "outputId": "3e23f478-bb4b-4daa-f396-ec7b599e5fd6"
   },
   "outputs": [
    {
     "data": {
      "text/html": [
       "<div>\n",
       "<style scoped>\n",
       "    .dataframe tbody tr th:only-of-type {\n",
       "        vertical-align: middle;\n",
       "    }\n",
       "\n",
       "    .dataframe tbody tr th {\n",
       "        vertical-align: top;\n",
       "    }\n",
       "\n",
       "    .dataframe thead th {\n",
       "        text-align: right;\n",
       "    }\n",
       "</style>\n",
       "<table border=\"1\" class=\"dataframe\">\n",
       "  <thead>\n",
       "    <tr style=\"text-align: right;\">\n",
       "      <th></th>\n",
       "      <th>category</th>\n",
       "      <th>test_type</th>\n",
       "      <th>fail_count</th>\n",
       "      <th>pass_count</th>\n",
       "      <th>pass_rate</th>\n",
       "      <th>minimum_pass_rate</th>\n",
       "      <th>pass</th>\n",
       "    </tr>\n",
       "  </thead>\n",
       "  <tbody>\n",
       "    <tr>\n",
       "      <th>0</th>\n",
       "      <td>accuracy</td>\n",
       "      <td>min_exact_match_score</td>\n",
       "      <td>1</td>\n",
       "      <td>0</td>\n",
       "      <td>0%</td>\n",
       "      <td>65%</td>\n",
       "      <td>False</td>\n",
       "    </tr>\n",
       "    <tr>\n",
       "      <th>1</th>\n",
       "      <td>accuracy</td>\n",
       "      <td>min_rouge2_score</td>\n",
       "      <td>1</td>\n",
       "      <td>0</td>\n",
       "      <td>0%</td>\n",
       "      <td>65%</td>\n",
       "      <td>False</td>\n",
       "    </tr>\n",
       "    <tr>\n",
       "      <th>2</th>\n",
       "      <td>accuracy</td>\n",
       "      <td>min_rougeL_score</td>\n",
       "      <td>1</td>\n",
       "      <td>0</td>\n",
       "      <td>0%</td>\n",
       "      <td>65%</td>\n",
       "      <td>False</td>\n",
       "    </tr>\n",
       "    <tr>\n",
       "      <th>3</th>\n",
       "      <td>accuracy</td>\n",
       "      <td>min_bleu_score</td>\n",
       "      <td>1</td>\n",
       "      <td>0</td>\n",
       "      <td>0%</td>\n",
       "      <td>65%</td>\n",
       "      <td>False</td>\n",
       "    </tr>\n",
       "  </tbody>\n",
       "</table>\n",
       "</div>"
      ],
      "text/plain": [
       "   category              test_type  fail_count  pass_count pass_rate  \\\n",
       "0  accuracy  min_exact_match_score           1           0        0%   \n",
       "1  accuracy       min_rouge2_score           1           0        0%   \n",
       "2  accuracy       min_rougeL_score           1           0        0%   \n",
       "3  accuracy         min_bleu_score           1           0        0%   \n",
       "\n",
       "  minimum_pass_rate   pass  \n",
       "0               65%  False  \n",
       "1               65%  False  \n",
       "2               65%  False  \n",
       "3               65%  False  "
      ]
     },
     "execution_count": 25,
     "metadata": {},
     "output_type": "execute_result"
    }
   ],
   "source": [
    "harness.report()"
   ]
  }
 ],
 "metadata": {
  "colab": {
   "provenance": [],
   "toc_visible": true
  },
  "kernelspec": {
   "display_name": "Python 3",
   "name": "python3"
  },
  "language_info": {
   "codemirror_mode": {
    "name": "ipython",
    "version": 3
   },
   "file_extension": ".py",
   "mimetype": "text/x-python",
   "name": "python",
   "nbconvert_exporter": "python",
   "pygments_lexer": "ipython3",
   "version": "3.8.9"
  },
  "widgets": {
   "application/vnd.jupyter.widget-state+json": {
    "00277aa0835b4a5da167be14e0d0b7ec": {
     "model_module": "@jupyter-widgets/controls",
     "model_module_version": "1.5.0",
     "model_name": "HBoxModel",
     "state": {
      "_dom_classes": [],
      "_model_module": "@jupyter-widgets/controls",
      "_model_module_version": "1.5.0",
      "_model_name": "HBoxModel",
      "_view_count": null,
      "_view_module": "@jupyter-widgets/controls",
      "_view_module_version": "1.5.0",
      "_view_name": "HBoxView",
      "box_style": "",
      "children": [
       "IPY_MODEL_a51b5e1dd06544aa8c13fee2826f073a",
       "IPY_MODEL_603fe5a31b864cdcaaac7bc52d26b819",
       "IPY_MODEL_fb2f7a17ab3a426192df3873b88558fc"
      ],
      "layout": "IPY_MODEL_8ef4f96480ab473ea3ebbf3388bba9bd"
     }
    },
    "0348e4782c39493cb0db54d1799d9e5e": {
     "model_module": "@jupyter-widgets/base",
     "model_module_version": "1.2.0",
     "model_name": "LayoutModel",
     "state": {
      "_model_module": "@jupyter-widgets/base",
      "_model_module_version": "1.2.0",
      "_model_name": "LayoutModel",
      "_view_count": null,
      "_view_module": "@jupyter-widgets/base",
      "_view_module_version": "1.2.0",
      "_view_name": "LayoutView",
      "align_content": null,
      "align_items": null,
      "align_self": null,
      "border": null,
      "bottom": null,
      "display": null,
      "flex": null,
      "flex_flow": null,
      "grid_area": null,
      "grid_auto_columns": null,
      "grid_auto_flow": null,
      "grid_auto_rows": null,
      "grid_column": null,
      "grid_gap": null,
      "grid_row": null,
      "grid_template_areas": null,
      "grid_template_columns": null,
      "grid_template_rows": null,
      "height": null,
      "justify_content": null,
      "justify_items": null,
      "left": null,
      "margin": null,
      "max_height": null,
      "max_width": null,
      "min_height": null,
      "min_width": null,
      "object_fit": null,
      "object_position": null,
      "order": null,
      "overflow": null,
      "overflow_x": null,
      "overflow_y": null,
      "padding": null,
      "right": null,
      "top": null,
      "visibility": null,
      "width": null
     }
    },
    "049504a8a56d4cb7b4d862c3930797f5": {
     "model_module": "@jupyter-widgets/base",
     "model_module_version": "1.2.0",
     "model_name": "LayoutModel",
     "state": {
      "_model_module": "@jupyter-widgets/base",
      "_model_module_version": "1.2.0",
      "_model_name": "LayoutModel",
      "_view_count": null,
      "_view_module": "@jupyter-widgets/base",
      "_view_module_version": "1.2.0",
      "_view_name": "LayoutView",
      "align_content": null,
      "align_items": null,
      "align_self": null,
      "border": null,
      "bottom": null,
      "display": null,
      "flex": null,
      "flex_flow": null,
      "grid_area": null,
      "grid_auto_columns": null,
      "grid_auto_flow": null,
      "grid_auto_rows": null,
      "grid_column": null,
      "grid_gap": null,
      "grid_row": null,
      "grid_template_areas": null,
      "grid_template_columns": null,
      "grid_template_rows": null,
      "height": null,
      "justify_content": null,
      "justify_items": null,
      "left": null,
      "margin": null,
      "max_height": null,
      "max_width": null,
      "min_height": null,
      "min_width": null,
      "object_fit": null,
      "object_position": null,
      "order": null,
      "overflow": null,
      "overflow_x": null,
      "overflow_y": null,
      "padding": null,
      "right": null,
      "top": null,
      "visibility": null,
      "width": null
     }
    },
    "0796c53cde67423383787c1d018153bf": {
     "model_module": "@jupyter-widgets/controls",
     "model_module_version": "1.5.0",
     "model_name": "DescriptionStyleModel",
     "state": {
      "_model_module": "@jupyter-widgets/controls",
      "_model_module_version": "1.5.0",
      "_model_name": "DescriptionStyleModel",
      "_view_count": null,
      "_view_module": "@jupyter-widgets/base",
      "_view_module_version": "1.2.0",
      "_view_name": "StyleView",
      "description_width": ""
     }
    },
    "0ecb91f872414a84a3c6b3fbbb4a6721": {
     "model_module": "@jupyter-widgets/controls",
     "model_module_version": "1.5.0",
     "model_name": "HTMLModel",
     "state": {
      "_dom_classes": [],
      "_model_module": "@jupyter-widgets/controls",
      "_model_module_version": "1.5.0",
      "_model_name": "HTMLModel",
      "_view_count": null,
      "_view_module": "@jupyter-widgets/controls",
      "_view_module_version": "1.5.0",
      "_view_name": "HTMLView",
      "description": "",
      "description_tooltip": null,
      "layout": "IPY_MODEL_5d0c495c092f4298b32460e49d9ababc",
      "placeholder": "​",
      "style": "IPY_MODEL_c88938daf6904651914e7ad923bdea87",
      "value": " 3.34k/3.34k [00:00&lt;00:00, 156kB/s]"
     }
    },
    "109f0694996d4d0684afdede524ab517": {
     "model_module": "@jupyter-widgets/controls",
     "model_module_version": "1.5.0",
     "model_name": "DescriptionStyleModel",
     "state": {
      "_model_module": "@jupyter-widgets/controls",
      "_model_module_version": "1.5.0",
      "_model_name": "DescriptionStyleModel",
      "_view_count": null,
      "_view_module": "@jupyter-widgets/base",
      "_view_module_version": "1.2.0",
      "_view_name": "StyleView",
      "description_width": ""
     }
    },
    "127b6585de4641a1bbcde1752cfdd574": {
     "model_module": "@jupyter-widgets/controls",
     "model_module_version": "1.5.0",
     "model_name": "FloatProgressModel",
     "state": {
      "_dom_classes": [],
      "_model_module": "@jupyter-widgets/controls",
      "_model_module_version": "1.5.0",
      "_model_name": "FloatProgressModel",
      "_view_count": null,
      "_view_module": "@jupyter-widgets/controls",
      "_view_module_version": "1.5.0",
      "_view_name": "ProgressView",
      "bar_style": "success",
      "description": "",
      "description_tooltip": null,
      "layout": "IPY_MODEL_29fcb896c20e4dffb6f3cc904b13b9e9",
      "max": 3344,
      "min": 0,
      "orientation": "horizontal",
      "style": "IPY_MODEL_c6e7c27449814ac8bc81c0719f3d2f5d",
      "value": 3344
     }
    },
    "17fc2b0a120d49d58471f48712787ad1": {
     "model_module": "@jupyter-widgets/controls",
     "model_module_version": "1.5.0",
     "model_name": "HBoxModel",
     "state": {
      "_dom_classes": [],
      "_model_module": "@jupyter-widgets/controls",
      "_model_module_version": "1.5.0",
      "_model_name": "HBoxModel",
      "_view_count": null,
      "_view_module": "@jupyter-widgets/controls",
      "_view_module_version": "1.5.0",
      "_view_name": "HBoxView",
      "box_style": "",
      "children": [
       "IPY_MODEL_5652e20d5ee34a6c86d849549eecb7bf",
       "IPY_MODEL_5334dfa3b4134925b0f04f13379433f7",
       "IPY_MODEL_c2765d706eae4dd2ad367a3782baad0d"
      ],
      "layout": "IPY_MODEL_bfc06e917a5f450b80fb33235ee086da"
     }
    },
    "1dc51983ad0b44f3a3952518a8cf29cc": {
     "model_module": "@jupyter-widgets/controls",
     "model_module_version": "1.5.0",
     "model_name": "HTMLModel",
     "state": {
      "_dom_classes": [],
      "_model_module": "@jupyter-widgets/controls",
      "_model_module_version": "1.5.0",
      "_model_name": "HTMLModel",
      "_view_count": null,
      "_view_module": "@jupyter-widgets/controls",
      "_view_module_version": "1.5.0",
      "_view_name": "HTMLView",
      "description": "",
      "description_tooltip": null,
      "layout": "IPY_MODEL_a3c28dc4aa4e4ff5949e2619ce15b1ad",
      "placeholder": "​",
      "style": "IPY_MODEL_806242b077a54490bfb8b651a920731e",
      "value": "Downloading (…)lve/main/config.json: 100%"
     }
    },
    "1ff135cf79f44ae7bb355da28c807578": {
     "model_module": "@jupyter-widgets/base",
     "model_module_version": "1.2.0",
     "model_name": "LayoutModel",
     "state": {
      "_model_module": "@jupyter-widgets/base",
      "_model_module_version": "1.2.0",
      "_model_name": "LayoutModel",
      "_view_count": null,
      "_view_module": "@jupyter-widgets/base",
      "_view_module_version": "1.2.0",
      "_view_name": "LayoutView",
      "align_content": null,
      "align_items": null,
      "align_self": null,
      "border": null,
      "bottom": null,
      "display": null,
      "flex": null,
      "flex_flow": null,
      "grid_area": null,
      "grid_auto_columns": null,
      "grid_auto_flow": null,
      "grid_auto_rows": null,
      "grid_column": null,
      "grid_gap": null,
      "grid_row": null,
      "grid_template_areas": null,
      "grid_template_columns": null,
      "grid_template_rows": null,
      "height": null,
      "justify_content": null,
      "justify_items": null,
      "left": null,
      "margin": null,
      "max_height": null,
      "max_width": null,
      "min_height": null,
      "min_width": null,
      "object_fit": null,
      "object_position": null,
      "order": null,
      "overflow": null,
      "overflow_x": null,
      "overflow_y": null,
      "padding": null,
      "right": null,
      "top": null,
      "visibility": null,
      "width": null
     }
    },
    "2788750897444c4daca761d66faedcf9": {
     "model_module": "@jupyter-widgets/base",
     "model_module_version": "1.2.0",
     "model_name": "LayoutModel",
     "state": {
      "_model_module": "@jupyter-widgets/base",
      "_model_module_version": "1.2.0",
      "_model_name": "LayoutModel",
      "_view_count": null,
      "_view_module": "@jupyter-widgets/base",
      "_view_module_version": "1.2.0",
      "_view_name": "LayoutView",
      "align_content": null,
      "align_items": null,
      "align_self": null,
      "border": null,
      "bottom": null,
      "display": null,
      "flex": null,
      "flex_flow": null,
      "grid_area": null,
      "grid_auto_columns": null,
      "grid_auto_flow": null,
      "grid_auto_rows": null,
      "grid_column": null,
      "grid_gap": null,
      "grid_row": null,
      "grid_template_areas": null,
      "grid_template_columns": null,
      "grid_template_rows": null,
      "height": null,
      "justify_content": null,
      "justify_items": null,
      "left": null,
      "margin": null,
      "max_height": null,
      "max_width": null,
      "min_height": null,
      "min_width": null,
      "object_fit": null,
      "object_position": null,
      "order": null,
      "overflow": null,
      "overflow_x": null,
      "overflow_y": null,
      "padding": null,
      "right": null,
      "top": null,
      "visibility": null,
      "width": null
     }
    },
    "29fcb896c20e4dffb6f3cc904b13b9e9": {
     "model_module": "@jupyter-widgets/base",
     "model_module_version": "1.2.0",
     "model_name": "LayoutModel",
     "state": {
      "_model_module": "@jupyter-widgets/base",
      "_model_module_version": "1.2.0",
      "_model_name": "LayoutModel",
      "_view_count": null,
      "_view_module": "@jupyter-widgets/base",
      "_view_module_version": "1.2.0",
      "_view_name": "LayoutView",
      "align_content": null,
      "align_items": null,
      "align_self": null,
      "border": null,
      "bottom": null,
      "display": null,
      "flex": null,
      "flex_flow": null,
      "grid_area": null,
      "grid_auto_columns": null,
      "grid_auto_flow": null,
      "grid_auto_rows": null,
      "grid_column": null,
      "grid_gap": null,
      "grid_row": null,
      "grid_template_areas": null,
      "grid_template_columns": null,
      "grid_template_rows": null,
      "height": null,
      "justify_content": null,
      "justify_items": null,
      "left": null,
      "margin": null,
      "max_height": null,
      "max_width": null,
      "min_height": null,
      "min_width": null,
      "object_fit": null,
      "object_position": null,
      "order": null,
      "overflow": null,
      "overflow_x": null,
      "overflow_y": null,
      "padding": null,
      "right": null,
      "top": null,
      "visibility": null,
      "width": null
     }
    },
    "2c76fb5515eb4199bf49a033c6786dda": {
     "model_module": "@jupyter-widgets/controls",
     "model_module_version": "1.5.0",
     "model_name": "HBoxModel",
     "state": {
      "_dom_classes": [],
      "_model_module": "@jupyter-widgets/controls",
      "_model_module_version": "1.5.0",
      "_model_name": "HBoxModel",
      "_view_count": null,
      "_view_module": "@jupyter-widgets/controls",
      "_view_module_version": "1.5.0",
      "_view_name": "HBoxView",
      "box_style": "",
      "children": [
       "IPY_MODEL_619a7eedc5f445f5aaf02c476f102ac7",
       "IPY_MODEL_fe9a6a822b4448c19cbdcef0d24edb40",
       "IPY_MODEL_3279f97bf107490c9124d5a5ea2c0d70"
      ],
      "layout": "IPY_MODEL_56de53612dc0494e9c5a957e98149bf1"
     }
    },
    "3279f97bf107490c9124d5a5ea2c0d70": {
     "model_module": "@jupyter-widgets/controls",
     "model_module_version": "1.5.0",
     "model_name": "HTMLModel",
     "state": {
      "_dom_classes": [],
      "_model_module": "@jupyter-widgets/controls",
      "_model_module_version": "1.5.0",
      "_model_name": "HTMLModel",
      "_view_count": null,
      "_view_module": "@jupyter-widgets/controls",
      "_view_module_version": "1.5.0",
      "_view_name": "HTMLView",
      "description": "",
      "description_tooltip": null,
      "layout": "IPY_MODEL_6307eed67d804587b9d1795dc3a45bb2",
      "placeholder": "​",
      "style": "IPY_MODEL_d9a3347014df41958cb7ff8cd55f1bc1",
      "value": " 5.67k/5.67k [00:00&lt;00:00, 179kB/s]"
     }
    },
    "3a2524723f584f2da1583bb00fb4c9fa": {
     "model_module": "@jupyter-widgets/controls",
     "model_module_version": "1.5.0",
     "model_name": "HBoxModel",
     "state": {
      "_dom_classes": [],
      "_model_module": "@jupyter-widgets/controls",
      "_model_module_version": "1.5.0",
      "_model_name": "HBoxModel",
      "_view_count": null,
      "_view_module": "@jupyter-widgets/controls",
      "_view_module_version": "1.5.0",
      "_view_name": "HBoxView",
      "box_style": "",
      "children": [
       "IPY_MODEL_a98b7adbcd2f45c894fd035915ab9a73",
       "IPY_MODEL_878863b01bb74868b9d7ebaa65fd94a9",
       "IPY_MODEL_3e26347e114d409abd07d9fddc8fb066"
      ],
      "layout": "IPY_MODEL_555ed32560414647a2561e5c9b806766"
     }
    },
    "3cefb05e4e95492bb64b74fb4c7821c6": {
     "model_module": "@jupyter-widgets/controls",
     "model_module_version": "1.5.0",
     "model_name": "HTMLModel",
     "state": {
      "_dom_classes": [],
      "_model_module": "@jupyter-widgets/controls",
      "_model_module_version": "1.5.0",
      "_model_name": "HTMLModel",
      "_view_count": null,
      "_view_module": "@jupyter-widgets/controls",
      "_view_module_version": "1.5.0",
      "_view_name": "HTMLView",
      "description": "",
      "description_tooltip": null,
      "layout": "IPY_MODEL_43844863851c47c6bc8cc10214b05b96",
      "placeholder": "​",
      "style": "IPY_MODEL_109f0694996d4d0684afdede524ab517",
      "value": "Downloading builder script: 100%"
     }
    },
    "3e26347e114d409abd07d9fddc8fb066": {
     "model_module": "@jupyter-widgets/controls",
     "model_module_version": "1.5.0",
     "model_name": "HTMLModel",
     "state": {
      "_dom_classes": [],
      "_model_module": "@jupyter-widgets/controls",
      "_model_module_version": "1.5.0",
      "_model_name": "HTMLModel",
      "_view_count": null,
      "_view_module": "@jupyter-widgets/controls",
      "_view_module_version": "1.5.0",
      "_view_name": "HTMLView",
      "description": "",
      "description_tooltip": null,
      "layout": "IPY_MODEL_f33329552f0c48ccaec4533c372fa713",
      "placeholder": "​",
      "style": "IPY_MODEL_a12935b4d6f041bdb9aa953870dfcaff",
      "value": " 232k/232k [00:00&lt;00:00, 1.41MB/s]"
     }
    },
    "424d1ed5764144baa8a3c0354c9070c0": {
     "model_module": "@jupyter-widgets/base",
     "model_module_version": "1.2.0",
     "model_name": "LayoutModel",
     "state": {
      "_model_module": "@jupyter-widgets/base",
      "_model_module_version": "1.2.0",
      "_model_name": "LayoutModel",
      "_view_count": null,
      "_view_module": "@jupyter-widgets/base",
      "_view_module_version": "1.2.0",
      "_view_name": "LayoutView",
      "align_content": null,
      "align_items": null,
      "align_self": null,
      "border": null,
      "bottom": null,
      "display": null,
      "flex": null,
      "flex_flow": null,
      "grid_area": null,
      "grid_auto_columns": null,
      "grid_auto_flow": null,
      "grid_auto_rows": null,
      "grid_column": null,
      "grid_gap": null,
      "grid_row": null,
      "grid_template_areas": null,
      "grid_template_columns": null,
      "grid_template_rows": null,
      "height": null,
      "justify_content": null,
      "justify_items": null,
      "left": null,
      "margin": null,
      "max_height": null,
      "max_width": null,
      "min_height": null,
      "min_width": null,
      "object_fit": null,
      "object_position": null,
      "order": null,
      "overflow": null,
      "overflow_x": null,
      "overflow_y": null,
      "padding": null,
      "right": null,
      "top": null,
      "visibility": null,
      "width": null
     }
    },
    "43844863851c47c6bc8cc10214b05b96": {
     "model_module": "@jupyter-widgets/base",
     "model_module_version": "1.2.0",
     "model_name": "LayoutModel",
     "state": {
      "_model_module": "@jupyter-widgets/base",
      "_model_module_version": "1.2.0",
      "_model_name": "LayoutModel",
      "_view_count": null,
      "_view_module": "@jupyter-widgets/base",
      "_view_module_version": "1.2.0",
      "_view_name": "LayoutView",
      "align_content": null,
      "align_items": null,
      "align_self": null,
      "border": null,
      "bottom": null,
      "display": null,
      "flex": null,
      "flex_flow": null,
      "grid_area": null,
      "grid_auto_columns": null,
      "grid_auto_flow": null,
      "grid_auto_rows": null,
      "grid_column": null,
      "grid_gap": null,
      "grid_row": null,
      "grid_template_areas": null,
      "grid_template_columns": null,
      "grid_template_rows": null,
      "height": null,
      "justify_content": null,
      "justify_items": null,
      "left": null,
      "margin": null,
      "max_height": null,
      "max_width": null,
      "min_height": null,
      "min_width": null,
      "object_fit": null,
      "object_position": null,
      "order": null,
      "overflow": null,
      "overflow_x": null,
      "overflow_y": null,
      "padding": null,
      "right": null,
      "top": null,
      "visibility": null,
      "width": null
     }
    },
    "4fdc1b9447a84abc9a3cb76541258b7e": {
     "model_module": "@jupyter-widgets/controls",
     "model_module_version": "1.5.0",
     "model_name": "FloatProgressModel",
     "state": {
      "_dom_classes": [],
      "_model_module": "@jupyter-widgets/controls",
      "_model_module_version": "1.5.0",
      "_model_name": "FloatProgressModel",
      "_view_count": null,
      "_view_module": "@jupyter-widgets/controls",
      "_view_module_version": "1.5.0",
      "_view_name": "ProgressView",
      "bar_style": "success",
      "description": "",
      "description_tooltip": null,
      "layout": "IPY_MODEL_424d1ed5764144baa8a3c0354c9070c0",
      "max": 5937,
      "min": 0,
      "orientation": "horizontal",
      "style": "IPY_MODEL_9dabd2a5acbb4daf8ef8048b1904b311",
      "value": 5937
     }
    },
    "5260c75dafa24778a8ad471157150d1f": {
     "model_module": "@jupyter-widgets/controls",
     "model_module_version": "1.5.0",
     "model_name": "HTMLModel",
     "state": {
      "_dom_classes": [],
      "_model_module": "@jupyter-widgets/controls",
      "_model_module_version": "1.5.0",
      "_model_name": "HTMLModel",
      "_view_count": null,
      "_view_module": "@jupyter-widgets/controls",
      "_view_module_version": "1.5.0",
      "_view_name": "HTMLView",
      "description": "",
      "description_tooltip": null,
      "layout": "IPY_MODEL_2788750897444c4daca761d66faedcf9",
      "placeholder": "​",
      "style": "IPY_MODEL_b8f5881762cd4c8cbb8ee49ceaef0a79",
      "value": " 525/525 [00:00&lt;00:00, 20.5kB/s]"
     }
    },
    "5334dfa3b4134925b0f04f13379433f7": {
     "model_module": "@jupyter-widgets/controls",
     "model_module_version": "1.5.0",
     "model_name": "FloatProgressModel",
     "state": {
      "_dom_classes": [],
      "_model_module": "@jupyter-widgets/controls",
      "_model_module_version": "1.5.0",
      "_model_name": "FloatProgressModel",
      "_view_count": null,
      "_view_module": "@jupyter-widgets/controls",
      "_view_module_version": "1.5.0",
      "_view_name": "ProgressView",
      "bar_style": "success",
      "description": "",
      "description_tooltip": null,
      "layout": "IPY_MODEL_bfe860d142b84e2caaf9241607de2552",
      "max": 6270,
      "min": 0,
      "orientation": "horizontal",
      "style": "IPY_MODEL_dccb19335e9b40efa0d5072a30338b44",
      "value": 6270
     }
    },
    "53ef788cd7b14da0bc7d6054cfbb2fd2": {
     "model_module": "@jupyter-widgets/base",
     "model_module_version": "1.2.0",
     "model_name": "LayoutModel",
     "state": {
      "_model_module": "@jupyter-widgets/base",
      "_model_module_version": "1.2.0",
      "_model_name": "LayoutModel",
      "_view_count": null,
      "_view_module": "@jupyter-widgets/base",
      "_view_module_version": "1.2.0",
      "_view_name": "LayoutView",
      "align_content": null,
      "align_items": null,
      "align_self": null,
      "border": null,
      "bottom": null,
      "display": null,
      "flex": null,
      "flex_flow": null,
      "grid_area": null,
      "grid_auto_columns": null,
      "grid_auto_flow": null,
      "grid_auto_rows": null,
      "grid_column": null,
      "grid_gap": null,
      "grid_row": null,
      "grid_template_areas": null,
      "grid_template_columns": null,
      "grid_template_rows": null,
      "height": null,
      "justify_content": null,
      "justify_items": null,
      "left": null,
      "margin": null,
      "max_height": null,
      "max_width": null,
      "min_height": null,
      "min_width": null,
      "object_fit": null,
      "object_position": null,
      "order": null,
      "overflow": null,
      "overflow_x": null,
      "overflow_y": null,
      "padding": null,
      "right": null,
      "top": null,
      "visibility": null,
      "width": null
     }
    },
    "555ed32560414647a2561e5c9b806766": {
     "model_module": "@jupyter-widgets/base",
     "model_module_version": "1.2.0",
     "model_name": "LayoutModel",
     "state": {
      "_model_module": "@jupyter-widgets/base",
      "_model_module_version": "1.2.0",
      "_model_name": "LayoutModel",
      "_view_count": null,
      "_view_module": "@jupyter-widgets/base",
      "_view_module_version": "1.2.0",
      "_view_name": "LayoutView",
      "align_content": null,
      "align_items": null,
      "align_self": null,
      "border": null,
      "bottom": null,
      "display": null,
      "flex": null,
      "flex_flow": null,
      "grid_area": null,
      "grid_auto_columns": null,
      "grid_auto_flow": null,
      "grid_auto_rows": null,
      "grid_column": null,
      "grid_gap": null,
      "grid_row": null,
      "grid_template_areas": null,
      "grid_template_columns": null,
      "grid_template_rows": null,
      "height": null,
      "justify_content": null,
      "justify_items": null,
      "left": null,
      "margin": null,
      "max_height": null,
      "max_width": null,
      "min_height": null,
      "min_width": null,
      "object_fit": null,
      "object_position": null,
      "order": null,
      "overflow": null,
      "overflow_x": null,
      "overflow_y": null,
      "padding": null,
      "right": null,
      "top": null,
      "visibility": null,
      "width": null
     }
    },
    "5652e20d5ee34a6c86d849549eecb7bf": {
     "model_module": "@jupyter-widgets/controls",
     "model_module_version": "1.5.0",
     "model_name": "HTMLModel",
     "state": {
      "_dom_classes": [],
      "_model_module": "@jupyter-widgets/controls",
      "_model_module_version": "1.5.0",
      "_model_name": "HTMLModel",
      "_view_count": null,
      "_view_module": "@jupyter-widgets/controls",
      "_view_module_version": "1.5.0",
      "_view_name": "HTMLView",
      "description": "",
      "description_tooltip": null,
      "layout": "IPY_MODEL_1ff135cf79f44ae7bb355da28c807578",
      "placeholder": "​",
      "style": "IPY_MODEL_f99cfb6a13ca4f7997bd4e31b16c2f65",
      "value": "Downloading builder script: 100%"
     }
    },
    "56de53612dc0494e9c5a957e98149bf1": {
     "model_module": "@jupyter-widgets/base",
     "model_module_version": "1.2.0",
     "model_name": "LayoutModel",
     "state": {
      "_model_module": "@jupyter-widgets/base",
      "_model_module_version": "1.2.0",
      "_model_name": "LayoutModel",
      "_view_count": null,
      "_view_module": "@jupyter-widgets/base",
      "_view_module_version": "1.2.0",
      "_view_name": "LayoutView",
      "align_content": null,
      "align_items": null,
      "align_self": null,
      "border": null,
      "bottom": null,
      "display": null,
      "flex": null,
      "flex_flow": null,
      "grid_area": null,
      "grid_auto_columns": null,
      "grid_auto_flow": null,
      "grid_auto_rows": null,
      "grid_column": null,
      "grid_gap": null,
      "grid_row": null,
      "grid_template_areas": null,
      "grid_template_columns": null,
      "grid_template_rows": null,
      "height": null,
      "justify_content": null,
      "justify_items": null,
      "left": null,
      "margin": null,
      "max_height": null,
      "max_width": null,
      "min_height": null,
      "min_width": null,
      "object_fit": null,
      "object_position": null,
      "order": null,
      "overflow": null,
      "overflow_x": null,
      "overflow_y": null,
      "padding": null,
      "right": null,
      "top": null,
      "visibility": null,
      "width": null
     }
    },
    "584b852473904e47bcb0ff120b354235": {
     "model_module": "@jupyter-widgets/base",
     "model_module_version": "1.2.0",
     "model_name": "LayoutModel",
     "state": {
      "_model_module": "@jupyter-widgets/base",
      "_model_module_version": "1.2.0",
      "_model_name": "LayoutModel",
      "_view_count": null,
      "_view_module": "@jupyter-widgets/base",
      "_view_module_version": "1.2.0",
      "_view_name": "LayoutView",
      "align_content": null,
      "align_items": null,
      "align_self": null,
      "border": null,
      "bottom": null,
      "display": null,
      "flex": null,
      "flex_flow": null,
      "grid_area": null,
      "grid_auto_columns": null,
      "grid_auto_flow": null,
      "grid_auto_rows": null,
      "grid_column": null,
      "grid_gap": null,
      "grid_row": null,
      "grid_template_areas": null,
      "grid_template_columns": null,
      "grid_template_rows": null,
      "height": null,
      "justify_content": null,
      "justify_items": null,
      "left": null,
      "margin": null,
      "max_height": null,
      "max_width": null,
      "min_height": null,
      "min_width": null,
      "object_fit": null,
      "object_position": null,
      "order": null,
      "overflow": null,
      "overflow_x": null,
      "overflow_y": null,
      "padding": null,
      "right": null,
      "top": null,
      "visibility": null,
      "width": null
     }
    },
    "5d0c495c092f4298b32460e49d9ababc": {
     "model_module": "@jupyter-widgets/base",
     "model_module_version": "1.2.0",
     "model_name": "LayoutModel",
     "state": {
      "_model_module": "@jupyter-widgets/base",
      "_model_module_version": "1.2.0",
      "_model_name": "LayoutModel",
      "_view_count": null,
      "_view_module": "@jupyter-widgets/base",
      "_view_module_version": "1.2.0",
      "_view_name": "LayoutView",
      "align_content": null,
      "align_items": null,
      "align_self": null,
      "border": null,
      "bottom": null,
      "display": null,
      "flex": null,
      "flex_flow": null,
      "grid_area": null,
      "grid_auto_columns": null,
      "grid_auto_flow": null,
      "grid_auto_rows": null,
      "grid_column": null,
      "grid_gap": null,
      "grid_row": null,
      "grid_template_areas": null,
      "grid_template_columns": null,
      "grid_template_rows": null,
      "height": null,
      "justify_content": null,
      "justify_items": null,
      "left": null,
      "margin": null,
      "max_height": null,
      "max_width": null,
      "min_height": null,
      "min_width": null,
      "object_fit": null,
      "object_position": null,
      "order": null,
      "overflow": null,
      "overflow_x": null,
      "overflow_y": null,
      "padding": null,
      "right": null,
      "top": null,
      "visibility": null,
      "width": null
     }
    },
    "603fe5a31b864cdcaaac7bc52d26b819": {
     "model_module": "@jupyter-widgets/controls",
     "model_module_version": "1.5.0",
     "model_name": "FloatProgressModel",
     "state": {
      "_dom_classes": [],
      "_model_module": "@jupyter-widgets/controls",
      "_model_module_version": "1.5.0",
      "_model_name": "FloatProgressModel",
      "_view_count": null,
      "_view_module": "@jupyter-widgets/controls",
      "_view_module_version": "1.5.0",
      "_view_name": "ProgressView",
      "bar_style": "success",
      "description": "",
      "description_tooltip": null,
      "layout": "IPY_MODEL_ea3ec3b1618647bda479abd5cfcd6e65",
      "max": 51044621,
      "min": 0,
      "orientation": "horizontal",
      "style": "IPY_MODEL_f521ffa26da041cc9150430b3fe34cf8",
      "value": 51044621
     }
    },
    "619a7eedc5f445f5aaf02c476f102ac7": {
     "model_module": "@jupyter-widgets/controls",
     "model_module_version": "1.5.0",
     "model_name": "HTMLModel",
     "state": {
      "_dom_classes": [],
      "_model_module": "@jupyter-widgets/controls",
      "_model_module_version": "1.5.0",
      "_model_name": "HTMLModel",
      "_view_count": null,
      "_view_module": "@jupyter-widgets/controls",
      "_view_module_version": "1.5.0",
      "_view_name": "HTMLView",
      "description": "",
      "description_tooltip": null,
      "layout": "IPY_MODEL_0348e4782c39493cb0db54d1799d9e5e",
      "placeholder": "​",
      "style": "IPY_MODEL_bc24f7e3225d477db0304299131a1b75",
      "value": "Downloading builder script: 100%"
     }
    },
    "61f28152be1848e3bc914e13152410a6": {
     "model_module": "@jupyter-widgets/base",
     "model_module_version": "1.2.0",
     "model_name": "LayoutModel",
     "state": {
      "_model_module": "@jupyter-widgets/base",
      "_model_module_version": "1.2.0",
      "_model_name": "LayoutModel",
      "_view_count": null,
      "_view_module": "@jupyter-widgets/base",
      "_view_module_version": "1.2.0",
      "_view_name": "LayoutView",
      "align_content": null,
      "align_items": null,
      "align_self": null,
      "border": null,
      "bottom": null,
      "display": null,
      "flex": null,
      "flex_flow": null,
      "grid_area": null,
      "grid_auto_columns": null,
      "grid_auto_flow": null,
      "grid_auto_rows": null,
      "grid_column": null,
      "grid_gap": null,
      "grid_row": null,
      "grid_template_areas": null,
      "grid_template_columns": null,
      "grid_template_rows": null,
      "height": null,
      "justify_content": null,
      "justify_items": null,
      "left": null,
      "margin": null,
      "max_height": null,
      "max_width": null,
      "min_height": null,
      "min_width": null,
      "object_fit": null,
      "object_position": null,
      "order": null,
      "overflow": null,
      "overflow_x": null,
      "overflow_y": null,
      "padding": null,
      "right": null,
      "top": null,
      "visibility": null,
      "width": null
     }
    },
    "6307eed67d804587b9d1795dc3a45bb2": {
     "model_module": "@jupyter-widgets/base",
     "model_module_version": "1.2.0",
     "model_name": "LayoutModel",
     "state": {
      "_model_module": "@jupyter-widgets/base",
      "_model_module_version": "1.2.0",
      "_model_name": "LayoutModel",
      "_view_count": null,
      "_view_module": "@jupyter-widgets/base",
      "_view_module_version": "1.2.0",
      "_view_name": "LayoutView",
      "align_content": null,
      "align_items": null,
      "align_self": null,
      "border": null,
      "bottom": null,
      "display": null,
      "flex": null,
      "flex_flow": null,
      "grid_area": null,
      "grid_auto_columns": null,
      "grid_auto_flow": null,
      "grid_auto_rows": null,
      "grid_column": null,
      "grid_gap": null,
      "grid_row": null,
      "grid_template_areas": null,
      "grid_template_columns": null,
      "grid_template_rows": null,
      "height": null,
      "justify_content": null,
      "justify_items": null,
      "left": null,
      "margin": null,
      "max_height": null,
      "max_width": null,
      "min_height": null,
      "min_width": null,
      "object_fit": null,
      "object_position": null,
      "order": null,
      "overflow": null,
      "overflow_x": null,
      "overflow_y": null,
      "padding": null,
      "right": null,
      "top": null,
      "visibility": null,
      "width": null
     }
    },
    "67c14c523a844790b3f01629e49cd6ff": {
     "model_module": "@jupyter-widgets/controls",
     "model_module_version": "1.5.0",
     "model_name": "HTMLModel",
     "state": {
      "_dom_classes": [],
      "_model_module": "@jupyter-widgets/controls",
      "_model_module_version": "1.5.0",
      "_model_name": "HTMLModel",
      "_view_count": null,
      "_view_module": "@jupyter-widgets/controls",
      "_view_module_version": "1.5.0",
      "_view_name": "HTMLView",
      "description": "",
      "description_tooltip": null,
      "layout": "IPY_MODEL_fff6d647683046109a1bfe1362b7e42a",
      "placeholder": "​",
      "style": "IPY_MODEL_0796c53cde67423383787c1d018153bf",
      "value": " 4.07k/? [00:00&lt;00:00, 198kB/s]"
     }
    },
    "6cdbcea242744ae89229986a260659ff": {
     "model_module": "@jupyter-widgets/base",
     "model_module_version": "1.2.0",
     "model_name": "LayoutModel",
     "state": {
      "_model_module": "@jupyter-widgets/base",
      "_model_module_version": "1.2.0",
      "_model_name": "LayoutModel",
      "_view_count": null,
      "_view_module": "@jupyter-widgets/base",
      "_view_module_version": "1.2.0",
      "_view_name": "LayoutView",
      "align_content": null,
      "align_items": null,
      "align_self": null,
      "border": null,
      "bottom": null,
      "display": null,
      "flex": null,
      "flex_flow": null,
      "grid_area": null,
      "grid_auto_columns": null,
      "grid_auto_flow": null,
      "grid_auto_rows": null,
      "grid_column": null,
      "grid_gap": null,
      "grid_row": null,
      "grid_template_areas": null,
      "grid_template_columns": null,
      "grid_template_rows": null,
      "height": null,
      "justify_content": null,
      "justify_items": null,
      "left": null,
      "margin": null,
      "max_height": null,
      "max_width": null,
      "min_height": null,
      "min_width": null,
      "object_fit": null,
      "object_position": null,
      "order": null,
      "overflow": null,
      "overflow_x": null,
      "overflow_y": null,
      "padding": null,
      "right": null,
      "top": null,
      "visibility": null,
      "width": null
     }
    },
    "6d47ccf28d574ee187ca2128efa0f0e4": {
     "model_module": "@jupyter-widgets/controls",
     "model_module_version": "1.5.0",
     "model_name": "HTMLModel",
     "state": {
      "_dom_classes": [],
      "_model_module": "@jupyter-widgets/controls",
      "_model_module_version": "1.5.0",
      "_model_name": "HTMLModel",
      "_view_count": null,
      "_view_module": "@jupyter-widgets/controls",
      "_view_module_version": "1.5.0",
      "_view_name": "HTMLView",
      "description": "",
      "description_tooltip": null,
      "layout": "IPY_MODEL_584b852473904e47bcb0ff120b354235",
      "placeholder": "​",
      "style": "IPY_MODEL_6f8ead78942d40359c81f626cb7f3fe0",
      "value": "Downloading extra modules: 100%"
     }
    },
    "6f8ead78942d40359c81f626cb7f3fe0": {
     "model_module": "@jupyter-widgets/controls",
     "model_module_version": "1.5.0",
     "model_name": "DescriptionStyleModel",
     "state": {
      "_model_module": "@jupyter-widgets/controls",
      "_model_module_version": "1.5.0",
      "_model_name": "DescriptionStyleModel",
      "_view_count": null,
      "_view_module": "@jupyter-widgets/base",
      "_view_module_version": "1.2.0",
      "_view_name": "StyleView",
      "description_width": ""
     }
    },
    "7705dce819e143fb8896b51cfa1b0350": {
     "model_module": "@jupyter-widgets/base",
     "model_module_version": "1.2.0",
     "model_name": "LayoutModel",
     "state": {
      "_model_module": "@jupyter-widgets/base",
      "_model_module_version": "1.2.0",
      "_model_name": "LayoutModel",
      "_view_count": null,
      "_view_module": "@jupyter-widgets/base",
      "_view_module_version": "1.2.0",
      "_view_name": "LayoutView",
      "align_content": null,
      "align_items": null,
      "align_self": null,
      "border": null,
      "bottom": null,
      "display": null,
      "flex": null,
      "flex_flow": null,
      "grid_area": null,
      "grid_auto_columns": null,
      "grid_auto_flow": null,
      "grid_auto_rows": null,
      "grid_column": null,
      "grid_gap": null,
      "grid_row": null,
      "grid_template_areas": null,
      "grid_template_columns": null,
      "grid_template_rows": null,
      "height": null,
      "justify_content": null,
      "justify_items": null,
      "left": null,
      "margin": null,
      "max_height": null,
      "max_width": null,
      "min_height": null,
      "min_width": null,
      "object_fit": null,
      "object_position": null,
      "order": null,
      "overflow": null,
      "overflow_x": null,
      "overflow_y": null,
      "padding": null,
      "right": null,
      "top": null,
      "visibility": null,
      "width": null
     }
    },
    "7f43404171d34bb48dda4fa80cd21341": {
     "model_module": "@jupyter-widgets/controls",
     "model_module_version": "1.5.0",
     "model_name": "DescriptionStyleModel",
     "state": {
      "_model_module": "@jupyter-widgets/controls",
      "_model_module_version": "1.5.0",
      "_model_name": "DescriptionStyleModel",
      "_view_count": null,
      "_view_module": "@jupyter-widgets/base",
      "_view_module_version": "1.2.0",
      "_view_name": "StyleView",
      "description_width": ""
     }
    },
    "806242b077a54490bfb8b651a920731e": {
     "model_module": "@jupyter-widgets/controls",
     "model_module_version": "1.5.0",
     "model_name": "DescriptionStyleModel",
     "state": {
      "_model_module": "@jupyter-widgets/controls",
      "_model_module_version": "1.5.0",
      "_model_name": "DescriptionStyleModel",
      "_view_count": null,
      "_view_module": "@jupyter-widgets/base",
      "_view_module_version": "1.2.0",
      "_view_name": "StyleView",
      "description_width": ""
     }
    },
    "857ca69524e445d1a63fbb92a2a43cde": {
     "model_module": "@jupyter-widgets/base",
     "model_module_version": "1.2.0",
     "model_name": "LayoutModel",
     "state": {
      "_model_module": "@jupyter-widgets/base",
      "_model_module_version": "1.2.0",
      "_model_name": "LayoutModel",
      "_view_count": null,
      "_view_module": "@jupyter-widgets/base",
      "_view_module_version": "1.2.0",
      "_view_name": "LayoutView",
      "align_content": null,
      "align_items": null,
      "align_self": null,
      "border": null,
      "bottom": null,
      "display": null,
      "flex": null,
      "flex_flow": null,
      "grid_area": null,
      "grid_auto_columns": null,
      "grid_auto_flow": null,
      "grid_auto_rows": null,
      "grid_column": null,
      "grid_gap": null,
      "grid_row": null,
      "grid_template_areas": null,
      "grid_template_columns": null,
      "grid_template_rows": null,
      "height": null,
      "justify_content": null,
      "justify_items": null,
      "left": null,
      "margin": null,
      "max_height": null,
      "max_width": null,
      "min_height": null,
      "min_width": null,
      "object_fit": null,
      "object_position": null,
      "order": null,
      "overflow": null,
      "overflow_x": null,
      "overflow_y": null,
      "padding": null,
      "right": null,
      "top": null,
      "visibility": null,
      "width": null
     }
    },
    "86314a7d1c5b4a33a587a5adaebbcf65": {
     "model_module": "@jupyter-widgets/controls",
     "model_module_version": "1.5.0",
     "model_name": "FloatProgressModel",
     "state": {
      "_dom_classes": [],
      "_model_module": "@jupyter-widgets/controls",
      "_model_module_version": "1.5.0",
      "_model_name": "FloatProgressModel",
      "_view_count": null,
      "_view_module": "@jupyter-widgets/controls",
      "_view_module_version": "1.5.0",
      "_view_name": "ProgressView",
      "bar_style": "success",
      "description": "",
      "description_tooltip": null,
      "layout": "IPY_MODEL_049504a8a56d4cb7b4d862c3930797f5",
      "max": 525,
      "min": 0,
      "orientation": "horizontal",
      "style": "IPY_MODEL_d6f4e3fb37684f769131108e6a0b8854",
      "value": 525
     }
    },
    "878863b01bb74868b9d7ebaa65fd94a9": {
     "model_module": "@jupyter-widgets/controls",
     "model_module_version": "1.5.0",
     "model_name": "FloatProgressModel",
     "state": {
      "_dom_classes": [],
      "_model_module": "@jupyter-widgets/controls",
      "_model_module_version": "1.5.0",
      "_model_name": "FloatProgressModel",
      "_view_count": null,
      "_view_module": "@jupyter-widgets/controls",
      "_view_module_version": "1.5.0",
      "_view_name": "ProgressView",
      "bar_style": "success",
      "description": "",
      "description_tooltip": null,
      "layout": "IPY_MODEL_6cdbcea242744ae89229986a260659ff",
      "max": 231508,
      "min": 0,
      "orientation": "horizontal",
      "style": "IPY_MODEL_ebfcd48e2b724ec5a2aa9982791c6589",
      "value": 231508
     }
    },
    "89fd469c15484b8492d47904bc9e9f7d": {
     "model_module": "@jupyter-widgets/base",
     "model_module_version": "1.2.0",
     "model_name": "LayoutModel",
     "state": {
      "_model_module": "@jupyter-widgets/base",
      "_model_module_version": "1.2.0",
      "_model_name": "LayoutModel",
      "_view_count": null,
      "_view_module": "@jupyter-widgets/base",
      "_view_module_version": "1.2.0",
      "_view_name": "LayoutView",
      "align_content": null,
      "align_items": null,
      "align_self": null,
      "border": null,
      "bottom": null,
      "display": null,
      "flex": null,
      "flex_flow": null,
      "grid_area": null,
      "grid_auto_columns": null,
      "grid_auto_flow": null,
      "grid_auto_rows": null,
      "grid_column": null,
      "grid_gap": null,
      "grid_row": null,
      "grid_template_areas": null,
      "grid_template_columns": null,
      "grid_template_rows": null,
      "height": null,
      "justify_content": null,
      "justify_items": null,
      "left": null,
      "margin": null,
      "max_height": null,
      "max_width": null,
      "min_height": null,
      "min_width": null,
      "object_fit": null,
      "object_position": null,
      "order": null,
      "overflow": null,
      "overflow_x": null,
      "overflow_y": null,
      "padding": null,
      "right": null,
      "top": null,
      "visibility": null,
      "width": null
     }
    },
    "8be5603bd7bb4fc3aeb1cfd6bbea87c5": {
     "model_module": "@jupyter-widgets/controls",
     "model_module_version": "1.5.0",
     "model_name": "HBoxModel",
     "state": {
      "_dom_classes": [],
      "_model_module": "@jupyter-widgets/controls",
      "_model_module_version": "1.5.0",
      "_model_name": "HBoxModel",
      "_view_count": null,
      "_view_module": "@jupyter-widgets/controls",
      "_view_module_version": "1.5.0",
      "_view_name": "HBoxView",
      "box_style": "",
      "children": [
       "IPY_MODEL_ff311d59e9d84351818be86b950448fe",
       "IPY_MODEL_da41106e5caa4c71ad59a7ac0c0c77d1",
       "IPY_MODEL_67c14c523a844790b3f01629e49cd6ff"
      ],
      "layout": "IPY_MODEL_53ef788cd7b14da0bc7d6054cfbb2fd2"
     }
    },
    "8caa24aeef00469382e892921d5d85f5": {
     "model_module": "@jupyter-widgets/controls",
     "model_module_version": "1.5.0",
     "model_name": "HTMLModel",
     "state": {
      "_dom_classes": [],
      "_model_module": "@jupyter-widgets/controls",
      "_model_module_version": "1.5.0",
      "_model_name": "HTMLModel",
      "_view_count": null,
      "_view_module": "@jupyter-widgets/controls",
      "_view_module_version": "1.5.0",
      "_view_name": "HTMLView",
      "description": "",
      "description_tooltip": null,
      "layout": "IPY_MODEL_b0385a30a0504796afaf20baf43b2b80",
      "placeholder": "​",
      "style": "IPY_MODEL_b9f30a961fe74f28a800336e250170a8",
      "value": " 5.94k/5.94k [00:00&lt;00:00, 272kB/s]"
     }
    },
    "8ef4f96480ab473ea3ebbf3388bba9bd": {
     "model_module": "@jupyter-widgets/base",
     "model_module_version": "1.2.0",
     "model_name": "LayoutModel",
     "state": {
      "_model_module": "@jupyter-widgets/base",
      "_model_module_version": "1.2.0",
      "_model_name": "LayoutModel",
      "_view_count": null,
      "_view_module": "@jupyter-widgets/base",
      "_view_module_version": "1.2.0",
      "_view_name": "LayoutView",
      "align_content": null,
      "align_items": null,
      "align_self": null,
      "border": null,
      "bottom": null,
      "display": null,
      "flex": null,
      "flex_flow": null,
      "grid_area": null,
      "grid_auto_columns": null,
      "grid_auto_flow": null,
      "grid_auto_rows": null,
      "grid_column": null,
      "grid_gap": null,
      "grid_row": null,
      "grid_template_areas": null,
      "grid_template_columns": null,
      "grid_template_rows": null,
      "height": null,
      "justify_content": null,
      "justify_items": null,
      "left": null,
      "margin": null,
      "max_height": null,
      "max_width": null,
      "min_height": null,
      "min_width": null,
      "object_fit": null,
      "object_position": null,
      "order": null,
      "overflow": null,
      "overflow_x": null,
      "overflow_y": null,
      "padding": null,
      "right": null,
      "top": null,
      "visibility": null,
      "width": null
     }
    },
    "8f08a4e7a028419f8064b3a3e3d44524": {
     "model_module": "@jupyter-widgets/controls",
     "model_module_version": "1.5.0",
     "model_name": "DescriptionStyleModel",
     "state": {
      "_model_module": "@jupyter-widgets/controls",
      "_model_module_version": "1.5.0",
      "_model_name": "DescriptionStyleModel",
      "_view_count": null,
      "_view_module": "@jupyter-widgets/base",
      "_view_module_version": "1.2.0",
      "_view_name": "StyleView",
      "description_width": ""
     }
    },
    "9dabd2a5acbb4daf8ef8048b1904b311": {
     "model_module": "@jupyter-widgets/controls",
     "model_module_version": "1.5.0",
     "model_name": "ProgressStyleModel",
     "state": {
      "_model_module": "@jupyter-widgets/controls",
      "_model_module_version": "1.5.0",
      "_model_name": "ProgressStyleModel",
      "_view_count": null,
      "_view_module": "@jupyter-widgets/base",
      "_view_module_version": "1.2.0",
      "_view_name": "StyleView",
      "bar_color": null,
      "description_width": ""
     }
    },
    "9edd7e7ff7f444c19132ebbbc004496c": {
     "model_module": "@jupyter-widgets/controls",
     "model_module_version": "1.5.0",
     "model_name": "HBoxModel",
     "state": {
      "_dom_classes": [],
      "_model_module": "@jupyter-widgets/controls",
      "_model_module_version": "1.5.0",
      "_model_name": "HBoxModel",
      "_view_count": null,
      "_view_module": "@jupyter-widgets/controls",
      "_view_module_version": "1.5.0",
      "_view_name": "HBoxView",
      "box_style": "",
      "children": [
       "IPY_MODEL_6d47ccf28d574ee187ca2128efa0f0e4",
       "IPY_MODEL_127b6585de4641a1bbcde1752cfdd574",
       "IPY_MODEL_0ecb91f872414a84a3c6b3fbbb4a6721"
      ],
      "layout": "IPY_MODEL_cf360b3bb6f94fa48515f5c86f1e4a0e"
     }
    },
    "a12935b4d6f041bdb9aa953870dfcaff": {
     "model_module": "@jupyter-widgets/controls",
     "model_module_version": "1.5.0",
     "model_name": "DescriptionStyleModel",
     "state": {
      "_model_module": "@jupyter-widgets/controls",
      "_model_module_version": "1.5.0",
      "_model_name": "DescriptionStyleModel",
      "_view_count": null,
      "_view_module": "@jupyter-widgets/base",
      "_view_module_version": "1.2.0",
      "_view_name": "StyleView",
      "description_width": ""
     }
    },
    "a13e7d1e4dd24849be112a9a3a72c502": {
     "model_module": "@jupyter-widgets/base",
     "model_module_version": "1.2.0",
     "model_name": "LayoutModel",
     "state": {
      "_model_module": "@jupyter-widgets/base",
      "_model_module_version": "1.2.0",
      "_model_name": "LayoutModel",
      "_view_count": null,
      "_view_module": "@jupyter-widgets/base",
      "_view_module_version": "1.2.0",
      "_view_name": "LayoutView",
      "align_content": null,
      "align_items": null,
      "align_self": null,
      "border": null,
      "bottom": null,
      "display": null,
      "flex": null,
      "flex_flow": null,
      "grid_area": null,
      "grid_auto_columns": null,
      "grid_auto_flow": null,
      "grid_auto_rows": null,
      "grid_column": null,
      "grid_gap": null,
      "grid_row": null,
      "grid_template_areas": null,
      "grid_template_columns": null,
      "grid_template_rows": null,
      "height": null,
      "justify_content": null,
      "justify_items": null,
      "left": null,
      "margin": null,
      "max_height": null,
      "max_width": null,
      "min_height": null,
      "min_width": null,
      "object_fit": null,
      "object_position": null,
      "order": null,
      "overflow": null,
      "overflow_x": null,
      "overflow_y": null,
      "padding": null,
      "right": null,
      "top": null,
      "visibility": null,
      "width": null
     }
    },
    "a3c28dc4aa4e4ff5949e2619ce15b1ad": {
     "model_module": "@jupyter-widgets/base",
     "model_module_version": "1.2.0",
     "model_name": "LayoutModel",
     "state": {
      "_model_module": "@jupyter-widgets/base",
      "_model_module_version": "1.2.0",
      "_model_name": "LayoutModel",
      "_view_count": null,
      "_view_module": "@jupyter-widgets/base",
      "_view_module_version": "1.2.0",
      "_view_name": "LayoutView",
      "align_content": null,
      "align_items": null,
      "align_self": null,
      "border": null,
      "bottom": null,
      "display": null,
      "flex": null,
      "flex_flow": null,
      "grid_area": null,
      "grid_auto_columns": null,
      "grid_auto_flow": null,
      "grid_auto_rows": null,
      "grid_column": null,
      "grid_gap": null,
      "grid_row": null,
      "grid_template_areas": null,
      "grid_template_columns": null,
      "grid_template_rows": null,
      "height": null,
      "justify_content": null,
      "justify_items": null,
      "left": null,
      "margin": null,
      "max_height": null,
      "max_width": null,
      "min_height": null,
      "min_width": null,
      "object_fit": null,
      "object_position": null,
      "order": null,
      "overflow": null,
      "overflow_x": null,
      "overflow_y": null,
      "padding": null,
      "right": null,
      "top": null,
      "visibility": null,
      "width": null
     }
    },
    "a51b5e1dd06544aa8c13fee2826f073a": {
     "model_module": "@jupyter-widgets/controls",
     "model_module_version": "1.5.0",
     "model_name": "HTMLModel",
     "state": {
      "_dom_classes": [],
      "_model_module": "@jupyter-widgets/controls",
      "_model_module_version": "1.5.0",
      "_model_name": "HTMLModel",
      "_view_count": null,
      "_view_module": "@jupyter-widgets/controls",
      "_view_module_version": "1.5.0",
      "_view_name": "HTMLView",
      "description": "",
      "description_tooltip": null,
      "layout": "IPY_MODEL_89fd469c15484b8492d47904bc9e9f7d",
      "placeholder": "​",
      "style": "IPY_MODEL_d2123de867634dac9e122dd0225ac669",
      "value": "Downloading pytorch_model.bin: 100%"
     }
    },
    "a5865051b0e6493e9b1c52c8b68cdc01": {
     "model_module": "@jupyter-widgets/controls",
     "model_module_version": "1.5.0",
     "model_name": "HBoxModel",
     "state": {
      "_dom_classes": [],
      "_model_module": "@jupyter-widgets/controls",
      "_model_module_version": "1.5.0",
      "_model_name": "HBoxModel",
      "_view_count": null,
      "_view_module": "@jupyter-widgets/controls",
      "_view_module_version": "1.5.0",
      "_view_name": "HBoxView",
      "box_style": "",
      "children": [
       "IPY_MODEL_1dc51983ad0b44f3a3952518a8cf29cc",
       "IPY_MODEL_86314a7d1c5b4a33a587a5adaebbcf65",
       "IPY_MODEL_5260c75dafa24778a8ad471157150d1f"
      ],
      "layout": "IPY_MODEL_b5fc53e21c8d4a83861984324daf70df"
     }
    },
    "a98b7adbcd2f45c894fd035915ab9a73": {
     "model_module": "@jupyter-widgets/controls",
     "model_module_version": "1.5.0",
     "model_name": "HTMLModel",
     "state": {
      "_dom_classes": [],
      "_model_module": "@jupyter-widgets/controls",
      "_model_module_version": "1.5.0",
      "_model_name": "HTMLModel",
      "_view_count": null,
      "_view_module": "@jupyter-widgets/controls",
      "_view_module_version": "1.5.0",
      "_view_name": "HTMLView",
      "description": "",
      "description_tooltip": null,
      "layout": "IPY_MODEL_afee4fb69ef84c3691fe8b653fef0a3b",
      "placeholder": "​",
      "style": "IPY_MODEL_ca87ddf2ed2443948df07ab511fbbecc",
      "value": "Downloading (…)solve/main/vocab.txt: 100%"
     }
    },
    "aed90f4c63874a56920af088380932a3": {
     "model_module": "@jupyter-widgets/controls",
     "model_module_version": "1.5.0",
     "model_name": "DescriptionStyleModel",
     "state": {
      "_model_module": "@jupyter-widgets/controls",
      "_model_module_version": "1.5.0",
      "_model_name": "DescriptionStyleModel",
      "_view_count": null,
      "_view_module": "@jupyter-widgets/base",
      "_view_module_version": "1.2.0",
      "_view_name": "StyleView",
      "description_width": ""
     }
    },
    "afee4fb69ef84c3691fe8b653fef0a3b": {
     "model_module": "@jupyter-widgets/base",
     "model_module_version": "1.2.0",
     "model_name": "LayoutModel",
     "state": {
      "_model_module": "@jupyter-widgets/base",
      "_model_module_version": "1.2.0",
      "_model_name": "LayoutModel",
      "_view_count": null,
      "_view_module": "@jupyter-widgets/base",
      "_view_module_version": "1.2.0",
      "_view_name": "LayoutView",
      "align_content": null,
      "align_items": null,
      "align_self": null,
      "border": null,
      "bottom": null,
      "display": null,
      "flex": null,
      "flex_flow": null,
      "grid_area": null,
      "grid_auto_columns": null,
      "grid_auto_flow": null,
      "grid_auto_rows": null,
      "grid_column": null,
      "grid_gap": null,
      "grid_row": null,
      "grid_template_areas": null,
      "grid_template_columns": null,
      "grid_template_rows": null,
      "height": null,
      "justify_content": null,
      "justify_items": null,
      "left": null,
      "margin": null,
      "max_height": null,
      "max_width": null,
      "min_height": null,
      "min_width": null,
      "object_fit": null,
      "object_position": null,
      "order": null,
      "overflow": null,
      "overflow_x": null,
      "overflow_y": null,
      "padding": null,
      "right": null,
      "top": null,
      "visibility": null,
      "width": null
     }
    },
    "b0385a30a0504796afaf20baf43b2b80": {
     "model_module": "@jupyter-widgets/base",
     "model_module_version": "1.2.0",
     "model_name": "LayoutModel",
     "state": {
      "_model_module": "@jupyter-widgets/base",
      "_model_module_version": "1.2.0",
      "_model_name": "LayoutModel",
      "_view_count": null,
      "_view_module": "@jupyter-widgets/base",
      "_view_module_version": "1.2.0",
      "_view_name": "LayoutView",
      "align_content": null,
      "align_items": null,
      "align_self": null,
      "border": null,
      "bottom": null,
      "display": null,
      "flex": null,
      "flex_flow": null,
      "grid_area": null,
      "grid_auto_columns": null,
      "grid_auto_flow": null,
      "grid_auto_rows": null,
      "grid_column": null,
      "grid_gap": null,
      "grid_row": null,
      "grid_template_areas": null,
      "grid_template_columns": null,
      "grid_template_rows": null,
      "height": null,
      "justify_content": null,
      "justify_items": null,
      "left": null,
      "margin": null,
      "max_height": null,
      "max_width": null,
      "min_height": null,
      "min_width": null,
      "object_fit": null,
      "object_position": null,
      "order": null,
      "overflow": null,
      "overflow_x": null,
      "overflow_y": null,
      "padding": null,
      "right": null,
      "top": null,
      "visibility": null,
      "width": null
     }
    },
    "b5fc53e21c8d4a83861984324daf70df": {
     "model_module": "@jupyter-widgets/base",
     "model_module_version": "1.2.0",
     "model_name": "LayoutModel",
     "state": {
      "_model_module": "@jupyter-widgets/base",
      "_model_module_version": "1.2.0",
      "_model_name": "LayoutModel",
      "_view_count": null,
      "_view_module": "@jupyter-widgets/base",
      "_view_module_version": "1.2.0",
      "_view_name": "LayoutView",
      "align_content": null,
      "align_items": null,
      "align_self": null,
      "border": null,
      "bottom": null,
      "display": null,
      "flex": null,
      "flex_flow": null,
      "grid_area": null,
      "grid_auto_columns": null,
      "grid_auto_flow": null,
      "grid_auto_rows": null,
      "grid_column": null,
      "grid_gap": null,
      "grid_row": null,
      "grid_template_areas": null,
      "grid_template_columns": null,
      "grid_template_rows": null,
      "height": null,
      "justify_content": null,
      "justify_items": null,
      "left": null,
      "margin": null,
      "max_height": null,
      "max_width": null,
      "min_height": null,
      "min_width": null,
      "object_fit": null,
      "object_position": null,
      "order": null,
      "overflow": null,
      "overflow_x": null,
      "overflow_y": null,
      "padding": null,
      "right": null,
      "top": null,
      "visibility": null,
      "width": null
     }
    },
    "b8f5881762cd4c8cbb8ee49ceaef0a79": {
     "model_module": "@jupyter-widgets/controls",
     "model_module_version": "1.5.0",
     "model_name": "DescriptionStyleModel",
     "state": {
      "_model_module": "@jupyter-widgets/controls",
      "_model_module_version": "1.5.0",
      "_model_name": "DescriptionStyleModel",
      "_view_count": null,
      "_view_module": "@jupyter-widgets/base",
      "_view_module_version": "1.2.0",
      "_view_name": "StyleView",
      "description_width": ""
     }
    },
    "b9f30a961fe74f28a800336e250170a8": {
     "model_module": "@jupyter-widgets/controls",
     "model_module_version": "1.5.0",
     "model_name": "DescriptionStyleModel",
     "state": {
      "_model_module": "@jupyter-widgets/controls",
      "_model_module_version": "1.5.0",
      "_model_name": "DescriptionStyleModel",
      "_view_count": null,
      "_view_module": "@jupyter-widgets/base",
      "_view_module_version": "1.2.0",
      "_view_name": "StyleView",
      "description_width": ""
     }
    },
    "bc24f7e3225d477db0304299131a1b75": {
     "model_module": "@jupyter-widgets/controls",
     "model_module_version": "1.5.0",
     "model_name": "DescriptionStyleModel",
     "state": {
      "_model_module": "@jupyter-widgets/controls",
      "_model_module_version": "1.5.0",
      "_model_name": "DescriptionStyleModel",
      "_view_count": null,
      "_view_module": "@jupyter-widgets/base",
      "_view_module_version": "1.2.0",
      "_view_name": "StyleView",
      "description_width": ""
     }
    },
    "bfc06e917a5f450b80fb33235ee086da": {
     "model_module": "@jupyter-widgets/base",
     "model_module_version": "1.2.0",
     "model_name": "LayoutModel",
     "state": {
      "_model_module": "@jupyter-widgets/base",
      "_model_module_version": "1.2.0",
      "_model_name": "LayoutModel",
      "_view_count": null,
      "_view_module": "@jupyter-widgets/base",
      "_view_module_version": "1.2.0",
      "_view_name": "LayoutView",
      "align_content": null,
      "align_items": null,
      "align_self": null,
      "border": null,
      "bottom": null,
      "display": null,
      "flex": null,
      "flex_flow": null,
      "grid_area": null,
      "grid_auto_columns": null,
      "grid_auto_flow": null,
      "grid_auto_rows": null,
      "grid_column": null,
      "grid_gap": null,
      "grid_row": null,
      "grid_template_areas": null,
      "grid_template_columns": null,
      "grid_template_rows": null,
      "height": null,
      "justify_content": null,
      "justify_items": null,
      "left": null,
      "margin": null,
      "max_height": null,
      "max_width": null,
      "min_height": null,
      "min_width": null,
      "object_fit": null,
      "object_position": null,
      "order": null,
      "overflow": null,
      "overflow_x": null,
      "overflow_y": null,
      "padding": null,
      "right": null,
      "top": null,
      "visibility": null,
      "width": null
     }
    },
    "bfe860d142b84e2caaf9241607de2552": {
     "model_module": "@jupyter-widgets/base",
     "model_module_version": "1.2.0",
     "model_name": "LayoutModel",
     "state": {
      "_model_module": "@jupyter-widgets/base",
      "_model_module_version": "1.2.0",
      "_model_name": "LayoutModel",
      "_view_count": null,
      "_view_module": "@jupyter-widgets/base",
      "_view_module_version": "1.2.0",
      "_view_name": "LayoutView",
      "align_content": null,
      "align_items": null,
      "align_self": null,
      "border": null,
      "bottom": null,
      "display": null,
      "flex": null,
      "flex_flow": null,
      "grid_area": null,
      "grid_auto_columns": null,
      "grid_auto_flow": null,
      "grid_auto_rows": null,
      "grid_column": null,
      "grid_gap": null,
      "grid_row": null,
      "grid_template_areas": null,
      "grid_template_columns": null,
      "grid_template_rows": null,
      "height": null,
      "justify_content": null,
      "justify_items": null,
      "left": null,
      "margin": null,
      "max_height": null,
      "max_width": null,
      "min_height": null,
      "min_width": null,
      "object_fit": null,
      "object_position": null,
      "order": null,
      "overflow": null,
      "overflow_x": null,
      "overflow_y": null,
      "padding": null,
      "right": null,
      "top": null,
      "visibility": null,
      "width": null
     }
    },
    "c2765d706eae4dd2ad367a3782baad0d": {
     "model_module": "@jupyter-widgets/controls",
     "model_module_version": "1.5.0",
     "model_name": "HTMLModel",
     "state": {
      "_dom_classes": [],
      "_model_module": "@jupyter-widgets/controls",
      "_model_module_version": "1.5.0",
      "_model_name": "HTMLModel",
      "_view_count": null,
      "_view_module": "@jupyter-widgets/controls",
      "_view_module_version": "1.5.0",
      "_view_name": "HTMLView",
      "description": "",
      "description_tooltip": null,
      "layout": "IPY_MODEL_61f28152be1848e3bc914e13152410a6",
      "placeholder": "​",
      "style": "IPY_MODEL_aed90f4c63874a56920af088380932a3",
      "value": " 6.27k/6.27k [00:00&lt;00:00, 172kB/s]"
     }
    },
    "c6e7c27449814ac8bc81c0719f3d2f5d": {
     "model_module": "@jupyter-widgets/controls",
     "model_module_version": "1.5.0",
     "model_name": "ProgressStyleModel",
     "state": {
      "_model_module": "@jupyter-widgets/controls",
      "_model_module_version": "1.5.0",
      "_model_name": "ProgressStyleModel",
      "_view_count": null,
      "_view_module": "@jupyter-widgets/base",
      "_view_module_version": "1.2.0",
      "_view_name": "StyleView",
      "bar_color": null,
      "description_width": ""
     }
    },
    "c88938daf6904651914e7ad923bdea87": {
     "model_module": "@jupyter-widgets/controls",
     "model_module_version": "1.5.0",
     "model_name": "DescriptionStyleModel",
     "state": {
      "_model_module": "@jupyter-widgets/controls",
      "_model_module_version": "1.5.0",
      "_model_name": "DescriptionStyleModel",
      "_view_count": null,
      "_view_module": "@jupyter-widgets/base",
      "_view_module_version": "1.2.0",
      "_view_name": "StyleView",
      "description_width": ""
     }
    },
    "c93113e752fa49c6b8eae46deeed3660": {
     "model_module": "@jupyter-widgets/base",
     "model_module_version": "1.2.0",
     "model_name": "LayoutModel",
     "state": {
      "_model_module": "@jupyter-widgets/base",
      "_model_module_version": "1.2.0",
      "_model_name": "LayoutModel",
      "_view_count": null,
      "_view_module": "@jupyter-widgets/base",
      "_view_module_version": "1.2.0",
      "_view_name": "LayoutView",
      "align_content": null,
      "align_items": null,
      "align_self": null,
      "border": null,
      "bottom": null,
      "display": null,
      "flex": null,
      "flex_flow": null,
      "grid_area": null,
      "grid_auto_columns": null,
      "grid_auto_flow": null,
      "grid_auto_rows": null,
      "grid_column": null,
      "grid_gap": null,
      "grid_row": null,
      "grid_template_areas": null,
      "grid_template_columns": null,
      "grid_template_rows": null,
      "height": null,
      "justify_content": null,
      "justify_items": null,
      "left": null,
      "margin": null,
      "max_height": null,
      "max_width": null,
      "min_height": null,
      "min_width": null,
      "object_fit": null,
      "object_position": null,
      "order": null,
      "overflow": null,
      "overflow_x": null,
      "overflow_y": null,
      "padding": null,
      "right": null,
      "top": null,
      "visibility": null,
      "width": null
     }
    },
    "ca3c959c36ed4ffd99317d2985c04708": {
     "model_module": "@jupyter-widgets/base",
     "model_module_version": "1.2.0",
     "model_name": "LayoutModel",
     "state": {
      "_model_module": "@jupyter-widgets/base",
      "_model_module_version": "1.2.0",
      "_model_name": "LayoutModel",
      "_view_count": null,
      "_view_module": "@jupyter-widgets/base",
      "_view_module_version": "1.2.0",
      "_view_name": "LayoutView",
      "align_content": null,
      "align_items": null,
      "align_self": null,
      "border": null,
      "bottom": null,
      "display": null,
      "flex": null,
      "flex_flow": null,
      "grid_area": null,
      "grid_auto_columns": null,
      "grid_auto_flow": null,
      "grid_auto_rows": null,
      "grid_column": null,
      "grid_gap": null,
      "grid_row": null,
      "grid_template_areas": null,
      "grid_template_columns": null,
      "grid_template_rows": null,
      "height": null,
      "justify_content": null,
      "justify_items": null,
      "left": null,
      "margin": null,
      "max_height": null,
      "max_width": null,
      "min_height": null,
      "min_width": null,
      "object_fit": null,
      "object_position": null,
      "order": null,
      "overflow": null,
      "overflow_x": null,
      "overflow_y": null,
      "padding": null,
      "right": null,
      "top": null,
      "visibility": null,
      "width": null
     }
    },
    "ca87ddf2ed2443948df07ab511fbbecc": {
     "model_module": "@jupyter-widgets/controls",
     "model_module_version": "1.5.0",
     "model_name": "DescriptionStyleModel",
     "state": {
      "_model_module": "@jupyter-widgets/controls",
      "_model_module_version": "1.5.0",
      "_model_name": "DescriptionStyleModel",
      "_view_count": null,
      "_view_module": "@jupyter-widgets/base",
      "_view_module_version": "1.2.0",
      "_view_name": "StyleView",
      "description_width": ""
     }
    },
    "cf360b3bb6f94fa48515f5c86f1e4a0e": {
     "model_module": "@jupyter-widgets/base",
     "model_module_version": "1.2.0",
     "model_name": "LayoutModel",
     "state": {
      "_model_module": "@jupyter-widgets/base",
      "_model_module_version": "1.2.0",
      "_model_name": "LayoutModel",
      "_view_count": null,
      "_view_module": "@jupyter-widgets/base",
      "_view_module_version": "1.2.0",
      "_view_name": "LayoutView",
      "align_content": null,
      "align_items": null,
      "align_self": null,
      "border": null,
      "bottom": null,
      "display": null,
      "flex": null,
      "flex_flow": null,
      "grid_area": null,
      "grid_auto_columns": null,
      "grid_auto_flow": null,
      "grid_auto_rows": null,
      "grid_column": null,
      "grid_gap": null,
      "grid_row": null,
      "grid_template_areas": null,
      "grid_template_columns": null,
      "grid_template_rows": null,
      "height": null,
      "justify_content": null,
      "justify_items": null,
      "left": null,
      "margin": null,
      "max_height": null,
      "max_width": null,
      "min_height": null,
      "min_width": null,
      "object_fit": null,
      "object_position": null,
      "order": null,
      "overflow": null,
      "overflow_x": null,
      "overflow_y": null,
      "padding": null,
      "right": null,
      "top": null,
      "visibility": null,
      "width": null
     }
    },
    "d2123de867634dac9e122dd0225ac669": {
     "model_module": "@jupyter-widgets/controls",
     "model_module_version": "1.5.0",
     "model_name": "DescriptionStyleModel",
     "state": {
      "_model_module": "@jupyter-widgets/controls",
      "_model_module_version": "1.5.0",
      "_model_name": "DescriptionStyleModel",
      "_view_count": null,
      "_view_module": "@jupyter-widgets/base",
      "_view_module_version": "1.2.0",
      "_view_name": "StyleView",
      "description_width": ""
     }
    },
    "d6f4e3fb37684f769131108e6a0b8854": {
     "model_module": "@jupyter-widgets/controls",
     "model_module_version": "1.5.0",
     "model_name": "ProgressStyleModel",
     "state": {
      "_model_module": "@jupyter-widgets/controls",
      "_model_module_version": "1.5.0",
      "_model_name": "ProgressStyleModel",
      "_view_count": null,
      "_view_module": "@jupyter-widgets/base",
      "_view_module_version": "1.2.0",
      "_view_name": "StyleView",
      "bar_color": null,
      "description_width": ""
     }
    },
    "d9a3347014df41958cb7ff8cd55f1bc1": {
     "model_module": "@jupyter-widgets/controls",
     "model_module_version": "1.5.0",
     "model_name": "DescriptionStyleModel",
     "state": {
      "_model_module": "@jupyter-widgets/controls",
      "_model_module_version": "1.5.0",
      "_model_name": "DescriptionStyleModel",
      "_view_count": null,
      "_view_module": "@jupyter-widgets/base",
      "_view_module_version": "1.2.0",
      "_view_name": "StyleView",
      "description_width": ""
     }
    },
    "da41106e5caa4c71ad59a7ac0c0c77d1": {
     "model_module": "@jupyter-widgets/controls",
     "model_module_version": "1.5.0",
     "model_name": "FloatProgressModel",
     "state": {
      "_dom_classes": [],
      "_model_module": "@jupyter-widgets/controls",
      "_model_module_version": "1.5.0",
      "_model_name": "FloatProgressModel",
      "_view_count": null,
      "_view_module": "@jupyter-widgets/controls",
      "_view_module_version": "1.5.0",
      "_view_name": "ProgressView",
      "bar_style": "success",
      "description": "",
      "description_tooltip": null,
      "layout": "IPY_MODEL_c93113e752fa49c6b8eae46deeed3660",
      "max": 1554,
      "min": 0,
      "orientation": "horizontal",
      "style": "IPY_MODEL_fec191fedd86425a8482d0e53688fc53",
      "value": 1554
     }
    },
    "dcc41c5daaee4443821f66b4eaef006c": {
     "model_module": "@jupyter-widgets/controls",
     "model_module_version": "1.5.0",
     "model_name": "ProgressStyleModel",
     "state": {
      "_model_module": "@jupyter-widgets/controls",
      "_model_module_version": "1.5.0",
      "_model_name": "ProgressStyleModel",
      "_view_count": null,
      "_view_module": "@jupyter-widgets/base",
      "_view_module_version": "1.2.0",
      "_view_name": "StyleView",
      "bar_color": null,
      "description_width": ""
     }
    },
    "dccb19335e9b40efa0d5072a30338b44": {
     "model_module": "@jupyter-widgets/controls",
     "model_module_version": "1.5.0",
     "model_name": "ProgressStyleModel",
     "state": {
      "_model_module": "@jupyter-widgets/controls",
      "_model_module_version": "1.5.0",
      "_model_name": "ProgressStyleModel",
      "_view_count": null,
      "_view_module": "@jupyter-widgets/base",
      "_view_module_version": "1.2.0",
      "_view_name": "StyleView",
      "bar_color": null,
      "description_width": ""
     }
    },
    "ea3ec3b1618647bda479abd5cfcd6e65": {
     "model_module": "@jupyter-widgets/base",
     "model_module_version": "1.2.0",
     "model_name": "LayoutModel",
     "state": {
      "_model_module": "@jupyter-widgets/base",
      "_model_module_version": "1.2.0",
      "_model_name": "LayoutModel",
      "_view_count": null,
      "_view_module": "@jupyter-widgets/base",
      "_view_module_version": "1.2.0",
      "_view_name": "LayoutView",
      "align_content": null,
      "align_items": null,
      "align_self": null,
      "border": null,
      "bottom": null,
      "display": null,
      "flex": null,
      "flex_flow": null,
      "grid_area": null,
      "grid_auto_columns": null,
      "grid_auto_flow": null,
      "grid_auto_rows": null,
      "grid_column": null,
      "grid_gap": null,
      "grid_row": null,
      "grid_template_areas": null,
      "grid_template_columns": null,
      "grid_template_rows": null,
      "height": null,
      "justify_content": null,
      "justify_items": null,
      "left": null,
      "margin": null,
      "max_height": null,
      "max_width": null,
      "min_height": null,
      "min_width": null,
      "object_fit": null,
      "object_position": null,
      "order": null,
      "overflow": null,
      "overflow_x": null,
      "overflow_y": null,
      "padding": null,
      "right": null,
      "top": null,
      "visibility": null,
      "width": null
     }
    },
    "ebfcd48e2b724ec5a2aa9982791c6589": {
     "model_module": "@jupyter-widgets/controls",
     "model_module_version": "1.5.0",
     "model_name": "ProgressStyleModel",
     "state": {
      "_model_module": "@jupyter-widgets/controls",
      "_model_module_version": "1.5.0",
      "_model_name": "ProgressStyleModel",
      "_view_count": null,
      "_view_module": "@jupyter-widgets/base",
      "_view_module_version": "1.2.0",
      "_view_name": "StyleView",
      "bar_color": null,
      "description_width": ""
     }
    },
    "f33329552f0c48ccaec4533c372fa713": {
     "model_module": "@jupyter-widgets/base",
     "model_module_version": "1.2.0",
     "model_name": "LayoutModel",
     "state": {
      "_model_module": "@jupyter-widgets/base",
      "_model_module_version": "1.2.0",
      "_model_name": "LayoutModel",
      "_view_count": null,
      "_view_module": "@jupyter-widgets/base",
      "_view_module_version": "1.2.0",
      "_view_name": "LayoutView",
      "align_content": null,
      "align_items": null,
      "align_self": null,
      "border": null,
      "bottom": null,
      "display": null,
      "flex": null,
      "flex_flow": null,
      "grid_area": null,
      "grid_auto_columns": null,
      "grid_auto_flow": null,
      "grid_auto_rows": null,
      "grid_column": null,
      "grid_gap": null,
      "grid_row": null,
      "grid_template_areas": null,
      "grid_template_columns": null,
      "grid_template_rows": null,
      "height": null,
      "justify_content": null,
      "justify_items": null,
      "left": null,
      "margin": null,
      "max_height": null,
      "max_width": null,
      "min_height": null,
      "min_width": null,
      "object_fit": null,
      "object_position": null,
      "order": null,
      "overflow": null,
      "overflow_x": null,
      "overflow_y": null,
      "padding": null,
      "right": null,
      "top": null,
      "visibility": null,
      "width": null
     }
    },
    "f521ffa26da041cc9150430b3fe34cf8": {
     "model_module": "@jupyter-widgets/controls",
     "model_module_version": "1.5.0",
     "model_name": "ProgressStyleModel",
     "state": {
      "_model_module": "@jupyter-widgets/controls",
      "_model_module_version": "1.5.0",
      "_model_name": "ProgressStyleModel",
      "_view_count": null,
      "_view_module": "@jupyter-widgets/base",
      "_view_module_version": "1.2.0",
      "_view_name": "StyleView",
      "bar_color": null,
      "description_width": ""
     }
    },
    "f99cfb6a13ca4f7997bd4e31b16c2f65": {
     "model_module": "@jupyter-widgets/controls",
     "model_module_version": "1.5.0",
     "model_name": "DescriptionStyleModel",
     "state": {
      "_model_module": "@jupyter-widgets/controls",
      "_model_module_version": "1.5.0",
      "_model_name": "DescriptionStyleModel",
      "_view_count": null,
      "_view_module": "@jupyter-widgets/base",
      "_view_module_version": "1.2.0",
      "_view_name": "StyleView",
      "description_width": ""
     }
    },
    "fb2f7a17ab3a426192df3873b88558fc": {
     "model_module": "@jupyter-widgets/controls",
     "model_module_version": "1.5.0",
     "model_name": "HTMLModel",
     "state": {
      "_dom_classes": [],
      "_model_module": "@jupyter-widgets/controls",
      "_model_module_version": "1.5.0",
      "_model_name": "HTMLModel",
      "_view_count": null,
      "_view_module": "@jupyter-widgets/controls",
      "_view_module_version": "1.5.0",
      "_view_name": "HTMLView",
      "description": "",
      "description_tooltip": null,
      "layout": "IPY_MODEL_857ca69524e445d1a63fbb92a2a43cde",
      "placeholder": "​",
      "style": "IPY_MODEL_7f43404171d34bb48dda4fa80cd21341",
      "value": " 51.0M/51.0M [00:00&lt;00:00, 150MB/s]"
     }
    },
    "fb6f58781e184f328bde1ddfe5db93cf": {
     "model_module": "@jupyter-widgets/controls",
     "model_module_version": "1.5.0",
     "model_name": "HBoxModel",
     "state": {
      "_dom_classes": [],
      "_model_module": "@jupyter-widgets/controls",
      "_model_module_version": "1.5.0",
      "_model_name": "HBoxModel",
      "_view_count": null,
      "_view_module": "@jupyter-widgets/controls",
      "_view_module_version": "1.5.0",
      "_view_name": "HBoxView",
      "box_style": "",
      "children": [
       "IPY_MODEL_3cefb05e4e95492bb64b74fb4c7821c6",
       "IPY_MODEL_4fdc1b9447a84abc9a3cb76541258b7e",
       "IPY_MODEL_8caa24aeef00469382e892921d5d85f5"
      ],
      "layout": "IPY_MODEL_7705dce819e143fb8896b51cfa1b0350"
     }
    },
    "fe9a6a822b4448c19cbdcef0d24edb40": {
     "model_module": "@jupyter-widgets/controls",
     "model_module_version": "1.5.0",
     "model_name": "FloatProgressModel",
     "state": {
      "_dom_classes": [],
      "_model_module": "@jupyter-widgets/controls",
      "_model_module_version": "1.5.0",
      "_model_name": "FloatProgressModel",
      "_view_count": null,
      "_view_module": "@jupyter-widgets/controls",
      "_view_module_version": "1.5.0",
      "_view_name": "ProgressView",
      "bar_style": "success",
      "description": "",
      "description_tooltip": null,
      "layout": "IPY_MODEL_ca3c959c36ed4ffd99317d2985c04708",
      "max": 5669,
      "min": 0,
      "orientation": "horizontal",
      "style": "IPY_MODEL_dcc41c5daaee4443821f66b4eaef006c",
      "value": 5669
     }
    },
    "fec191fedd86425a8482d0e53688fc53": {
     "model_module": "@jupyter-widgets/controls",
     "model_module_version": "1.5.0",
     "model_name": "ProgressStyleModel",
     "state": {
      "_model_module": "@jupyter-widgets/controls",
      "_model_module_version": "1.5.0",
      "_model_name": "ProgressStyleModel",
      "_view_count": null,
      "_view_module": "@jupyter-widgets/base",
      "_view_module_version": "1.2.0",
      "_view_name": "StyleView",
      "bar_color": null,
      "description_width": ""
     }
    },
    "ff311d59e9d84351818be86b950448fe": {
     "model_module": "@jupyter-widgets/controls",
     "model_module_version": "1.5.0",
     "model_name": "HTMLModel",
     "state": {
      "_dom_classes": [],
      "_model_module": "@jupyter-widgets/controls",
      "_model_module_version": "1.5.0",
      "_model_name": "HTMLModel",
      "_view_count": null,
      "_view_module": "@jupyter-widgets/controls",
      "_view_module_version": "1.5.0",
      "_view_name": "HTMLView",
      "description": "",
      "description_tooltip": null,
      "layout": "IPY_MODEL_a13e7d1e4dd24849be112a9a3a72c502",
      "placeholder": "​",
      "style": "IPY_MODEL_8f08a4e7a028419f8064b3a3e3d44524",
      "value": "Downloading extra modules: "
     }
    },
    "fff6d647683046109a1bfe1362b7e42a": {
     "model_module": "@jupyter-widgets/base",
     "model_module_version": "1.2.0",
     "model_name": "LayoutModel",
     "state": {
      "_model_module": "@jupyter-widgets/base",
      "_model_module_version": "1.2.0",
      "_model_name": "LayoutModel",
      "_view_count": null,
      "_view_module": "@jupyter-widgets/base",
      "_view_module_version": "1.2.0",
      "_view_name": "LayoutView",
      "align_content": null,
      "align_items": null,
      "align_self": null,
      "border": null,
      "bottom": null,
      "display": null,
      "flex": null,
      "flex_flow": null,
      "grid_area": null,
      "grid_auto_columns": null,
      "grid_auto_flow": null,
      "grid_auto_rows": null,
      "grid_column": null,
      "grid_gap": null,
      "grid_row": null,
      "grid_template_areas": null,
      "grid_template_columns": null,
      "grid_template_rows": null,
      "height": null,
      "justify_content": null,
      "justify_items": null,
      "left": null,
      "margin": null,
      "max_height": null,
      "max_width": null,
      "min_height": null,
      "min_width": null,
      "object_fit": null,
      "object_position": null,
      "order": null,
      "overflow": null,
      "overflow_x": null,
      "overflow_y": null,
      "padding": null,
      "right": null,
      "top": null,
      "visibility": null,
      "width": null
     }
    }
   }
  }
 },
 "nbformat": 4,
 "nbformat_minor": 0
}
