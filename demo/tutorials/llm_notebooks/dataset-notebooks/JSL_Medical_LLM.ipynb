{
  "cells": [
    {
      "cell_type": "markdown",
      "id": "7bWdXVH689qq",
      "metadata": {
        "id": "7bWdXVH689qq"
      },
      "source": [
        "![logog](https://raw.githubusercontent.com/Pacific-AI-Corp/langtest/main/docs/assets/images/logo.png)"
      ]
    },
    {
      "cell_type": "markdown",
      "id": "StiWYQxp89qu",
      "metadata": {
        "id": "StiWYQxp89qu"
      },
      "source": [
        "[![Open In Colab](https://colab.research.google.com/assets/colab-badge.svg)](https://colab.research.google.com/github/Pacific-AI-Corp/langtest/blob/main/demo/tutorials/llm_notebooks/dataset-notebooks/JSL_Medical_LLM.ipynb)"
      ]
    },
    {
      "cell_type": "markdown",
      "id": "MmfFXy5289qu",
      "metadata": {
        "id": "MmfFXy5289qu"
      },
      "source": [
        "**LangTest** is an open-source python library designed to help developers deliver safe and effective Natural Language Processing (NLP) models. Whether you are using **John Snow Labs, Hugging Face, Spacy** models or **OpenAI, Cohere, AI21, Hugging Face Inference API and Azure-OpenAI** based LLMs, it has got you covered. You can test any Named Entity Recognition (NER), Text Classification, fill-mask, Translation model using the library. We also support testing LLMS for Question-Answering, Summarization and text-generation tasks on benchmark datasets. The library supports 60+ out of the box tests. For a complete list of supported test categories, please refer to the [documentation](http://langtest.org/docs/pages/docs/test_categories).\n",
        "\n",
        "Metrics are calculated by comparing the model's extractions in the original list of sentences against the extractions carried out in the noisy list of sentences. The original annotated labels are not used at any point, we are simply comparing the model against itself in a 2 settings."
      ]
    },
    {
      "cell_type": "markdown",
      "id": "FNMt8qKt89qw",
      "metadata": {
        "id": "FNMt8qKt89qw"
      },
      "source": [
        "## Initial setup"
      ]
    },
    {
      "cell_type": "code",
      "execution_count": 1,
      "id": "V8jpZLGM89qw",
      "metadata": {
        "id": "V8jpZLGM89qw"
      },
      "outputs": [],
      "source": [
        "import os\n",
        "\n",
        "os.environ[\"OPENAI_API_KEY\"] = \"OPENAI_API_KEY\""
      ]
    },
    {
      "cell_type": "code",
      "execution_count": null,
      "id": "218f8b4b",
      "metadata": {},
      "outputs": [],
      "source": [
        "import json, os\n",
        "from google.colab import files\n",
        "\n",
        "if 'spark_jsl.json' not in os.listdir():\n",
        "  license_keys = files.upload()\n",
        "  os.rename(list(license_keys.keys())[0], 'spark_jsl.json')\n",
        "\n",
        "with open('spark_jsl.json') as f:\n",
        "    license_keys = json.load(f)\n",
        "\n",
        "# Defining license key-value pairs as local variables\n",
        "locals().update(license_keys)\n",
        "os.environ.update(license_keys)"
      ]
    },
    {
      "cell_type": "code",
      "execution_count": null,
      "id": "6bce5f5b",
      "metadata": {},
      "outputs": [],
      "source": [
        "PUBLIC_VERSION = license_keys['PUBLIC_VERSION']\n",
        "JSL_VERSION = license_keys['JSL_VERSION']\n",
        "SECRET = license_keys['SECRET']\n",
        "\n",
        "# Installing pyspark and spark-nlp\n",
        "!pip install --upgrade -q pyspark==3.4.1  spark-nlp=={PUBLIC_VERSION}\n",
        "\n",
        "# Installing Spark NLP Healthcare\n",
        "!pip install --upgrade -q spark-nlp-jsl=={JSL_VERSION}  --extra-index-url https://pypi.johnsnowlabs.com/{SECRET}\n",
        "\n",
        "# Installing Spark NLP Display Library for visualization\n",
        "!pip install -q spark-nlp-display"
      ]
    },
    {
      "cell_type": "code",
      "execution_count": 3,
      "id": "01702d36",
      "metadata": {},
      "outputs": [
        {
          "name": "stdout",
          "output_type": "stream",
          "text": [
            "Spark NLP Version : 5.5.2\n",
            "Spark NLP_JSL Version : 5.5.2\n"
          ]
        },
        {
          "data": {
            "text/html": [
              "\n",
              "            <div>\n",
              "                <p><b>SparkSession - in-memory</b></p>\n",
              "                \n",
              "        <div>\n",
              "            <p><b>SparkContext</b></p>\n",
              "\n",
              "            <p><a href=\"http://KALYAN:4040\">Spark UI</a></p>\n",
              "\n",
              "            <dl>\n",
              "              <dt>Version</dt>\n",
              "                <dd><code>v3.4.3</code></dd>\n",
              "              <dt>Master</dt>\n",
              "                <dd><code>local[*]</code></dd>\n",
              "              <dt>AppName</dt>\n",
              "                <dd><code>Spark NLP Licensed</code></dd>\n",
              "            </dl>\n",
              "        </div>\n",
              "        \n",
              "            </div>\n",
              "        "
            ],
            "text/plain": [
              "<pyspark.sql.session.SparkSession at 0x25cff0a8fd0>"
            ]
          },
          "execution_count": 3,
          "metadata": {},
          "output_type": "execute_result"
        }
      ],
      "source": [
        "import os\n",
        "import json\n",
        "\n",
        "import sparknlp\n",
        "import sparknlp_jsl\n",
        "\n",
        "from sparknlp.base import *\n",
        "from sparknlp.util import *\n",
        "from sparknlp.annotator import *\n",
        "from sparknlp_jsl.annotator import *\n",
        "from sparknlp.pretrained import ResourceDownloader\n",
        "\n",
        "from pyspark.sql import SparkSession\n",
        "from pyspark.sql import functions as F\n",
        "from pyspark.ml import Pipeline, PipelineModel\n",
        "\n",
        "import numpy as np\n",
        "\n",
        "params = {\"spark.driver.memory\":\"16G\",\n",
        "          \"spark.kryoserializer.buffer.max\":\"2000M\",\n",
        "          \"spark.serializer\": \"org.apache.spark.serializer.KryoSerializer\",\n",
        "          \"spark.driver.maxResultSize\":\"2000M\"}\n",
        "\n",
        "spark = sparknlp_jsl.start(license_keys['SECRET'], params=params)\n",
        "\n",
        "print (\"Spark NLP Version :\", sparknlp.version())\n",
        "print (\"Spark NLP_JSL Version :\", sparknlp_jsl.version())\n",
        "\n",
        "spark"
      ]
    },
    {
      "cell_type": "markdown",
      "id": "Jb6TnvL-89qv",
      "metadata": {
        "id": "Jb6TnvL-89qv"
      },
      "source": [
        "# Getting started with LangTest"
      ]
    },
    {
      "cell_type": "markdown",
      "id": "8242aa2d",
      "metadata": {},
      "source": [
        "## Question-Answering"
      ]
    },
    {
      "cell_type": "code",
      "execution_count": 4,
      "id": "2601781e",
      "metadata": {},
      "outputs": [
        {
          "data": {
            "text/plain": [
              "'\\nYou are a biomedical research assistant. You are given a context (an excerpt from a PubMed article) and a research question. \\nYour task is to determine whether the evidence in the context supports the question by answering only \"Yes\" or \"No\". \\nNote: Do not provide any additional explanation or commentary.\\n\\nExample Format:\\nCONTEXT: [insert PubMed abstract or excerpt here]\\nQUESTION: [insert research question here]\\nANSWER: Yes or No\\n\\nBased strictly on the provided content, choose the answer that is factually supported. Begin!\\n\\nCONTEXT: {context}\\nQUESTION: {question}\\nANSWER:'"
            ]
          },
          "execution_count": 4,
          "metadata": {},
          "output_type": "execute_result"
        }
      ],
      "source": [
        "prompt = \"\"\"\n",
        "You are a biomedical research assistant. You are given a context (an excerpt from a PubMed article) and a research question. \n",
        "Your task is to determine whether the evidence in the context supports the question by answering only \"Yes\" or \"No\". \n",
        "Note: Do not provide any additional explanation or commentary.\n",
        "\n",
        "Example Format:\n",
        "CONTEXT: [insert PubMed abstract or excerpt here]\n",
        "QUESTION: [insert research question here]\n",
        "ANSWER: Yes or No\n",
        "\n",
        "Based strictly on the provided content, choose the answer that is factually supported. Begin!\n",
        "\n",
        "CONTEXT: {context}\n",
        "QUESTION: {question}\n",
        "ANSWER:\"\"\"\n",
        "\n",
        "prompt"
      ]
    },
    {
      "cell_type": "markdown",
      "id": "f2c4fdb5",
      "metadata": {},
      "source": [
        "### Setup Model from Spark NLP"
      ]
    },
    {
      "cell_type": "code",
      "execution_count": 5,
      "id": "bd9d4a63",
      "metadata": {},
      "outputs": [
        {
          "name": "stdout",
          "output_type": "stream",
          "text": [
            "clinical_notes_qa_base_onnx download started this may take some time.\n",
            "[OK!]\n"
          ]
        }
      ],
      "source": [
        "document_assembler = MultiDocumentAssembler()\\\n",
        "    .setInputCols(\"question\", \"context\")\\\n",
        "    .setOutputCols(\"document_question\", \"document_context\")\n",
        "\n",
        "med_qa = MedicalQuestionAnswering().pretrained(\"clinical_notes_qa_base_onnx\", \"en\", \"clinical/models\")\\\n",
        "    .setInputCols([\"document_question\", \"document_context\"])\\\n",
        "    .setCustomPrompt(prompt)\\\n",
        "    .setOutputCol(\"answer\") \\\n",
        "    .setMaxNewTokens(30)\\\n",
        "    .setTopK(1)\\\n",
        "    .setQuestionType(\"short\") # \"long\"\n",
        "\n",
        "pipeline = Pipeline(stages=[document_assembler, med_qa])\n",
        "\n",
        "empty_data = spark.createDataFrame([[\"\"]]).toDF(\"text\")\n",
        "\n",
        "model = pipeline.fit(empty_data)"
      ]
    },
    {
      "cell_type": "markdown",
      "id": "gPie-fbs89qx",
      "metadata": {
        "id": "gPie-fbs89qx"
      },
      "source": [
        "### Harness and Its Parameters\n",
        "\n",
        "The Harness class is a testing class for Natural Language Processing (NLP) models. It evaluates the performance of a NLP model on a given task using test data and generates a report with test results.Harness can be imported from the LangTest library in the following way."
      ]
    },
    {
      "cell_type": "code",
      "execution_count": null,
      "id": "-ar1BJkf89qx",
      "metadata": {
        "id": "-ar1BJkf89qx"
      },
      "outputs": [],
      "source": [
        "#Import Harness from the LangTest library\n",
        "from langtest import Harness"
      ]
    },
    {
      "cell_type": "markdown",
      "id": "BQYCwQjx89qx",
      "metadata": {
        "id": "BQYCwQjx89qx"
      },
      "source": [
        "It imports the Harness class from within the module, that is designed to provide a blueprint or framework for conducting NLP testing, and that instances of the Harness class can be customized or configured for different testing scenarios or environments.\n",
        "\n",
        "Here is a list of the different parameters that can be passed to the Harness function:\n",
        "\n",
        "<br/>\n",
        "\n",
        "\n",
        "| Parameter  | Description |  \n",
        "| - | - |\n",
        "|**task**     |Task for which the model is to be evaluated (question-answering or summarization)|\n",
        "| **model**     | Specifies the model(s) to be evaluated. This parameter can be provided as either a dictionary or a list of dictionaries. Each dictionary should contain the following keys: <ul><li>model (mandatory): \tPipelineModel or path to a saved model or pretrained pipeline/model from hub.</li><li>hub (mandatory): Hub (library) to use in back-end for loading model from public models hub or from path</li></ul>|\n",
        "| **data**      | The data to be used for evaluation. A dictionary providing flexibility and options for data sources. It should include the following keys: <ul><li>data_source (mandatory): The source of the data.</li><li>subset (optional): The subset of the data.</li><li>feature_column (optional): The column containing the features.</li><li>target_column (optional): The column containing the target labels.</li><li>split (optional): The data split to be used.</li><li>source (optional): Set to 'huggingface' when loading Hugging Face dataset.</li></ul> |\n",
        "| **config**    | Configuration for the tests to be performed, specified in the form of a YAML file. |\n",
        "\n",
        "<br/>\n",
        "<br/>"
      ]
    },
    {
      "cell_type": "markdown",
      "id": "3eb133b8-1ed7-4af8-b3ae-5432ad59eff6",
      "metadata": {
        "id": "3eb133b8-1ed7-4af8-b3ae-5432ad59eff6"
      },
      "source": [
        "## PubMedQA\n",
        "\n",
        "[PubMedQA: A Dataset for Biomedical Research Question Answering](https://arxiv.org/abs/1909.06146)\n",
        "\n",
        "**Dataset Summary**\n",
        "\n",
        "The PubMedQA is a benchmark dataset for biomedical question answering (QA) dataset collected from PubMed abstracts. The task of PubMedQA is to answer research questions with yes/no/maybe (e.g.: Do preoperative statins reduce atrial fibrillation after coronary artery bypass grafting?) using the corresponding abstracts.\n",
        "\n",
        "**Data Splits**\n",
        "\n",
        "- **pqaa** : Truncated version of pqa_artificial subset from the PubMedQA, containing 500 question and answers examples.\n",
        "- **pqal** : Truncated version of pqa_labeled subset from the PubMedQA, containing 500 question answers examples."
      ]
    },
    {
      "cell_type": "markdown",
      "id": "3JIjcMDC89q5",
      "metadata": {
        "id": "3JIjcMDC89q5"
      },
      "source": [
        "### Setup and Configure Harness"
      ]
    },
    {
      "cell_type": "code",
      "execution_count": 7,
      "id": "07d2a026-7f6c-4e67-86b0-38a37a3a83d1",
      "metadata": {
        "execution": {
          "iopub.execute_input": "2023-11-30T21:32:24.323612Z",
          "iopub.status.busy": "2023-11-30T21:32:24.323346Z",
          "iopub.status.idle": "2023-11-30T21:32:24.352922Z",
          "shell.execute_reply": "2023-11-30T21:32:24.352060Z",
          "shell.execute_reply.started": "2023-11-30T21:32:24.323593Z"
        },
        "id": "07d2a026-7f6c-4e67-86b0-38a37a3a83d1",
        "outputId": "1733f7c0-3db0-4e6d-df17-5f4818bd06d9",
        "tags": []
      },
      "outputs": [
        {
          "name": "stdout",
          "output_type": "stream",
          "text": [
            "Test Configuration : \n",
            " {\n",
            " \"evaluation\": {\n",
            "  \"metric\": \"embedding_distance\",\n",
            "  \"distance\": \"cosine\",\n",
            "  \"threshold\": 0.95\n",
            " },\n",
            " \"tests\": {\n",
            "  \"defaults\": {\n",
            "   \"min_pass_rate\": 0.65\n",
            "  },\n",
            "  \"robustness\": {\n",
            "   \"add_slangs\": {\n",
            "    \"min_pass_rate\": 0.66\n",
            "   },\n",
            "   \"dyslexia_word_swap\": {\n",
            "    \"min_pass_rate\": 0.6\n",
            "   },\n",
            "   \"add_new_lines\": {\n",
            "    \"min_pass_rate\": 0.6\n",
            "   }\n",
            "  }\n",
            " }\n",
            "}\n"
          ]
        }
      ],
      "source": [
        "harness = Harness(\n",
        "    task=\"question-answering\",\n",
        "    model={\"model\": model, \"hub\": \"johnsnowlabs\"},\n",
        "    data={\"data_source\": \"PubMedQA\",\n",
        "          \"subset\": \"pqaa\",\n",
        "          \"split\": \"test\"},\n",
        "    config={\n",
        "        \n",
        "        \"evaluation\": {\n",
        "            \"metric\":\"embedding_distance\",\"distance\":\"cosine\",\"threshold\":0.95},\n",
        "        'tests': {\n",
        "            'defaults': {'min_pass_rate': 0.65},\n",
        "            'robustness': {\n",
        "                'add_slangs': {'min_pass_rate': 0.66},\n",
        "                'dyslexia_word_swap': {'min_pass_rate': 0.60},\n",
        "                \"add_new_lines\": {\"min_pass_rate\": 0.60},\n",
        "            }\n",
        "        }\n",
        "    }\n",
        ")"
      ]
    },
    {
      "cell_type": "markdown",
      "id": "sDHxPRZC89q5",
      "metadata": {
        "id": "sDHxPRZC89q5"
      },
      "source": [
        "Note: for evaluation we are using **embedding_distance metrics**"
      ]
    },
    {
      "cell_type": "markdown",
      "id": "PjpqGJlW-nJT",
      "metadata": {
        "id": "PjpqGJlW-nJT"
      },
      "source": [
        "Let us run it for 20 examples"
      ]
    },
    {
      "cell_type": "code",
      "execution_count": 8,
      "id": "5cef8fd5-faf7-45f8-b803-9031ffa694cf",
      "metadata": {
        "execution": {
          "iopub.execute_input": "2023-11-30T21:32:24.731367Z",
          "iopub.status.busy": "2023-11-30T21:32:24.731184Z",
          "iopub.status.idle": "2023-11-30T21:32:24.734682Z",
          "shell.execute_reply": "2023-11-30T21:32:24.734141Z",
          "shell.execute_reply.started": "2023-11-30T21:32:24.731353Z"
        },
        "id": "5cef8fd5-faf7-45f8-b803-9031ffa694cf",
        "tags": []
      },
      "outputs": [],
      "source": [
        "harness.data =harness.data[:20]"
      ]
    },
    {
      "cell_type": "markdown",
      "id": "5LYqiGA389q6",
      "metadata": {
        "id": "5LYqiGA389q6"
      },
      "source": [
        "### Generating the test cases."
      ]
    },
    {
      "cell_type": "code",
      "execution_count": 9,
      "id": "4a94a79d-c76a-4b56-b318-789a6091f251",
      "metadata": {
        "execution": {
          "iopub.execute_input": "2023-11-30T21:32:25.106523Z",
          "iopub.status.busy": "2023-11-30T21:32:25.105849Z",
          "iopub.status.idle": "2023-11-30T21:32:26.710113Z",
          "shell.execute_reply": "2023-11-30T21:32:26.709576Z",
          "shell.execute_reply.started": "2023-11-30T21:32:25.106506Z"
        },
        "id": "4a94a79d-c76a-4b56-b318-789a6091f251",
        "outputId": "9655bada-a3e9-44a8-e0c9-943c5ad838a9",
        "tags": []
      },
      "outputs": [
        {
          "name": "stderr",
          "output_type": "stream",
          "text": [
            "Generating testcases...: 100%|██████████| 1/1 [00:00<?, ?it/s]\n"
          ]
        },
        {
          "data": {
            "text/plain": []
          },
          "execution_count": 9,
          "metadata": {},
          "output_type": "execute_result"
        }
      ],
      "source": [
        "harness.generate()"
      ]
    },
    {
      "cell_type": "code",
      "execution_count": null,
      "id": "6199ddf7-3b19-4602-b4d7-42ddd78d0182",
      "metadata": {
        "execution": {
          "iopub.execute_input": "2023-11-30T21:32:26.711219Z",
          "iopub.status.busy": "2023-11-30T21:32:26.711057Z",
          "iopub.status.idle": "2023-11-30T21:32:26.722309Z",
          "shell.execute_reply": "2023-11-30T21:32:26.721809Z",
          "shell.execute_reply.started": "2023-11-30T21:32:26.711205Z"
        },
        "id": "6199ddf7-3b19-4602-b4d7-42ddd78d0182",
        "outputId": "ccce031c-4290-4fd4-8055-83cad88983c7",
        "tags": []
      },
      "outputs": [
        {
          "data": {
            "text/html": [
              "<div>\n",
              "<style scoped>\n",
              "    .dataframe tbody tr th:only-of-type {\n",
              "        vertical-align: middle;\n",
              "    }\n",
              "\n",
              "    .dataframe tbody tr th {\n",
              "        vertical-align: top;\n",
              "    }\n",
              "\n",
              "    .dataframe thead th {\n",
              "        text-align: right;\n",
              "    }\n",
              "</style>\n",
              "<table border=\"1\" class=\"dataframe\">\n",
              "  <thead>\n",
              "    <tr style=\"text-align: right;\">\n",
              "      <th></th>\n",
              "      <th>category</th>\n",
              "      <th>test_type</th>\n",
              "      <th>original</th>\n",
              "      <th>test_case</th>\n",
              "      <th>expected_result</th>\n",
              "    </tr>\n",
              "  </thead>\n",
              "  <tbody>\n",
              "    <tr>\n",
              "      <th>0</th>\n",
              "      <td>robustness</td>\n",
              "      <td>add_ocr_typo</td>\n",
              "      <td>The ex-Reading defender denied fraudulent trad...</td>\n",
              "      <td>tlie ex-Reading defender denied fraudulent tra...</td>\n",
              "      <td>The ex-Reading defender denied fraudulent trad...</td>\n",
              "    </tr>\n",
              "    <tr>\n",
              "      <th>1</th>\n",
              "      <td>robustness</td>\n",
              "      <td>add_ocr_typo</td>\n",
              "      <td>Voges was forced to retire hurt on 86 after su...</td>\n",
              "      <td>Voges was forced t^o retire hurt on 86 aftei s...</td>\n",
              "      <td>The 37-year-old Australian was injured while b...</td>\n",
              "    </tr>\n",
              "    <tr>\n",
              "      <th>2</th>\n",
              "      <td>robustness</td>\n",
              "      <td>add_ocr_typo</td>\n",
              "      <td>Seven photographs taken in the Norfolk country...</td>\n",
              "      <td>feven photographs taken i^n t^ie Norfolk count...</td>\n",
              "      <td>The Duchess of Cambridge has been photographed...</td>\n",
              "    </tr>\n",
              "    <tr>\n",
              "      <th>3</th>\n",
              "      <td>robustness</td>\n",
              "      <td>add_ocr_typo</td>\n",
              "      <td>Chris Poole - known as \"moot\" online - created...</td>\n",
              "      <td>Chris Poole - known as \"moot\" online - created...</td>\n",
              "      <td>The former administrator of 4chan, Chris Poole...</td>\n",
              "    </tr>\n",
              "    <tr>\n",
              "      <th>4</th>\n",
              "      <td>robustness</td>\n",
              "      <td>add_ocr_typo</td>\n",
              "      <td>Four police officers were injured in the incid...</td>\n",
              "      <td>f0ur pol1ce officers were injured i^n tlic inc...</td>\n",
              "      <td>A 19-year-old man and a 16-year-old boy have b...</td>\n",
              "    </tr>\n",
              "  </tbody>\n",
              "</table>\n",
              "</div>"
            ],
            "text/plain": [
              "     category     test_type  \\\n",
              "0  robustness  add_ocr_typo   \n",
              "1  robustness  add_ocr_typo   \n",
              "2  robustness  add_ocr_typo   \n",
              "3  robustness  add_ocr_typo   \n",
              "4  robustness  add_ocr_typo   \n",
              "\n",
              "                                            original  \\\n",
              "0  The ex-Reading defender denied fraudulent trad...   \n",
              "1  Voges was forced to retire hurt on 86 after su...   \n",
              "2  Seven photographs taken in the Norfolk country...   \n",
              "3  Chris Poole - known as \"moot\" online - created...   \n",
              "4  Four police officers were injured in the incid...   \n",
              "\n",
              "                                           test_case  \\\n",
              "0  tlie ex-Reading defender denied fraudulent tra...   \n",
              "1  Voges was forced t^o retire hurt on 86 aftei s...   \n",
              "2  feven photographs taken i^n t^ie Norfolk count...   \n",
              "3  Chris Poole - known as \"moot\" online - created...   \n",
              "4  f0ur pol1ce officers were injured i^n tlic inc...   \n",
              "\n",
              "                                     expected_result  \n",
              "0  The ex-Reading defender denied fraudulent trad...  \n",
              "1  The 37-year-old Australian was injured while b...  \n",
              "2  The Duchess of Cambridge has been photographed...  \n",
              "3  The former administrator of 4chan, Chris Poole...  \n",
              "4  A 19-year-old man and a 16-year-old boy have b...  "
            ]
          },
          "execution_count": 21,
          "metadata": {},
          "output_type": "execute_result"
        }
      ],
      "source": [
        "testcases_df = harness.testcases()\n",
        "testcases_df.head()"
      ]
    },
    {
      "cell_type": "markdown",
      "id": "7n6_dNzG89q6",
      "metadata": {
        "id": "7n6_dNzG89q6"
      },
      "source": [
        "### Running the tests"
      ]
    },
    {
      "cell_type": "code",
      "execution_count": 11,
      "id": "8051391e-1634-4937-a599-78ed7dc5a66e",
      "metadata": {
        "execution": {
          "iopub.execute_input": "2023-11-30T21:32:26.723020Z",
          "iopub.status.busy": "2023-11-30T21:32:26.722868Z",
          "iopub.status.idle": "2023-11-30T21:33:08.952765Z",
          "shell.execute_reply": "2023-11-30T21:33:08.952297Z",
          "shell.execute_reply.started": "2023-11-30T21:32:26.723006Z"
        },
        "id": "8051391e-1634-4937-a599-78ed7dc5a66e",
        "outputId": "c92d313d-64f2-4fa7-9e25-f3179939c171",
        "tags": []
      },
      "outputs": [
        {
          "name": "stderr",
          "output_type": "stream",
          "text": [
            "Running testcases... : 100%|██████████| 58/58 [01:04<00:00,  1.11s/it]\n"
          ]
        },
        {
          "data": {
            "text/plain": []
          },
          "execution_count": 11,
          "metadata": {},
          "output_type": "execute_result"
        }
      ],
      "source": [
        "harness.run()"
      ]
    },
    {
      "cell_type": "markdown",
      "id": "WxrWelHu89q6",
      "metadata": {
        "id": "WxrWelHu89q6"
      },
      "source": [
        "### Generated Results"
      ]
    },
    {
      "cell_type": "code",
      "execution_count": 12,
      "id": "3398a5fe-f821-4802-a9da-4c373ef827ed",
      "metadata": {
        "execution": {
          "iopub.execute_input": "2023-11-30T21:33:08.953551Z",
          "iopub.status.busy": "2023-11-30T21:33:08.953384Z",
          "iopub.status.idle": "2023-11-30T21:33:08.967183Z",
          "shell.execute_reply": "2023-11-30T21:33:08.966721Z",
          "shell.execute_reply.started": "2023-11-30T21:33:08.953536Z"
        },
        "id": "3398a5fe-f821-4802-a9da-4c373ef827ed",
        "outputId": "8c9d5999-25d5-4003-d518-65c8546b4d1f",
        "tags": []
      },
      "outputs": [
        {
          "data": {
            "text/html": [
              "<div>\n",
              "<style scoped>\n",
              "    .dataframe tbody tr th:only-of-type {\n",
              "        vertical-align: middle;\n",
              "    }\n",
              "\n",
              "    .dataframe tbody tr th {\n",
              "        vertical-align: top;\n",
              "    }\n",
              "\n",
              "    .dataframe thead th {\n",
              "        text-align: right;\n",
              "    }\n",
              "</style>\n",
              "<table border=\"1\" class=\"dataframe\">\n",
              "  <thead>\n",
              "    <tr style=\"text-align: right;\">\n",
              "      <th></th>\n",
              "      <th>category</th>\n",
              "      <th>test_type</th>\n",
              "      <th>original_context</th>\n",
              "      <th>original_question</th>\n",
              "      <th>perturbed_context</th>\n",
              "      <th>perturbed_question</th>\n",
              "      <th>expected_result</th>\n",
              "      <th>actual_result</th>\n",
              "      <th>eval_score</th>\n",
              "      <th>pass</th>\n",
              "    </tr>\n",
              "  </thead>\n",
              "  <tbody>\n",
              "    <tr>\n",
              "      <th>0</th>\n",
              "      <td>robustness</td>\n",
              "      <td>add_slangs</td>\n",
              "      <td>Context (1): Catharanthus roseus L (C. roseus)...</td>\n",
              "      <td>does catharanthus roseus flower extract have w...</td>\n",
              "      <td>Context (1): Catharanthus roseus L (C. roseus)...</td>\n",
              "      <td>does catharanthus roseus flower extract have w...</td>\n",
              "      <td>Yes, the flower extract of Catharanthus roseus...</td>\n",
              "      <td>Yes, the flower extract of Catharanthus roseus...</td>\n",
              "      <td>1.0</td>\n",
              "      <td>True</td>\n",
              "    </tr>\n",
              "    <tr>\n",
              "      <th>1</th>\n",
              "      <td>robustness</td>\n",
              "      <td>add_slangs</td>\n",
              "      <td>Context (1): We intended to investigate whethe...</td>\n",
              "      <td>does regional ischemic preconditioning enhance...</td>\n",
              "      <td>Context (1): We intended to investigate whethe...</td>\n",
              "      <td>does regional ischemic preconditioning enhance...</td>\n",
              "      <td>Yes, regional ischemic preconditioning (IP) en...</td>\n",
              "      <td>Yes, regional ischemic preconditioning (IP) en...</td>\n",
              "      <td>1.0</td>\n",
              "      <td>True</td>\n",
              "    </tr>\n",
              "    <tr>\n",
              "      <th>2</th>\n",
              "      <td>robustness</td>\n",
              "      <td>add_slangs</td>\n",
              "      <td>Context (1): Experimental evidence indicates t...</td>\n",
              "      <td>do proteomic analysis of the ins-1e secretome ...</td>\n",
              "      <td>Context (1): Experimental evidence indicates t...</td>\n",
              "      <td>do proteomic analysis of the ins-1e secretome ...</td>\n",
              "      <td>Yes, proteomic analysis of the ins-1e secretom...</td>\n",
              "      <td>Yes, proteomic analysis of the ins-1e secretom...</td>\n",
              "      <td>1.0</td>\n",
              "      <td>True</td>\n",
              "    </tr>\n",
              "    <tr>\n",
              "      <th>3</th>\n",
              "      <td>robustness</td>\n",
              "      <td>add_slangs</td>\n",
              "      <td>Context (1): Hepatitis C virus (HCV) infection...</td>\n",
              "      <td>does serum cystatin c correlate negatively wit...</td>\n",
              "      <td>Context (1): Hepatitis C virus (HCV) infection...</td>\n",
              "      <td>does serum cystatin c correlate negatively wit...</td>\n",
              "      <td>No, cystatin C levels were significantly highe...</td>\n",
              "      <td>No, cystatin C levels were significantly highe...</td>\n",
              "      <td>1.0</td>\n",
              "      <td>True</td>\n",
              "    </tr>\n",
              "    <tr>\n",
              "      <th>4</th>\n",
              "      <td>robustness</td>\n",
              "      <td>add_slangs</td>\n",
              "      <td>Context (1): The prophylactic use of the impla...</td>\n",
              "      <td>do implantable cardioverter-defibrillators con...</td>\n",
              "      <td>Context (1): The prophylactic use of the impla...</td>\n",
              "      <td>do implantable cardioverter-defibrillators con...</td>\n",
              "      <td>Yes, the prophylactic use of the implantable c...</td>\n",
              "      <td>Yes, the prophylactic use of the implantable c...</td>\n",
              "      <td>1.0</td>\n",
              "      <td>True</td>\n",
              "    </tr>\n",
              "  </tbody>\n",
              "</table>\n",
              "</div>"
            ],
            "text/plain": [
              "     category   test_type                                   original_context  \\\n",
              "0  robustness  add_slangs  Context (1): Catharanthus roseus L (C. roseus)...   \n",
              "1  robustness  add_slangs  Context (1): We intended to investigate whethe...   \n",
              "2  robustness  add_slangs  Context (1): Experimental evidence indicates t...   \n",
              "3  robustness  add_slangs  Context (1): Hepatitis C virus (HCV) infection...   \n",
              "4  robustness  add_slangs  Context (1): The prophylactic use of the impla...   \n",
              "\n",
              "                                   original_question  \\\n",
              "0  does catharanthus roseus flower extract have w...   \n",
              "1  does regional ischemic preconditioning enhance...   \n",
              "2  do proteomic analysis of the ins-1e secretome ...   \n",
              "3  does serum cystatin c correlate negatively wit...   \n",
              "4  do implantable cardioverter-defibrillators con...   \n",
              "\n",
              "                                   perturbed_context  \\\n",
              "0  Context (1): Catharanthus roseus L (C. roseus)...   \n",
              "1  Context (1): We intended to investigate whethe...   \n",
              "2  Context (1): Experimental evidence indicates t...   \n",
              "3  Context (1): Hepatitis C virus (HCV) infection...   \n",
              "4  Context (1): The prophylactic use of the impla...   \n",
              "\n",
              "                                  perturbed_question  \\\n",
              "0  does catharanthus roseus flower extract have w...   \n",
              "1  does regional ischemic preconditioning enhance...   \n",
              "2  do proteomic analysis of the ins-1e secretome ...   \n",
              "3  does serum cystatin c correlate negatively wit...   \n",
              "4  do implantable cardioverter-defibrillators con...   \n",
              "\n",
              "                                     expected_result  \\\n",
              "0  Yes, the flower extract of Catharanthus roseus...   \n",
              "1  Yes, regional ischemic preconditioning (IP) en...   \n",
              "2  Yes, proteomic analysis of the ins-1e secretom...   \n",
              "3  No, cystatin C levels were significantly highe...   \n",
              "4  Yes, the prophylactic use of the implantable c...   \n",
              "\n",
              "                                       actual_result  eval_score  pass  \n",
              "0  Yes, the flower extract of Catharanthus roseus...         1.0  True  \n",
              "1  Yes, regional ischemic preconditioning (IP) en...         1.0  True  \n",
              "2  Yes, proteomic analysis of the ins-1e secretom...         1.0  True  \n",
              "3  No, cystatin C levels were significantly highe...         1.0  True  \n",
              "4  Yes, the prophylactic use of the implantable c...         1.0  True  "
            ]
          },
          "execution_count": 12,
          "metadata": {},
          "output_type": "execute_result"
        }
      ],
      "source": [
        "results_df = harness.generated_results()\n",
        "results_df.head()"
      ]
    },
    {
      "cell_type": "markdown",
      "id": "4l8c0eHO89q6",
      "metadata": {
        "id": "4l8c0eHO89q6"
      },
      "source": [
        "### Final Results"
      ]
    },
    {
      "cell_type": "code",
      "execution_count": 13,
      "id": "eb2a1242-d7c6-4390-a088-60b5c016f768",
      "metadata": {
        "execution": {
          "iopub.execute_input": "2023-11-30T21:33:08.968192Z",
          "iopub.status.busy": "2023-11-30T21:33:08.967868Z",
          "iopub.status.idle": "2023-11-30T21:33:09.061303Z",
          "shell.execute_reply": "2023-11-30T21:33:09.060858Z",
          "shell.execute_reply.started": "2023-11-30T21:33:08.968176Z"
        },
        "id": "eb2a1242-d7c6-4390-a088-60b5c016f768",
        "outputId": "5a99c833-6f8e-4a0b-9fdb-4c6d9c81b1c6",
        "tags": []
      },
      "outputs": [
        {
          "data": {
            "text/html": [
              "<div>\n",
              "<style scoped>\n",
              "    .dataframe tbody tr th:only-of-type {\n",
              "        vertical-align: middle;\n",
              "    }\n",
              "\n",
              "    .dataframe tbody tr th {\n",
              "        vertical-align: top;\n",
              "    }\n",
              "\n",
              "    .dataframe thead th {\n",
              "        text-align: right;\n",
              "    }\n",
              "</style>\n",
              "<table border=\"1\" class=\"dataframe\">\n",
              "  <thead>\n",
              "    <tr style=\"text-align: right;\">\n",
              "      <th></th>\n",
              "      <th>category</th>\n",
              "      <th>test_type</th>\n",
              "      <th>fail_count</th>\n",
              "      <th>pass_count</th>\n",
              "      <th>pass_rate</th>\n",
              "      <th>minimum_pass_rate</th>\n",
              "      <th>pass</th>\n",
              "    </tr>\n",
              "  </thead>\n",
              "  <tbody>\n",
              "    <tr>\n",
              "      <th>0</th>\n",
              "      <td>robustness</td>\n",
              "      <td>add_slangs</td>\n",
              "      <td>2</td>\n",
              "      <td>16</td>\n",
              "      <td>89%</td>\n",
              "      <td>66%</td>\n",
              "      <td>True</td>\n",
              "    </tr>\n",
              "    <tr>\n",
              "      <th>1</th>\n",
              "      <td>robustness</td>\n",
              "      <td>dyslexia_word_swap</td>\n",
              "      <td>4</td>\n",
              "      <td>16</td>\n",
              "      <td>80%</td>\n",
              "      <td>60%</td>\n",
              "      <td>True</td>\n",
              "    </tr>\n",
              "    <tr>\n",
              "      <th>2</th>\n",
              "      <td>robustness</td>\n",
              "      <td>add_new_lines</td>\n",
              "      <td>0</td>\n",
              "      <td>20</td>\n",
              "      <td>100%</td>\n",
              "      <td>60%</td>\n",
              "      <td>True</td>\n",
              "    </tr>\n",
              "  </tbody>\n",
              "</table>\n",
              "</div>"
            ],
            "text/plain": [
              "     category           test_type  fail_count  pass_count pass_rate  \\\n",
              "0  robustness          add_slangs           2          16       89%   \n",
              "1  robustness  dyslexia_word_swap           4          16       80%   \n",
              "2  robustness       add_new_lines           0          20      100%   \n",
              "\n",
              "  minimum_pass_rate  pass  \n",
              "0               66%  True  \n",
              "1               60%  True  \n",
              "2               60%  True  "
            ]
          },
          "execution_count": 13,
          "metadata": {},
          "output_type": "execute_result"
        }
      ],
      "source": [
        "harness.report()"
      ]
    },
    {
      "cell_type": "markdown",
      "id": "7e7aacb4",
      "metadata": {},
      "source": [
        "## Summarization"
      ]
    },
    {
      "cell_type": "markdown",
      "id": "e3706567",
      "metadata": {},
      "source": [
        "### Setup Model from Spark NLP"
      ]
    },
    {
      "cell_type": "code",
      "execution_count": 15,
      "id": "23f23e93",
      "metadata": {},
      "outputs": [
        {
          "name": "stdout",
          "output_type": "stream",
          "text": [
            "summarizer_clinical_jsl download started this may take some time.\n",
            "[OK!]\n"
          ]
        }
      ],
      "source": [
        "document_assembler = DocumentAssembler()\\\n",
        "    .setInputCol('text')\\\n",
        "    .setOutputCol('document')\n",
        "\n",
        "summarizer = MedicalSummarizer.pretrained(\"summarizer_clinical_jsl\", \"en\", \"clinical/models\")\\\n",
        "    .setInputCols(['document'])\\\n",
        "    .setOutputCol('summary')\\\n",
        "    .setMaxTextLength(512)\\\n",
        "    .setMaxNewTokens(512)\n",
        "\n",
        "pipeline = Pipeline(\n",
        "    stages=[\n",
        "        document_assembler,\n",
        "        summarizer\n",
        "])\n",
        "\n",
        "model = pipeline.fit(spark.createDataFrame([[\"\"]]).toDF(\"text\"))\n"
      ]
    },
    {
      "cell_type": "markdown",
      "id": "34511465",
      "metadata": {},
      "source": [
        "### Harness and Its Parameters\n",
        "\n",
        "The Harness class is a testing class for Natural Language Processing (NLP) models. It evaluates the performance of a NLP model on a given task using test data and generates a report with test results.Harness can be imported from the LangTest library in the following way."
      ]
    },
    {
      "cell_type": "markdown",
      "id": "db799628",
      "metadata": {},
      "source": [
        "It imports the Harness class from within the module, that is designed to provide a blueprint or framework for conducting NLP testing, and that instances of the Harness class can be customized or configured for different testing scenarios or environments.\n",
        "\n",
        "Here is a list of the different parameters that can be passed to the Harness function:\n",
        "\n",
        "<br/>\n",
        "\n",
        "\n",
        "| Parameter  | Description |  \n",
        "| - | - |\n",
        "|**task**     |Task for which the model is to be evaluated (question-answering or summarization)|\n",
        "| **model**     | Specifies the model(s) to be evaluated. This parameter can be provided as either a dictionary or a list of dictionaries. Each dictionary should contain the following keys: <ul><li>model (mandatory): \tPipelineModel or path to a saved model or pretrained pipeline/model from hub.</li><li>hub (mandatory): Hub (library) to use in back-end for loading model from public models hub or from path</li></ul>|\n",
        "| **data**      | The data to be used for evaluation. A dictionary providing flexibility and options for data sources. It should include the following keys: <ul><li>data_source (mandatory): The source of the data.</li><li>subset (optional): The subset of the data.</li><li>feature_column (optional): The column containing the features.</li><li>target_column (optional): The column containing the target labels.</li><li>split (optional): The data split to be used.</li><li>source (optional): Set to 'huggingface' when loading Hugging Face dataset.</li></ul> |\n",
        "| **config**    | Configuration for the tests to be performed, specified in the form of a YAML file. |\n",
        "\n",
        "<br/>\n",
        "<br/>"
      ]
    },
    {
      "cell_type": "markdown",
      "id": "1b63cfa8",
      "metadata": {},
      "source": [
        "### Setup and Configure Harness"
      ]
    },
    {
      "cell_type": "code",
      "execution_count": 16,
      "id": "fb0e8ccd",
      "metadata": {},
      "outputs": [
        {
          "name": "stdout",
          "output_type": "stream",
          "text": [
            "Test Configuration : \n",
            " {\n",
            " \"evaluation\": {\n",
            "  \"metric\": \"rouge\",\n",
            "  \"threshold\": 0.3\n",
            " },\n",
            " \"tests\": {\n",
            "  \"defaults\": {\n",
            "   \"min_pass_rate\": 0.5\n",
            "  },\n",
            "  \"robustness\": {\n",
            "   \"add_ocr_typo\": {\n",
            "    \"min_pass_rate\": 0.5\n",
            "   }\n",
            "  }\n",
            " }\n",
            "}\n"
          ]
        }
      ],
      "source": [
        "from langtest import Harness \n",
        "\n",
        "harness = Harness(\n",
        "    task=\"summarization\",\n",
        "    model={\n",
        "        \"model\": model,\n",
        "        \"hub\": \"johnsnowlabs\",\n",
        "    },\n",
        "    data={\n",
        "        \"data_source\": \"XSum\",\n",
        "        \"split\": \"test-tiny\",\n",
        "    },\n",
        "    config={ \n",
        "        \"evaluation\":{\"metric\": \"rouge\", \"threshold\": 0.30},\n",
        "        \"tests\": {\n",
        "            \"defaults\": {\n",
        "                \"min_pass_rate\": 0.5,\n",
        "            },\n",
        "            \"robustness\": {\n",
        "                \"add_ocr_typo\": {\n",
        "                    \"min_pass_rate\": 0.5,\n",
        "                },\n",
        "            }\n",
        "        },\n",
        "    }\n",
        ")"
      ]
    },
    {
      "cell_type": "markdown",
      "id": "a4bec14e",
      "metadata": {},
      "source": []
    },
    {
      "cell_type": "markdown",
      "id": "673b2633",
      "metadata": {},
      "source": [
        "Note: for evaluation we are using **embedding_distance metrics**"
      ]
    },
    {
      "cell_type": "markdown",
      "id": "de65a793",
      "metadata": {},
      "source": [
        "Let us run it for 5 examples"
      ]
    },
    {
      "cell_type": "code",
      "execution_count": 17,
      "id": "b6525af3",
      "metadata": {},
      "outputs": [],
      "source": [
        "harness.data = harness.data[:5]"
      ]
    },
    {
      "cell_type": "markdown",
      "id": "92e5016c",
      "metadata": {},
      "source": [
        "### Generating and Execute the test cases."
      ]
    },
    {
      "cell_type": "code",
      "execution_count": 18,
      "id": "2e27f22c",
      "metadata": {},
      "outputs": [
        {
          "name": "stderr",
          "output_type": "stream",
          "text": [
            "Generating testcases...: 100%|██████████| 1/1 [00:00<?, ?it/s]\n",
            "Running testcases... : 100%|██████████| 5/5 [00:51<00:00, 10.31s/it]\n"
          ]
        },
        {
          "data": {
            "text/plain": []
          },
          "execution_count": 18,
          "metadata": {},
          "output_type": "execute_result"
        }
      ],
      "source": [
        "harness.generate().run()"
      ]
    },
    {
      "cell_type": "markdown",
      "id": "df3d377e",
      "metadata": {},
      "source": [
        "### Generated Results"
      ]
    },
    {
      "cell_type": "code",
      "execution_count": 19,
      "id": "bf2af867",
      "metadata": {},
      "outputs": [
        {
          "data": {
            "text/html": [
              "<div>\n",
              "<style scoped>\n",
              "    .dataframe tbody tr th:only-of-type {\n",
              "        vertical-align: middle;\n",
              "    }\n",
              "\n",
              "    .dataframe tbody tr th {\n",
              "        vertical-align: top;\n",
              "    }\n",
              "\n",
              "    .dataframe thead th {\n",
              "        text-align: right;\n",
              "    }\n",
              "</style>\n",
              "<table border=\"1\" class=\"dataframe\">\n",
              "  <thead>\n",
              "    <tr style=\"text-align: right;\">\n",
              "      <th></th>\n",
              "      <th>category</th>\n",
              "      <th>test_type</th>\n",
              "      <th>original</th>\n",
              "      <th>test_case</th>\n",
              "      <th>expected_result</th>\n",
              "      <th>actual_result</th>\n",
              "      <th>eval_score</th>\n",
              "      <th>pass</th>\n",
              "    </tr>\n",
              "  </thead>\n",
              "  <tbody>\n",
              "    <tr>\n",
              "      <th>0</th>\n",
              "      <td>robustness</td>\n",
              "      <td>add_ocr_typo</td>\n",
              "      <td>The ex-Reading defender denied fraudulent trad...</td>\n",
              "      <td>tlie ex-Reading defender denied fraudulent tra...</td>\n",
              "      <td>The ex-Reading defender denied fraudulent trad...</td>\n",
              "      <td>The ex-Reading defender has denied fraudulent ...</td>\n",
              "      <td>0.375000</td>\n",
              "      <td>True</td>\n",
              "    </tr>\n",
              "    <tr>\n",
              "      <th>1</th>\n",
              "      <td>robustness</td>\n",
              "      <td>add_ocr_typo</td>\n",
              "      <td>Voges was forced to retire hurt on 86 after su...</td>\n",
              "      <td>Voges was forced t^o retire hurt on 86 aftei s...</td>\n",
              "      <td>The 37-year-old Australian was injured while b...</td>\n",
              "      <td>The report describes the injury of Adam Voges,...</td>\n",
              "      <td>0.309392</td>\n",
              "      <td>True</td>\n",
              "    </tr>\n",
              "    <tr>\n",
              "      <th>2</th>\n",
              "      <td>robustness</td>\n",
              "      <td>add_ocr_typo</td>\n",
              "      <td>Seven photographs taken in the Norfolk country...</td>\n",
              "      <td>feven photographs taken i^n t^ie Norfolk count...</td>\n",
              "      <td>The Duchess of Cambridge has been photographed...</td>\n",
              "      <td>The Duchess of Cambridge has been photographed...</td>\n",
              "      <td>0.607330</td>\n",
              "      <td>True</td>\n",
              "    </tr>\n",
              "    <tr>\n",
              "      <th>3</th>\n",
              "      <td>robustness</td>\n",
              "      <td>add_ocr_typo</td>\n",
              "      <td>Chris Poole - known as \"moot\" online - created...</td>\n",
              "      <td>Chris Poole - known as \"moot\" online - created...</td>\n",
              "      <td>The former administrator of 4chan, Chris Poole...</td>\n",
              "      <td>The man who created the slte in 2003 is a well...</td>\n",
              "      <td>0.120000</td>\n",
              "      <td>False</td>\n",
              "    </tr>\n",
              "    <tr>\n",
              "      <th>4</th>\n",
              "      <td>robustness</td>\n",
              "      <td>add_ocr_typo</td>\n",
              "      <td>Four police officers were injured in the incid...</td>\n",
              "      <td>f0ur pol1ce officers were injured i^n tlic inc...</td>\n",
              "      <td>A 19-year-old man and a 16-year-old boy have b...</td>\n",
              "      <td>A 19-year-old man and a 16-year-old boy were i...</td>\n",
              "      <td>0.437500</td>\n",
              "      <td>True</td>\n",
              "    </tr>\n",
              "  </tbody>\n",
              "</table>\n",
              "</div>"
            ],
            "text/plain": [
              "     category     test_type  \\\n",
              "0  robustness  add_ocr_typo   \n",
              "1  robustness  add_ocr_typo   \n",
              "2  robustness  add_ocr_typo   \n",
              "3  robustness  add_ocr_typo   \n",
              "4  robustness  add_ocr_typo   \n",
              "\n",
              "                                            original  \\\n",
              "0  The ex-Reading defender denied fraudulent trad...   \n",
              "1  Voges was forced to retire hurt on 86 after su...   \n",
              "2  Seven photographs taken in the Norfolk country...   \n",
              "3  Chris Poole - known as \"moot\" online - created...   \n",
              "4  Four police officers were injured in the incid...   \n",
              "\n",
              "                                           test_case  \\\n",
              "0  tlie ex-Reading defender denied fraudulent tra...   \n",
              "1  Voges was forced t^o retire hurt on 86 aftei s...   \n",
              "2  feven photographs taken i^n t^ie Norfolk count...   \n",
              "3  Chris Poole - known as \"moot\" online - created...   \n",
              "4  f0ur pol1ce officers were injured i^n tlic inc...   \n",
              "\n",
              "                                     expected_result  \\\n",
              "0  The ex-Reading defender denied fraudulent trad...   \n",
              "1  The 37-year-old Australian was injured while b...   \n",
              "2  The Duchess of Cambridge has been photographed...   \n",
              "3  The former administrator of 4chan, Chris Poole...   \n",
              "4  A 19-year-old man and a 16-year-old boy have b...   \n",
              "\n",
              "                                       actual_result  eval_score   pass  \n",
              "0  The ex-Reading defender has denied fraudulent ...    0.375000   True  \n",
              "1  The report describes the injury of Adam Voges,...    0.309392   True  \n",
              "2  The Duchess of Cambridge has been photographed...    0.607330   True  \n",
              "3  The man who created the slte in 2003 is a well...    0.120000  False  \n",
              "4  A 19-year-old man and a 16-year-old boy were i...    0.437500   True  "
            ]
          },
          "execution_count": 19,
          "metadata": {},
          "output_type": "execute_result"
        }
      ],
      "source": [
        "harness.generated_results()"
      ]
    },
    {
      "cell_type": "code",
      "execution_count": 20,
      "id": "a7650747",
      "metadata": {},
      "outputs": [
        {
          "data": {
            "text/html": [
              "<div>\n",
              "<style scoped>\n",
              "    .dataframe tbody tr th:only-of-type {\n",
              "        vertical-align: middle;\n",
              "    }\n",
              "\n",
              "    .dataframe tbody tr th {\n",
              "        vertical-align: top;\n",
              "    }\n",
              "\n",
              "    .dataframe thead th {\n",
              "        text-align: right;\n",
              "    }\n",
              "</style>\n",
              "<table border=\"1\" class=\"dataframe\">\n",
              "  <thead>\n",
              "    <tr style=\"text-align: right;\">\n",
              "      <th></th>\n",
              "      <th>category</th>\n",
              "      <th>test_type</th>\n",
              "      <th>fail_count</th>\n",
              "      <th>pass_count</th>\n",
              "      <th>pass_rate</th>\n",
              "      <th>minimum_pass_rate</th>\n",
              "      <th>pass</th>\n",
              "    </tr>\n",
              "  </thead>\n",
              "  <tbody>\n",
              "    <tr>\n",
              "      <th>0</th>\n",
              "      <td>robustness</td>\n",
              "      <td>add_ocr_typo</td>\n",
              "      <td>1</td>\n",
              "      <td>4</td>\n",
              "      <td>80%</td>\n",
              "      <td>50%</td>\n",
              "      <td>True</td>\n",
              "    </tr>\n",
              "  </tbody>\n",
              "</table>\n",
              "</div>"
            ],
            "text/plain": [
              "     category     test_type  fail_count  pass_count pass_rate  \\\n",
              "0  robustness  add_ocr_typo           1           4       80%   \n",
              "\n",
              "  minimum_pass_rate  pass  \n",
              "0               50%  True  "
            ]
          },
          "execution_count": 20,
          "metadata": {},
          "output_type": "execute_result"
        }
      ],
      "source": [
        "harness.report()"
      ]
    }
  ],
  "metadata": {
    "colab": {
      "provenance": []
    },
    "kernelspec": {
      "display_name": ".venv",
      "language": "python",
      "name": "python3"
    },
    "language_info": {
      "codemirror_mode": {
        "name": "ipython",
        "version": 3
      },
      "file_extension": ".py",
      "mimetype": "text/x-python",
      "name": "python",
      "nbconvert_exporter": "python",
      "pygments_lexer": "ipython3",
      "version": "3.9.13"
    }
  },
  "nbformat": 4,
  "nbformat_minor": 5
}
