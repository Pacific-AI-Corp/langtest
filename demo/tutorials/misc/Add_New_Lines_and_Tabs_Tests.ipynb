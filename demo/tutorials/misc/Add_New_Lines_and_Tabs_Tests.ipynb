{
 "cells": [
  {
   "cell_type": "markdown",
   "metadata": {},
   "source": [
    "![logog](https://raw.githubusercontent.com/Pacific-AI-Corp/langtest/main/docs/assets/images/logo.png)"
   ]
  },
  {
   "cell_type": "markdown",
   "metadata": {},
   "source": [
    "[![Open In Colab](https://colab.research.google.com/assets/colab-badge.svg)](https://colab.research.google.com/github/Pacific-AI-Corp/langtest/blob/main/demo/tutorials/misc/Add_New_Lines_and_Tabs_Tests.ipynb)"
   ]
  },
  {
   "cell_type": "markdown",
   "metadata": {},
   "source": [
    "**LangTest** is an open-source python library designed to help developers deliver safe and effective Natural Language Processing (NLP) models. Whether you are using **John Snow Labs, Hugging Face, Spacy** models or **OpenAI, Cohere, AI21, Hugging Face Inference API and Azure-OpenAI** based LLMs, it has got you covered. You can test any Named Entity Recognition (NER), Text Classification, fill-mask, Translation model using the library. We also support testing LLMS for Question-Answering, Summarization and text-generation tasks on benchmark datasets. The library supports 60+ out of the box tests. For a complete list of supported test categories, please refer to the [documentation](http://langtest.org/docs/pages/docs/test_categories).\n",
    "\n",
    "Metrics are calculated by comparing the model's extractions in the original list of sentences against the extractions carried out in the noisy list of sentences. The original annotated labels are not used at any point, we are simply comparing the model against itself in a 2 settings."
   ]
  },
  {
   "cell_type": "markdown",
   "metadata": {},
   "source": [
    "# Getting started with LangTest on John Snow Labs"
   ]
  },
  {
   "cell_type": "code",
   "execution_count": null,
   "metadata": {},
   "outputs": [],
   "source": [
    "!pip install langtest==2.4.0"
   ]
  },
  {
   "cell_type": "markdown",
   "metadata": {},
   "source": [
    "# Harness and Its Parameters\n",
    "\n",
    "The Harness class is a testing class for Natural Language Processing (NLP) models. It evaluates the performance of a NLP model on a given task using test data and generates a report with test results.Harness can be imported from the LangTest library in the following way."
   ]
  },
  {
   "cell_type": "code",
   "execution_count": 3,
   "metadata": {},
   "outputs": [],
   "source": [
    "from langtest import Harness"
   ]
  },
  {
   "cell_type": "markdown",
   "metadata": {},
   "source": [
    "### Setup and Configure Harness"
   ]
  },
  {
   "cell_type": "code",
   "execution_count": 21,
   "metadata": {},
   "outputs": [
    {
     "name": "stderr",
     "output_type": "stream",
     "text": [
      "WARNING:langtest:[W002] Default dataset '(<langtest.tasks.task.TaskManager object at 0x0000022B7AA66AF0>, 'C:\\\\Users\\\\KALYAN\\\\Downloads\\\\langtesst 2.3.1rc8\\\\langtest\\\\langtest\\\\data\\\\textcat_imdb', 'spacy')' successfully loaded.\n"
     ]
    },
    {
     "name": "stdout",
     "output_type": "stream",
     "text": [
      "Test Configuration : \n",
      " {\n",
      " \"tests\": {\n",
      "  \"defaults\": {\n",
      "   \"min_score\": 0.7\n",
      "  },\n",
      "  \"robustness\": {\n",
      "   \"add_new_lines\": {\n",
      "    \"min_pass_rate\": 0.7,\n",
      "    \"parameters\": {\n",
      "     \"max_lines\": 5\n",
      "    }\n",
      "   },\n",
      "   \"add_tabs\": {\n",
      "    \"min_pass_rate\": 0.7,\n",
      "    \"parameters\": {\n",
      "     \"max_tabs\": 5\n",
      "    }\n",
      "   }\n",
      "  }\n",
      " }\n",
      "}\n"
     ]
    }
   ],
   "source": [
    "harness = Harness( \n",
    "    task = \"text-classification\",\n",
    "    model = {\"model\": 'textcat_imdb', \"hub\": \"spacy\"},\n",
    "    config = {\n",
    "        \"tests\":  {\n",
    "            \"defaults\": {\n",
    "                \"min_score\": 0.7\n",
    "            },\n",
    "            \"robustness\": {\n",
    "                \"add_new_lines\":{\n",
    "                    \"min_pass_rate\": 0.7,\n",
    "                    \"parameters\": {\n",
    "                        \"max_lines\": 5\n",
    "                    }\n",
    "\n",
    "                },\n",
    "                \"add_tabs\":{\"min_pass_rate\": 0.7,\n",
    "                            \"parameters\": {\n",
    "                                \"max_tabs\": 5\n",
    "                            }\n",
    "                },\n",
    "            },\n",
    "        }\n",
    "    }\n",
    ")"
   ]
  },
  {
   "cell_type": "markdown",
   "metadata": {},
   "source": [
    "### Generating the test cases."
   ]
  },
  {
   "cell_type": "code",
   "execution_count": 22,
   "metadata": {},
   "outputs": [
    {
     "name": "stderr",
     "output_type": "stream",
     "text": [
      "Generating testcases...: 100%|██████████| 1/1 [00:00<?, ?it/s]\n"
     ]
    },
    {
     "data": {
      "text/plain": []
     },
     "execution_count": 22,
     "metadata": {},
     "output_type": "execute_result"
    }
   ],
   "source": [
    "harness.generate()"
   ]
  },
  {
   "cell_type": "code",
   "execution_count": 23,
   "metadata": {},
   "outputs": [
    {
     "data": {
      "text/html": [
       "<div>\n",
       "<style scoped>\n",
       "    .dataframe tbody tr th:only-of-type {\n",
       "        vertical-align: middle;\n",
       "    }\n",
       "\n",
       "    .dataframe tbody tr th {\n",
       "        vertical-align: top;\n",
       "    }\n",
       "\n",
       "    .dataframe thead th {\n",
       "        text-align: right;\n",
       "    }\n",
       "</style>\n",
       "<table border=\"1\" class=\"dataframe\">\n",
       "  <thead>\n",
       "    <tr style=\"text-align: right;\">\n",
       "      <th></th>\n",
       "      <th>category</th>\n",
       "      <th>test_type</th>\n",
       "      <th>original</th>\n",
       "      <th>test_case</th>\n",
       "    </tr>\n",
       "  </thead>\n",
       "  <tbody>\n",
       "    <tr>\n",
       "      <th>0</th>\n",
       "      <td>robustness</td>\n",
       "      <td>add_new_lines</td>\n",
       "      <td>Just as a reminder to anyone just now reading ...</td>\n",
       "      <td>Just as a reminder to anyone just now reading ...</td>\n",
       "    </tr>\n",
       "    <tr>\n",
       "      <th>1</th>\n",
       "      <td>robustness</td>\n",
       "      <td>add_new_lines</td>\n",
       "      <td>Like CURSE OF THE KOMODO was for the creature ...</td>\n",
       "      <td>Like CURSE OF\\n THE KOMODO was for the creatur...</td>\n",
       "    </tr>\n",
       "    <tr>\n",
       "      <th>2</th>\n",
       "      <td>robustness</td>\n",
       "      <td>add_new_lines</td>\n",
       "      <td>I think that the costumes were excellent, and ...</td>\n",
       "      <td>I think that the costumes were excellent, and ...</td>\n",
       "    </tr>\n",
       "    <tr>\n",
       "      <th>3</th>\n",
       "      <td>robustness</td>\n",
       "      <td>add_new_lines</td>\n",
       "      <td>This is one of my most favorite movies of all ...</td>\n",
       "      <td>This\\n\\n\\n is one of my most\\n\\n\\n favorite mo...</td>\n",
       "    </tr>\n",
       "    <tr>\n",
       "      <th>4</th>\n",
       "      <td>robustness</td>\n",
       "      <td>add_new_lines</td>\n",
       "      <td>This program was on for a brief period when I ...</td>\n",
       "      <td>This program was on for a brief period when I ...</td>\n",
       "    </tr>\n",
       "    <tr>\n",
       "      <th>...</th>\n",
       "      <td>...</td>\n",
       "      <td>...</td>\n",
       "      <td>...</td>\n",
       "      <td>...</td>\n",
       "    </tr>\n",
       "    <tr>\n",
       "      <th>395</th>\n",
       "      <td>robustness</td>\n",
       "      <td>add_tabs</td>\n",
       "      <td>The opening was a steal from \"Eight-legged Fre...</td>\n",
       "      <td>The\\t\\t\\t opening\\t\\t\\t\\t\\t was\\t\\t\\t a\\t\\t\\t ...</td>\n",
       "    </tr>\n",
       "    <tr>\n",
       "      <th>396</th>\n",
       "      <td>robustness</td>\n",
       "      <td>add_tabs</td>\n",
       "      <td>Now don't get me wrong, I love seeing half nak...</td>\n",
       "      <td>Now\\t\\t\\t\\t\\t don't\\t\\t\\t\\t\\t get\\t me\\t wrong...</td>\n",
       "    </tr>\n",
       "    <tr>\n",
       "      <th>397</th>\n",
       "      <td>robustness</td>\n",
       "      <td>add_tabs</td>\n",
       "      <td>Though I saw this movie dubbed in French, so I...</td>\n",
       "      <td>Though\\t\\t\\t\\t I\\t saw\\t\\t this\\t\\t\\t\\t\\t movi...</td>\n",
       "    </tr>\n",
       "    <tr>\n",
       "      <th>398</th>\n",
       "      <td>robustness</td>\n",
       "      <td>add_tabs</td>\n",
       "      <td>This is one of the best presentations of the 6...</td>\n",
       "      <td>This\\t\\t\\t\\t is\\t one\\t\\t\\t\\t\\t of\\t\\t\\t\\t the...</td>\n",
       "    </tr>\n",
       "    <tr>\n",
       "      <th>399</th>\n",
       "      <td>robustness</td>\n",
       "      <td>add_tabs</td>\n",
       "      <td>I saw this movie previewed before something el...</td>\n",
       "      <td>I\\t\\t\\t\\t saw\\t\\t\\t this\\t\\t\\t movie\\t\\t\\t\\t p...</td>\n",
       "    </tr>\n",
       "  </tbody>\n",
       "</table>\n",
       "<p>400 rows × 4 columns</p>\n",
       "</div>"
      ],
      "text/plain": [
       "       category      test_type  \\\n",
       "0    robustness  add_new_lines   \n",
       "1    robustness  add_new_lines   \n",
       "2    robustness  add_new_lines   \n",
       "3    robustness  add_new_lines   \n",
       "4    robustness  add_new_lines   \n",
       "..          ...            ...   \n",
       "395  robustness       add_tabs   \n",
       "396  robustness       add_tabs   \n",
       "397  robustness       add_tabs   \n",
       "398  robustness       add_tabs   \n",
       "399  robustness       add_tabs   \n",
       "\n",
       "                                              original  \\\n",
       "0    Just as a reminder to anyone just now reading ...   \n",
       "1    Like CURSE OF THE KOMODO was for the creature ...   \n",
       "2    I think that the costumes were excellent, and ...   \n",
       "3    This is one of my most favorite movies of all ...   \n",
       "4    This program was on for a brief period when I ...   \n",
       "..                                                 ...   \n",
       "395  The opening was a steal from \"Eight-legged Fre...   \n",
       "396  Now don't get me wrong, I love seeing half nak...   \n",
       "397  Though I saw this movie dubbed in French, so I...   \n",
       "398  This is one of the best presentations of the 6...   \n",
       "399  I saw this movie previewed before something el...   \n",
       "\n",
       "                                             test_case  \n",
       "0    Just as a reminder to anyone just now reading ...  \n",
       "1    Like CURSE OF\\n THE KOMODO was for the creatur...  \n",
       "2    I think that the costumes were excellent, and ...  \n",
       "3    This\\n\\n\\n is one of my most\\n\\n\\n favorite mo...  \n",
       "4    This program was on for a brief period when I ...  \n",
       "..                                                 ...  \n",
       "395  The\\t\\t\\t opening\\t\\t\\t\\t\\t was\\t\\t\\t a\\t\\t\\t ...  \n",
       "396  Now\\t\\t\\t\\t\\t don't\\t\\t\\t\\t\\t get\\t me\\t wrong...  \n",
       "397  Though\\t\\t\\t\\t I\\t saw\\t\\t this\\t\\t\\t\\t\\t movi...  \n",
       "398  This\\t\\t\\t\\t is\\t one\\t\\t\\t\\t\\t of\\t\\t\\t\\t the...  \n",
       "399  I\\t\\t\\t\\t saw\\t\\t\\t this\\t\\t\\t movie\\t\\t\\t\\t p...  \n",
       "\n",
       "[400 rows x 4 columns]"
      ]
     },
     "execution_count": 23,
     "metadata": {},
     "output_type": "execute_result"
    }
   ],
   "source": [
    "harness.testcases()"
   ]
  },
  {
   "cell_type": "markdown",
   "metadata": {},
   "source": [
    "harness.testcases() method displays the produced test cases in form of a pandas data frame."
   ]
  },
  {
   "cell_type": "markdown",
   "metadata": {},
   "source": [
    "### Running the tests"
   ]
  },
  {
   "cell_type": "markdown",
   "metadata": {},
   "source": [
    "Called after harness.generate() and is to used to run all the tests.  Returns a pass/fail flag for each test."
   ]
  },
  {
   "cell_type": "code",
   "execution_count": 24,
   "metadata": {},
   "outputs": [
    {
     "name": "stderr",
     "output_type": "stream",
     "text": [
      "Running testcases... : 100%|██████████| 400/400 [00:00<00:00, 2089.73it/s]\n"
     ]
    },
    {
     "data": {
      "text/plain": []
     },
     "execution_count": 24,
     "metadata": {},
     "output_type": "execute_result"
    }
   ],
   "source": [
    "harness.run()"
   ]
  },
  {
   "cell_type": "code",
   "execution_count": 25,
   "metadata": {},
   "outputs": [
    {
     "data": {
      "text/html": [
       "<div>\n",
       "<style scoped>\n",
       "    .dataframe tbody tr th:only-of-type {\n",
       "        vertical-align: middle;\n",
       "    }\n",
       "\n",
       "    .dataframe tbody tr th {\n",
       "        vertical-align: top;\n",
       "    }\n",
       "\n",
       "    .dataframe thead th {\n",
       "        text-align: right;\n",
       "    }\n",
       "</style>\n",
       "<table border=\"1\" class=\"dataframe\">\n",
       "  <thead>\n",
       "    <tr style=\"text-align: right;\">\n",
       "      <th></th>\n",
       "      <th>category</th>\n",
       "      <th>test_type</th>\n",
       "      <th>original</th>\n",
       "      <th>test_case</th>\n",
       "      <th>expected_result</th>\n",
       "      <th>actual_result</th>\n",
       "      <th>pass</th>\n",
       "    </tr>\n",
       "  </thead>\n",
       "  <tbody>\n",
       "    <tr>\n",
       "      <th>0</th>\n",
       "      <td>robustness</td>\n",
       "      <td>add_new_lines</td>\n",
       "      <td>Just as a reminder to anyone just now reading ...</td>\n",
       "      <td>Just as a reminder to anyone just now reading ...</td>\n",
       "      <td>POS</td>\n",
       "      <td>POS</td>\n",
       "      <td>True</td>\n",
       "    </tr>\n",
       "    <tr>\n",
       "      <th>1</th>\n",
       "      <td>robustness</td>\n",
       "      <td>add_new_lines</td>\n",
       "      <td>Like CURSE OF THE KOMODO was for the creature ...</td>\n",
       "      <td>Like CURSE OF\\n THE KOMODO was for the creatur...</td>\n",
       "      <td>NEG</td>\n",
       "      <td>NEG</td>\n",
       "      <td>True</td>\n",
       "    </tr>\n",
       "    <tr>\n",
       "      <th>2</th>\n",
       "      <td>robustness</td>\n",
       "      <td>add_new_lines</td>\n",
       "      <td>I think that the costumes were excellent, and ...</td>\n",
       "      <td>I think that the costumes were excellent, and ...</td>\n",
       "      <td>POS</td>\n",
       "      <td>POS</td>\n",
       "      <td>True</td>\n",
       "    </tr>\n",
       "    <tr>\n",
       "      <th>3</th>\n",
       "      <td>robustness</td>\n",
       "      <td>add_new_lines</td>\n",
       "      <td>This is one of my most favorite movies of all ...</td>\n",
       "      <td>This\\n\\n\\n is one of my most\\n\\n\\n favorite mo...</td>\n",
       "      <td>POS</td>\n",
       "      <td>POS</td>\n",
       "      <td>True</td>\n",
       "    </tr>\n",
       "    <tr>\n",
       "      <th>4</th>\n",
       "      <td>robustness</td>\n",
       "      <td>add_new_lines</td>\n",
       "      <td>This program was on for a brief period when I ...</td>\n",
       "      <td>This program was on for a brief period when I ...</td>\n",
       "      <td>POS</td>\n",
       "      <td>NEG</td>\n",
       "      <td>False</td>\n",
       "    </tr>\n",
       "    <tr>\n",
       "      <th>...</th>\n",
       "      <td>...</td>\n",
       "      <td>...</td>\n",
       "      <td>...</td>\n",
       "      <td>...</td>\n",
       "      <td>...</td>\n",
       "      <td>...</td>\n",
       "      <td>...</td>\n",
       "    </tr>\n",
       "    <tr>\n",
       "      <th>395</th>\n",
       "      <td>robustness</td>\n",
       "      <td>add_tabs</td>\n",
       "      <td>The opening was a steal from \"Eight-legged Fre...</td>\n",
       "      <td>The\\t\\t\\t opening\\t\\t\\t\\t\\t was\\t\\t\\t a\\t\\t\\t ...</td>\n",
       "      <td>NEG</td>\n",
       "      <td>NEG</td>\n",
       "      <td>True</td>\n",
       "    </tr>\n",
       "    <tr>\n",
       "      <th>396</th>\n",
       "      <td>robustness</td>\n",
       "      <td>add_tabs</td>\n",
       "      <td>Now don't get me wrong, I love seeing half nak...</td>\n",
       "      <td>Now\\t\\t\\t\\t\\t don't\\t\\t\\t\\t\\t get\\t me\\t wrong...</td>\n",
       "      <td>NEG</td>\n",
       "      <td>NEG</td>\n",
       "      <td>True</td>\n",
       "    </tr>\n",
       "    <tr>\n",
       "      <th>397</th>\n",
       "      <td>robustness</td>\n",
       "      <td>add_tabs</td>\n",
       "      <td>Though I saw this movie dubbed in French, so I...</td>\n",
       "      <td>Though\\t\\t\\t\\t I\\t saw\\t\\t this\\t\\t\\t\\t\\t movi...</td>\n",
       "      <td>POS</td>\n",
       "      <td>NEG</td>\n",
       "      <td>False</td>\n",
       "    </tr>\n",
       "    <tr>\n",
       "      <th>398</th>\n",
       "      <td>robustness</td>\n",
       "      <td>add_tabs</td>\n",
       "      <td>This is one of the best presentations of the 6...</td>\n",
       "      <td>This\\t\\t\\t\\t is\\t one\\t\\t\\t\\t\\t of\\t\\t\\t\\t the...</td>\n",
       "      <td>POS</td>\n",
       "      <td>NEG</td>\n",
       "      <td>False</td>\n",
       "    </tr>\n",
       "    <tr>\n",
       "      <th>399</th>\n",
       "      <td>robustness</td>\n",
       "      <td>add_tabs</td>\n",
       "      <td>I saw this movie previewed before something el...</td>\n",
       "      <td>I\\t\\t\\t\\t saw\\t\\t\\t this\\t\\t\\t movie\\t\\t\\t\\t p...</td>\n",
       "      <td>NEG</td>\n",
       "      <td>NEG</td>\n",
       "      <td>True</td>\n",
       "    </tr>\n",
       "  </tbody>\n",
       "</table>\n",
       "<p>400 rows × 7 columns</p>\n",
       "</div>"
      ],
      "text/plain": [
       "       category      test_type  \\\n",
       "0    robustness  add_new_lines   \n",
       "1    robustness  add_new_lines   \n",
       "2    robustness  add_new_lines   \n",
       "3    robustness  add_new_lines   \n",
       "4    robustness  add_new_lines   \n",
       "..          ...            ...   \n",
       "395  robustness       add_tabs   \n",
       "396  robustness       add_tabs   \n",
       "397  robustness       add_tabs   \n",
       "398  robustness       add_tabs   \n",
       "399  robustness       add_tabs   \n",
       "\n",
       "                                              original  \\\n",
       "0    Just as a reminder to anyone just now reading ...   \n",
       "1    Like CURSE OF THE KOMODO was for the creature ...   \n",
       "2    I think that the costumes were excellent, and ...   \n",
       "3    This is one of my most favorite movies of all ...   \n",
       "4    This program was on for a brief period when I ...   \n",
       "..                                                 ...   \n",
       "395  The opening was a steal from \"Eight-legged Fre...   \n",
       "396  Now don't get me wrong, I love seeing half nak...   \n",
       "397  Though I saw this movie dubbed in French, so I...   \n",
       "398  This is one of the best presentations of the 6...   \n",
       "399  I saw this movie previewed before something el...   \n",
       "\n",
       "                                             test_case expected_result  \\\n",
       "0    Just as a reminder to anyone just now reading ...             POS   \n",
       "1    Like CURSE OF\\n THE KOMODO was for the creatur...             NEG   \n",
       "2    I think that the costumes were excellent, and ...             POS   \n",
       "3    This\\n\\n\\n is one of my most\\n\\n\\n favorite mo...             POS   \n",
       "4    This program was on for a brief period when I ...             POS   \n",
       "..                                                 ...             ...   \n",
       "395  The\\t\\t\\t opening\\t\\t\\t\\t\\t was\\t\\t\\t a\\t\\t\\t ...             NEG   \n",
       "396  Now\\t\\t\\t\\t\\t don't\\t\\t\\t\\t\\t get\\t me\\t wrong...             NEG   \n",
       "397  Though\\t\\t\\t\\t I\\t saw\\t\\t this\\t\\t\\t\\t\\t movi...             POS   \n",
       "398  This\\t\\t\\t\\t is\\t one\\t\\t\\t\\t\\t of\\t\\t\\t\\t the...             POS   \n",
       "399  I\\t\\t\\t\\t saw\\t\\t\\t this\\t\\t\\t movie\\t\\t\\t\\t p...             NEG   \n",
       "\n",
       "    actual_result   pass  \n",
       "0             POS   True  \n",
       "1             NEG   True  \n",
       "2             POS   True  \n",
       "3             POS   True  \n",
       "4             NEG  False  \n",
       "..            ...    ...  \n",
       "395           NEG   True  \n",
       "396           NEG   True  \n",
       "397           NEG  False  \n",
       "398           NEG  False  \n",
       "399           NEG   True  \n",
       "\n",
       "[400 rows x 7 columns]"
      ]
     },
     "execution_count": 25,
     "metadata": {},
     "output_type": "execute_result"
    }
   ],
   "source": [
    "harness.generated_results()"
   ]
  },
  {
   "cell_type": "markdown",
   "metadata": {},
   "source": [
    "This method returns the generated results in the form of a pandas dataframe, which provides a convenient and easy-to-use format for working with the test results. You can use this method to quickly identify the test cases that failed and to determine where fixes are needed."
   ]
  },
  {
   "cell_type": "markdown",
   "metadata": {},
   "source": [
    "### Final Results"
   ]
  },
  {
   "cell_type": "markdown",
   "metadata": {},
   "source": [
    "We can call `.report()` which summarizes the results giving information about pass and fail counts and overall test pass/fail flag.\n",
    "\n",
    "To get time_elapsed for each test we pass parameter `return_runtime=True` in `.report()` method. We can also select the unit for time_elapsed i.e, seconds(s), miliseconds(ms) or microseconds(us) etc."
   ]
  },
  {
   "cell_type": "code",
   "execution_count": 26,
   "metadata": {},
   "outputs": [
    {
     "data": {
      "text/html": [
       "<div>\n",
       "<style scoped>\n",
       "    .dataframe tbody tr th:only-of-type {\n",
       "        vertical-align: middle;\n",
       "    }\n",
       "\n",
       "    .dataframe tbody tr th {\n",
       "        vertical-align: top;\n",
       "    }\n",
       "\n",
       "    .dataframe thead th {\n",
       "        text-align: right;\n",
       "    }\n",
       "</style>\n",
       "<table border=\"1\" class=\"dataframe\">\n",
       "  <thead>\n",
       "    <tr style=\"text-align: right;\">\n",
       "      <th></th>\n",
       "      <th>category</th>\n",
       "      <th>test_type</th>\n",
       "      <th>fail_count</th>\n",
       "      <th>pass_count</th>\n",
       "      <th>pass_rate</th>\n",
       "      <th>minimum_pass_rate</th>\n",
       "      <th>pass</th>\n",
       "    </tr>\n",
       "  </thead>\n",
       "  <tbody>\n",
       "    <tr>\n",
       "      <th>0</th>\n",
       "      <td>robustness</td>\n",
       "      <td>add_new_lines</td>\n",
       "      <td>6</td>\n",
       "      <td>194</td>\n",
       "      <td>97%</td>\n",
       "      <td>70%</td>\n",
       "      <td>True</td>\n",
       "    </tr>\n",
       "    <tr>\n",
       "      <th>1</th>\n",
       "      <td>robustness</td>\n",
       "      <td>add_tabs</td>\n",
       "      <td>99</td>\n",
       "      <td>101</td>\n",
       "      <td>50%</td>\n",
       "      <td>70%</td>\n",
       "      <td>False</td>\n",
       "    </tr>\n",
       "  </tbody>\n",
       "</table>\n",
       "</div>"
      ],
      "text/plain": [
       "     category      test_type  fail_count  pass_count pass_rate  \\\n",
       "0  robustness  add_new_lines           6         194       97%   \n",
       "1  robustness       add_tabs          99         101       50%   \n",
       "\n",
       "  minimum_pass_rate   pass  \n",
       "0               70%   True  \n",
       "1               70%  False  "
      ]
     },
     "execution_count": 26,
     "metadata": {},
     "output_type": "execute_result"
    }
   ],
   "source": [
    "harness.report()"
   ]
  }
 ],
 "metadata": {
  "kernelspec": {
   "display_name": ".venv",
   "language": "python",
   "name": "python3"
  },
  "language_info": {
   "codemirror_mode": {
    "name": "ipython",
    "version": 3
   },
   "file_extension": ".py",
   "mimetype": "text/x-python",
   "name": "python",
   "nbconvert_exporter": "python",
   "pygments_lexer": "ipython3",
   "version": "3.8.10"
  }
 },
 "nbformat": 4,
 "nbformat_minor": 2
}
