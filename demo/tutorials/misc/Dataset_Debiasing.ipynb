{
 "cells": [
  {
   "cell_type": "markdown",
   "metadata": {},
   "source": [
    "![logog](https://raw.githubusercontent.com/Pacific-AI-Corp/langtest/main/docs/assets/images/logo.png)"
   ]
  },
  {
   "cell_type": "markdown",
   "metadata": {},
   "source": [
    "[![Open In Colab](https://colab.research.google.com/assets/colab-badge.svg)](https://colab.research.google.com/github/Pacific-AI-Corp/langtest/blob/main/demo/tutorials/misc/Dataset_Debiasing.ipynb)"
   ]
  },
  {
   "cell_type": "markdown",
   "metadata": {},
   "source": [
    "**LangTest** is an open-source python library designed to help developers deliver safe and effective Natural Language Processing (NLP) models. Whether you are using **John Snow Labs, Hugging Face, Spacy** models or **OpenAI, Cohere, AI21, Hugging Face Inference API and Azure-OpenAI** based LLMs, it has got you covered. You can test any Named Entity Recognition (NER), Text Classification, fill-mask, Translation model using the library. We also support testing LLMS for Question-Answering, Summarization and text-generation tasks on benchmark datasets. The library supports 60+ out of the box tests. For a complete list of supported test categories, please refer to the [documentation](http://langtest.org/docs/pages/docs/test_categories).\n",
    "\n",
    "Metrics are calculated by comparing the model's extractions in the original list of sentences against the extractions carried out in the noisy list of sentences. The original annotated labels are not used at any point, we are simply comparing the model against itself in a 2 settings."
   ]
  },
  {
   "cell_type": "markdown",
   "metadata": {},
   "source": [
    "# Getting started with LangTest on John Snow Labs"
   ]
  },
  {
   "cell_type": "code",
   "execution_count": null,
   "metadata": {},
   "outputs": [],
   "source": [
    "%pip install langtest[llms]"
   ]
  },
  {
   "cell_type": "code",
   "execution_count": null,
   "metadata": {},
   "outputs": [],
   "source": [
    "import os \n",
    "\n",
    "os.environ['HUGGINGFACE_API_KEY'] = \"<HUGGINGFACE_API_KEY>\"\n",
    "os.environ[\"OPENAI_API_KEY\"] = \"<OPENAI_API_KEY>\""
   ]
  },
  {
   "cell_type": "markdown",
   "metadata": {},
   "source": [
    "## Loading the Datasets"
   ]
  },
  {
   "cell_type": "code",
   "execution_count": 2,
   "metadata": {},
   "outputs": [],
   "source": [
    "from functools import lru_cache\n",
    "import pandas as pd\n",
    "\n",
    "@lru_cache(maxsize=1)\n",
    "def pull_dataset(*args, **kwargs) -> pd.DataFrame:\n",
    "    from datasets import load_dataset\n",
    "\n",
    "    dataset = load_dataset(*args, **kwargs)\n",
    "\n",
    "    df = dataset.to_pandas()\n",
    "    return df\n"
   ]
  },
  {
   "cell_type": "code",
   "execution_count": 4,
   "metadata": {},
   "outputs": [],
   "source": [
    "df = pull_dataset(\"RealTimeData/bbc_news_alltime\", \"2025-02\", split=\"train\")"
   ]
  },
  {
   "cell_type": "code",
   "execution_count": 5,
   "metadata": {},
   "outputs": [
    {
     "data": {
      "text/plain": [
       "(2747, 8)"
      ]
     },
     "execution_count": 5,
     "metadata": {},
     "output_type": "execute_result"
    }
   ],
   "source": [
    "df.shape"
   ]
  },
  {
   "cell_type": "code",
   "execution_count": 6,
   "metadata": {},
   "outputs": [],
   "source": [
    "sample = df.copy()\n",
    "mask = sample['content'].str.len().between(101, 999)\n",
    "sample = sample.loc[mask].copy()\n",
    "sample['content'] = sample['content'].str.replace('\\n\\n', '', regex=False)\n"
   ]
  },
  {
   "cell_type": "code",
   "execution_count": 7,
   "metadata": {},
   "outputs": [
    {
     "name": "stdout",
     "output_type": "stream",
     "text": [
      "(274, 8)\n"
     ]
    }
   ],
   "source": [
    "sample = sample.drop_duplicates(subset=\"content\").reset_index(drop=True)\n",
    "print(sample.shape)\n"
   ]
  },
  {
   "cell_type": "markdown",
   "metadata": {},
   "source": [
    "### Dataset Debiasing"
   ]
  },
  {
   "cell_type": "markdown",
   "metadata": {},
   "source": [
    "DebiasTextProcessing -> initialize() -> process() -> output: Dataframe, reason: Dataframe"
   ]
  },
  {
   "cell_type": "code",
   "execution_count": 8,
   "metadata": {},
   "outputs": [
    {
     "name": "stdout",
     "output_type": "stream",
     "text": [
      "\u001b[91m🚨 Your Spark-Healthcare is outdated, installed==5.5.2 but latest version==5.5.0\n",
      "You can run \u001b[92m nlp.install() \u001b[39mto update Spark-Healthcare\n"
     ]
    }
   ],
   "source": [
    "from langtest.augmentation.debias import DebiasTextProcessing \n",
    "\n",
    "processing = DebiasTextProcessing(\n",
    "    model=\"gpt-4o-mini\",\n",
    "    hub=\"openai\",\n",
    "    model_kwargs={\n",
    "        \"temperature\": 0.5,\n",
    "        \"top_p\": 0.9\n",
    "    }\n",
    ")\n"
   ]
  },
  {
   "cell_type": "code",
   "execution_count": 10,
   "metadata": {},
   "outputs": [
    {
     "data": {
      "text/plain": [
       "'Women have various skills in cooking, and men have various skills in driving.'"
      ]
     },
     "execution_count": 10,
     "metadata": {},
     "output_type": "execute_result"
    }
   ],
   "source": [
    "# for text to be debiased.\n",
    "processing.enhance_text(\"Women are better in Cooking, but Men are better in Driving.\")"
   ]
  },
  {
   "cell_type": "code",
   "execution_count": 11,
   "metadata": {},
   "outputs": [],
   "source": [
    "import pandas as pd\n",
    "\n",
    "processing.initialize(\n",
    "    input_dataset = sample,\n",
    "    output_dataset = pd.DataFrame({}),\n",
    "    text_column=\"content\",\n",
    "    \n",
    ")"
   ]
  },
  {
   "cell_type": "code",
   "execution_count": 12,
   "metadata": {},
   "outputs": [
    {
     "name": "stderr",
     "output_type": "stream",
     "text": [
      "Detecting Bias: 100%|██████████| 274/274 [08:14<00:00,  1.80s/it]\n",
      "Debiasing Text: 100%|██████████| 45/45 [01:32<00:00,  2.05s/it]\n"
     ]
    }
   ],
   "source": [
    "output, reason = processing.apply_bias_correction(bias_tolerance_level=2)"
   ]
  },
  {
   "cell_type": "code",
   "execution_count": 13,
   "metadata": {},
   "outputs": [
    {
     "data": {
      "text/html": [
       "<div>\n",
       "<style scoped>\n",
       "    .dataframe tbody tr th:only-of-type {\n",
       "        vertical-align: middle;\n",
       "    }\n",
       "\n",
       "    .dataframe tbody tr th {\n",
       "        vertical-align: top;\n",
       "    }\n",
       "\n",
       "    .dataframe thead th {\n",
       "        text-align: right;\n",
       "    }\n",
       "</style>\n",
       "<table border=\"1\" class=\"dataframe\">\n",
       "  <thead>\n",
       "    <tr style=\"text-align: right;\">\n",
       "      <th></th>\n",
       "      <th>row_id</th>\n",
       "      <th>biased_text</th>\n",
       "      <th>reason</th>\n",
       "      <th>category</th>\n",
       "      <th>sub_category</th>\n",
       "      <th>risk_level</th>\n",
       "      <th>steps</th>\n",
       "    </tr>\n",
       "  </thead>\n",
       "  <tbody>\n",
       "    <tr>\n",
       "      <th>0</th>\n",
       "      <td>0</td>\n",
       "      <td>A music student at the Royal Conservatoire of ...</td>\n",
       "      <td>The mention of breaking down gender stereotype...</td>\n",
       "      <td>demographic</td>\n",
       "      <td>gender-specific</td>\n",
       "      <td>3</td>\n",
       "      <td>[gender stereotypes -&gt; musical stereotypes;, p...</td>\n",
       "    </tr>\n",
       "    <tr>\n",
       "      <th>1</th>\n",
       "      <td>1</td>\n",
       "      <td>A café in London's West End is helping people ...</td>\n",
       "      <td>The text presents a neutral and positive portr...</td>\n",
       "      <td>unbiased</td>\n",
       "      <td>fair</td>\n",
       "      <td>1</td>\n",
       "      <td>[]</td>\n",
       "    </tr>\n",
       "    <tr>\n",
       "      <th>2</th>\n",
       "      <td>2</td>\n",
       "      <td>Watch highlights as Scotland survive an Italy ...</td>\n",
       "      <td>The text provides a neutral description of a s...</td>\n",
       "      <td>unbiased</td>\n",
       "      <td>fair</td>\n",
       "      <td>1</td>\n",
       "      <td>[]</td>\n",
       "    </tr>\n",
       "    <tr>\n",
       "      <th>3</th>\n",
       "      <td>3</td>\n",
       "      <td>CCTV images capture the moment a shoplifter wa...</td>\n",
       "      <td>The focus on the shoplifter's name and details...</td>\n",
       "      <td>demographic</td>\n",
       "      <td>racial</td>\n",
       "      <td>3</td>\n",
       "      <td>[Derick Bell, 36 -&gt; A 36-year-old male;, shopl...</td>\n",
       "    </tr>\n",
       "    <tr>\n",
       "      <th>4</th>\n",
       "      <td>4</td>\n",
       "      <td>It has been a wild January for Rachel Reeves a...</td>\n",
       "      <td>No biased language or stereotyping detected in...</td>\n",
       "      <td>unbiased</td>\n",
       "      <td></td>\n",
       "      <td>1</td>\n",
       "      <td>[]</td>\n",
       "    </tr>\n",
       "    <tr>\n",
       "      <th>5</th>\n",
       "      <td>5</td>\n",
       "      <td>Dean Naujoks was in the Potomac River when he ...</td>\n",
       "      <td>The text is straightforward and provides factu...</td>\n",
       "      <td>unbiased</td>\n",
       "      <td></td>\n",
       "      <td>1</td>\n",
       "      <td>[]</td>\n",
       "    </tr>\n",
       "    <tr>\n",
       "      <th>6</th>\n",
       "      <td>6</td>\n",
       "      <td>Weekly quiz: What is the newest member of the ...</td>\n",
       "      <td>The text provides neutral information about an...</td>\n",
       "      <td>unbiased</td>\n",
       "      <td>none</td>\n",
       "      <td>1</td>\n",
       "      <td>[]</td>\n",
       "    </tr>\n",
       "    <tr>\n",
       "      <th>7</th>\n",
       "      <td>7</td>\n",
       "      <td>Watch highlights as Ireland score three tries ...</td>\n",
       "      <td>No bias detected in the provided text as it is...</td>\n",
       "      <td>unbiased</td>\n",
       "      <td></td>\n",
       "      <td>1</td>\n",
       "      <td>[]</td>\n",
       "    </tr>\n",
       "    <tr>\n",
       "      <th>8</th>\n",
       "      <td>8</td>\n",
       "      <td>Doorbell cameras captured the moment a small m...</td>\n",
       "      <td>The text reports on a factual event without an...</td>\n",
       "      <td>unbiased</td>\n",
       "      <td>no bias detected</td>\n",
       "      <td>1</td>\n",
       "      <td>[]</td>\n",
       "    </tr>\n",
       "    <tr>\n",
       "      <th>9</th>\n",
       "      <td>9</td>\n",
       "      <td>Author Helen Fielding has discussed bringing h...</td>\n",
       "      <td>The text discusses an author's work and her pe...</td>\n",
       "      <td>unbiased</td>\n",
       "      <td></td>\n",
       "      <td>1</td>\n",
       "      <td>[]</td>\n",
       "    </tr>\n",
       "  </tbody>\n",
       "</table>\n",
       "</div>"
      ],
      "text/plain": [
       "   row_id                                        biased_text  \\\n",
       "0       0  A music student at the Royal Conservatoire of ...   \n",
       "1       1  A café in London's West End is helping people ...   \n",
       "2       2  Watch highlights as Scotland survive an Italy ...   \n",
       "3       3  CCTV images capture the moment a shoplifter wa...   \n",
       "4       4  It has been a wild January for Rachel Reeves a...   \n",
       "5       5  Dean Naujoks was in the Potomac River when he ...   \n",
       "6       6  Weekly quiz: What is the newest member of the ...   \n",
       "7       7  Watch highlights as Ireland score three tries ...   \n",
       "8       8  Doorbell cameras captured the moment a small m...   \n",
       "9       9  Author Helen Fielding has discussed bringing h...   \n",
       "\n",
       "                                              reason     category  \\\n",
       "0  The mention of breaking down gender stereotype...  demographic   \n",
       "1  The text presents a neutral and positive portr...     unbiased   \n",
       "2  The text provides a neutral description of a s...     unbiased   \n",
       "3  The focus on the shoplifter's name and details...  demographic   \n",
       "4  No biased language or stereotyping detected in...     unbiased   \n",
       "5  The text is straightforward and provides factu...     unbiased   \n",
       "6  The text provides neutral information about an...     unbiased   \n",
       "7  No bias detected in the provided text as it is...     unbiased   \n",
       "8  The text reports on a factual event without an...     unbiased   \n",
       "9  The text discusses an author's work and her pe...     unbiased   \n",
       "\n",
       "       sub_category  risk_level  \\\n",
       "0   gender-specific           3   \n",
       "1              fair           1   \n",
       "2              fair           1   \n",
       "3            racial           3   \n",
       "4                             1   \n",
       "5                             1   \n",
       "6              none           1   \n",
       "7                             1   \n",
       "8  no bias detected           1   \n",
       "9                             1   \n",
       "\n",
       "                                               steps  \n",
       "0  [gender stereotypes -> musical stereotypes;, p...  \n",
       "1                                                 []  \n",
       "2                                                 []  \n",
       "3  [Derick Bell, 36 -> A 36-year-old male;, shopl...  \n",
       "4                                                 []  \n",
       "5                                                 []  \n",
       "6                                                 []  \n",
       "7                                                 []  \n",
       "8                                                 []  \n",
       "9                                                 []  "
      ]
     },
     "execution_count": 13,
     "metadata": {},
     "output_type": "execute_result"
    }
   ],
   "source": [
    "reason.head(10)"
   ]
  },
  {
   "cell_type": "code",
   "execution_count": 14,
   "metadata": {},
   "outputs": [
    {
     "data": {
      "text/html": [
       "<div>\n",
       "<style scoped>\n",
       "    .dataframe tbody tr th:only-of-type {\n",
       "        vertical-align: middle;\n",
       "    }\n",
       "\n",
       "    .dataframe tbody tr th {\n",
       "        vertical-align: top;\n",
       "    }\n",
       "\n",
       "    .dataframe thead th {\n",
       "        text-align: right;\n",
       "    }\n",
       "</style>\n",
       "<table border=\"1\" class=\"dataframe\">\n",
       "  <thead>\n",
       "    <tr style=\"text-align: right;\">\n",
       "      <th></th>\n",
       "      <th>row_id</th>\n",
       "      <th>biased_text</th>\n",
       "      <th>reason</th>\n",
       "      <th>category</th>\n",
       "      <th>sub_category</th>\n",
       "      <th>risk_level</th>\n",
       "      <th>steps</th>\n",
       "    </tr>\n",
       "  </thead>\n",
       "  <tbody>\n",
       "    <tr>\n",
       "      <th>0</th>\n",
       "      <td>0</td>\n",
       "      <td>A music student at the Royal Conservatoire of ...</td>\n",
       "      <td>The mention of breaking down gender stereotype...</td>\n",
       "      <td>demographic</td>\n",
       "      <td>gender-specific</td>\n",
       "      <td>3</td>\n",
       "      <td>[gender stereotypes -&gt; musical stereotypes;, p...</td>\n",
       "    </tr>\n",
       "    <tr>\n",
       "      <th>3</th>\n",
       "      <td>3</td>\n",
       "      <td>CCTV images capture the moment a shoplifter wa...</td>\n",
       "      <td>The focus on the shoplifter's name and details...</td>\n",
       "      <td>demographic</td>\n",
       "      <td>racial</td>\n",
       "      <td>3</td>\n",
       "      <td>[Derick Bell, 36 -&gt; A 36-year-old male;, shopl...</td>\n",
       "    </tr>\n",
       "    <tr>\n",
       "      <th>12</th>\n",
       "      <td>12</td>\n",
       "      <td>England's Sophia Dunkley is dispatched by \"bea...</td>\n",
       "      <td>The commentary focuses on female athletes, pot...</td>\n",
       "      <td>demographic</td>\n",
       "      <td>gender-specific</td>\n",
       "      <td>3</td>\n",
       "      <td>[beautiful -&gt; accurate;]</td>\n",
       "    </tr>\n",
       "    <tr>\n",
       "      <th>24</th>\n",
       "      <td>25</td>\n",
       "      <td>Bolsonaro: Is it all over for the 'Trump of th...</td>\n",
       "      <td>The phrase 'Trump of the Tropics' suggests a d...</td>\n",
       "      <td>demographic</td>\n",
       "      <td>racial</td>\n",
       "      <td>3</td>\n",
       "      <td>[Trump of the Tropics -&gt; Brazilian political f...</td>\n",
       "    </tr>\n",
       "    <tr>\n",
       "      <th>27</th>\n",
       "      <td>28</td>\n",
       "      <td>'MPs in vile chats' and 'Labour's plan to tack...</td>\n",
       "      <td>The mention of offensive messages in a WhatsAp...</td>\n",
       "      <td>demographic</td>\n",
       "      <td>racial</td>\n",
       "      <td>3</td>\n",
       "      <td>[vile chats -&gt; inappropriate discussions;, off...</td>\n",
       "    </tr>\n",
       "  </tbody>\n",
       "</table>\n",
       "</div>"
      ],
      "text/plain": [
       "    row_id                                        biased_text  \\\n",
       "0        0  A music student at the Royal Conservatoire of ...   \n",
       "3        3  CCTV images capture the moment a shoplifter wa...   \n",
       "12      12  England's Sophia Dunkley is dispatched by \"bea...   \n",
       "24      25  Bolsonaro: Is it all over for the 'Trump of th...   \n",
       "27      28  'MPs in vile chats' and 'Labour's plan to tack...   \n",
       "\n",
       "                                               reason     category  \\\n",
       "0   The mention of breaking down gender stereotype...  demographic   \n",
       "3   The focus on the shoplifter's name and details...  demographic   \n",
       "12  The commentary focuses on female athletes, pot...  demographic   \n",
       "24  The phrase 'Trump of the Tropics' suggests a d...  demographic   \n",
       "27  The mention of offensive messages in a WhatsAp...  demographic   \n",
       "\n",
       "       sub_category  risk_level  \\\n",
       "0   gender-specific           3   \n",
       "3            racial           3   \n",
       "12  gender-specific           3   \n",
       "24           racial           3   \n",
       "27           racial           3   \n",
       "\n",
       "                                                steps  \n",
       "0   [gender stereotypes -> musical stereotypes;, p...  \n",
       "3   [Derick Bell, 36 -> A 36-year-old male;, shopl...  \n",
       "12                           [beautiful -> accurate;]  \n",
       "24  [Trump of the Tropics -> Brazilian political f...  \n",
       "27  [vile chats -> inappropriate discussions;, off...  "
      ]
     },
     "execution_count": 14,
     "metadata": {},
     "output_type": "execute_result"
    }
   ],
   "source": [
    "filtered_reason = reason[reason['risk_level'] > 2]\n",
    "filtered_reason.head()"
   ]
  },
  {
   "cell_type": "code",
   "execution_count": 15,
   "metadata": {},
   "outputs": [],
   "source": [
    "import pandas as pd\n",
    "\n",
    "# set width of column to max\n",
    "pd.set_option('display.max_colwidth', None)"
   ]
  },
  {
   "cell_type": "code",
   "execution_count": 16,
   "metadata": {},
   "outputs": [
    {
     "data": {
      "text/html": [
       "<div>\n",
       "<style scoped>\n",
       "    .dataframe tbody tr th:only-of-type {\n",
       "        vertical-align: middle;\n",
       "    }\n",
       "\n",
       "    .dataframe tbody tr th {\n",
       "        vertical-align: top;\n",
       "    }\n",
       "\n",
       "    .dataframe thead th {\n",
       "        text-align: right;\n",
       "    }\n",
       "</style>\n",
       "<table border=\"1\" class=\"dataframe\">\n",
       "  <thead>\n",
       "    <tr style=\"text-align: right;\">\n",
       "      <th></th>\n",
       "      <th>biased_text</th>\n",
       "      <th>debiased_text</th>\n",
       "    </tr>\n",
       "  </thead>\n",
       "  <tbody>\n",
       "    <tr>\n",
       "      <th>0</th>\n",
       "      <td>A music student at the Royal Conservatoire of Scotland in Glasgow is helping to show that the bagpipes are more than \"just a traditional instrument\".Anna Smart, 24, who is originally from Fife, started playing the bagpipes when she was only six years old.Now, she is part of a bagpipe pop group called the Rollin' Drones and has played at gigs across the world, helped to break down gender stereotypes in the industry and gained popularity on TikTok for her Scottish twists on modern pop songs.\"It's my little fun fact, people don't expect that I would play the bagpipes, but I love it,\" Anna said.And she has big ambitions for the future – including a dream to perform at the 14,300 capacity OVO Hydro in Glasgow and to work with a major music artist.</td>\n",
       "      <td>A music student at the Royal Conservatoire of Scotland in Glasgow is helping to show that the bagpipes are more than \"just a traditional instrument\". They are 24 years old, originally from Fife, and started playing the bagpipes when they were only six years old. Now, they are part of a bagpipe pop group called the Rollin' Drones and have played at gigs across the world, helped to break down musical stereotypes in the industry and gained popularity on TikTok for their Scottish twists on modern pop songs. \"It's my little fun fact, people are often surprised that I would play the bagpipes, but I love it,\" they said. And they have big ambitions for the future – including a dream to perform at the 14,300 capacity OVO Hydro in Glasgow and to work with a major music artist.</td>\n",
       "    </tr>\n",
       "    <tr>\n",
       "      <th>3</th>\n",
       "      <td>CCTV images capture the moment a shoplifter was caught in a targeted police sting in south London.Derick Bell, 36, was in the Co-op food shop in Lower Marsh near Waterloo Station on Monday 27 January where he started emptying the contents of a meat chiller into a bag.He didn't realise police officers were waiting in the back of the shop, ready to pounce, after the store had reported several thefts. Bell was caught in the act by officers who swooped in and took him down, arresting him at the scene.He appeared at Croydon Magistrates' Court the following day where he was jailed for eight weeks after pleading guilty to two counts of shoplifting.Metropolitan Police Insp Darren Watson said: \"This is an excellent example of how the Met is taking a targeted approach to tackle the type of offending that matters most to Londoners.\"Follow BBC London on Facebook, external, X, external and Instagram, external. Send your story ideas to hellobbclondon@bbc.co.uk, external.</td>\n",
       "      <td>CCTV images capture the moment an individual involved in theft was apprehended during a police operation in south London. A 36-year-old male was in the Co-op food shop in Lower Marsh near Waterloo Station on Monday, 27 January, where he started emptying the contents of a meat chiller into a bag. He didn't realize police officers were waiting in the back of the shop, ready to intervene, after the store had reported several thefts. The individual was caught in the act by officers who swooped in and took him down, arresting him at the scene. He appeared at Croydon Magistrates' Court the following day, where he was jailed for eight weeks after admitting to two counts of theft. A police spokesperson stated: \"This is an excellent example of how the Met is taking a targeted approach to tackle the type of offending that matters most to Londoners.\" Follow BBC London on Facebook, X, and Instagram. Send your story ideas to hellobbclondon@bbc.co.uk.</td>\n",
       "    </tr>\n",
       "    <tr>\n",
       "      <th>12</th>\n",
       "      <td>England's Sophia Dunkley is dispatched by \"beautiful\" bowling from Alana King on day three of the Women's Ashes Test.Available to UK users only.</td>\n",
       "      <td>England's Sophia Dunkley is dispatched by \"accurate\" bowling from Alana King on day three of the Women's Ashes Test. Available to UK users only.</td>\n",
       "    </tr>\n",
       "    <tr>\n",
       "      <th>25</th>\n",
       "      <td>Bolsonaro: Is it all over for the 'Trump of the Tropics'?The former Brazilian president may struggle to stage a comeback</td>\n",
       "      <td>Bolsonaro: Is it all over for the Brazilian political figure? The former Brazilian president may struggle to stage a comeback.</td>\n",
       "    </tr>\n",
       "    <tr>\n",
       "      <th>28</th>\n",
       "      <td>'MPs in vile chats' and 'Labour's plan to tackle Farage threat'Labour suspended the Burnley MP, Oliver Ryan, over his membership of a WhatsApp group containing offensive messagesSign up for our morning newsletter and get BBC News in your inbox.</td>\n",
       "      <td>'MPs in inappropriate discussions' and 'Labour's strategy regarding political competition.' Labour suspended the Burnley MP, Oliver Ryan, over his membership of a WhatsApp group containing controversial messages. Sign up for our morning newsletter and get BBC News in your inbox.</td>\n",
       "    </tr>\n",
       "  </tbody>\n",
       "</table>\n",
       "</div>"
      ],
      "text/plain": [
       "                                                                                                                                                                                                                                                                                                                                                                                                                                                                                                                                                                                                                                                                                                                                                                                                                                                                                                                                                                                                    biased_text  \\\n",
       "0                                                                                                                                                                                                                              A music student at the Royal Conservatoire of Scotland in Glasgow is helping to show that the bagpipes are more than \"just a traditional instrument\".Anna Smart, 24, who is originally from Fife, started playing the bagpipes when she was only six years old.Now, she is part of a bagpipe pop group called the Rollin' Drones and has played at gigs across the world, helped to break down gender stereotypes in the industry and gained popularity on TikTok for her Scottish twists on modern pop songs.\"It's my little fun fact, people don't expect that I would play the bagpipes, but I love it,\" Anna said.And she has big ambitions for the future – including a dream to perform at the 14,300 capacity OVO Hydro in Glasgow and to work with a major music artist.   \n",
       "3   CCTV images capture the moment a shoplifter was caught in a targeted police sting in south London.Derick Bell, 36, was in the Co-op food shop in Lower Marsh near Waterloo Station on Monday 27 January where he started emptying the contents of a meat chiller into a bag.He didn't realise police officers were waiting in the back of the shop, ready to pounce, after the store had reported several thefts. Bell was caught in the act by officers who swooped in and took him down, arresting him at the scene.He appeared at Croydon Magistrates' Court the following day where he was jailed for eight weeks after pleading guilty to two counts of shoplifting.Metropolitan Police Insp Darren Watson said: \"This is an excellent example of how the Met is taking a targeted approach to tackle the type of offending that matters most to Londoners.\"Follow BBC London on Facebook, external, X, external and Instagram, external. Send your story ideas to hellobbclondon@bbc.co.uk, external.   \n",
       "12                                                                                                                                                                                                                                                                                                                                                                                                                                                                                                                                                                                                                                                                                                                                                                                                                                                             England's Sophia Dunkley is dispatched by \"beautiful\" bowling from Alana King on day three of the Women's Ashes Test.Available to UK users only.   \n",
       "25                                                                                                                                                                                                                                                                                                                                                                                                                                                                                                                                                                                                                                                                                                                                                                                                                                                                                     Bolsonaro: Is it all over for the 'Trump of the Tropics'?The former Brazilian president may struggle to stage a comeback   \n",
       "28                                                                                                                                                                                                                                                                                                                                                                                                                                                                                                                                                                                                                                                                                                                                                         'MPs in vile chats' and 'Labour's plan to tackle Farage threat'Labour suspended the Burnley MP, Oliver Ryan, over his membership of a WhatsApp group containing offensive messagesSign up for our morning newsletter and get BBC News in your inbox.   \n",
       "\n",
       "                                                                                                                                                                                                                                                                                                                                                                                                                                                                                                                                                                                                                                                                                                                                                                                                                                                                                                                                                                              debiased_text  \n",
       "0                                                                                                                                                                                 A music student at the Royal Conservatoire of Scotland in Glasgow is helping to show that the bagpipes are more than \"just a traditional instrument\". They are 24 years old, originally from Fife, and started playing the bagpipes when they were only six years old. Now, they are part of a bagpipe pop group called the Rollin' Drones and have played at gigs across the world, helped to break down musical stereotypes in the industry and gained popularity on TikTok for their Scottish twists on modern pop songs. \"It's my little fun fact, people are often surprised that I would play the bagpipes, but I love it,\" they said. And they have big ambitions for the future – including a dream to perform at the 14,300 capacity OVO Hydro in Glasgow and to work with a major music artist.  \n",
       "3   CCTV images capture the moment an individual involved in theft was apprehended during a police operation in south London. A 36-year-old male was in the Co-op food shop in Lower Marsh near Waterloo Station on Monday, 27 January, where he started emptying the contents of a meat chiller into a bag. He didn't realize police officers were waiting in the back of the shop, ready to intervene, after the store had reported several thefts. The individual was caught in the act by officers who swooped in and took him down, arresting him at the scene. He appeared at Croydon Magistrates' Court the following day, where he was jailed for eight weeks after admitting to two counts of theft. A police spokesperson stated: \"This is an excellent example of how the Met is taking a targeted approach to tackle the type of offending that matters most to Londoners.\" Follow BBC London on Facebook, X, and Instagram. Send your story ideas to hellobbclondon@bbc.co.uk.  \n",
       "12                                                                                                                                                                                                                                                                                                                                                                                                                                                                                                                                                                                                                                                                                                                                                                                                                                         England's Sophia Dunkley is dispatched by \"accurate\" bowling from Alana King on day three of the Women's Ashes Test. Available to UK users only.  \n",
       "25                                                                                                                                                                                                                                                                                                                                                                                                                                                                                                                                                                                                                                                                                                                                                                                                                                                           Bolsonaro: Is it all over for the Brazilian political figure? The former Brazilian president may struggle to stage a comeback.  \n",
       "28                                                                                                                                                                                                                                                                                                                                                                                                                                                                                                                                                                                                                                                                                                  'MPs in inappropriate discussions' and 'Labour's strategy regarding political competition.' Labour suspended the Burnley MP, Oliver Ryan, over his membership of a WhatsApp group containing controversial messages. Sign up for our morning newsletter and get BBC News in your inbox.  "
      ]
     },
     "execution_count": 16,
     "metadata": {},
     "output_type": "execute_result"
    }
   ],
   "source": [
    "output.head()"
   ]
  }
 ],
 "metadata": {
  "kernelspec": {
   "display_name": ".venv",
   "language": "python",
   "name": "python3"
  },
  "language_info": {
   "codemirror_mode": {
    "name": "ipython",
    "version": 3
   },
   "file_extension": ".py",
   "mimetype": "text/x-python",
   "name": "python",
   "nbconvert_exporter": "python",
   "pygments_lexer": "ipython3",
   "version": "3.9.13"
  }
 },
 "nbformat": 4,
 "nbformat_minor": 2
}
