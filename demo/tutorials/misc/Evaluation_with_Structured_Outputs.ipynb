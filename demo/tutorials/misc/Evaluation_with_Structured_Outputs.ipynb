{
 "cells": [
  {
   "cell_type": "markdown",
   "metadata": {},
   "source": [
    "![logog](https://raw.githubusercontent.com/Pacific-AI-Corp/langtest/main/docs/assets/images/logo.png)"
   ]
  },
  {
   "cell_type": "markdown",
   "metadata": {},
   "source": [
    "[![Open In Colab](https://colab.research.google.com/assets/colab-badge.svg)](https://colab.research.google.com/github/Pacific-AI-Corp/langtest/blob/main/demo/tutorials/misc/Evaluation_with_Structured_Outputs.ipynb)"
   ]
  },
  {
   "cell_type": "markdown",
   "metadata": {},
   "source": [
    "**LangTest** is an open-source python library designed to help developers deliver safe and effective Natural Language Processing (NLP) models. Whether you are using **John Snow Labs, Hugging Face, Spacy** models or **OpenAI, Cohere, AI21, Hugging Face Inference API and Azure-OpenAI** based LLMs, it has got you covered. You can test any Named Entity Recognition (NER), Text Classification, fill-mask, Translation model using the library. We also support testing LLMS for Question-Answering, Summarization and text-generation tasks on benchmark datasets. The library supports 60+ out of the box tests. For a complete list of supported test categories, please refer to the [documentation](http://langtest.org/docs/pages/docs/test_categories).\n",
    "\n",
    "Metrics are calculated by comparing the model's extractions in the original list of sentences against the extractions carried out in the noisy list of sentences. The original annotated labels are not used at any point, we are simply comparing the model against itself in a 2 settings."
   ]
  },
  {
   "cell_type": "markdown",
   "metadata": {},
   "source": [
    "# Getting started with LangTest"
   ]
  },
  {
   "cell_type": "code",
   "execution_count": null,
   "metadata": {},
   "outputs": [],
   "source": [
    "%pip install langtest[llms]"
   ]
  },
  {
   "cell_type": "markdown",
   "metadata": {},
   "source": [
    "## Initial setup"
   ]
  },
  {
   "cell_type": "code",
   "execution_count": null,
   "metadata": {},
   "outputs": [],
   "source": [
    "import os\n",
    "\n",
    "os.environ[\"OPENAI_API_KEY\"] = \"OPENAI_API_KEY\""
   ]
  },
  {
   "cell_type": "code",
   "execution_count": null,
   "metadata": {},
   "outputs": [
    {
     "data": {
      "text/plain": [
       "True"
      ]
     },
     "execution_count": 2,
     "metadata": {},
     "output_type": "execute_result"
    }
   ],
   "source": [
    "from pydantic import BaseModel\n",
    "\n",
    "class Answer(BaseModel):\n",
    "    \n",
    "    class Rationale(BaseModel):\n",
    "        \"\"\"Explanation for an answer. why the answer is correct or incorrect with a valid reasons, a score and a summary.\"\"\"\n",
    "        reason: str\n",
    "        score: float\n",
    "        summary: str\n",
    "\n",
    "    answer: bool\n",
    "    rationale: Rationale\n",
    "\n",
    "    # eq method is needed to compare the answers\n",
    "    # evaluate the response of the model by comparing\n",
    "    # two objects of the Answer class\n",
    "    def __eq__(self, other: 'Answer') -> bool:\n",
    "        return self.answer == other.answer\n",
    "\n",
    "issubclass(Answer, BaseModel)"
   ]
  },
  {
   "cell_type": "markdown",
   "metadata": {},
   "source": [
    "# Harness and its Parameters\n",
    "\n",
    "The Harness class is a testing class for Natural Language Processing (NLP) models. It evaluates the performance of a NLP model on a given task using test data and generates a report with test results.Harness can be imported from the LangTest library in the following way."
   ]
  },
  {
   "cell_type": "markdown",
   "metadata": {},
   "source": [
    "It imports the Harness class from within the module, that is designed to provide a blueprint or framework for conducting NLP testing, and that instances of the Harness class can be customized or configured for different testing scenarios or environments.\n",
    "\n",
    "Here is a list of the different parameters that can be passed to the Harness function:\n",
    "\n",
    "<br/>\n",
    "\n",
    "\n",
    "\n",
    "| Parameter     | Description |\n",
    "| - | - |\n",
    "| **task**      | Task for which the model is to be evaluated (text-classification or ner) |\n",
    "| **model**     | Specifies the model(s) to be evaluated. This parameter can be provided as either a dictionary or a list of dictionaries. Each dictionary should contain the following keys: <ul><li>model (mandatory): \tPipelineModel or path to a saved model or pretrained pipeline/model from hub.</li><li>hub (mandatory): Hub (library) to use in back-end for loading model from public models hub or from path</li><li>type : type is use for chat or completion of model</li></ul>|\n",
    "| **data**      | The data to be used for evaluation. A dictionary providing flexibility and options for data sources. It should include the following keys: <ul><li>data_source (mandatory): The source of the data.</li><li>subset (optional): The subset of the data.</li><li>feature_column (optional): The column containing the features.</li><li>target_column (optional): The column containing the target labels.</li><li>split (optional): The data split to be used.</li><li>source (optional): Set to 'huggingface' when loading Hugging Face dataset.</li></ul> |\n",
    "| **config**    | Configuration for the tests to be performed, specified in the form of a YAML file. |\n",
    "\n",
    "\n",
    "<br/>\n",
    "<br/>"
   ]
  },
  {
   "cell_type": "code",
   "execution_count": 3,
   "metadata": {},
   "outputs": [
    {
     "name": "stdout",
     "output_type": "stream",
     "text": [
      "\u001b[91m🚨 Your Spark-Healthcare is outdated, installed==5.5.2 but latest version==5.5.0\n",
      "You can run \u001b[92m nlp.install() \u001b[39mto update Spark-Healthcare\n",
      "Test Configuration : \n",
      " {\n",
      " \"tests\": {\n",
      "  \"defaults\": {\n",
      "   \"min_pass_rate\": 0.5\n",
      "  },\n",
      "  \"robustness\": {\n",
      "   \"uppercase\": {\n",
      "    \"min_pass_rate\": 0.8\n",
      "   },\n",
      "   \"add_ocr_typo\": {\n",
      "    \"min_pass_rate\": 0.8\n",
      "   },\n",
      "   \"add_tabs\": {\n",
      "    \"min_pass_rate\": 0.8\n",
      "   }\n",
      "  }\n",
      " }\n",
      "}\n"
     ]
    }
   ],
   "source": [
    "from langtest import Harness\n",
    "\n",
    "harness = Harness(\n",
    "    task='question-answering',\n",
    "    model={\n",
    "        'model': 'llama3.1',\n",
    "        'hub': 'ollama',\n",
    "        'type': 'chat',\n",
    "        'output_schema': Answer,\n",
    "    },\n",
    "    data={\n",
    "        \"data_source\": \"BoolQ\",\n",
    "        \"split\": \"test-tiny\",\n",
    "    },\n",
    "    config={\n",
    "        \"tests\": {\n",
    "            \"defaults\": {\n",
    "                \"min_pass_rate\": 0.5,\n",
    "            },\n",
    "            \"robustness\": {\n",
    "                \"uppercase\": {\n",
    "                    \"min_pass_rate\": 0.8,\n",
    "                },\n",
    "                \"add_ocr_typo\": {\n",
    "                    \"min_pass_rate\": 0.8,\n",
    "                },\n",
    "                \"add_tabs\": {\n",
    "                    \"min_pass_rate\": 0.8,\n",
    "                }\n",
    "            }\n",
    "        }\n",
    "    }\n",
    ")"
   ]
  },
  {
   "cell_type": "markdown",
   "metadata": {},
   "source": [
    "### Generate the testcases\n",
    "The result of the generate function now has an extra column called model_name which specifies which model is the testcase is for."
   ]
  },
  {
   "cell_type": "code",
   "execution_count": 4,
   "metadata": {},
   "outputs": [
    {
     "name": "stderr",
     "output_type": "stream",
     "text": [
      "Generating testcases...: 100%|██████████| 1/1 [00:00<?, ?it/s]\n"
     ]
    },
    {
     "data": {
      "text/plain": []
     },
     "execution_count": 4,
     "metadata": {},
     "output_type": "execute_result"
    }
   ],
   "source": [
    "harness.generate()"
   ]
  },
  {
   "cell_type": "code",
   "execution_count": 5,
   "metadata": {},
   "outputs": [
    {
     "data": {
      "text/html": [
       "<div>\n",
       "<style scoped>\n",
       "    .dataframe tbody tr th:only-of-type {\n",
       "        vertical-align: middle;\n",
       "    }\n",
       "\n",
       "    .dataframe tbody tr th {\n",
       "        vertical-align: top;\n",
       "    }\n",
       "\n",
       "    .dataframe thead th {\n",
       "        text-align: right;\n",
       "    }\n",
       "</style>\n",
       "<table border=\"1\" class=\"dataframe\">\n",
       "  <thead>\n",
       "    <tr style=\"text-align: right;\">\n",
       "      <th></th>\n",
       "      <th>category</th>\n",
       "      <th>test_type</th>\n",
       "      <th>original_context</th>\n",
       "      <th>original_question</th>\n",
       "      <th>perturbed_context</th>\n",
       "      <th>perturbed_question</th>\n",
       "    </tr>\n",
       "  </thead>\n",
       "  <tbody>\n",
       "    <tr>\n",
       "      <th>0</th>\n",
       "      <td>robustness</td>\n",
       "      <td>uppercase</td>\n",
       "      <td>20 euro note -- Until now there has been only ...</td>\n",
       "      <td>is the first series 20 euro note still legal t...</td>\n",
       "      <td>20 EURO NOTE -- UNTIL NOW THERE HAS BEEN ONLY ...</td>\n",
       "      <td>IS THE FIRST SERIES 20 EURO NOTE STILL LEGAL T...</td>\n",
       "    </tr>\n",
       "    <tr>\n",
       "      <th>1</th>\n",
       "      <td>robustness</td>\n",
       "      <td>uppercase</td>\n",
       "      <td>2018–19 UEFA Champions League -- The final wil...</td>\n",
       "      <td>do the champions league winners get automatic ...</td>\n",
       "      <td>2018–19 UEFA CHAMPIONS LEAGUE -- THE FINAL WIL...</td>\n",
       "      <td>DO THE CHAMPIONS LEAGUE WINNERS GET AUTOMATIC ...</td>\n",
       "    </tr>\n",
       "    <tr>\n",
       "      <th>2</th>\n",
       "      <td>robustness</td>\n",
       "      <td>uppercase</td>\n",
       "      <td>Bullsnake -- Bullsnakes are very powerful cons...</td>\n",
       "      <td>can a bull snake kill a small dog</td>\n",
       "      <td>BULLSNAKE -- BULLSNAKES ARE VERY POWERFUL CONS...</td>\n",
       "      <td>CAN A BULL SNAKE KILL A SMALL DOG</td>\n",
       "    </tr>\n",
       "    <tr>\n",
       "      <th>3</th>\n",
       "      <td>robustness</td>\n",
       "      <td>uppercase</td>\n",
       "      <td>NBA playoffs -- All rounds are best-of-seven s...</td>\n",
       "      <td>are all nba playoff games best of 7</td>\n",
       "      <td>NBA PLAYOFFS -- ALL ROUNDS ARE BEST-OF-SEVEN S...</td>\n",
       "      <td>ARE ALL NBA PLAYOFF GAMES BEST OF 7</td>\n",
       "    </tr>\n",
       "    <tr>\n",
       "      <th>4</th>\n",
       "      <td>robustness</td>\n",
       "      <td>uppercase</td>\n",
       "      <td>Manchester station group -- The Manchester sta...</td>\n",
       "      <td>can i use my train ticket on the tram in manch...</td>\n",
       "      <td>MANCHESTER STATION GROUP -- THE MANCHESTER STA...</td>\n",
       "      <td>CAN I USE MY TRAIN TICKET ON THE TRAM IN MANCH...</td>\n",
       "    </tr>\n",
       "  </tbody>\n",
       "</table>\n",
       "</div>"
      ],
      "text/plain": [
       "     category  test_type                                   original_context  \\\n",
       "0  robustness  uppercase  20 euro note -- Until now there has been only ...   \n",
       "1  robustness  uppercase  2018–19 UEFA Champions League -- The final wil...   \n",
       "2  robustness  uppercase  Bullsnake -- Bullsnakes are very powerful cons...   \n",
       "3  robustness  uppercase  NBA playoffs -- All rounds are best-of-seven s...   \n",
       "4  robustness  uppercase  Manchester station group -- The Manchester sta...   \n",
       "\n",
       "                                   original_question  \\\n",
       "0  is the first series 20 euro note still legal t...   \n",
       "1  do the champions league winners get automatic ...   \n",
       "2                  can a bull snake kill a small dog   \n",
       "3                are all nba playoff games best of 7   \n",
       "4  can i use my train ticket on the tram in manch...   \n",
       "\n",
       "                                   perturbed_context  \\\n",
       "0  20 EURO NOTE -- UNTIL NOW THERE HAS BEEN ONLY ...   \n",
       "1  2018–19 UEFA CHAMPIONS LEAGUE -- THE FINAL WIL...   \n",
       "2  BULLSNAKE -- BULLSNAKES ARE VERY POWERFUL CONS...   \n",
       "3  NBA PLAYOFFS -- ALL ROUNDS ARE BEST-OF-SEVEN S...   \n",
       "4  MANCHESTER STATION GROUP -- THE MANCHESTER STA...   \n",
       "\n",
       "                                  perturbed_question  \n",
       "0  IS THE FIRST SERIES 20 EURO NOTE STILL LEGAL T...  \n",
       "1  DO THE CHAMPIONS LEAGUE WINNERS GET AUTOMATIC ...  \n",
       "2                  CAN A BULL SNAKE KILL A SMALL DOG  \n",
       "3                ARE ALL NBA PLAYOFF GAMES BEST OF 7  \n",
       "4  CAN I USE MY TRAIN TICKET ON THE TRAM IN MANCH...  "
      ]
     },
     "execution_count": 5,
     "metadata": {},
     "output_type": "execute_result"
    }
   ],
   "source": [
    "testcases_df = harness.testcases()\n",
    "\n",
    "testcases_df.head()"
   ]
  },
  {
   "cell_type": "markdown",
   "metadata": {},
   "source": [
    "harness.generate() method automatically generates the test cases (based on the provided configuration)"
   ]
  },
  {
   "cell_type": "markdown",
   "metadata": {},
   "source": [
    "### Running the tests"
   ]
  },
  {
   "cell_type": "code",
   "execution_count": 6,
   "metadata": {},
   "outputs": [
    {
     "name": "stderr",
     "output_type": "stream",
     "text": [
      "Running testcases... : 100%|██████████| 150/150 [03:34<00:00,  1.43s/it]\n"
     ]
    },
    {
     "data": {
      "text/plain": []
     },
     "execution_count": 6,
     "metadata": {},
     "output_type": "execute_result"
    }
   ],
   "source": [
    "harness.run()"
   ]
  },
  {
   "cell_type": "markdown",
   "metadata": {},
   "source": [
    "### Generated Results"
   ]
  },
  {
   "cell_type": "code",
   "execution_count": 7,
   "metadata": {},
   "outputs": [
    {
     "data": {
      "text/html": [
       "<div>\n",
       "<style scoped>\n",
       "    .dataframe tbody tr th:only-of-type {\n",
       "        vertical-align: middle;\n",
       "    }\n",
       "\n",
       "    .dataframe tbody tr th {\n",
       "        vertical-align: top;\n",
       "    }\n",
       "\n",
       "    .dataframe thead th {\n",
       "        text-align: right;\n",
       "    }\n",
       "</style>\n",
       "<table border=\"1\" class=\"dataframe\">\n",
       "  <thead>\n",
       "    <tr style=\"text-align: right;\">\n",
       "      <th></th>\n",
       "      <th>category</th>\n",
       "      <th>test_type</th>\n",
       "      <th>original_context</th>\n",
       "      <th>original_question</th>\n",
       "      <th>perturbed_context</th>\n",
       "      <th>perturbed_question</th>\n",
       "      <th>expected_result</th>\n",
       "      <th>actual_result</th>\n",
       "      <th>pass</th>\n",
       "    </tr>\n",
       "  </thead>\n",
       "  <tbody>\n",
       "    <tr>\n",
       "      <th>0</th>\n",
       "      <td>robustness</td>\n",
       "      <td>uppercase</td>\n",
       "      <td>20 euro note -- Until now there has been only ...</td>\n",
       "      <td>is the first series 20 euro note still legal t...</td>\n",
       "      <td>20 EURO NOTE -- UNTIL NOW THERE HAS BEEN ONLY ...</td>\n",
       "      <td>IS THE FIRST SERIES 20 EURO NOTE STILL LEGAL T...</td>\n",
       "      <td>answer=False rationale=Rationale(reason='The t...</td>\n",
       "      <td>answer=False rationale=Rationale(reason='The t...</td>\n",
       "      <td>True</td>\n",
       "    </tr>\n",
       "    <tr>\n",
       "      <th>1</th>\n",
       "      <td>robustness</td>\n",
       "      <td>uppercase</td>\n",
       "      <td>2018–19 UEFA Champions League -- The final wil...</td>\n",
       "      <td>do the champions league winners get automatic ...</td>\n",
       "      <td>2018–19 UEFA CHAMPIONS LEAGUE -- THE FINAL WIL...</td>\n",
       "      <td>DO THE CHAMPIONS LEAGUE WINNERS GET AUTOMATIC ...</td>\n",
       "      <td>answer=True rationale=Rationale(reason=\"Accord...</td>\n",
       "      <td>answer=True rationale=Rationale(reason='The wi...</td>\n",
       "      <td>True</td>\n",
       "    </tr>\n",
       "    <tr>\n",
       "      <th>2</th>\n",
       "      <td>robustness</td>\n",
       "      <td>uppercase</td>\n",
       "      <td>Bullsnake -- Bullsnakes are very powerful cons...</td>\n",
       "      <td>can a bull snake kill a small dog</td>\n",
       "      <td>BULLSNAKE -- BULLSNAKES ARE VERY POWERFUL CONS...</td>\n",
       "      <td>CAN A BULL SNAKE KILL A SMALL DOG</td>\n",
       "      <td>answer=False rationale=Rationale(reason='Bulls...</td>\n",
       "      <td>answer=False rationale=Rationale(reason='Bulls...</td>\n",
       "      <td>True</td>\n",
       "    </tr>\n",
       "    <tr>\n",
       "      <th>3</th>\n",
       "      <td>robustness</td>\n",
       "      <td>uppercase</td>\n",
       "      <td>NBA playoffs -- All rounds are best-of-seven s...</td>\n",
       "      <td>are all nba playoff games best of 7</td>\n",
       "      <td>NBA PLAYOFFS -- ALL ROUNDS ARE BEST-OF-SEVEN S...</td>\n",
       "      <td>ARE ALL NBA PLAYOFF GAMES BEST OF 7</td>\n",
       "      <td>answer=True rationale=Rationale(reason='NBA pl...</td>\n",
       "      <td>answer=True rationale=Rationale(reason='The te...</td>\n",
       "      <td>True</td>\n",
       "    </tr>\n",
       "    <tr>\n",
       "      <th>4</th>\n",
       "      <td>robustness</td>\n",
       "      <td>uppercase</td>\n",
       "      <td>Manchester station group -- The Manchester sta...</td>\n",
       "      <td>can i use my train ticket on the tram in manch...</td>\n",
       "      <td>MANCHESTER STATION GROUP -- THE MANCHESTER STA...</td>\n",
       "      <td>CAN I USE MY TRAIN TICKET ON THE TRAM IN MANCH...</td>\n",
       "      <td>answer=True rationale=Rationale(reason='For co...</td>\n",
       "      <td>answer=True rationale=Rationale(reason=\"The te...</td>\n",
       "      <td>True</td>\n",
       "    </tr>\n",
       "  </tbody>\n",
       "</table>\n",
       "</div>"
      ],
      "text/plain": [
       "     category  test_type                                   original_context  \\\n",
       "0  robustness  uppercase  20 euro note -- Until now there has been only ...   \n",
       "1  robustness  uppercase  2018–19 UEFA Champions League -- The final wil...   \n",
       "2  robustness  uppercase  Bullsnake -- Bullsnakes are very powerful cons...   \n",
       "3  robustness  uppercase  NBA playoffs -- All rounds are best-of-seven s...   \n",
       "4  robustness  uppercase  Manchester station group -- The Manchester sta...   \n",
       "\n",
       "                                   original_question  \\\n",
       "0  is the first series 20 euro note still legal t...   \n",
       "1  do the champions league winners get automatic ...   \n",
       "2                  can a bull snake kill a small dog   \n",
       "3                are all nba playoff games best of 7   \n",
       "4  can i use my train ticket on the tram in manch...   \n",
       "\n",
       "                                   perturbed_context  \\\n",
       "0  20 EURO NOTE -- UNTIL NOW THERE HAS BEEN ONLY ...   \n",
       "1  2018–19 UEFA CHAMPIONS LEAGUE -- THE FINAL WIL...   \n",
       "2  BULLSNAKE -- BULLSNAKES ARE VERY POWERFUL CONS...   \n",
       "3  NBA PLAYOFFS -- ALL ROUNDS ARE BEST-OF-SEVEN S...   \n",
       "4  MANCHESTER STATION GROUP -- THE MANCHESTER STA...   \n",
       "\n",
       "                                  perturbed_question  \\\n",
       "0  IS THE FIRST SERIES 20 EURO NOTE STILL LEGAL T...   \n",
       "1  DO THE CHAMPIONS LEAGUE WINNERS GET AUTOMATIC ...   \n",
       "2                  CAN A BULL SNAKE KILL A SMALL DOG   \n",
       "3                ARE ALL NBA PLAYOFF GAMES BEST OF 7   \n",
       "4  CAN I USE MY TRAIN TICKET ON THE TRAM IN MANCH...   \n",
       "\n",
       "                                     expected_result  \\\n",
       "0  answer=False rationale=Rationale(reason='The t...   \n",
       "1  answer=True rationale=Rationale(reason=\"Accord...   \n",
       "2  answer=False rationale=Rationale(reason='Bulls...   \n",
       "3  answer=True rationale=Rationale(reason='NBA pl...   \n",
       "4  answer=True rationale=Rationale(reason='For co...   \n",
       "\n",
       "                                       actual_result  pass  \n",
       "0  answer=False rationale=Rationale(reason='The t...  True  \n",
       "1  answer=True rationale=Rationale(reason='The wi...  True  \n",
       "2  answer=False rationale=Rationale(reason='Bulls...  True  \n",
       "3  answer=True rationale=Rationale(reason='The te...  True  \n",
       "4  answer=True rationale=Rationale(reason=\"The te...  True  "
      ]
     },
     "execution_count": 7,
     "metadata": {},
     "output_type": "execute_result"
    }
   ],
   "source": [
    "resultsdf = harness.generated_results()\n",
    "resultsdf.head()"
   ]
  },
  {
   "cell_type": "code",
   "execution_count": 8,
   "metadata": {},
   "outputs": [
    {
     "data": {
      "text/html": [
       "<div>\n",
       "<style scoped>\n",
       "    .dataframe tbody tr th:only-of-type {\n",
       "        vertical-align: middle;\n",
       "    }\n",
       "\n",
       "    .dataframe tbody tr th {\n",
       "        vertical-align: top;\n",
       "    }\n",
       "\n",
       "    .dataframe thead th {\n",
       "        text-align: right;\n",
       "    }\n",
       "</style>\n",
       "<table border=\"1\" class=\"dataframe\">\n",
       "  <thead>\n",
       "    <tr style=\"text-align: right;\">\n",
       "      <th></th>\n",
       "      <th>category</th>\n",
       "      <th>test_type</th>\n",
       "      <th>fail_count</th>\n",
       "      <th>pass_count</th>\n",
       "      <th>pass_rate</th>\n",
       "      <th>minimum_pass_rate</th>\n",
       "      <th>pass</th>\n",
       "    </tr>\n",
       "  </thead>\n",
       "  <tbody>\n",
       "    <tr>\n",
       "      <th>0</th>\n",
       "      <td>robustness</td>\n",
       "      <td>uppercase</td>\n",
       "      <td>3</td>\n",
       "      <td>47</td>\n",
       "      <td>94%</td>\n",
       "      <td>80%</td>\n",
       "      <td>True</td>\n",
       "    </tr>\n",
       "    <tr>\n",
       "      <th>1</th>\n",
       "      <td>robustness</td>\n",
       "      <td>add_ocr_typo</td>\n",
       "      <td>6</td>\n",
       "      <td>44</td>\n",
       "      <td>88%</td>\n",
       "      <td>80%</td>\n",
       "      <td>True</td>\n",
       "    </tr>\n",
       "    <tr>\n",
       "      <th>2</th>\n",
       "      <td>robustness</td>\n",
       "      <td>add_tabs</td>\n",
       "      <td>11</td>\n",
       "      <td>39</td>\n",
       "      <td>78%</td>\n",
       "      <td>80%</td>\n",
       "      <td>False</td>\n",
       "    </tr>\n",
       "  </tbody>\n",
       "</table>\n",
       "</div>"
      ],
      "text/plain": [
       "     category     test_type  fail_count  pass_count pass_rate  \\\n",
       "0  robustness     uppercase           3          47       94%   \n",
       "1  robustness  add_ocr_typo           6          44       88%   \n",
       "2  robustness      add_tabs          11          39       78%   \n",
       "\n",
       "  minimum_pass_rate   pass  \n",
       "0               80%   True  \n",
       "1               80%   True  \n",
       "2               80%  False  "
      ]
     },
     "execution_count": 8,
     "metadata": {},
     "output_type": "execute_result"
    }
   ],
   "source": [
    "harness.report()"
   ]
  }
 ],
 "metadata": {
  "kernelspec": {
   "display_name": ".venv",
   "language": "python",
   "name": "python3"
  },
  "language_info": {
   "codemirror_mode": {
    "name": "ipython",
    "version": 3
   },
   "file_extension": ".py",
   "mimetype": "text/x-python",
   "name": "python",
   "nbconvert_exporter": "python",
   "pygments_lexer": "ipython3",
   "version": "3.9.13"
  }
 },
 "nbformat": 4,
 "nbformat_minor": 2
}
