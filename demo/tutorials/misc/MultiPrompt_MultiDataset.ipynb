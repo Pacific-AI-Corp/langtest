{
 "cells": [
  {
   "cell_type": "markdown",
   "metadata": {
    "id": "cQcN1kDfAw60"
   },
   "source": [
    "![logog](https://raw.githubusercontent.com/Pacific-AI-Corp/langtest/main/docs/assets/images/logo.png)"
   ]
  },
  {
   "cell_type": "markdown",
   "metadata": {
    "id": "Fu8i_qgCBplG"
   },
   "source": [
    "[![Open In Colab](https://colab.research.google.com/assets/colab-badge.svg)](https://colab.research.google.com/github/Pacific-AI-Corp/langtest/blob/main/demo/tutorials/misc/MultiPrompt_MultiDataset.ipynb)"
   ]
  },
  {
   "cell_type": "markdown",
   "metadata": {
    "id": "IKKgqEEKA3qv"
   },
   "source": [
    "**LangTest** is an open-source python library designed to help developers deliver safe and effective Natural Language Processing (NLP) models. Whether you are using **John Snow Labs, Hugging Face, Spacy** models or **OpenAI, Cohere, AI21, Hugging Face Inference API and Azure-OpenAI** based LLMs, it has got you covered. You can test any Named Entity Recognition (NER), Text Classification, fill-mask, Translation model using the library. We also support testing LLMS for Question-Answering, Summarization and text-generation tasks on benchmark datasets. The library supports 60+ out of the box tests. For a complete list of supported test categories, please refer to the [documentation](http://langtest.org/docs/pages/docs/test_categories).\n",
    "\n",
    "Metrics are calculated by comparing the model's extractions in the original list of sentences against the extractions carried out in the noisy list of sentences. The original annotated labels are not used at any point, we are simply comparing the model against itself in a 2 settings."
   ]
  },
  {
   "cell_type": "markdown",
   "metadata": {
    "id": "JzKpAy4mA5jA"
   },
   "source": [
    "# Getting started with LangTest"
   ]
  },
  {
   "cell_type": "code",
   "execution_count": null,
   "metadata": {
    "id": "jFus50TcGgJA"
   },
   "outputs": [],
   "source": [
    "!pip install \"langtest[openai,transformers,evaluate]==2.2.0\""
   ]
  },
  {
   "cell_type": "markdown",
   "metadata": {
    "id": "bjK9t-uFBEPw"
   },
   "source": [
    "# Harness and Its Parameters\n",
    "\n",
    "The Harness class is a testing class for Natural Language Processing (NLP) models. It evaluates the performance of a NLP model on a given task using test data and generates a report with test results.Harness can be imported from the LangTest library in the following way."
   ]
  },
  {
   "cell_type": "code",
   "execution_count": 1,
   "metadata": {
    "executionInfo": {
     "elapsed": 3080,
     "status": "ok",
     "timestamp": 1696324827009,
     "user": {
      "displayName": "Prikshit sharma",
      "userId": "07819241395213139913"
     },
     "user_tz": -330
    },
    "id": "9Z2vV7zLBJWz"
   },
   "outputs": [],
   "source": [
    "# Import Harness from the LangTest library\n",
    "from langtest import Harness"
   ]
  },
  {
   "cell_type": "markdown",
   "metadata": {
    "id": "MW9LVSCyBLoQ"
   },
   "source": [
    "It imports the Harness class from within the module, that is designed to provide a blueprint or framework for conducting NLP testing, and that instances of the Harness class can be customized or configured for different testing scenarios or environments.\n",
    "\n",
    "Here is a list of the different parameters that can be passed to the Harness function:\n",
    "\n",
    "<br/>\n",
    "\n",
    "\n",
    "| Parameter  | Description |  \n",
    "| - | - |\n",
    "|**task**     |Task for which the model is to be evaluated (question-answering or summarization)|\n",
    "| **model**     | Specifies the model(s) to be evaluated. This parameter can be provided as either a dictionary or a list of dictionaries. Each dictionary should contain the following keys: <ul><li>model (mandatory): \tPipelineModel or path to a saved model or pretrained pipeline/model from hub.</li><li>hub (mandatory): Hub (library) to use in back-end for loading model from public models hub or from path</li></ul>|\n",
    "| **data**      | The data to be used for evaluation. A dictionary providing flexibility and options for data sources. It should include the following keys: <ul><li>data_source (mandatory): The source of the data.</li><li>subset (optional): The subset of the data.</li><li>feature_column (optional): The column containing the features.</li><li>target_column (optional): The column containing the target labels.</li><li>split (optional): The data split to be used.</li><li>source (optional): Set to 'huggingface' when loading Hugging Face dataset.</li></ul> |\n",
    "| **config**    | Configuration for the tests to be performed, specified in the form of a YAML file. |\n",
    "\n",
    "<br/>\n",
    "<br/>"
   ]
  },
  {
   "cell_type": "markdown",
   "metadata": {
    "id": "xHwkRUckBw9M"
   },
   "source": [
    "# OpenAI Model Testing For Question Answering\n",
    "\n",
    "In this section, we dive into testing of OpenAI models in Question Answering task.\n",
    "\n",
    "LangTest supports robustness tests for LLM testing for now."
   ]
  },
  {
   "cell_type": "markdown",
   "metadata": {
    "id": "4bgnVoUiBRqU"
   },
   "source": [
    "### Set environment for OpenAI"
   ]
  },
  {
   "cell_type": "code",
   "execution_count": 2,
   "metadata": {
    "executionInfo": {
     "elapsed": 17,
     "status": "ok",
     "timestamp": 1696324827010,
     "user": {
      "displayName": "Prikshit sharma",
      "userId": "07819241395213139913"
     },
     "user_tz": -330
    },
    "id": "mVYxDu-E_ssg"
   },
   "outputs": [],
   "source": [
    "import os\n",
    "\n",
    "os.environ[\"OPENAI_API_KEY\"] = \"<YOUR_OPENAI_API_KEY>\""
   ]
  },
  {
   "cell_type": "markdown",
   "metadata": {
    "id": "tCXcKn_9BXEa"
   },
   "source": [
    "### Multi Dataset Testing\n",
    "\n",
    "In order to evaluate the model's performance on multiple datasets, we can utilize a Jupyter notebook and provide a list of dictionaries to the `data` parameter. Each dictionary within the list should contain the following keys:\n",
    "\n",
    "```\n",
    "data=[\n",
    "    {\"data_source\": \"BoolQ\", \"split\": \"test-tiny\"},\n",
    "    {\"data_source\": \"NQ-open\", \"split\": \"test-tiny\"},\n",
    "    {\"data_source\": \"MedQA\", \"split\": \"test-tiny\"},\n",
    "    {\"data_source\": \"LogiQA\", \"split\": \"test-tiny\"},\n",
    "],\n",
    "```\n",
    "\n",
    "Here, we specify different data sources and their corresponding splits for testing. This allows for a comprehensive evaluation of the model's performance across diverse datasets. The notebook can then be executed to assess how well the model generalizes to various types of questions and contexts presented in these datasets."
   ]
  },
  {
   "cell_type": "code",
   "execution_count": 3,
   "metadata": {
    "colab": {
     "base_uri": "https://localhost:8080/"
    },
    "executionInfo": {
     "elapsed": 45,
     "status": "ok",
     "timestamp": 1692371630216,
     "user": {
      "displayName": "Prikshit sharma",
      "userId": "07819241395213139913"
     },
     "user_tz": -330
    },
    "id": "ASv9E02sBXrp",
    "outputId": "fb19b9ec-3bd9-416e-f2fc-dc3190b8a861"
   },
   "outputs": [
    {
     "name": "stdout",
     "output_type": "stream",
     "text": [
      "Test Configuration : \n",
      " {\n",
      " \"model_parameters\": {\n",
      "  \"max_tokens\": 64\n",
      " },\n",
      " \"tests\": {\n",
      "  \"defaults\": {\n",
      "   \"min_pass_rate\": 1.0\n",
      "  },\n",
      "  \"robustness\": {\n",
      "   \"add_typo\": {\n",
      "    \"min_pass_rate\": 0.7\n",
      "   },\n",
      "   \"lowercase\": {\n",
      "    \"min_pass_rate\": 0.7\n",
      "   }\n",
      "  }\n",
      " }\n",
      "}\n"
     ]
    }
   ],
   "source": [
    "harness = Harness(\n",
    "    task=\"question-answering\",\n",
    "    model={\"model\": \"gpt-3.5-turbo-instruct\", \"hub\": \"openai\"},\n",
    "    data=[\n",
    "        {\"data_source\": \"BoolQ\", \"split\": \"dev-tiny\"},\n",
    "        {\"data_source\": \"NQ-open\", \"split\": \"test-tiny\"}\n",
    "    ],\n",
    ")"
   ]
  },
  {
   "cell_type": "markdown",
   "metadata": {
    "id": "_wvVHxeSDWLV"
   },
   "source": [
    "## Robustness\n",
    "\n",
    "For tests we used uppercase, Dyslexia Word Swap, Add Slangs, Insert Abbreviations and Speech to Text typos . Other available robustness tests for QA task are:\n",
    "* `add_context`\n",
    "* `add_contraction`\n",
    "* `add_punctuation`\n",
    "* `add_typo`\n",
    "* `add_ocr_typo`\n",
    "* `american_to_british`\n",
    "* `british_to_american`\n",
    "* `lowercase`\n",
    "* `strip_punctuation`\n",
    "* `titlecase`\n",
    "* `uppercase`\n",
    "* `number_to_word`\n",
    "* `add_abbreviation`\n",
    "* `add_speech_to_text_typo`\n",
    "* `add_slangs`\n",
    "* `dyslexia_word_swap`\n",
    "* `multiple_perturbations`\n",
    "* `adjective_synonym_swap`\n",
    "* `adjective_antonym_swap`\n",
    "* `strip_all_punctuation`"
   ]
  },
  {
   "cell_type": "markdown",
   "metadata": {
    "id": "HYExqs-pDbvz"
   },
   "source": [
    "You can also set prompts and other model parameters in config. Possible parameters are:\n",
    "* `user_prompt:` Prompt to be given to the model.\n",
    "* `temperature:` Temperature of the model.\n",
    "* `max_tokens:` Maximum number of output tokens allowed for model."
   ]
  },
  {
   "cell_type": "markdown",
   "metadata": {},
   "source": [
    "To configure prompts for different datasets, you can use the `user_prompt` dictionary. Here's how it works:\n",
    "\n",
    "- Each key in the dictionary represents a dataset name or task (e.g., \"BoolQ\", \"NQ-open\").\n",
    "- The corresponding value is a string template that defines the user prompt for the dataset.\n",
    "- The template can include placeholders:\n",
    "        - `{context}`: This will be replaced with the actual context (passage) relevant to the question from the specific dataset.\n",
    "        - `{question}`: This will be replaced with the actual question from the dataset.\n",
    "- The newline character `\\n` can be used to separate the context and question in the final prompt.\n",
    "\n",
    "Here the example:\n",
    "```python\n",
    "harness.configure(\n",
    "    {\n",
    "        \"model_parameters\": {\n",
    "            \"user_prompt\": {\n",
    "                \"BoolQ\": \"Answer the following question with a True or False. {context}\\nQuestion {question}\",\n",
    "                \"NQ-open\": \"Answer the following question. Question {question}\",\n",
    "            }\n",
    "        },\n",
    "        ....\n",
    "    })\n",
    "```"
   ]
  },
  {
   "cell_type": "code",
   "execution_count": 4,
   "metadata": {
    "colab": {
     "base_uri": "https://localhost:8080/"
    },
    "executionInfo": {
     "elapsed": 42,
     "status": "ok",
     "timestamp": 1692371630218,
     "user": {
      "displayName": "Prikshit sharma",
      "userId": "07819241395213139913"
     },
     "user_tz": -330
    },
    "id": "EzzlV0u4DbN9",
    "outputId": "2a3926cd-9c23-45a6-a0b8-b31b29692be3"
   },
   "outputs": [
    {
     "data": {
      "text/plain": [
       "{'model_parameters': {'user_prompt': {'BoolQ': 'Answer the following question with a True or False. {context}\\nQuestion {question}',\n",
       "   'NQ-open': 'Answer the following question. Question {question}'}},\n",
       " 'tests': {'defaults': {'min_pass_rate': 0.65},\n",
       "  'robustness': {'uppercase': {'min_pass_rate': 0.66},\n",
       "   'dyslexia_word_swap': {'min_pass_rate': 0.6},\n",
       "   'add_abbreviation': {'min_pass_rate': 0.6},\n",
       "   'add_slangs': {'min_pass_rate': 0.6},\n",
       "   'add_speech_to_text_typo': {'min_pass_rate': 0.6}}}}"
      ]
     },
     "execution_count": 4,
     "metadata": {},
     "output_type": "execute_result"
    }
   ],
   "source": [
    "harness.configure(\n",
    "    {\n",
    "        \"model_parameters\": {\n",
    "            \"user_prompt\": {\n",
    "                \"BoolQ\": \"Answer the following question with a True or False. {context}\\nQuestion {question}\",\n",
    "                \"NQ-open\": \"Answer the following question. Question {question}\",\n",
    "            }\n",
    "        },\n",
    "        \"tests\": {\n",
    "            \"defaults\": {\"min_pass_rate\": 0.65},\n",
    "            \"robustness\": {\n",
    "                \"uppercase\": {\"min_pass_rate\": 0.66},\n",
    "                \"dyslexia_word_swap\": {\"min_pass_rate\": 0.60},\n",
    "                \"add_abbreviation\": {\"min_pass_rate\": 0.60},\n",
    "                \"add_slangs\": {\"min_pass_rate\": 0.60},\n",
    "                \"add_speech_to_text_typo\": {\"min_pass_rate\": 0.60},\n",
    "            },\n",
    "        }\n",
    "    }\n",
    ")"
   ]
  },
  {
   "cell_type": "markdown",
   "metadata": {
    "id": "P7TKPJd3Dft1"
   },
   "source": [
    "➤ You can adjust the level of transformation in the sentence by using the \"`prob`\" parameter, which controls the proportion of words to be changed during robustness tests.\n",
    "\n",
    "➤ **NOTE** : \"`prob`\" defaults to 1.0, which means all words will be transformed.\n",
    "```\n",
    "harness.configure(\n",
    "{\n",
    " 'tests': {\n",
    "    'defaults': {'min_pass_rate': 0.65},\n",
    "      'robustness': {\n",
    "        'uppercase': {'min_pass_rate': 0.66, 'prob': 0.50},\n",
    "        'dyslexia_word_swap':{'min_pass_rate': 0.60, 'prob': 0.70},\n",
    "      }\n",
    "  }\n",
    "})\n",
    "\n",
    "```"
   ]
  },
  {
   "cell_type": "markdown",
   "metadata": {
    "id": "SW71UKHfDi2q"
   },
   "source": [
    "Here we have configured the harness to perform Five robustness tests and defined the minimum pass rate for each test."
   ]
  },
  {
   "cell_type": "code",
   "execution_count": 5,
   "metadata": {
    "id": "a9Q8i7-KDgR5"
   },
   "outputs": [],
   "source": [
    "#slice the data\n",
    "harness.data = {k: v[:10] for k, v in harness.data.items()}"
   ]
  },
  {
   "cell_type": "markdown",
   "metadata": {
    "id": "GlBMu35ODm77"
   },
   "source": [
    "### Generating the test cases."
   ]
  },
  {
   "cell_type": "code",
   "execution_count": 6,
   "metadata": {
    "colab": {
     "base_uri": "https://localhost:8080/"
    },
    "executionInfo": {
     "elapsed": 58028,
     "status": "ok",
     "timestamp": 1692371688215,
     "user": {
      "displayName": "Prikshit sharma",
      "userId": "07819241395213139913"
     },
     "user_tz": -330
    },
    "id": "L1NQcBCHDomc",
    "outputId": "e3df8f16-fadd-4fbb-e479-2f098f07ba5a"
   },
   "outputs": [
    {
     "name": "stdout",
     "output_type": "stream",
     "text": [
      "================================================================================\n",
      "                                     BoolQ                                      \n",
      "================================================================================\n"
     ]
    },
    {
     "name": "stderr",
     "output_type": "stream",
     "text": [
      "Generating testcases...: 100%|██████████| 1/1 [00:00<?, ?it/s]\n",
      "WARNING:root:[W009] Removing samples where no transformation has been applied:\n",
      "[W010] - Test 'add_slangs': 2 samples removed out of 10\n",
      "\n"
     ]
    },
    {
     "name": "stdout",
     "output_type": "stream",
     "text": [
      "--------------------------------------------------------------------------------\n",
      "\n",
      "================================================================================\n",
      "                                    NQ-open                                     \n",
      "================================================================================\n"
     ]
    },
    {
     "name": "stderr",
     "output_type": "stream",
     "text": [
      "Generating testcases...: 100%|██████████| 1/1 [00:00<?, ?it/s]\n",
      "WARNING:root:[W009] Removing samples where no transformation has been applied:\n",
      "[W010] - Test 'dyslexia_word_swap': 3 samples removed out of 10\n",
      "[W010] - Test 'add_abbreviation': 1 samples removed out of 10\n",
      "[W010] - Test 'add_slangs': 8 samples removed out of 10\n",
      "[W010] - Test 'add_speech_to_text_typo': 1 samples removed out of 10\n",
      "\n"
     ]
    },
    {
     "name": "stdout",
     "output_type": "stream",
     "text": [
      "--------------------------------------------------------------------------------\n",
      "\n"
     ]
    },
    {
     "data": {
      "text/plain": []
     },
     "execution_count": 6,
     "metadata": {},
     "output_type": "execute_result"
    }
   ],
   "source": [
    "harness.generate()"
   ]
  },
  {
   "cell_type": "code",
   "execution_count": 7,
   "metadata": {
    "colab": {
     "base_uri": "https://localhost:8080/",
     "height": 597
    },
    "executionInfo": {
     "elapsed": 34,
     "status": "ok",
     "timestamp": 1692371688218,
     "user": {
      "displayName": "Prikshit sharma",
      "userId": "07819241395213139913"
     },
     "user_tz": -330
    },
    "id": "QXAUInySDsgM",
    "outputId": "1ebb5870-ee72-4e93-af7e-195f5d504f66"
   },
   "outputs": [
    {
     "data": {
      "text/html": [
       "<div>\n",
       "<style scoped>\n",
       "    .dataframe tbody tr th:only-of-type {\n",
       "        vertical-align: middle;\n",
       "    }\n",
       "\n",
       "    .dataframe tbody tr th {\n",
       "        vertical-align: top;\n",
       "    }\n",
       "\n",
       "    .dataframe thead th {\n",
       "        text-align: right;\n",
       "    }\n",
       "</style>\n",
       "<table border=\"1\" class=\"dataframe\">\n",
       "  <thead>\n",
       "    <tr style=\"text-align: right;\">\n",
       "      <th></th>\n",
       "      <th>category</th>\n",
       "      <th>dataset_name</th>\n",
       "      <th>test_type</th>\n",
       "      <th>original_context</th>\n",
       "      <th>original_question</th>\n",
       "      <th>perturbed_context</th>\n",
       "      <th>perturbed_question</th>\n",
       "    </tr>\n",
       "  </thead>\n",
       "  <tbody>\n",
       "    <tr>\n",
       "      <th>0</th>\n",
       "      <td>robustness</td>\n",
       "      <td>BoolQ</td>\n",
       "      <td>uppercase</td>\n",
       "      <td>All biomass goes through at least some of thes...</td>\n",
       "      <td>does ethanol take more energy make that produces</td>\n",
       "      <td>ALL BIOMASS GOES THROUGH AT LEAST SOME OF THES...</td>\n",
       "      <td>DOES ETHANOL TAKE MORE ENERGY MAKE THAT PRODUCES</td>\n",
       "    </tr>\n",
       "    <tr>\n",
       "      <th>1</th>\n",
       "      <td>robustness</td>\n",
       "      <td>BoolQ</td>\n",
       "      <td>uppercase</td>\n",
       "      <td>Property tax or 'house tax' is a local tax on ...</td>\n",
       "      <td>is house tax and property tax are same</td>\n",
       "      <td>PROPERTY TAX OR 'HOUSE TAX' IS A LOCAL TAX ON ...</td>\n",
       "      <td>IS HOUSE TAX AND PROPERTY TAX ARE SAME</td>\n",
       "    </tr>\n",
       "    <tr>\n",
       "      <th>2</th>\n",
       "      <td>robustness</td>\n",
       "      <td>BoolQ</td>\n",
       "      <td>uppercase</td>\n",
       "      <td>Phantom pain sensations are described as perce...</td>\n",
       "      <td>is pain experienced in a missing body part or ...</td>\n",
       "      <td>PHANTOM PAIN SENSATIONS ARE DESCRIBED AS PERCE...</td>\n",
       "      <td>IS PAIN EXPERIENCED IN A MISSING BODY PART OR ...</td>\n",
       "    </tr>\n",
       "    <tr>\n",
       "      <th>3</th>\n",
       "      <td>robustness</td>\n",
       "      <td>BoolQ</td>\n",
       "      <td>uppercase</td>\n",
       "      <td>Harry Potter and the Escape from Gringotts is ...</td>\n",
       "      <td>is harry potter and the escape from gringotts ...</td>\n",
       "      <td>HARRY POTTER AND THE ESCAPE FROM GRINGOTTS IS ...</td>\n",
       "      <td>IS HARRY POTTER AND THE ESCAPE FROM GRINGOTTS ...</td>\n",
       "    </tr>\n",
       "    <tr>\n",
       "      <th>4</th>\n",
       "      <td>robustness</td>\n",
       "      <td>BoolQ</td>\n",
       "      <td>uppercase</td>\n",
       "      <td>Hydroxyzine preparations require a doctor's pr...</td>\n",
       "      <td>is there a difference between hydroxyzine hcl ...</td>\n",
       "      <td>HYDROXYZINE PREPARATIONS REQUIRE A DOCTOR'S PR...</td>\n",
       "      <td>IS THERE A DIFFERENCE BETWEEN HYDROXYZINE HCL ...</td>\n",
       "    </tr>\n",
       "    <tr>\n",
       "      <th>...</th>\n",
       "      <td>...</td>\n",
       "      <td>...</td>\n",
       "      <td>...</td>\n",
       "      <td>...</td>\n",
       "      <td>...</td>\n",
       "      <td>...</td>\n",
       "      <td>...</td>\n",
       "    </tr>\n",
       "    <tr>\n",
       "      <th>80</th>\n",
       "      <td>robustness</td>\n",
       "      <td>NQ-open</td>\n",
       "      <td>add_speech_to_text_typo</td>\n",
       "      <td>-</td>\n",
       "      <td>who played grand moff tarkin in rogue one</td>\n",
       "      <td>-</td>\n",
       "      <td>Hoo played grand moff tarkin in rogue one</td>\n",
       "    </tr>\n",
       "    <tr>\n",
       "      <th>81</th>\n",
       "      <td>robustness</td>\n",
       "      <td>NQ-open</td>\n",
       "      <td>add_speech_to_text_typo</td>\n",
       "      <td>-</td>\n",
       "      <td>youngest current member of the house of repres...</td>\n",
       "      <td>-</td>\n",
       "      <td>youngest current member of the Hause of repres...</td>\n",
       "    </tr>\n",
       "    <tr>\n",
       "      <th>82</th>\n",
       "      <td>robustness</td>\n",
       "      <td>NQ-open</td>\n",
       "      <td>add_speech_to_text_typo</td>\n",
       "      <td>-</td>\n",
       "      <td>who wrote the miraculous journey of edward tulane</td>\n",
       "      <td>-</td>\n",
       "      <td>Houx wrote the miraculous journey of edward tu...</td>\n",
       "    </tr>\n",
       "    <tr>\n",
       "      <th>83</th>\n",
       "      <td>robustness</td>\n",
       "      <td>NQ-open</td>\n",
       "      <td>add_speech_to_text_typo</td>\n",
       "      <td>-</td>\n",
       "      <td>when did the night mare before christmas come out</td>\n",
       "      <td>-</td>\n",
       "      <td>when did the night Mehr before christmas come out</td>\n",
       "    </tr>\n",
       "    <tr>\n",
       "      <th>84</th>\n",
       "      <td>robustness</td>\n",
       "      <td>NQ-open</td>\n",
       "      <td>add_speech_to_text_typo</td>\n",
       "      <td>-</td>\n",
       "      <td>when does the green book come out in theaters</td>\n",
       "      <td>-</td>\n",
       "      <td>when does the green book come out Inn theaters</td>\n",
       "    </tr>\n",
       "  </tbody>\n",
       "</table>\n",
       "<p>85 rows × 7 columns</p>\n",
       "</div>"
      ],
      "text/plain": [
       "      category dataset_name                test_type  \\\n",
       "0   robustness        BoolQ                uppercase   \n",
       "1   robustness        BoolQ                uppercase   \n",
       "2   robustness        BoolQ                uppercase   \n",
       "3   robustness        BoolQ                uppercase   \n",
       "4   robustness        BoolQ                uppercase   \n",
       "..         ...          ...                      ...   \n",
       "80  robustness      NQ-open  add_speech_to_text_typo   \n",
       "81  robustness      NQ-open  add_speech_to_text_typo   \n",
       "82  robustness      NQ-open  add_speech_to_text_typo   \n",
       "83  robustness      NQ-open  add_speech_to_text_typo   \n",
       "84  robustness      NQ-open  add_speech_to_text_typo   \n",
       "\n",
       "                                     original_context  \\\n",
       "0   All biomass goes through at least some of thes...   \n",
       "1   Property tax or 'house tax' is a local tax on ...   \n",
       "2   Phantom pain sensations are described as perce...   \n",
       "3   Harry Potter and the Escape from Gringotts is ...   \n",
       "4   Hydroxyzine preparations require a doctor's pr...   \n",
       "..                                                ...   \n",
       "80                                                  -   \n",
       "81                                                  -   \n",
       "82                                                  -   \n",
       "83                                                  -   \n",
       "84                                                  -   \n",
       "\n",
       "                                    original_question  \\\n",
       "0    does ethanol take more energy make that produces   \n",
       "1              is house tax and property tax are same   \n",
       "2   is pain experienced in a missing body part or ...   \n",
       "3   is harry potter and the escape from gringotts ...   \n",
       "4   is there a difference between hydroxyzine hcl ...   \n",
       "..                                                ...   \n",
       "80          who played grand moff tarkin in rogue one   \n",
       "81  youngest current member of the house of repres...   \n",
       "82  who wrote the miraculous journey of edward tulane   \n",
       "83  when did the night mare before christmas come out   \n",
       "84      when does the green book come out in theaters   \n",
       "\n",
       "                                    perturbed_context  \\\n",
       "0   ALL BIOMASS GOES THROUGH AT LEAST SOME OF THES...   \n",
       "1   PROPERTY TAX OR 'HOUSE TAX' IS A LOCAL TAX ON ...   \n",
       "2   PHANTOM PAIN SENSATIONS ARE DESCRIBED AS PERCE...   \n",
       "3   HARRY POTTER AND THE ESCAPE FROM GRINGOTTS IS ...   \n",
       "4   HYDROXYZINE PREPARATIONS REQUIRE A DOCTOR'S PR...   \n",
       "..                                                ...   \n",
       "80                                                  -   \n",
       "81                                                  -   \n",
       "82                                                  -   \n",
       "83                                                  -   \n",
       "84                                                  -   \n",
       "\n",
       "                                   perturbed_question  \n",
       "0    DOES ETHANOL TAKE MORE ENERGY MAKE THAT PRODUCES  \n",
       "1              IS HOUSE TAX AND PROPERTY TAX ARE SAME  \n",
       "2   IS PAIN EXPERIENCED IN A MISSING BODY PART OR ...  \n",
       "3   IS HARRY POTTER AND THE ESCAPE FROM GRINGOTTS ...  \n",
       "4   IS THERE A DIFFERENCE BETWEEN HYDROXYZINE HCL ...  \n",
       "..                                                ...  \n",
       "80          Hoo played grand moff tarkin in rogue one  \n",
       "81  youngest current member of the Hause of repres...  \n",
       "82  Houx wrote the miraculous journey of edward tu...  \n",
       "83  when did the night Mehr before christmas come out  \n",
       "84     when does the green book come out Inn theaters  \n",
       "\n",
       "[85 rows x 7 columns]"
      ]
     },
     "execution_count": 7,
     "metadata": {},
     "output_type": "execute_result"
    }
   ],
   "source": [
    "harness.testcases()"
   ]
  },
  {
   "cell_type": "markdown",
   "metadata": {
    "id": "akSniLOoDxOp"
   },
   "source": [
    "harness.generate() method automatically generates the test cases (based on the provided configuration)"
   ]
  },
  {
   "cell_type": "markdown",
   "metadata": {
    "id": "wk_cgK2BDzcM"
   },
   "source": [
    "### Running the tests"
   ]
  },
  {
   "cell_type": "code",
   "execution_count": 8,
   "metadata": {
    "colab": {
     "base_uri": "https://localhost:8080/"
    },
    "executionInfo": {
     "elapsed": 48720,
     "status": "ok",
     "timestamp": 1692371736914,
     "user": {
      "displayName": "Prikshit sharma",
      "userId": "07819241395213139913"
     },
     "user_tz": -330
    },
    "id": "nje7KWD9Dx3Y",
    "outputId": "5ac4304a-0078-49ad-84b0-c5b6c2f58155"
   },
   "outputs": [
    {
     "name": "stdout",
     "output_type": "stream",
     "text": [
      "================================================================================\n",
      "                                     BoolQ                                      \n",
      "================================================================================\n"
     ]
    },
    {
     "name": "stderr",
     "output_type": "stream",
     "text": [
      "Running testcases... : 100%|██████████| 48/48 [00:52<00:00,  1.10s/it]\n"
     ]
    },
    {
     "name": "stdout",
     "output_type": "stream",
     "text": [
      "--------------------------------------------------------------------------------\n",
      "\n",
      "================================================================================\n",
      "                                    NQ-open                                     \n",
      "================================================================================\n"
     ]
    },
    {
     "name": "stderr",
     "output_type": "stream",
     "text": [
      "Running testcases... : 100%|██████████| 37/37 [00:48<00:00,  1.31s/it]"
     ]
    },
    {
     "name": "stdout",
     "output_type": "stream",
     "text": [
      "--------------------------------------------------------------------------------\n",
      "\n"
     ]
    },
    {
     "name": "stderr",
     "output_type": "stream",
     "text": [
      "\n"
     ]
    },
    {
     "data": {
      "text/plain": []
     },
     "execution_count": 8,
     "metadata": {},
     "output_type": "execute_result"
    }
   ],
   "source": [
    "harness.run()"
   ]
  },
  {
   "cell_type": "markdown",
   "metadata": {
    "id": "7GnDWiU6D2S4"
   },
   "source": [
    "Called after harness.generate() and is to used to run all the tests.  Returns a pass/fail flag for each test."
   ]
  },
  {
   "cell_type": "markdown",
   "metadata": {
    "id": "q17wkdZcD4T8"
   },
   "source": [
    "### Generated Results"
   ]
  },
  {
   "cell_type": "code",
   "execution_count": 9,
   "metadata": {
    "colab": {
     "base_uri": "https://localhost:8080/",
     "height": 805
    },
    "executionInfo": {
     "elapsed": 18550,
     "status": "ok",
     "timestamp": 1692371755410,
     "user": {
      "displayName": "Prikshit sharma",
      "userId": "07819241395213139913"
     },
     "user_tz": -330
    },
    "id": "yJta_DvJD3xh",
    "outputId": "91be0a8f-f014-4e04-81bd-8eaa521c84c9"
   },
   "outputs": [
    {
     "data": {
      "text/html": [
       "<div>\n",
       "<style scoped>\n",
       "    .dataframe tbody tr th:only-of-type {\n",
       "        vertical-align: middle;\n",
       "    }\n",
       "\n",
       "    .dataframe tbody tr th {\n",
       "        vertical-align: top;\n",
       "    }\n",
       "\n",
       "    .dataframe thead th {\n",
       "        text-align: right;\n",
       "    }\n",
       "</style>\n",
       "<table border=\"1\" class=\"dataframe\">\n",
       "  <thead>\n",
       "    <tr style=\"text-align: right;\">\n",
       "      <th></th>\n",
       "      <th>category</th>\n",
       "      <th>dataset_name</th>\n",
       "      <th>test_type</th>\n",
       "      <th>original_context</th>\n",
       "      <th>original_question</th>\n",
       "      <th>perturbed_context</th>\n",
       "      <th>perturbed_question</th>\n",
       "      <th>expected_result</th>\n",
       "      <th>actual_result</th>\n",
       "      <th>pass</th>\n",
       "    </tr>\n",
       "  </thead>\n",
       "  <tbody>\n",
       "    <tr>\n",
       "      <th>0</th>\n",
       "      <td>robustness</td>\n",
       "      <td>BoolQ</td>\n",
       "      <td>uppercase</td>\n",
       "      <td>All biomass goes through at least some of thes...</td>\n",
       "      <td>does ethanol take more energy make that produces</td>\n",
       "      <td>ALL BIOMASS GOES THROUGH AT LEAST SOME OF THES...</td>\n",
       "      <td>DOES ETHANOL TAKE MORE ENERGY MAKE THAT PRODUCES</td>\n",
       "      <td>\\n\\n\\nTrue</td>\n",
       "      <td>TRUE</td>\n",
       "      <td>True</td>\n",
       "    </tr>\n",
       "    <tr>\n",
       "      <th>1</th>\n",
       "      <td>robustness</td>\n",
       "      <td>BoolQ</td>\n",
       "      <td>uppercase</td>\n",
       "      <td>Property tax or 'house tax' is a local tax on ...</td>\n",
       "      <td>is house tax and property tax are same</td>\n",
       "      <td>PROPERTY TAX OR 'HOUSE TAX' IS A LOCAL TAX ON ...</td>\n",
       "      <td>IS HOUSE TAX AND PROPERTY TAX ARE SAME</td>\n",
       "      <td>\\n\\nTrue</td>\n",
       "      <td>\\n\\nTrue</td>\n",
       "      <td>True</td>\n",
       "    </tr>\n",
       "    <tr>\n",
       "      <th>2</th>\n",
       "      <td>robustness</td>\n",
       "      <td>BoolQ</td>\n",
       "      <td>uppercase</td>\n",
       "      <td>Phantom pain sensations are described as perce...</td>\n",
       "      <td>is pain experienced in a missing body part or ...</td>\n",
       "      <td>PHANTOM PAIN SENSATIONS ARE DESCRIBED AS PERCE...</td>\n",
       "      <td>IS PAIN EXPERIENCED IN A MISSING BODY PART OR ...</td>\n",
       "      <td>?\\n\\n\\nTrue</td>\n",
       "      <td>\\nTrue</td>\n",
       "      <td>True</td>\n",
       "    </tr>\n",
       "    <tr>\n",
       "      <th>3</th>\n",
       "      <td>robustness</td>\n",
       "      <td>BoolQ</td>\n",
       "      <td>uppercase</td>\n",
       "      <td>Harry Potter and the Escape from Gringotts is ...</td>\n",
       "      <td>is harry potter and the escape from gringotts ...</td>\n",
       "      <td>HARRY POTTER AND THE ESCAPE FROM GRINGOTTS IS ...</td>\n",
       "      <td>IS HARRY POTTER AND THE ESCAPE FROM GRINGOTTS ...</td>\n",
       "      <td>\\n\\nTrue</td>\n",
       "      <td>?\\n\\nTrue</td>\n",
       "      <td>True</td>\n",
       "    </tr>\n",
       "    <tr>\n",
       "      <th>4</th>\n",
       "      <td>robustness</td>\n",
       "      <td>BoolQ</td>\n",
       "      <td>uppercase</td>\n",
       "      <td>Hydroxyzine preparations require a doctor's pr...</td>\n",
       "      <td>is there a difference between hydroxyzine hcl ...</td>\n",
       "      <td>HYDROXYZINE PREPARATIONS REQUIRE A DOCTOR'S PR...</td>\n",
       "      <td>IS THERE A DIFFERENCE BETWEEN HYDROXYZINE HCL ...</td>\n",
       "      <td>\\n\\nTrue</td>\n",
       "      <td>OATE\\n\\nTrue</td>\n",
       "      <td>False</td>\n",
       "    </tr>\n",
       "    <tr>\n",
       "      <th>...</th>\n",
       "      <td>...</td>\n",
       "      <td>...</td>\n",
       "      <td>...</td>\n",
       "      <td>...</td>\n",
       "      <td>...</td>\n",
       "      <td>...</td>\n",
       "      <td>...</td>\n",
       "      <td>...</td>\n",
       "      <td>...</td>\n",
       "      <td>...</td>\n",
       "    </tr>\n",
       "    <tr>\n",
       "      <th>80</th>\n",
       "      <td>robustness</td>\n",
       "      <td>NQ-open</td>\n",
       "      <td>add_speech_to_text_typo</td>\n",
       "      <td>-</td>\n",
       "      <td>who played grand moff tarkin in rogue one</td>\n",
       "      <td>-</td>\n",
       "      <td>Hoo played grand moff tarkin in rogue one</td>\n",
       "      <td>\\n\\nPeter Cushing</td>\n",
       "      <td>\\n\\nPeter Cushing played Grand Moff Tarkin in ...</td>\n",
       "      <td>True</td>\n",
       "    </tr>\n",
       "    <tr>\n",
       "      <th>81</th>\n",
       "      <td>robustness</td>\n",
       "      <td>NQ-open</td>\n",
       "      <td>add_speech_to_text_typo</td>\n",
       "      <td>-</td>\n",
       "      <td>youngest current member of the house of repres...</td>\n",
       "      <td>-</td>\n",
       "      <td>youngest current member of the Hause of repres...</td>\n",
       "      <td>\\n\\nAs of 2021, the youngest current member of...</td>\n",
       "      <td>\\n\\nAs of 2021, the youngest current member of...</td>\n",
       "      <td>True</td>\n",
       "    </tr>\n",
       "    <tr>\n",
       "      <th>82</th>\n",
       "      <td>robustness</td>\n",
       "      <td>NQ-open</td>\n",
       "      <td>add_speech_to_text_typo</td>\n",
       "      <td>-</td>\n",
       "      <td>who wrote the miraculous journey of edward tulane</td>\n",
       "      <td>-</td>\n",
       "      <td>Houx wrote the miraculous journey of edward tu...</td>\n",
       "      <td>\\n\\nThe Miraculous Journey of Edward Tulane wa...</td>\n",
       "      <td>\\n\\nWho wrote \"The Miraculous Journey of Edwar...</td>\n",
       "      <td>False</td>\n",
       "    </tr>\n",
       "    <tr>\n",
       "      <th>83</th>\n",
       "      <td>robustness</td>\n",
       "      <td>NQ-open</td>\n",
       "      <td>add_speech_to_text_typo</td>\n",
       "      <td>-</td>\n",
       "      <td>when did the night mare before christmas come out</td>\n",
       "      <td>-</td>\n",
       "      <td>when did the night Mehr before christmas come out</td>\n",
       "      <td>\\n\\nThe Nightmare Before Christmas was release...</td>\n",
       "      <td>\\n\\nThe Nightmare Before Christmas was release...</td>\n",
       "      <td>True</td>\n",
       "    </tr>\n",
       "    <tr>\n",
       "      <th>84</th>\n",
       "      <td>robustness</td>\n",
       "      <td>NQ-open</td>\n",
       "      <td>add_speech_to_text_typo</td>\n",
       "      <td>-</td>\n",
       "      <td>when does the green book come out in theaters</td>\n",
       "      <td>-</td>\n",
       "      <td>when does the green book come out Inn theaters</td>\n",
       "      <td>\\n\\nThe green book was released in theaters on...</td>\n",
       "      <td>\\n\\nThe release date for the green book in the...</td>\n",
       "      <td>False</td>\n",
       "    </tr>\n",
       "  </tbody>\n",
       "</table>\n",
       "<p>85 rows × 10 columns</p>\n",
       "</div>"
      ],
      "text/plain": [
       "      category dataset_name                test_type  \\\n",
       "0   robustness        BoolQ                uppercase   \n",
       "1   robustness        BoolQ                uppercase   \n",
       "2   robustness        BoolQ                uppercase   \n",
       "3   robustness        BoolQ                uppercase   \n",
       "4   robustness        BoolQ                uppercase   \n",
       "..         ...          ...                      ...   \n",
       "80  robustness      NQ-open  add_speech_to_text_typo   \n",
       "81  robustness      NQ-open  add_speech_to_text_typo   \n",
       "82  robustness      NQ-open  add_speech_to_text_typo   \n",
       "83  robustness      NQ-open  add_speech_to_text_typo   \n",
       "84  robustness      NQ-open  add_speech_to_text_typo   \n",
       "\n",
       "                                     original_context  \\\n",
       "0   All biomass goes through at least some of thes...   \n",
       "1   Property tax or 'house tax' is a local tax on ...   \n",
       "2   Phantom pain sensations are described as perce...   \n",
       "3   Harry Potter and the Escape from Gringotts is ...   \n",
       "4   Hydroxyzine preparations require a doctor's pr...   \n",
       "..                                                ...   \n",
       "80                                                  -   \n",
       "81                                                  -   \n",
       "82                                                  -   \n",
       "83                                                  -   \n",
       "84                                                  -   \n",
       "\n",
       "                                    original_question  \\\n",
       "0    does ethanol take more energy make that produces   \n",
       "1              is house tax and property tax are same   \n",
       "2   is pain experienced in a missing body part or ...   \n",
       "3   is harry potter and the escape from gringotts ...   \n",
       "4   is there a difference between hydroxyzine hcl ...   \n",
       "..                                                ...   \n",
       "80          who played grand moff tarkin in rogue one   \n",
       "81  youngest current member of the house of repres...   \n",
       "82  who wrote the miraculous journey of edward tulane   \n",
       "83  when did the night mare before christmas come out   \n",
       "84      when does the green book come out in theaters   \n",
       "\n",
       "                                    perturbed_context  \\\n",
       "0   ALL BIOMASS GOES THROUGH AT LEAST SOME OF THES...   \n",
       "1   PROPERTY TAX OR 'HOUSE TAX' IS A LOCAL TAX ON ...   \n",
       "2   PHANTOM PAIN SENSATIONS ARE DESCRIBED AS PERCE...   \n",
       "3   HARRY POTTER AND THE ESCAPE FROM GRINGOTTS IS ...   \n",
       "4   HYDROXYZINE PREPARATIONS REQUIRE A DOCTOR'S PR...   \n",
       "..                                                ...   \n",
       "80                                                  -   \n",
       "81                                                  -   \n",
       "82                                                  -   \n",
       "83                                                  -   \n",
       "84                                                  -   \n",
       "\n",
       "                                   perturbed_question  \\\n",
       "0    DOES ETHANOL TAKE MORE ENERGY MAKE THAT PRODUCES   \n",
       "1              IS HOUSE TAX AND PROPERTY TAX ARE SAME   \n",
       "2   IS PAIN EXPERIENCED IN A MISSING BODY PART OR ...   \n",
       "3   IS HARRY POTTER AND THE ESCAPE FROM GRINGOTTS ...   \n",
       "4   IS THERE A DIFFERENCE BETWEEN HYDROXYZINE HCL ...   \n",
       "..                                                ...   \n",
       "80          Hoo played grand moff tarkin in rogue one   \n",
       "81  youngest current member of the Hause of repres...   \n",
       "82  Houx wrote the miraculous journey of edward tu...   \n",
       "83  when did the night Mehr before christmas come out   \n",
       "84     when does the green book come out Inn theaters   \n",
       "\n",
       "                                      expected_result  \\\n",
       "0                                          \\n\\n\\nTrue   \n",
       "1                                            \\n\\nTrue   \n",
       "2                                         ?\\n\\n\\nTrue   \n",
       "3                                            \\n\\nTrue   \n",
       "4                                            \\n\\nTrue   \n",
       "..                                                ...   \n",
       "80                                  \\n\\nPeter Cushing   \n",
       "81  \\n\\nAs of 2021, the youngest current member of...   \n",
       "82  \\n\\nThe Miraculous Journey of Edward Tulane wa...   \n",
       "83  \\n\\nThe Nightmare Before Christmas was release...   \n",
       "84  \\n\\nThe green book was released in theaters on...   \n",
       "\n",
       "                                        actual_result   pass  \n",
       "0                                                TRUE   True  \n",
       "1                                            \\n\\nTrue   True  \n",
       "2                                              \\nTrue   True  \n",
       "3                                           ?\\n\\nTrue   True  \n",
       "4                                        OATE\\n\\nTrue  False  \n",
       "..                                                ...    ...  \n",
       "80  \\n\\nPeter Cushing played Grand Moff Tarkin in ...   True  \n",
       "81  \\n\\nAs of 2021, the youngest current member of...   True  \n",
       "82  \\n\\nWho wrote \"The Miraculous Journey of Edwar...  False  \n",
       "83  \\n\\nThe Nightmare Before Christmas was release...   True  \n",
       "84  \\n\\nThe release date for the green book in the...  False  \n",
       "\n",
       "[85 rows x 10 columns]"
      ]
     },
     "execution_count": 9,
     "metadata": {},
     "output_type": "execute_result"
    }
   ],
   "source": [
    "harness.generated_results()"
   ]
  },
  {
   "cell_type": "markdown",
   "metadata": {
    "id": "Vtv8wGFyD-XR"
   },
   "source": [
    "This method returns the generated results in the form of a pandas dataframe, which provides a convenient and easy-to-use format for working with the test results. You can use this method to quickly identify the test cases that failed and to determine where fixes are needed."
   ]
  },
  {
   "cell_type": "markdown",
   "metadata": {
    "id": "agT9GO6FEC3E"
   },
   "source": [
    "### Final Results\n",
    "\n",
    "We can call `.report()` which summarizes the results giving information about pass and fail counts and overall test pass/fail flag."
   ]
  },
  {
   "cell_type": "code",
   "execution_count": 10,
   "metadata": {
    "colab": {
     "base_uri": "https://localhost:8080/",
     "height": 206
    },
    "executionInfo": {
     "elapsed": 19430,
     "status": "ok",
     "timestamp": 1692371774826,
     "user": {
      "displayName": "Prikshit sharma",
      "userId": "07819241395213139913"
     },
     "user_tz": -330
    },
    "id": "qjFtUmbtEA2G",
    "outputId": "62d274a2-8688-491a-f04e-101ebe5a6450"
   },
   "outputs": [
    {
     "data": {
      "text/html": [
       "<div>\n",
       "<style scoped>\n",
       "    .dataframe tbody tr th:only-of-type {\n",
       "        vertical-align: middle;\n",
       "    }\n",
       "\n",
       "    .dataframe tbody tr th {\n",
       "        vertical-align: top;\n",
       "    }\n",
       "\n",
       "    .dataframe thead tr th {\n",
       "        text-align: left;\n",
       "    }\n",
       "\n",
       "    .dataframe thead tr:last-of-type th {\n",
       "        text-align: right;\n",
       "    }\n",
       "</style>\n",
       "<table border=\"1\" class=\"dataframe\">\n",
       "  <thead>\n",
       "    <tr>\n",
       "      <th></th>\n",
       "      <th></th>\n",
       "      <th></th>\n",
       "      <th colspan=\"5\" halign=\"left\">Benchmarking Results: gpt-3.5-turbo-instruct</th>\n",
       "    </tr>\n",
       "    <tr>\n",
       "      <th></th>\n",
       "      <th></th>\n",
       "      <th></th>\n",
       "      <th>fail_count</th>\n",
       "      <th>pass_count</th>\n",
       "      <th>pass_rate</th>\n",
       "      <th>minimum_pass_rate</th>\n",
       "      <th>pass</th>\n",
       "    </tr>\n",
       "    <tr>\n",
       "      <th>dataset_name</th>\n",
       "      <th>category</th>\n",
       "      <th>test_type</th>\n",
       "      <th></th>\n",
       "      <th></th>\n",
       "      <th></th>\n",
       "      <th></th>\n",
       "      <th></th>\n",
       "    </tr>\n",
       "  </thead>\n",
       "  <tbody>\n",
       "    <tr>\n",
       "      <th rowspan=\"5\" valign=\"top\">BoolQ</th>\n",
       "      <th rowspan=\"5\" valign=\"top\">robustness</th>\n",
       "      <th>uppercase</th>\n",
       "      <td>2</td>\n",
       "      <td>8</td>\n",
       "      <td>80%</td>\n",
       "      <td>66%</td>\n",
       "      <td>True</td>\n",
       "    </tr>\n",
       "    <tr>\n",
       "      <th>dyslexia_word_swap</th>\n",
       "      <td>2</td>\n",
       "      <td>8</td>\n",
       "      <td>80%</td>\n",
       "      <td>60%</td>\n",
       "      <td>True</td>\n",
       "    </tr>\n",
       "    <tr>\n",
       "      <th>add_abbreviation</th>\n",
       "      <td>1</td>\n",
       "      <td>9</td>\n",
       "      <td>90%</td>\n",
       "      <td>60%</td>\n",
       "      <td>True</td>\n",
       "    </tr>\n",
       "    <tr>\n",
       "      <th>add_slangs</th>\n",
       "      <td>4</td>\n",
       "      <td>4</td>\n",
       "      <td>50%</td>\n",
       "      <td>60%</td>\n",
       "      <td>False</td>\n",
       "    </tr>\n",
       "    <tr>\n",
       "      <th>add_speech_to_text_typo</th>\n",
       "      <td>3</td>\n",
       "      <td>7</td>\n",
       "      <td>70%</td>\n",
       "      <td>60%</td>\n",
       "      <td>True</td>\n",
       "    </tr>\n",
       "    <tr>\n",
       "      <th rowspan=\"5\" valign=\"top\">NQ-open</th>\n",
       "      <th rowspan=\"5\" valign=\"top\">robustness</th>\n",
       "      <th>uppercase</th>\n",
       "      <td>3</td>\n",
       "      <td>7</td>\n",
       "      <td>70%</td>\n",
       "      <td>66%</td>\n",
       "      <td>True</td>\n",
       "    </tr>\n",
       "    <tr>\n",
       "      <th>dyslexia_word_swap</th>\n",
       "      <td>2</td>\n",
       "      <td>5</td>\n",
       "      <td>71%</td>\n",
       "      <td>60%</td>\n",
       "      <td>True</td>\n",
       "    </tr>\n",
       "    <tr>\n",
       "      <th>add_abbreviation</th>\n",
       "      <td>5</td>\n",
       "      <td>4</td>\n",
       "      <td>44%</td>\n",
       "      <td>60%</td>\n",
       "      <td>False</td>\n",
       "    </tr>\n",
       "    <tr>\n",
       "      <th>add_slangs</th>\n",
       "      <td>1</td>\n",
       "      <td>1</td>\n",
       "      <td>50%</td>\n",
       "      <td>60%</td>\n",
       "      <td>False</td>\n",
       "    </tr>\n",
       "    <tr>\n",
       "      <th>add_speech_to_text_typo</th>\n",
       "      <td>5</td>\n",
       "      <td>4</td>\n",
       "      <td>44%</td>\n",
       "      <td>60%</td>\n",
       "      <td>False</td>\n",
       "    </tr>\n",
       "  </tbody>\n",
       "</table>\n",
       "</div>"
      ],
      "text/plain": [
       "                                                Benchmarking Results: gpt-3.5-turbo-instruct  \\\n",
       "                                                                                  fail_count   \n",
       "dataset_name category   test_type                                                              \n",
       "BoolQ        robustness uppercase                                                          2   \n",
       "                        dyslexia_word_swap                                                 2   \n",
       "                        add_abbreviation                                                   1   \n",
       "                        add_slangs                                                         4   \n",
       "                        add_speech_to_text_typo                                            3   \n",
       "NQ-open      robustness uppercase                                                          3   \n",
       "                        dyslexia_word_swap                                                 2   \n",
       "                        add_abbreviation                                                   5   \n",
       "                        add_slangs                                                         1   \n",
       "                        add_speech_to_text_typo                                            5   \n",
       "\n",
       "                                                                      \\\n",
       "                                                pass_count pass_rate   \n",
       "dataset_name category   test_type                                      \n",
       "BoolQ        robustness uppercase                        8       80%   \n",
       "                        dyslexia_word_swap               8       80%   \n",
       "                        add_abbreviation                 9       90%   \n",
       "                        add_slangs                       4       50%   \n",
       "                        add_speech_to_text_typo          7       70%   \n",
       "NQ-open      robustness uppercase                        7       70%   \n",
       "                        dyslexia_word_swap               5       71%   \n",
       "                        add_abbreviation                 4       44%   \n",
       "                        add_slangs                       1       50%   \n",
       "                        add_speech_to_text_typo          4       44%   \n",
       "\n",
       "                                                                          \n",
       "                                                minimum_pass_rate   pass  \n",
       "dataset_name category   test_type                                         \n",
       "BoolQ        robustness uppercase                             66%   True  \n",
       "                        dyslexia_word_swap                    60%   True  \n",
       "                        add_abbreviation                      60%   True  \n",
       "                        add_slangs                            60%  False  \n",
       "                        add_speech_to_text_typo               60%   True  \n",
       "NQ-open      robustness uppercase                             66%   True  \n",
       "                        dyslexia_word_swap                    60%   True  \n",
       "                        add_abbreviation                      60%  False  \n",
       "                        add_slangs                            60%  False  \n",
       "                        add_speech_to_text_typo               60%  False  "
      ]
     },
     "execution_count": 10,
     "metadata": {},
     "output_type": "execute_result"
    }
   ],
   "source": [
    "harness.report()"
   ]
  }
 ],
 "metadata": {
  "colab": {
   "provenance": [],
   "toc_visible": true
  },
  "kernelspec": {
   "display_name": "Python 3",
   "name": "python3"
  },
  "language_info": {
   "codemirror_mode": {
    "name": "ipython",
    "version": 3
   },
   "file_extension": ".py",
   "mimetype": "text/x-python",
   "name": "python",
   "nbconvert_exporter": "python",
   "pygments_lexer": "ipython3",
   "version": "3.8.10"
  },
  "widgets": {
   "application/vnd.jupyter.widget-state+json": {
    "15398d3874e94df1ac6522838e13ad0c": {
     "model_module": "@jupyter-widgets/controls",
     "model_module_version": "1.5.0",
     "model_name": "HTMLModel",
     "state": {
      "_dom_classes": [],
      "_model_module": "@jupyter-widgets/controls",
      "_model_module_version": "1.5.0",
      "_model_name": "HTMLModel",
      "_view_count": null,
      "_view_module": "@jupyter-widgets/controls",
      "_view_module_version": "1.5.0",
      "_view_name": "HTMLView",
      "description": "",
      "description_tooltip": null,
      "layout": "IPY_MODEL_2d921b11f11d4c53a321f7655680694f",
      "placeholder": "​",
      "style": "IPY_MODEL_e40d524a1c5942c0afb8ce31aedf3887",
      "value": " 5.67k/5.67k [00:00&lt;00:00, 389kB/s]"
     }
    },
    "2879b073fcb04b98b719cb4588014355": {
     "model_module": "@jupyter-widgets/base",
     "model_module_version": "1.2.0",
     "model_name": "LayoutModel",
     "state": {
      "_model_module": "@jupyter-widgets/base",
      "_model_module_version": "1.2.0",
      "_model_name": "LayoutModel",
      "_view_count": null,
      "_view_module": "@jupyter-widgets/base",
      "_view_module_version": "1.2.0",
      "_view_name": "LayoutView",
      "align_content": null,
      "align_items": null,
      "align_self": null,
      "border": null,
      "bottom": null,
      "display": null,
      "flex": null,
      "flex_flow": null,
      "grid_area": null,
      "grid_auto_columns": null,
      "grid_auto_flow": null,
      "grid_auto_rows": null,
      "grid_column": null,
      "grid_gap": null,
      "grid_row": null,
      "grid_template_areas": null,
      "grid_template_columns": null,
      "grid_template_rows": null,
      "height": null,
      "justify_content": null,
      "justify_items": null,
      "left": null,
      "margin": null,
      "max_height": null,
      "max_width": null,
      "min_height": null,
      "min_width": null,
      "object_fit": null,
      "object_position": null,
      "order": null,
      "overflow": null,
      "overflow_x": null,
      "overflow_y": null,
      "padding": null,
      "right": null,
      "top": null,
      "visibility": null,
      "width": null
     }
    },
    "296965fa35704282a286cc46b9916317": {
     "model_module": "@jupyter-widgets/controls",
     "model_module_version": "1.5.0",
     "model_name": "ProgressStyleModel",
     "state": {
      "_model_module": "@jupyter-widgets/controls",
      "_model_module_version": "1.5.0",
      "_model_name": "ProgressStyleModel",
      "_view_count": null,
      "_view_module": "@jupyter-widgets/base",
      "_view_module_version": "1.2.0",
      "_view_name": "StyleView",
      "bar_color": null,
      "description_width": ""
     }
    },
    "2d921b11f11d4c53a321f7655680694f": {
     "model_module": "@jupyter-widgets/base",
     "model_module_version": "1.2.0",
     "model_name": "LayoutModel",
     "state": {
      "_model_module": "@jupyter-widgets/base",
      "_model_module_version": "1.2.0",
      "_model_name": "LayoutModel",
      "_view_count": null,
      "_view_module": "@jupyter-widgets/base",
      "_view_module_version": "1.2.0",
      "_view_name": "LayoutView",
      "align_content": null,
      "align_items": null,
      "align_self": null,
      "border": null,
      "bottom": null,
      "display": null,
      "flex": null,
      "flex_flow": null,
      "grid_area": null,
      "grid_auto_columns": null,
      "grid_auto_flow": null,
      "grid_auto_rows": null,
      "grid_column": null,
      "grid_gap": null,
      "grid_row": null,
      "grid_template_areas": null,
      "grid_template_columns": null,
      "grid_template_rows": null,
      "height": null,
      "justify_content": null,
      "justify_items": null,
      "left": null,
      "margin": null,
      "max_height": null,
      "max_width": null,
      "min_height": null,
      "min_width": null,
      "object_fit": null,
      "object_position": null,
      "order": null,
      "overflow": null,
      "overflow_x": null,
      "overflow_y": null,
      "padding": null,
      "right": null,
      "top": null,
      "visibility": null,
      "width": null
     }
    },
    "31d80c12050640099352549928bb2478": {
     "model_module": "@jupyter-widgets/base",
     "model_module_version": "1.2.0",
     "model_name": "LayoutModel",
     "state": {
      "_model_module": "@jupyter-widgets/base",
      "_model_module_version": "1.2.0",
      "_model_name": "LayoutModel",
      "_view_count": null,
      "_view_module": "@jupyter-widgets/base",
      "_view_module_version": "1.2.0",
      "_view_name": "LayoutView",
      "align_content": null,
      "align_items": null,
      "align_self": null,
      "border": null,
      "bottom": null,
      "display": null,
      "flex": null,
      "flex_flow": null,
      "grid_area": null,
      "grid_auto_columns": null,
      "grid_auto_flow": null,
      "grid_auto_rows": null,
      "grid_column": null,
      "grid_gap": null,
      "grid_row": null,
      "grid_template_areas": null,
      "grid_template_columns": null,
      "grid_template_rows": null,
      "height": null,
      "justify_content": null,
      "justify_items": null,
      "left": null,
      "margin": null,
      "max_height": null,
      "max_width": null,
      "min_height": null,
      "min_width": null,
      "object_fit": null,
      "object_position": null,
      "order": null,
      "overflow": null,
      "overflow_x": null,
      "overflow_y": null,
      "padding": null,
      "right": null,
      "top": null,
      "visibility": null,
      "width": null
     }
    },
    "4508773a55994e9cb874e6378ebe8c9b": {
     "model_module": "@jupyter-widgets/base",
     "model_module_version": "1.2.0",
     "model_name": "LayoutModel",
     "state": {
      "_model_module": "@jupyter-widgets/base",
      "_model_module_version": "1.2.0",
      "_model_name": "LayoutModel",
      "_view_count": null,
      "_view_module": "@jupyter-widgets/base",
      "_view_module_version": "1.2.0",
      "_view_name": "LayoutView",
      "align_content": null,
      "align_items": null,
      "align_self": null,
      "border": null,
      "bottom": null,
      "display": null,
      "flex": null,
      "flex_flow": null,
      "grid_area": null,
      "grid_auto_columns": null,
      "grid_auto_flow": null,
      "grid_auto_rows": null,
      "grid_column": null,
      "grid_gap": null,
      "grid_row": null,
      "grid_template_areas": null,
      "grid_template_columns": null,
      "grid_template_rows": null,
      "height": null,
      "justify_content": null,
      "justify_items": null,
      "left": null,
      "margin": null,
      "max_height": null,
      "max_width": null,
      "min_height": null,
      "min_width": null,
      "object_fit": null,
      "object_position": null,
      "order": null,
      "overflow": null,
      "overflow_x": null,
      "overflow_y": null,
      "padding": null,
      "right": null,
      "top": null,
      "visibility": null,
      "width": null
     }
    },
    "4b1f6e8e37a24eaaa2df3f6e7a055bc2": {
     "model_module": "@jupyter-widgets/controls",
     "model_module_version": "1.5.0",
     "model_name": "HTMLModel",
     "state": {
      "_dom_classes": [],
      "_model_module": "@jupyter-widgets/controls",
      "_model_module_version": "1.5.0",
      "_model_name": "HTMLModel",
      "_view_count": null,
      "_view_module": "@jupyter-widgets/controls",
      "_view_module_version": "1.5.0",
      "_view_name": "HTMLView",
      "description": "",
      "description_tooltip": null,
      "layout": "IPY_MODEL_4508773a55994e9cb874e6378ebe8c9b",
      "placeholder": "​",
      "style": "IPY_MODEL_4b9eb7da58a94a609e8366810223dc5d",
      "value": "Downloading builder script: 100%"
     }
    },
    "4b9eb7da58a94a609e8366810223dc5d": {
     "model_module": "@jupyter-widgets/controls",
     "model_module_version": "1.5.0",
     "model_name": "DescriptionStyleModel",
     "state": {
      "_model_module": "@jupyter-widgets/controls",
      "_model_module_version": "1.5.0",
      "_model_name": "DescriptionStyleModel",
      "_view_count": null,
      "_view_module": "@jupyter-widgets/base",
      "_view_module_version": "1.2.0",
      "_view_name": "StyleView",
      "description_width": ""
     }
    },
    "4f4803210b5b4fcab023adad5b0dc68a": {
     "model_module": "@jupyter-widgets/base",
     "model_module_version": "1.2.0",
     "model_name": "LayoutModel",
     "state": {
      "_model_module": "@jupyter-widgets/base",
      "_model_module_version": "1.2.0",
      "_model_name": "LayoutModel",
      "_view_count": null,
      "_view_module": "@jupyter-widgets/base",
      "_view_module_version": "1.2.0",
      "_view_name": "LayoutView",
      "align_content": null,
      "align_items": null,
      "align_self": null,
      "border": null,
      "bottom": null,
      "display": null,
      "flex": null,
      "flex_flow": null,
      "grid_area": null,
      "grid_auto_columns": null,
      "grid_auto_flow": null,
      "grid_auto_rows": null,
      "grid_column": null,
      "grid_gap": null,
      "grid_row": null,
      "grid_template_areas": null,
      "grid_template_columns": null,
      "grid_template_rows": null,
      "height": null,
      "justify_content": null,
      "justify_items": null,
      "left": null,
      "margin": null,
      "max_height": null,
      "max_width": null,
      "min_height": null,
      "min_width": null,
      "object_fit": null,
      "object_position": null,
      "order": null,
      "overflow": null,
      "overflow_x": null,
      "overflow_y": null,
      "padding": null,
      "right": null,
      "top": null,
      "visibility": null,
      "width": null
     }
    },
    "7094f04d678e4a15869b56aea23b0061": {
     "model_module": "@jupyter-widgets/controls",
     "model_module_version": "1.5.0",
     "model_name": "DescriptionStyleModel",
     "state": {
      "_model_module": "@jupyter-widgets/controls",
      "_model_module_version": "1.5.0",
      "_model_name": "DescriptionStyleModel",
      "_view_count": null,
      "_view_module": "@jupyter-widgets/base",
      "_view_module_version": "1.2.0",
      "_view_name": "StyleView",
      "description_width": ""
     }
    },
    "7f39ae657f9d4931852e4445daa9d6c0": {
     "model_module": "@jupyter-widgets/controls",
     "model_module_version": "1.5.0",
     "model_name": "ProgressStyleModel",
     "state": {
      "_model_module": "@jupyter-widgets/controls",
      "_model_module_version": "1.5.0",
      "_model_name": "ProgressStyleModel",
      "_view_count": null,
      "_view_module": "@jupyter-widgets/base",
      "_view_module_version": "1.2.0",
      "_view_name": "StyleView",
      "bar_color": null,
      "description_width": ""
     }
    },
    "7fcadcf013864862b7315bd3f8ea7b6c": {
     "model_module": "@jupyter-widgets/controls",
     "model_module_version": "1.5.0",
     "model_name": "HBoxModel",
     "state": {
      "_dom_classes": [],
      "_model_module": "@jupyter-widgets/controls",
      "_model_module_version": "1.5.0",
      "_model_name": "HBoxModel",
      "_view_count": null,
      "_view_module": "@jupyter-widgets/controls",
      "_view_module_version": "1.5.0",
      "_view_name": "HBoxView",
      "box_style": "",
      "children": [
       "IPY_MODEL_a87dd94e12614c569730fd85cd9441af",
       "IPY_MODEL_e3d98ad2bb7f411db994c4ecb0919633",
       "IPY_MODEL_15398d3874e94df1ac6522838e13ad0c"
      ],
      "layout": "IPY_MODEL_4f4803210b5b4fcab023adad5b0dc68a"
     }
    },
    "84ea5fe79f7c43279f5f82f9020608ce": {
     "model_module": "@jupyter-widgets/base",
     "model_module_version": "1.2.0",
     "model_name": "LayoutModel",
     "state": {
      "_model_module": "@jupyter-widgets/base",
      "_model_module_version": "1.2.0",
      "_model_name": "LayoutModel",
      "_view_count": null,
      "_view_module": "@jupyter-widgets/base",
      "_view_module_version": "1.2.0",
      "_view_name": "LayoutView",
      "align_content": null,
      "align_items": null,
      "align_self": null,
      "border": null,
      "bottom": null,
      "display": null,
      "flex": null,
      "flex_flow": null,
      "grid_area": null,
      "grid_auto_columns": null,
      "grid_auto_flow": null,
      "grid_auto_rows": null,
      "grid_column": null,
      "grid_gap": null,
      "grid_row": null,
      "grid_template_areas": null,
      "grid_template_columns": null,
      "grid_template_rows": null,
      "height": null,
      "justify_content": null,
      "justify_items": null,
      "left": null,
      "margin": null,
      "max_height": null,
      "max_width": null,
      "min_height": null,
      "min_width": null,
      "object_fit": null,
      "object_position": null,
      "order": null,
      "overflow": null,
      "overflow_x": null,
      "overflow_y": null,
      "padding": null,
      "right": null,
      "top": null,
      "visibility": null,
      "width": null
     }
    },
    "a48d6d06d40241d9af78b489116357df": {
     "model_module": "@jupyter-widgets/base",
     "model_module_version": "1.2.0",
     "model_name": "LayoutModel",
     "state": {
      "_model_module": "@jupyter-widgets/base",
      "_model_module_version": "1.2.0",
      "_model_name": "LayoutModel",
      "_view_count": null,
      "_view_module": "@jupyter-widgets/base",
      "_view_module_version": "1.2.0",
      "_view_name": "LayoutView",
      "align_content": null,
      "align_items": null,
      "align_self": null,
      "border": null,
      "bottom": null,
      "display": null,
      "flex": null,
      "flex_flow": null,
      "grid_area": null,
      "grid_auto_columns": null,
      "grid_auto_flow": null,
      "grid_auto_rows": null,
      "grid_column": null,
      "grid_gap": null,
      "grid_row": null,
      "grid_template_areas": null,
      "grid_template_columns": null,
      "grid_template_rows": null,
      "height": null,
      "justify_content": null,
      "justify_items": null,
      "left": null,
      "margin": null,
      "max_height": null,
      "max_width": null,
      "min_height": null,
      "min_width": null,
      "object_fit": null,
      "object_position": null,
      "order": null,
      "overflow": null,
      "overflow_x": null,
      "overflow_y": null,
      "padding": null,
      "right": null,
      "top": null,
      "visibility": null,
      "width": null
     }
    },
    "a6be4f84c9204246be7d663548930fa3": {
     "model_module": "@jupyter-widgets/base",
     "model_module_version": "1.2.0",
     "model_name": "LayoutModel",
     "state": {
      "_model_module": "@jupyter-widgets/base",
      "_model_module_version": "1.2.0",
      "_model_name": "LayoutModel",
      "_view_count": null,
      "_view_module": "@jupyter-widgets/base",
      "_view_module_version": "1.2.0",
      "_view_name": "LayoutView",
      "align_content": null,
      "align_items": null,
      "align_self": null,
      "border": null,
      "bottom": null,
      "display": null,
      "flex": null,
      "flex_flow": null,
      "grid_area": null,
      "grid_auto_columns": null,
      "grid_auto_flow": null,
      "grid_auto_rows": null,
      "grid_column": null,
      "grid_gap": null,
      "grid_row": null,
      "grid_template_areas": null,
      "grid_template_columns": null,
      "grid_template_rows": null,
      "height": null,
      "justify_content": null,
      "justify_items": null,
      "left": null,
      "margin": null,
      "max_height": null,
      "max_width": null,
      "min_height": null,
      "min_width": null,
      "object_fit": null,
      "object_position": null,
      "order": null,
      "overflow": null,
      "overflow_x": null,
      "overflow_y": null,
      "padding": null,
      "right": null,
      "top": null,
      "visibility": null,
      "width": null
     }
    },
    "a87dd94e12614c569730fd85cd9441af": {
     "model_module": "@jupyter-widgets/controls",
     "model_module_version": "1.5.0",
     "model_name": "HTMLModel",
     "state": {
      "_dom_classes": [],
      "_model_module": "@jupyter-widgets/controls",
      "_model_module_version": "1.5.0",
      "_model_name": "HTMLModel",
      "_view_count": null,
      "_view_module": "@jupyter-widgets/controls",
      "_view_module_version": "1.5.0",
      "_view_name": "HTMLView",
      "description": "",
      "description_tooltip": null,
      "layout": "IPY_MODEL_84ea5fe79f7c43279f5f82f9020608ce",
      "placeholder": "​",
      "style": "IPY_MODEL_7094f04d678e4a15869b56aea23b0061",
      "value": "Downloading builder script: 100%"
     }
    },
    "ac3e4699290f49ea9594d8c3e6f8f524": {
     "model_module": "@jupyter-widgets/controls",
     "model_module_version": "1.5.0",
     "model_name": "DescriptionStyleModel",
     "state": {
      "_model_module": "@jupyter-widgets/controls",
      "_model_module_version": "1.5.0",
      "_model_name": "DescriptionStyleModel",
      "_view_count": null,
      "_view_module": "@jupyter-widgets/base",
      "_view_module_version": "1.2.0",
      "_view_name": "StyleView",
      "description_width": ""
     }
    },
    "e3d98ad2bb7f411db994c4ecb0919633": {
     "model_module": "@jupyter-widgets/controls",
     "model_module_version": "1.5.0",
     "model_name": "FloatProgressModel",
     "state": {
      "_dom_classes": [],
      "_model_module": "@jupyter-widgets/controls",
      "_model_module_version": "1.5.0",
      "_model_name": "FloatProgressModel",
      "_view_count": null,
      "_view_module": "@jupyter-widgets/controls",
      "_view_module_version": "1.5.0",
      "_view_name": "ProgressView",
      "bar_style": "success",
      "description": "",
      "description_tooltip": null,
      "layout": "IPY_MODEL_a6be4f84c9204246be7d663548930fa3",
      "max": 5669,
      "min": 0,
      "orientation": "horizontal",
      "style": "IPY_MODEL_296965fa35704282a286cc46b9916317",
      "value": 5669
     }
    },
    "e40d524a1c5942c0afb8ce31aedf3887": {
     "model_module": "@jupyter-widgets/controls",
     "model_module_version": "1.5.0",
     "model_name": "DescriptionStyleModel",
     "state": {
      "_model_module": "@jupyter-widgets/controls",
      "_model_module_version": "1.5.0",
      "_model_name": "DescriptionStyleModel",
      "_view_count": null,
      "_view_module": "@jupyter-widgets/base",
      "_view_module_version": "1.2.0",
      "_view_name": "StyleView",
      "description_width": ""
     }
    },
    "ed7b311df5554bc0833a04c9aeb33461": {
     "model_module": "@jupyter-widgets/controls",
     "model_module_version": "1.5.0",
     "model_name": "FloatProgressModel",
     "state": {
      "_dom_classes": [],
      "_model_module": "@jupyter-widgets/controls",
      "_model_module_version": "1.5.0",
      "_model_name": "FloatProgressModel",
      "_view_count": null,
      "_view_module": "@jupyter-widgets/controls",
      "_view_module_version": "1.5.0",
      "_view_name": "ProgressView",
      "bar_style": "success",
      "description": "",
      "description_tooltip": null,
      "layout": "IPY_MODEL_31d80c12050640099352549928bb2478",
      "max": 6270,
      "min": 0,
      "orientation": "horizontal",
      "style": "IPY_MODEL_7f39ae657f9d4931852e4445daa9d6c0",
      "value": 6270
     }
    },
    "f42ac25dbfa242b899104710097e26c5": {
     "model_module": "@jupyter-widgets/controls",
     "model_module_version": "1.5.0",
     "model_name": "HBoxModel",
     "state": {
      "_dom_classes": [],
      "_model_module": "@jupyter-widgets/controls",
      "_model_module_version": "1.5.0",
      "_model_name": "HBoxModel",
      "_view_count": null,
      "_view_module": "@jupyter-widgets/controls",
      "_view_module_version": "1.5.0",
      "_view_name": "HBoxView",
      "box_style": "",
      "children": [
       "IPY_MODEL_4b1f6e8e37a24eaaa2df3f6e7a055bc2",
       "IPY_MODEL_ed7b311df5554bc0833a04c9aeb33461",
       "IPY_MODEL_f68d471fc390442cab9be0680cc72648"
      ],
      "layout": "IPY_MODEL_a48d6d06d40241d9af78b489116357df"
     }
    },
    "f68d471fc390442cab9be0680cc72648": {
     "model_module": "@jupyter-widgets/controls",
     "model_module_version": "1.5.0",
     "model_name": "HTMLModel",
     "state": {
      "_dom_classes": [],
      "_model_module": "@jupyter-widgets/controls",
      "_model_module_version": "1.5.0",
      "_model_name": "HTMLModel",
      "_view_count": null,
      "_view_module": "@jupyter-widgets/controls",
      "_view_module_version": "1.5.0",
      "_view_name": "HTMLView",
      "description": "",
      "description_tooltip": null,
      "layout": "IPY_MODEL_2879b073fcb04b98b719cb4588014355",
      "placeholder": "​",
      "style": "IPY_MODEL_ac3e4699290f49ea9594d8c3e6f8f524",
      "value": " 6.27k/6.27k [00:00&lt;00:00, 270kB/s]"
     }
    }
   }
  }
 },
 "nbformat": 4,
 "nbformat_minor": 0
}
