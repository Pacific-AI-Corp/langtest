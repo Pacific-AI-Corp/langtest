{
 "cells": [
  {
   "cell_type": "markdown",
   "metadata": {
    "id": "cQcN1kDfAw60"
   },
   "source": [
    "![logog](https://raw.githubusercontent.com/Pacific-AI-Corp/langtest/main/docs/assets/images/logo.png)"
   ]
  },
  {
   "cell_type": "markdown",
   "metadata": {
    "id": "Fu8i_qgCBplG"
   },
   "source": [
    "[![Open In Colab](https://colab.research.google.com/assets/colab-badge.svg)](https://colab.research.google.com/github/Pacific-AI-Corp/langtest/blob/main/demo/tutorials/misc/Multiple_dataset.ipynb)"
   ]
  },
  {
   "cell_type": "markdown",
   "metadata": {
    "id": "IKKgqEEKA3qv"
   },
   "source": [
    "**LangTest** is an open-source python library designed to help developers deliver safe and effective Natural Language Processing (NLP) models. Whether you are using **John Snow Labs, Hugging Face, Spacy** models or **OpenAI, Cohere, AI21, Hugging Face Inference API and Azure-OpenAI** based LLMs, it has got you covered. You can test any Named Entity Recognition (NER), Text Classification, fill-mask, Translation model using the library. We also support testing LLMS for Question-Answering, Summarization and text-generation tasks on benchmark datasets. The library supports 60+ out of the box tests. For a complete list of supported test categories, please refer to the [documentation](http://langtest.org/docs/pages/docs/test_categories).\n",
    "\n",
    "Metrics are calculated by comparing the model's extractions in the original list of sentences against the extractions carried out in the noisy list of sentences. The original annotated labels are not used at any point, we are simply comparing the model against itself in a 2 settings."
   ]
  },
  {
   "cell_type": "markdown",
   "metadata": {
    "id": "JzKpAy4mA5jA"
   },
   "source": [
    "# Getting started with LangTest"
   ]
  },
  {
   "cell_type": "code",
   "execution_count": null,
   "metadata": {
    "id": "jFus50TcGgJA"
   },
   "outputs": [],
   "source": [
    "!pip install \"langtest[openai,transformers,evaluate]\""
   ]
  },
  {
   "cell_type": "markdown",
   "metadata": {
    "id": "bjK9t-uFBEPw"
   },
   "source": [
    "# Harness and Its Parameters\n",
    "\n",
    "The Harness class is a testing class for Natural Language Processing (NLP) models. It evaluates the performance of a NLP model on a given task using test data and generates a report with test results.Harness can be imported from the LangTest library in the following way."
   ]
  },
  {
   "cell_type": "code",
   "execution_count": 1,
   "metadata": {
    "executionInfo": {
     "elapsed": 3080,
     "status": "ok",
     "timestamp": 1696324827009,
     "user": {
      "displayName": "Prikshit sharma",
      "userId": "07819241395213139913"
     },
     "user_tz": -330
    },
    "id": "9Z2vV7zLBJWz"
   },
   "outputs": [],
   "source": [
    "# Import Harness from the LangTest library\n",
    "from langtest import Harness"
   ]
  },
  {
   "cell_type": "markdown",
   "metadata": {
    "id": "MW9LVSCyBLoQ"
   },
   "source": [
    "It imports the Harness class from within the module, that is designed to provide a blueprint or framework for conducting NLP testing, and that instances of the Harness class can be customized or configured for different testing scenarios or environments.\n",
    "\n",
    "Here is a list of the different parameters that can be passed to the Harness function:\n",
    "\n",
    "<br/>\n",
    "\n",
    "\n",
    "| Parameter  | Description |  \n",
    "| - | - |\n",
    "|**task**     |Task for which the model is to be evaluated (question-answering or summarization)|\n",
    "| **model**     | Specifies the model(s) to be evaluated. This parameter can be provided as either a dictionary or a list of dictionaries. Each dictionary should contain the following keys: <ul><li>model (mandatory): \tPipelineModel or path to a saved model or pretrained pipeline/model from hub.</li><li>hub (mandatory): Hub (library) to use in back-end for loading model from public models hub or from path</li></ul>|\n",
    "| **data**      | The data to be used for evaluation. A dictionary providing flexibility and options for data sources. It should include the following keys: <ul><li>data_source (mandatory): The source of the data.</li><li>subset (optional): The subset of the data.</li><li>feature_column (optional): The column containing the features.</li><li>target_column (optional): The column containing the target labels.</li><li>split (optional): The data split to be used.</li><li>source (optional): Set to 'huggingface' when loading Hugging Face dataset.</li></ul> |\n",
    "| **config**    | Configuration for the tests to be performed, specified in the form of a YAML file. |\n",
    "\n",
    "<br/>\n",
    "<br/>"
   ]
  },
  {
   "cell_type": "markdown",
   "metadata": {
    "id": "xHwkRUckBw9M"
   },
   "source": [
    "# OpenAI Model Testing For Question Answering\n",
    "\n",
    "In this section, we dive into testing of OpenAI models in Question Answering task.\n",
    "\n",
    "LangTest supports robustness tests for LLM testing for now."
   ]
  },
  {
   "cell_type": "markdown",
   "metadata": {
    "id": "4bgnVoUiBRqU"
   },
   "source": [
    "### Set environment for OpenAI"
   ]
  },
  {
   "cell_type": "code",
   "execution_count": 2,
   "metadata": {
    "executionInfo": {
     "elapsed": 17,
     "status": "ok",
     "timestamp": 1696324827010,
     "user": {
      "displayName": "Prikshit sharma",
      "userId": "07819241395213139913"
     },
     "user_tz": -330
    },
    "id": "mVYxDu-E_ssg"
   },
   "outputs": [],
   "source": [
    "import os\n",
    "\n",
    "os.environ[\"OPENAI_API_KEY\"] = \"<YOUR_OPENAI_API_KEY>\""
   ]
  },
  {
   "cell_type": "markdown",
   "metadata": {
    "id": "tCXcKn_9BXEa"
   },
   "source": [
    "### Multi Dataset Testing\n",
    "\n",
    "In order to evaluate the model's performance on multiple datasets, we can utilize a Jupyter notebook and provide a list of dictionaries to the `data` parameter. Each dictionary within the list should contain the following keys:\n",
    "\n",
    "```\n",
    "data=[\n",
    "    {\"data_source\": \"BoolQ\", \"split\": \"test-tiny\"},\n",
    "    {\"data_source\": \"NQ-open\", \"split\": \"test-tiny\"},\n",
    "    {\"data_source\": \"MedQA\", \"split\": \"test-tiny\"},\n",
    "    {\"data_source\": \"LogiQA\", \"split\": \"test-tiny\"},\n",
    "],\n",
    "```\n",
    "\n",
    "Here, we specify different data sources and their corresponding splits for testing. This allows for a comprehensive evaluation of the model's performance across diverse datasets. The notebook can then be executed to assess how well the model generalizes to various types of questions and contexts presented in these datasets."
   ]
  },
  {
   "cell_type": "code",
   "execution_count": 3,
   "metadata": {
    "colab": {
     "base_uri": "https://localhost:8080/"
    },
    "executionInfo": {
     "elapsed": 45,
     "status": "ok",
     "timestamp": 1692371630216,
     "user": {
      "displayName": "Prikshit sharma",
      "userId": "07819241395213139913"
     },
     "user_tz": -330
    },
    "id": "ASv9E02sBXrp",
    "outputId": "fb19b9ec-3bd9-416e-f2fc-dc3190b8a861"
   },
   "outputs": [
    {
     "name": "stdout",
     "output_type": "stream",
     "text": [
      "Test Configuration : \n",
      " {\n",
      " \"model_parameters\": {\n",
      "  \"max_tokens\": 64\n",
      " },\n",
      " \"tests\": {\n",
      "  \"defaults\": {\n",
      "   \"min_pass_rate\": 1.0\n",
      "  },\n",
      "  \"robustness\": {\n",
      "   \"add_typo\": {\n",
      "    \"min_pass_rate\": 0.7\n",
      "   },\n",
      "   \"lowercase\": {\n",
      "    \"min_pass_rate\": 0.7\n",
      "   }\n",
      "  }\n",
      " }\n",
      "}\n"
     ]
    }
   ],
   "source": [
    "harness = Harness(\n",
    "    task=\"question-answering\",\n",
    "    model={\"model\": \"gpt-3.5-turbo-instruct\", \"hub\": \"openai\"},\n",
    "    data=[\n",
    "        {\"data_source\": \"BoolQ\", \"split\": \"test-tiny\"},\n",
    "        {\"data_source\": \"NQ-open\", \"split\": \"test-tiny\"},\n",
    "        {\"data_source\": \"MedQA\", \"split\": \"test-tiny\"},\n",
    "        {\"data_source\": \"LogiQA\", \"split\": \"test-tiny\"},\n",
    "    ],\n",
    ")"
   ]
  },
  {
   "cell_type": "markdown",
   "metadata": {
    "id": "_wvVHxeSDWLV"
   },
   "source": [
    "## Robustness\n",
    "\n",
    "For tests we used uppercase, Dyslexia Word Swap, Add Slangs, Insert Abbreviations and Speech to Text typos . Other available robustness tests for QA task are:\n",
    "* `add_context`\n",
    "* `add_contraction`\n",
    "* `add_punctuation`\n",
    "* `add_typo`\n",
    "* `add_ocr_typo`\n",
    "* `american_to_british`\n",
    "* `british_to_american`\n",
    "* `lowercase`\n",
    "* `strip_punctuation`\n",
    "* `titlecase`\n",
    "* `uppercase`\n",
    "* `number_to_word`\n",
    "* `add_abbreviation`\n",
    "* `add_speech_to_text_typo`\n",
    "* `add_slangs`\n",
    "* `dyslexia_word_swap`\n",
    "* `multiple_perturbations`\n",
    "* `adjective_synonym_swap`\n",
    "* `adjective_antonym_swap`\n",
    "* `strip_all_punctuation`"
   ]
  },
  {
   "cell_type": "markdown",
   "metadata": {
    "id": "HYExqs-pDbvz"
   },
   "source": [
    "You can also set prompts and other model parameters in config. Possible parameters are:\n",
    "* `user_promt:` Promt to be given to the model.\n",
    "* `temperature:` Temperature of the model.\n",
    "* `max_tokens:` Maximum number of output tokens allowed for model."
   ]
  },
  {
   "cell_type": "code",
   "execution_count": 4,
   "metadata": {
    "colab": {
     "base_uri": "https://localhost:8080/"
    },
    "executionInfo": {
     "elapsed": 42,
     "status": "ok",
     "timestamp": 1692371630218,
     "user": {
      "displayName": "Prikshit sharma",
      "userId": "07819241395213139913"
     },
     "user_tz": -330
    },
    "id": "EzzlV0u4DbN9",
    "outputId": "2a3926cd-9c23-45a6-a0b8-b31b29692be3"
   },
   "outputs": [
    {
     "data": {
      "text/plain": [
       "{'tests': {'defaults': {'min_pass_rate': 0.65},\n",
       "  'robustness': {'uppercase': {'min_pass_rate': 0.66},\n",
       "   'dyslexia_word_swap': {'min_pass_rate': 0.6},\n",
       "   'add_abbreviation': {'min_pass_rate': 0.6},\n",
       "   'add_slangs': {'min_pass_rate': 0.6},\n",
       "   'add_speech_to_text_typo': {'min_pass_rate': 0.6}}}}"
      ]
     },
     "execution_count": 4,
     "metadata": {},
     "output_type": "execute_result"
    }
   ],
   "source": [
    "harness.configure(\n",
    "    {\n",
    "        \"tests\": {\n",
    "            \"defaults\": {\"min_pass_rate\": 0.65},\n",
    "            \"robustness\": {\n",
    "                \"uppercase\": {\"min_pass_rate\": 0.66},\n",
    "                \"dyslexia_word_swap\": {\"min_pass_rate\": 0.60},\n",
    "                \"add_abbreviation\": {\"min_pass_rate\": 0.60},\n",
    "                \"add_slangs\": {\"min_pass_rate\": 0.60},\n",
    "                \"add_speech_to_text_typo\": {\"min_pass_rate\": 0.60},\n",
    "            },\n",
    "        }\n",
    "    }\n",
    ")"
   ]
  },
  {
   "cell_type": "markdown",
   "metadata": {
    "id": "P7TKPJd3Dft1"
   },
   "source": [
    "➤ You can adjust the level of transformation in the sentence by using the \"`prob`\" parameter, which controls the proportion of words to be changed during robustness tests.\n",
    "\n",
    "➤ **NOTE** : \"`prob`\" defaults to 1.0, which means all words will be transformed.\n",
    "```\n",
    "harness.configure(\n",
    "{\n",
    " 'tests': {\n",
    "    'defaults': {'min_pass_rate': 0.65},\n",
    "      'robustness': {\n",
    "        'uppercase': {'min_pass_rate': 0.66, 'prob': 0.50},\n",
    "        'dyslexia_word_swap':{'min_pass_rate': 0.60, 'prob': 0.70},\n",
    "      }\n",
    "  }\n",
    "})\n",
    "\n",
    "```"
   ]
  },
  {
   "cell_type": "markdown",
   "metadata": {
    "id": "SW71UKHfDi2q"
   },
   "source": [
    "Here we have configured the harness to perform Five robustness tests and defined the minimum pass rate for each test."
   ]
  },
  {
   "cell_type": "code",
   "execution_count": 6,
   "metadata": {
    "id": "a9Q8i7-KDgR5"
   },
   "outputs": [],
   "source": [
    "#slice the data\n",
    "harness.data = {k: v[:5] for k, v in harness.data.items()}"
   ]
  },
  {
   "cell_type": "markdown",
   "metadata": {
    "id": "GlBMu35ODm77"
   },
   "source": [
    "### Generating the test cases."
   ]
  },
  {
   "cell_type": "code",
   "execution_count": 7,
   "metadata": {
    "colab": {
     "base_uri": "https://localhost:8080/"
    },
    "executionInfo": {
     "elapsed": 58028,
     "status": "ok",
     "timestamp": 1692371688215,
     "user": {
      "displayName": "Prikshit sharma",
      "userId": "07819241395213139913"
     },
     "user_tz": -330
    },
    "id": "L1NQcBCHDomc",
    "outputId": "e3df8f16-fadd-4fbb-e479-2f098f07ba5a"
   },
   "outputs": [
    {
     "name": "stdout",
     "output_type": "stream",
     "text": [
      "================================================================================\n",
      "                                     BoolQ                                      \n",
      "================================================================================\n"
     ]
    },
    {
     "name": "stderr",
     "output_type": "stream",
     "text": [
      "Generating testcases...: 100%|██████████| 1/1 [00:00<?, ?it/s]\n",
      "WARNING:root:[W009] Removing samples where no transformation has been applied:\n",
      "[W010] - Test 'add_slangs': 3 samples removed out of 5\n",
      "\n"
     ]
    },
    {
     "name": "stdout",
     "output_type": "stream",
     "text": [
      "--------------------------------------------------------------------------------\n",
      "\n",
      "================================================================================\n",
      "                                    NQ-open                                     \n",
      "================================================================================\n"
     ]
    },
    {
     "name": "stderr",
     "output_type": "stream",
     "text": [
      "Generating testcases...: 100%|██████████| 1/1 [00:00<?, ?it/s]\n",
      "WARNING:root:[W009] Removing samples where no transformation has been applied:\n",
      "[W010] - Test 'dyslexia_word_swap': 1 samples removed out of 5\n",
      "[W010] - Test 'add_abbreviation': 1 samples removed out of 5\n",
      "[W010] - Test 'add_slangs': 4 samples removed out of 5\n",
      "\n"
     ]
    },
    {
     "name": "stdout",
     "output_type": "stream",
     "text": [
      "--------------------------------------------------------------------------------\n",
      "\n",
      "================================================================================\n",
      "                                     MedQA                                      \n",
      "================================================================================\n"
     ]
    },
    {
     "name": "stderr",
     "output_type": "stream",
     "text": [
      "Generating testcases...: 100%|██████████| 1/1 [00:00<?, ?it/s]\n"
     ]
    },
    {
     "name": "stdout",
     "output_type": "stream",
     "text": [
      "--------------------------------------------------------------------------------\n",
      "\n",
      "================================================================================\n",
      "                                     LogiQA                                     \n",
      "================================================================================\n"
     ]
    },
    {
     "name": "stderr",
     "output_type": "stream",
     "text": [
      "Generating testcases...: 100%|██████████| 1/1 [00:00<?, ?it/s]\n",
      "WARNING:root:[W009] Removing samples where no transformation has been applied:\n",
      "[W010] - Test 'add_slangs': 1 samples removed out of 5\n",
      "\n"
     ]
    },
    {
     "name": "stdout",
     "output_type": "stream",
     "text": [
      "--------------------------------------------------------------------------------\n",
      "\n"
     ]
    },
    {
     "data": {
      "text/plain": []
     },
     "execution_count": 7,
     "metadata": {},
     "output_type": "execute_result"
    }
   ],
   "source": [
    "harness.generate()"
   ]
  },
  {
   "cell_type": "code",
   "execution_count": 8,
   "metadata": {
    "colab": {
     "base_uri": "https://localhost:8080/",
     "height": 597
    },
    "executionInfo": {
     "elapsed": 34,
     "status": "ok",
     "timestamp": 1692371688218,
     "user": {
      "displayName": "Prikshit sharma",
      "userId": "07819241395213139913"
     },
     "user_tz": -330
    },
    "id": "QXAUInySDsgM",
    "outputId": "1ebb5870-ee72-4e93-af7e-195f5d504f66"
   },
   "outputs": [
    {
     "data": {
      "text/html": [
       "<div>\n",
       "<style scoped>\n",
       "    .dataframe tbody tr th:only-of-type {\n",
       "        vertical-align: middle;\n",
       "    }\n",
       "\n",
       "    .dataframe tbody tr th {\n",
       "        vertical-align: top;\n",
       "    }\n",
       "\n",
       "    .dataframe thead th {\n",
       "        text-align: right;\n",
       "    }\n",
       "</style>\n",
       "<table border=\"1\" class=\"dataframe\">\n",
       "  <thead>\n",
       "    <tr style=\"text-align: right;\">\n",
       "      <th></th>\n",
       "      <th>category</th>\n",
       "      <th>dataset_name</th>\n",
       "      <th>test_type</th>\n",
       "      <th>original_context</th>\n",
       "      <th>original_question</th>\n",
       "      <th>perturbed_context</th>\n",
       "      <th>perturbed_question</th>\n",
       "      <th>options</th>\n",
       "    </tr>\n",
       "  </thead>\n",
       "  <tbody>\n",
       "    <tr>\n",
       "      <th>0</th>\n",
       "      <td>robustness</td>\n",
       "      <td>BoolQ</td>\n",
       "      <td>uppercase</td>\n",
       "      <td>20 euro note -- Until now there has been only ...</td>\n",
       "      <td>is the first series 20 euro note still legal t...</td>\n",
       "      <td>20 EURO NOTE -- UNTIL NOW THERE HAS BEEN ONLY ...</td>\n",
       "      <td>IS THE FIRST SERIES 20 EURO NOTE STILL LEGAL T...</td>\n",
       "      <td>-</td>\n",
       "    </tr>\n",
       "    <tr>\n",
       "      <th>1</th>\n",
       "      <td>robustness</td>\n",
       "      <td>BoolQ</td>\n",
       "      <td>uppercase</td>\n",
       "      <td>2018–19 UEFA Champions League -- The final wil...</td>\n",
       "      <td>do the champions league winners get automatic ...</td>\n",
       "      <td>2018–19 UEFA CHAMPIONS LEAGUE -- THE FINAL WIL...</td>\n",
       "      <td>DO THE CHAMPIONS LEAGUE WINNERS GET AUTOMATIC ...</td>\n",
       "      <td>-</td>\n",
       "    </tr>\n",
       "    <tr>\n",
       "      <th>2</th>\n",
       "      <td>robustness</td>\n",
       "      <td>BoolQ</td>\n",
       "      <td>uppercase</td>\n",
       "      <td>Bullsnake -- Bullsnakes are very powerful cons...</td>\n",
       "      <td>can a bull snake kill a small dog</td>\n",
       "      <td>BULLSNAKE -- BULLSNAKES ARE VERY POWERFUL CONS...</td>\n",
       "      <td>CAN A BULL SNAKE KILL A SMALL DOG</td>\n",
       "      <td>-</td>\n",
       "    </tr>\n",
       "    <tr>\n",
       "      <th>3</th>\n",
       "      <td>robustness</td>\n",
       "      <td>BoolQ</td>\n",
       "      <td>uppercase</td>\n",
       "      <td>NBA playoffs -- All rounds are best-of-seven s...</td>\n",
       "      <td>are all nba playoff games best of 7</td>\n",
       "      <td>NBA PLAYOFFS -- ALL ROUNDS ARE BEST-OF-SEVEN S...</td>\n",
       "      <td>ARE ALL NBA PLAYOFF GAMES BEST OF 7</td>\n",
       "      <td>-</td>\n",
       "    </tr>\n",
       "    <tr>\n",
       "      <th>4</th>\n",
       "      <td>robustness</td>\n",
       "      <td>BoolQ</td>\n",
       "      <td>uppercase</td>\n",
       "      <td>Manchester station group -- The Manchester sta...</td>\n",
       "      <td>can i use my train ticket on the tram in manch...</td>\n",
       "      <td>MANCHESTER STATION GROUP -- THE MANCHESTER STA...</td>\n",
       "      <td>CAN I USE MY TRAIN TICKET ON THE TRAM IN MANCH...</td>\n",
       "      <td>-</td>\n",
       "    </tr>\n",
       "    <tr>\n",
       "      <th>...</th>\n",
       "      <td>...</td>\n",
       "      <td>...</td>\n",
       "      <td>...</td>\n",
       "      <td>...</td>\n",
       "      <td>...</td>\n",
       "      <td>...</td>\n",
       "      <td>...</td>\n",
       "      <td>...</td>\n",
       "    </tr>\n",
       "    <tr>\n",
       "      <th>85</th>\n",
       "      <td>robustness</td>\n",
       "      <td>LogiQA</td>\n",
       "      <td>add_speech_to_text_typo</td>\n",
       "      <td>In the planning of a new district in a townshi...</td>\n",
       "      <td>Based on the above statement, which of the fol...</td>\n",
       "      <td>In the planning of Ae new district in a townsh...</td>\n",
       "      <td>Based Aune the above statement, which of the f...</td>\n",
       "      <td>A. Civic Park is north of the administrative s...</td>\n",
       "    </tr>\n",
       "    <tr>\n",
       "      <th>86</th>\n",
       "      <td>robustness</td>\n",
       "      <td>LogiQA</td>\n",
       "      <td>add_speech_to_text_typo</td>\n",
       "      <td>The company sent three young staff members to ...</td>\n",
       "      <td>So what are the three young people on business?\\n</td>\n",
       "      <td>The company Scent three young staff members to...</td>\n",
       "      <td>So what Er the three young people on business?\\n</td>\n",
       "      <td>A. 0-year-old accountant, 20-year-old salesper...</td>\n",
       "    </tr>\n",
       "    <tr>\n",
       "      <th>87</th>\n",
       "      <td>robustness</td>\n",
       "      <td>LogiQA</td>\n",
       "      <td>add_speech_to_text_typo</td>\n",
       "      <td>In a traditional Chinese medicine preparation,...</td>\n",
       "      <td>According to the above statement, which of the...</td>\n",
       "      <td>Inn a traditional Chinese medicine preparation...</td>\n",
       "      <td>According to the above statement, which of the...</td>\n",
       "      <td>A. o dangshen.\\nB. o Shouwu.\\nC.  白 术.\\nD.  白 术.</td>\n",
       "    </tr>\n",
       "    <tr>\n",
       "      <th>88</th>\n",
       "      <td>robustness</td>\n",
       "      <td>LogiQA</td>\n",
       "      <td>add_speech_to_text_typo</td>\n",
       "      <td>In recent years, graduate entrance examination...</td>\n",
       "      <td>Which of the following can best strengthen the...</td>\n",
       "      <td>Inn recent years, graduate entrance examinatio...</td>\n",
       "      <td>Which of the following can best strengthen the...</td>\n",
       "      <td>A. If you take an English tutoring class, you ...</td>\n",
       "    </tr>\n",
       "    <tr>\n",
       "      <th>89</th>\n",
       "      <td>robustness</td>\n",
       "      <td>LogiQA</td>\n",
       "      <td>add_speech_to_text_typo</td>\n",
       "      <td>A unit conducted the year-end assessment and a...</td>\n",
       "      <td>According to the above statement, it can be co...</td>\n",
       "      <td>Ae unit conducted the year-end assessment and ...</td>\n",
       "      <td>According to the above statement, it can be co...</td>\n",
       "      <td>A. A.\\nB. B.\\nC. C.\\nD. Ding.</td>\n",
       "    </tr>\n",
       "  </tbody>\n",
       "</table>\n",
       "<p>90 rows × 8 columns</p>\n",
       "</div>"
      ],
      "text/plain": [
       "      category dataset_name                test_type  \\\n",
       "0   robustness        BoolQ                uppercase   \n",
       "1   robustness        BoolQ                uppercase   \n",
       "2   robustness        BoolQ                uppercase   \n",
       "3   robustness        BoolQ                uppercase   \n",
       "4   robustness        BoolQ                uppercase   \n",
       "..         ...          ...                      ...   \n",
       "85  robustness       LogiQA  add_speech_to_text_typo   \n",
       "86  robustness       LogiQA  add_speech_to_text_typo   \n",
       "87  robustness       LogiQA  add_speech_to_text_typo   \n",
       "88  robustness       LogiQA  add_speech_to_text_typo   \n",
       "89  robustness       LogiQA  add_speech_to_text_typo   \n",
       "\n",
       "                                     original_context  \\\n",
       "0   20 euro note -- Until now there has been only ...   \n",
       "1   2018–19 UEFA Champions League -- The final wil...   \n",
       "2   Bullsnake -- Bullsnakes are very powerful cons...   \n",
       "3   NBA playoffs -- All rounds are best-of-seven s...   \n",
       "4   Manchester station group -- The Manchester sta...   \n",
       "..                                                ...   \n",
       "85  In the planning of a new district in a townshi...   \n",
       "86  The company sent three young staff members to ...   \n",
       "87  In a traditional Chinese medicine preparation,...   \n",
       "88  In recent years, graduate entrance examination...   \n",
       "89  A unit conducted the year-end assessment and a...   \n",
       "\n",
       "                                    original_question  \\\n",
       "0   is the first series 20 euro note still legal t...   \n",
       "1   do the champions league winners get automatic ...   \n",
       "2                   can a bull snake kill a small dog   \n",
       "3                 are all nba playoff games best of 7   \n",
       "4   can i use my train ticket on the tram in manch...   \n",
       "..                                                ...   \n",
       "85  Based on the above statement, which of the fol...   \n",
       "86  So what are the three young people on business?\\n   \n",
       "87  According to the above statement, which of the...   \n",
       "88  Which of the following can best strengthen the...   \n",
       "89  According to the above statement, it can be co...   \n",
       "\n",
       "                                    perturbed_context  \\\n",
       "0   20 EURO NOTE -- UNTIL NOW THERE HAS BEEN ONLY ...   \n",
       "1   2018–19 UEFA CHAMPIONS LEAGUE -- THE FINAL WIL...   \n",
       "2   BULLSNAKE -- BULLSNAKES ARE VERY POWERFUL CONS...   \n",
       "3   NBA PLAYOFFS -- ALL ROUNDS ARE BEST-OF-SEVEN S...   \n",
       "4   MANCHESTER STATION GROUP -- THE MANCHESTER STA...   \n",
       "..                                                ...   \n",
       "85  In the planning of Ae new district in a townsh...   \n",
       "86  The company Scent three young staff members to...   \n",
       "87  Inn a traditional Chinese medicine preparation...   \n",
       "88  Inn recent years, graduate entrance examinatio...   \n",
       "89  Ae unit conducted the year-end assessment and ...   \n",
       "\n",
       "                                   perturbed_question  \\\n",
       "0   IS THE FIRST SERIES 20 EURO NOTE STILL LEGAL T...   \n",
       "1   DO THE CHAMPIONS LEAGUE WINNERS GET AUTOMATIC ...   \n",
       "2                   CAN A BULL SNAKE KILL A SMALL DOG   \n",
       "3                 ARE ALL NBA PLAYOFF GAMES BEST OF 7   \n",
       "4   CAN I USE MY TRAIN TICKET ON THE TRAM IN MANCH...   \n",
       "..                                                ...   \n",
       "85  Based Aune the above statement, which of the f...   \n",
       "86   So what Er the three young people on business?\\n   \n",
       "87  According to the above statement, which of the...   \n",
       "88  Which of the following can best strengthen the...   \n",
       "89  According to the above statement, it can be co...   \n",
       "\n",
       "                                              options  \n",
       "0                                                   -  \n",
       "1                                                   -  \n",
       "2                                                   -  \n",
       "3                                                   -  \n",
       "4                                                   -  \n",
       "..                                                ...  \n",
       "85  A. Civic Park is north of the administrative s...  \n",
       "86  A. 0-year-old accountant, 20-year-old salesper...  \n",
       "87   A. o dangshen.\\nB. o Shouwu.\\nC.  白 术.\\nD.  白 术.  \n",
       "88  A. If you take an English tutoring class, you ...  \n",
       "89                      A. A.\\nB. B.\\nC. C.\\nD. Ding.  \n",
       "\n",
       "[90 rows x 8 columns]"
      ]
     },
     "execution_count": 8,
     "metadata": {},
     "output_type": "execute_result"
    }
   ],
   "source": [
    "harness.testcases()"
   ]
  },
  {
   "cell_type": "markdown",
   "metadata": {
    "id": "akSniLOoDxOp"
   },
   "source": [
    "harness.generate() method automatically generates the test cases (based on the provided configuration)"
   ]
  },
  {
   "cell_type": "markdown",
   "metadata": {
    "id": "wk_cgK2BDzcM"
   },
   "source": [
    "### Running the tests"
   ]
  },
  {
   "cell_type": "code",
   "execution_count": 9,
   "metadata": {
    "colab": {
     "base_uri": "https://localhost:8080/"
    },
    "executionInfo": {
     "elapsed": 48720,
     "status": "ok",
     "timestamp": 1692371736914,
     "user": {
      "displayName": "Prikshit sharma",
      "userId": "07819241395213139913"
     },
     "user_tz": -330
    },
    "id": "nje7KWD9Dx3Y",
    "outputId": "5ac4304a-0078-49ad-84b0-c5b6c2f58155"
   },
   "outputs": [
    {
     "name": "stdout",
     "output_type": "stream",
     "text": [
      "================================================================================\n",
      "                                     BoolQ                                      \n",
      "================================================================================\n"
     ]
    },
    {
     "name": "stderr",
     "output_type": "stream",
     "text": [
      "Running testcases... : 100%|██████████| 22/22 [00:17<00:00,  1.29it/s]\n"
     ]
    },
    {
     "name": "stdout",
     "output_type": "stream",
     "text": [
      "--------------------------------------------------------------------------------\n",
      "\n",
      "================================================================================\n",
      "                                    NQ-open                                     \n",
      "================================================================================\n"
     ]
    },
    {
     "name": "stderr",
     "output_type": "stream",
     "text": [
      "Running testcases... : 100%|██████████| 19/19 [00:22<00:00,  1.21s/it]\n"
     ]
    },
    {
     "name": "stdout",
     "output_type": "stream",
     "text": [
      "--------------------------------------------------------------------------------\n",
      "\n",
      "================================================================================\n",
      "                                     MedQA                                      \n",
      "================================================================================\n"
     ]
    },
    {
     "name": "stderr",
     "output_type": "stream",
     "text": [
      "Running testcases... : 100%|██████████| 25/25 [00:18<00:00,  1.33it/s]\n"
     ]
    },
    {
     "name": "stdout",
     "output_type": "stream",
     "text": [
      "--------------------------------------------------------------------------------\n",
      "\n",
      "================================================================================\n",
      "                                     LogiQA                                     \n",
      "================================================================================\n"
     ]
    },
    {
     "name": "stderr",
     "output_type": "stream",
     "text": [
      "Running testcases... : 100%|██████████| 24/24 [00:18<00:00,  1.30it/s]"
     ]
    },
    {
     "name": "stdout",
     "output_type": "stream",
     "text": [
      "--------------------------------------------------------------------------------\n",
      "\n"
     ]
    },
    {
     "name": "stderr",
     "output_type": "stream",
     "text": [
      "\n"
     ]
    },
    {
     "data": {
      "text/plain": []
     },
     "execution_count": 9,
     "metadata": {},
     "output_type": "execute_result"
    }
   ],
   "source": [
    "harness.run()"
   ]
  },
  {
   "cell_type": "markdown",
   "metadata": {
    "id": "7GnDWiU6D2S4"
   },
   "source": [
    "Called after harness.generate() and is to used to run all the tests.  Returns a pass/fail flag for each test."
   ]
  },
  {
   "cell_type": "markdown",
   "metadata": {
    "id": "q17wkdZcD4T8"
   },
   "source": [
    "### Generated Results"
   ]
  },
  {
   "cell_type": "code",
   "execution_count": 10,
   "metadata": {
    "colab": {
     "base_uri": "https://localhost:8080/",
     "height": 805
    },
    "executionInfo": {
     "elapsed": 18550,
     "status": "ok",
     "timestamp": 1692371755410,
     "user": {
      "displayName": "Prikshit sharma",
      "userId": "07819241395213139913"
     },
     "user_tz": -330
    },
    "id": "yJta_DvJD3xh",
    "outputId": "91be0a8f-f014-4e04-81bd-8eaa521c84c9"
   },
   "outputs": [
    {
     "data": {
      "text/html": [
       "<div>\n",
       "<style scoped>\n",
       "    .dataframe tbody tr th:only-of-type {\n",
       "        vertical-align: middle;\n",
       "    }\n",
       "\n",
       "    .dataframe tbody tr th {\n",
       "        vertical-align: top;\n",
       "    }\n",
       "\n",
       "    .dataframe thead th {\n",
       "        text-align: right;\n",
       "    }\n",
       "</style>\n",
       "<table border=\"1\" class=\"dataframe\">\n",
       "  <thead>\n",
       "    <tr style=\"text-align: right;\">\n",
       "      <th></th>\n",
       "      <th>category</th>\n",
       "      <th>dataset_name</th>\n",
       "      <th>test_type</th>\n",
       "      <th>original_context</th>\n",
       "      <th>original_question</th>\n",
       "      <th>perturbed_context</th>\n",
       "      <th>perturbed_question</th>\n",
       "      <th>options</th>\n",
       "      <th>expected_result</th>\n",
       "      <th>actual_result</th>\n",
       "      <th>pass</th>\n",
       "    </tr>\n",
       "  </thead>\n",
       "  <tbody>\n",
       "    <tr>\n",
       "      <th>0</th>\n",
       "      <td>robustness</td>\n",
       "      <td>BoolQ</td>\n",
       "      <td>uppercase</td>\n",
       "      <td>20 euro note -- Until now there has been only ...</td>\n",
       "      <td>is the first series 20 euro note still legal t...</td>\n",
       "      <td>20 EURO NOTE -- UNTIL NOW THERE HAS BEEN ONLY ...</td>\n",
       "      <td>IS THE FIRST SERIES 20 EURO NOTE STILL LEGAL T...</td>\n",
       "      <td>-</td>\n",
       "      <td>\\n\\nFalse</td>\n",
       "      <td>\\n\\nFalse</td>\n",
       "      <td>True</td>\n",
       "    </tr>\n",
       "    <tr>\n",
       "      <th>1</th>\n",
       "      <td>robustness</td>\n",
       "      <td>BoolQ</td>\n",
       "      <td>uppercase</td>\n",
       "      <td>2018–19 UEFA Champions League -- The final wil...</td>\n",
       "      <td>do the champions league winners get automatic ...</td>\n",
       "      <td>2018–19 UEFA CHAMPIONS LEAGUE -- THE FINAL WIL...</td>\n",
       "      <td>DO THE CHAMPIONS LEAGUE WINNERS GET AUTOMATIC ...</td>\n",
       "      <td>-</td>\n",
       "      <td>\\n\\nTrue</td>\n",
       "      <td>\\n\\nTrue</td>\n",
       "      <td>True</td>\n",
       "    </tr>\n",
       "    <tr>\n",
       "      <th>2</th>\n",
       "      <td>robustness</td>\n",
       "      <td>BoolQ</td>\n",
       "      <td>uppercase</td>\n",
       "      <td>Bullsnake -- Bullsnakes are very powerful cons...</td>\n",
       "      <td>can a bull snake kill a small dog</td>\n",
       "      <td>BULLSNAKE -- BULLSNAKES ARE VERY POWERFUL CONS...</td>\n",
       "      <td>CAN A BULL SNAKE KILL A SMALL DOG</td>\n",
       "      <td>-</td>\n",
       "      <td>\\n\\nFalse</td>\n",
       "      <td>\\n\\nFalse</td>\n",
       "      <td>True</td>\n",
       "    </tr>\n",
       "    <tr>\n",
       "      <th>3</th>\n",
       "      <td>robustness</td>\n",
       "      <td>BoolQ</td>\n",
       "      <td>uppercase</td>\n",
       "      <td>NBA playoffs -- All rounds are best-of-seven s...</td>\n",
       "      <td>are all nba playoff games best of 7</td>\n",
       "      <td>NBA PLAYOFFS -- ALL ROUNDS ARE BEST-OF-SEVEN S...</td>\n",
       "      <td>ARE ALL NBA PLAYOFF GAMES BEST OF 7</td>\n",
       "      <td>-</td>\n",
       "      <td>\\n\\nTrue</td>\n",
       "      <td>\\n\\nTrue</td>\n",
       "      <td>True</td>\n",
       "    </tr>\n",
       "    <tr>\n",
       "      <th>4</th>\n",
       "      <td>robustness</td>\n",
       "      <td>BoolQ</td>\n",
       "      <td>uppercase</td>\n",
       "      <td>Manchester station group -- The Manchester sta...</td>\n",
       "      <td>can i use my train ticket on the tram in manch...</td>\n",
       "      <td>MANCHESTER STATION GROUP -- THE MANCHESTER STA...</td>\n",
       "      <td>CAN I USE MY TRAIN TICKET ON THE TRAM IN MANCH...</td>\n",
       "      <td>-</td>\n",
       "      <td>\\n\\nTrue</td>\n",
       "      <td>\\n\\nTrue</td>\n",
       "      <td>True</td>\n",
       "    </tr>\n",
       "    <tr>\n",
       "      <th>...</th>\n",
       "      <td>...</td>\n",
       "      <td>...</td>\n",
       "      <td>...</td>\n",
       "      <td>...</td>\n",
       "      <td>...</td>\n",
       "      <td>...</td>\n",
       "      <td>...</td>\n",
       "      <td>...</td>\n",
       "      <td>...</td>\n",
       "      <td>...</td>\n",
       "      <td>...</td>\n",
       "    </tr>\n",
       "    <tr>\n",
       "      <th>85</th>\n",
       "      <td>robustness</td>\n",
       "      <td>LogiQA</td>\n",
       "      <td>add_speech_to_text_typo</td>\n",
       "      <td>In the planning of a new district in a townshi...</td>\n",
       "      <td>Based on the above statement, which of the fol...</td>\n",
       "      <td>In the planning of Ae new district in a townsh...</td>\n",
       "      <td>Based Aune the above statement, which of the f...</td>\n",
       "      <td>A. Civic Park is north of the administrative s...</td>\n",
       "      <td>B. The leisure area is southwest of the cultu...</td>\n",
       "      <td>D. The business district is southeast of the ...</td>\n",
       "      <td>False</td>\n",
       "    </tr>\n",
       "    <tr>\n",
       "      <th>86</th>\n",
       "      <td>robustness</td>\n",
       "      <td>LogiQA</td>\n",
       "      <td>add_speech_to_text_typo</td>\n",
       "      <td>The company sent three young staff members to ...</td>\n",
       "      <td>So what are the three young people on business?\\n</td>\n",
       "      <td>The company Scent three young staff members to...</td>\n",
       "      <td>So what Er the three young people on business?\\n</td>\n",
       "      <td>A. 0-year-old accountant, 20-year-old salesper...</td>\n",
       "      <td>C. 4-year-old accountant, 20-year-old salespe...</td>\n",
       "      <td>D. 0-year-old accountant, 20-year-old account...</td>\n",
       "      <td>True</td>\n",
       "    </tr>\n",
       "    <tr>\n",
       "      <th>87</th>\n",
       "      <td>robustness</td>\n",
       "      <td>LogiQA</td>\n",
       "      <td>add_speech_to_text_typo</td>\n",
       "      <td>In a traditional Chinese medicine preparation,...</td>\n",
       "      <td>According to the above statement, which of the...</td>\n",
       "      <td>Inn a traditional Chinese medicine preparation...</td>\n",
       "      <td>According to the above statement, which of the...</td>\n",
       "      <td>A. o dangshen.\\nB. o Shouwu.\\nC.  白 术.\\nD.  白 术.</td>\n",
       "      <td>B. Shouwu.</td>\n",
       "      <td>B. Shouwu.</td>\n",
       "      <td>True</td>\n",
       "    </tr>\n",
       "    <tr>\n",
       "      <th>88</th>\n",
       "      <td>robustness</td>\n",
       "      <td>LogiQA</td>\n",
       "      <td>add_speech_to_text_typo</td>\n",
       "      <td>In recent years, graduate entrance examination...</td>\n",
       "      <td>Which of the following can best strengthen the...</td>\n",
       "      <td>Inn recent years, graduate entrance examinatio...</td>\n",
       "      <td>Which of the following can best strengthen the...</td>\n",
       "      <td>A. If you take an English tutoring class, you ...</td>\n",
       "      <td>A. If you take an English tutoring class, you...</td>\n",
       "      <td>A. If you take an English tutoring class, you...</td>\n",
       "      <td>True</td>\n",
       "    </tr>\n",
       "    <tr>\n",
       "      <th>89</th>\n",
       "      <td>robustness</td>\n",
       "      <td>LogiQA</td>\n",
       "      <td>add_speech_to_text_typo</td>\n",
       "      <td>A unit conducted the year-end assessment and a...</td>\n",
       "      <td>According to the above statement, it can be co...</td>\n",
       "      <td>Ae unit conducted the year-end assessment and ...</td>\n",
       "      <td>According to the above statement, it can be co...</td>\n",
       "      <td>A. A.\\nB. B.\\nC. C.\\nD. Ding.</td>\n",
       "      <td>D. Ding.</td>\n",
       "      <td>D. Ding.</td>\n",
       "      <td>True</td>\n",
       "    </tr>\n",
       "  </tbody>\n",
       "</table>\n",
       "<p>90 rows × 11 columns</p>\n",
       "</div>"
      ],
      "text/plain": [
       "      category dataset_name                test_type  \\\n",
       "0   robustness        BoolQ                uppercase   \n",
       "1   robustness        BoolQ                uppercase   \n",
       "2   robustness        BoolQ                uppercase   \n",
       "3   robustness        BoolQ                uppercase   \n",
       "4   robustness        BoolQ                uppercase   \n",
       "..         ...          ...                      ...   \n",
       "85  robustness       LogiQA  add_speech_to_text_typo   \n",
       "86  robustness       LogiQA  add_speech_to_text_typo   \n",
       "87  robustness       LogiQA  add_speech_to_text_typo   \n",
       "88  robustness       LogiQA  add_speech_to_text_typo   \n",
       "89  robustness       LogiQA  add_speech_to_text_typo   \n",
       "\n",
       "                                     original_context  \\\n",
       "0   20 euro note -- Until now there has been only ...   \n",
       "1   2018–19 UEFA Champions League -- The final wil...   \n",
       "2   Bullsnake -- Bullsnakes are very powerful cons...   \n",
       "3   NBA playoffs -- All rounds are best-of-seven s...   \n",
       "4   Manchester station group -- The Manchester sta...   \n",
       "..                                                ...   \n",
       "85  In the planning of a new district in a townshi...   \n",
       "86  The company sent three young staff members to ...   \n",
       "87  In a traditional Chinese medicine preparation,...   \n",
       "88  In recent years, graduate entrance examination...   \n",
       "89  A unit conducted the year-end assessment and a...   \n",
       "\n",
       "                                    original_question  \\\n",
       "0   is the first series 20 euro note still legal t...   \n",
       "1   do the champions league winners get automatic ...   \n",
       "2                   can a bull snake kill a small dog   \n",
       "3                 are all nba playoff games best of 7   \n",
       "4   can i use my train ticket on the tram in manch...   \n",
       "..                                                ...   \n",
       "85  Based on the above statement, which of the fol...   \n",
       "86  So what are the three young people on business?\\n   \n",
       "87  According to the above statement, which of the...   \n",
       "88  Which of the following can best strengthen the...   \n",
       "89  According to the above statement, it can be co...   \n",
       "\n",
       "                                    perturbed_context  \\\n",
       "0   20 EURO NOTE -- UNTIL NOW THERE HAS BEEN ONLY ...   \n",
       "1   2018–19 UEFA CHAMPIONS LEAGUE -- THE FINAL WIL...   \n",
       "2   BULLSNAKE -- BULLSNAKES ARE VERY POWERFUL CONS...   \n",
       "3   NBA PLAYOFFS -- ALL ROUNDS ARE BEST-OF-SEVEN S...   \n",
       "4   MANCHESTER STATION GROUP -- THE MANCHESTER STA...   \n",
       "..                                                ...   \n",
       "85  In the planning of Ae new district in a townsh...   \n",
       "86  The company Scent three young staff members to...   \n",
       "87  Inn a traditional Chinese medicine preparation...   \n",
       "88  Inn recent years, graduate entrance examinatio...   \n",
       "89  Ae unit conducted the year-end assessment and ...   \n",
       "\n",
       "                                   perturbed_question  \\\n",
       "0   IS THE FIRST SERIES 20 EURO NOTE STILL LEGAL T...   \n",
       "1   DO THE CHAMPIONS LEAGUE WINNERS GET AUTOMATIC ...   \n",
       "2                   CAN A BULL SNAKE KILL A SMALL DOG   \n",
       "3                 ARE ALL NBA PLAYOFF GAMES BEST OF 7   \n",
       "4   CAN I USE MY TRAIN TICKET ON THE TRAM IN MANCH...   \n",
       "..                                                ...   \n",
       "85  Based Aune the above statement, which of the f...   \n",
       "86   So what Er the three young people on business?\\n   \n",
       "87  According to the above statement, which of the...   \n",
       "88  Which of the following can best strengthen the...   \n",
       "89  According to the above statement, it can be co...   \n",
       "\n",
       "                                              options  \\\n",
       "0                                                   -   \n",
       "1                                                   -   \n",
       "2                                                   -   \n",
       "3                                                   -   \n",
       "4                                                   -   \n",
       "..                                                ...   \n",
       "85  A. Civic Park is north of the administrative s...   \n",
       "86  A. 0-year-old accountant, 20-year-old salesper...   \n",
       "87   A. o dangshen.\\nB. o Shouwu.\\nC.  白 术.\\nD.  白 术.   \n",
       "88  A. If you take an English tutoring class, you ...   \n",
       "89                      A. A.\\nB. B.\\nC. C.\\nD. Ding.   \n",
       "\n",
       "                                      expected_result  \\\n",
       "0                                           \\n\\nFalse   \n",
       "1                                            \\n\\nTrue   \n",
       "2                                           \\n\\nFalse   \n",
       "3                                            \\n\\nTrue   \n",
       "4                                            \\n\\nTrue   \n",
       "..                                                ...   \n",
       "85   B. The leisure area is southwest of the cultu...   \n",
       "86   C. 4-year-old accountant, 20-year-old salespe...   \n",
       "87                                         B. Shouwu.   \n",
       "88   A. If you take an English tutoring class, you...   \n",
       "89                                           D. Ding.   \n",
       "\n",
       "                                        actual_result   pass  \n",
       "0                                           \\n\\nFalse   True  \n",
       "1                                            \\n\\nTrue   True  \n",
       "2                                           \\n\\nFalse   True  \n",
       "3                                            \\n\\nTrue   True  \n",
       "4                                            \\n\\nTrue   True  \n",
       "..                                                ...    ...  \n",
       "85   D. The business district is southeast of the ...  False  \n",
       "86   D. 0-year-old accountant, 20-year-old account...   True  \n",
       "87                                         B. Shouwu.   True  \n",
       "88   A. If you take an English tutoring class, you...   True  \n",
       "89                                           D. Ding.   True  \n",
       "\n",
       "[90 rows x 11 columns]"
      ]
     },
     "execution_count": 10,
     "metadata": {},
     "output_type": "execute_result"
    }
   ],
   "source": [
    "harness.generated_results()"
   ]
  },
  {
   "cell_type": "markdown",
   "metadata": {
    "id": "Vtv8wGFyD-XR"
   },
   "source": [
    "This method returns the generated results in the form of a pandas dataframe, which provides a convenient and easy-to-use format for working with the test results. You can use this method to quickly identify the test cases that failed and to determine where fixes are needed."
   ]
  },
  {
   "cell_type": "markdown",
   "metadata": {
    "id": "agT9GO6FEC3E"
   },
   "source": [
    "### Final Results\n",
    "\n",
    "We can call `.report()` which summarizes the results giving information about pass and fail counts and overall test pass/fail flag."
   ]
  },
  {
   "cell_type": "code",
   "execution_count": 11,
   "metadata": {
    "colab": {
     "base_uri": "https://localhost:8080/",
     "height": 206
    },
    "executionInfo": {
     "elapsed": 19430,
     "status": "ok",
     "timestamp": 1692371774826,
     "user": {
      "displayName": "Prikshit sharma",
      "userId": "07819241395213139913"
     },
     "user_tz": -330
    },
    "id": "qjFtUmbtEA2G",
    "outputId": "62d274a2-8688-491a-f04e-101ebe5a6450"
   },
   "outputs": [
    {
     "data": {
      "text/html": [
       "<div>\n",
       "<style scoped>\n",
       "    .dataframe tbody tr th:only-of-type {\n",
       "        vertical-align: middle;\n",
       "    }\n",
       "\n",
       "    .dataframe tbody tr th {\n",
       "        vertical-align: top;\n",
       "    }\n",
       "\n",
       "    .dataframe thead tr th {\n",
       "        text-align: left;\n",
       "    }\n",
       "\n",
       "    .dataframe thead tr:last-of-type th {\n",
       "        text-align: right;\n",
       "    }\n",
       "</style>\n",
       "<table border=\"1\" class=\"dataframe\">\n",
       "  <thead>\n",
       "    <tr>\n",
       "      <th></th>\n",
       "      <th></th>\n",
       "      <th></th>\n",
       "      <th colspan=\"5\" halign=\"left\">Benchmarking Results: gpt-3.5-turbo-instruct</th>\n",
       "    </tr>\n",
       "    <tr>\n",
       "      <th></th>\n",
       "      <th></th>\n",
       "      <th></th>\n",
       "      <th>fail_count</th>\n",
       "      <th>pass_count</th>\n",
       "      <th>pass_rate</th>\n",
       "      <th>minimum_pass_rate</th>\n",
       "      <th>pass</th>\n",
       "    </tr>\n",
       "    <tr>\n",
       "      <th>dataset_name</th>\n",
       "      <th>category</th>\n",
       "      <th>test_type</th>\n",
       "      <th></th>\n",
       "      <th></th>\n",
       "      <th></th>\n",
       "      <th></th>\n",
       "      <th></th>\n",
       "    </tr>\n",
       "  </thead>\n",
       "  <tbody>\n",
       "    <tr>\n",
       "      <th rowspan=\"5\" valign=\"top\">BoolQ</th>\n",
       "      <th rowspan=\"5\" valign=\"top\">robustness</th>\n",
       "      <th>uppercase</th>\n",
       "      <td>0</td>\n",
       "      <td>5</td>\n",
       "      <td>100%</td>\n",
       "      <td>66%</td>\n",
       "      <td>True</td>\n",
       "    </tr>\n",
       "    <tr>\n",
       "      <th>dyslexia_word_swap</th>\n",
       "      <td>1</td>\n",
       "      <td>4</td>\n",
       "      <td>80%</td>\n",
       "      <td>60%</td>\n",
       "      <td>True</td>\n",
       "    </tr>\n",
       "    <tr>\n",
       "      <th>add_abbreviation</th>\n",
       "      <td>0</td>\n",
       "      <td>5</td>\n",
       "      <td>100%</td>\n",
       "      <td>60%</td>\n",
       "      <td>True</td>\n",
       "    </tr>\n",
       "    <tr>\n",
       "      <th>add_slangs</th>\n",
       "      <td>1</td>\n",
       "      <td>1</td>\n",
       "      <td>50%</td>\n",
       "      <td>60%</td>\n",
       "      <td>False</td>\n",
       "    </tr>\n",
       "    <tr>\n",
       "      <th>add_speech_to_text_typo</th>\n",
       "      <td>0</td>\n",
       "      <td>5</td>\n",
       "      <td>100%</td>\n",
       "      <td>60%</td>\n",
       "      <td>True</td>\n",
       "    </tr>\n",
       "    <tr>\n",
       "      <th rowspan=\"5\" valign=\"top\">NQ-open</th>\n",
       "      <th rowspan=\"5\" valign=\"top\">robustness</th>\n",
       "      <th>uppercase</th>\n",
       "      <td>1</td>\n",
       "      <td>4</td>\n",
       "      <td>80%</td>\n",
       "      <td>66%</td>\n",
       "      <td>True</td>\n",
       "    </tr>\n",
       "    <tr>\n",
       "      <th>dyslexia_word_swap</th>\n",
       "      <td>0</td>\n",
       "      <td>4</td>\n",
       "      <td>100%</td>\n",
       "      <td>60%</td>\n",
       "      <td>True</td>\n",
       "    </tr>\n",
       "    <tr>\n",
       "      <th>add_abbreviation</th>\n",
       "      <td>1</td>\n",
       "      <td>3</td>\n",
       "      <td>75%</td>\n",
       "      <td>60%</td>\n",
       "      <td>True</td>\n",
       "    </tr>\n",
       "    <tr>\n",
       "      <th>add_slangs</th>\n",
       "      <td>1</td>\n",
       "      <td>0</td>\n",
       "      <td>0%</td>\n",
       "      <td>60%</td>\n",
       "      <td>False</td>\n",
       "    </tr>\n",
       "    <tr>\n",
       "      <th>add_speech_to_text_typo</th>\n",
       "      <td>4</td>\n",
       "      <td>1</td>\n",
       "      <td>20%</td>\n",
       "      <td>60%</td>\n",
       "      <td>False</td>\n",
       "    </tr>\n",
       "    <tr>\n",
       "      <th rowspan=\"5\" valign=\"top\">MedQA</th>\n",
       "      <th rowspan=\"5\" valign=\"top\">robustness</th>\n",
       "      <th>uppercase</th>\n",
       "      <td>2</td>\n",
       "      <td>3</td>\n",
       "      <td>60%</td>\n",
       "      <td>66%</td>\n",
       "      <td>False</td>\n",
       "    </tr>\n",
       "    <tr>\n",
       "      <th>dyslexia_word_swap</th>\n",
       "      <td>1</td>\n",
       "      <td>4</td>\n",
       "      <td>80%</td>\n",
       "      <td>60%</td>\n",
       "      <td>True</td>\n",
       "    </tr>\n",
       "    <tr>\n",
       "      <th>add_abbreviation</th>\n",
       "      <td>2</td>\n",
       "      <td>3</td>\n",
       "      <td>60%</td>\n",
       "      <td>60%</td>\n",
       "      <td>True</td>\n",
       "    </tr>\n",
       "    <tr>\n",
       "      <th>add_slangs</th>\n",
       "      <td>2</td>\n",
       "      <td>3</td>\n",
       "      <td>60%</td>\n",
       "      <td>60%</td>\n",
       "      <td>True</td>\n",
       "    </tr>\n",
       "    <tr>\n",
       "      <th>add_speech_to_text_typo</th>\n",
       "      <td>2</td>\n",
       "      <td>3</td>\n",
       "      <td>60%</td>\n",
       "      <td>60%</td>\n",
       "      <td>True</td>\n",
       "    </tr>\n",
       "    <tr>\n",
       "      <th rowspan=\"5\" valign=\"top\">LogiQA</th>\n",
       "      <th rowspan=\"5\" valign=\"top\">robustness</th>\n",
       "      <th>uppercase</th>\n",
       "      <td>2</td>\n",
       "      <td>3</td>\n",
       "      <td>60%</td>\n",
       "      <td>66%</td>\n",
       "      <td>False</td>\n",
       "    </tr>\n",
       "    <tr>\n",
       "      <th>dyslexia_word_swap</th>\n",
       "      <td>1</td>\n",
       "      <td>4</td>\n",
       "      <td>80%</td>\n",
       "      <td>60%</td>\n",
       "      <td>True</td>\n",
       "    </tr>\n",
       "    <tr>\n",
       "      <th>add_abbreviation</th>\n",
       "      <td>2</td>\n",
       "      <td>3</td>\n",
       "      <td>60%</td>\n",
       "      <td>60%</td>\n",
       "      <td>True</td>\n",
       "    </tr>\n",
       "    <tr>\n",
       "      <th>add_slangs</th>\n",
       "      <td>1</td>\n",
       "      <td>3</td>\n",
       "      <td>75%</td>\n",
       "      <td>60%</td>\n",
       "      <td>True</td>\n",
       "    </tr>\n",
       "    <tr>\n",
       "      <th>add_speech_to_text_typo</th>\n",
       "      <td>1</td>\n",
       "      <td>4</td>\n",
       "      <td>80%</td>\n",
       "      <td>60%</td>\n",
       "      <td>True</td>\n",
       "    </tr>\n",
       "  </tbody>\n",
       "</table>\n",
       "</div>"
      ],
      "text/plain": [
       "                                                Benchmarking Results: gpt-3.5-turbo-instruct  \\\n",
       "                                                                                  fail_count   \n",
       "dataset_name category   test_type                                                              \n",
       "BoolQ        robustness uppercase                                                          0   \n",
       "                        dyslexia_word_swap                                                 1   \n",
       "                        add_abbreviation                                                   0   \n",
       "                        add_slangs                                                         1   \n",
       "                        add_speech_to_text_typo                                            0   \n",
       "NQ-open      robustness uppercase                                                          1   \n",
       "                        dyslexia_word_swap                                                 0   \n",
       "                        add_abbreviation                                                   1   \n",
       "                        add_slangs                                                         1   \n",
       "                        add_speech_to_text_typo                                            4   \n",
       "MedQA        robustness uppercase                                                          2   \n",
       "                        dyslexia_word_swap                                                 1   \n",
       "                        add_abbreviation                                                   2   \n",
       "                        add_slangs                                                         2   \n",
       "                        add_speech_to_text_typo                                            2   \n",
       "LogiQA       robustness uppercase                                                          2   \n",
       "                        dyslexia_word_swap                                                 1   \n",
       "                        add_abbreviation                                                   2   \n",
       "                        add_slangs                                                         1   \n",
       "                        add_speech_to_text_typo                                            1   \n",
       "\n",
       "                                                                      \\\n",
       "                                                pass_count pass_rate   \n",
       "dataset_name category   test_type                                      \n",
       "BoolQ        robustness uppercase                        5      100%   \n",
       "                        dyslexia_word_swap               4       80%   \n",
       "                        add_abbreviation                 5      100%   \n",
       "                        add_slangs                       1       50%   \n",
       "                        add_speech_to_text_typo          5      100%   \n",
       "NQ-open      robustness uppercase                        4       80%   \n",
       "                        dyslexia_word_swap               4      100%   \n",
       "                        add_abbreviation                 3       75%   \n",
       "                        add_slangs                       0        0%   \n",
       "                        add_speech_to_text_typo          1       20%   \n",
       "MedQA        robustness uppercase                        3       60%   \n",
       "                        dyslexia_word_swap               4       80%   \n",
       "                        add_abbreviation                 3       60%   \n",
       "                        add_slangs                       3       60%   \n",
       "                        add_speech_to_text_typo          3       60%   \n",
       "LogiQA       robustness uppercase                        3       60%   \n",
       "                        dyslexia_word_swap               4       80%   \n",
       "                        add_abbreviation                 3       60%   \n",
       "                        add_slangs                       3       75%   \n",
       "                        add_speech_to_text_typo          4       80%   \n",
       "\n",
       "                                                                          \n",
       "                                                minimum_pass_rate   pass  \n",
       "dataset_name category   test_type                                         \n",
       "BoolQ        robustness uppercase                             66%   True  \n",
       "                        dyslexia_word_swap                    60%   True  \n",
       "                        add_abbreviation                      60%   True  \n",
       "                        add_slangs                            60%  False  \n",
       "                        add_speech_to_text_typo               60%   True  \n",
       "NQ-open      robustness uppercase                             66%   True  \n",
       "                        dyslexia_word_swap                    60%   True  \n",
       "                        add_abbreviation                      60%   True  \n",
       "                        add_slangs                            60%  False  \n",
       "                        add_speech_to_text_typo               60%  False  \n",
       "MedQA        robustness uppercase                             66%  False  \n",
       "                        dyslexia_word_swap                    60%   True  \n",
       "                        add_abbreviation                      60%   True  \n",
       "                        add_slangs                            60%   True  \n",
       "                        add_speech_to_text_typo               60%   True  \n",
       "LogiQA       robustness uppercase                             66%  False  \n",
       "                        dyslexia_word_swap                    60%   True  \n",
       "                        add_abbreviation                      60%   True  \n",
       "                        add_slangs                            60%   True  \n",
       "                        add_speech_to_text_typo               60%   True  "
      ]
     },
     "execution_count": 11,
     "metadata": {},
     "output_type": "execute_result"
    }
   ],
   "source": [
    "harness.report()"
   ]
  }
 ],
 "metadata": {
  "colab": {
   "provenance": [],
   "toc_visible": true
  },
  "kernelspec": {
   "display_name": "Python 3",
   "name": "python3"
  },
  "language_info": {
   "codemirror_mode": {
    "name": "ipython",
    "version": 3
   },
   "file_extension": ".py",
   "mimetype": "text/x-python",
   "name": "python",
   "nbconvert_exporter": "python",
   "pygments_lexer": "ipython3",
   "version": "3.8.10"
  },
  "widgets": {
   "application/vnd.jupyter.widget-state+json": {
    "15398d3874e94df1ac6522838e13ad0c": {
     "model_module": "@jupyter-widgets/controls",
     "model_module_version": "1.5.0",
     "model_name": "HTMLModel",
     "state": {
      "_dom_classes": [],
      "_model_module": "@jupyter-widgets/controls",
      "_model_module_version": "1.5.0",
      "_model_name": "HTMLModel",
      "_view_count": null,
      "_view_module": "@jupyter-widgets/controls",
      "_view_module_version": "1.5.0",
      "_view_name": "HTMLView",
      "description": "",
      "description_tooltip": null,
      "layout": "IPY_MODEL_2d921b11f11d4c53a321f7655680694f",
      "placeholder": "​",
      "style": "IPY_MODEL_e40d524a1c5942c0afb8ce31aedf3887",
      "value": " 5.67k/5.67k [00:00&lt;00:00, 389kB/s]"
     }
    },
    "2879b073fcb04b98b719cb4588014355": {
     "model_module": "@jupyter-widgets/base",
     "model_module_version": "1.2.0",
     "model_name": "LayoutModel",
     "state": {
      "_model_module": "@jupyter-widgets/base",
      "_model_module_version": "1.2.0",
      "_model_name": "LayoutModel",
      "_view_count": null,
      "_view_module": "@jupyter-widgets/base",
      "_view_module_version": "1.2.0",
      "_view_name": "LayoutView",
      "align_content": null,
      "align_items": null,
      "align_self": null,
      "border": null,
      "bottom": null,
      "display": null,
      "flex": null,
      "flex_flow": null,
      "grid_area": null,
      "grid_auto_columns": null,
      "grid_auto_flow": null,
      "grid_auto_rows": null,
      "grid_column": null,
      "grid_gap": null,
      "grid_row": null,
      "grid_template_areas": null,
      "grid_template_columns": null,
      "grid_template_rows": null,
      "height": null,
      "justify_content": null,
      "justify_items": null,
      "left": null,
      "margin": null,
      "max_height": null,
      "max_width": null,
      "min_height": null,
      "min_width": null,
      "object_fit": null,
      "object_position": null,
      "order": null,
      "overflow": null,
      "overflow_x": null,
      "overflow_y": null,
      "padding": null,
      "right": null,
      "top": null,
      "visibility": null,
      "width": null
     }
    },
    "296965fa35704282a286cc46b9916317": {
     "model_module": "@jupyter-widgets/controls",
     "model_module_version": "1.5.0",
     "model_name": "ProgressStyleModel",
     "state": {
      "_model_module": "@jupyter-widgets/controls",
      "_model_module_version": "1.5.0",
      "_model_name": "ProgressStyleModel",
      "_view_count": null,
      "_view_module": "@jupyter-widgets/base",
      "_view_module_version": "1.2.0",
      "_view_name": "StyleView",
      "bar_color": null,
      "description_width": ""
     }
    },
    "2d921b11f11d4c53a321f7655680694f": {
     "model_module": "@jupyter-widgets/base",
     "model_module_version": "1.2.0",
     "model_name": "LayoutModel",
     "state": {
      "_model_module": "@jupyter-widgets/base",
      "_model_module_version": "1.2.0",
      "_model_name": "LayoutModel",
      "_view_count": null,
      "_view_module": "@jupyter-widgets/base",
      "_view_module_version": "1.2.0",
      "_view_name": "LayoutView",
      "align_content": null,
      "align_items": null,
      "align_self": null,
      "border": null,
      "bottom": null,
      "display": null,
      "flex": null,
      "flex_flow": null,
      "grid_area": null,
      "grid_auto_columns": null,
      "grid_auto_flow": null,
      "grid_auto_rows": null,
      "grid_column": null,
      "grid_gap": null,
      "grid_row": null,
      "grid_template_areas": null,
      "grid_template_columns": null,
      "grid_template_rows": null,
      "height": null,
      "justify_content": null,
      "justify_items": null,
      "left": null,
      "margin": null,
      "max_height": null,
      "max_width": null,
      "min_height": null,
      "min_width": null,
      "object_fit": null,
      "object_position": null,
      "order": null,
      "overflow": null,
      "overflow_x": null,
      "overflow_y": null,
      "padding": null,
      "right": null,
      "top": null,
      "visibility": null,
      "width": null
     }
    },
    "31d80c12050640099352549928bb2478": {
     "model_module": "@jupyter-widgets/base",
     "model_module_version": "1.2.0",
     "model_name": "LayoutModel",
     "state": {
      "_model_module": "@jupyter-widgets/base",
      "_model_module_version": "1.2.0",
      "_model_name": "LayoutModel",
      "_view_count": null,
      "_view_module": "@jupyter-widgets/base",
      "_view_module_version": "1.2.0",
      "_view_name": "LayoutView",
      "align_content": null,
      "align_items": null,
      "align_self": null,
      "border": null,
      "bottom": null,
      "display": null,
      "flex": null,
      "flex_flow": null,
      "grid_area": null,
      "grid_auto_columns": null,
      "grid_auto_flow": null,
      "grid_auto_rows": null,
      "grid_column": null,
      "grid_gap": null,
      "grid_row": null,
      "grid_template_areas": null,
      "grid_template_columns": null,
      "grid_template_rows": null,
      "height": null,
      "justify_content": null,
      "justify_items": null,
      "left": null,
      "margin": null,
      "max_height": null,
      "max_width": null,
      "min_height": null,
      "min_width": null,
      "object_fit": null,
      "object_position": null,
      "order": null,
      "overflow": null,
      "overflow_x": null,
      "overflow_y": null,
      "padding": null,
      "right": null,
      "top": null,
      "visibility": null,
      "width": null
     }
    },
    "4508773a55994e9cb874e6378ebe8c9b": {
     "model_module": "@jupyter-widgets/base",
     "model_module_version": "1.2.0",
     "model_name": "LayoutModel",
     "state": {
      "_model_module": "@jupyter-widgets/base",
      "_model_module_version": "1.2.0",
      "_model_name": "LayoutModel",
      "_view_count": null,
      "_view_module": "@jupyter-widgets/base",
      "_view_module_version": "1.2.0",
      "_view_name": "LayoutView",
      "align_content": null,
      "align_items": null,
      "align_self": null,
      "border": null,
      "bottom": null,
      "display": null,
      "flex": null,
      "flex_flow": null,
      "grid_area": null,
      "grid_auto_columns": null,
      "grid_auto_flow": null,
      "grid_auto_rows": null,
      "grid_column": null,
      "grid_gap": null,
      "grid_row": null,
      "grid_template_areas": null,
      "grid_template_columns": null,
      "grid_template_rows": null,
      "height": null,
      "justify_content": null,
      "justify_items": null,
      "left": null,
      "margin": null,
      "max_height": null,
      "max_width": null,
      "min_height": null,
      "min_width": null,
      "object_fit": null,
      "object_position": null,
      "order": null,
      "overflow": null,
      "overflow_x": null,
      "overflow_y": null,
      "padding": null,
      "right": null,
      "top": null,
      "visibility": null,
      "width": null
     }
    },
    "4b1f6e8e37a24eaaa2df3f6e7a055bc2": {
     "model_module": "@jupyter-widgets/controls",
     "model_module_version": "1.5.0",
     "model_name": "HTMLModel",
     "state": {
      "_dom_classes": [],
      "_model_module": "@jupyter-widgets/controls",
      "_model_module_version": "1.5.0",
      "_model_name": "HTMLModel",
      "_view_count": null,
      "_view_module": "@jupyter-widgets/controls",
      "_view_module_version": "1.5.0",
      "_view_name": "HTMLView",
      "description": "",
      "description_tooltip": null,
      "layout": "IPY_MODEL_4508773a55994e9cb874e6378ebe8c9b",
      "placeholder": "​",
      "style": "IPY_MODEL_4b9eb7da58a94a609e8366810223dc5d",
      "value": "Downloading builder script: 100%"
     }
    },
    "4b9eb7da58a94a609e8366810223dc5d": {
     "model_module": "@jupyter-widgets/controls",
     "model_module_version": "1.5.0",
     "model_name": "DescriptionStyleModel",
     "state": {
      "_model_module": "@jupyter-widgets/controls",
      "_model_module_version": "1.5.0",
      "_model_name": "DescriptionStyleModel",
      "_view_count": null,
      "_view_module": "@jupyter-widgets/base",
      "_view_module_version": "1.2.0",
      "_view_name": "StyleView",
      "description_width": ""
     }
    },
    "4f4803210b5b4fcab023adad5b0dc68a": {
     "model_module": "@jupyter-widgets/base",
     "model_module_version": "1.2.0",
     "model_name": "LayoutModel",
     "state": {
      "_model_module": "@jupyter-widgets/base",
      "_model_module_version": "1.2.0",
      "_model_name": "LayoutModel",
      "_view_count": null,
      "_view_module": "@jupyter-widgets/base",
      "_view_module_version": "1.2.0",
      "_view_name": "LayoutView",
      "align_content": null,
      "align_items": null,
      "align_self": null,
      "border": null,
      "bottom": null,
      "display": null,
      "flex": null,
      "flex_flow": null,
      "grid_area": null,
      "grid_auto_columns": null,
      "grid_auto_flow": null,
      "grid_auto_rows": null,
      "grid_column": null,
      "grid_gap": null,
      "grid_row": null,
      "grid_template_areas": null,
      "grid_template_columns": null,
      "grid_template_rows": null,
      "height": null,
      "justify_content": null,
      "justify_items": null,
      "left": null,
      "margin": null,
      "max_height": null,
      "max_width": null,
      "min_height": null,
      "min_width": null,
      "object_fit": null,
      "object_position": null,
      "order": null,
      "overflow": null,
      "overflow_x": null,
      "overflow_y": null,
      "padding": null,
      "right": null,
      "top": null,
      "visibility": null,
      "width": null
     }
    },
    "7094f04d678e4a15869b56aea23b0061": {
     "model_module": "@jupyter-widgets/controls",
     "model_module_version": "1.5.0",
     "model_name": "DescriptionStyleModel",
     "state": {
      "_model_module": "@jupyter-widgets/controls",
      "_model_module_version": "1.5.0",
      "_model_name": "DescriptionStyleModel",
      "_view_count": null,
      "_view_module": "@jupyter-widgets/base",
      "_view_module_version": "1.2.0",
      "_view_name": "StyleView",
      "description_width": ""
     }
    },
    "7f39ae657f9d4931852e4445daa9d6c0": {
     "model_module": "@jupyter-widgets/controls",
     "model_module_version": "1.5.0",
     "model_name": "ProgressStyleModel",
     "state": {
      "_model_module": "@jupyter-widgets/controls",
      "_model_module_version": "1.5.0",
      "_model_name": "ProgressStyleModel",
      "_view_count": null,
      "_view_module": "@jupyter-widgets/base",
      "_view_module_version": "1.2.0",
      "_view_name": "StyleView",
      "bar_color": null,
      "description_width": ""
     }
    },
    "7fcadcf013864862b7315bd3f8ea7b6c": {
     "model_module": "@jupyter-widgets/controls",
     "model_module_version": "1.5.0",
     "model_name": "HBoxModel",
     "state": {
      "_dom_classes": [],
      "_model_module": "@jupyter-widgets/controls",
      "_model_module_version": "1.5.0",
      "_model_name": "HBoxModel",
      "_view_count": null,
      "_view_module": "@jupyter-widgets/controls",
      "_view_module_version": "1.5.0",
      "_view_name": "HBoxView",
      "box_style": "",
      "children": [
       "IPY_MODEL_a87dd94e12614c569730fd85cd9441af",
       "IPY_MODEL_e3d98ad2bb7f411db994c4ecb0919633",
       "IPY_MODEL_15398d3874e94df1ac6522838e13ad0c"
      ],
      "layout": "IPY_MODEL_4f4803210b5b4fcab023adad5b0dc68a"
     }
    },
    "84ea5fe79f7c43279f5f82f9020608ce": {
     "model_module": "@jupyter-widgets/base",
     "model_module_version": "1.2.0",
     "model_name": "LayoutModel",
     "state": {
      "_model_module": "@jupyter-widgets/base",
      "_model_module_version": "1.2.0",
      "_model_name": "LayoutModel",
      "_view_count": null,
      "_view_module": "@jupyter-widgets/base",
      "_view_module_version": "1.2.0",
      "_view_name": "LayoutView",
      "align_content": null,
      "align_items": null,
      "align_self": null,
      "border": null,
      "bottom": null,
      "display": null,
      "flex": null,
      "flex_flow": null,
      "grid_area": null,
      "grid_auto_columns": null,
      "grid_auto_flow": null,
      "grid_auto_rows": null,
      "grid_column": null,
      "grid_gap": null,
      "grid_row": null,
      "grid_template_areas": null,
      "grid_template_columns": null,
      "grid_template_rows": null,
      "height": null,
      "justify_content": null,
      "justify_items": null,
      "left": null,
      "margin": null,
      "max_height": null,
      "max_width": null,
      "min_height": null,
      "min_width": null,
      "object_fit": null,
      "object_position": null,
      "order": null,
      "overflow": null,
      "overflow_x": null,
      "overflow_y": null,
      "padding": null,
      "right": null,
      "top": null,
      "visibility": null,
      "width": null
     }
    },
    "a48d6d06d40241d9af78b489116357df": {
     "model_module": "@jupyter-widgets/base",
     "model_module_version": "1.2.0",
     "model_name": "LayoutModel",
     "state": {
      "_model_module": "@jupyter-widgets/base",
      "_model_module_version": "1.2.0",
      "_model_name": "LayoutModel",
      "_view_count": null,
      "_view_module": "@jupyter-widgets/base",
      "_view_module_version": "1.2.0",
      "_view_name": "LayoutView",
      "align_content": null,
      "align_items": null,
      "align_self": null,
      "border": null,
      "bottom": null,
      "display": null,
      "flex": null,
      "flex_flow": null,
      "grid_area": null,
      "grid_auto_columns": null,
      "grid_auto_flow": null,
      "grid_auto_rows": null,
      "grid_column": null,
      "grid_gap": null,
      "grid_row": null,
      "grid_template_areas": null,
      "grid_template_columns": null,
      "grid_template_rows": null,
      "height": null,
      "justify_content": null,
      "justify_items": null,
      "left": null,
      "margin": null,
      "max_height": null,
      "max_width": null,
      "min_height": null,
      "min_width": null,
      "object_fit": null,
      "object_position": null,
      "order": null,
      "overflow": null,
      "overflow_x": null,
      "overflow_y": null,
      "padding": null,
      "right": null,
      "top": null,
      "visibility": null,
      "width": null
     }
    },
    "a6be4f84c9204246be7d663548930fa3": {
     "model_module": "@jupyter-widgets/base",
     "model_module_version": "1.2.0",
     "model_name": "LayoutModel",
     "state": {
      "_model_module": "@jupyter-widgets/base",
      "_model_module_version": "1.2.0",
      "_model_name": "LayoutModel",
      "_view_count": null,
      "_view_module": "@jupyter-widgets/base",
      "_view_module_version": "1.2.0",
      "_view_name": "LayoutView",
      "align_content": null,
      "align_items": null,
      "align_self": null,
      "border": null,
      "bottom": null,
      "display": null,
      "flex": null,
      "flex_flow": null,
      "grid_area": null,
      "grid_auto_columns": null,
      "grid_auto_flow": null,
      "grid_auto_rows": null,
      "grid_column": null,
      "grid_gap": null,
      "grid_row": null,
      "grid_template_areas": null,
      "grid_template_columns": null,
      "grid_template_rows": null,
      "height": null,
      "justify_content": null,
      "justify_items": null,
      "left": null,
      "margin": null,
      "max_height": null,
      "max_width": null,
      "min_height": null,
      "min_width": null,
      "object_fit": null,
      "object_position": null,
      "order": null,
      "overflow": null,
      "overflow_x": null,
      "overflow_y": null,
      "padding": null,
      "right": null,
      "top": null,
      "visibility": null,
      "width": null
     }
    },
    "a87dd94e12614c569730fd85cd9441af": {
     "model_module": "@jupyter-widgets/controls",
     "model_module_version": "1.5.0",
     "model_name": "HTMLModel",
     "state": {
      "_dom_classes": [],
      "_model_module": "@jupyter-widgets/controls",
      "_model_module_version": "1.5.0",
      "_model_name": "HTMLModel",
      "_view_count": null,
      "_view_module": "@jupyter-widgets/controls",
      "_view_module_version": "1.5.0",
      "_view_name": "HTMLView",
      "description": "",
      "description_tooltip": null,
      "layout": "IPY_MODEL_84ea5fe79f7c43279f5f82f9020608ce",
      "placeholder": "​",
      "style": "IPY_MODEL_7094f04d678e4a15869b56aea23b0061",
      "value": "Downloading builder script: 100%"
     }
    },
    "ac3e4699290f49ea9594d8c3e6f8f524": {
     "model_module": "@jupyter-widgets/controls",
     "model_module_version": "1.5.0",
     "model_name": "DescriptionStyleModel",
     "state": {
      "_model_module": "@jupyter-widgets/controls",
      "_model_module_version": "1.5.0",
      "_model_name": "DescriptionStyleModel",
      "_view_count": null,
      "_view_module": "@jupyter-widgets/base",
      "_view_module_version": "1.2.0",
      "_view_name": "StyleView",
      "description_width": ""
     }
    },
    "e3d98ad2bb7f411db994c4ecb0919633": {
     "model_module": "@jupyter-widgets/controls",
     "model_module_version": "1.5.0",
     "model_name": "FloatProgressModel",
     "state": {
      "_dom_classes": [],
      "_model_module": "@jupyter-widgets/controls",
      "_model_module_version": "1.5.0",
      "_model_name": "FloatProgressModel",
      "_view_count": null,
      "_view_module": "@jupyter-widgets/controls",
      "_view_module_version": "1.5.0",
      "_view_name": "ProgressView",
      "bar_style": "success",
      "description": "",
      "description_tooltip": null,
      "layout": "IPY_MODEL_a6be4f84c9204246be7d663548930fa3",
      "max": 5669,
      "min": 0,
      "orientation": "horizontal",
      "style": "IPY_MODEL_296965fa35704282a286cc46b9916317",
      "value": 5669
     }
    },
    "e40d524a1c5942c0afb8ce31aedf3887": {
     "model_module": "@jupyter-widgets/controls",
     "model_module_version": "1.5.0",
     "model_name": "DescriptionStyleModel",
     "state": {
      "_model_module": "@jupyter-widgets/controls",
      "_model_module_version": "1.5.0",
      "_model_name": "DescriptionStyleModel",
      "_view_count": null,
      "_view_module": "@jupyter-widgets/base",
      "_view_module_version": "1.2.0",
      "_view_name": "StyleView",
      "description_width": ""
     }
    },
    "ed7b311df5554bc0833a04c9aeb33461": {
     "model_module": "@jupyter-widgets/controls",
     "model_module_version": "1.5.0",
     "model_name": "FloatProgressModel",
     "state": {
      "_dom_classes": [],
      "_model_module": "@jupyter-widgets/controls",
      "_model_module_version": "1.5.0",
      "_model_name": "FloatProgressModel",
      "_view_count": null,
      "_view_module": "@jupyter-widgets/controls",
      "_view_module_version": "1.5.0",
      "_view_name": "ProgressView",
      "bar_style": "success",
      "description": "",
      "description_tooltip": null,
      "layout": "IPY_MODEL_31d80c12050640099352549928bb2478",
      "max": 6270,
      "min": 0,
      "orientation": "horizontal",
      "style": "IPY_MODEL_7f39ae657f9d4931852e4445daa9d6c0",
      "value": 6270
     }
    },
    "f42ac25dbfa242b899104710097e26c5": {
     "model_module": "@jupyter-widgets/controls",
     "model_module_version": "1.5.0",
     "model_name": "HBoxModel",
     "state": {
      "_dom_classes": [],
      "_model_module": "@jupyter-widgets/controls",
      "_model_module_version": "1.5.0",
      "_model_name": "HBoxModel",
      "_view_count": null,
      "_view_module": "@jupyter-widgets/controls",
      "_view_module_version": "1.5.0",
      "_view_name": "HBoxView",
      "box_style": "",
      "children": [
       "IPY_MODEL_4b1f6e8e37a24eaaa2df3f6e7a055bc2",
       "IPY_MODEL_ed7b311df5554bc0833a04c9aeb33461",
       "IPY_MODEL_f68d471fc390442cab9be0680cc72648"
      ],
      "layout": "IPY_MODEL_a48d6d06d40241d9af78b489116357df"
     }
    },
    "f68d471fc390442cab9be0680cc72648": {
     "model_module": "@jupyter-widgets/controls",
     "model_module_version": "1.5.0",
     "model_name": "HTMLModel",
     "state": {
      "_dom_classes": [],
      "_model_module": "@jupyter-widgets/controls",
      "_model_module_version": "1.5.0",
      "_model_name": "HTMLModel",
      "_view_count": null,
      "_view_module": "@jupyter-widgets/controls",
      "_view_module_version": "1.5.0",
      "_view_name": "HTMLView",
      "description": "",
      "description_tooltip": null,
      "layout": "IPY_MODEL_2879b073fcb04b98b719cb4588014355",
      "placeholder": "​",
      "style": "IPY_MODEL_ac3e4699290f49ea9594d8c3e6f8f524",
      "value": " 6.27k/6.27k [00:00&lt;00:00, 270kB/s]"
     }
    }
   }
  }
 },
 "nbformat": 4,
 "nbformat_minor": 0
}
