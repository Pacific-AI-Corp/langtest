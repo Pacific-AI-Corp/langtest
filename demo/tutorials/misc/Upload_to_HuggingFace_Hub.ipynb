{
  "cells": [
    {
      "cell_type": "markdown",
      "metadata": {
        "id": "e7PsSmy9sCoR"
      },
      "source": [
        "![logog](https://raw.githubusercontent.com/Pacific-AI-Corp/langtest/main/docs/assets/images/logo.png)"
      ]
    },
    {
      "cell_type": "markdown",
      "metadata": {
        "id": "MhgkQYQiEvZt"
      },
      "source": [
        "[![Open In Colab](https://colab.research.google.com/assets/colab-badge.svg)](https://colab.research.google.com/github/Pacific-AI-Corp/langtest/blob/main/demo/tutorials/misc/Upload_to_HuggingFace_Hub.ipynb)"
      ]
    },
    {
      "cell_type": "markdown",
      "metadata": {
        "id": "WJJzt3RWhEc6"
      },
      "source": [
        "**LangTest** is an open-source python library designed to help developers deliver safe and effective Natural Language Processing (NLP) models. Whether you are using **John Snow Labs, Hugging Face, Spacy** models or **OpenAI, Cohere, AI21, Hugging Face Inference API and Azure-OpenAI** based LLMs, it has got you covered. You can test any Named Entity Recognition (NER), Text Classification, fill-mask, Translation model using the library. We also support testing LLMS for Question-Answering, Summarization and text-generation tasks on benchmark datasets. The library supports 60+ out of the box tests. For a complete list of supported test categories, please refer to the [documentation](http://langtest.org/docs/pages/docs/test_categories).\n",
        "\n",
        "Metrics are calculated by comparing the model's extractions in the original list of sentences against the extractions carried out in the noisy list of sentences. The original annotated labels are not used at any point, we are simply comparing the model against itself in a 2 settings."
      ]
    },
    {
      "cell_type": "markdown",
      "metadata": {
        "id": "26qXWhCYhHAt"
      },
      "source": [
        "# Getting started with LangTest on John Snow Labs"
      ]
    },
    {
      "cell_type": "code",
      "execution_count": null,
      "metadata": {
        "id": "oGIyE43uhTxH"
      },
      "outputs": [],
      "source": [
        "!pip install \"langtest[johnsnowlabs,transformers]\" "
      ]
    },
    {
      "cell_type": "markdown",
      "metadata": {
        "id": "yR6kjOaiheKN"
      },
      "source": [
        "# Harness and its Parameters\n",
        "\n",
        "The Harness class is a testing class for Natural Language Processing (NLP) models. It evaluates the performance of a NLP model on a given task using test data and generates a report with test results.Harness can be imported from the LangTest library in the following way."
      ]
    },
    {
      "cell_type": "code",
      "execution_count": 7,
      "metadata": {
        "id": "lTzSJpMlhgq5"
      },
      "outputs": [],
      "source": [
        "#Import Harness from the LangTest library\n",
        "from langtest import Harness"
      ]
    },
    {
      "cell_type": "markdown",
      "metadata": {
        "id": "sBcZjwJBhkOw"
      },
      "source": [
        "It imports the Harness class from within the module, that is designed to provide a blueprint or framework for conducting NLP testing, and that instances of the Harness class can be customized or configured for different testing scenarios or environments.\n",
        "\n",
        "Here is a list of the different parameters that can be passed to the Harness function:\n",
        "\n",
        "<br/>\n",
        "\n",
        "\n",
        "| Parameter     | Description |\n",
        "| - | - |\n",
        "| **task**      | Task for which the model is to be evaluated (text-classification or ner) |\n",
        "| **model**     | Specifies the model(s) to be evaluated. This parameter can be provided as either a dictionary or a list of dictionaries. Each dictionary should contain the following keys: <ul><li>model (mandatory): \tPipelineModel or path to a saved model or pretrained pipeline/model from hub.</li><li>hub (mandatory): Hub (library) to use in back-end for loading model from public models hub or from path</li></ul>|\n",
        "| **data**      | The data to be used for evaluation. A dictionary providing flexibility and options for data sources. It should include the following keys: <ul><li>data_source (mandatory): The source of the data.</li><li>subset (optional): The subset of the data.</li><li>feature_column (optional): The column containing the features.</li><li>target_column (optional): The column containing the target labels.</li><li>split (optional): The data split to be used.</li><li>source (optional): Set to 'huggingface' when loading Hugging Face dataset.</li></ul> |\n",
        "| **config**    | Configuration for the tests to be performed, specified in the form of a YAML file. |\n",
        "\n",
        "<br/>\n",
        "<br/>"
      ]
    },
    {
      "cell_type": "markdown",
      "metadata": {
        "id": "UXd8Nvg23UTf"
      },
      "source": [
        "# HuggingFace Dataset Augmentation for Text Classification"
      ]
    },
    {
      "cell_type": "markdown",
      "metadata": {
        "id": "ob4MXZW-CoZx"
      },
      "source": [
        "### Installing required dependencies"
      ]
    },
    {
      "cell_type": "code",
      "execution_count": null,
      "metadata": {
        "id": "10A82M0q6nj3"
      },
      "outputs": [],
      "source": [
        "!pip install datasets"
      ]
    },
    {
      "cell_type": "markdown",
      "metadata": {
        "id": "dNex30tpClAi"
      },
      "source": [
        "### Setup and Configure Harness"
      ]
    },
    {
      "cell_type": "code",
      "execution_count": 41,
      "metadata": {
        "colab": {
          "base_uri": "https://localhost:8080/"
        },
        "id": "SBMhtvqV3AUm",
        "outputId": "57c09f14-ed87-4287-e44e-4a0f3440e9f5"
      },
      "outputs": [
        {
          "name": "stdout",
          "output_type": "stream",
          "text": [
            "Test Configuration : \n",
            " {\n",
            " \"tests\": {\n",
            "  \"defaults\": {\n",
            "   \"min_pass_rate\": 1.0\n",
            "  },\n",
            "  \"robustness\": {\n",
            "   \"add_typo\": {\n",
            "    \"min_pass_rate\": 0.7\n",
            "   },\n",
            "   \"american_to_british\": {\n",
            "    \"min_pass_rate\": 0.7\n",
            "   }\n",
            "  },\n",
            "  \"accuracy\": {\n",
            "   \"min_micro_f1_score\": {\n",
            "    \"min_score\": 0.7\n",
            "   }\n",
            "  },\n",
            "  \"bias\": {\n",
            "   \"replace_to_female_pronouns\": {\n",
            "    \"min_pass_rate\": 0.7\n",
            "   },\n",
            "   \"replace_to_low_income_country\": {\n",
            "    \"min_pass_rate\": 0.7\n",
            "   }\n",
            "  },\n",
            "  \"fairness\": {\n",
            "   \"min_gender_f1_score\": {\n",
            "    \"min_score\": 0.6\n",
            "   }\n",
            "  },\n",
            "  \"representation\": {\n",
            "   \"min_label_representation_count\": {\n",
            "    \"min_count\": 50\n",
            "   }\n",
            "  }\n",
            " }\n",
            "}\n"
          ]
        }
      ],
      "source": [
        "harness = Harness(task=\"text-classification\",\n",
        "                  model={\"model\":\"distilbert-base-uncased-finetuned-sst-2-english\", \"hub\":\"huggingface\"},\n",
        "                  data={\"data_source\":'glue',\n",
        "                  \"subset\":\"sst2\",\n",
        "                  \"feature_column\":\"sentence\",\n",
        "                  \"target_column\":'label',\n",
        "                  \"split\":\"train\",\n",
        "                  \"source\": \"huggingface\"\n",
        "                  })"
      ]
    },
    {
      "cell_type": "code",
      "execution_count": 42,
      "metadata": {
        "colab": {
          "base_uri": "https://localhost:8080/"
        },
        "id": "34SjM0fp6kor",
        "outputId": "1e42cd30-7b51-42bd-932b-9d503ce09fca"
      },
      "outputs": [
        {
          "data": {
            "text/plain": [
              "{'tests': {'defaults': {'min_pass_rate': 0.65},\n",
              "  'robustness': {'add_speech_to_text_typo': {'min_pass_rate': 0.6},\n",
              "   'add_ocr_typo': {'min_pass_rate': 0.6}}}}"
            ]
          },
          "execution_count": 42,
          "metadata": {},
          "output_type": "execute_result"
        }
      ],
      "source": [
        "harness.configure(\n",
        "{\n",
        " 'tests': {'defaults': {'min_pass_rate': 0.65},\n",
        "           'robustness': {'add_speech_to_text_typo':{'min_pass_rate': 0.60},\n",
        "                          'add_ocr_typo':{'min_pass_rate': 0.60},\n",
        "                        }\n",
        "          }\n",
        " }\n",
        " )"
      ]
    },
    {
      "cell_type": "code",
      "execution_count": 43,
      "metadata": {
        "id": "DLF24Tj_62DI"
      },
      "outputs": [],
      "source": [
        "# Limit the data to the first 500 samples\n",
        "harness.data = harness.data[:500]"
      ]
    },
    {
      "cell_type": "markdown",
      "metadata": {
        "id": "5wAc9cbhCawc"
      },
      "source": [
        "### Generating the test cases"
      ]
    },
    {
      "cell_type": "markdown",
      "metadata": {
        "id": "aaQ1kZMjCd3p"
      },
      "source": [
        "harness.generate() method automatically generates the test cases (based on the provided configuration)"
      ]
    },
    {
      "cell_type": "code",
      "execution_count": 44,
      "metadata": {
        "colab": {
          "base_uri": "https://localhost:8080/"
        },
        "id": "Yg03CJTQ64cE",
        "outputId": "474a2a51-56fc-40b6-95f2-17e1e3e30db6"
      },
      "outputs": [
        {
          "name": "stderr",
          "output_type": "stream",
          "text": [
            "Generating testcases...: 100%|██████████| 1/1 [00:00<00:00, 348.05it/s]\n"
          ]
        },
        {
          "data": {
            "text/plain": []
          },
          "execution_count": 44,
          "metadata": {},
          "output_type": "execute_result"
        }
      ],
      "source": [
        "harness.generate()"
      ]
    },
    {
      "cell_type": "markdown",
      "metadata": {
        "id": "4QjiSxKLCT_1"
      },
      "source": [
        "### Running the tests"
      ]
    },
    {
      "cell_type": "code",
      "execution_count": 45,
      "metadata": {
        "colab": {
          "base_uri": "https://localhost:8080/"
        },
        "id": "JooWo_t86565",
        "outputId": "d96be531-811d-485b-bb48-f90965d49183"
      },
      "outputs": [
        {
          "name": "stderr",
          "output_type": "stream",
          "text": [
            "Running testcases... : 100%|██████████| 1000/1000 [02:05<00:00,  7.98it/s]\n"
          ]
        },
        {
          "data": {
            "text/plain": []
          },
          "execution_count": 45,
          "metadata": {},
          "output_type": "execute_result"
        }
      ],
      "source": [
        "harness.run()"
      ]
    },
    {
      "cell_type": "markdown",
      "metadata": {
        "id": "sVjN4Tb-CWmm"
      },
      "source": [
        "Called after harness.generate() and is to used to run all the tests. Returns a pass/fail flag for each test."
      ]
    },
    {
      "cell_type": "code",
      "execution_count": 46,
      "metadata": {
        "colab": {
          "base_uri": "https://localhost:8080/",
          "height": 624
        },
        "id": "thIlr0uJ67O_",
        "outputId": "3a4251f2-0e11-41e6-a744-63b8fd7bf764"
      },
      "outputs": [
        {
          "data": {
            "text/html": [
              "\n",
              "\n",
              "  <div id=\"df-d4ff6c75-1edc-4af2-a0d6-221a285928ee\">\n",
              "    <div class=\"colab-df-container\">\n",
              "      <div>\n",
              "<style scoped>\n",
              "    .dataframe tbody tr th:only-of-type {\n",
              "        vertical-align: middle;\n",
              "    }\n",
              "\n",
              "    .dataframe tbody tr th {\n",
              "        vertical-align: top;\n",
              "    }\n",
              "\n",
              "    .dataframe thead th {\n",
              "        text-align: right;\n",
              "    }\n",
              "</style>\n",
              "<table border=\"1\" class=\"dataframe\">\n",
              "  <thead>\n",
              "    <tr style=\"text-align: right;\">\n",
              "      <th></th>\n",
              "      <th>category</th>\n",
              "      <th>test_type</th>\n",
              "      <th>original</th>\n",
              "      <th>test_case</th>\n",
              "      <th>expected_result</th>\n",
              "      <th>actual_result</th>\n",
              "      <th>pass</th>\n",
              "    </tr>\n",
              "  </thead>\n",
              "  <tbody>\n",
              "    <tr>\n",
              "      <th>0</th>\n",
              "      <td>robustness</td>\n",
              "      <td>add_speech_to_text_typo</td>\n",
              "      <td>hide new secretions from the parental units</td>\n",
              "      <td>hide new secretions frum the parental units'</td>\n",
              "      <td>NEGATIVE</td>\n",
              "      <td>NEGATIVE</td>\n",
              "      <td>True</td>\n",
              "    </tr>\n",
              "    <tr>\n",
              "      <th>1</th>\n",
              "      <td>robustness</td>\n",
              "      <td>add_speech_to_text_typo</td>\n",
              "      <td>contains no wit , only labored gags</td>\n",
              "      <td>contains know witte , only labored gags</td>\n",
              "      <td>NEGATIVE</td>\n",
              "      <td>NEGATIVE</td>\n",
              "      <td>True</td>\n",
              "    </tr>\n",
              "    <tr>\n",
              "      <th>2</th>\n",
              "      <td>robustness</td>\n",
              "      <td>add_speech_to_text_typo</td>\n",
              "      <td>that loves its characters and communicates som...</td>\n",
              "      <td>that loves its characters and communicates som...</td>\n",
              "      <td>POSITIVE</td>\n",
              "      <td>POSITIVE</td>\n",
              "      <td>True</td>\n",
              "    </tr>\n",
              "    <tr>\n",
              "      <th>3</th>\n",
              "      <td>robustness</td>\n",
              "      <td>add_speech_to_text_typo</td>\n",
              "      <td>remains utterly satisfied to remain the same t...</td>\n",
              "      <td>remains utterly satisfied to remain the sejm t...</td>\n",
              "      <td>NEGATIVE</td>\n",
              "      <td>NEGATIVE</td>\n",
              "      <td>True</td>\n",
              "    </tr>\n",
              "    <tr>\n",
              "      <th>4</th>\n",
              "      <td>robustness</td>\n",
              "      <td>add_speech_to_text_typo</td>\n",
              "      <td>on the worst revenge-of-the-nerds clichés the ...</td>\n",
              "      <td>aune the worst revenge-of-the-nerds clichés th...</td>\n",
              "      <td>NEGATIVE</td>\n",
              "      <td>NEGATIVE</td>\n",
              "      <td>True</td>\n",
              "    </tr>\n",
              "    <tr>\n",
              "      <th>...</th>\n",
              "      <td>...</td>\n",
              "      <td>...</td>\n",
              "      <td>...</td>\n",
              "      <td>...</td>\n",
              "      <td>...</td>\n",
              "      <td>...</td>\n",
              "      <td>...</td>\n",
              "    </tr>\n",
              "    <tr>\n",
              "      <th>995</th>\n",
              "      <td>robustness</td>\n",
              "      <td>add_ocr_typo</td>\n",
              "      <td>true star</td>\n",
              "      <td>trne ftar</td>\n",
              "      <td>POSITIVE</td>\n",
              "      <td>NEGATIVE</td>\n",
              "      <td>False</td>\n",
              "    </tr>\n",
              "    <tr>\n",
              "      <th>996</th>\n",
              "      <td>robustness</td>\n",
              "      <td>add_ocr_typo</td>\n",
              "      <td>hampered -- no , paralyzed -- by a self-indulg...</td>\n",
              "      <td>hampered -- n^o , paralyzed -- by a self-indul...</td>\n",
              "      <td>NEGATIVE</td>\n",
              "      <td>NEGATIVE</td>\n",
              "      <td>True</td>\n",
              "    </tr>\n",
              "    <tr>\n",
              "      <th>997</th>\n",
              "      <td>robustness</td>\n",
              "      <td>add_ocr_typo</td>\n",
              "      <td>is expressly for idiots who do n't care what k...</td>\n",
              "      <td>is expressly f^r idiots avho do n't caie v\\hat...</td>\n",
              "      <td>NEGATIVE</td>\n",
              "      <td>NEGATIVE</td>\n",
              "      <td>True</td>\n",
              "    </tr>\n",
              "    <tr>\n",
              "      <th>998</th>\n",
              "      <td>robustness</td>\n",
              "      <td>add_ocr_typo</td>\n",
              "      <td>is haunting ... ( it 's ) what punk rock music...</td>\n",
              "      <td>is haunting ... ( i^t 's ) v\\hat punk rock mul...</td>\n",
              "      <td>POSITIVE</td>\n",
              "      <td>NEGATIVE</td>\n",
              "      <td>False</td>\n",
              "    </tr>\n",
              "    <tr>\n",
              "      <th>999</th>\n",
              "      <td>robustness</td>\n",
              "      <td>add_ocr_typo</td>\n",
              "      <td>which nurses plot holes gaping enough to pilot...</td>\n",
              "      <td>y/hich nurses plot holes gaping enongh t^o pil...</td>\n",
              "      <td>NEGATIVE</td>\n",
              "      <td>NEGATIVE</td>\n",
              "      <td>True</td>\n",
              "    </tr>\n",
              "  </tbody>\n",
              "</table>\n",
              "<p>1000 rows × 7 columns</p>\n",
              "</div>\n",
              "      <button class=\"colab-df-convert\" onclick=\"convertToInteractive('df-d4ff6c75-1edc-4af2-a0d6-221a285928ee')\"\n",
              "              title=\"Convert this dataframe to an interactive table.\"\n",
              "              style=\"display:none;\">\n",
              "\n",
              "  <svg xmlns=\"http://www.w3.org/2000/svg\" height=\"24px\"viewBox=\"0 0 24 24\"\n",
              "       width=\"24px\">\n",
              "    <path d=\"M0 0h24v24H0V0z\" fill=\"none\"/>\n",
              "    <path d=\"M18.56 5.44l.94 2.06.94-2.06 2.06-.94-2.06-.94-.94-2.06-.94 2.06-2.06.94zm-11 1L8.5 8.5l.94-2.06 2.06-.94-2.06-.94L8.5 2.5l-.94 2.06-2.06.94zm10 10l.94 2.06.94-2.06 2.06-.94-2.06-.94-.94-2.06-.94 2.06-2.06.94z\"/><path d=\"M17.41 7.96l-1.37-1.37c-.4-.4-.92-.59-1.43-.59-.52 0-1.04.2-1.43.59L10.3 9.45l-7.72 7.72c-.78.78-.78 2.05 0 2.83L4 21.41c.39.39.9.59 1.41.59.51 0 1.02-.2 1.41-.59l7.78-7.78 2.81-2.81c.8-.78.8-2.07 0-2.86zM5.41 20L4 18.59l7.72-7.72 1.47 1.35L5.41 20z\"/>\n",
              "  </svg>\n",
              "      </button>\n",
              "\n",
              "\n",
              "\n",
              "    <div id=\"df-cdb4fa3e-b48a-41cb-bb44-ca09c977ce83\">\n",
              "      <button class=\"colab-df-quickchart\" onclick=\"quickchart('df-cdb4fa3e-b48a-41cb-bb44-ca09c977ce83')\"\n",
              "              title=\"Suggest charts.\"\n",
              "              style=\"display:none;\">\n",
              "\n",
              "<svg xmlns=\"http://www.w3.org/2000/svg\" height=\"24px\"viewBox=\"0 0 24 24\"\n",
              "     width=\"24px\">\n",
              "    <g>\n",
              "        <path d=\"M19 3H5c-1.1 0-2 .9-2 2v14c0 1.1.9 2 2 2h14c1.1 0 2-.9 2-2V5c0-1.1-.9-2-2-2zM9 17H7v-7h2v7zm4 0h-2V7h2v10zm4 0h-2v-4h2v4z\"/>\n",
              "    </g>\n",
              "</svg>\n",
              "      </button>\n",
              "    </div>\n",
              "\n",
              "<style>\n",
              "  .colab-df-quickchart {\n",
              "    background-color: #E8F0FE;\n",
              "    border: none;\n",
              "    border-radius: 50%;\n",
              "    cursor: pointer;\n",
              "    display: none;\n",
              "    fill: #1967D2;\n",
              "    height: 32px;\n",
              "    padding: 0 0 0 0;\n",
              "    width: 32px;\n",
              "  }\n",
              "\n",
              "  .colab-df-quickchart:hover {\n",
              "    background-color: #E2EBFA;\n",
              "    box-shadow: 0px 1px 2px rgba(60, 64, 67, 0.3), 0px 1px 3px 1px rgba(60, 64, 67, 0.15);\n",
              "    fill: #174EA6;\n",
              "  }\n",
              "\n",
              "  [theme=dark] .colab-df-quickchart {\n",
              "    background-color: #3B4455;\n",
              "    fill: #D2E3FC;\n",
              "  }\n",
              "\n",
              "  [theme=dark] .colab-df-quickchart:hover {\n",
              "    background-color: #434B5C;\n",
              "    box-shadow: 0px 1px 3px 1px rgba(0, 0, 0, 0.15);\n",
              "    filter: drop-shadow(0px 1px 2px rgba(0, 0, 0, 0.3));\n",
              "    fill: #FFFFFF;\n",
              "  }\n",
              "</style>\n",
              "\n",
              "    <script>\n",
              "      async function quickchart(key) {\n",
              "        const containerElement = document.querySelector('#' + key);\n",
              "        const charts = await google.colab.kernel.invokeFunction(\n",
              "            'suggestCharts', [key], {});\n",
              "      }\n",
              "    </script>\n",
              "\n",
              "      <script>\n",
              "\n",
              "function displayQuickchartButton(domScope) {\n",
              "  let quickchartButtonEl =\n",
              "    domScope.querySelector('#df-cdb4fa3e-b48a-41cb-bb44-ca09c977ce83 button.colab-df-quickchart');\n",
              "  quickchartButtonEl.style.display =\n",
              "    google.colab.kernel.accessAllowed ? 'block' : 'none';\n",
              "}\n",
              "\n",
              "        displayQuickchartButton(document);\n",
              "      </script>\n",
              "      <style>\n",
              "    .colab-df-container {\n",
              "      display:flex;\n",
              "      flex-wrap:wrap;\n",
              "      gap: 12px;\n",
              "    }\n",
              "\n",
              "    .colab-df-convert {\n",
              "      background-color: #E8F0FE;\n",
              "      border: none;\n",
              "      border-radius: 50%;\n",
              "      cursor: pointer;\n",
              "      display: none;\n",
              "      fill: #1967D2;\n",
              "      height: 32px;\n",
              "      padding: 0 0 0 0;\n",
              "      width: 32px;\n",
              "    }\n",
              "\n",
              "    .colab-df-convert:hover {\n",
              "      background-color: #E2EBFA;\n",
              "      box-shadow: 0px 1px 2px rgba(60, 64, 67, 0.3), 0px 1px 3px 1px rgba(60, 64, 67, 0.15);\n",
              "      fill: #174EA6;\n",
              "    }\n",
              "\n",
              "    [theme=dark] .colab-df-convert {\n",
              "      background-color: #3B4455;\n",
              "      fill: #D2E3FC;\n",
              "    }\n",
              "\n",
              "    [theme=dark] .colab-df-convert:hover {\n",
              "      background-color: #434B5C;\n",
              "      box-shadow: 0px 1px 3px 1px rgba(0, 0, 0, 0.15);\n",
              "      filter: drop-shadow(0px 1px 2px rgba(0, 0, 0, 0.3));\n",
              "      fill: #FFFFFF;\n",
              "    }\n",
              "  </style>\n",
              "\n",
              "      <script>\n",
              "        const buttonEl =\n",
              "          document.querySelector('#df-d4ff6c75-1edc-4af2-a0d6-221a285928ee button.colab-df-convert');\n",
              "        buttonEl.style.display =\n",
              "          google.colab.kernel.accessAllowed ? 'block' : 'none';\n",
              "\n",
              "        async function convertToInteractive(key) {\n",
              "          const element = document.querySelector('#df-d4ff6c75-1edc-4af2-a0d6-221a285928ee');\n",
              "          const dataTable =\n",
              "            await google.colab.kernel.invokeFunction('convertToInteractive',\n",
              "                                                     [key], {});\n",
              "          if (!dataTable) return;\n",
              "\n",
              "          const docLinkHtml = 'Like what you see? Visit the ' +\n",
              "            '<a target=\"_blank\" href=https://colab.research.google.com/notebooks/data_table.ipynb>data table notebook</a>'\n",
              "            + ' to learn more about interactive tables.';\n",
              "          element.innerHTML = '';\n",
              "          dataTable['output_type'] = 'display_data';\n",
              "          await google.colab.output.renderOutput(dataTable, element);\n",
              "          const docLink = document.createElement('div');\n",
              "          docLink.innerHTML = docLinkHtml;\n",
              "          element.appendChild(docLink);\n",
              "        }\n",
              "      </script>\n",
              "    </div>\n",
              "  </div>\n"
            ],
            "text/plain": [
              "       category                test_type  \\\n",
              "0    robustness  add_speech_to_text_typo   \n",
              "1    robustness  add_speech_to_text_typo   \n",
              "2    robustness  add_speech_to_text_typo   \n",
              "3    robustness  add_speech_to_text_typo   \n",
              "4    robustness  add_speech_to_text_typo   \n",
              "..          ...                      ...   \n",
              "995  robustness             add_ocr_typo   \n",
              "996  robustness             add_ocr_typo   \n",
              "997  robustness             add_ocr_typo   \n",
              "998  robustness             add_ocr_typo   \n",
              "999  robustness             add_ocr_typo   \n",
              "\n",
              "                                              original  \\\n",
              "0         hide new secretions from the parental units    \n",
              "1                 contains no wit , only labored gags    \n",
              "2    that loves its characters and communicates som...   \n",
              "3    remains utterly satisfied to remain the same t...   \n",
              "4    on the worst revenge-of-the-nerds clichés the ...   \n",
              "..                                                 ...   \n",
              "995                                         true star    \n",
              "996  hampered -- no , paralyzed -- by a self-indulg...   \n",
              "997  is expressly for idiots who do n't care what k...   \n",
              "998  is haunting ... ( it 's ) what punk rock music...   \n",
              "999  which nurses plot holes gaping enough to pilot...   \n",
              "\n",
              "                                             test_case expected_result  \\\n",
              "0        hide new secretions frum the parental units'         NEGATIVE   \n",
              "1             contains know witte , only labored gags         NEGATIVE   \n",
              "2    that loves its characters and communicates som...        POSITIVE   \n",
              "3    remains utterly satisfied to remain the sejm t...        NEGATIVE   \n",
              "4    aune the worst revenge-of-the-nerds clichés th...        NEGATIVE   \n",
              "..                                                 ...             ...   \n",
              "995                                         trne ftar         POSITIVE   \n",
              "996  hampered -- n^o , paralyzed -- by a self-indul...        NEGATIVE   \n",
              "997  is expressly f^r idiots avho do n't caie v\\hat...        NEGATIVE   \n",
              "998  is haunting ... ( i^t 's ) v\\hat punk rock mul...        POSITIVE   \n",
              "999  y/hich nurses plot holes gaping enongh t^o pil...        NEGATIVE   \n",
              "\n",
              "    actual_result   pass  \n",
              "0        NEGATIVE   True  \n",
              "1        NEGATIVE   True  \n",
              "2        POSITIVE   True  \n",
              "3        NEGATIVE   True  \n",
              "4        NEGATIVE   True  \n",
              "..            ...    ...  \n",
              "995      NEGATIVE  False  \n",
              "996      NEGATIVE   True  \n",
              "997      NEGATIVE   True  \n",
              "998      NEGATIVE  False  \n",
              "999      NEGATIVE   True  \n",
              "\n",
              "[1000 rows x 7 columns]"
            ]
          },
          "execution_count": 46,
          "metadata": {},
          "output_type": "execute_result"
        }
      ],
      "source": [
        "harness.generated_results()"
      ]
    },
    {
      "cell_type": "markdown",
      "metadata": {
        "id": "5Erhl6nkCQjB"
      },
      "source": [
        "This method returns the generated results in the form of a pandas dataframe, which provides a convenient and easy-to-use format for working with the test results. You can use this method to quickly identify the test cases that failed and to determine where fixes are needed."
      ]
    },
    {
      "cell_type": "markdown",
      "metadata": {
        "id": "2gVoIzpWCFk2"
      },
      "source": [
        "#### Report of the tests"
      ]
    },
    {
      "cell_type": "code",
      "execution_count": 47,
      "metadata": {
        "colab": {
          "base_uri": "https://localhost:8080/",
          "height": 112
        },
        "id": "xjkaiyLd68y9",
        "outputId": "0b788ded-a9af-4bcc-b843-293dd90754b4"
      },
      "outputs": [
        {
          "data": {
            "text/html": [
              "\n",
              "\n",
              "  <div id=\"df-f4a70dfb-b637-4d60-a9c0-d35d9f32f9e9\">\n",
              "    <div class=\"colab-df-container\">\n",
              "      <div>\n",
              "<style scoped>\n",
              "    .dataframe tbody tr th:only-of-type {\n",
              "        vertical-align: middle;\n",
              "    }\n",
              "\n",
              "    .dataframe tbody tr th {\n",
              "        vertical-align: top;\n",
              "    }\n",
              "\n",
              "    .dataframe thead th {\n",
              "        text-align: right;\n",
              "    }\n",
              "</style>\n",
              "<table border=\"1\" class=\"dataframe\">\n",
              "  <thead>\n",
              "    <tr style=\"text-align: right;\">\n",
              "      <th></th>\n",
              "      <th>category</th>\n",
              "      <th>test_type</th>\n",
              "      <th>fail_count</th>\n",
              "      <th>pass_count</th>\n",
              "      <th>pass_rate</th>\n",
              "      <th>minimum_pass_rate</th>\n",
              "      <th>pass</th>\n",
              "    </tr>\n",
              "  </thead>\n",
              "  <tbody>\n",
              "    <tr>\n",
              "      <th>0</th>\n",
              "      <td>robustness</td>\n",
              "      <td>add_speech_to_text_typo</td>\n",
              "      <td>35</td>\n",
              "      <td>465</td>\n",
              "      <td>93%</td>\n",
              "      <td>60%</td>\n",
              "      <td>True</td>\n",
              "    </tr>\n",
              "    <tr>\n",
              "      <th>1</th>\n",
              "      <td>robustness</td>\n",
              "      <td>add_ocr_typo</td>\n",
              "      <td>94</td>\n",
              "      <td>406</td>\n",
              "      <td>81%</td>\n",
              "      <td>60%</td>\n",
              "      <td>True</td>\n",
              "    </tr>\n",
              "  </tbody>\n",
              "</table>\n",
              "</div>\n",
              "      <button class=\"colab-df-convert\" onclick=\"convertToInteractive('df-f4a70dfb-b637-4d60-a9c0-d35d9f32f9e9')\"\n",
              "              title=\"Convert this dataframe to an interactive table.\"\n",
              "              style=\"display:none;\">\n",
              "\n",
              "  <svg xmlns=\"http://www.w3.org/2000/svg\" height=\"24px\"viewBox=\"0 0 24 24\"\n",
              "       width=\"24px\">\n",
              "    <path d=\"M0 0h24v24H0V0z\" fill=\"none\"/>\n",
              "    <path d=\"M18.56 5.44l.94 2.06.94-2.06 2.06-.94-2.06-.94-.94-2.06-.94 2.06-2.06.94zm-11 1L8.5 8.5l.94-2.06 2.06-.94-2.06-.94L8.5 2.5l-.94 2.06-2.06.94zm10 10l.94 2.06.94-2.06 2.06-.94-2.06-.94-.94-2.06-.94 2.06-2.06.94z\"/><path d=\"M17.41 7.96l-1.37-1.37c-.4-.4-.92-.59-1.43-.59-.52 0-1.04.2-1.43.59L10.3 9.45l-7.72 7.72c-.78.78-.78 2.05 0 2.83L4 21.41c.39.39.9.59 1.41.59.51 0 1.02-.2 1.41-.59l7.78-7.78 2.81-2.81c.8-.78.8-2.07 0-2.86zM5.41 20L4 18.59l7.72-7.72 1.47 1.35L5.41 20z\"/>\n",
              "  </svg>\n",
              "      </button>\n",
              "\n",
              "\n",
              "\n",
              "    <div id=\"df-ff2d760c-728c-4d45-8a64-fa70ecc13887\">\n",
              "      <button class=\"colab-df-quickchart\" onclick=\"quickchart('df-ff2d760c-728c-4d45-8a64-fa70ecc13887')\"\n",
              "              title=\"Suggest charts.\"\n",
              "              style=\"display:none;\">\n",
              "\n",
              "<svg xmlns=\"http://www.w3.org/2000/svg\" height=\"24px\"viewBox=\"0 0 24 24\"\n",
              "     width=\"24px\">\n",
              "    <g>\n",
              "        <path d=\"M19 3H5c-1.1 0-2 .9-2 2v14c0 1.1.9 2 2 2h14c1.1 0 2-.9 2-2V5c0-1.1-.9-2-2-2zM9 17H7v-7h2v7zm4 0h-2V7h2v10zm4 0h-2v-4h2v4z\"/>\n",
              "    </g>\n",
              "</svg>\n",
              "      </button>\n",
              "    </div>\n",
              "\n",
              "<style>\n",
              "  .colab-df-quickchart {\n",
              "    background-color: #E8F0FE;\n",
              "    border: none;\n",
              "    border-radius: 50%;\n",
              "    cursor: pointer;\n",
              "    display: none;\n",
              "    fill: #1967D2;\n",
              "    height: 32px;\n",
              "    padding: 0 0 0 0;\n",
              "    width: 32px;\n",
              "  }\n",
              "\n",
              "  .colab-df-quickchart:hover {\n",
              "    background-color: #E2EBFA;\n",
              "    box-shadow: 0px 1px 2px rgba(60, 64, 67, 0.3), 0px 1px 3px 1px rgba(60, 64, 67, 0.15);\n",
              "    fill: #174EA6;\n",
              "  }\n",
              "\n",
              "  [theme=dark] .colab-df-quickchart {\n",
              "    background-color: #3B4455;\n",
              "    fill: #D2E3FC;\n",
              "  }\n",
              "\n",
              "  [theme=dark] .colab-df-quickchart:hover {\n",
              "    background-color: #434B5C;\n",
              "    box-shadow: 0px 1px 3px 1px rgba(0, 0, 0, 0.15);\n",
              "    filter: drop-shadow(0px 1px 2px rgba(0, 0, 0, 0.3));\n",
              "    fill: #FFFFFF;\n",
              "  }\n",
              "</style>\n",
              "\n",
              "    <script>\n",
              "      async function quickchart(key) {\n",
              "        const containerElement = document.querySelector('#' + key);\n",
              "        const charts = await google.colab.kernel.invokeFunction(\n",
              "            'suggestCharts', [key], {});\n",
              "      }\n",
              "    </script>\n",
              "\n",
              "      <script>\n",
              "\n",
              "function displayQuickchartButton(domScope) {\n",
              "  let quickchartButtonEl =\n",
              "    domScope.querySelector('#df-ff2d760c-728c-4d45-8a64-fa70ecc13887 button.colab-df-quickchart');\n",
              "  quickchartButtonEl.style.display =\n",
              "    google.colab.kernel.accessAllowed ? 'block' : 'none';\n",
              "}\n",
              "\n",
              "        displayQuickchartButton(document);\n",
              "      </script>\n",
              "      <style>\n",
              "    .colab-df-container {\n",
              "      display:flex;\n",
              "      flex-wrap:wrap;\n",
              "      gap: 12px;\n",
              "    }\n",
              "\n",
              "    .colab-df-convert {\n",
              "      background-color: #E8F0FE;\n",
              "      border: none;\n",
              "      border-radius: 50%;\n",
              "      cursor: pointer;\n",
              "      display: none;\n",
              "      fill: #1967D2;\n",
              "      height: 32px;\n",
              "      padding: 0 0 0 0;\n",
              "      width: 32px;\n",
              "    }\n",
              "\n",
              "    .colab-df-convert:hover {\n",
              "      background-color: #E2EBFA;\n",
              "      box-shadow: 0px 1px 2px rgba(60, 64, 67, 0.3), 0px 1px 3px 1px rgba(60, 64, 67, 0.15);\n",
              "      fill: #174EA6;\n",
              "    }\n",
              "\n",
              "    [theme=dark] .colab-df-convert {\n",
              "      background-color: #3B4455;\n",
              "      fill: #D2E3FC;\n",
              "    }\n",
              "\n",
              "    [theme=dark] .colab-df-convert:hover {\n",
              "      background-color: #434B5C;\n",
              "      box-shadow: 0px 1px 3px 1px rgba(0, 0, 0, 0.15);\n",
              "      filter: drop-shadow(0px 1px 2px rgba(0, 0, 0, 0.3));\n",
              "      fill: #FFFFFF;\n",
              "    }\n",
              "  </style>\n",
              "\n",
              "      <script>\n",
              "        const buttonEl =\n",
              "          document.querySelector('#df-f4a70dfb-b637-4d60-a9c0-d35d9f32f9e9 button.colab-df-convert');\n",
              "        buttonEl.style.display =\n",
              "          google.colab.kernel.accessAllowed ? 'block' : 'none';\n",
              "\n",
              "        async function convertToInteractive(key) {\n",
              "          const element = document.querySelector('#df-f4a70dfb-b637-4d60-a9c0-d35d9f32f9e9');\n",
              "          const dataTable =\n",
              "            await google.colab.kernel.invokeFunction('convertToInteractive',\n",
              "                                                     [key], {});\n",
              "          if (!dataTable) return;\n",
              "\n",
              "          const docLinkHtml = 'Like what you see? Visit the ' +\n",
              "            '<a target=\"_blank\" href=https://colab.research.google.com/notebooks/data_table.ipynb>data table notebook</a>'\n",
              "            + ' to learn more about interactive tables.';\n",
              "          element.innerHTML = '';\n",
              "          dataTable['output_type'] = 'display_data';\n",
              "          await google.colab.output.renderOutput(dataTable, element);\n",
              "          const docLink = document.createElement('div');\n",
              "          docLink.innerHTML = docLinkHtml;\n",
              "          element.appendChild(docLink);\n",
              "        }\n",
              "      </script>\n",
              "    </div>\n",
              "  </div>\n"
            ],
            "text/plain": [
              "     category                test_type  fail_count  pass_count pass_rate  \\\n",
              "0  robustness  add_speech_to_text_typo          35         465       93%   \n",
              "1  robustness             add_ocr_typo          94         406       81%   \n",
              "\n",
              "  minimum_pass_rate  pass  \n",
              "0               60%  True  \n",
              "1               60%  True  "
            ]
          },
          "execution_count": 47,
          "metadata": {},
          "output_type": "execute_result"
        }
      ],
      "source": [
        "harness.report()"
      ]
    },
    {
      "cell_type": "markdown",
      "metadata": {
        "id": "Moh61mF3AvAw"
      },
      "source": [
        " Additional parameters (optional): You can pass additional parameters in the `training_data` dictionary to specify the details of the original dataset, such as the data source, subset, feature column, target column, and split. These parameters help in selecting the appropriate data for augmentation.\n",
        "\n",
        "    - Example:\n",
        "```\n",
        "data_kwargs = {\n",
        "    \"data_source\": \"glue\",\n",
        "    \"subset\": \"sst2\",\n",
        "    \"feature_column\": \"sentence\",\n",
        "    \"target_column\": \"label\",\n",
        "    \"split\": \"train\",\n",
        "    \"source\": \"huggingface\"\n",
        "}\n",
        "```\n",
        "        \n"
      ]
    },
    {
      "cell_type": "code",
      "execution_count": null,
      "metadata": {
        "id": "kB6ImMUC9IIO"
      },
      "outputs": [],
      "source": [
        "custom_proportions = {\n",
        "    'add_ocr_typo':0.3\n",
        "}\n",
        "\n",
        "data_kwargs = {\n",
        "      \"data_source\" : \"glue\",\n",
        "      \"subset\": \"sst2\",\n",
        "      \"feature_column\": \"sentence\",\n",
        "      \"target_column\": \"label\",\n",
        "      \"split\": \"train\",\n",
        "      \"source\": \"huggingface\"\n",
        "       }\n",
        "\n",
        "harness.augment(\n",
        "    training_data = data_kwargs,\n",
        "    save_data_path =\"augmented_glue.csv\",\n",
        "    custom_proportions=custom_proportions,\n",
        "    export_mode=\"add\",\n",
        ")"
      ]
    },
    {
      "cell_type": "markdown",
      "metadata": {
        "id": "YPXIxv9D_fR7"
      },
      "source": [
        "Essentially it applies perturbations to the input data based on the recommendations from the harness reports. Then this augmented_dataset is used to retrain the original model so as to make the model more robust and improve its performance."
      ]
    },
    {
      "cell_type": "markdown",
      "metadata": {},
      "source": [
        "# Uploading Augmented Dataset to HuggingFace Hub\n",
        "\n",
        "`Harness.upload_file_to_hub` function is a convenient utility provided by the Harness library for uploading **files/dataset** to the Hugging Face Model Hub repositories. This function enables users to easily share datasets, models, and other resources with the wider community through the Hugging Face ecosystem.\n",
        "\n",
        "## Parameters\n",
        "\n",
        "- `repo_name (str)`: The name of the repository on the Hugging Face Model Hub where the file will be uploaded. This should be in the format \"Username/Repo-Name\", where Username is the username of the user or organization on Hugging Face, and Repo-Name is the desired name of the repository.\n",
        "\n",
        "- `repo_type (str)`: The type of repository to upload the file to. This can be \"dataset\", \"model\", or other supported repository types. In this context, it should be set to \"dataset\" if you want to upload a dataset.\n",
        "\n",
        "- `file_path (str)`: The local file path of the file you want to upload. This should include the file name and its extension. For example, \"augmented_glue.csv\".\n",
        "\n",
        "- `token (str)`: Your Hugging Face authentication token. This token is required for authentication and authorization to upload content to the specified repository. Make sure to keep your token confidential and secure.\n",
        "\n",
        "- `path_in_repo (str)`: The desired path to the file within the repository. This includes the subdirectories and the filename. For instance, \"data/augmented_glue.csv\" indicates that the file should be placed in a data directory within the repository with the name augmented_glue.csv.\n",
        "\n",
        "- `exist_ok` (bool) : If True, do not raise an error if repo already exists. Defaults to False.\n",
        "\n",
        "## Usage\n",
        "Here's an example of how to use the `Harness.upload_file_to_hub` function:"
      ]
    },
    {
      "cell_type": "code",
      "execution_count": null,
      "metadata": {},
      "outputs": [],
      "source": [
        "Harness.upload_file_to_hub(repo_name=\"Username/Repo-Name\",\n",
        "                           repo_type=\"dataset\", # If you want to upload a dataset\n",
        "                           file_path=\"augmented_glue.csv\",\n",
        "                           token=\"hf_xxxxxxxxxxxxxxxxxx\",\n",
        "                           path_in_repo=\"data/augmented_glue.csv\",\n",
        ")"
      ]
    },
    {
      "cell_type": "markdown",
      "metadata": {},
      "source": [
        "> Make sure to replace the placeholders (Username/Repo-Name, augmented_glue.csv, hf_xxxxxxxxxxxxxxxxxx, etc.) with your actual information."
      ]
    }
  ],
  "metadata": {
    "colab": {
      "machine_shape": "hm",
      "provenance": []
    },
    "gpuClass": "standard",
    "kernelspec": {
      "display_name": "Python 3",
      "name": "python3"
    },
    "language_info": {
      "name": "python"
    }
  },
  "nbformat": 4,
  "nbformat_minor": 0
}
