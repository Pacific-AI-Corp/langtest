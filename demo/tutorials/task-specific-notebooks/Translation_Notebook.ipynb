{
  "cells": [
    {
      "cell_type": "markdown",
      "metadata": {
        "id": "e7PsSmy9sCoR"
      },
      "source": [
        "![logog](https://raw.githubusercontent.com/Pacific-AI-Corp/langtest/main/docs/assets/images/logo.png)"
      ]
    },
    {
      "cell_type": "markdown",
      "metadata": {
        "id": "3o5sAOfwL5qd"
      },
      "source": [
        "[![Open In Colab](https://colab.research.google.com/assets/colab-badge.svg)](https://colab.research.google.com/github/Pacific-AI-Corp/langtest/blob/main/demo/tutorials/task-specific-notebooks/Translation_Notebook.ipynb)"
      ]
    },
    {
      "cell_type": "markdown",
      "metadata": {
        "id": "WJJzt3RWhEc6"
      },
      "source": [
        "**LangTest** is an open-source python library designed to help developers deliver safe and effective Natural Language Processing (NLP) models. Whether you are using **John Snow Labs, Hugging Face, Spacy** models or **OpenAI, Cohere, AI21, Hugging Face Inference API and Azure-OpenAI** based LLMs, it has got you covered. You can test any Named Entity Recognition (NER), Text Classification, fill-mask, Translation model using the library. We also support testing LLMS for Question-Answering, Summarization and text-generation tasks on benchmark datasets. The library supports 60+ out of the box tests. For a complete list of supported test categories, please refer to the [documentation](http://langtest.org/docs/pages/docs/test_categories).\n",
        "\n",
        "Metrics are calculated by comparing the model's extractions in the original list of sentences against the extractions carried out in the noisy list of sentences. The original annotated labels are not used at any point, we are simply comparing the model against itself in a 2 settings."
      ]
    },
    {
      "cell_type": "markdown",
      "metadata": {
        "id": "26qXWhCYhHAt"
      },
      "source": [
        "# Getting started with LangTest"
      ]
    },
    {
      "cell_type": "code",
      "execution_count": null,
      "metadata": {
        "id": "azUb114QhOsY"
      },
      "outputs": [],
      "source": [
        "!pip install langtest[transformers]"
      ]
    },
    {
      "cell_type": "markdown",
      "metadata": {
        "id": "yR6kjOaiheKN"
      },
      "source": [
        "# Harness and Its Parameters\n",
        "\n",
        "The Harness class is a testing class for Natural Language Processing (NLP) models. It evaluates the performance of a NLP model on a given task using test data and generates a report with test results.Harness can be imported from the LangTest library in the following way."
      ]
    },
    {
      "cell_type": "code",
      "execution_count": 2,
      "metadata": {
        "id": "lTzSJpMlhgq5"
      },
      "outputs": [],
      "source": [
        "# Import Harness from the LangTest library\n",
        "from langtest import Harness"
      ]
    },
    {
      "cell_type": "markdown",
      "metadata": {
        "id": "JFhJ9CcbsKqN"
      },
      "source": [
        "# Translation Testing with Hugging Face Models\n",
        "\n",
        "In this section, we dive into testing translation models. We will use the Hugging Face Transformers library to load the translation models. We will use the Harness class to test the translation models. The Harness class is a testing class for Natural Language Processing (NLP) models. It evaluates the performance of a NLP model on a given task using test data and generates a report with test results.\n",
        "\n",
        "\n",
        "### Supported Datset : Translation\n",
        "\n",
        "**Data Splits**\n",
        "\n",
        "- `test`: contains 4400 samples."
      ]
    },
    {
      "cell_type": "markdown",
      "metadata": {
        "id": "swaYPW-wPlku"
      },
      "source": [
        "### Setup and Configure Harness"
      ]
    },
    {
      "cell_type": "code",
      "execution_count": 3,
      "metadata": {
        "id": "JaarBdfe8DQ8",
        "outputId": "6cbe735b-0c97-4dab-9215-c959c2688559"
      },
      "outputs": [
        {
          "name": "stdout",
          "output_type": "stream",
          "text": [
            "Test Configuration : \n",
            " {\n",
            " \"model_parameters\": {\n",
            "  \"target_language\": \"fr\"\n",
            " },\n",
            " \"tests\": {\n",
            "  \"defaults\": {\n",
            "   \"min_pass_rate\": 1.0\n",
            "  },\n",
            "  \"robustness\": {\n",
            "   \"add_typo\": {\n",
            "    \"min_pass_rate\": 0.7\n",
            "   },\n",
            "   \"uppercase\": {\n",
            "    \"min_pass_rate\": 0.7\n",
            "   }\n",
            "  }\n",
            " }\n",
            "}\n"
          ]
        },
        {
          "name": "stderr",
          "output_type": "stream",
          "text": [
            "c:\\Users\\raksh\\anaconda3\\lib\\site-packages\\transformers\\models\\t5\\tokenization_t5_fast.py:155: FutureWarning: This tokenizer was incorrectly instantiated with a model max length of 512 which will be corrected in Transformers v5.\n",
            "For now, this behavior is kept to avoid breaking backwards compatibility when padding/encoding with `truncation is True`.\n",
            "- Be aware that you SHOULD NOT rely on t5-base automatically truncating your input to 512 when padding/encoding.\n",
            "- If you want to encode/pad to sequences longer than 512 you can either instantiate this tokenizer with `model_max_length` or pass `max_length` when encoding/padding.\n",
            "- To avoid this warning, please instantiate this tokenizer with `model_max_length` set to your preferred value.\n",
            "  warnings.warn(\n"
          ]
        }
      ],
      "source": [
        "harness = Harness(task=\"translation\",\n",
        "                  model={\"model\":'t5-base', \"hub\": \"huggingface\"},\n",
        "                  data={\"data_source\": \"Translation\",\n",
        "                        \"split\":\"test\"}\n",
        "                  )"
      ]
    },
    {
      "cell_type": "markdown",
      "metadata": {
        "id": "jWPAw9q0PwD1"
      },
      "source": [
        "We have specified task as `translation` , hub as `huggingface` and model as `t5-base`\n",
        "\n"
      ]
    },
    {
      "cell_type": "markdown",
      "metadata": {
        "id": "MSktjylZ8DQ9"
      },
      "source": [
        "For tests we used lowercase and uppercase. Other available robustness tests are:\n",
        "* `add_context`\n",
        "* `add_contraction`\n",
        "* `add_punctuation`\n",
        "* `add_typo`\n",
        "* `add_ocr_typo`\n",
        "* `american_to_british`\n",
        "* `british_to_american`\n",
        "* `lowercase`\n",
        "* `strip_punctuation`\n",
        "* `titlecase`\n",
        "* `uppercase`\n",
        "* `number_to_word`\n",
        "* `add_abbreviation`\n",
        "* `add_speech_to_text_typo`\n",
        "* `add_slangs`\n",
        "* `dyslexia_word_swap`\n",
        "* `multiple_perturbations`\n",
        "* `adjective_synonym_swap`\n",
        "* `adjective_antonym_swap`\n",
        "* `strip_all_punctuation`"
      ]
    },
    {
      "cell_type": "code",
      "execution_count": 27,
      "metadata": {
        "colab": {
          "base_uri": "https://localhost:8080/"
        },
        "id": "5DNBjDLp8DQ9",
        "outputId": "535ec1e2-bd54-440e-b762-318568bfcfa0"
      },
      "outputs": [
        {
          "data": {
            "text/plain": [
              "{'model_parameters': {'target_language': 'de'},\n",
              " 'tests': {'defaults': {'min_pass_rate': 0.65},\n",
              "  'robustness': {'lowercase': {'min_pass_rate': 0.66},\n",
              "   'uppercase': {'min_pass_rate': 0.66}}}}"
            ]
          },
          "execution_count": 27,
          "metadata": {},
          "output_type": "execute_result"
        }
      ],
      "source": [
        "harness.configure(\n",
        "    {\n",
        "        'model_parameters': {'target_language': 'de'},\n",
        "        'tests': {'defaults': {'min_pass_rate': 0.65},\n",
        "                  'robustness': {'lowercase': {'min_pass_rate': 0.66},\n",
        "                                 'uppercase': {'min_pass_rate': 0.66},\n",
        "                                 }\n",
        "                  }\n",
        "    }\n",
        ")"
      ]
    },
    {
      "cell_type": "markdown",
      "metadata": {
        "id": "ZPU46A7WigFr"
      },
      "source": [
        "Here we have configured the harness to perform two robustness tests (uppercase and lowercase) and defined the minimum pass rate for each test."
      ]
    },
    {
      "cell_type": "markdown",
      "metadata": {
        "id": "i6kPvA13F7cr"
      },
      "source": [
        "### Generating the test cases."
      ]
    },
    {
      "cell_type": "code",
      "execution_count": 28,
      "metadata": {
        "id": "FQI-T_qZPENe"
      },
      "outputs": [],
      "source": [
        "harness.data = harness.data[:8]"
      ]
    },
    {
      "cell_type": "code",
      "execution_count": 29,
      "metadata": {
        "colab": {
          "base_uri": "https://localhost:8080/"
        },
        "id": "mdNH3wCKF9fn",
        "outputId": "79926e93-34e4-4c5e-eff3-83a24aeff09d"
      },
      "outputs": [
        {
          "name": "stderr",
          "output_type": "stream",
          "text": [
            "Generating testcases...: 100%|██████████| 1/1 [00:00<00:00, 1974.72it/s]\n"
          ]
        },
        {
          "data": {
            "text/plain": []
          },
          "execution_count": 29,
          "metadata": {},
          "output_type": "execute_result"
        }
      ],
      "source": [
        "harness.generate()"
      ]
    },
    {
      "cell_type": "markdown",
      "metadata": {
        "id": "nyjDdYLeGCmM"
      },
      "source": [
        "harness.generate() method automatically generates the test cases (based on the provided configuration)"
      ]
    },
    {
      "cell_type": "code",
      "execution_count": 30,
      "metadata": {
        "colab": {
          "base_uri": "https://localhost:8080/",
          "height": 424
        },
        "id": "c0jL1_G7F_p6",
        "outputId": "661a28cd-afb0-4c89-a986-e225ae389e39"
      },
      "outputs": [
        {
          "data": {
            "text/html": [
              "<div>\n",
              "<style scoped>\n",
              "    .dataframe tbody tr th:only-of-type {\n",
              "        vertical-align: middle;\n",
              "    }\n",
              "\n",
              "    .dataframe tbody tr th {\n",
              "        vertical-align: top;\n",
              "    }\n",
              "\n",
              "    .dataframe thead th {\n",
              "        text-align: right;\n",
              "    }\n",
              "</style>\n",
              "<table border=\"1\" class=\"dataframe\">\n",
              "  <thead>\n",
              "    <tr style=\"text-align: right;\">\n",
              "      <th></th>\n",
              "      <th>category</th>\n",
              "      <th>test_type</th>\n",
              "      <th>original</th>\n",
              "      <th>test_case</th>\n",
              "    </tr>\n",
              "  </thead>\n",
              "  <tbody>\n",
              "    <tr>\n",
              "      <th>0</th>\n",
              "      <td>robustness</td>\n",
              "      <td>lowercase</td>\n",
              "      <td>Are you coming back tomorrow?</td>\n",
              "      <td>are you coming back tomorrow?</td>\n",
              "    </tr>\n",
              "    <tr>\n",
              "      <th>1</th>\n",
              "      <td>robustness</td>\n",
              "      <td>lowercase</td>\n",
              "      <td>Are you ever wrong?</td>\n",
              "      <td>are you ever wrong?</td>\n",
              "    </tr>\n",
              "    <tr>\n",
              "      <th>2</th>\n",
              "      <td>robustness</td>\n",
              "      <td>lowercase</td>\n",
              "      <td>Are you going to ask her?</td>\n",
              "      <td>are you going to ask her?</td>\n",
              "    </tr>\n",
              "    <tr>\n",
              "      <th>3</th>\n",
              "      <td>robustness</td>\n",
              "      <td>lowercase</td>\n",
              "      <td>Are you guys all right?</td>\n",
              "      <td>are you guys all right?</td>\n",
              "    </tr>\n",
              "    <tr>\n",
              "      <th>4</th>\n",
              "      <td>robustness</td>\n",
              "      <td>lowercase</td>\n",
              "      <td>Are you in Bangladesh?</td>\n",
              "      <td>are you in bangladesh?</td>\n",
              "    </tr>\n",
              "    <tr>\n",
              "      <th>5</th>\n",
              "      <td>robustness</td>\n",
              "      <td>lowercase</td>\n",
              "      <td>Are you in London?</td>\n",
              "      <td>are you in london?</td>\n",
              "    </tr>\n",
              "    <tr>\n",
              "      <th>6</th>\n",
              "      <td>robustness</td>\n",
              "      <td>lowercase</td>\n",
              "      <td>Are you interested in flowers?</td>\n",
              "      <td>are you interested in flowers?</td>\n",
              "    </tr>\n",
              "    <tr>\n",
              "      <th>7</th>\n",
              "      <td>robustness</td>\n",
              "      <td>lowercase</td>\n",
              "      <td>Are you listening to the radio?</td>\n",
              "      <td>are you listening to the radio?</td>\n",
              "    </tr>\n",
              "    <tr>\n",
              "      <th>8</th>\n",
              "      <td>robustness</td>\n",
              "      <td>uppercase</td>\n",
              "      <td>Are you coming back tomorrow?</td>\n",
              "      <td>ARE YOU COMING BACK TOMORROW?</td>\n",
              "    </tr>\n",
              "    <tr>\n",
              "      <th>9</th>\n",
              "      <td>robustness</td>\n",
              "      <td>uppercase</td>\n",
              "      <td>Are you ever wrong?</td>\n",
              "      <td>ARE YOU EVER WRONG?</td>\n",
              "    </tr>\n",
              "    <tr>\n",
              "      <th>10</th>\n",
              "      <td>robustness</td>\n",
              "      <td>uppercase</td>\n",
              "      <td>Are you going to ask her?</td>\n",
              "      <td>ARE YOU GOING TO ASK HER?</td>\n",
              "    </tr>\n",
              "    <tr>\n",
              "      <th>11</th>\n",
              "      <td>robustness</td>\n",
              "      <td>uppercase</td>\n",
              "      <td>Are you guys all right?</td>\n",
              "      <td>ARE YOU GUYS ALL RIGHT?</td>\n",
              "    </tr>\n",
              "    <tr>\n",
              "      <th>12</th>\n",
              "      <td>robustness</td>\n",
              "      <td>uppercase</td>\n",
              "      <td>Are you in Bangladesh?</td>\n",
              "      <td>ARE YOU IN BANGLADESH?</td>\n",
              "    </tr>\n",
              "    <tr>\n",
              "      <th>13</th>\n",
              "      <td>robustness</td>\n",
              "      <td>uppercase</td>\n",
              "      <td>Are you in London?</td>\n",
              "      <td>ARE YOU IN LONDON?</td>\n",
              "    </tr>\n",
              "    <tr>\n",
              "      <th>14</th>\n",
              "      <td>robustness</td>\n",
              "      <td>uppercase</td>\n",
              "      <td>Are you interested in flowers?</td>\n",
              "      <td>ARE YOU INTERESTED IN FLOWERS?</td>\n",
              "    </tr>\n",
              "    <tr>\n",
              "      <th>15</th>\n",
              "      <td>robustness</td>\n",
              "      <td>uppercase</td>\n",
              "      <td>Are you listening to the radio?</td>\n",
              "      <td>ARE YOU LISTENING TO THE RADIO?</td>\n",
              "    </tr>\n",
              "  </tbody>\n",
              "</table>\n",
              "</div>"
            ],
            "text/plain": [
              "      category  test_type                         original   \n",
              "0   robustness  lowercase    Are you coming back tomorrow?  \\\n",
              "1   robustness  lowercase              Are you ever wrong?   \n",
              "2   robustness  lowercase        Are you going to ask her?   \n",
              "3   robustness  lowercase          Are you guys all right?   \n",
              "4   robustness  lowercase           Are you in Bangladesh?   \n",
              "5   robustness  lowercase               Are you in London?   \n",
              "6   robustness  lowercase   Are you interested in flowers?   \n",
              "7   robustness  lowercase  Are you listening to the radio?   \n",
              "8   robustness  uppercase    Are you coming back tomorrow?   \n",
              "9   robustness  uppercase              Are you ever wrong?   \n",
              "10  robustness  uppercase        Are you going to ask her?   \n",
              "11  robustness  uppercase          Are you guys all right?   \n",
              "12  robustness  uppercase           Are you in Bangladesh?   \n",
              "13  robustness  uppercase               Are you in London?   \n",
              "14  robustness  uppercase   Are you interested in flowers?   \n",
              "15  robustness  uppercase  Are you listening to the radio?   \n",
              "\n",
              "                          test_case  \n",
              "0     are you coming back tomorrow?  \n",
              "1               are you ever wrong?  \n",
              "2         are you going to ask her?  \n",
              "3           are you guys all right?  \n",
              "4            are you in bangladesh?  \n",
              "5                are you in london?  \n",
              "6    are you interested in flowers?  \n",
              "7   are you listening to the radio?  \n",
              "8     ARE YOU COMING BACK TOMORROW?  \n",
              "9               ARE YOU EVER WRONG?  \n",
              "10        ARE YOU GOING TO ASK HER?  \n",
              "11          ARE YOU GUYS ALL RIGHT?  \n",
              "12           ARE YOU IN BANGLADESH?  \n",
              "13               ARE YOU IN LONDON?  \n",
              "14   ARE YOU INTERESTED IN FLOWERS?  \n",
              "15  ARE YOU LISTENING TO THE RADIO?  "
            ]
          },
          "execution_count": 30,
          "metadata": {},
          "output_type": "execute_result"
        }
      ],
      "source": [
        "harness.testcases()"
      ]
    },
    {
      "cell_type": "markdown",
      "metadata": {
        "id": "NOJ8BAU2GGzd"
      },
      "source": [
        "harness.testcases() method displays the produced test cases in form of a pandas data frame."
      ]
    },
    {
      "cell_type": "markdown",
      "metadata": {
        "id": "3CwhQw6hGR9S"
      },
      "source": [
        "### Running the tests"
      ]
    },
    {
      "cell_type": "code",
      "execution_count": 31,
      "metadata": {
        "colab": {
          "base_uri": "https://localhost:8080/"
        },
        "id": "aguX6-aFGOnP",
        "outputId": "89063ec5-eb7c-40c5-8aaa-8f53b4125873"
      },
      "outputs": [
        {
          "name": "stderr",
          "output_type": "stream",
          "text": [
            "Running testcases... :   0%|          | 0/16 [00:00<?, ?it/s]c:\\Users\\raksh\\anaconda3\\envs\\jsl\\Lib\\site-packages\\transformers\\generation\\utils.py:1219: UserWarning: You have modified the pretrained model configuration to control generation. This is a deprecated strategy to control generation and will be removed soon, in a future version. Please use a generation configuration file (see https://huggingface.co/docs/transformers/main_classes/text_generation)\n",
            "  warnings.warn(\n",
            "Running testcases... : 100%|██████████| 16/16 [00:21<00:00,  1.32s/it]\n"
          ]
        },
        {
          "data": {
            "text/plain": []
          },
          "execution_count": 31,
          "metadata": {},
          "output_type": "execute_result"
        }
      ],
      "source": [
        "harness.run()\n"
      ]
    },
    {
      "cell_type": "markdown",
      "metadata": {
        "id": "191O2oaUGWrH"
      },
      "source": [
        "Called after harness.generate() and is to used to run all the tests.  Returns a pass/fail flag for each test."
      ]
    },
    {
      "cell_type": "code",
      "execution_count": 35,
      "metadata": {},
      "outputs": [
        {
          "data": {
            "text/html": [
              "<div>\n",
              "<style scoped>\n",
              "    .dataframe tbody tr th:only-of-type {\n",
              "        vertical-align: middle;\n",
              "    }\n",
              "\n",
              "    .dataframe tbody tr th {\n",
              "        vertical-align: top;\n",
              "    }\n",
              "\n",
              "    .dataframe thead th {\n",
              "        text-align: right;\n",
              "    }\n",
              "</style>\n",
              "<table border=\"1\" class=\"dataframe\">\n",
              "  <thead>\n",
              "    <tr style=\"text-align: right;\">\n",
              "      <th></th>\n",
              "      <th>category</th>\n",
              "      <th>test_type</th>\n",
              "      <th>original</th>\n",
              "      <th>test_case</th>\n",
              "      <th>expected_result</th>\n",
              "      <th>actual_result</th>\n",
              "      <th>eval_score</th>\n",
              "      <th>pass</th>\n",
              "    </tr>\n",
              "  </thead>\n",
              "  <tbody>\n",
              "    <tr>\n",
              "      <th>0</th>\n",
              "      <td>robustness</td>\n",
              "      <td>lowercase</td>\n",
              "      <td>Are you coming back tomorrow?</td>\n",
              "      <td>are you coming back tomorrow?</td>\n",
              "      <td>Kommen Sie morgen zurück?</td>\n",
              "      <td>kehren Sie morgen zurück?</td>\n",
              "      <td>0.004109</td>\n",
              "      <td>True</td>\n",
              "    </tr>\n",
              "    <tr>\n",
              "      <th>1</th>\n",
              "      <td>robustness</td>\n",
              "      <td>lowercase</td>\n",
              "      <td>Are you ever wrong?</td>\n",
              "      <td>are you ever wrong?</td>\n",
              "      <td>Haben Sie sich jemals geirrt?</td>\n",
              "      <td>Sie irren sich jemals?</td>\n",
              "      <td>0.181412</td>\n",
              "      <td>False</td>\n",
              "    </tr>\n",
              "    <tr>\n",
              "      <th>2</th>\n",
              "      <td>robustness</td>\n",
              "      <td>lowercase</td>\n",
              "      <td>Are you going to ask her?</td>\n",
              "      <td>are you going to ask her?</td>\n",
              "      <td>Werden Sie sie fragen?</td>\n",
              "      <td>Werden Sie sie fragen?</td>\n",
              "      <td>0.000095</td>\n",
              "      <td>True</td>\n",
              "    </tr>\n",
              "    <tr>\n",
              "      <th>3</th>\n",
              "      <td>robustness</td>\n",
              "      <td>lowercase</td>\n",
              "      <td>Are you guys all right?</td>\n",
              "      <td>are you guys all right?</td>\n",
              "      <td>Ist es dir recht?</td>\n",
              "      <td>ist es gut, wenn es jemanden gibt?</td>\n",
              "      <td>0.510261</td>\n",
              "      <td>False</td>\n",
              "    </tr>\n",
              "    <tr>\n",
              "      <th>4</th>\n",
              "      <td>robustness</td>\n",
              "      <td>lowercase</td>\n",
              "      <td>Are you in Bangladesh?</td>\n",
              "      <td>are you in bangladesh?</td>\n",
              "      <td>Sind Sie in Bangladesch?</td>\n",
              "      <td>sind Sie in bangladesh?</td>\n",
              "      <td>0.002919</td>\n",
              "      <td>True</td>\n",
              "    </tr>\n",
              "    <tr>\n",
              "      <th>5</th>\n",
              "      <td>robustness</td>\n",
              "      <td>lowercase</td>\n",
              "      <td>Are you in London?</td>\n",
              "      <td>are you in london?</td>\n",
              "      <td>Sind Sie in London?</td>\n",
              "      <td>sind Sie in London?</td>\n",
              "      <td>0.000939</td>\n",
              "      <td>True</td>\n",
              "    </tr>\n",
              "    <tr>\n",
              "      <th>6</th>\n",
              "      <td>robustness</td>\n",
              "      <td>lowercase</td>\n",
              "      <td>Are you interested in flowers?</td>\n",
              "      <td>are you interested in flowers?</td>\n",
              "      <td>Sie interessieren sich für Blumen?</td>\n",
              "      <td>interessieren Sie sich für Blumen?</td>\n",
              "      <td>0.042366</td>\n",
              "      <td>True</td>\n",
              "    </tr>\n",
              "    <tr>\n",
              "      <th>7</th>\n",
              "      <td>robustness</td>\n",
              "      <td>lowercase</td>\n",
              "      <td>Are you listening to the radio?</td>\n",
              "      <td>are you listening to the radio?</td>\n",
              "      <td>Hören Sie dem Radio zu?</td>\n",
              "      <td>Hören Sie dem Radio zu?</td>\n",
              "      <td>0.000069</td>\n",
              "      <td>True</td>\n",
              "    </tr>\n",
              "    <tr>\n",
              "      <th>8</th>\n",
              "      <td>robustness</td>\n",
              "      <td>uppercase</td>\n",
              "      <td>Are you coming back tomorrow?</td>\n",
              "      <td>ARE YOU COMING BACK TOMORROW?</td>\n",
              "      <td>Kommen Sie morgen zurück?</td>\n",
              "      <td>KOMMEN SIE TOMORROW HERZ?</td>\n",
              "      <td>0.227691</td>\n",
              "      <td>False</td>\n",
              "    </tr>\n",
              "    <tr>\n",
              "      <th>9</th>\n",
              "      <td>robustness</td>\n",
              "      <td>uppercase</td>\n",
              "      <td>Are you ever wrong?</td>\n",
              "      <td>ARE YOU EVER WRONG?</td>\n",
              "      <td>Haben Sie sich jemals geirrt?</td>\n",
              "      <td>IST SIE JEGLICHE WRONG?</td>\n",
              "      <td>0.462017</td>\n",
              "      <td>False</td>\n",
              "    </tr>\n",
              "    <tr>\n",
              "      <th>10</th>\n",
              "      <td>robustness</td>\n",
              "      <td>uppercase</td>\n",
              "      <td>Are you going to ask her?</td>\n",
              "      <td>ARE YOU GOING TO ASK HER?</td>\n",
              "      <td>Werden Sie sie fragen?</td>\n",
              "      <td>WIR WOLLEN SIE IHNEN?</td>\n",
              "      <td>0.583508</td>\n",
              "      <td>False</td>\n",
              "    </tr>\n",
              "    <tr>\n",
              "      <th>12</th>\n",
              "      <td>robustness</td>\n",
              "      <td>uppercase</td>\n",
              "      <td>Are you in Bangladesh?</td>\n",
              "      <td>ARE YOU IN BANGLADESH?</td>\n",
              "      <td>Sind Sie in Bangladesch?</td>\n",
              "      <td>IST SIE IN BANGLADESH?</td>\n",
              "      <td>0.116093</td>\n",
              "      <td>False</td>\n",
              "    </tr>\n",
              "    <tr>\n",
              "      <th>13</th>\n",
              "      <td>robustness</td>\n",
              "      <td>uppercase</td>\n",
              "      <td>Are you in London?</td>\n",
              "      <td>ARE YOU IN LONDON?</td>\n",
              "      <td>Sind Sie in London?</td>\n",
              "      <td>IST SIE IN LONDON?</td>\n",
              "      <td>0.082157</td>\n",
              "      <td>True</td>\n",
              "    </tr>\n",
              "    <tr>\n",
              "      <th>14</th>\n",
              "      <td>robustness</td>\n",
              "      <td>uppercase</td>\n",
              "      <td>Are you interested in flowers?</td>\n",
              "      <td>ARE YOU INTERESTED IN FLOWERS?</td>\n",
              "      <td>Sie interessieren sich für Blumen?</td>\n",
              "      <td>IST SIE IN FLOWERS INTERFERENZ?</td>\n",
              "      <td>0.156666</td>\n",
              "      <td>False</td>\n",
              "    </tr>\n",
              "    <tr>\n",
              "      <th>15</th>\n",
              "      <td>robustness</td>\n",
              "      <td>uppercase</td>\n",
              "      <td>Are you listening to the radio?</td>\n",
              "      <td>ARE YOU LISTENING TO THE RADIO?</td>\n",
              "      <td>Hören Sie dem Radio zu?</td>\n",
              "      <td>LISTEN SIE DEN RADIO?</td>\n",
              "      <td>0.115401</td>\n",
              "      <td>False</td>\n",
              "    </tr>\n",
              "  </tbody>\n",
              "</table>\n",
              "</div>"
            ],
            "text/plain": [
              "      category  test_type                         original   \n",
              "0   robustness  lowercase    Are you coming back tomorrow?  \\\n",
              "1   robustness  lowercase              Are you ever wrong?   \n",
              "2   robustness  lowercase        Are you going to ask her?   \n",
              "3   robustness  lowercase          Are you guys all right?   \n",
              "4   robustness  lowercase           Are you in Bangladesh?   \n",
              "5   robustness  lowercase               Are you in London?   \n",
              "6   robustness  lowercase   Are you interested in flowers?   \n",
              "7   robustness  lowercase  Are you listening to the radio?   \n",
              "8   robustness  uppercase    Are you coming back tomorrow?   \n",
              "9   robustness  uppercase              Are you ever wrong?   \n",
              "10  robustness  uppercase        Are you going to ask her?   \n",
              "12  robustness  uppercase           Are you in Bangladesh?   \n",
              "13  robustness  uppercase               Are you in London?   \n",
              "14  robustness  uppercase   Are you interested in flowers?   \n",
              "15  robustness  uppercase  Are you listening to the radio?   \n",
              "\n",
              "                          test_case                     expected_result   \n",
              "0     are you coming back tomorrow?           Kommen Sie morgen zurück?  \\\n",
              "1               are you ever wrong?       Haben Sie sich jemals geirrt?   \n",
              "2         are you going to ask her?              Werden Sie sie fragen?   \n",
              "3           are you guys all right?                   Ist es dir recht?   \n",
              "4            are you in bangladesh?            Sind Sie in Bangladesch?   \n",
              "5                are you in london?                 Sind Sie in London?   \n",
              "6    are you interested in flowers?  Sie interessieren sich für Blumen?   \n",
              "7   are you listening to the radio?             Hören Sie dem Radio zu?   \n",
              "8     ARE YOU COMING BACK TOMORROW?           Kommen Sie morgen zurück?   \n",
              "9               ARE YOU EVER WRONG?       Haben Sie sich jemals geirrt?   \n",
              "10        ARE YOU GOING TO ASK HER?              Werden Sie sie fragen?   \n",
              "12           ARE YOU IN BANGLADESH?            Sind Sie in Bangladesch?   \n",
              "13               ARE YOU IN LONDON?                 Sind Sie in London?   \n",
              "14   ARE YOU INTERESTED IN FLOWERS?  Sie interessieren sich für Blumen?   \n",
              "15  ARE YOU LISTENING TO THE RADIO?             Hören Sie dem Radio zu?   \n",
              "\n",
              "                         actual_result  eval_score   pass  \n",
              "0            kehren Sie morgen zurück?    0.004109   True  \n",
              "1               Sie irren sich jemals?    0.181412  False  \n",
              "2               Werden Sie sie fragen?    0.000095   True  \n",
              "3   ist es gut, wenn es jemanden gibt?    0.510261  False  \n",
              "4              sind Sie in bangladesh?    0.002919   True  \n",
              "5                  sind Sie in London?    0.000939   True  \n",
              "6   interessieren Sie sich für Blumen?    0.042366   True  \n",
              "7              Hören Sie dem Radio zu?    0.000069   True  \n",
              "8            KOMMEN SIE TOMORROW HERZ?    0.227691  False  \n",
              "9              IST SIE JEGLICHE WRONG?    0.462017  False  \n",
              "10               WIR WOLLEN SIE IHNEN?    0.583508  False  \n",
              "12              IST SIE IN BANGLADESH?    0.116093  False  \n",
              "13                  IST SIE IN LONDON?    0.082157   True  \n",
              "14     IST SIE IN FLOWERS INTERFERENZ?    0.156666  False  \n",
              "15               LISTEN SIE DEN RADIO?    0.115401  False  "
            ]
          },
          "execution_count": 35,
          "metadata": {},
          "output_type": "execute_result"
        }
      ],
      "source": [
        "harness.generated_results()"
      ]
    },
    {
      "cell_type": "markdown",
      "metadata": {
        "id": "TKB8Rsr2GZME"
      },
      "source": [
        "This method returns the generated results in the form of a pandas dataframe, which provides a convenient and easy-to-use format for working with the test results. You can use this method to quickly identify the test cases that failed and to determine where fixes are needed."
      ]
    },
    {
      "cell_type": "markdown",
      "metadata": {
        "id": "PBSlpWnUU55G"
      },
      "source": [
        "### Final Results"
      ]
    },
    {
      "cell_type": "markdown",
      "metadata": {
        "id": "umnEgUHM8DRA"
      },
      "source": [
        "We can call `.report()` which summarizes the results giving information about pass and fail counts and overall test pass/fail flag."
      ]
    },
    {
      "cell_type": "code",
      "execution_count": 36,
      "metadata": {
        "colab": {
          "base_uri": "https://localhost:8080/",
          "height": 112
        },
        "id": "gp57HcF9yxi7",
        "outputId": "8b27acd2-732e-4cf4-b473-2279177984a1"
      },
      "outputs": [
        {
          "data": {
            "text/html": [
              "<div>\n",
              "<style scoped>\n",
              "    .dataframe tbody tr th:only-of-type {\n",
              "        vertical-align: middle;\n",
              "    }\n",
              "\n",
              "    .dataframe tbody tr th {\n",
              "        vertical-align: top;\n",
              "    }\n",
              "\n",
              "    .dataframe thead th {\n",
              "        text-align: right;\n",
              "    }\n",
              "</style>\n",
              "<table border=\"1\" class=\"dataframe\">\n",
              "  <thead>\n",
              "    <tr style=\"text-align: right;\">\n",
              "      <th></th>\n",
              "      <th>category</th>\n",
              "      <th>test_type</th>\n",
              "      <th>fail_count</th>\n",
              "      <th>pass_count</th>\n",
              "      <th>pass_rate</th>\n",
              "      <th>minimum_pass_rate</th>\n",
              "      <th>pass</th>\n",
              "    </tr>\n",
              "  </thead>\n",
              "  <tbody>\n",
              "    <tr>\n",
              "      <th>0</th>\n",
              "      <td>robustness</td>\n",
              "      <td>lowercase</td>\n",
              "      <td>2</td>\n",
              "      <td>6</td>\n",
              "      <td>75%</td>\n",
              "      <td>66%</td>\n",
              "      <td>True</td>\n",
              "    </tr>\n",
              "    <tr>\n",
              "      <th>1</th>\n",
              "      <td>robustness</td>\n",
              "      <td>uppercase</td>\n",
              "      <td>7</td>\n",
              "      <td>1</td>\n",
              "      <td>12%</td>\n",
              "      <td>66%</td>\n",
              "      <td>False</td>\n",
              "    </tr>\n",
              "  </tbody>\n",
              "</table>\n",
              "</div>"
            ],
            "text/plain": [
              "     category  test_type  fail_count  pass_count pass_rate minimum_pass_rate   \n",
              "0  robustness  lowercase           2           6       75%               66%  \\\n",
              "1  robustness  uppercase           7           1       12%               66%   \n",
              "\n",
              "    pass  \n",
              "0   True  \n",
              "1  False  "
            ]
          },
          "execution_count": 36,
          "metadata": {},
          "output_type": "execute_result"
        }
      ],
      "source": [
        "harness.report()"
      ]
    },
    {
      "cell_type": "markdown",
      "metadata": {
        "id": "zg-knds3tq-w"
      },
      "source": [
        "# Translation Testing with John Snow Labs Models"
      ]
    },
    {
      "cell_type": "code",
      "execution_count": null,
      "metadata": {
        "id": "ElMInPJMu3QK"
      },
      "outputs": [],
      "source": [
        "!pip install johnsnowlabs"
      ]
    },
    {
      "attachments": {},
      "cell_type": "markdown",
      "metadata": {},
      "source": [
        "## 👷 Setting up  John Snow Labs"
      ]
    },
    {
      "cell_type": "code",
      "execution_count": 6,
      "metadata": {
        "colab": {
          "base_uri": "https://localhost:8080/"
        },
        "id": "TnUBvYXptq-w",
        "outputId": "981a7341-20bd-4c7e-9396-497844dbaa2a"
      },
      "outputs": [
        {
          "name": "stdout",
          "output_type": "stream",
          "text": [
            "🤓 Looks like /root/.johnsnowlabs is missing, creating it\n",
            "👷 Setting up  John Snow Labs home in /root/.johnsnowlabs, this might take a few minutes.\n",
            "Downloading 🫘+🚀 Java Library spark-nlp-assembly-4.4.1.jar\n",
            "🙆 JSL Home setup in /root/.johnsnowlabs\n",
            "👌 Launched \u001b[92mcpu optimized\u001b[39m session with with: 🚀Spark-NLP==4.4.1, running on ⚡ PySpark==3.1.2\n"
          ]
        }
      ],
      "source": [
        "from johnsnowlabs import nlp\n",
        "spark = nlp.start()"
      ]
    },
    {
      "attachments": {},
      "cell_type": "markdown",
      "metadata": {},
      "source": [
        "## ⚡ Setting up Translation Pipeline"
      ]
    },
    {
      "cell_type": "code",
      "execution_count": 7,
      "metadata": {
        "colab": {
          "base_uri": "https://localhost:8080/"
        },
        "id": "t155s0tgPENg",
        "outputId": "f42e49b0-9913-42a0-cd4d-dc969a29c38a"
      },
      "outputs": [
        {
          "name": "stdout",
          "output_type": "stream",
          "text": [
            "sentence_detector_dl download started this may take some time.\n",
            "Approximate size to download 514.9 KB\n",
            "[OK!]\n",
            "opus_mt_en_sw download started this may take some time.\n",
            "Approximate size to download 376.1 MB\n",
            "[OK!]\n"
          ]
        }
      ],
      "source": [
        "# spark = nlp.start()\n",
        "documentAssembler = nlp.DocumentAssembler().setInputCol(\n",
        "    \"text\").setOutputCol(\"document\")\n",
        "\n",
        "sentencerDL = nlp.SentenceDetectorDLModel.pretrained(\n",
        "    \"sentence_detector_dl\", \"xx\").setInputCols([\"document\"]).setOutputCol(\"sentences\")\n",
        "\n",
        "marian = nlp.MarianTransformer.pretrained(\"opus_mt_en_sw\", \"xx\").setInputCols([\n",
        "    \"sentences\"]).setOutputCol(\"translation\")\n",
        "\n",
        "translation_pipeline = nlp.Pipeline().setStages([\n",
        "    documentAssembler,\n",
        "    sentencerDL,\n",
        "    marian\n",
        "])\n",
        "\n",
        "translation_model = translation_pipeline.fit(\n",
        "    spark.createDataFrame([[\"\"]]).toDF(\"text\"))\n"
      ]
    },
    {
      "cell_type": "code",
      "execution_count": 10,
      "metadata": {
        "colab": {
          "base_uri": "https://localhost:8080/"
        },
        "id": "yey-zVICtq-w",
        "outputId": "47cd0535-c27b-435d-bcec-31cfc5ed64e7"
      },
      "outputs": [
        {
          "name": "stdout",
          "output_type": "stream",
          "text": [
            "Test Configuration : \n",
            " {\n",
            " \"tests\": {\n",
            "  \"defaults\": {\n",
            "   \"min_pass_rate\": 1.0\n",
            "  },\n",
            "  \"robustness\": {\n",
            "   \"lowercase\": {\n",
            "    \"min_pass_rate\": 0.7\n",
            "   },\n",
            "   \"uppercase\": {\n",
            "    \"min_pass_rate\": 0.7\n",
            "   }\n",
            "  }\n",
            " }\n",
            "}\n"
          ]
        }
      ],
      "source": [
        "harness = Harness(task=\"translation\",\n",
        "                  model={\"model\": translation_model, \"hub\": \"johnsnowlabs\"},\n",
        "                  data={\"data_source\": \"Translation\",\n",
        "                         \"split\":\"test\"}\n",
        "                  )"
      ]
    },
    {
      "cell_type": "code",
      "execution_count": 11,
      "metadata": {
        "id": "JnNY9tcsRSkl"
      },
      "outputs": [],
      "source": [
        "harness.data = harness.data[:10]"
      ]
    },
    {
      "attachments": {},
      "cell_type": "markdown",
      "metadata": {},
      "source": [
        "We can use the .configure() method to manually define our test configuration for the robustness tests."
      ]
    },
    {
      "cell_type": "code",
      "execution_count": 12,
      "metadata": {
        "colab": {
          "base_uri": "https://localhost:8080/"
        },
        "id": "JwK7oi7Etq-w",
        "outputId": "e0c59c72-043f-4055-c6f1-9ed5b6894c2e"
      },
      "outputs": [
        {
          "data": {
            "text/plain": [
              "{'tests': {'defaults': {'min_pass_rate': 0.65},\n",
              "  'robustness': {'lowercase': {'min_pass_rate': 0.66},\n",
              "   'uppercase': {'min_pass_rate': 0.66}}}}"
            ]
          },
          "execution_count": 12,
          "metadata": {},
          "output_type": "execute_result"
        }
      ],
      "source": [
        "harness.configure(\n",
        "    {\n",
        "        'tests': {'defaults': {'min_pass_rate': 0.65},\n",
        "                  'robustness': {'lowercase': {'min_pass_rate': 0.66},\n",
        "                                 'uppercase': {'min_pass_rate': 0.66},\n",
        "                                 }\n",
        "                  }\n",
        "    }\n",
        ")\n"
      ]
    },
    {
      "attachments": {},
      "cell_type": "markdown",
      "metadata": {},
      "source": [
        "Here we have configured the harness to perform two tests (uppercase and lowercase) and defined the minimum pass rate for each test."
      ]
    },
    {
      "attachments": {},
      "cell_type": "markdown",
      "metadata": {},
      "source": [
        "### ⚙️ Generating the test cases."
      ]
    },
    {
      "cell_type": "code",
      "execution_count": 13,
      "metadata": {
        "colab": {
          "base_uri": "https://localhost:8080/"
        },
        "id": "vTbPwStvtq-x",
        "outputId": "351b0366-af68-4c26-9862-92079245db4c"
      },
      "outputs": [
        {
          "name": "stderr",
          "output_type": "stream",
          "text": [
            "Generating testcases...: 100%|██████████| 1/1 [00:00<00:00, 5555.37it/s]\n"
          ]
        },
        {
          "data": {
            "text/plain": []
          },
          "execution_count": 13,
          "metadata": {},
          "output_type": "execute_result"
        }
      ],
      "source": [
        "harness.generate()"
      ]
    },
    {
      "cell_type": "code",
      "execution_count": 14,
      "metadata": {
        "colab": {
          "base_uri": "https://localhost:8080/",
          "height": 677
        },
        "id": "uzwjK9BrRb6N",
        "outputId": "f57aa700-9a4e-41d3-e84c-6d39d2dd6a5a"
      },
      "outputs": [
        {
          "data": {
            "text/html": [
              "\n",
              "  <div id=\"df-544d232a-23be-4fb0-9129-8d76255c4f89\">\n",
              "    <div class=\"colab-df-container\">\n",
              "      <div>\n",
              "<style scoped>\n",
              "    .dataframe tbody tr th:only-of-type {\n",
              "        vertical-align: middle;\n",
              "    }\n",
              "\n",
              "    .dataframe tbody tr th {\n",
              "        vertical-align: top;\n",
              "    }\n",
              "\n",
              "    .dataframe thead th {\n",
              "        text-align: right;\n",
              "    }\n",
              "</style>\n",
              "<table border=\"1\" class=\"dataframe\">\n",
              "  <thead>\n",
              "    <tr style=\"text-align: right;\">\n",
              "      <th></th>\n",
              "      <th>category</th>\n",
              "      <th>test_type</th>\n",
              "      <th>original</th>\n",
              "      <th>test_case</th>\n",
              "    </tr>\n",
              "  </thead>\n",
              "  <tbody>\n",
              "    <tr>\n",
              "      <th>0</th>\n",
              "      <td>robustness</td>\n",
              "      <td>lowercase</td>\n",
              "      <td>Absence of rain caused the plants to die.</td>\n",
              "      <td>absence of rain caused the plants to die.</td>\n",
              "    </tr>\n",
              "    <tr>\n",
              "      <th>1</th>\n",
              "      <td>robustness</td>\n",
              "      <td>lowercase</td>\n",
              "      <td>A button has come off my raincoat.</td>\n",
              "      <td>a button has come off my raincoat.</td>\n",
              "    </tr>\n",
              "    <tr>\n",
              "      <th>2</th>\n",
              "      <td>robustness</td>\n",
              "      <td>lowercase</td>\n",
              "      <td>A cat ran after a mouse.</td>\n",
              "      <td>a cat ran after a mouse.</td>\n",
              "    </tr>\n",
              "    <tr>\n",
              "      <th>3</th>\n",
              "      <td>robustness</td>\n",
              "      <td>lowercase</td>\n",
              "      <td>A clock has two hands.</td>\n",
              "      <td>a clock has two hands.</td>\n",
              "    </tr>\n",
              "    <tr>\n",
              "      <th>4</th>\n",
              "      <td>robustness</td>\n",
              "      <td>lowercase</td>\n",
              "      <td>A country is a dangerous machine.</td>\n",
              "      <td>a country is a dangerous machine.</td>\n",
              "    </tr>\n",
              "    <tr>\n",
              "      <th>5</th>\n",
              "      <td>robustness</td>\n",
              "      <td>lowercase</td>\n",
              "      <td>A crow is as black as coal.</td>\n",
              "      <td>a crow is as black as coal.</td>\n",
              "    </tr>\n",
              "    <tr>\n",
              "      <th>6</th>\n",
              "      <td>robustness</td>\n",
              "      <td>lowercase</td>\n",
              "      <td>Actinium was discovered by André-Louis Debiern...</td>\n",
              "      <td>actinium was discovered by andré-louis debiern...</td>\n",
              "    </tr>\n",
              "    <tr>\n",
              "      <th>7</th>\n",
              "      <td>robustness</td>\n",
              "      <td>lowercase</td>\n",
              "      <td>Add a little sugar and cream.</td>\n",
              "      <td>add a little sugar and cream.</td>\n",
              "    </tr>\n",
              "    <tr>\n",
              "      <th>8</th>\n",
              "      <td>robustness</td>\n",
              "      <td>lowercase</td>\n",
              "      <td>Adopt the pace of nature: her secret is patience.</td>\n",
              "      <td>adopt the pace of nature: her secret is patience.</td>\n",
              "    </tr>\n",
              "    <tr>\n",
              "      <th>9</th>\n",
              "      <td>robustness</td>\n",
              "      <td>lowercase</td>\n",
              "      <td>A fire broke out near my house.</td>\n",
              "      <td>a fire broke out near my house.</td>\n",
              "    </tr>\n",
              "    <tr>\n",
              "      <th>10</th>\n",
              "      <td>robustness</td>\n",
              "      <td>uppercase</td>\n",
              "      <td>Absence of rain caused the plants to die.</td>\n",
              "      <td>ABSENCE OF RAIN CAUSED THE PLANTS TO DIE.</td>\n",
              "    </tr>\n",
              "    <tr>\n",
              "      <th>11</th>\n",
              "      <td>robustness</td>\n",
              "      <td>uppercase</td>\n",
              "      <td>A button has come off my raincoat.</td>\n",
              "      <td>A BUTTON HAS COME OFF MY RAINCOAT.</td>\n",
              "    </tr>\n",
              "    <tr>\n",
              "      <th>12</th>\n",
              "      <td>robustness</td>\n",
              "      <td>uppercase</td>\n",
              "      <td>A cat ran after a mouse.</td>\n",
              "      <td>A CAT RAN AFTER A MOUSE.</td>\n",
              "    </tr>\n",
              "    <tr>\n",
              "      <th>13</th>\n",
              "      <td>robustness</td>\n",
              "      <td>uppercase</td>\n",
              "      <td>A clock has two hands.</td>\n",
              "      <td>A CLOCK HAS TWO HANDS.</td>\n",
              "    </tr>\n",
              "    <tr>\n",
              "      <th>14</th>\n",
              "      <td>robustness</td>\n",
              "      <td>uppercase</td>\n",
              "      <td>A country is a dangerous machine.</td>\n",
              "      <td>A COUNTRY IS A DANGEROUS MACHINE.</td>\n",
              "    </tr>\n",
              "    <tr>\n",
              "      <th>15</th>\n",
              "      <td>robustness</td>\n",
              "      <td>uppercase</td>\n",
              "      <td>A crow is as black as coal.</td>\n",
              "      <td>A CROW IS AS BLACK AS COAL.</td>\n",
              "    </tr>\n",
              "    <tr>\n",
              "      <th>16</th>\n",
              "      <td>robustness</td>\n",
              "      <td>uppercase</td>\n",
              "      <td>Actinium was discovered by André-Louis Debiern...</td>\n",
              "      <td>ACTINIUM WAS DISCOVERED BY ANDRÉ-LOUIS DEBIERN...</td>\n",
              "    </tr>\n",
              "    <tr>\n",
              "      <th>17</th>\n",
              "      <td>robustness</td>\n",
              "      <td>uppercase</td>\n",
              "      <td>Add a little sugar and cream.</td>\n",
              "      <td>ADD A LITTLE SUGAR AND CREAM.</td>\n",
              "    </tr>\n",
              "    <tr>\n",
              "      <th>18</th>\n",
              "      <td>robustness</td>\n",
              "      <td>uppercase</td>\n",
              "      <td>Adopt the pace of nature: her secret is patience.</td>\n",
              "      <td>ADOPT THE PACE OF NATURE: HER SECRET IS PATIENCE.</td>\n",
              "    </tr>\n",
              "    <tr>\n",
              "      <th>19</th>\n",
              "      <td>robustness</td>\n",
              "      <td>uppercase</td>\n",
              "      <td>A fire broke out near my house.</td>\n",
              "      <td>A FIRE BROKE OUT NEAR MY HOUSE.</td>\n",
              "    </tr>\n",
              "  </tbody>\n",
              "</table>\n",
              "</div>\n",
              "      <button class=\"colab-df-convert\" onclick=\"convertToInteractive('df-544d232a-23be-4fb0-9129-8d76255c4f89')\"\n",
              "              title=\"Convert this dataframe to an interactive table.\"\n",
              "              style=\"display:none;\">\n",
              "        \n",
              "  <svg xmlns=\"http://www.w3.org/2000/svg\" height=\"24px\"viewBox=\"0 0 24 24\"\n",
              "       width=\"24px\">\n",
              "    <path d=\"M0 0h24v24H0V0z\" fill=\"none\"/>\n",
              "    <path d=\"M18.56 5.44l.94 2.06.94-2.06 2.06-.94-2.06-.94-.94-2.06-.94 2.06-2.06.94zm-11 1L8.5 8.5l.94-2.06 2.06-.94-2.06-.94L8.5 2.5l-.94 2.06-2.06.94zm10 10l.94 2.06.94-2.06 2.06-.94-2.06-.94-.94-2.06-.94 2.06-2.06.94z\"/><path d=\"M17.41 7.96l-1.37-1.37c-.4-.4-.92-.59-1.43-.59-.52 0-1.04.2-1.43.59L10.3 9.45l-7.72 7.72c-.78.78-.78 2.05 0 2.83L4 21.41c.39.39.9.59 1.41.59.51 0 1.02-.2 1.41-.59l7.78-7.78 2.81-2.81c.8-.78.8-2.07 0-2.86zM5.41 20L4 18.59l7.72-7.72 1.47 1.35L5.41 20z\"/>\n",
              "  </svg>\n",
              "      </button>\n",
              "      \n",
              "  <style>\n",
              "    .colab-df-container {\n",
              "      display:flex;\n",
              "      flex-wrap:wrap;\n",
              "      gap: 12px;\n",
              "    }\n",
              "\n",
              "    .colab-df-convert {\n",
              "      background-color: #E8F0FE;\n",
              "      border: none;\n",
              "      border-radius: 50%;\n",
              "      cursor: pointer;\n",
              "      display: none;\n",
              "      fill: #1967D2;\n",
              "      height: 32px;\n",
              "      padding: 0 0 0 0;\n",
              "      width: 32px;\n",
              "    }\n",
              "\n",
              "    .colab-df-convert:hover {\n",
              "      background-color: #E2EBFA;\n",
              "      box-shadow: 0px 1px 2px rgba(60, 64, 67, 0.3), 0px 1px 3px 1px rgba(60, 64, 67, 0.15);\n",
              "      fill: #174EA6;\n",
              "    }\n",
              "\n",
              "    [theme=dark] .colab-df-convert {\n",
              "      background-color: #3B4455;\n",
              "      fill: #D2E3FC;\n",
              "    }\n",
              "\n",
              "    [theme=dark] .colab-df-convert:hover {\n",
              "      background-color: #434B5C;\n",
              "      box-shadow: 0px 1px 3px 1px rgba(0, 0, 0, 0.15);\n",
              "      filter: drop-shadow(0px 1px 2px rgba(0, 0, 0, 0.3));\n",
              "      fill: #FFFFFF;\n",
              "    }\n",
              "  </style>\n",
              "\n",
              "      <script>\n",
              "        const buttonEl =\n",
              "          document.querySelector('#df-544d232a-23be-4fb0-9129-8d76255c4f89 button.colab-df-convert');\n",
              "        buttonEl.style.display =\n",
              "          google.colab.kernel.accessAllowed ? 'block' : 'none';\n",
              "\n",
              "        async function convertToInteractive(key) {\n",
              "          const element = document.querySelector('#df-544d232a-23be-4fb0-9129-8d76255c4f89');\n",
              "          const dataTable =\n",
              "            await google.colab.kernel.invokeFunction('convertToInteractive',\n",
              "                                                     [key], {});\n",
              "          if (!dataTable) return;\n",
              "\n",
              "          const docLinkHtml = 'Like what you see? Visit the ' +\n",
              "            '<a target=\"_blank\" href=https://colab.research.google.com/notebooks/data_table.ipynb>data table notebook</a>'\n",
              "            + ' to learn more about interactive tables.';\n",
              "          element.innerHTML = '';\n",
              "          dataTable['output_type'] = 'display_data';\n",
              "          await google.colab.output.renderOutput(dataTable, element);\n",
              "          const docLink = document.createElement('div');\n",
              "          docLink.innerHTML = docLinkHtml;\n",
              "          element.appendChild(docLink);\n",
              "        }\n",
              "      </script>\n",
              "    </div>\n",
              "  </div>\n",
              "  "
            ],
            "text/plain": [
              "      category  test_type                                           original  \\\n",
              "0   robustness  lowercase          Absence of rain caused the plants to die.   \n",
              "1   robustness  lowercase                 A button has come off my raincoat.   \n",
              "2   robustness  lowercase                           A cat ran after a mouse.   \n",
              "3   robustness  lowercase                             A clock has two hands.   \n",
              "4   robustness  lowercase                  A country is a dangerous machine.   \n",
              "5   robustness  lowercase                        A crow is as black as coal.   \n",
              "6   robustness  lowercase  Actinium was discovered by André-Louis Debiern...   \n",
              "7   robustness  lowercase                      Add a little sugar and cream.   \n",
              "8   robustness  lowercase  Adopt the pace of nature: her secret is patience.   \n",
              "9   robustness  lowercase                    A fire broke out near my house.   \n",
              "10  robustness  uppercase          Absence of rain caused the plants to die.   \n",
              "11  robustness  uppercase                 A button has come off my raincoat.   \n",
              "12  robustness  uppercase                           A cat ran after a mouse.   \n",
              "13  robustness  uppercase                             A clock has two hands.   \n",
              "14  robustness  uppercase                  A country is a dangerous machine.   \n",
              "15  robustness  uppercase                        A crow is as black as coal.   \n",
              "16  robustness  uppercase  Actinium was discovered by André-Louis Debiern...   \n",
              "17  robustness  uppercase                      Add a little sugar and cream.   \n",
              "18  robustness  uppercase  Adopt the pace of nature: her secret is patience.   \n",
              "19  robustness  uppercase                    A fire broke out near my house.   \n",
              "\n",
              "                                            test_case  \n",
              "0           absence of rain caused the plants to die.  \n",
              "1                  a button has come off my raincoat.  \n",
              "2                            a cat ran after a mouse.  \n",
              "3                              a clock has two hands.  \n",
              "4                   a country is a dangerous machine.  \n",
              "5                         a crow is as black as coal.  \n",
              "6   actinium was discovered by andré-louis debiern...  \n",
              "7                       add a little sugar and cream.  \n",
              "8   adopt the pace of nature: her secret is patience.  \n",
              "9                     a fire broke out near my house.  \n",
              "10          ABSENCE OF RAIN CAUSED THE PLANTS TO DIE.  \n",
              "11                 A BUTTON HAS COME OFF MY RAINCOAT.  \n",
              "12                           A CAT RAN AFTER A MOUSE.  \n",
              "13                             A CLOCK HAS TWO HANDS.  \n",
              "14                  A COUNTRY IS A DANGEROUS MACHINE.  \n",
              "15                        A CROW IS AS BLACK AS COAL.  \n",
              "16  ACTINIUM WAS DISCOVERED BY ANDRÉ-LOUIS DEBIERN...  \n",
              "17                      ADD A LITTLE SUGAR AND CREAM.  \n",
              "18  ADOPT THE PACE OF NATURE: HER SECRET IS PATIENCE.  \n",
              "19                    A FIRE BROKE OUT NEAR MY HOUSE.  "
            ]
          },
          "execution_count": 14,
          "metadata": {},
          "output_type": "execute_result"
        }
      ],
      "source": [
        "harness.testcases()"
      ]
    },
    {
      "attachments": {},
      "cell_type": "markdown",
      "metadata": {},
      "source": [
        "### ⏳ Running the tests."
      ]
    },
    {
      "cell_type": "code",
      "execution_count": 15,
      "metadata": {
        "colab": {
          "base_uri": "https://localhost:8080/"
        },
        "id": "xAELp_eZReVZ",
        "outputId": "e6d2dc83-d8b8-4c3e-c0bd-378e2320ead9"
      },
      "outputs": [
        {
          "name": "stderr",
          "output_type": "stream",
          "text": [
            "Running testcases... : 100%|██████████| 20/20 [00:38<00:00,  1.94s/it]\n"
          ]
        },
        {
          "data": {
            "text/plain": []
          },
          "execution_count": 15,
          "metadata": {},
          "output_type": "execute_result"
        }
      ],
      "source": [
        "harness.run()"
      ]
    },
    {
      "attachments": {},
      "cell_type": "markdown",
      "metadata": {},
      "source": [
        "Called after harness.generate() and is to used to run all the tests.  Returns a pass/fail flag for each test."
      ]
    },
    {
      "attachments": {},
      "cell_type": "markdown",
      "metadata": {},
      "source": [
        "### 🧾 Generated Results"
      ]
    },
    {
      "cell_type": "code",
      "execution_count": 16,
      "metadata": {
        "colab": {
          "base_uri": "https://localhost:8080/",
          "height": 825
        },
        "id": "AUZUeCpLtq-x",
        "outputId": "720991ab-0c29-49b3-92d3-685cecd80e20"
      },
      "outputs": [
        {
          "data": {
            "text/html": [
              "\n",
              "  <div id=\"df-c4e61d0e-b592-4aa7-9d06-cb4b9cff9d2d\">\n",
              "    <div class=\"colab-df-container\">\n",
              "      <div>\n",
              "<style scoped>\n",
              "    .dataframe tbody tr th:only-of-type {\n",
              "        vertical-align: middle;\n",
              "    }\n",
              "\n",
              "    .dataframe tbody tr th {\n",
              "        vertical-align: top;\n",
              "    }\n",
              "\n",
              "    .dataframe thead th {\n",
              "        text-align: right;\n",
              "    }\n",
              "</style>\n",
              "<table border=\"1\" class=\"dataframe\">\n",
              "  <thead>\n",
              "    <tr style=\"text-align: right;\">\n",
              "      <th></th>\n",
              "      <th>category</th>\n",
              "      <th>test_type</th>\n",
              "      <th>original</th>\n",
              "      <th>test_case</th>\n",
              "      <th>expected_result</th>\n",
              "      <th>actual_result</th>\n",
              "      <th>eval_score</th>\n",
              "      <th>pass</th>\n",
              "    </tr>\n",
              "  </thead>\n",
              "  <tbody>\n",
              "    <tr>\n",
              "      <th>0</th>\n",
              "      <td>robustness</td>\n",
              "      <td>lowercase</td>\n",
              "      <td>Absence of rain caused the plants to die.</td>\n",
              "      <td>absence of rain caused the plants to die.</td>\n",
              "      <td>Mvua nyingi sana ilisababisha mimea hiyo ife.</td>\n",
              "      <td>Kwa sababu mimea hiyo haikunyeshewa na mvua, m...</td>\n",
              "      <td>0.640421</td>\n",
              "      <td>False</td>\n",
              "    </tr>\n",
              "    <tr>\n",
              "      <th>1</th>\n",
              "      <td>robustness</td>\n",
              "      <td>lowercase</td>\n",
              "      <td>A button has come off my raincoat.</td>\n",
              "      <td>a button has come off my raincoat.</td>\n",
              "      <td>Kituo cha kuandikia kimetoka kwenye koti langu...</td>\n",
              "      <td>kitufe kimetoka kwenye koti langu la mvua.</td>\n",
              "      <td>0.109442</td>\n",
              "      <td>False</td>\n",
              "    </tr>\n",
              "    <tr>\n",
              "      <th>2</th>\n",
              "      <td>robustness</td>\n",
              "      <td>lowercase</td>\n",
              "      <td>A cat ran after a mouse.</td>\n",
              "      <td>a cat ran after a mouse.</td>\n",
              "      <td>Paka mmoja alikimbia baada ya panya.</td>\n",
              "      <td>Paka alikimbia baada ya panya.</td>\n",
              "      <td>0.124153</td>\n",
              "      <td>False</td>\n",
              "    </tr>\n",
              "    <tr>\n",
              "      <th>3</th>\n",
              "      <td>robustness</td>\n",
              "      <td>lowercase</td>\n",
              "      <td>A clock has two hands.</td>\n",
              "      <td>a clock has two hands.</td>\n",
              "      <td>Saa ina mikono miwili.</td>\n",
              "      <td>Saa ina mikono miwili.</td>\n",
              "      <td>0.000034</td>\n",
              "      <td>True</td>\n",
              "    </tr>\n",
              "    <tr>\n",
              "      <th>4</th>\n",
              "      <td>robustness</td>\n",
              "      <td>lowercase</td>\n",
              "      <td>A country is a dangerous machine.</td>\n",
              "      <td>a country is a dangerous machine.</td>\n",
              "      <td>Nchi ni mashine hatari.</td>\n",
              "      <td>nchi ni mashine hatari.</td>\n",
              "      <td>0.044457</td>\n",
              "      <td>True</td>\n",
              "    </tr>\n",
              "    <tr>\n",
              "      <th>5</th>\n",
              "      <td>robustness</td>\n",
              "      <td>lowercase</td>\n",
              "      <td>A crow is as black as coal.</td>\n",
              "      <td>a crow is as black as coal.</td>\n",
              "      <td>Kunguru ni mweusi kama makaa - mawe.</td>\n",
              "      <td>Kunguru ni mweusi kama makaa - mawe.</td>\n",
              "      <td>0.000099</td>\n",
              "      <td>True</td>\n",
              "    </tr>\n",
              "    <tr>\n",
              "      <th>6</th>\n",
              "      <td>robustness</td>\n",
              "      <td>lowercase</td>\n",
              "      <td>Actinium was discovered by André-Louis Debiern...</td>\n",
              "      <td>actinium was discovered by andré-louis debiern...</td>\n",
              "      <td>Actinium iligunduliwa na André-Louis Debierne ...</td>\n",
              "      <td>aktinium iligunduliwa na naré-louis debierne m...</td>\n",
              "      <td>0.170436</td>\n",
              "      <td>False</td>\n",
              "    </tr>\n",
              "    <tr>\n",
              "      <th>7</th>\n",
              "      <td>robustness</td>\n",
              "      <td>lowercase</td>\n",
              "      <td>Add a little sugar and cream.</td>\n",
              "      <td>add a little sugar and cream.</td>\n",
              "      <td>Ongeza sukari kidogo na krimu.</td>\n",
              "      <td>huongeza sukari na krimu kidogo.</td>\n",
              "      <td>0.058893</td>\n",
              "      <td>True</td>\n",
              "    </tr>\n",
              "    <tr>\n",
              "      <th>8</th>\n",
              "      <td>robustness</td>\n",
              "      <td>lowercase</td>\n",
              "      <td>Adopt the pace of nature: her secret is patience.</td>\n",
              "      <td>adopt the pace of nature: her secret is patience.</td>\n",
              "      <td>Uwe na subira na uonyeshe subira.</td>\n",
              "      <td>Fanya mambo kulingana na hali: siri yake ni su...</td>\n",
              "      <td>0.496848</td>\n",
              "      <td>False</td>\n",
              "    </tr>\n",
              "    <tr>\n",
              "      <th>9</th>\n",
              "      <td>robustness</td>\n",
              "      <td>lowercase</td>\n",
              "      <td>A fire broke out near my house.</td>\n",
              "      <td>a fire broke out near my house.</td>\n",
              "      <td>Moto ulitokea karibu na nyumba yangu.</td>\n",
              "      <td>moto ulitokea karibu na nyumba yangu.</td>\n",
              "      <td>0.061493</td>\n",
              "      <td>True</td>\n",
              "    </tr>\n",
              "    <tr>\n",
              "      <th>10</th>\n",
              "      <td>robustness</td>\n",
              "      <td>uppercase</td>\n",
              "      <td>Absence of rain caused the plants to die.</td>\n",
              "      <td>ABSENCE OF RAIN CAUSED THE PLANTS TO DIE.</td>\n",
              "      <td>Mvua nyingi sana ilisababisha mimea hiyo ife.</td>\n",
              "      <td>UBALILIFU WA KUSAHAU UNAPENDESHA DAWA.</td>\n",
              "      <td>0.696202</td>\n",
              "      <td>False</td>\n",
              "    </tr>\n",
              "    <tr>\n",
              "      <th>11</th>\n",
              "      <td>robustness</td>\n",
              "      <td>uppercase</td>\n",
              "      <td>A button has come off my raincoat.</td>\n",
              "      <td>A BUTTON HAS COME OFF MY RAINCOAT.</td>\n",
              "      <td>Kituo cha kuandikia kimetoka kwenye koti langu...</td>\n",
              "      <td>LIPE LIPTON IMEKUJA NA MILIMA YANGU.</td>\n",
              "      <td>0.295836</td>\n",
              "      <td>False</td>\n",
              "    </tr>\n",
              "    <tr>\n",
              "      <th>12</th>\n",
              "      <td>robustness</td>\n",
              "      <td>uppercase</td>\n",
              "      <td>A cat ran after a mouse.</td>\n",
              "      <td>A CAT RAN AFTER A MOUSE.</td>\n",
              "      <td>Paka mmoja alikimbia baada ya panya.</td>\n",
              "      <td>ASIYE MBAKI ASIYE NA MADILI.</td>\n",
              "      <td>0.579674</td>\n",
              "      <td>False</td>\n",
              "    </tr>\n",
              "    <tr>\n",
              "      <th>13</th>\n",
              "      <td>robustness</td>\n",
              "      <td>uppercase</td>\n",
              "      <td>A clock has two hands.</td>\n",
              "      <td>A CLOCK HAS TWO HANDS.</td>\n",
              "      <td>Saa ina mikono miwili.</td>\n",
              "      <td>MKARIBIKO WA MILIMA AMETAWILI.</td>\n",
              "      <td>0.725041</td>\n",
              "      <td>False</td>\n",
              "    </tr>\n",
              "    <tr>\n",
              "      <th>14</th>\n",
              "      <td>robustness</td>\n",
              "      <td>uppercase</td>\n",
              "      <td>A country is a dangerous machine.</td>\n",
              "      <td>A COUNTRY IS A DANGEROUS MACHINE.</td>\n",
              "      <td>Nchi ni mashine hatari.</td>\n",
              "      <td>NCHI NI MAKEO YA HARAKA.</td>\n",
              "      <td>0.863601</td>\n",
              "      <td>False</td>\n",
              "    </tr>\n",
              "    <tr>\n",
              "      <th>15</th>\n",
              "      <td>robustness</td>\n",
              "      <td>uppercase</td>\n",
              "      <td>A crow is as black as coal.</td>\n",
              "      <td>A CROW IS AS BLACK AS COAL.</td>\n",
              "      <td>Kunguru ni mweusi kama makaa - mawe.</td>\n",
              "      <td>UKWELI NI MLAYA.</td>\n",
              "      <td>0.545528</td>\n",
              "      <td>False</td>\n",
              "    </tr>\n",
              "    <tr>\n",
              "      <th>16</th>\n",
              "      <td>robustness</td>\n",
              "      <td>uppercase</td>\n",
              "      <td>Actinium was discovered by André-Louis Debiern...</td>\n",
              "      <td>ACTINIUM WAS DISCOVERED BY ANDRÉ-LOUIS DEBIERN...</td>\n",
              "      <td>Actinium iligunduliwa na André-Louis Debierne ...</td>\n",
              "      <td>MATOKEO YA ANDRÉ -LOUIS KATIKA 1899 YAMESHUA K...</td>\n",
              "      <td>0.534243</td>\n",
              "      <td>False</td>\n",
              "    </tr>\n",
              "    <tr>\n",
              "      <th>17</th>\n",
              "      <td>robustness</td>\n",
              "      <td>uppercase</td>\n",
              "      <td>Add a little sugar and cream.</td>\n",
              "      <td>ADD A LITTLE SUGAR AND CREAM.</td>\n",
              "      <td>Ongeza sukari kidogo na krimu.</td>\n",
              "      <td>ADD LILEGAR NA CREAM.</td>\n",
              "      <td>0.252541</td>\n",
              "      <td>False</td>\n",
              "    </tr>\n",
              "    <tr>\n",
              "      <th>18</th>\n",
              "      <td>robustness</td>\n",
              "      <td>uppercase</td>\n",
              "      <td>Adopt the pace of nature: her secret is patience.</td>\n",
              "      <td>ADOPT THE PACE OF NATURE: HER SECRET IS PATIENCE.</td>\n",
              "      <td>Uwe na subira na uonyeshe subira.</td>\n",
              "      <td>USINGIZI WA KUAMBUKANA: KUSHUGHULIKA NI UVUTANO.</td>\n",
              "      <td>0.499680</td>\n",
              "      <td>False</td>\n",
              "    </tr>\n",
              "    <tr>\n",
              "      <th>19</th>\n",
              "      <td>robustness</td>\n",
              "      <td>uppercase</td>\n",
              "      <td>A fire broke out near my house.</td>\n",
              "      <td>A FIRE BROKE OUT NEAR MY HOUSE.</td>\n",
              "      <td>Moto ulitokea karibu na nyumba yangu.</td>\n",
              "      <td>BADARAJA LINAVYOANUA KOIS YANGU.</td>\n",
              "      <td>0.573432</td>\n",
              "      <td>False</td>\n",
              "    </tr>\n",
              "  </tbody>\n",
              "</table>\n",
              "</div>\n",
              "      <button class=\"colab-df-convert\" onclick=\"convertToInteractive('df-c4e61d0e-b592-4aa7-9d06-cb4b9cff9d2d')\"\n",
              "              title=\"Convert this dataframe to an interactive table.\"\n",
              "              style=\"display:none;\">\n",
              "        \n",
              "  <svg xmlns=\"http://www.w3.org/2000/svg\" height=\"24px\"viewBox=\"0 0 24 24\"\n",
              "       width=\"24px\">\n",
              "    <path d=\"M0 0h24v24H0V0z\" fill=\"none\"/>\n",
              "    <path d=\"M18.56 5.44l.94 2.06.94-2.06 2.06-.94-2.06-.94-.94-2.06-.94 2.06-2.06.94zm-11 1L8.5 8.5l.94-2.06 2.06-.94-2.06-.94L8.5 2.5l-.94 2.06-2.06.94zm10 10l.94 2.06.94-2.06 2.06-.94-2.06-.94-.94-2.06-.94 2.06-2.06.94z\"/><path d=\"M17.41 7.96l-1.37-1.37c-.4-.4-.92-.59-1.43-.59-.52 0-1.04.2-1.43.59L10.3 9.45l-7.72 7.72c-.78.78-.78 2.05 0 2.83L4 21.41c.39.39.9.59 1.41.59.51 0 1.02-.2 1.41-.59l7.78-7.78 2.81-2.81c.8-.78.8-2.07 0-2.86zM5.41 20L4 18.59l7.72-7.72 1.47 1.35L5.41 20z\"/>\n",
              "  </svg>\n",
              "      </button>\n",
              "      \n",
              "  <style>\n",
              "    .colab-df-container {\n",
              "      display:flex;\n",
              "      flex-wrap:wrap;\n",
              "      gap: 12px;\n",
              "    }\n",
              "\n",
              "    .colab-df-convert {\n",
              "      background-color: #E8F0FE;\n",
              "      border: none;\n",
              "      border-radius: 50%;\n",
              "      cursor: pointer;\n",
              "      display: none;\n",
              "      fill: #1967D2;\n",
              "      height: 32px;\n",
              "      padding: 0 0 0 0;\n",
              "      width: 32px;\n",
              "    }\n",
              "\n",
              "    .colab-df-convert:hover {\n",
              "      background-color: #E2EBFA;\n",
              "      box-shadow: 0px 1px 2px rgba(60, 64, 67, 0.3), 0px 1px 3px 1px rgba(60, 64, 67, 0.15);\n",
              "      fill: #174EA6;\n",
              "    }\n",
              "\n",
              "    [theme=dark] .colab-df-convert {\n",
              "      background-color: #3B4455;\n",
              "      fill: #D2E3FC;\n",
              "    }\n",
              "\n",
              "    [theme=dark] .colab-df-convert:hover {\n",
              "      background-color: #434B5C;\n",
              "      box-shadow: 0px 1px 3px 1px rgba(0, 0, 0, 0.15);\n",
              "      filter: drop-shadow(0px 1px 2px rgba(0, 0, 0, 0.3));\n",
              "      fill: #FFFFFF;\n",
              "    }\n",
              "  </style>\n",
              "\n",
              "      <script>\n",
              "        const buttonEl =\n",
              "          document.querySelector('#df-c4e61d0e-b592-4aa7-9d06-cb4b9cff9d2d button.colab-df-convert');\n",
              "        buttonEl.style.display =\n",
              "          google.colab.kernel.accessAllowed ? 'block' : 'none';\n",
              "\n",
              "        async function convertToInteractive(key) {\n",
              "          const element = document.querySelector('#df-c4e61d0e-b592-4aa7-9d06-cb4b9cff9d2d');\n",
              "          const dataTable =\n",
              "            await google.colab.kernel.invokeFunction('convertToInteractive',\n",
              "                                                     [key], {});\n",
              "          if (!dataTable) return;\n",
              "\n",
              "          const docLinkHtml = 'Like what you see? Visit the ' +\n",
              "            '<a target=\"_blank\" href=https://colab.research.google.com/notebooks/data_table.ipynb>data table notebook</a>'\n",
              "            + ' to learn more about interactive tables.';\n",
              "          element.innerHTML = '';\n",
              "          dataTable['output_type'] = 'display_data';\n",
              "          await google.colab.output.renderOutput(dataTable, element);\n",
              "          const docLink = document.createElement('div');\n",
              "          docLink.innerHTML = docLinkHtml;\n",
              "          element.appendChild(docLink);\n",
              "        }\n",
              "      </script>\n",
              "    </div>\n",
              "  </div>\n",
              "  "
            ],
            "text/plain": [
              "      category  test_type                                           original  \\\n",
              "0   robustness  lowercase          Absence of rain caused the plants to die.   \n",
              "1   robustness  lowercase                 A button has come off my raincoat.   \n",
              "2   robustness  lowercase                           A cat ran after a mouse.   \n",
              "3   robustness  lowercase                             A clock has two hands.   \n",
              "4   robustness  lowercase                  A country is a dangerous machine.   \n",
              "5   robustness  lowercase                        A crow is as black as coal.   \n",
              "6   robustness  lowercase  Actinium was discovered by André-Louis Debiern...   \n",
              "7   robustness  lowercase                      Add a little sugar and cream.   \n",
              "8   robustness  lowercase  Adopt the pace of nature: her secret is patience.   \n",
              "9   robustness  lowercase                    A fire broke out near my house.   \n",
              "10  robustness  uppercase          Absence of rain caused the plants to die.   \n",
              "11  robustness  uppercase                 A button has come off my raincoat.   \n",
              "12  robustness  uppercase                           A cat ran after a mouse.   \n",
              "13  robustness  uppercase                             A clock has two hands.   \n",
              "14  robustness  uppercase                  A country is a dangerous machine.   \n",
              "15  robustness  uppercase                        A crow is as black as coal.   \n",
              "16  robustness  uppercase  Actinium was discovered by André-Louis Debiern...   \n",
              "17  robustness  uppercase                      Add a little sugar and cream.   \n",
              "18  robustness  uppercase  Adopt the pace of nature: her secret is patience.   \n",
              "19  robustness  uppercase                    A fire broke out near my house.   \n",
              "\n",
              "                                            test_case  \\\n",
              "0           absence of rain caused the plants to die.   \n",
              "1                  a button has come off my raincoat.   \n",
              "2                            a cat ran after a mouse.   \n",
              "3                              a clock has two hands.   \n",
              "4                   a country is a dangerous machine.   \n",
              "5                         a crow is as black as coal.   \n",
              "6   actinium was discovered by andré-louis debiern...   \n",
              "7                       add a little sugar and cream.   \n",
              "8   adopt the pace of nature: her secret is patience.   \n",
              "9                     a fire broke out near my house.   \n",
              "10          ABSENCE OF RAIN CAUSED THE PLANTS TO DIE.   \n",
              "11                 A BUTTON HAS COME OFF MY RAINCOAT.   \n",
              "12                           A CAT RAN AFTER A MOUSE.   \n",
              "13                             A CLOCK HAS TWO HANDS.   \n",
              "14                  A COUNTRY IS A DANGEROUS MACHINE.   \n",
              "15                        A CROW IS AS BLACK AS COAL.   \n",
              "16  ACTINIUM WAS DISCOVERED BY ANDRÉ-LOUIS DEBIERN...   \n",
              "17                      ADD A LITTLE SUGAR AND CREAM.   \n",
              "18  ADOPT THE PACE OF NATURE: HER SECRET IS PATIENCE.   \n",
              "19                    A FIRE BROKE OUT NEAR MY HOUSE.   \n",
              "\n",
              "                                      expected_result  \\\n",
              "0       Mvua nyingi sana ilisababisha mimea hiyo ife.   \n",
              "1   Kituo cha kuandikia kimetoka kwenye koti langu...   \n",
              "2                Paka mmoja alikimbia baada ya panya.   \n",
              "3                              Saa ina mikono miwili.   \n",
              "4                             Nchi ni mashine hatari.   \n",
              "5                Kunguru ni mweusi kama makaa - mawe.   \n",
              "6   Actinium iligunduliwa na André-Louis Debierne ...   \n",
              "7                      Ongeza sukari kidogo na krimu.   \n",
              "8                   Uwe na subira na uonyeshe subira.   \n",
              "9               Moto ulitokea karibu na nyumba yangu.   \n",
              "10      Mvua nyingi sana ilisababisha mimea hiyo ife.   \n",
              "11  Kituo cha kuandikia kimetoka kwenye koti langu...   \n",
              "12               Paka mmoja alikimbia baada ya panya.   \n",
              "13                             Saa ina mikono miwili.   \n",
              "14                            Nchi ni mashine hatari.   \n",
              "15               Kunguru ni mweusi kama makaa - mawe.   \n",
              "16  Actinium iligunduliwa na André-Louis Debierne ...   \n",
              "17                     Ongeza sukari kidogo na krimu.   \n",
              "18                  Uwe na subira na uonyeshe subira.   \n",
              "19              Moto ulitokea karibu na nyumba yangu.   \n",
              "\n",
              "                                        actual_result  eval_score   pass  \n",
              "0   Kwa sababu mimea hiyo haikunyeshewa na mvua, m...    0.640421  False  \n",
              "1          kitufe kimetoka kwenye koti langu la mvua.    0.109442  False  \n",
              "2                      Paka alikimbia baada ya panya.    0.124153  False  \n",
              "3                              Saa ina mikono miwili.    0.000034   True  \n",
              "4                             nchi ni mashine hatari.    0.044457   True  \n",
              "5                Kunguru ni mweusi kama makaa - mawe.    0.000099   True  \n",
              "6   aktinium iligunduliwa na naré-louis debierne m...    0.170436  False  \n",
              "7                    huongeza sukari na krimu kidogo.    0.058893   True  \n",
              "8   Fanya mambo kulingana na hali: siri yake ni su...    0.496848  False  \n",
              "9               moto ulitokea karibu na nyumba yangu.    0.061493   True  \n",
              "10             UBALILIFU WA KUSAHAU UNAPENDESHA DAWA.    0.696202  False  \n",
              "11               LIPE LIPTON IMEKUJA NA MILIMA YANGU.    0.295836  False  \n",
              "12                       ASIYE MBAKI ASIYE NA MADILI.    0.579674  False  \n",
              "13                     MKARIBIKO WA MILIMA AMETAWILI.    0.725041  False  \n",
              "14                           NCHI NI MAKEO YA HARAKA.    0.863601  False  \n",
              "15                                   UKWELI NI MLAYA.    0.545528  False  \n",
              "16  MATOKEO YA ANDRÉ -LOUIS KATIKA 1899 YAMESHUA K...    0.534243  False  \n",
              "17                              ADD LILEGAR NA CREAM.    0.252541  False  \n",
              "18   USINGIZI WA KUAMBUKANA: KUSHUGHULIKA NI UVUTANO.    0.499680  False  \n",
              "19                   BADARAJA LINAVYOANUA KOIS YANGU.    0.573432  False  "
            ]
          },
          "execution_count": 16,
          "metadata": {},
          "output_type": "execute_result"
        }
      ],
      "source": [
        "harness.generated_results()"
      ]
    },
    {
      "attachments": {},
      "cell_type": "markdown",
      "metadata": {},
      "source": [
        "### 📝 Generate Report\n",
        "We can call `.report()` which summarizes the results giving information about pass and fail counts and overall test pass/fail flag."
      ]
    },
    {
      "cell_type": "code",
      "execution_count": 17,
      "metadata": {
        "colab": {
          "base_uri": "https://localhost:8080/",
          "height": 112
        },
        "id": "WQ_Dg8ZHR28f",
        "outputId": "2fbb628e-4e58-4cd9-91e0-46ff8c2aa30a"
      },
      "outputs": [
        {
          "data": {
            "text/html": [
              "\n",
              "  <div id=\"df-d7dbe8e9-303b-44b8-9289-43a465a08652\">\n",
              "    <div class=\"colab-df-container\">\n",
              "      <div>\n",
              "<style scoped>\n",
              "    .dataframe tbody tr th:only-of-type {\n",
              "        vertical-align: middle;\n",
              "    }\n",
              "\n",
              "    .dataframe tbody tr th {\n",
              "        vertical-align: top;\n",
              "    }\n",
              "\n",
              "    .dataframe thead th {\n",
              "        text-align: right;\n",
              "    }\n",
              "</style>\n",
              "<table border=\"1\" class=\"dataframe\">\n",
              "  <thead>\n",
              "    <tr style=\"text-align: right;\">\n",
              "      <th></th>\n",
              "      <th>category</th>\n",
              "      <th>test_type</th>\n",
              "      <th>fail_count</th>\n",
              "      <th>pass_count</th>\n",
              "      <th>pass_rate</th>\n",
              "      <th>minimum_pass_rate</th>\n",
              "      <th>pass</th>\n",
              "    </tr>\n",
              "  </thead>\n",
              "  <tbody>\n",
              "    <tr>\n",
              "      <th>0</th>\n",
              "      <td>robustness</td>\n",
              "      <td>lowercase</td>\n",
              "      <td>5</td>\n",
              "      <td>5</td>\n",
              "      <td>50%</td>\n",
              "      <td>66%</td>\n",
              "      <td>False</td>\n",
              "    </tr>\n",
              "    <tr>\n",
              "      <th>1</th>\n",
              "      <td>robustness</td>\n",
              "      <td>uppercase</td>\n",
              "      <td>10</td>\n",
              "      <td>0</td>\n",
              "      <td>0%</td>\n",
              "      <td>66%</td>\n",
              "      <td>False</td>\n",
              "    </tr>\n",
              "  </tbody>\n",
              "</table>\n",
              "</div>\n",
              "      <button class=\"colab-df-convert\" onclick=\"convertToInteractive('df-d7dbe8e9-303b-44b8-9289-43a465a08652')\"\n",
              "              title=\"Convert this dataframe to an interactive table.\"\n",
              "              style=\"display:none;\">\n",
              "        \n",
              "  <svg xmlns=\"http://www.w3.org/2000/svg\" height=\"24px\"viewBox=\"0 0 24 24\"\n",
              "       width=\"24px\">\n",
              "    <path d=\"M0 0h24v24H0V0z\" fill=\"none\"/>\n",
              "    <path d=\"M18.56 5.44l.94 2.06.94-2.06 2.06-.94-2.06-.94-.94-2.06-.94 2.06-2.06.94zm-11 1L8.5 8.5l.94-2.06 2.06-.94-2.06-.94L8.5 2.5l-.94 2.06-2.06.94zm10 10l.94 2.06.94-2.06 2.06-.94-2.06-.94-.94-2.06-.94 2.06-2.06.94z\"/><path d=\"M17.41 7.96l-1.37-1.37c-.4-.4-.92-.59-1.43-.59-.52 0-1.04.2-1.43.59L10.3 9.45l-7.72 7.72c-.78.78-.78 2.05 0 2.83L4 21.41c.39.39.9.59 1.41.59.51 0 1.02-.2 1.41-.59l7.78-7.78 2.81-2.81c.8-.78.8-2.07 0-2.86zM5.41 20L4 18.59l7.72-7.72 1.47 1.35L5.41 20z\"/>\n",
              "  </svg>\n",
              "      </button>\n",
              "      \n",
              "  <style>\n",
              "    .colab-df-container {\n",
              "      display:flex;\n",
              "      flex-wrap:wrap;\n",
              "      gap: 12px;\n",
              "    }\n",
              "\n",
              "    .colab-df-convert {\n",
              "      background-color: #E8F0FE;\n",
              "      border: none;\n",
              "      border-radius: 50%;\n",
              "      cursor: pointer;\n",
              "      display: none;\n",
              "      fill: #1967D2;\n",
              "      height: 32px;\n",
              "      padding: 0 0 0 0;\n",
              "      width: 32px;\n",
              "    }\n",
              "\n",
              "    .colab-df-convert:hover {\n",
              "      background-color: #E2EBFA;\n",
              "      box-shadow: 0px 1px 2px rgba(60, 64, 67, 0.3), 0px 1px 3px 1px rgba(60, 64, 67, 0.15);\n",
              "      fill: #174EA6;\n",
              "    }\n",
              "\n",
              "    [theme=dark] .colab-df-convert {\n",
              "      background-color: #3B4455;\n",
              "      fill: #D2E3FC;\n",
              "    }\n",
              "\n",
              "    [theme=dark] .colab-df-convert:hover {\n",
              "      background-color: #434B5C;\n",
              "      box-shadow: 0px 1px 3px 1px rgba(0, 0, 0, 0.15);\n",
              "      filter: drop-shadow(0px 1px 2px rgba(0, 0, 0, 0.3));\n",
              "      fill: #FFFFFF;\n",
              "    }\n",
              "  </style>\n",
              "\n",
              "      <script>\n",
              "        const buttonEl =\n",
              "          document.querySelector('#df-d7dbe8e9-303b-44b8-9289-43a465a08652 button.colab-df-convert');\n",
              "        buttonEl.style.display =\n",
              "          google.colab.kernel.accessAllowed ? 'block' : 'none';\n",
              "\n",
              "        async function convertToInteractive(key) {\n",
              "          const element = document.querySelector('#df-d7dbe8e9-303b-44b8-9289-43a465a08652');\n",
              "          const dataTable =\n",
              "            await google.colab.kernel.invokeFunction('convertToInteractive',\n",
              "                                                     [key], {});\n",
              "          if (!dataTable) return;\n",
              "\n",
              "          const docLinkHtml = 'Like what you see? Visit the ' +\n",
              "            '<a target=\"_blank\" href=https://colab.research.google.com/notebooks/data_table.ipynb>data table notebook</a>'\n",
              "            + ' to learn more about interactive tables.';\n",
              "          element.innerHTML = '';\n",
              "          dataTable['output_type'] = 'display_data';\n",
              "          await google.colab.output.renderOutput(dataTable, element);\n",
              "          const docLink = document.createElement('div');\n",
              "          docLink.innerHTML = docLinkHtml;\n",
              "          element.appendChild(docLink);\n",
              "        }\n",
              "      </script>\n",
              "    </div>\n",
              "  </div>\n",
              "  "
            ],
            "text/plain": [
              "     category  test_type  fail_count  pass_count pass_rate minimum_pass_rate  \\\n",
              "0  robustness  lowercase           5           5       50%               66%   \n",
              "1  robustness  uppercase          10           0        0%               66%   \n",
              "\n",
              "    pass  \n",
              "0  False  \n",
              "1  False  "
            ]
          },
          "execution_count": 17,
          "metadata": {},
          "output_type": "execute_result"
        }
      ],
      "source": [
        "harness.report()"
      ]
    }
  ],
  "metadata": {
    "accelerator": "TPU",
    "colab": {
      "machine_shape": "hm",
      "provenance": [],
      "toc_visible": true
    },
    "gpuClass": "standard",
    "kernelspec": {
      "display_name": "Python 3",
      "name": "python3"
    },
    "language_info": {
      "codemirror_mode": {
        "name": "ipython",
        "version": 3
      },
      "file_extension": ".py",
      "mimetype": "text/x-python",
      "name": "python",
      "nbconvert_exporter": "python",
      "pygments_lexer": "ipython3",
      "version": "3.9.13"
    }
  },
  "nbformat": 4,
  "nbformat_minor": 0
}
