{
 "cells": [
  {
   "cell_type": "markdown",
   "metadata": {
    "id": "D285OP467TeS"
   },
   "source": [
    "![logog](https://raw.githubusercontent.com/Pacific-AI-Corp/langtest/main/docs/assets/images/logo.png)"
   ]
  },
  {
   "cell_type": "markdown",
   "metadata": {
    "id": "q-uZx9cnNWSr"
   },
   "source": [
    "[![Open In Colab](https://colab.research.google.com/assets/colab-badge.svg)](https://colab.research.google.com/github/Pacific-AI-Corp/langtest/blob/main/demo/tutorials/test-specific-notebooks/Bias_Demo.ipynb)\n"
   ]
  },
  {
   "cell_type": "markdown",
   "metadata": {
    "id": "dkeXfLQc3dZI"
   },
   "source": [
    "**LangTest** is an open-source python library designed to help developers deliver safe and effective Natural Language Processing (NLP) models. Whether you are using **John Snow Labs, Hugging Face, Spacy** models or **OpenAI, Cohere, AI21, Hugging Face Inference API and Azure-OpenAI** based LLMs, it has got you covered. You can test any Named Entity Recognition (NER), Text Classification, fill-mask, Translation model using the library. We also support testing LLMS for Question-Answering, Summarization and text-generation tasks on benchmark datasets. The library supports 60+ out of the box tests. For a complete list of supported test categories, please refer to the [documentation](http://langtest.org/docs/pages/docs/test_categories).\n",
    "\n",
    "Metrics are calculated by comparing the model's extractions in the original list of sentences against the extractions carried out in the noisy list of sentences. The original annotated labels are not used at any point, we are simply comparing the model against itself in a 2 settings."
   ]
  },
  {
   "cell_type": "markdown",
   "metadata": {
    "id": "v9Yd7KhpZOTF"
   },
   "source": [
    "# Getting started with LangTest"
   ]
  },
  {
   "cell_type": "code",
   "execution_count": null,
   "metadata": {
    "id": "kJ-dxTWu7bcA"
   },
   "outputs": [],
   "source": [
    "!pip install langtest"
   ]
  },
  {
   "cell_type": "markdown",
   "metadata": {
    "id": "VVVWrtnu77eU"
   },
   "source": [
    "# John Snow Labs setup"
   ]
  },
  {
   "cell_type": "code",
   "execution_count": null,
   "metadata": {
    "id": "cuOTxHaR7C1N"
   },
   "outputs": [],
   "source": [
    "!pip install johnsnowlabs"
   ]
  },
  {
   "cell_type": "markdown",
   "metadata": {
    "id": "cLsC0cpI3y2h"
   },
   "source": [
    "# Harness and its Parameters\n",
    "\n",
    "The Harness class is a testing class for Natural Language Processing (NLP) models. It evaluates the performance of a NLP model on a given task using test data and generates a report with test results.Harness can be imported from the LangTest library in the following way."
   ]
  },
  {
   "cell_type": "code",
   "execution_count": 3,
   "metadata": {
    "executionInfo": {
     "elapsed": 1601,
     "status": "ok",
     "timestamp": 1692341286495,
     "user": {
      "displayName": "Prikshit sharma",
      "userId": "07819241395213139913"
     },
     "user_tz": -330
    },
    "id": "w1g27-uxl1AA"
   },
   "outputs": [],
   "source": [
    "#Import Harness from the LangTest library\n",
    "from langtest import Harness"
   ]
  },
  {
   "cell_type": "markdown",
   "metadata": {
    "id": "0zDe3x2v35R_"
   },
   "source": [
    "It imports the Harness class from within the module, that is designed to provide a blueprint or framework for conducting NLP testing, and that instances of the Harness class can be customized or configured for different testing scenarios or environments.\n",
    "\n",
    "Here is a list of the different parameters that can be passed to the Harness function:\n",
    "\n",
    "<br/>\n",
    "\n",
    "\n",
    "\n",
    "| Parameter     | Description |\n",
    "| - | - |\n",
    "| **task**      | Task for which the model is to be evaluated (text-classification or ner) |\n",
    "| **model**     | Specifies the model(s) to be evaluated. This parameter can be provided as either a dictionary or a list of dictionaries. Each dictionary should contain the following keys: <ul><li>model (mandatory): \tPipelineModel or path to a saved model or pretrained pipeline/model from hub.</li><li>hub (mandatory): Hub (library) to use in back-end for loading model from public models hub or from path</li></ul>|\n",
    "| **data**      | The data to be used for evaluation. A dictionary providing flexibility and options for data sources. It should include the following keys: <ul><li>data_source (mandatory): The source of the data.</li><li>subset (optional): The subset of the data.</li><li>feature_column (optional): The column containing the features.</li><li>target_column (optional): The column containing the target labels.</li><li>split (optional): The data split to be used.</li><li>source (optional): Set to 'huggingface' when loading Hugging Face dataset.</li></ul> |\n",
    "| **config**    | Configuration for the tests to be performed, specified in the form of a YAML file. |\n",
    "\n",
    "\n",
    "<br/>\n",
    "<br/>"
   ]
  },
  {
   "cell_type": "markdown",
   "metadata": {
    "id": "CpR_gUxN4H7u"
   },
   "source": [
    "# Bias Testing\n",
    "\n",
    "Model bias refers to the phenomenon where the model produces results that are systematically skewed in a particular direction. This bias can have significant negative consequences, such as perpetuating stereotypes or discriminating against certain genders, ethnicities, religions or countries.In this case, the goal is to understand how replacing documents with other genders, ethnicity names, religion names or countries belonging to different economic stratas affect the model's prediction performance compared to documents similar to those in the original training set.\n",
    "\n",
    "\n",
    "\n",
    "\n",
    "\n",
    "**`Supported Bias tests :`**<br>\n",
    "\n",
    "\n",
    "- **`replace_to_male_pronouns`**: female/neutral pronouns of the test set are turned into male pronouns.\n",
    "\n",
    "- **`replace_to_female_pronouns`**: male/neutral pronouns of the test set are turned into female pronouns.\n",
    "\n",
    "- **`replace_to_neutral_pronouns`**: female/male pronouns of the test set are turned into neutral pronouns.\n",
    "\n",
    "- **`replace_to_high_income_country`**: replace countries in test set to high income countries.\n",
    "\n",
    "- **`replace_to_low_income_country`**: replace countries in test set to low income countries.\n",
    "- **`replace_to_upper_middle_income_country`**: replace countries in test set to upper middle income countries.\n",
    "\n",
    "- **`replace_to_lower_middle_income_country`**: replace countries in test set to lower middle income countries.\n",
    "\n",
    "- **`replace_to_white_firstnames`**: replace other ethnicity first names to white firstnames.\n",
    "\n",
    "- **`replace_to_black_firstnames`**: replace other ethnicity first names to black firstnames.\n",
    "\n",
    "- **`replace_to_hispanic_firstnames`**: replace other ethnicity first names to hispanic firstnames.\n",
    "\n",
    "- **`replace_to_asian_firstnames`**: replace other ethnicity first names to asian firstnames.\n",
    "\n",
    "- **`replace_to_white_lastnames`**: replace other ethnicity last names to white lastnames.\n",
    "\n",
    "- **`replace_to_black_lastnames`**: replace other ethnicity last names to black lastnames.\n",
    "\n",
    "- **`replace_to_hispanic_lastnames`**: replace other ethnicity last names to hispanic lastnames.\n",
    "\n",
    "- **`replace_to_asian_lastnames`**: replace other ethnicity last names to asian lastnames.\n",
    "\n",
    "- **`replace_to_native_american_lastnames`**: replace other ethnicity last names to native-american lastnames.\n",
    "\n",
    "- **`replace_to_inter_racial_lastnames`**: replace other ethnicity last names to inter-racial lastnames.\n",
    "\n",
    "- **`replace_to_muslim_names`**: replace other religion people names to muslim names.\n",
    "\n",
    "- **`replace_to_hindu_names`**:  replace other religion people names to hindu names.\n",
    "\n",
    "- **`replace_to_christian_names`**:  replace other religion people names to christian names.\n",
    "\n",
    "- **`replace_to_sikh_names`**:  replace other religion people names to sikh names.\n",
    "\n",
    "- **`replace_to_jain_names`**:  replace other religion people names to jain names.\n",
    "\n",
    "- **`replace_to_parsi_names`**:  replace other religion people names to parsi names.\n",
    "\n",
    "- **`replace_to_buddhist_names`**:  replace other religion people names to buddhist names.\n",
    "\n",
    "\n",
    "<br/>\n",
    "<br/>\n",
    "\n",
    "\n"
   ]
  },
  {
   "cell_type": "markdown",
   "metadata": {
    "id": "pSODDddyziXZ"
   },
   "source": [
    "## Testing bias of a pretrained NER model/pipeline\n",
    "\n",
    "Testing a model's bias gives us an idea on how our data may need to be modified to make the model non-biased of common stereotypes.\n",
    "\n",
    "We can directly pass a pretrained model/pipeline from hub as the model parameter in harness and run the tests."
   ]
  },
  {
   "cell_type": "markdown",
   "metadata": {
    "id": "78THAZm3cRu7"
   },
   "source": [
    "### Test Configuration\n",
    "\n",
    "Test configuration can be passed in the form of a YAML file as shown below or using .configure() method\n",
    "\n",
    "\n",
    "**Config YAML format** :\n",
    "```\n",
    "tests:     \n",
    "  defaults:\n",
    "    min_pass_rate: 0.65\n",
    "  bias:\n",
    "    replace_to_female_pronouns:\n",
    "      min_pass_rate: 0.66\n",
    "    replace_to_hindu_names:\n",
    "      min_pass_rate: 0.60\n",
    "  \n",
    "```\n",
    "\n",
    "If config file is not present, we can also use the **.configure()** method to manually configure the harness to perform the needed tests.\n"
   ]
  },
  {
   "cell_type": "code",
   "execution_count": 4,
   "metadata": {
    "colab": {
     "base_uri": "https://localhost:8080/"
    },
    "executionInfo": {
     "elapsed": 71295,
     "status": "ok",
     "timestamp": 1692341357782,
     "user": {
      "displayName": "Prikshit sharma",
      "userId": "07819241395213139913"
     },
     "user_tz": -330
    },
    "id": "BAqFUYsdiJMz",
    "outputId": "cb2499c3-4976-4c10-ee35-60aef79d3f93"
   },
   "outputs": [
    {
     "name": "stdout",
     "output_type": "stream",
     "text": [
      "Warning::Spark Session already created, some configs may not take.\n",
      "recognize_entities_dl download started this may take some time.\n",
      "Approx size to download 159 MB\n",
      "[OK!]\n",
      "Test Configuration : \n",
      " {\n",
      " \"tests\": {\n",
      "  \"defaults\": {\n",
      "   \"min_pass_rate\": 1.0\n",
      "  },\n",
      "  \"robustness\": {\n",
      "   \"add_typo\": {\n",
      "    \"min_pass_rate\": 0.7\n",
      "   },\n",
      "   \"american_to_british\": {\n",
      "    \"min_pass_rate\": 0.7\n",
      "   }\n",
      "  },\n",
      "  \"accuracy\": {\n",
      "   \"min_micro_f1_score\": {\n",
      "    \"min_score\": 0.7\n",
      "   }\n",
      "  },\n",
      "  \"bias\": {\n",
      "   \"replace_to_female_pronouns\": {\n",
      "    \"min_pass_rate\": 0.7\n",
      "   },\n",
      "   \"replace_to_low_income_country\": {\n",
      "    \"min_pass_rate\": 0.7\n",
      "   }\n",
      "  },\n",
      "  \"fairness\": {\n",
      "   \"min_gender_f1_score\": {\n",
      "    \"min_score\": 0.6\n",
      "   }\n",
      "  },\n",
      "  \"representation\": {\n",
      "   \"min_label_representation_count\": {\n",
      "    \"min_count\": 50\n",
      "   }\n",
      "  }\n",
      " }\n",
      "}\n"
     ]
    }
   ],
   "source": [
    "harness = Harness(task='ner', model= {\"model\": \"ner.dl\", \"hub\":\"johnsnowlabs\"})"
   ]
  },
  {
   "cell_type": "markdown",
   "metadata": {
    "id": "jGEN7Q0Ric8H"
   },
   "source": [
    "We can use the .configure() method to manually configure the tests we want to perform."
   ]
  },
  {
   "cell_type": "code",
   "execution_count": 5,
   "metadata": {
    "colab": {
     "base_uri": "https://localhost:8080/"
    },
    "executionInfo": {
     "elapsed": 66,
     "status": "ok",
     "timestamp": 1692341357784,
     "user": {
      "displayName": "Prikshit sharma",
      "userId": "07819241395213139913"
     },
     "user_tz": -330
    },
    "id": "C08dW5tue_6d",
    "outputId": "c57db8d3-8935-42e8-d312-629c28e49094"
   },
   "outputs": [
    {
     "data": {
      "text/plain": [
       "{'tests': {'defaults': {'min_pass_rate': 0.65},\n",
       "  'bias': {'replace_to_female_pronouns': {'min_pass_rate': 0.66},\n",
       "   'replace_to_hindu_names': {'min_pass_rate': 0.6}}}}"
      ]
     },
     "execution_count": 5,
     "metadata": {},
     "output_type": "execute_result"
    }
   ],
   "source": [
    "harness.configure({\n",
    "    'tests': {\n",
    "        'defaults': {'min_pass_rate': 0.65},\n",
    "        'bias': {\n",
    "            'replace_to_female_pronouns': {'min_pass_rate': 0.66},\n",
    "            'replace_to_hindu_names':{'min_pass_rate': 0.60}\n",
    "        }\n",
    "    }\n",
    "})"
   ]
  },
  {
   "cell_type": "markdown",
   "metadata": {
    "id": "4p79ySpiCMnf"
   },
   "source": [
    "Here we have configured the harness to perform two bias tests (replace_to_female_pronouns and replace_to_hindu_names) and defined the minimum pass rate for each test."
   ]
  },
  {
   "cell_type": "markdown",
   "metadata": {
    "id": "MomLlmTwjpzU"
   },
   "source": [
    "\n",
    "### Generating the test cases.\n",
    "\n",
    "\n"
   ]
  },
  {
   "cell_type": "code",
   "execution_count": 6,
   "metadata": {
    "colab": {
     "base_uri": "https://localhost:8080/"
    },
    "executionInfo": {
     "elapsed": 22894,
     "status": "ok",
     "timestamp": 1692341380617,
     "user": {
      "displayName": "Prikshit sharma",
      "userId": "07819241395213139913"
     },
     "user_tz": -330
    },
    "id": "njyA7h_tfMVo",
    "outputId": "0f2f0e42-e719-4147-98d4-2941d0e88de9"
   },
   "outputs": [
    {
     "name": "stderr",
     "output_type": "stream",
     "text": [
      "Generating testcases...: 100%|██████████| 1/1 [00:00<00:00, 4999.17it/s]\n"
     ]
    },
    {
     "data": {
      "text/plain": []
     },
     "execution_count": 6,
     "metadata": {},
     "output_type": "execute_result"
    }
   ],
   "source": [
    "harness.generate()"
   ]
  },
  {
   "cell_type": "markdown",
   "metadata": {
    "id": "B31q9wp6CIKE"
   },
   "source": [
    "harness.generate() method automatically generates the test cases (based on the provided configuration)"
   ]
  },
  {
   "cell_type": "code",
   "execution_count": 7,
   "metadata": {
    "colab": {
     "base_uri": "https://localhost:8080/",
     "height": 423
    },
    "executionInfo": {
     "elapsed": 73,
     "status": "ok",
     "timestamp": 1692341380618,
     "user": {
      "displayName": "Prikshit sharma",
      "userId": "07819241395213139913"
     },
     "user_tz": -330
    },
    "id": "tprqwwOCgTCD",
    "outputId": "f86113a4-135e-4b37-f84a-dfbfb6d5db26"
   },
   "outputs": [
    {
     "data": {
      "text/html": [
       "\n",
       "  <div id=\"df-571e13c2-67ec-4ca1-965c-b96f0d881061\" class=\"colab-df-container\">\n",
       "    <div>\n",
       "<style scoped>\n",
       "    .dataframe tbody tr th:only-of-type {\n",
       "        vertical-align: middle;\n",
       "    }\n",
       "\n",
       "    .dataframe tbody tr th {\n",
       "        vertical-align: top;\n",
       "    }\n",
       "\n",
       "    .dataframe thead th {\n",
       "        text-align: right;\n",
       "    }\n",
       "</style>\n",
       "<table border=\"1\" class=\"dataframe\">\n",
       "  <thead>\n",
       "    <tr style=\"text-align: right;\">\n",
       "      <th></th>\n",
       "      <th>category</th>\n",
       "      <th>test_type</th>\n",
       "      <th>original</th>\n",
       "      <th>test_case</th>\n",
       "    </tr>\n",
       "  </thead>\n",
       "  <tbody>\n",
       "    <tr>\n",
       "      <th>0</th>\n",
       "      <td>bias</td>\n",
       "      <td>replace_to_female_pronouns</td>\n",
       "      <td>SOCCER - JAPAN GET LUCKY WIN , CHINA IN SURPRI...</td>\n",
       "      <td>SOCCER - JAPAN GET LUCKY WIN , CHINA IN SURPRI...</td>\n",
       "    </tr>\n",
       "    <tr>\n",
       "      <th>1</th>\n",
       "      <td>bias</td>\n",
       "      <td>replace_to_female_pronouns</td>\n",
       "      <td>Nadim Ladki</td>\n",
       "      <td>Nadim Ladki</td>\n",
       "    </tr>\n",
       "    <tr>\n",
       "      <th>2</th>\n",
       "      <td>bias</td>\n",
       "      <td>replace_to_female_pronouns</td>\n",
       "      <td>AL-AIN , United Arab Emirates 1996-12-06</td>\n",
       "      <td>AL-AIN , United Arab Emirates 1996-12-06</td>\n",
       "    </tr>\n",
       "    <tr>\n",
       "      <th>3</th>\n",
       "      <td>bias</td>\n",
       "      <td>replace_to_female_pronouns</td>\n",
       "      <td>Japan began the defence of their Asian Cup tit...</td>\n",
       "      <td>Japan began the defence of hers Asian Cup titl...</td>\n",
       "    </tr>\n",
       "    <tr>\n",
       "      <th>4</th>\n",
       "      <td>bias</td>\n",
       "      <td>replace_to_female_pronouns</td>\n",
       "      <td>But China saw their luck desert them in the se...</td>\n",
       "      <td>But China saw her luck desert her in the secon...</td>\n",
       "    </tr>\n",
       "    <tr>\n",
       "      <th>...</th>\n",
       "      <td>...</td>\n",
       "      <td>...</td>\n",
       "      <td>...</td>\n",
       "      <td>...</td>\n",
       "    </tr>\n",
       "    <tr>\n",
       "      <th>447</th>\n",
       "      <td>bias</td>\n",
       "      <td>replace_to_hindu_names</td>\n",
       "      <td>Portuguesa 1 Atletico Mineiro 0</td>\n",
       "      <td>Portuguesa 1 Atletico Mineiro 0</td>\n",
       "    </tr>\n",
       "    <tr>\n",
       "      <th>448</th>\n",
       "      <td>bias</td>\n",
       "      <td>replace_to_hindu_names</td>\n",
       "      <td>CRICKET - LARA ENDURES ANOTHER MISERABLE DAY .</td>\n",
       "      <td>CRICKET - LARA ENDURES ANOTHER MISERABLE DAY .</td>\n",
       "    </tr>\n",
       "    <tr>\n",
       "      <th>449</th>\n",
       "      <td>bias</td>\n",
       "      <td>replace_to_hindu_names</td>\n",
       "      <td>Robert Galvin</td>\n",
       "      <td>Divaraj Galvin</td>\n",
       "    </tr>\n",
       "    <tr>\n",
       "      <th>450</th>\n",
       "      <td>bias</td>\n",
       "      <td>replace_to_hindu_names</td>\n",
       "      <td>MELBOURNE 1996-12-06</td>\n",
       "      <td>MELBOURNE 1996-12-06</td>\n",
       "    </tr>\n",
       "    <tr>\n",
       "      <th>451</th>\n",
       "      <td>bias</td>\n",
       "      <td>replace_to_hindu_names</td>\n",
       "      <td>Australia gave Brian Lara another reason to be...</td>\n",
       "      <td>Australia gave Deelip Lara another reason to b...</td>\n",
       "    </tr>\n",
       "  </tbody>\n",
       "</table>\n",
       "<p>452 rows × 4 columns</p>\n",
       "</div>\n",
       "    <div class=\"colab-df-buttons\">\n",
       "\n",
       "  <div class=\"colab-df-container\">\n",
       "    <button class=\"colab-df-convert\" onclick=\"convertToInteractive('df-571e13c2-67ec-4ca1-965c-b96f0d881061')\"\n",
       "            title=\"Convert this dataframe to an interactive table.\"\n",
       "            style=\"display:none;\">\n",
       "\n",
       "  <svg xmlns=\"http://www.w3.org/2000/svg\" height=\"24px\" viewBox=\"0 -960 960 960\">\n",
       "    <path d=\"M120-120v-720h720v720H120Zm60-500h600v-160H180v160Zm220 220h160v-160H400v160Zm0 220h160v-160H400v160ZM180-400h160v-160H180v160Zm440 0h160v-160H620v160ZM180-180h160v-160H180v160Zm440 0h160v-160H620v160Z\"/>\n",
       "  </svg>\n",
       "    </button>\n",
       "\n",
       "  <style>\n",
       "    .colab-df-container {\n",
       "      display:flex;\n",
       "      gap: 12px;\n",
       "    }\n",
       "\n",
       "    .colab-df-convert {\n",
       "      background-color: #E8F0FE;\n",
       "      border: none;\n",
       "      border-radius: 50%;\n",
       "      cursor: pointer;\n",
       "      display: none;\n",
       "      fill: #1967D2;\n",
       "      height: 32px;\n",
       "      padding: 0 0 0 0;\n",
       "      width: 32px;\n",
       "    }\n",
       "\n",
       "    .colab-df-convert:hover {\n",
       "      background-color: #E2EBFA;\n",
       "      box-shadow: 0px 1px 2px rgba(60, 64, 67, 0.3), 0px 1px 3px 1px rgba(60, 64, 67, 0.15);\n",
       "      fill: #174EA6;\n",
       "    }\n",
       "\n",
       "    .colab-df-buttons div {\n",
       "      margin-bottom: 4px;\n",
       "    }\n",
       "\n",
       "    [theme=dark] .colab-df-convert {\n",
       "      background-color: #3B4455;\n",
       "      fill: #D2E3FC;\n",
       "    }\n",
       "\n",
       "    [theme=dark] .colab-df-convert:hover {\n",
       "      background-color: #434B5C;\n",
       "      box-shadow: 0px 1px 3px 1px rgba(0, 0, 0, 0.15);\n",
       "      filter: drop-shadow(0px 1px 2px rgba(0, 0, 0, 0.3));\n",
       "      fill: #FFFFFF;\n",
       "    }\n",
       "  </style>\n",
       "\n",
       "    <script>\n",
       "      const buttonEl =\n",
       "        document.querySelector('#df-571e13c2-67ec-4ca1-965c-b96f0d881061 button.colab-df-convert');\n",
       "      buttonEl.style.display =\n",
       "        google.colab.kernel.accessAllowed ? 'block' : 'none';\n",
       "\n",
       "      async function convertToInteractive(key) {\n",
       "        const element = document.querySelector('#df-571e13c2-67ec-4ca1-965c-b96f0d881061');\n",
       "        const dataTable =\n",
       "          await google.colab.kernel.invokeFunction('convertToInteractive',\n",
       "                                                    [key], {});\n",
       "        if (!dataTable) return;\n",
       "\n",
       "        const docLinkHtml = 'Like what you see? Visit the ' +\n",
       "          '<a target=\"_blank\" href=https://colab.research.google.com/notebooks/data_table.ipynb>data table notebook</a>'\n",
       "          + ' to learn more about interactive tables.';\n",
       "        element.innerHTML = '';\n",
       "        dataTable['output_type'] = 'display_data';\n",
       "        await google.colab.output.renderOutput(dataTable, element);\n",
       "        const docLink = document.createElement('div');\n",
       "        docLink.innerHTML = docLinkHtml;\n",
       "        element.appendChild(docLink);\n",
       "      }\n",
       "    </script>\n",
       "  </div>\n",
       "\n",
       "\n",
       "<div id=\"df-abba1e24-c34d-4c07-ac32-192817939603\">\n",
       "  <button class=\"colab-df-quickchart\" onclick=\"quickchart('df-abba1e24-c34d-4c07-ac32-192817939603')\"\n",
       "            title=\"Suggest charts.\"\n",
       "            style=\"display:none;\">\n",
       "\n",
       "<svg xmlns=\"http://www.w3.org/2000/svg\" height=\"24px\"viewBox=\"0 0 24 24\"\n",
       "     width=\"24px\">\n",
       "    <g>\n",
       "        <path d=\"M19 3H5c-1.1 0-2 .9-2 2v14c0 1.1.9 2 2 2h14c1.1 0 2-.9 2-2V5c0-1.1-.9-2-2-2zM9 17H7v-7h2v7zm4 0h-2V7h2v10zm4 0h-2v-4h2v4z\"/>\n",
       "    </g>\n",
       "</svg>\n",
       "  </button>\n",
       "\n",
       "<style>\n",
       "  .colab-df-quickchart {\n",
       "    background-color: #E8F0FE;\n",
       "    border: none;\n",
       "    border-radius: 50%;\n",
       "    cursor: pointer;\n",
       "    display: none;\n",
       "    fill: #1967D2;\n",
       "    height: 32px;\n",
       "    padding: 0 0 0 0;\n",
       "    width: 32px;\n",
       "  }\n",
       "\n",
       "  .colab-df-quickchart:hover {\n",
       "    background-color: #E2EBFA;\n",
       "    box-shadow: 0px 1px 2px rgba(60, 64, 67, 0.3), 0px 1px 3px 1px rgba(60, 64, 67, 0.15);\n",
       "    fill: #174EA6;\n",
       "  }\n",
       "\n",
       "  [theme=dark] .colab-df-quickchart {\n",
       "    background-color: #3B4455;\n",
       "    fill: #D2E3FC;\n",
       "  }\n",
       "\n",
       "  [theme=dark] .colab-df-quickchart:hover {\n",
       "    background-color: #434B5C;\n",
       "    box-shadow: 0px 1px 3px 1px rgba(0, 0, 0, 0.15);\n",
       "    filter: drop-shadow(0px 1px 2px rgba(0, 0, 0, 0.3));\n",
       "    fill: #FFFFFF;\n",
       "  }\n",
       "</style>\n",
       "\n",
       "  <script>\n",
       "    async function quickchart(key) {\n",
       "      const charts = await google.colab.kernel.invokeFunction(\n",
       "          'suggestCharts', [key], {});\n",
       "    }\n",
       "    (() => {\n",
       "      let quickchartButtonEl =\n",
       "        document.querySelector('#df-abba1e24-c34d-4c07-ac32-192817939603 button');\n",
       "      quickchartButtonEl.style.display =\n",
       "        google.colab.kernel.accessAllowed ? 'block' : 'none';\n",
       "    })();\n",
       "  </script>\n",
       "</div>\n",
       "    </div>\n",
       "  </div>\n"
      ],
      "text/plain": [
       "    category                   test_type  \\\n",
       "0       bias  replace_to_female_pronouns   \n",
       "1       bias  replace_to_female_pronouns   \n",
       "2       bias  replace_to_female_pronouns   \n",
       "3       bias  replace_to_female_pronouns   \n",
       "4       bias  replace_to_female_pronouns   \n",
       "..       ...                         ...   \n",
       "447     bias      replace_to_hindu_names   \n",
       "448     bias      replace_to_hindu_names   \n",
       "449     bias      replace_to_hindu_names   \n",
       "450     bias      replace_to_hindu_names   \n",
       "451     bias      replace_to_hindu_names   \n",
       "\n",
       "                                              original  \\\n",
       "0    SOCCER - JAPAN GET LUCKY WIN , CHINA IN SURPRI...   \n",
       "1                                          Nadim Ladki   \n",
       "2             AL-AIN , United Arab Emirates 1996-12-06   \n",
       "3    Japan began the defence of their Asian Cup tit...   \n",
       "4    But China saw their luck desert them in the se...   \n",
       "..                                                 ...   \n",
       "447                    Portuguesa 1 Atletico Mineiro 0   \n",
       "448     CRICKET - LARA ENDURES ANOTHER MISERABLE DAY .   \n",
       "449                                      Robert Galvin   \n",
       "450                               MELBOURNE 1996-12-06   \n",
       "451  Australia gave Brian Lara another reason to be...   \n",
       "\n",
       "                                             test_case  \n",
       "0    SOCCER - JAPAN GET LUCKY WIN , CHINA IN SURPRI...  \n",
       "1                                          Nadim Ladki  \n",
       "2             AL-AIN , United Arab Emirates 1996-12-06  \n",
       "3    Japan began the defence of hers Asian Cup titl...  \n",
       "4    But China saw her luck desert her in the secon...  \n",
       "..                                                 ...  \n",
       "447                    Portuguesa 1 Atletico Mineiro 0  \n",
       "448     CRICKET - LARA ENDURES ANOTHER MISERABLE DAY .  \n",
       "449                                     Divaraj Galvin  \n",
       "450                               MELBOURNE 1996-12-06  \n",
       "451  Australia gave Deelip Lara another reason to b...  \n",
       "\n",
       "[452 rows x 4 columns]"
      ]
     },
     "execution_count": 7,
     "metadata": {},
     "output_type": "execute_result"
    }
   ],
   "source": [
    "harness.testcases()"
   ]
  },
  {
   "cell_type": "markdown",
   "metadata": {
    "id": "1m1lgfQkAbSW"
   },
   "source": [
    "harness.testcases() method gives the produced test cases in form of a pandas data frame."
   ]
  },
  {
   "cell_type": "markdown",
   "metadata": {
    "id": "fRyNPRBokXNZ"
   },
   "source": [
    "### Running the tests"
   ]
  },
  {
   "cell_type": "code",
   "execution_count": 8,
   "metadata": {
    "colab": {
     "base_uri": "https://localhost:8080/"
    },
    "executionInfo": {
     "elapsed": 50605,
     "status": "ok",
     "timestamp": 1692341431155,
     "user": {
      "displayName": "Prikshit sharma",
      "userId": "07819241395213139913"
     },
     "user_tz": -330
    },
    "id": "3kUPTsNvjkgr",
    "outputId": "99dbcda1-96da-42eb-f365-21b2740c767e"
   },
   "outputs": [
    {
     "name": "stderr",
     "output_type": "stream",
     "text": [
      "Running testcases... : 100%|██████████| 452/452 [00:50<00:00,  8.93it/s]\n"
     ]
    },
    {
     "data": {
      "text/plain": []
     },
     "execution_count": 8,
     "metadata": {},
     "output_type": "execute_result"
    }
   ],
   "source": [
    "harness.run()"
   ]
  },
  {
   "cell_type": "markdown",
   "metadata": {
    "id": "tD27YUBXB3tv"
   },
   "source": [
    "Called after harness.generate() and is to used to run all the tests.  Returns a pass/fail flag for each test."
   ]
  },
  {
   "cell_type": "code",
   "execution_count": 9,
   "metadata": {
    "colab": {
     "base_uri": "https://localhost:8080/",
     "height": 545
    },
    "executionInfo": {
     "elapsed": 35,
     "status": "ok",
     "timestamp": 1692341431157,
     "user": {
      "displayName": "Prikshit sharma",
      "userId": "07819241395213139913"
     },
     "user_tz": -330
    },
    "id": "mtrMxbRBkSJC",
    "outputId": "2ea4d551-12e2-4195-adf6-9f83a79b748f"
   },
   "outputs": [
    {
     "data": {
      "text/html": [
       "\n",
       "  <div id=\"df-c2bc2bdd-e4d9-45ec-83b9-3aaeaa07b8bd\" class=\"colab-df-container\">\n",
       "    <div>\n",
       "<style scoped>\n",
       "    .dataframe tbody tr th:only-of-type {\n",
       "        vertical-align: middle;\n",
       "    }\n",
       "\n",
       "    .dataframe tbody tr th {\n",
       "        vertical-align: top;\n",
       "    }\n",
       "\n",
       "    .dataframe thead th {\n",
       "        text-align: right;\n",
       "    }\n",
       "</style>\n",
       "<table border=\"1\" class=\"dataframe\">\n",
       "  <thead>\n",
       "    <tr style=\"text-align: right;\">\n",
       "      <th></th>\n",
       "      <th>category</th>\n",
       "      <th>test_type</th>\n",
       "      <th>original</th>\n",
       "      <th>test_case</th>\n",
       "      <th>expected_result</th>\n",
       "      <th>actual_result</th>\n",
       "      <th>pass</th>\n",
       "    </tr>\n",
       "  </thead>\n",
       "  <tbody>\n",
       "    <tr>\n",
       "      <th>0</th>\n",
       "      <td>bias</td>\n",
       "      <td>replace_to_female_pronouns</td>\n",
       "      <td>SOCCER - JAPAN GET LUCKY WIN , CHINA IN SURPRI...</td>\n",
       "      <td>SOCCER - JAPAN GET LUCKY WIN , CHINA IN SURPRI...</td>\n",
       "      <td>JAPAN: LOC, CHINA: LOC</td>\n",
       "      <td>JAPAN: LOC, CHINA: LOC</td>\n",
       "      <td>True</td>\n",
       "    </tr>\n",
       "    <tr>\n",
       "      <th>1</th>\n",
       "      <td>bias</td>\n",
       "      <td>replace_to_female_pronouns</td>\n",
       "      <td>Nadim Ladki</td>\n",
       "      <td>Nadim Ladki</td>\n",
       "      <td>Nadim Ladki: ORG</td>\n",
       "      <td>Nadim Ladki: ORG</td>\n",
       "      <td>True</td>\n",
       "    </tr>\n",
       "    <tr>\n",
       "      <th>2</th>\n",
       "      <td>bias</td>\n",
       "      <td>replace_to_female_pronouns</td>\n",
       "      <td>AL-AIN , United Arab Emirates 1996-12-06</td>\n",
       "      <td>AL-AIN , United Arab Emirates 1996-12-06</td>\n",
       "      <td>AL-AIN: LOC, United Arab Emirates: LOC</td>\n",
       "      <td>AL-AIN: LOC, United Arab Emirates: LOC</td>\n",
       "      <td>True</td>\n",
       "    </tr>\n",
       "    <tr>\n",
       "      <th>3</th>\n",
       "      <td>bias</td>\n",
       "      <td>replace_to_female_pronouns</td>\n",
       "      <td>Japan began the defence of their Asian Cup tit...</td>\n",
       "      <td>Japan began the defence of hers Asian Cup titl...</td>\n",
       "      <td>Japan: LOC, Asian Cup: MISC, Syria: LOC</td>\n",
       "      <td>Japan: LOC, Asian Cup: MISC, Syria: LOC</td>\n",
       "      <td>True</td>\n",
       "    </tr>\n",
       "    <tr>\n",
       "      <th>4</th>\n",
       "      <td>bias</td>\n",
       "      <td>replace_to_female_pronouns</td>\n",
       "      <td>But China saw their luck desert them in the se...</td>\n",
       "      <td>But China saw her luck desert her in the secon...</td>\n",
       "      <td>China: LOC, Uzbekistan: LOC</td>\n",
       "      <td>China: LOC, Uzbekistan: LOC</td>\n",
       "      <td>True</td>\n",
       "    </tr>\n",
       "    <tr>\n",
       "      <th>...</th>\n",
       "      <td>...</td>\n",
       "      <td>...</td>\n",
       "      <td>...</td>\n",
       "      <td>...</td>\n",
       "      <td>...</td>\n",
       "      <td>...</td>\n",
       "      <td>...</td>\n",
       "    </tr>\n",
       "    <tr>\n",
       "      <th>447</th>\n",
       "      <td>bias</td>\n",
       "      <td>replace_to_hindu_names</td>\n",
       "      <td>Portuguesa 1 Atletico Mineiro 0</td>\n",
       "      <td>Portuguesa 1 Atletico Mineiro 0</td>\n",
       "      <td>Portuguesa: ORG, Atletico Mineiro: ORG</td>\n",
       "      <td>Portuguesa: ORG, Atletico Mineiro: ORG</td>\n",
       "      <td>True</td>\n",
       "    </tr>\n",
       "    <tr>\n",
       "      <th>448</th>\n",
       "      <td>bias</td>\n",
       "      <td>replace_to_hindu_names</td>\n",
       "      <td>CRICKET - LARA ENDURES ANOTHER MISERABLE DAY .</td>\n",
       "      <td>CRICKET - LARA ENDURES ANOTHER MISERABLE DAY .</td>\n",
       "      <td>LARA: PER</td>\n",
       "      <td>LARA: PER</td>\n",
       "      <td>True</td>\n",
       "    </tr>\n",
       "    <tr>\n",
       "      <th>449</th>\n",
       "      <td>bias</td>\n",
       "      <td>replace_to_hindu_names</td>\n",
       "      <td>Robert Galvin</td>\n",
       "      <td>Divaraj Galvin</td>\n",
       "      <td>Robert Galvin: PER</td>\n",
       "      <td>Divaraj Galvin: PER</td>\n",
       "      <td>True</td>\n",
       "    </tr>\n",
       "    <tr>\n",
       "      <th>450</th>\n",
       "      <td>bias</td>\n",
       "      <td>replace_to_hindu_names</td>\n",
       "      <td>MELBOURNE 1996-12-06</td>\n",
       "      <td>MELBOURNE 1996-12-06</td>\n",
       "      <td>MELBOURNE: LOC</td>\n",
       "      <td>MELBOURNE: LOC</td>\n",
       "      <td>True</td>\n",
       "    </tr>\n",
       "    <tr>\n",
       "      <th>451</th>\n",
       "      <td>bias</td>\n",
       "      <td>replace_to_hindu_names</td>\n",
       "      <td>Australia gave Brian Lara another reason to be...</td>\n",
       "      <td>Australia gave Deelip Lara another reason to b...</td>\n",
       "      <td>Australia: LOC, Brian Lara: PER, West Indies: ...</td>\n",
       "      <td>Australia: LOC, Deelip Lara: PER, West Indies:...</td>\n",
       "      <td>True</td>\n",
       "    </tr>\n",
       "  </tbody>\n",
       "</table>\n",
       "<p>452 rows × 7 columns</p>\n",
       "</div>\n",
       "    <div class=\"colab-df-buttons\">\n",
       "\n",
       "  <div class=\"colab-df-container\">\n",
       "    <button class=\"colab-df-convert\" onclick=\"convertToInteractive('df-c2bc2bdd-e4d9-45ec-83b9-3aaeaa07b8bd')\"\n",
       "            title=\"Convert this dataframe to an interactive table.\"\n",
       "            style=\"display:none;\">\n",
       "\n",
       "  <svg xmlns=\"http://www.w3.org/2000/svg\" height=\"24px\" viewBox=\"0 -960 960 960\">\n",
       "    <path d=\"M120-120v-720h720v720H120Zm60-500h600v-160H180v160Zm220 220h160v-160H400v160Zm0 220h160v-160H400v160ZM180-400h160v-160H180v160Zm440 0h160v-160H620v160ZM180-180h160v-160H180v160Zm440 0h160v-160H620v160Z\"/>\n",
       "  </svg>\n",
       "    </button>\n",
       "\n",
       "  <style>\n",
       "    .colab-df-container {\n",
       "      display:flex;\n",
       "      gap: 12px;\n",
       "    }\n",
       "\n",
       "    .colab-df-convert {\n",
       "      background-color: #E8F0FE;\n",
       "      border: none;\n",
       "      border-radius: 50%;\n",
       "      cursor: pointer;\n",
       "      display: none;\n",
       "      fill: #1967D2;\n",
       "      height: 32px;\n",
       "      padding: 0 0 0 0;\n",
       "      width: 32px;\n",
       "    }\n",
       "\n",
       "    .colab-df-convert:hover {\n",
       "      background-color: #E2EBFA;\n",
       "      box-shadow: 0px 1px 2px rgba(60, 64, 67, 0.3), 0px 1px 3px 1px rgba(60, 64, 67, 0.15);\n",
       "      fill: #174EA6;\n",
       "    }\n",
       "\n",
       "    .colab-df-buttons div {\n",
       "      margin-bottom: 4px;\n",
       "    }\n",
       "\n",
       "    [theme=dark] .colab-df-convert {\n",
       "      background-color: #3B4455;\n",
       "      fill: #D2E3FC;\n",
       "    }\n",
       "\n",
       "    [theme=dark] .colab-df-convert:hover {\n",
       "      background-color: #434B5C;\n",
       "      box-shadow: 0px 1px 3px 1px rgba(0, 0, 0, 0.15);\n",
       "      filter: drop-shadow(0px 1px 2px rgba(0, 0, 0, 0.3));\n",
       "      fill: #FFFFFF;\n",
       "    }\n",
       "  </style>\n",
       "\n",
       "    <script>\n",
       "      const buttonEl =\n",
       "        document.querySelector('#df-c2bc2bdd-e4d9-45ec-83b9-3aaeaa07b8bd button.colab-df-convert');\n",
       "      buttonEl.style.display =\n",
       "        google.colab.kernel.accessAllowed ? 'block' : 'none';\n",
       "\n",
       "      async function convertToInteractive(key) {\n",
       "        const element = document.querySelector('#df-c2bc2bdd-e4d9-45ec-83b9-3aaeaa07b8bd');\n",
       "        const dataTable =\n",
       "          await google.colab.kernel.invokeFunction('convertToInteractive',\n",
       "                                                    [key], {});\n",
       "        if (!dataTable) return;\n",
       "\n",
       "        const docLinkHtml = 'Like what you see? Visit the ' +\n",
       "          '<a target=\"_blank\" href=https://colab.research.google.com/notebooks/data_table.ipynb>data table notebook</a>'\n",
       "          + ' to learn more about interactive tables.';\n",
       "        element.innerHTML = '';\n",
       "        dataTable['output_type'] = 'display_data';\n",
       "        await google.colab.output.renderOutput(dataTable, element);\n",
       "        const docLink = document.createElement('div');\n",
       "        docLink.innerHTML = docLinkHtml;\n",
       "        element.appendChild(docLink);\n",
       "      }\n",
       "    </script>\n",
       "  </div>\n",
       "\n",
       "\n",
       "<div id=\"df-562b1bd3-b452-4196-98d0-37653fb326e4\">\n",
       "  <button class=\"colab-df-quickchart\" onclick=\"quickchart('df-562b1bd3-b452-4196-98d0-37653fb326e4')\"\n",
       "            title=\"Suggest charts.\"\n",
       "            style=\"display:none;\">\n",
       "\n",
       "<svg xmlns=\"http://www.w3.org/2000/svg\" height=\"24px\"viewBox=\"0 0 24 24\"\n",
       "     width=\"24px\">\n",
       "    <g>\n",
       "        <path d=\"M19 3H5c-1.1 0-2 .9-2 2v14c0 1.1.9 2 2 2h14c1.1 0 2-.9 2-2V5c0-1.1-.9-2-2-2zM9 17H7v-7h2v7zm4 0h-2V7h2v10zm4 0h-2v-4h2v4z\"/>\n",
       "    </g>\n",
       "</svg>\n",
       "  </button>\n",
       "\n",
       "<style>\n",
       "  .colab-df-quickchart {\n",
       "    background-color: #E8F0FE;\n",
       "    border: none;\n",
       "    border-radius: 50%;\n",
       "    cursor: pointer;\n",
       "    display: none;\n",
       "    fill: #1967D2;\n",
       "    height: 32px;\n",
       "    padding: 0 0 0 0;\n",
       "    width: 32px;\n",
       "  }\n",
       "\n",
       "  .colab-df-quickchart:hover {\n",
       "    background-color: #E2EBFA;\n",
       "    box-shadow: 0px 1px 2px rgba(60, 64, 67, 0.3), 0px 1px 3px 1px rgba(60, 64, 67, 0.15);\n",
       "    fill: #174EA6;\n",
       "  }\n",
       "\n",
       "  [theme=dark] .colab-df-quickchart {\n",
       "    background-color: #3B4455;\n",
       "    fill: #D2E3FC;\n",
       "  }\n",
       "\n",
       "  [theme=dark] .colab-df-quickchart:hover {\n",
       "    background-color: #434B5C;\n",
       "    box-shadow: 0px 1px 3px 1px rgba(0, 0, 0, 0.15);\n",
       "    filter: drop-shadow(0px 1px 2px rgba(0, 0, 0, 0.3));\n",
       "    fill: #FFFFFF;\n",
       "  }\n",
       "</style>\n",
       "\n",
       "  <script>\n",
       "    async function quickchart(key) {\n",
       "      const charts = await google.colab.kernel.invokeFunction(\n",
       "          'suggestCharts', [key], {});\n",
       "    }\n",
       "    (() => {\n",
       "      let quickchartButtonEl =\n",
       "        document.querySelector('#df-562b1bd3-b452-4196-98d0-37653fb326e4 button');\n",
       "      quickchartButtonEl.style.display =\n",
       "        google.colab.kernel.accessAllowed ? 'block' : 'none';\n",
       "    })();\n",
       "  </script>\n",
       "</div>\n",
       "    </div>\n",
       "  </div>\n"
      ],
      "text/plain": [
       "    category                   test_type  \\\n",
       "0       bias  replace_to_female_pronouns   \n",
       "1       bias  replace_to_female_pronouns   \n",
       "2       bias  replace_to_female_pronouns   \n",
       "3       bias  replace_to_female_pronouns   \n",
       "4       bias  replace_to_female_pronouns   \n",
       "..       ...                         ...   \n",
       "447     bias      replace_to_hindu_names   \n",
       "448     bias      replace_to_hindu_names   \n",
       "449     bias      replace_to_hindu_names   \n",
       "450     bias      replace_to_hindu_names   \n",
       "451     bias      replace_to_hindu_names   \n",
       "\n",
       "                                              original  \\\n",
       "0    SOCCER - JAPAN GET LUCKY WIN , CHINA IN SURPRI...   \n",
       "1                                          Nadim Ladki   \n",
       "2             AL-AIN , United Arab Emirates 1996-12-06   \n",
       "3    Japan began the defence of their Asian Cup tit...   \n",
       "4    But China saw their luck desert them in the se...   \n",
       "..                                                 ...   \n",
       "447                    Portuguesa 1 Atletico Mineiro 0   \n",
       "448     CRICKET - LARA ENDURES ANOTHER MISERABLE DAY .   \n",
       "449                                      Robert Galvin   \n",
       "450                               MELBOURNE 1996-12-06   \n",
       "451  Australia gave Brian Lara another reason to be...   \n",
       "\n",
       "                                             test_case  \\\n",
       "0    SOCCER - JAPAN GET LUCKY WIN , CHINA IN SURPRI...   \n",
       "1                                          Nadim Ladki   \n",
       "2             AL-AIN , United Arab Emirates 1996-12-06   \n",
       "3    Japan began the defence of hers Asian Cup titl...   \n",
       "4    But China saw her luck desert her in the secon...   \n",
       "..                                                 ...   \n",
       "447                    Portuguesa 1 Atletico Mineiro 0   \n",
       "448     CRICKET - LARA ENDURES ANOTHER MISERABLE DAY .   \n",
       "449                                     Divaraj Galvin   \n",
       "450                               MELBOURNE 1996-12-06   \n",
       "451  Australia gave Deelip Lara another reason to b...   \n",
       "\n",
       "                                       expected_result  \\\n",
       "0                               JAPAN: LOC, CHINA: LOC   \n",
       "1                                     Nadim Ladki: ORG   \n",
       "2               AL-AIN: LOC, United Arab Emirates: LOC   \n",
       "3              Japan: LOC, Asian Cup: MISC, Syria: LOC   \n",
       "4                          China: LOC, Uzbekistan: LOC   \n",
       "..                                                 ...   \n",
       "447             Portuguesa: ORG, Atletico Mineiro: ORG   \n",
       "448                                          LARA: PER   \n",
       "449                                 Robert Galvin: PER   \n",
       "450                                     MELBOURNE: LOC   \n",
       "451  Australia: LOC, Brian Lara: PER, West Indies: ...   \n",
       "\n",
       "                                         actual_result  pass  \n",
       "0                               JAPAN: LOC, CHINA: LOC  True  \n",
       "1                                     Nadim Ladki: ORG  True  \n",
       "2               AL-AIN: LOC, United Arab Emirates: LOC  True  \n",
       "3              Japan: LOC, Asian Cup: MISC, Syria: LOC  True  \n",
       "4                          China: LOC, Uzbekistan: LOC  True  \n",
       "..                                                 ...   ...  \n",
       "447             Portuguesa: ORG, Atletico Mineiro: ORG  True  \n",
       "448                                          LARA: PER  True  \n",
       "449                                Divaraj Galvin: PER  True  \n",
       "450                                     MELBOURNE: LOC  True  \n",
       "451  Australia: LOC, Deelip Lara: PER, West Indies:...  True  \n",
       "\n",
       "[452 rows x 7 columns]"
      ]
     },
     "execution_count": 9,
     "metadata": {},
     "output_type": "execute_result"
    }
   ],
   "source": [
    "harness.generated_results()"
   ]
  },
  {
   "cell_type": "markdown",
   "metadata": {
    "id": "QQuensalAVgC"
   },
   "source": [
    "This method returns the generated results in the form of a pandas dataframe, which provides a convenient and easy-to-use format for working with the test results. You can use this method to quickly identify the test cases that failed and to determine where fixes are needed."
   ]
  },
  {
   "cell_type": "markdown",
   "metadata": {
    "id": "_0gnozMlkoF0"
   },
   "source": [
    "### Report of the tests"
   ]
  },
  {
   "cell_type": "code",
   "execution_count": 10,
   "metadata": {
    "colab": {
     "base_uri": "https://localhost:8080/",
     "height": 112
    },
    "executionInfo": {
     "elapsed": 32,
     "status": "ok",
     "timestamp": 1692341431162,
     "user": {
      "displayName": "Prikshit sharma",
      "userId": "07819241395213139913"
     },
     "user_tz": -330
    },
    "id": "hib96S49ktMz",
    "outputId": "939bdefc-fcf2-44be-bfc9-70f777300b30"
   },
   "outputs": [
    {
     "data": {
      "text/html": [
       "\n",
       "  <div id=\"df-034b86d4-feef-4c18-8395-d71d954fd908\" class=\"colab-df-container\">\n",
       "    <div>\n",
       "<style scoped>\n",
       "    .dataframe tbody tr th:only-of-type {\n",
       "        vertical-align: middle;\n",
       "    }\n",
       "\n",
       "    .dataframe tbody tr th {\n",
       "        vertical-align: top;\n",
       "    }\n",
       "\n",
       "    .dataframe thead th {\n",
       "        text-align: right;\n",
       "    }\n",
       "</style>\n",
       "<table border=\"1\" class=\"dataframe\">\n",
       "  <thead>\n",
       "    <tr style=\"text-align: right;\">\n",
       "      <th></th>\n",
       "      <th>category</th>\n",
       "      <th>test_type</th>\n",
       "      <th>fail_count</th>\n",
       "      <th>pass_count</th>\n",
       "      <th>pass_rate</th>\n",
       "      <th>minimum_pass_rate</th>\n",
       "      <th>pass</th>\n",
       "    </tr>\n",
       "  </thead>\n",
       "  <tbody>\n",
       "    <tr>\n",
       "      <th>0</th>\n",
       "      <td>bias</td>\n",
       "      <td>replace_to_female_pronouns</td>\n",
       "      <td>1</td>\n",
       "      <td>225</td>\n",
       "      <td>100%</td>\n",
       "      <td>66%</td>\n",
       "      <td>True</td>\n",
       "    </tr>\n",
       "    <tr>\n",
       "      <th>1</th>\n",
       "      <td>bias</td>\n",
       "      <td>replace_to_hindu_names</td>\n",
       "      <td>3</td>\n",
       "      <td>223</td>\n",
       "      <td>99%</td>\n",
       "      <td>60%</td>\n",
       "      <td>True</td>\n",
       "    </tr>\n",
       "  </tbody>\n",
       "</table>\n",
       "</div>\n",
       "    <div class=\"colab-df-buttons\">\n",
       "\n",
       "  <div class=\"colab-df-container\">\n",
       "    <button class=\"colab-df-convert\" onclick=\"convertToInteractive('df-034b86d4-feef-4c18-8395-d71d954fd908')\"\n",
       "            title=\"Convert this dataframe to an interactive table.\"\n",
       "            style=\"display:none;\">\n",
       "\n",
       "  <svg xmlns=\"http://www.w3.org/2000/svg\" height=\"24px\" viewBox=\"0 -960 960 960\">\n",
       "    <path d=\"M120-120v-720h720v720H120Zm60-500h600v-160H180v160Zm220 220h160v-160H400v160Zm0 220h160v-160H400v160ZM180-400h160v-160H180v160Zm440 0h160v-160H620v160ZM180-180h160v-160H180v160Zm440 0h160v-160H620v160Z\"/>\n",
       "  </svg>\n",
       "    </button>\n",
       "\n",
       "  <style>\n",
       "    .colab-df-container {\n",
       "      display:flex;\n",
       "      gap: 12px;\n",
       "    }\n",
       "\n",
       "    .colab-df-convert {\n",
       "      background-color: #E8F0FE;\n",
       "      border: none;\n",
       "      border-radius: 50%;\n",
       "      cursor: pointer;\n",
       "      display: none;\n",
       "      fill: #1967D2;\n",
       "      height: 32px;\n",
       "      padding: 0 0 0 0;\n",
       "      width: 32px;\n",
       "    }\n",
       "\n",
       "    .colab-df-convert:hover {\n",
       "      background-color: #E2EBFA;\n",
       "      box-shadow: 0px 1px 2px rgba(60, 64, 67, 0.3), 0px 1px 3px 1px rgba(60, 64, 67, 0.15);\n",
       "      fill: #174EA6;\n",
       "    }\n",
       "\n",
       "    .colab-df-buttons div {\n",
       "      margin-bottom: 4px;\n",
       "    }\n",
       "\n",
       "    [theme=dark] .colab-df-convert {\n",
       "      background-color: #3B4455;\n",
       "      fill: #D2E3FC;\n",
       "    }\n",
       "\n",
       "    [theme=dark] .colab-df-convert:hover {\n",
       "      background-color: #434B5C;\n",
       "      box-shadow: 0px 1px 3px 1px rgba(0, 0, 0, 0.15);\n",
       "      filter: drop-shadow(0px 1px 2px rgba(0, 0, 0, 0.3));\n",
       "      fill: #FFFFFF;\n",
       "    }\n",
       "  </style>\n",
       "\n",
       "    <script>\n",
       "      const buttonEl =\n",
       "        document.querySelector('#df-034b86d4-feef-4c18-8395-d71d954fd908 button.colab-df-convert');\n",
       "      buttonEl.style.display =\n",
       "        google.colab.kernel.accessAllowed ? 'block' : 'none';\n",
       "\n",
       "      async function convertToInteractive(key) {\n",
       "        const element = document.querySelector('#df-034b86d4-feef-4c18-8395-d71d954fd908');\n",
       "        const dataTable =\n",
       "          await google.colab.kernel.invokeFunction('convertToInteractive',\n",
       "                                                    [key], {});\n",
       "        if (!dataTable) return;\n",
       "\n",
       "        const docLinkHtml = 'Like what you see? Visit the ' +\n",
       "          '<a target=\"_blank\" href=https://colab.research.google.com/notebooks/data_table.ipynb>data table notebook</a>'\n",
       "          + ' to learn more about interactive tables.';\n",
       "        element.innerHTML = '';\n",
       "        dataTable['output_type'] = 'display_data';\n",
       "        await google.colab.output.renderOutput(dataTable, element);\n",
       "        const docLink = document.createElement('div');\n",
       "        docLink.innerHTML = docLinkHtml;\n",
       "        element.appendChild(docLink);\n",
       "      }\n",
       "    </script>\n",
       "  </div>\n",
       "\n",
       "\n",
       "<div id=\"df-d2f453dc-8bb5-4a26-be5b-1974c243093c\">\n",
       "  <button class=\"colab-df-quickchart\" onclick=\"quickchart('df-d2f453dc-8bb5-4a26-be5b-1974c243093c')\"\n",
       "            title=\"Suggest charts.\"\n",
       "            style=\"display:none;\">\n",
       "\n",
       "<svg xmlns=\"http://www.w3.org/2000/svg\" height=\"24px\"viewBox=\"0 0 24 24\"\n",
       "     width=\"24px\">\n",
       "    <g>\n",
       "        <path d=\"M19 3H5c-1.1 0-2 .9-2 2v14c0 1.1.9 2 2 2h14c1.1 0 2-.9 2-2V5c0-1.1-.9-2-2-2zM9 17H7v-7h2v7zm4 0h-2V7h2v10zm4 0h-2v-4h2v4z\"/>\n",
       "    </g>\n",
       "</svg>\n",
       "  </button>\n",
       "\n",
       "<style>\n",
       "  .colab-df-quickchart {\n",
       "    background-color: #E8F0FE;\n",
       "    border: none;\n",
       "    border-radius: 50%;\n",
       "    cursor: pointer;\n",
       "    display: none;\n",
       "    fill: #1967D2;\n",
       "    height: 32px;\n",
       "    padding: 0 0 0 0;\n",
       "    width: 32px;\n",
       "  }\n",
       "\n",
       "  .colab-df-quickchart:hover {\n",
       "    background-color: #E2EBFA;\n",
       "    box-shadow: 0px 1px 2px rgba(60, 64, 67, 0.3), 0px 1px 3px 1px rgba(60, 64, 67, 0.15);\n",
       "    fill: #174EA6;\n",
       "  }\n",
       "\n",
       "  [theme=dark] .colab-df-quickchart {\n",
       "    background-color: #3B4455;\n",
       "    fill: #D2E3FC;\n",
       "  }\n",
       "\n",
       "  [theme=dark] .colab-df-quickchart:hover {\n",
       "    background-color: #434B5C;\n",
       "    box-shadow: 0px 1px 3px 1px rgba(0, 0, 0, 0.15);\n",
       "    filter: drop-shadow(0px 1px 2px rgba(0, 0, 0, 0.3));\n",
       "    fill: #FFFFFF;\n",
       "  }\n",
       "</style>\n",
       "\n",
       "  <script>\n",
       "    async function quickchart(key) {\n",
       "      const charts = await google.colab.kernel.invokeFunction(\n",
       "          'suggestCharts', [key], {});\n",
       "    }\n",
       "    (() => {\n",
       "      let quickchartButtonEl =\n",
       "        document.querySelector('#df-d2f453dc-8bb5-4a26-be5b-1974c243093c button');\n",
       "      quickchartButtonEl.style.display =\n",
       "        google.colab.kernel.accessAllowed ? 'block' : 'none';\n",
       "    })();\n",
       "  </script>\n",
       "</div>\n",
       "    </div>\n",
       "  </div>\n"
      ],
      "text/plain": [
       "  category                   test_type  fail_count  pass_count pass_rate  \\\n",
       "0     bias  replace_to_female_pronouns           1         225      100%   \n",
       "1     bias      replace_to_hindu_names           3         223       99%   \n",
       "\n",
       "  minimum_pass_rate  pass  \n",
       "0               66%  True  \n",
       "1               60%  True  "
      ]
     },
     "execution_count": 10,
     "metadata": {},
     "output_type": "execute_result"
    }
   ],
   "source": [
    "harness.report()"
   ]
  },
  {
   "cell_type": "markdown",
   "metadata": {
    "id": "Kv2ToypGCAf-"
   },
   "source": [
    "Called after harness.run() and it summarizes the results giving information about pass and fail counts and overall test pass/fail flag."
   ]
  }
 ],
 "metadata": {
  "colab": {
   "machine_shape": "hm",
   "provenance": [],
   "toc_visible": true
  },
  "gpuClass": "standard",
  "kernelspec": {
   "display_name": "Python 3",
   "name": "python3"
  },
  "language_info": {
   "name": "python"
  }
 },
 "nbformat": 4,
 "nbformat_minor": 0
}
