{
 "cells": [
  {
   "cell_type": "markdown",
   "metadata": {
    "id": "D285OP467TeS"
   },
   "source": [
    "![logog](https://raw.githubusercontent.com/Pacific-AI-Corp/langtest/main/docs/assets/images/logo.png)"
   ]
  },
  {
   "cell_type": "markdown",
   "metadata": {
    "id": "fcIj3cHCNitW"
   },
   "source": [
    "[![Open In Colab](https://colab.research.google.com/assets/colab-badge.svg)](https://colab.research.google.com/github/Pacific-AI-Corp/langtest/blob/main/demo/tutorials/test-specific-notebooks/Grammar_Demo.ipynb)"
   ]
  },
  {
   "cell_type": "markdown",
   "metadata": {
    "id": "dkeXfLQc3dZI"
   },
   "source": [
    "**LangTest** is an open-source python library designed to help developers deliver safe and effective Natural Language Processing (NLP) models. Whether you are using **John Snow Labs, Hugging Face, Spacy** models or **OpenAI, Cohere, AI21, Hugging Face Inference API and Azure-OpenAI** based LLMs, it has got you covered. You can test any Named Entity Recognition (NER), Text Classification, fill-mask, Translation model using the library. We also support testing LLMS for Question-Answering, Summarization and text-generation tasks on benchmark datasets. The library supports 60+ out of the box tests. For a complete list of supported test categories, please refer to the [documentation](http://langtest.org/docs/pages/docs/test_categories).\n",
    "\n",
    "Metrics are calculated by comparing the model's extractions in the original list of sentences against the extractions carried out in the noisy list of sentences. The original annotated labels are not used at any point, we are simply comparing the model against itself in a 2 settings."
   ]
  },
  {
   "cell_type": "markdown",
   "metadata": {
    "id": "v9Yd7KhpZOTF"
   },
   "source": [
    "# Getting started with LangTest on John Snow Labs"
   ]
  },
  {
   "cell_type": "code",
   "execution_count": 2,
   "metadata": {
    "id": "cuOTxHaR7C1N"
   },
   "outputs": [],
   "source": [
    " !pip install langtest[transformers]"
   ]
  },
  {
   "cell_type": "markdown",
   "metadata": {
    "id": "cLsC0cpI3y2h"
   },
   "source": [
    "# Harness and its Parameters\n",
    "\n",
    "The Harness class is a testing class for Natural Language Processing (NLP) models. It evaluates the performance of a NLP model on a given task using test data and generates a report with test results.Harness can be imported from the LangTest library in the following way."
   ]
  },
  {
   "cell_type": "code",
   "execution_count": 3,
   "metadata": {
    "executionInfo": {
     "elapsed": 869,
     "status": "ok",
     "timestamp": 1692341193093,
     "user": {
      "displayName": "Prikshit sharma",
      "userId": "07819241395213139913"
     },
     "user_tz": -330
    },
    "id": "w1g27-uxl1AA"
   },
   "outputs": [],
   "source": [
    "#Import Harness from the LangTest library\n",
    "from langtest import Harness\n"
   ]
  },
  {
   "cell_type": "markdown",
   "metadata": {
    "id": "0zDe3x2v35R_"
   },
   "source": [
    "It imports the Harness class from within the module, that is designed to provide a blueprint or framework for conducting NLP testing, and that instances of the Harness class can be customized or configured for different testing scenarios or environments.\n",
    "\n",
    "Here is a list of the different parameters that can be passed to the Harness function:\n",
    "\n",
    "<br/>\n",
    "\n",
    "\n",
    "\n",
    "| Parameter     | Description |\n",
    "| - | - |\n",
    "| **task**      | Task for which the model is to be evaluated (text-classification or ner) |\n",
    "| **model**     | Specifies the model(s) to be evaluated. This parameter can be provided as either a dictionary or a list of dictionaries. Each dictionary should contain the following keys: <ul><li>model (mandatory): \tPipelineModel or path to a saved model or pretrained pipeline/model from hub.</li><li>hub (mandatory): Hub (library) to use in back-end for loading model from public models hub or from path</li></ul>|\n",
    "| **data**      | The data to be used for evaluation. A dictionary providing flexibility and options for data sources. It should include the following keys: <ul><li>data_source (mandatory): The source of the data.</li><li>subset (optional): The subset of the data.</li><li>feature_column (optional): The column containing the features.</li><li>target_column (optional): The column containing the target labels.</li><li>split (optional): The data split to be used.</li><li>source (optional): Set to 'huggingface' when loading Hugging Face dataset.</li></ul> |\n",
    "| **config**    | Configuration for the tests to be performed, specified in the form of a YAML file. |\n",
    "\n",
    "\n",
    "<br/>\n",
    "<br/>"
   ]
  },
  {
   "cell_type": "markdown",
   "metadata": {
    "id": "CpR_gUxN4H7u"
   },
   "source": [
    "# Grammar Testing\n",
    "\n",
    "Grammar Testing is integral to the thorough evaluation of natural language processing models using langtest, primarily focusing on assessing the model's proficiency in rectifying grammatical errors, even when deliberately introduced by users. This testing becomes particularly significant in scenarios where users intentionally submit inputs with grammatical mistakes, ranging from misspelled words to inaccurate sentence structures. A robust natural language processing model is expected to exhibit intelligent capabilities in addressing and correcting these syntactical nuances.\n",
    "\n",
    "The significance of Grammar Testing lies in its role of evaluating the model's competence not just in error identification but also in nuanced correction of grammatical intricacies, ensuring a deeper understanding of contextual nuances. Implementing Grammar Testing involves meticulous evaluation of the model's response to intentional introduction of grammatical errors in user inputs, aiming to ascertain the model's resilience in handling such inputs gracefully and enhancing the overall quality of the processed text. Incorporating Grammar Testing into the evaluation process is imperative for fostering sophisticated language understanding within the model, consistently demonstrating the capacity to intelligently correct grammatical errors and contributing to a user-friendly linguistic processing system. This, in turn, elevates the reliability and effectiveness of the model across diverse linguistic contexts, making Grammar Testing an essential element in the refinement and validation of natural language processing models.\n",
    "\n",
    "**`Supported Grammar tests :`**<br>\n",
    "\n",
    "- **`paraphase`**: The paraphrase test in grammar assesses a model's capability to identify and generate linguistic alternatives that convey the same meaning, gauging its proficiency in understanding and expressing diverse language constructs.\n",
    "\n",
    "\n",
    "\n",
    "<br/>\n",
    "<br/>\n",
    "\n",
    "\n"
   ]
  },
  {
   "cell_type": "markdown",
   "metadata": {
    "id": "pSODDddyziXZ"
   },
   "source": [
    "## Grammar Testing on a pretrained models\n",
    "\n",
    "Conducting grammatical testing on pretrained models using Harness proves effective for evaluating their performance across diverse input texts. By seamlessly integrating pretrained models or pipelines from a hub as the model parameter, this approach streamlines testing procedures and enables a comprehensive assessment of the model's grammatical correction capabilities. Leveraging established linguistic knowledge, this methodology ensures the model's adaptability to various grammatical nuances, making it well-suited for real-world scenarios where users may introduce text with different levels of grammatical complexity."
   ]
  },
  {
   "cell_type": "markdown",
   "metadata": {
    "id": "78THAZm3cRu7"
   },
   "source": [
    "### Test Configuration\n",
    "\n",
    "Test configuration can be passed in the form of a YAML file as shown below or using .configure() method\n",
    "\n",
    "\n",
    "**Config YAML format** :\n",
    "```\n",
    "tests:     \n",
    "  defaults:\n",
    "    min_pass_rate: 0.65\n",
    "  grammar:\n",
    "    paraphrase:\n",
    "      min_score: 0.66  \n",
    "```\n",
    "\n",
    "If config file is not present, we can also use the **.configure()** method to manually configure the harness to perform the needed tests.\n"
   ]
  },
  {
   "cell_type": "code",
   "execution_count": 4,
   "metadata": {
    "colab": {
     "base_uri": "https://localhost:8080/"
    },
    "executionInfo": {
     "elapsed": 75688,
     "status": "ok",
     "timestamp": 1692341268774,
     "user": {
      "displayName": "Prikshit sharma",
      "userId": "07819241395213139913"
     },
     "user_tz": -330
    },
    "id": "BAqFUYsdiJMz",
    "outputId": "b935f333-519c-496c-c12f-aa6d75dd90f2"
   },
   "outputs": [
    {
     "name": "stdout",
     "output_type": "stream",
     "text": [
      "Test Configuration : \n",
      " {\n",
      " \"tests\": {\n",
      "  \"defaults\": {\n",
      "   \"min_pass_rate\": 1.0\n",
      "  },\n",
      "  \"robustness\": {\n",
      "   \"add_typo\": {\n",
      "    \"min_pass_rate\": 0.7\n",
      "   },\n",
      "   \"american_to_british\": {\n",
      "    \"min_pass_rate\": 0.7\n",
      "   }\n",
      "  },\n",
      "  \"accuracy\": {\n",
      "   \"min_micro_f1_score\": {\n",
      "    \"min_score\": 0.7\n",
      "   }\n",
      "  },\n",
      "  \"bias\": {\n",
      "   \"replace_to_female_pronouns\": {\n",
      "    \"min_pass_rate\": 0.7\n",
      "   },\n",
      "   \"replace_to_low_income_country\": {\n",
      "    \"min_pass_rate\": 0.7\n",
      "   }\n",
      "  },\n",
      "  \"fairness\": {\n",
      "   \"min_gender_f1_score\": {\n",
      "    \"min_score\": 0.6\n",
      "   }\n",
      "  },\n",
      "  \"representation\": {\n",
      "   \"min_label_representation_count\": {\n",
      "    \"min_count\": 50\n",
      "   }\n",
      "  }\n",
      " }\n",
      "}\n"
     ]
    }
   ],
   "source": [
    "harness = Harness(\n",
    "    task=\"text-classification\",\n",
    "    model={\"model\": \"lvwerra/distilbert-imdb\", \"hub\": \"huggingface\"},\n",
    ")"
   ]
  },
  {
   "cell_type": "markdown",
   "metadata": {
    "id": "jGEN7Q0Ric8H"
   },
   "source": [
    "We can use the .configure() method to manually configure the tests we want to perform."
   ]
  },
  {
   "cell_type": "code",
   "execution_count": 7,
   "metadata": {
    "colab": {
     "base_uri": "https://localhost:8080/"
    },
    "executionInfo": {
     "elapsed": 62,
     "status": "ok",
     "timestamp": 1692341268776,
     "user": {
      "displayName": "Prikshit sharma",
      "userId": "07819241395213139913"
     },
     "user_tz": -330
    },
    "id": "C08dW5tue_6d",
    "outputId": "a336fa1e-e36c-4ba9-d32b-2aa5e711b0be"
   },
   "outputs": [
    {
     "data": {
      "text/plain": [
       "{'tests': {'defaults': {'min_pass_rate': 0.5},\n",
       "  'grammar': {'paraphrase': {'min_score': 0.75}}}}"
      ]
     },
     "execution_count": 7,
     "metadata": {},
     "output_type": "execute_result"
    }
   ],
   "source": [
    "harness.configure({\n",
    "  'tests': {\n",
    "    'defaults': {'min_pass_rate':0.5},\n",
    "    'grammar': {\n",
    "      'paraphrase': {'min_score': 0.75},\n",
    "    }\n",
    "  }\n",
    "})"
   ]
  },
  {
   "cell_type": "markdown",
   "metadata": {
    "id": "4p79ySpiCMnf"
   },
   "source": [
    "Here we have configured the harness to perform one grammar test (paraphase) and defined the minimum pass rate for each test."
   ]
  },
  {
   "cell_type": "markdown",
   "metadata": {
    "id": "MomLlmTwjpzU"
   },
   "source": [
    "\n",
    "### Generating the test cases.\n",
    "\n",
    "\n"
   ]
  },
  {
   "cell_type": "code",
   "execution_count": 8,
   "metadata": {
    "colab": {
     "base_uri": "https://localhost:8080/"
    },
    "executionInfo": {
     "elapsed": 27708,
     "status": "ok",
     "timestamp": 1692341296431,
     "user": {
      "displayName": "Prikshit sharma",
      "userId": "07819241395213139913"
     },
     "user_tz": -330
    },
    "id": "njyA7h_tfMVo",
    "outputId": "6be4186d-9d9b-4ad6-d9b4-b5a694427f05"
   },
   "outputs": [
    {
     "name": "stderr",
     "output_type": "stream",
     "text": [
      "Generating testcases...: 100%|██████████| 1/1 [00:00<?, ?it/s]\n"
     ]
    },
    {
     "data": {
      "text/plain": []
     },
     "execution_count": 8,
     "metadata": {},
     "output_type": "execute_result"
    }
   ],
   "source": [
    "harness.generate()"
   ]
  },
  {
   "cell_type": "markdown",
   "metadata": {
    "id": "B31q9wp6CIKE"
   },
   "source": [
    "harness.generate() method automatically generates the test cases (based on the provided configuration)"
   ]
  },
  {
   "cell_type": "code",
   "execution_count": 9,
   "metadata": {
    "colab": {
     "base_uri": "https://localhost:8080/",
     "height": 143
    },
    "executionInfo": {
     "elapsed": 33,
     "status": "ok",
     "timestamp": 1692341296434,
     "user": {
      "displayName": "Prikshit sharma",
      "userId": "07819241395213139913"
     },
     "user_tz": -330
    },
    "id": "tprqwwOCgTCD",
    "outputId": "16c9cdbe-8d97-4146-991a-9b355d911081"
   },
   "outputs": [
    {
     "data": {
      "text/html": [
       "<div>\n",
       "<style scoped>\n",
       "    .dataframe tbody tr th:only-of-type {\n",
       "        vertical-align: middle;\n",
       "    }\n",
       "\n",
       "    .dataframe tbody tr th {\n",
       "        vertical-align: top;\n",
       "    }\n",
       "\n",
       "    .dataframe thead th {\n",
       "        text-align: right;\n",
       "    }\n",
       "</style>\n",
       "<table border=\"1\" class=\"dataframe\">\n",
       "  <thead>\n",
       "    <tr style=\"text-align: right;\">\n",
       "      <th></th>\n",
       "      <th>category</th>\n",
       "      <th>test_type</th>\n",
       "      <th>original</th>\n",
       "      <th>test_case</th>\n",
       "    </tr>\n",
       "  </thead>\n",
       "  <tbody>\n",
       "    <tr>\n",
       "      <th>0</th>\n",
       "      <td>grammar</td>\n",
       "      <td>paraphrase</td>\n",
       "      <td>Just as a reminder to anyone just now reading ...</td>\n",
       "      <td>Despite being published in 1981, this BBC mini...</td>\n",
       "    </tr>\n",
       "    <tr>\n",
       "      <th>1</th>\n",
       "      <td>grammar</td>\n",
       "      <td>paraphrase</td>\n",
       "      <td>Like CURSE OF THE KOMODO was for the creature ...</td>\n",
       "      <td>The film's snobbish portrayal of a solitary ch...</td>\n",
       "    </tr>\n",
       "    <tr>\n",
       "      <th>2</th>\n",
       "      <td>grammar</td>\n",
       "      <td>paraphrase</td>\n",
       "      <td>I think that the costumes were excellent, and ...</td>\n",
       "      <td>The movie was enjoyable, with good costumes an...</td>\n",
       "    </tr>\n",
       "    <tr>\n",
       "      <th>3</th>\n",
       "      <td>grammar</td>\n",
       "      <td>paraphrase</td>\n",
       "      <td>This is one of my most favorite movies of all ...</td>\n",
       "      <td>Chris's performance in this movie is incredibl...</td>\n",
       "    </tr>\n",
       "    <tr>\n",
       "      <th>4</th>\n",
       "      <td>grammar</td>\n",
       "      <td>paraphrase</td>\n",
       "      <td>This program was on for a brief period when I ...</td>\n",
       "      <td>I remember watching a show from my youth that ...</td>\n",
       "    </tr>\n",
       "    <tr>\n",
       "      <th>...</th>\n",
       "      <td>...</td>\n",
       "      <td>...</td>\n",
       "      <td>...</td>\n",
       "      <td>...</td>\n",
       "    </tr>\n",
       "    <tr>\n",
       "      <th>195</th>\n",
       "      <td>grammar</td>\n",
       "      <td>paraphrase</td>\n",
       "      <td>The opening was a steal from \"Eight-legged Fre...</td>\n",
       "      <td>The film had a steal from \"Eight-legged Freaks...</td>\n",
       "    </tr>\n",
       "    <tr>\n",
       "      <th>196</th>\n",
       "      <td>grammar</td>\n",
       "      <td>paraphrase</td>\n",
       "      <td>Now don't get me wrong, I love seeing half nak...</td>\n",
       "      <td>I'm not convinced that \"Queen of the Damned\" w...</td>\n",
       "    </tr>\n",
       "    <tr>\n",
       "      <th>197</th>\n",
       "      <td>grammar</td>\n",
       "      <td>paraphrase</td>\n",
       "      <td>Though I saw this movie dubbed in French, so I...</td>\n",
       "      <td>Despite the fact that I watched the movie in F...</td>\n",
       "    </tr>\n",
       "    <tr>\n",
       "      <th>198</th>\n",
       "      <td>grammar</td>\n",
       "      <td>paraphrase</td>\n",
       "      <td>This is one of the best presentations of the 6...</td>\n",
       "      <td>This film is one of the finest productions of ...</td>\n",
       "    </tr>\n",
       "    <tr>\n",
       "      <th>199</th>\n",
       "      <td>grammar</td>\n",
       "      <td>paraphrase</td>\n",
       "      <td>I saw this movie previewed before something el...</td>\n",
       "      <td>The movie that I watched last night was a litt...</td>\n",
       "    </tr>\n",
       "  </tbody>\n",
       "</table>\n",
       "<p>200 rows × 4 columns</p>\n",
       "</div>"
      ],
      "text/plain": [
       "    category   test_type                                           original  \\\n",
       "0    grammar  paraphrase  Just as a reminder to anyone just now reading ...   \n",
       "1    grammar  paraphrase  Like CURSE OF THE KOMODO was for the creature ...   \n",
       "2    grammar  paraphrase  I think that the costumes were excellent, and ...   \n",
       "3    grammar  paraphrase  This is one of my most favorite movies of all ...   \n",
       "4    grammar  paraphrase  This program was on for a brief period when I ...   \n",
       "..       ...         ...                                                ...   \n",
       "195  grammar  paraphrase  The opening was a steal from \"Eight-legged Fre...   \n",
       "196  grammar  paraphrase  Now don't get me wrong, I love seeing half nak...   \n",
       "197  grammar  paraphrase  Though I saw this movie dubbed in French, so I...   \n",
       "198  grammar  paraphrase  This is one of the best presentations of the 6...   \n",
       "199  grammar  paraphrase  I saw this movie previewed before something el...   \n",
       "\n",
       "                                             test_case  \n",
       "0    Despite being published in 1981, this BBC mini...  \n",
       "1    The film's snobbish portrayal of a solitary ch...  \n",
       "2    The movie was enjoyable, with good costumes an...  \n",
       "3    Chris's performance in this movie is incredibl...  \n",
       "4    I remember watching a show from my youth that ...  \n",
       "..                                                 ...  \n",
       "195  The film had a steal from \"Eight-legged Freaks...  \n",
       "196  I'm not convinced that \"Queen of the Damned\" w...  \n",
       "197  Despite the fact that I watched the movie in F...  \n",
       "198  This film is one of the finest productions of ...  \n",
       "199  The movie that I watched last night was a litt...  \n",
       "\n",
       "[200 rows x 4 columns]"
      ]
     },
     "execution_count": 9,
     "metadata": {},
     "output_type": "execute_result"
    }
   ],
   "source": [
    "harness.testcases()"
   ]
  },
  {
   "cell_type": "markdown",
   "metadata": {
    "id": "1m1lgfQkAbSW"
   },
   "source": [
    "harness.testcases() method gives the produced test cases in form of a pandas data frame."
   ]
  },
  {
   "cell_type": "markdown",
   "metadata": {
    "id": "fRyNPRBokXNZ"
   },
   "source": [
    "### Running the tests"
   ]
  },
  {
   "cell_type": "code",
   "execution_count": 10,
   "metadata": {
    "colab": {
     "base_uri": "https://localhost:8080/",
     "height": 149,
     "referenced_widgets": [
      "58780f47694d4c36a975d40483653bef",
      "ca6f47471bd4407d86ffc28317a06b09",
      "b8f7d99c390f46cc8915d61f0429bc55",
      "44cd65a5483f49ce826ddf4f7266c608",
      "02ba8cde475f4a7ab15c39b0b3aab441",
      "f5ab80109a344ec0a6ca1e3f34018b87",
      "385ec1eeee6e497a8209e9351b81f2f4",
      "e4d82aa537944c9da823d5dfef132a9a",
      "e7598a91cfc24857b041b37223b05510",
      "13a93d035f754408a49e4bc063fba702",
      "99bd40b95b034d28b1dd5429019cba13",
      "5217d66e1acd4029af6737607b4f8ab6",
      "8af0a2eeb6fd48798969f20bf13c0e24",
      "3bd5ed90846d4441bc42613a051ebf41",
      "4ad761ed83014ba2a31612c2c30238c0",
      "92054bedc61d4e8aadacad212b9e9b48",
      "894f49b9d84744d59e3aa74103f82c38",
      "c70e55391714475bb9f3cdb02b178f3c",
      "f8fbb92b406942a290f82a9932f24304",
      "9d5c0b77917643cfaab8bc4200c15cb2",
      "db382b7f1e764ef48fa67bced28fa1d9",
      "c5e2d43224774eacb766f9fe1c42f015",
      "97a603669048469b920977e618c699de",
      "26938e1c18aa4c6dbbd283f7a0640a4a",
      "4e81b122cdf1470dbc0ec37fdd5b9400",
      "8b8953c41516489f8e7b4489d4c07cb0",
      "1e6aa9b76e0d424cba2169b5f4b0bff9",
      "fbbaf0a0d8884f09a69e104987d2a8af",
      "2b20882eba58417e81aeca6565d00ea4",
      "6329b997d85245879454aedd04c12355",
      "e347e14d154f405dbc28333b3c4bc3fc",
      "4cccef4b2089482b8558dca34d46193f",
      "ba9e0da07ef048598d6b3ece2b6ada7e"
     ]
    },
    "executionInfo": {
     "elapsed": 24416,
     "status": "ok",
     "timestamp": 1692341320827,
     "user": {
      "displayName": "Prikshit sharma",
      "userId": "07819241395213139913"
     },
     "user_tz": -330
    },
    "id": "3kUPTsNvjkgr",
    "outputId": "9267897d-c31c-497e-f335-16d207dbfbcf"
   },
   "outputs": [
    {
     "name": "stderr",
     "output_type": "stream",
     "text": [
      "Running testcases... : 100%|██████████| 200/200 [01:48<00:00,  1.84it/s]\n"
     ]
    },
    {
     "data": {
      "text/plain": []
     },
     "execution_count": 10,
     "metadata": {},
     "output_type": "execute_result"
    }
   ],
   "source": [
    "harness.run()"
   ]
  },
  {
   "cell_type": "markdown",
   "metadata": {
    "id": "tD27YUBXB3tv"
   },
   "source": [
    "Called after harness.generate() and is to used to run all the tests.  Returns a pass/fail flag for each test."
   ]
  },
  {
   "cell_type": "code",
   "execution_count": 11,
   "metadata": {
    "colab": {
     "base_uri": "https://localhost:8080/",
     "height": 143
    },
    "executionInfo": {
     "elapsed": 87,
     "status": "ok",
     "timestamp": 1692341320829,
     "user": {
      "displayName": "Prikshit sharma",
      "userId": "07819241395213139913"
     },
     "user_tz": -330
    },
    "id": "mtrMxbRBkSJC",
    "outputId": "774f2770-b66d-4214-a4fc-e21a67b077c4"
   },
   "outputs": [
    {
     "data": {
      "text/html": [
       "<div>\n",
       "<style scoped>\n",
       "    .dataframe tbody tr th:only-of-type {\n",
       "        vertical-align: middle;\n",
       "    }\n",
       "\n",
       "    .dataframe tbody tr th {\n",
       "        vertical-align: top;\n",
       "    }\n",
       "\n",
       "    .dataframe thead th {\n",
       "        text-align: right;\n",
       "    }\n",
       "</style>\n",
       "<table border=\"1\" class=\"dataframe\">\n",
       "  <thead>\n",
       "    <tr style=\"text-align: right;\">\n",
       "      <th></th>\n",
       "      <th>category</th>\n",
       "      <th>test_type</th>\n",
       "      <th>original</th>\n",
       "      <th>test_case</th>\n",
       "      <th>expected_result</th>\n",
       "      <th>actual_result</th>\n",
       "      <th>pass</th>\n",
       "    </tr>\n",
       "  </thead>\n",
       "  <tbody>\n",
       "    <tr>\n",
       "      <th>0</th>\n",
       "      <td>grammar</td>\n",
       "      <td>paraphrase</td>\n",
       "      <td>Just as a reminder to anyone just now reading ...</td>\n",
       "      <td>Despite being published in 1981, this BBC mini...</td>\n",
       "      <td>POSITIVE</td>\n",
       "      <td>POSITIVE</td>\n",
       "      <td>True</td>\n",
       "    </tr>\n",
       "    <tr>\n",
       "      <th>1</th>\n",
       "      <td>grammar</td>\n",
       "      <td>paraphrase</td>\n",
       "      <td>Like CURSE OF THE KOMODO was for the creature ...</td>\n",
       "      <td>The film's snobbish portrayal of a solitary ch...</td>\n",
       "      <td>NEGATIVE</td>\n",
       "      <td>POSITIVE</td>\n",
       "      <td>False</td>\n",
       "    </tr>\n",
       "    <tr>\n",
       "      <th>2</th>\n",
       "      <td>grammar</td>\n",
       "      <td>paraphrase</td>\n",
       "      <td>I think that the costumes were excellent, and ...</td>\n",
       "      <td>The movie was enjoyable, with good costumes an...</td>\n",
       "      <td>POSITIVE</td>\n",
       "      <td>POSITIVE</td>\n",
       "      <td>True</td>\n",
       "    </tr>\n",
       "    <tr>\n",
       "      <th>3</th>\n",
       "      <td>grammar</td>\n",
       "      <td>paraphrase</td>\n",
       "      <td>This is one of my most favorite movies of all ...</td>\n",
       "      <td>Chris's performance in this movie is incredibl...</td>\n",
       "      <td>POSITIVE</td>\n",
       "      <td>POSITIVE</td>\n",
       "      <td>True</td>\n",
       "    </tr>\n",
       "    <tr>\n",
       "      <th>4</th>\n",
       "      <td>grammar</td>\n",
       "      <td>paraphrase</td>\n",
       "      <td>This program was on for a brief period when I ...</td>\n",
       "      <td>I remember watching a show from my youth that ...</td>\n",
       "      <td>NEGATIVE</td>\n",
       "      <td>POSITIVE</td>\n",
       "      <td>False</td>\n",
       "    </tr>\n",
       "    <tr>\n",
       "      <th>...</th>\n",
       "      <td>...</td>\n",
       "      <td>...</td>\n",
       "      <td>...</td>\n",
       "      <td>...</td>\n",
       "      <td>...</td>\n",
       "      <td>...</td>\n",
       "      <td>...</td>\n",
       "    </tr>\n",
       "    <tr>\n",
       "      <th>195</th>\n",
       "      <td>grammar</td>\n",
       "      <td>paraphrase</td>\n",
       "      <td>The opening was a steal from \"Eight-legged Fre...</td>\n",
       "      <td>The film had a steal from \"Eight-legged Freaks...</td>\n",
       "      <td>NEGATIVE</td>\n",
       "      <td>POSITIVE</td>\n",
       "      <td>False</td>\n",
       "    </tr>\n",
       "    <tr>\n",
       "      <th>196</th>\n",
       "      <td>grammar</td>\n",
       "      <td>paraphrase</td>\n",
       "      <td>Now don't get me wrong, I love seeing half nak...</td>\n",
       "      <td>I'm not convinced that \"Queen of the Damned\" w...</td>\n",
       "      <td>NEGATIVE</td>\n",
       "      <td>POSITIVE</td>\n",
       "      <td>False</td>\n",
       "    </tr>\n",
       "    <tr>\n",
       "      <th>197</th>\n",
       "      <td>grammar</td>\n",
       "      <td>paraphrase</td>\n",
       "      <td>Though I saw this movie dubbed in French, so I...</td>\n",
       "      <td>Despite the fact that I watched the movie in F...</td>\n",
       "      <td>POSITIVE</td>\n",
       "      <td>POSITIVE</td>\n",
       "      <td>True</td>\n",
       "    </tr>\n",
       "    <tr>\n",
       "      <th>198</th>\n",
       "      <td>grammar</td>\n",
       "      <td>paraphrase</td>\n",
       "      <td>This is one of the best presentations of the 6...</td>\n",
       "      <td>This film is one of the finest productions of ...</td>\n",
       "      <td>POSITIVE</td>\n",
       "      <td>POSITIVE</td>\n",
       "      <td>True</td>\n",
       "    </tr>\n",
       "    <tr>\n",
       "      <th>199</th>\n",
       "      <td>grammar</td>\n",
       "      <td>paraphrase</td>\n",
       "      <td>I saw this movie previewed before something el...</td>\n",
       "      <td>The movie that I watched last night was a litt...</td>\n",
       "      <td>NEGATIVE</td>\n",
       "      <td>NEGATIVE</td>\n",
       "      <td>True</td>\n",
       "    </tr>\n",
       "  </tbody>\n",
       "</table>\n",
       "<p>200 rows × 7 columns</p>\n",
       "</div>"
      ],
      "text/plain": [
       "    category   test_type                                           original  \\\n",
       "0    grammar  paraphrase  Just as a reminder to anyone just now reading ...   \n",
       "1    grammar  paraphrase  Like CURSE OF THE KOMODO was for the creature ...   \n",
       "2    grammar  paraphrase  I think that the costumes were excellent, and ...   \n",
       "3    grammar  paraphrase  This is one of my most favorite movies of all ...   \n",
       "4    grammar  paraphrase  This program was on for a brief period when I ...   \n",
       "..       ...         ...                                                ...   \n",
       "195  grammar  paraphrase  The opening was a steal from \"Eight-legged Fre...   \n",
       "196  grammar  paraphrase  Now don't get me wrong, I love seeing half nak...   \n",
       "197  grammar  paraphrase  Though I saw this movie dubbed in French, so I...   \n",
       "198  grammar  paraphrase  This is one of the best presentations of the 6...   \n",
       "199  grammar  paraphrase  I saw this movie previewed before something el...   \n",
       "\n",
       "                                             test_case expected_result  \\\n",
       "0    Despite being published in 1981, this BBC mini...        POSITIVE   \n",
       "1    The film's snobbish portrayal of a solitary ch...        NEGATIVE   \n",
       "2    The movie was enjoyable, with good costumes an...        POSITIVE   \n",
       "3    Chris's performance in this movie is incredibl...        POSITIVE   \n",
       "4    I remember watching a show from my youth that ...        NEGATIVE   \n",
       "..                                                 ...             ...   \n",
       "195  The film had a steal from \"Eight-legged Freaks...        NEGATIVE   \n",
       "196  I'm not convinced that \"Queen of the Damned\" w...        NEGATIVE   \n",
       "197  Despite the fact that I watched the movie in F...        POSITIVE   \n",
       "198  This film is one of the finest productions of ...        POSITIVE   \n",
       "199  The movie that I watched last night was a litt...        NEGATIVE   \n",
       "\n",
       "    actual_result   pass  \n",
       "0        POSITIVE   True  \n",
       "1        POSITIVE  False  \n",
       "2        POSITIVE   True  \n",
       "3        POSITIVE   True  \n",
       "4        POSITIVE  False  \n",
       "..            ...    ...  \n",
       "195      POSITIVE  False  \n",
       "196      POSITIVE  False  \n",
       "197      POSITIVE   True  \n",
       "198      POSITIVE   True  \n",
       "199      NEGATIVE   True  \n",
       "\n",
       "[200 rows x 7 columns]"
      ]
     },
     "execution_count": 11,
     "metadata": {},
     "output_type": "execute_result"
    }
   ],
   "source": [
    "harness.generated_results()"
   ]
  },
  {
   "cell_type": "markdown",
   "metadata": {
    "id": "QQuensalAVgC"
   },
   "source": [
    "This method returns the generated results in the form of a pandas dataframe, which provides a convenient and easy-to-use format for working with the test results. You can use this method to quickly identify the test cases that failed and to determine where fixes are needed."
   ]
  },
  {
   "cell_type": "markdown",
   "metadata": {
    "id": "_0gnozMlkoF0"
   },
   "source": [
    "### Report of the tests"
   ]
  },
  {
   "cell_type": "code",
   "execution_count": 12,
   "metadata": {
    "colab": {
     "base_uri": "https://localhost:8080/",
     "height": 89
    },
    "executionInfo": {
     "elapsed": 84,
     "status": "ok",
     "timestamp": 1692341320831,
     "user": {
      "displayName": "Prikshit sharma",
      "userId": "07819241395213139913"
     },
     "user_tz": -330
    },
    "id": "hib96S49ktMz",
    "outputId": "865b54b3-f2a2-4ca4-d3b2-632c9372d538"
   },
   "outputs": [
    {
     "data": {
      "text/html": [
       "<div>\n",
       "<style scoped>\n",
       "    .dataframe tbody tr th:only-of-type {\n",
       "        vertical-align: middle;\n",
       "    }\n",
       "\n",
       "    .dataframe tbody tr th {\n",
       "        vertical-align: top;\n",
       "    }\n",
       "\n",
       "    .dataframe thead th {\n",
       "        text-align: right;\n",
       "    }\n",
       "</style>\n",
       "<table border=\"1\" class=\"dataframe\">\n",
       "  <thead>\n",
       "    <tr style=\"text-align: right;\">\n",
       "      <th></th>\n",
       "      <th>category</th>\n",
       "      <th>test_type</th>\n",
       "      <th>fail_count</th>\n",
       "      <th>pass_count</th>\n",
       "      <th>pass_rate</th>\n",
       "      <th>minimum_pass_rate</th>\n",
       "      <th>pass</th>\n",
       "    </tr>\n",
       "  </thead>\n",
       "  <tbody>\n",
       "    <tr>\n",
       "      <th>0</th>\n",
       "      <td>grammar</td>\n",
       "      <td>paraphrase</td>\n",
       "      <td>36</td>\n",
       "      <td>164</td>\n",
       "      <td>82%</td>\n",
       "      <td>50%</td>\n",
       "      <td>True</td>\n",
       "    </tr>\n",
       "  </tbody>\n",
       "</table>\n",
       "</div>"
      ],
      "text/plain": [
       "  category   test_type  fail_count  pass_count pass_rate minimum_pass_rate  \\\n",
       "0  grammar  paraphrase          36         164       82%               50%   \n",
       "\n",
       "   pass  \n",
       "0  True  "
      ]
     },
     "execution_count": 12,
     "metadata": {},
     "output_type": "execute_result"
    }
   ],
   "source": [
    "harness.report()"
   ]
  },
  {
   "cell_type": "markdown",
   "metadata": {
    "id": "Kv2ToypGCAf-"
   },
   "source": [
    "Called after harness.run() and it summarizes the results giving information about pass and fail counts and overall test pass/fail flag."
   ]
  }
 ],
 "metadata": {
  "accelerator": "GPU",
  "colab": {
   "machine_shape": "hm",
   "provenance": [],
   "toc_visible": true
  },
  "gpuClass": "standard",
  "kernelspec": {
   "display_name": "Python 3",
   "name": "python3"
  },
  "language_info": {
   "codemirror_mode": {
    "name": "ipython",
    "version": 3
   },
   "file_extension": ".py",
   "mimetype": "text/x-python",
   "name": "python",
   "nbconvert_exporter": "python",
   "pygments_lexer": "ipython3",
   "version": "3.8.9"
  },
  "widgets": {
   "application/vnd.jupyter.widget-state+json": {
    "02ba8cde475f4a7ab15c39b0b3aab441": {
     "model_module": "@jupyter-widgets/base",
     "model_module_version": "1.2.0",
     "model_name": "LayoutModel",
     "state": {
      "_model_module": "@jupyter-widgets/base",
      "_model_module_version": "1.2.0",
      "_model_name": "LayoutModel",
      "_view_count": null,
      "_view_module": "@jupyter-widgets/base",
      "_view_module_version": "1.2.0",
      "_view_name": "LayoutView",
      "align_content": null,
      "align_items": null,
      "align_self": null,
      "border": null,
      "bottom": null,
      "display": null,
      "flex": null,
      "flex_flow": null,
      "grid_area": null,
      "grid_auto_columns": null,
      "grid_auto_flow": null,
      "grid_auto_rows": null,
      "grid_column": null,
      "grid_gap": null,
      "grid_row": null,
      "grid_template_areas": null,
      "grid_template_columns": null,
      "grid_template_rows": null,
      "height": null,
      "justify_content": null,
      "justify_items": null,
      "left": null,
      "margin": null,
      "max_height": null,
      "max_width": null,
      "min_height": null,
      "min_width": null,
      "object_fit": null,
      "object_position": null,
      "order": null,
      "overflow": null,
      "overflow_x": null,
      "overflow_y": null,
      "padding": null,
      "right": null,
      "top": null,
      "visibility": null,
      "width": null
     }
    },
    "13a93d035f754408a49e4bc063fba702": {
     "model_module": "@jupyter-widgets/base",
     "model_module_version": "1.2.0",
     "model_name": "LayoutModel",
     "state": {
      "_model_module": "@jupyter-widgets/base",
      "_model_module_version": "1.2.0",
      "_model_name": "LayoutModel",
      "_view_count": null,
      "_view_module": "@jupyter-widgets/base",
      "_view_module_version": "1.2.0",
      "_view_name": "LayoutView",
      "align_content": null,
      "align_items": null,
      "align_self": null,
      "border": null,
      "bottom": null,
      "display": null,
      "flex": null,
      "flex_flow": null,
      "grid_area": null,
      "grid_auto_columns": null,
      "grid_auto_flow": null,
      "grid_auto_rows": null,
      "grid_column": null,
      "grid_gap": null,
      "grid_row": null,
      "grid_template_areas": null,
      "grid_template_columns": null,
      "grid_template_rows": null,
      "height": null,
      "justify_content": null,
      "justify_items": null,
      "left": null,
      "margin": null,
      "max_height": null,
      "max_width": null,
      "min_height": null,
      "min_width": null,
      "object_fit": null,
      "object_position": null,
      "order": null,
      "overflow": null,
      "overflow_x": null,
      "overflow_y": null,
      "padding": null,
      "right": null,
      "top": null,
      "visibility": null,
      "width": null
     }
    },
    "1e6aa9b76e0d424cba2169b5f4b0bff9": {
     "model_module": "@jupyter-widgets/base",
     "model_module_version": "1.2.0",
     "model_name": "LayoutModel",
     "state": {
      "_model_module": "@jupyter-widgets/base",
      "_model_module_version": "1.2.0",
      "_model_name": "LayoutModel",
      "_view_count": null,
      "_view_module": "@jupyter-widgets/base",
      "_view_module_version": "1.2.0",
      "_view_name": "LayoutView",
      "align_content": null,
      "align_items": null,
      "align_self": null,
      "border": null,
      "bottom": null,
      "display": null,
      "flex": null,
      "flex_flow": null,
      "grid_area": null,
      "grid_auto_columns": null,
      "grid_auto_flow": null,
      "grid_auto_rows": null,
      "grid_column": null,
      "grid_gap": null,
      "grid_row": null,
      "grid_template_areas": null,
      "grid_template_columns": null,
      "grid_template_rows": null,
      "height": null,
      "justify_content": null,
      "justify_items": null,
      "left": null,
      "margin": null,
      "max_height": null,
      "max_width": null,
      "min_height": null,
      "min_width": null,
      "object_fit": null,
      "object_position": null,
      "order": null,
      "overflow": null,
      "overflow_x": null,
      "overflow_y": null,
      "padding": null,
      "right": null,
      "top": null,
      "visibility": null,
      "width": null
     }
    },
    "26938e1c18aa4c6dbbd283f7a0640a4a": {
     "model_module": "@jupyter-widgets/controls",
     "model_module_version": "1.5.0",
     "model_name": "HTMLModel",
     "state": {
      "_dom_classes": [],
      "_model_module": "@jupyter-widgets/controls",
      "_model_module_version": "1.5.0",
      "_model_name": "HTMLModel",
      "_view_count": null,
      "_view_module": "@jupyter-widgets/controls",
      "_view_module_version": "1.5.0",
      "_view_name": "HTMLView",
      "description": "",
      "description_tooltip": null,
      "layout": "IPY_MODEL_fbbaf0a0d8884f09a69e104987d2a8af",
      "placeholder": "​",
      "style": "IPY_MODEL_2b20882eba58417e81aeca6565d00ea4",
      "value": "Downloading pytorch_model.bin: 100%"
     }
    },
    "2b20882eba58417e81aeca6565d00ea4": {
     "model_module": "@jupyter-widgets/controls",
     "model_module_version": "1.5.0",
     "model_name": "DescriptionStyleModel",
     "state": {
      "_model_module": "@jupyter-widgets/controls",
      "_model_module_version": "1.5.0",
      "_model_name": "DescriptionStyleModel",
      "_view_count": null,
      "_view_module": "@jupyter-widgets/base",
      "_view_module_version": "1.2.0",
      "_view_name": "StyleView",
      "description_width": ""
     }
    },
    "385ec1eeee6e497a8209e9351b81f2f4": {
     "model_module": "@jupyter-widgets/controls",
     "model_module_version": "1.5.0",
     "model_name": "DescriptionStyleModel",
     "state": {
      "_model_module": "@jupyter-widgets/controls",
      "_model_module_version": "1.5.0",
      "_model_name": "DescriptionStyleModel",
      "_view_count": null,
      "_view_module": "@jupyter-widgets/base",
      "_view_module_version": "1.2.0",
      "_view_name": "StyleView",
      "description_width": ""
     }
    },
    "3bd5ed90846d4441bc42613a051ebf41": {
     "model_module": "@jupyter-widgets/controls",
     "model_module_version": "1.5.0",
     "model_name": "FloatProgressModel",
     "state": {
      "_dom_classes": [],
      "_model_module": "@jupyter-widgets/controls",
      "_model_module_version": "1.5.0",
      "_model_name": "FloatProgressModel",
      "_view_count": null,
      "_view_module": "@jupyter-widgets/controls",
      "_view_module_version": "1.5.0",
      "_view_name": "ProgressView",
      "bar_style": "success",
      "description": "",
      "description_tooltip": null,
      "layout": "IPY_MODEL_f8fbb92b406942a290f82a9932f24304",
      "max": 231508,
      "min": 0,
      "orientation": "horizontal",
      "style": "IPY_MODEL_9d5c0b77917643cfaab8bc4200c15cb2",
      "value": 231508
     }
    },
    "44cd65a5483f49ce826ddf4f7266c608": {
     "model_module": "@jupyter-widgets/controls",
     "model_module_version": "1.5.0",
     "model_name": "HTMLModel",
     "state": {
      "_dom_classes": [],
      "_model_module": "@jupyter-widgets/controls",
      "_model_module_version": "1.5.0",
      "_model_name": "HTMLModel",
      "_view_count": null,
      "_view_module": "@jupyter-widgets/controls",
      "_view_module_version": "1.5.0",
      "_view_name": "HTMLView",
      "description": "",
      "description_tooltip": null,
      "layout": "IPY_MODEL_13a93d035f754408a49e4bc063fba702",
      "placeholder": "​",
      "style": "IPY_MODEL_99bd40b95b034d28b1dd5429019cba13",
      "value": " 525/525 [00:00&lt;00:00, 35.3kB/s]"
     }
    },
    "4ad761ed83014ba2a31612c2c30238c0": {
     "model_module": "@jupyter-widgets/controls",
     "model_module_version": "1.5.0",
     "model_name": "HTMLModel",
     "state": {
      "_dom_classes": [],
      "_model_module": "@jupyter-widgets/controls",
      "_model_module_version": "1.5.0",
      "_model_name": "HTMLModel",
      "_view_count": null,
      "_view_module": "@jupyter-widgets/controls",
      "_view_module_version": "1.5.0",
      "_view_name": "HTMLView",
      "description": "",
      "description_tooltip": null,
      "layout": "IPY_MODEL_db382b7f1e764ef48fa67bced28fa1d9",
      "placeholder": "​",
      "style": "IPY_MODEL_c5e2d43224774eacb766f9fe1c42f015",
      "value": " 232k/232k [00:00&lt;00:00, 1.85MB/s]"
     }
    },
    "4cccef4b2089482b8558dca34d46193f": {
     "model_module": "@jupyter-widgets/base",
     "model_module_version": "1.2.0",
     "model_name": "LayoutModel",
     "state": {
      "_model_module": "@jupyter-widgets/base",
      "_model_module_version": "1.2.0",
      "_model_name": "LayoutModel",
      "_view_count": null,
      "_view_module": "@jupyter-widgets/base",
      "_view_module_version": "1.2.0",
      "_view_name": "LayoutView",
      "align_content": null,
      "align_items": null,
      "align_self": null,
      "border": null,
      "bottom": null,
      "display": null,
      "flex": null,
      "flex_flow": null,
      "grid_area": null,
      "grid_auto_columns": null,
      "grid_auto_flow": null,
      "grid_auto_rows": null,
      "grid_column": null,
      "grid_gap": null,
      "grid_row": null,
      "grid_template_areas": null,
      "grid_template_columns": null,
      "grid_template_rows": null,
      "height": null,
      "justify_content": null,
      "justify_items": null,
      "left": null,
      "margin": null,
      "max_height": null,
      "max_width": null,
      "min_height": null,
      "min_width": null,
      "object_fit": null,
      "object_position": null,
      "order": null,
      "overflow": null,
      "overflow_x": null,
      "overflow_y": null,
      "padding": null,
      "right": null,
      "top": null,
      "visibility": null,
      "width": null
     }
    },
    "4e81b122cdf1470dbc0ec37fdd5b9400": {
     "model_module": "@jupyter-widgets/controls",
     "model_module_version": "1.5.0",
     "model_name": "FloatProgressModel",
     "state": {
      "_dom_classes": [],
      "_model_module": "@jupyter-widgets/controls",
      "_model_module_version": "1.5.0",
      "_model_name": "FloatProgressModel",
      "_view_count": null,
      "_view_module": "@jupyter-widgets/controls",
      "_view_module_version": "1.5.0",
      "_view_name": "ProgressView",
      "bar_style": "success",
      "description": "",
      "description_tooltip": null,
      "layout": "IPY_MODEL_6329b997d85245879454aedd04c12355",
      "max": 51044621,
      "min": 0,
      "orientation": "horizontal",
      "style": "IPY_MODEL_e347e14d154f405dbc28333b3c4bc3fc",
      "value": 51044621
     }
    },
    "5217d66e1acd4029af6737607b4f8ab6": {
     "model_module": "@jupyter-widgets/controls",
     "model_module_version": "1.5.0",
     "model_name": "HBoxModel",
     "state": {
      "_dom_classes": [],
      "_model_module": "@jupyter-widgets/controls",
      "_model_module_version": "1.5.0",
      "_model_name": "HBoxModel",
      "_view_count": null,
      "_view_module": "@jupyter-widgets/controls",
      "_view_module_version": "1.5.0",
      "_view_name": "HBoxView",
      "box_style": "",
      "children": [
       "IPY_MODEL_8af0a2eeb6fd48798969f20bf13c0e24",
       "IPY_MODEL_3bd5ed90846d4441bc42613a051ebf41",
       "IPY_MODEL_4ad761ed83014ba2a31612c2c30238c0"
      ],
      "layout": "IPY_MODEL_92054bedc61d4e8aadacad212b9e9b48"
     }
    },
    "58780f47694d4c36a975d40483653bef": {
     "model_module": "@jupyter-widgets/controls",
     "model_module_version": "1.5.0",
     "model_name": "HBoxModel",
     "state": {
      "_dom_classes": [],
      "_model_module": "@jupyter-widgets/controls",
      "_model_module_version": "1.5.0",
      "_model_name": "HBoxModel",
      "_view_count": null,
      "_view_module": "@jupyter-widgets/controls",
      "_view_module_version": "1.5.0",
      "_view_name": "HBoxView",
      "box_style": "",
      "children": [
       "IPY_MODEL_ca6f47471bd4407d86ffc28317a06b09",
       "IPY_MODEL_b8f7d99c390f46cc8915d61f0429bc55",
       "IPY_MODEL_44cd65a5483f49ce826ddf4f7266c608"
      ],
      "layout": "IPY_MODEL_02ba8cde475f4a7ab15c39b0b3aab441"
     }
    },
    "6329b997d85245879454aedd04c12355": {
     "model_module": "@jupyter-widgets/base",
     "model_module_version": "1.2.0",
     "model_name": "LayoutModel",
     "state": {
      "_model_module": "@jupyter-widgets/base",
      "_model_module_version": "1.2.0",
      "_model_name": "LayoutModel",
      "_view_count": null,
      "_view_module": "@jupyter-widgets/base",
      "_view_module_version": "1.2.0",
      "_view_name": "LayoutView",
      "align_content": null,
      "align_items": null,
      "align_self": null,
      "border": null,
      "bottom": null,
      "display": null,
      "flex": null,
      "flex_flow": null,
      "grid_area": null,
      "grid_auto_columns": null,
      "grid_auto_flow": null,
      "grid_auto_rows": null,
      "grid_column": null,
      "grid_gap": null,
      "grid_row": null,
      "grid_template_areas": null,
      "grid_template_columns": null,
      "grid_template_rows": null,
      "height": null,
      "justify_content": null,
      "justify_items": null,
      "left": null,
      "margin": null,
      "max_height": null,
      "max_width": null,
      "min_height": null,
      "min_width": null,
      "object_fit": null,
      "object_position": null,
      "order": null,
      "overflow": null,
      "overflow_x": null,
      "overflow_y": null,
      "padding": null,
      "right": null,
      "top": null,
      "visibility": null,
      "width": null
     }
    },
    "894f49b9d84744d59e3aa74103f82c38": {
     "model_module": "@jupyter-widgets/base",
     "model_module_version": "1.2.0",
     "model_name": "LayoutModel",
     "state": {
      "_model_module": "@jupyter-widgets/base",
      "_model_module_version": "1.2.0",
      "_model_name": "LayoutModel",
      "_view_count": null,
      "_view_module": "@jupyter-widgets/base",
      "_view_module_version": "1.2.0",
      "_view_name": "LayoutView",
      "align_content": null,
      "align_items": null,
      "align_self": null,
      "border": null,
      "bottom": null,
      "display": null,
      "flex": null,
      "flex_flow": null,
      "grid_area": null,
      "grid_auto_columns": null,
      "grid_auto_flow": null,
      "grid_auto_rows": null,
      "grid_column": null,
      "grid_gap": null,
      "grid_row": null,
      "grid_template_areas": null,
      "grid_template_columns": null,
      "grid_template_rows": null,
      "height": null,
      "justify_content": null,
      "justify_items": null,
      "left": null,
      "margin": null,
      "max_height": null,
      "max_width": null,
      "min_height": null,
      "min_width": null,
      "object_fit": null,
      "object_position": null,
      "order": null,
      "overflow": null,
      "overflow_x": null,
      "overflow_y": null,
      "padding": null,
      "right": null,
      "top": null,
      "visibility": null,
      "width": null
     }
    },
    "8af0a2eeb6fd48798969f20bf13c0e24": {
     "model_module": "@jupyter-widgets/controls",
     "model_module_version": "1.5.0",
     "model_name": "HTMLModel",
     "state": {
      "_dom_classes": [],
      "_model_module": "@jupyter-widgets/controls",
      "_model_module_version": "1.5.0",
      "_model_name": "HTMLModel",
      "_view_count": null,
      "_view_module": "@jupyter-widgets/controls",
      "_view_module_version": "1.5.0",
      "_view_name": "HTMLView",
      "description": "",
      "description_tooltip": null,
      "layout": "IPY_MODEL_894f49b9d84744d59e3aa74103f82c38",
      "placeholder": "​",
      "style": "IPY_MODEL_c70e55391714475bb9f3cdb02b178f3c",
      "value": "Downloading (…)solve/main/vocab.txt: 100%"
     }
    },
    "8b8953c41516489f8e7b4489d4c07cb0": {
     "model_module": "@jupyter-widgets/controls",
     "model_module_version": "1.5.0",
     "model_name": "HTMLModel",
     "state": {
      "_dom_classes": [],
      "_model_module": "@jupyter-widgets/controls",
      "_model_module_version": "1.5.0",
      "_model_name": "HTMLModel",
      "_view_count": null,
      "_view_module": "@jupyter-widgets/controls",
      "_view_module_version": "1.5.0",
      "_view_name": "HTMLView",
      "description": "",
      "description_tooltip": null,
      "layout": "IPY_MODEL_4cccef4b2089482b8558dca34d46193f",
      "placeholder": "​",
      "style": "IPY_MODEL_ba9e0da07ef048598d6b3ece2b6ada7e",
      "value": " 51.0M/51.0M [00:00&lt;00:00, 208MB/s]"
     }
    },
    "92054bedc61d4e8aadacad212b9e9b48": {
     "model_module": "@jupyter-widgets/base",
     "model_module_version": "1.2.0",
     "model_name": "LayoutModel",
     "state": {
      "_model_module": "@jupyter-widgets/base",
      "_model_module_version": "1.2.0",
      "_model_name": "LayoutModel",
      "_view_count": null,
      "_view_module": "@jupyter-widgets/base",
      "_view_module_version": "1.2.0",
      "_view_name": "LayoutView",
      "align_content": null,
      "align_items": null,
      "align_self": null,
      "border": null,
      "bottom": null,
      "display": null,
      "flex": null,
      "flex_flow": null,
      "grid_area": null,
      "grid_auto_columns": null,
      "grid_auto_flow": null,
      "grid_auto_rows": null,
      "grid_column": null,
      "grid_gap": null,
      "grid_row": null,
      "grid_template_areas": null,
      "grid_template_columns": null,
      "grid_template_rows": null,
      "height": null,
      "justify_content": null,
      "justify_items": null,
      "left": null,
      "margin": null,
      "max_height": null,
      "max_width": null,
      "min_height": null,
      "min_width": null,
      "object_fit": null,
      "object_position": null,
      "order": null,
      "overflow": null,
      "overflow_x": null,
      "overflow_y": null,
      "padding": null,
      "right": null,
      "top": null,
      "visibility": null,
      "width": null
     }
    },
    "97a603669048469b920977e618c699de": {
     "model_module": "@jupyter-widgets/controls",
     "model_module_version": "1.5.0",
     "model_name": "HBoxModel",
     "state": {
      "_dom_classes": [],
      "_model_module": "@jupyter-widgets/controls",
      "_model_module_version": "1.5.0",
      "_model_name": "HBoxModel",
      "_view_count": null,
      "_view_module": "@jupyter-widgets/controls",
      "_view_module_version": "1.5.0",
      "_view_name": "HBoxView",
      "box_style": "",
      "children": [
       "IPY_MODEL_26938e1c18aa4c6dbbd283f7a0640a4a",
       "IPY_MODEL_4e81b122cdf1470dbc0ec37fdd5b9400",
       "IPY_MODEL_8b8953c41516489f8e7b4489d4c07cb0"
      ],
      "layout": "IPY_MODEL_1e6aa9b76e0d424cba2169b5f4b0bff9"
     }
    },
    "99bd40b95b034d28b1dd5429019cba13": {
     "model_module": "@jupyter-widgets/controls",
     "model_module_version": "1.5.0",
     "model_name": "DescriptionStyleModel",
     "state": {
      "_model_module": "@jupyter-widgets/controls",
      "_model_module_version": "1.5.0",
      "_model_name": "DescriptionStyleModel",
      "_view_count": null,
      "_view_module": "@jupyter-widgets/base",
      "_view_module_version": "1.2.0",
      "_view_name": "StyleView",
      "description_width": ""
     }
    },
    "9d5c0b77917643cfaab8bc4200c15cb2": {
     "model_module": "@jupyter-widgets/controls",
     "model_module_version": "1.5.0",
     "model_name": "ProgressStyleModel",
     "state": {
      "_model_module": "@jupyter-widgets/controls",
      "_model_module_version": "1.5.0",
      "_model_name": "ProgressStyleModel",
      "_view_count": null,
      "_view_module": "@jupyter-widgets/base",
      "_view_module_version": "1.2.0",
      "_view_name": "StyleView",
      "bar_color": null,
      "description_width": ""
     }
    },
    "b8f7d99c390f46cc8915d61f0429bc55": {
     "model_module": "@jupyter-widgets/controls",
     "model_module_version": "1.5.0",
     "model_name": "FloatProgressModel",
     "state": {
      "_dom_classes": [],
      "_model_module": "@jupyter-widgets/controls",
      "_model_module_version": "1.5.0",
      "_model_name": "FloatProgressModel",
      "_view_count": null,
      "_view_module": "@jupyter-widgets/controls",
      "_view_module_version": "1.5.0",
      "_view_name": "ProgressView",
      "bar_style": "success",
      "description": "",
      "description_tooltip": null,
      "layout": "IPY_MODEL_e4d82aa537944c9da823d5dfef132a9a",
      "max": 525,
      "min": 0,
      "orientation": "horizontal",
      "style": "IPY_MODEL_e7598a91cfc24857b041b37223b05510",
      "value": 525
     }
    },
    "ba9e0da07ef048598d6b3ece2b6ada7e": {
     "model_module": "@jupyter-widgets/controls",
     "model_module_version": "1.5.0",
     "model_name": "DescriptionStyleModel",
     "state": {
      "_model_module": "@jupyter-widgets/controls",
      "_model_module_version": "1.5.0",
      "_model_name": "DescriptionStyleModel",
      "_view_count": null,
      "_view_module": "@jupyter-widgets/base",
      "_view_module_version": "1.2.0",
      "_view_name": "StyleView",
      "description_width": ""
     }
    },
    "c5e2d43224774eacb766f9fe1c42f015": {
     "model_module": "@jupyter-widgets/controls",
     "model_module_version": "1.5.0",
     "model_name": "DescriptionStyleModel",
     "state": {
      "_model_module": "@jupyter-widgets/controls",
      "_model_module_version": "1.5.0",
      "_model_name": "DescriptionStyleModel",
      "_view_count": null,
      "_view_module": "@jupyter-widgets/base",
      "_view_module_version": "1.2.0",
      "_view_name": "StyleView",
      "description_width": ""
     }
    },
    "c70e55391714475bb9f3cdb02b178f3c": {
     "model_module": "@jupyter-widgets/controls",
     "model_module_version": "1.5.0",
     "model_name": "DescriptionStyleModel",
     "state": {
      "_model_module": "@jupyter-widgets/controls",
      "_model_module_version": "1.5.0",
      "_model_name": "DescriptionStyleModel",
      "_view_count": null,
      "_view_module": "@jupyter-widgets/base",
      "_view_module_version": "1.2.0",
      "_view_name": "StyleView",
      "description_width": ""
     }
    },
    "ca6f47471bd4407d86ffc28317a06b09": {
     "model_module": "@jupyter-widgets/controls",
     "model_module_version": "1.5.0",
     "model_name": "HTMLModel",
     "state": {
      "_dom_classes": [],
      "_model_module": "@jupyter-widgets/controls",
      "_model_module_version": "1.5.0",
      "_model_name": "HTMLModel",
      "_view_count": null,
      "_view_module": "@jupyter-widgets/controls",
      "_view_module_version": "1.5.0",
      "_view_name": "HTMLView",
      "description": "",
      "description_tooltip": null,
      "layout": "IPY_MODEL_f5ab80109a344ec0a6ca1e3f34018b87",
      "placeholder": "​",
      "style": "IPY_MODEL_385ec1eeee6e497a8209e9351b81f2f4",
      "value": "Downloading (…)lve/main/config.json: 100%"
     }
    },
    "db382b7f1e764ef48fa67bced28fa1d9": {
     "model_module": "@jupyter-widgets/base",
     "model_module_version": "1.2.0",
     "model_name": "LayoutModel",
     "state": {
      "_model_module": "@jupyter-widgets/base",
      "_model_module_version": "1.2.0",
      "_model_name": "LayoutModel",
      "_view_count": null,
      "_view_module": "@jupyter-widgets/base",
      "_view_module_version": "1.2.0",
      "_view_name": "LayoutView",
      "align_content": null,
      "align_items": null,
      "align_self": null,
      "border": null,
      "bottom": null,
      "display": null,
      "flex": null,
      "flex_flow": null,
      "grid_area": null,
      "grid_auto_columns": null,
      "grid_auto_flow": null,
      "grid_auto_rows": null,
      "grid_column": null,
      "grid_gap": null,
      "grid_row": null,
      "grid_template_areas": null,
      "grid_template_columns": null,
      "grid_template_rows": null,
      "height": null,
      "justify_content": null,
      "justify_items": null,
      "left": null,
      "margin": null,
      "max_height": null,
      "max_width": null,
      "min_height": null,
      "min_width": null,
      "object_fit": null,
      "object_position": null,
      "order": null,
      "overflow": null,
      "overflow_x": null,
      "overflow_y": null,
      "padding": null,
      "right": null,
      "top": null,
      "visibility": null,
      "width": null
     }
    },
    "e347e14d154f405dbc28333b3c4bc3fc": {
     "model_module": "@jupyter-widgets/controls",
     "model_module_version": "1.5.0",
     "model_name": "ProgressStyleModel",
     "state": {
      "_model_module": "@jupyter-widgets/controls",
      "_model_module_version": "1.5.0",
      "_model_name": "ProgressStyleModel",
      "_view_count": null,
      "_view_module": "@jupyter-widgets/base",
      "_view_module_version": "1.2.0",
      "_view_name": "StyleView",
      "bar_color": null,
      "description_width": ""
     }
    },
    "e4d82aa537944c9da823d5dfef132a9a": {
     "model_module": "@jupyter-widgets/base",
     "model_module_version": "1.2.0",
     "model_name": "LayoutModel",
     "state": {
      "_model_module": "@jupyter-widgets/base",
      "_model_module_version": "1.2.0",
      "_model_name": "LayoutModel",
      "_view_count": null,
      "_view_module": "@jupyter-widgets/base",
      "_view_module_version": "1.2.0",
      "_view_name": "LayoutView",
      "align_content": null,
      "align_items": null,
      "align_self": null,
      "border": null,
      "bottom": null,
      "display": null,
      "flex": null,
      "flex_flow": null,
      "grid_area": null,
      "grid_auto_columns": null,
      "grid_auto_flow": null,
      "grid_auto_rows": null,
      "grid_column": null,
      "grid_gap": null,
      "grid_row": null,
      "grid_template_areas": null,
      "grid_template_columns": null,
      "grid_template_rows": null,
      "height": null,
      "justify_content": null,
      "justify_items": null,
      "left": null,
      "margin": null,
      "max_height": null,
      "max_width": null,
      "min_height": null,
      "min_width": null,
      "object_fit": null,
      "object_position": null,
      "order": null,
      "overflow": null,
      "overflow_x": null,
      "overflow_y": null,
      "padding": null,
      "right": null,
      "top": null,
      "visibility": null,
      "width": null
     }
    },
    "e7598a91cfc24857b041b37223b05510": {
     "model_module": "@jupyter-widgets/controls",
     "model_module_version": "1.5.0",
     "model_name": "ProgressStyleModel",
     "state": {
      "_model_module": "@jupyter-widgets/controls",
      "_model_module_version": "1.5.0",
      "_model_name": "ProgressStyleModel",
      "_view_count": null,
      "_view_module": "@jupyter-widgets/base",
      "_view_module_version": "1.2.0",
      "_view_name": "StyleView",
      "bar_color": null,
      "description_width": ""
     }
    },
    "f5ab80109a344ec0a6ca1e3f34018b87": {
     "model_module": "@jupyter-widgets/base",
     "model_module_version": "1.2.0",
     "model_name": "LayoutModel",
     "state": {
      "_model_module": "@jupyter-widgets/base",
      "_model_module_version": "1.2.0",
      "_model_name": "LayoutModel",
      "_view_count": null,
      "_view_module": "@jupyter-widgets/base",
      "_view_module_version": "1.2.0",
      "_view_name": "LayoutView",
      "align_content": null,
      "align_items": null,
      "align_self": null,
      "border": null,
      "bottom": null,
      "display": null,
      "flex": null,
      "flex_flow": null,
      "grid_area": null,
      "grid_auto_columns": null,
      "grid_auto_flow": null,
      "grid_auto_rows": null,
      "grid_column": null,
      "grid_gap": null,
      "grid_row": null,
      "grid_template_areas": null,
      "grid_template_columns": null,
      "grid_template_rows": null,
      "height": null,
      "justify_content": null,
      "justify_items": null,
      "left": null,
      "margin": null,
      "max_height": null,
      "max_width": null,
      "min_height": null,
      "min_width": null,
      "object_fit": null,
      "object_position": null,
      "order": null,
      "overflow": null,
      "overflow_x": null,
      "overflow_y": null,
      "padding": null,
      "right": null,
      "top": null,
      "visibility": null,
      "width": null
     }
    },
    "f8fbb92b406942a290f82a9932f24304": {
     "model_module": "@jupyter-widgets/base",
     "model_module_version": "1.2.0",
     "model_name": "LayoutModel",
     "state": {
      "_model_module": "@jupyter-widgets/base",
      "_model_module_version": "1.2.0",
      "_model_name": "LayoutModel",
      "_view_count": null,
      "_view_module": "@jupyter-widgets/base",
      "_view_module_version": "1.2.0",
      "_view_name": "LayoutView",
      "align_content": null,
      "align_items": null,
      "align_self": null,
      "border": null,
      "bottom": null,
      "display": null,
      "flex": null,
      "flex_flow": null,
      "grid_area": null,
      "grid_auto_columns": null,
      "grid_auto_flow": null,
      "grid_auto_rows": null,
      "grid_column": null,
      "grid_gap": null,
      "grid_row": null,
      "grid_template_areas": null,
      "grid_template_columns": null,
      "grid_template_rows": null,
      "height": null,
      "justify_content": null,
      "justify_items": null,
      "left": null,
      "margin": null,
      "max_height": null,
      "max_width": null,
      "min_height": null,
      "min_width": null,
      "object_fit": null,
      "object_position": null,
      "order": null,
      "overflow": null,
      "overflow_x": null,
      "overflow_y": null,
      "padding": null,
      "right": null,
      "top": null,
      "visibility": null,
      "width": null
     }
    },
    "fbbaf0a0d8884f09a69e104987d2a8af": {
     "model_module": "@jupyter-widgets/base",
     "model_module_version": "1.2.0",
     "model_name": "LayoutModel",
     "state": {
      "_model_module": "@jupyter-widgets/base",
      "_model_module_version": "1.2.0",
      "_model_name": "LayoutModel",
      "_view_count": null,
      "_view_module": "@jupyter-widgets/base",
      "_view_module_version": "1.2.0",
      "_view_name": "LayoutView",
      "align_content": null,
      "align_items": null,
      "align_self": null,
      "border": null,
      "bottom": null,
      "display": null,
      "flex": null,
      "flex_flow": null,
      "grid_area": null,
      "grid_auto_columns": null,
      "grid_auto_flow": null,
      "grid_auto_rows": null,
      "grid_column": null,
      "grid_gap": null,
      "grid_row": null,
      "grid_template_areas": null,
      "grid_template_columns": null,
      "grid_template_rows": null,
      "height": null,
      "justify_content": null,
      "justify_items": null,
      "left": null,
      "margin": null,
      "max_height": null,
      "max_width": null,
      "min_height": null,
      "min_width": null,
      "object_fit": null,
      "object_position": null,
      "order": null,
      "overflow": null,
      "overflow_x": null,
      "overflow_y": null,
      "padding": null,
      "right": null,
      "top": null,
      "visibility": null,
      "width": null
     }
    }
   }
  }
 },
 "nbformat": 4,
 "nbformat_minor": 0
}
