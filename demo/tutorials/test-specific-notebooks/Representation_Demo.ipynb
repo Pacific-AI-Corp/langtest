{
 "cells": [
  {
   "cell_type": "markdown",
   "metadata": {
    "id": "kWIbgW1g6KBZ"
   },
   "source": [
    "![logog](https://raw.githubusercontent.com/Pacific-AI-Corp/langtest/main/docs/assets/images/logo.png)"
   ]
  },
  {
   "cell_type": "markdown",
   "metadata": {
    "id": "Gzpp8pscNiuq"
   },
   "source": [
    "[![Open In Colab](https://colab.research.google.com/assets/colab-badge.svg)](https://colab.research.google.com/github/Pacific-AI-Corp/langtest/blob/main/demo/tutorials/test-specific-notebooks/Representation_Demo.ipynb)"
   ]
  },
  {
   "cell_type": "markdown",
   "metadata": {
    "id": "pCpYlUY26KDr"
   },
   "source": [
    "**LangTest** is an open-source python library designed to help developers deliver safe and effective Natural Language Processing (NLP) models. Whether you are using **John Snow Labs, Hugging Face, Spacy** models or **OpenAI, Cohere, AI21, Hugging Face Inference API and Azure-OpenAI** based LLMs, it has got you covered. You can test any Named Entity Recognition (NER), Text Classification, fill-mask, Translation model using the library. We also support testing LLMS for Question-Answering, Summarization and text-generation tasks on benchmark datasets. The library supports 60+ out of the box tests. For a complete list of supported test categories, please refer to the [documentation](http://langtest.org/docs/pages/docs/test_categories).\n",
    "\n",
    "Metrics are calculated by comparing the model's extractions in the original list of sentences against the extractions carried out in the noisy list of sentences. The original annotated labels are not used at any point, we are simply comparing the model against itself in a 2 settings."
   ]
  },
  {
   "cell_type": "markdown",
   "metadata": {
    "id": "7WzFRKz26KGS"
   },
   "source": [
    "# Getting started with LangTest"
   ]
  },
  {
   "cell_type": "code",
   "execution_count": null,
   "metadata": {
    "id": "Hq0h_Sct6L5q"
   },
   "outputs": [],
   "source": [
    "!pip install langtest"
   ]
  },
  {
   "cell_type": "markdown",
   "metadata": {
    "id": "qbflDo0e-4wo"
   },
   "source": [
    "# John Snow Labs setup"
   ]
  },
  {
   "cell_type": "code",
   "execution_count": null,
   "metadata": {
    "id": "avLE9iUd-3qV"
   },
   "outputs": [],
   "source": [
    "!pip install johnsnowlabs"
   ]
  },
  {
   "cell_type": "markdown",
   "metadata": {
    "id": "rtaG29p6_BZv"
   },
   "source": [
    "# Harness and its Parameters\n",
    "\n",
    "The Harness class is a testing class for Natural Language Processing (NLP) models. It evaluates the performance of a NLP model on a given task using test data and generates a report with test results.Harness can be imported from the LangTest library in the following way."
   ]
  },
  {
   "cell_type": "code",
   "execution_count": 4,
   "metadata": {
    "executionInfo": {
     "elapsed": 1760,
     "status": "ok",
     "timestamp": 1692340830693,
     "user": {
      "displayName": "Prikshit sharma",
      "userId": "07819241395213139913"
     },
     "user_tz": -330
    },
    "id": "faMRHpZU_BwG"
   },
   "outputs": [],
   "source": [
    "#Import Harness from the LangTest library\n",
    "from langtest import Harness"
   ]
  },
  {
   "cell_type": "markdown",
   "metadata": {
    "id": "CDZNgecb_HOX"
   },
   "source": [
    "It imports the Harness class from within the module, that is designed to provide a blueprint or framework for conducting NLP testing, and that instances of the Harness class can be customized or configured for different testing scenarios or environments.\n",
    "\n",
    "Here is a list of the different parameters that can be passed to the Harness function:\n",
    "\n",
    "<br/>\n",
    "\n",
    "\n",
    "\n",
    "| Parameter     | Description |\n",
    "| - | - |\n",
    "| **task**      | Task for which the model is to be evaluated (text-classification or ner) |\n",
    "| **model**     | Specifies the model(s) to be evaluated. This parameter can be provided as either a dictionary or a list of dictionaries. Each dictionary should contain the following keys: <ul><li>model (mandatory): \tPipelineModel or path to a saved model or pretrained pipeline/model from hub.</li><li>hub (mandatory): Hub (library) to use in back-end for loading model from public models hub or from path</li></ul>|\n",
    "| **data**      | The data to be used for evaluation. A dictionary providing flexibility and options for data sources. It should include the following keys: <ul><li>data_source (mandatory): The source of the data.</li><li>subset (optional): The subset of the data.</li><li>feature_column (optional): The column containing the features.</li><li>target_column (optional): The column containing the target labels.</li><li>split (optional): The data split to be used.</li><li>source (optional): Set to 'huggingface' when loading Hugging Face dataset.</li></ul> |\n",
    "| **config**    | Configuration for the tests to be performed, specified in the form of a YAML file. |\n",
    "\n",
    "\n",
    "<br/>\n",
    "<br/>"
   ]
  },
  {
   "cell_type": "markdown",
   "metadata": {
    "id": "gBbk6BMa_M8i"
   },
   "source": [
    "# Representation Testing\n",
    "\n",
    "The goal of representation testing is to determine if a given dataset represents a specific population accurately or if it contains biases that could negatively impact the results of any analysis conducted on it.\n",
    "\n",
    "\n",
    "\n",
    "\n",
    "**`Supported Representation tests :`**<br>\n",
    "\n",
    "- **`min_gender_representation_count`**: Determine if any gender(male, female or unknown) has less than the desired minimum representation count.\n",
    "\n",
    "- **`min_gender_representation_proportion`**:  Determine if any gender(male, female or unknown) has less than the desired minimum representation proportion.\n",
    "\n",
    "- **`min_ethnicity_name_representation_count`**: Determine if any ethnicity(black, asian, white, native_american, hispanic or inter_racial) has less than the desired minimum representation count.\n",
    "\n",
    "- **`min_ethnicity_name_representation_proportion`**: Determine if any ethnicity(black, asian, white, native_american, hispanic or inter_racial) has less than the desired minimum representation proportion.\n",
    "\n",
    "- **`min_label_representation_count`**: Determine if any label(O, LOC, PER, MISC or ORG) has less than the desired minimum representation count.\n",
    "\n",
    "- **`min_label_representation_proportion`**: Determine if any label(O, LOC, PER, MISC or ORG) has less than the desired minimum representation proportion.\n",
    "\n",
    "- **`min_religion_name_representation_count`**: Determine if any religion(muslim, hindu, sikh, christian, jain, buddhist or parsi) has less than the desired minimum representation count.\n",
    "\n",
    "- **`min_religion_name_representation_proportion`**: Determine if any religion(muslim, hindu, sikh, christian, jain, buddhist or parsi) has less than the desired minimum representation proportion.\n",
    "\n",
    "- **`min_country_economic_representation_count`**: Determine if any country(high_income, low_income, lower_middle_income or upper_middle_income) has less than the desired minimum representation count.\n",
    "\n",
    "- **`min_country_economic_representation_proportion`**:Determine if any country(high_income, low_income, lower_middle_income or upper_middle_income) has less than the desired minimum representation proportion.\n",
    "\n",
    "<br/>\n",
    "<br/>\n"
   ]
  },
  {
   "cell_type": "markdown",
   "metadata": {
    "id": "MbmzXcB9_TNU"
   },
   "source": [
    "### Test Configuration\n",
    "\n",
    "Test configuration can be passed in the form of a YAML file as shown below or using .configure() method\n",
    "\n",
    "\n",
    "**Config YAML format** :\n",
    "```\n",
    "tests:     \n",
    "  defaults:\n",
    "    min_pass_rate: 0.55\n",
    "  representation:\n",
    "    min_religion_name_representation_count:\n",
    "      min_count:\n",
    "        christian: 10\n",
    "        muslim: 5\n",
    "        hindu: 15\n",
    "\n",
    "    min_label_representation_proportion:\n",
    "      min_proportion:\n",
    "          O: 0.5\n",
    "          LOC: 0.2\n",
    "  \n",
    "```\n",
    "\n",
    "If config file is not present, we can also use the **.configure()** method to manually configure the harness to perform the needed tests.\n"
   ]
  },
  {
   "cell_type": "code",
   "execution_count": 5,
   "metadata": {
    "colab": {
     "base_uri": "https://localhost:8080/"
    },
    "executionInfo": {
     "elapsed": 121469,
     "status": "ok",
     "timestamp": 1692340953973,
     "user": {
      "displayName": "Prikshit sharma",
      "userId": "07819241395213139913"
     },
     "user_tz": -330
    },
    "id": "sq94fbyQ_Zp3",
    "outputId": "be0f16fa-493c-46c9-8d2b-59f4916505ad"
   },
   "outputs": [
    {
     "name": "stdout",
     "output_type": "stream",
     "text": [
      "Warning::Spark Session already created, some configs may not take.\n",
      "recognize_entities_dl download started this may take some time.\n",
      "Approx size to download 159 MB\n",
      "[OK!]\n",
      "Test Configuration : \n",
      " {\n",
      " \"tests\": {\n",
      "  \"defaults\": {\n",
      "   \"min_pass_rate\": 1.0\n",
      "  },\n",
      "  \"robustness\": {\n",
      "   \"add_typo\": {\n",
      "    \"min_pass_rate\": 0.7\n",
      "   },\n",
      "   \"american_to_british\": {\n",
      "    \"min_pass_rate\": 0.7\n",
      "   }\n",
      "  },\n",
      "  \"accuracy\": {\n",
      "   \"min_micro_f1_score\": {\n",
      "    \"min_score\": 0.7\n",
      "   }\n",
      "  },\n",
      "  \"bias\": {\n",
      "   \"replace_to_female_pronouns\": {\n",
      "    \"min_pass_rate\": 0.7\n",
      "   },\n",
      "   \"replace_to_low_income_country\": {\n",
      "    \"min_pass_rate\": 0.7\n",
      "   }\n",
      "  },\n",
      "  \"fairness\": {\n",
      "   \"min_gender_f1_score\": {\n",
      "    \"min_score\": 0.6\n",
      "   }\n",
      "  },\n",
      "  \"representation\": {\n",
      "   \"min_label_representation_count\": {\n",
      "    \"min_count\": 50\n",
      "   }\n",
      "  }\n",
      " }\n",
      "}\n"
     ]
    }
   ],
   "source": [
    "harness = Harness(task='ner', model= {\"model\": \"ner.dl\", \"hub\": \"johnsnowlabs\"})"
   ]
  },
  {
   "cell_type": "markdown",
   "metadata": {
    "id": "jZDeoRfe_d6e"
   },
   "source": [
    "We can use the .configure() method to manually configure the tests we want to perform."
   ]
  },
  {
   "cell_type": "code",
   "execution_count": 6,
   "metadata": {
    "colab": {
     "base_uri": "https://localhost:8080/"
    },
    "executionInfo": {
     "elapsed": 61,
     "status": "ok",
     "timestamp": 1692340953975,
     "user": {
      "displayName": "Prikshit sharma",
      "userId": "07819241395213139913"
     },
     "user_tz": -330
    },
    "id": "56RSQaoI_h5b",
    "outputId": "ffc2dae6-494f-482c-bc03-327dc8f10dfa"
   },
   "outputs": [
    {
     "data": {
      "text/plain": [
       "{'tests': {'defaults': {'min_pass_rate': 0.55},\n",
       "  'representation': {'min_religion_name_representation_count': {'min_count': {'christian': 10,\n",
       "     'muslim': 5,\n",
       "     'hindu': 15}},\n",
       "   'min_label_representation_proportion': {'min_proportion': {'O': 0.5,\n",
       "     'LOC': 0.2}}}}}"
      ]
     },
     "execution_count": 6,
     "metadata": {},
     "output_type": "execute_result"
    }
   ],
   "source": [
    "harness.configure({\n",
    "  'tests': {\n",
    "    'defaults': {'min_pass_rate': 0.55},\n",
    "    'representation': {\n",
    "      'min_religion_name_representation_count': {\n",
    "        'min_count': {'christian': 10,'muslim': 5,'hindu': 15}\n",
    "      },\n",
    "      'min_label_representation_proportion': {\n",
    "          'min_proportion': {'O': 0.5, 'LOC': 0.2}\n",
    "      }\n",
    "    }\n",
    "  }\n",
    "})"
   ]
  },
  {
   "cell_type": "markdown",
   "metadata": {
    "id": "HNYzP22pCPGW"
   },
   "source": [
    "Here we have configured the harness to perform two representation tests (min_religion_name_representation_count and min_label_representation_proportion) and defined the minimum pass rate for each test."
   ]
  },
  {
   "cell_type": "markdown",
   "metadata": {
    "id": "NacIlMvr_lK0"
   },
   "source": [
    "\n",
    "### Generating the test cases.\n",
    "\n",
    "\n"
   ]
  },
  {
   "cell_type": "code",
   "execution_count": 7,
   "metadata": {
    "colab": {
     "base_uri": "https://localhost:8080/"
    },
    "executionInfo": {
     "elapsed": 23760,
     "status": "ok",
     "timestamp": 1692340977682,
     "user": {
      "displayName": "Prikshit sharma",
      "userId": "07819241395213139913"
     },
     "user_tz": -330
    },
    "id": "ULoYHJBx_kGU",
    "outputId": "32d98816-3d56-4bf7-fb19-b57a8fe16733"
   },
   "outputs": [
    {
     "name": "stderr",
     "output_type": "stream",
     "text": [
      "Generating testcases...: 100%|██████████| 1/1 [00:00<00:00, 1230.36it/s]\n"
     ]
    },
    {
     "data": {
      "text/plain": []
     },
     "execution_count": 7,
     "metadata": {},
     "output_type": "execute_result"
    }
   ],
   "source": [
    "harness.generate()"
   ]
  },
  {
   "cell_type": "markdown",
   "metadata": {
    "id": "ZnJrZ0eQCFD5"
   },
   "source": [
    "harness.generate() method automatically generates the test cases (based on the provided configuration)"
   ]
  },
  {
   "cell_type": "code",
   "execution_count": 8,
   "metadata": {
    "colab": {
     "base_uri": "https://localhost:8080/",
     "height": 206
    },
    "executionInfo": {
     "elapsed": 73,
     "status": "ok",
     "timestamp": 1692340977684,
     "user": {
      "displayName": "Prikshit sharma",
      "userId": "07819241395213139913"
     },
     "user_tz": -330
    },
    "id": "O-9tJ8go_pig",
    "outputId": "78b0547b-ed67-404e-df61-3ce1ae8ad5d9"
   },
   "outputs": [
    {
     "data": {
      "text/html": [
       "\n",
       "  <div id=\"df-a26f6360-b4f3-4299-9a5b-d2dc92d519ff\" class=\"colab-df-container\">\n",
       "    <div>\n",
       "<style scoped>\n",
       "    .dataframe tbody tr th:only-of-type {\n",
       "        vertical-align: middle;\n",
       "    }\n",
       "\n",
       "    .dataframe tbody tr th {\n",
       "        vertical-align: top;\n",
       "    }\n",
       "\n",
       "    .dataframe thead th {\n",
       "        text-align: right;\n",
       "    }\n",
       "</style>\n",
       "<table border=\"1\" class=\"dataframe\">\n",
       "  <thead>\n",
       "    <tr style=\"text-align: right;\">\n",
       "      <th></th>\n",
       "      <th>category</th>\n",
       "      <th>test_type</th>\n",
       "      <th>original</th>\n",
       "      <th>test_case</th>\n",
       "    </tr>\n",
       "  </thead>\n",
       "  <tbody>\n",
       "    <tr>\n",
       "      <th>0</th>\n",
       "      <td>representation</td>\n",
       "      <td>min_religion_name_representation_count</td>\n",
       "      <td>-</td>\n",
       "      <td>christian</td>\n",
       "    </tr>\n",
       "    <tr>\n",
       "      <th>1</th>\n",
       "      <td>representation</td>\n",
       "      <td>min_religion_name_representation_count</td>\n",
       "      <td>-</td>\n",
       "      <td>muslim</td>\n",
       "    </tr>\n",
       "    <tr>\n",
       "      <th>2</th>\n",
       "      <td>representation</td>\n",
       "      <td>min_religion_name_representation_count</td>\n",
       "      <td>-</td>\n",
       "      <td>hindu</td>\n",
       "    </tr>\n",
       "    <tr>\n",
       "      <th>3</th>\n",
       "      <td>representation</td>\n",
       "      <td>min_label_representation_proportion</td>\n",
       "      <td>-</td>\n",
       "      <td>O</td>\n",
       "    </tr>\n",
       "    <tr>\n",
       "      <th>4</th>\n",
       "      <td>representation</td>\n",
       "      <td>min_label_representation_proportion</td>\n",
       "      <td>-</td>\n",
       "      <td>LOC</td>\n",
       "    </tr>\n",
       "  </tbody>\n",
       "</table>\n",
       "</div>\n",
       "    <div class=\"colab-df-buttons\">\n",
       "\n",
       "  <div class=\"colab-df-container\">\n",
       "    <button class=\"colab-df-convert\" onclick=\"convertToInteractive('df-a26f6360-b4f3-4299-9a5b-d2dc92d519ff')\"\n",
       "            title=\"Convert this dataframe to an interactive table.\"\n",
       "            style=\"display:none;\">\n",
       "\n",
       "  <svg xmlns=\"http://www.w3.org/2000/svg\" height=\"24px\" viewBox=\"0 -960 960 960\">\n",
       "    <path d=\"M120-120v-720h720v720H120Zm60-500h600v-160H180v160Zm220 220h160v-160H400v160Zm0 220h160v-160H400v160ZM180-400h160v-160H180v160Zm440 0h160v-160H620v160ZM180-180h160v-160H180v160Zm440 0h160v-160H620v160Z\"/>\n",
       "  </svg>\n",
       "    </button>\n",
       "\n",
       "  <style>\n",
       "    .colab-df-container {\n",
       "      display:flex;\n",
       "      gap: 12px;\n",
       "    }\n",
       "\n",
       "    .colab-df-convert {\n",
       "      background-color: #E8F0FE;\n",
       "      border: none;\n",
       "      border-radius: 50%;\n",
       "      cursor: pointer;\n",
       "      display: none;\n",
       "      fill: #1967D2;\n",
       "      height: 32px;\n",
       "      padding: 0 0 0 0;\n",
       "      width: 32px;\n",
       "    }\n",
       "\n",
       "    .colab-df-convert:hover {\n",
       "      background-color: #E2EBFA;\n",
       "      box-shadow: 0px 1px 2px rgba(60, 64, 67, 0.3), 0px 1px 3px 1px rgba(60, 64, 67, 0.15);\n",
       "      fill: #174EA6;\n",
       "    }\n",
       "\n",
       "    .colab-df-buttons div {\n",
       "      margin-bottom: 4px;\n",
       "    }\n",
       "\n",
       "    [theme=dark] .colab-df-convert {\n",
       "      background-color: #3B4455;\n",
       "      fill: #D2E3FC;\n",
       "    }\n",
       "\n",
       "    [theme=dark] .colab-df-convert:hover {\n",
       "      background-color: #434B5C;\n",
       "      box-shadow: 0px 1px 3px 1px rgba(0, 0, 0, 0.15);\n",
       "      filter: drop-shadow(0px 1px 2px rgba(0, 0, 0, 0.3));\n",
       "      fill: #FFFFFF;\n",
       "    }\n",
       "  </style>\n",
       "\n",
       "    <script>\n",
       "      const buttonEl =\n",
       "        document.querySelector('#df-a26f6360-b4f3-4299-9a5b-d2dc92d519ff button.colab-df-convert');\n",
       "      buttonEl.style.display =\n",
       "        google.colab.kernel.accessAllowed ? 'block' : 'none';\n",
       "\n",
       "      async function convertToInteractive(key) {\n",
       "        const element = document.querySelector('#df-a26f6360-b4f3-4299-9a5b-d2dc92d519ff');\n",
       "        const dataTable =\n",
       "          await google.colab.kernel.invokeFunction('convertToInteractive',\n",
       "                                                    [key], {});\n",
       "        if (!dataTable) return;\n",
       "\n",
       "        const docLinkHtml = 'Like what you see? Visit the ' +\n",
       "          '<a target=\"_blank\" href=https://colab.research.google.com/notebooks/data_table.ipynb>data table notebook</a>'\n",
       "          + ' to learn more about interactive tables.';\n",
       "        element.innerHTML = '';\n",
       "        dataTable['output_type'] = 'display_data';\n",
       "        await google.colab.output.renderOutput(dataTable, element);\n",
       "        const docLink = document.createElement('div');\n",
       "        docLink.innerHTML = docLinkHtml;\n",
       "        element.appendChild(docLink);\n",
       "      }\n",
       "    </script>\n",
       "  </div>\n",
       "\n",
       "\n",
       "<div id=\"df-c428ee8a-510d-422d-9448-03474cebd5f9\">\n",
       "  <button class=\"colab-df-quickchart\" onclick=\"quickchart('df-c428ee8a-510d-422d-9448-03474cebd5f9')\"\n",
       "            title=\"Suggest charts.\"\n",
       "            style=\"display:none;\">\n",
       "\n",
       "<svg xmlns=\"http://www.w3.org/2000/svg\" height=\"24px\"viewBox=\"0 0 24 24\"\n",
       "     width=\"24px\">\n",
       "    <g>\n",
       "        <path d=\"M19 3H5c-1.1 0-2 .9-2 2v14c0 1.1.9 2 2 2h14c1.1 0 2-.9 2-2V5c0-1.1-.9-2-2-2zM9 17H7v-7h2v7zm4 0h-2V7h2v10zm4 0h-2v-4h2v4z\"/>\n",
       "    </g>\n",
       "</svg>\n",
       "  </button>\n",
       "\n",
       "<style>\n",
       "  .colab-df-quickchart {\n",
       "    background-color: #E8F0FE;\n",
       "    border: none;\n",
       "    border-radius: 50%;\n",
       "    cursor: pointer;\n",
       "    display: none;\n",
       "    fill: #1967D2;\n",
       "    height: 32px;\n",
       "    padding: 0 0 0 0;\n",
       "    width: 32px;\n",
       "  }\n",
       "\n",
       "  .colab-df-quickchart:hover {\n",
       "    background-color: #E2EBFA;\n",
       "    box-shadow: 0px 1px 2px rgba(60, 64, 67, 0.3), 0px 1px 3px 1px rgba(60, 64, 67, 0.15);\n",
       "    fill: #174EA6;\n",
       "  }\n",
       "\n",
       "  [theme=dark] .colab-df-quickchart {\n",
       "    background-color: #3B4455;\n",
       "    fill: #D2E3FC;\n",
       "  }\n",
       "\n",
       "  [theme=dark] .colab-df-quickchart:hover {\n",
       "    background-color: #434B5C;\n",
       "    box-shadow: 0px 1px 3px 1px rgba(0, 0, 0, 0.15);\n",
       "    filter: drop-shadow(0px 1px 2px rgba(0, 0, 0, 0.3));\n",
       "    fill: #FFFFFF;\n",
       "  }\n",
       "</style>\n",
       "\n",
       "  <script>\n",
       "    async function quickchart(key) {\n",
       "      const charts = await google.colab.kernel.invokeFunction(\n",
       "          'suggestCharts', [key], {});\n",
       "    }\n",
       "    (() => {\n",
       "      let quickchartButtonEl =\n",
       "        document.querySelector('#df-c428ee8a-510d-422d-9448-03474cebd5f9 button');\n",
       "      quickchartButtonEl.style.display =\n",
       "        google.colab.kernel.accessAllowed ? 'block' : 'none';\n",
       "    })();\n",
       "  </script>\n",
       "</div>\n",
       "    </div>\n",
       "  </div>\n"
      ],
      "text/plain": [
       "         category                               test_type original  test_case\n",
       "0  representation  min_religion_name_representation_count        -  christian\n",
       "1  representation  min_religion_name_representation_count        -     muslim\n",
       "2  representation  min_religion_name_representation_count        -      hindu\n",
       "3  representation     min_label_representation_proportion        -          O\n",
       "4  representation     min_label_representation_proportion        -        LOC"
      ]
     },
     "execution_count": 8,
     "metadata": {},
     "output_type": "execute_result"
    }
   ],
   "source": [
    "harness.testcases()"
   ]
  },
  {
   "cell_type": "markdown",
   "metadata": {
    "id": "O0kwx3dvBf9V"
   },
   "source": [
    "harness.testcases() method gives the produced test cases in form of a pandas data frame."
   ]
  },
  {
   "cell_type": "markdown",
   "metadata": {
    "id": "NfwmZKRs_uIO"
   },
   "source": [
    "### Running the tests."
   ]
  },
  {
   "cell_type": "code",
   "execution_count": 9,
   "metadata": {
    "colab": {
     "base_uri": "https://localhost:8080/"
    },
    "executionInfo": {
     "elapsed": 3267,
     "status": "ok",
     "timestamp": 1692340980884,
     "user": {
      "displayName": "Prikshit sharma",
      "userId": "07819241395213139913"
     },
     "user_tz": -330
    },
    "id": "6VwFTcwv_plm",
    "outputId": "c0c3a894-2ff3-4b70-8482-77c6a717326b"
   },
   "outputs": [
    {
     "name": "stderr",
     "output_type": "stream",
     "text": [
      "Running testcases... : 100%|██████████| 5/5 [00:03<00:00,  1.57it/s]\n"
     ]
    },
    {
     "data": {
      "text/plain": []
     },
     "execution_count": 9,
     "metadata": {},
     "output_type": "execute_result"
    }
   ],
   "source": [
    "harness.run()"
   ]
  },
  {
   "cell_type": "markdown",
   "metadata": {
    "id": "kmeI5E0fB58u"
   },
   "source": [
    "Called after harness.generate() and is to used to run all the tests.  Returns a pass/fail flag for each test."
   ]
  },
  {
   "cell_type": "code",
   "execution_count": 10,
   "metadata": {
    "colab": {
     "base_uri": "https://localhost:8080/",
     "height": 206
    },
    "executionInfo": {
     "elapsed": 75,
     "status": "ok",
     "timestamp": 1692340980885,
     "user": {
      "displayName": "Prikshit sharma",
      "userId": "07819241395213139913"
     },
     "user_tz": -330
    },
    "id": "Q6sjQ1lt_wVo",
    "outputId": "27d6e8b5-f64c-4ddd-bf55-2bfc670d64a0"
   },
   "outputs": [
    {
     "data": {
      "text/html": [
       "\n",
       "  <div id=\"df-c00a7682-4256-445e-9b52-42b37e99d647\" class=\"colab-df-container\">\n",
       "    <div>\n",
       "<style scoped>\n",
       "    .dataframe tbody tr th:only-of-type {\n",
       "        vertical-align: middle;\n",
       "    }\n",
       "\n",
       "    .dataframe tbody tr th {\n",
       "        vertical-align: top;\n",
       "    }\n",
       "\n",
       "    .dataframe thead th {\n",
       "        text-align: right;\n",
       "    }\n",
       "</style>\n",
       "<table border=\"1\" class=\"dataframe\">\n",
       "  <thead>\n",
       "    <tr style=\"text-align: right;\">\n",
       "      <th></th>\n",
       "      <th>category</th>\n",
       "      <th>test_type</th>\n",
       "      <th>original</th>\n",
       "      <th>test_case</th>\n",
       "      <th>expected_result</th>\n",
       "      <th>actual_result</th>\n",
       "      <th>pass</th>\n",
       "    </tr>\n",
       "  </thead>\n",
       "  <tbody>\n",
       "    <tr>\n",
       "      <th>0</th>\n",
       "      <td>representation</td>\n",
       "      <td>min_religion_name_representation_count</td>\n",
       "      <td>-</td>\n",
       "      <td>christian</td>\n",
       "      <td>10.0</td>\n",
       "      <td>60.00</td>\n",
       "      <td>True</td>\n",
       "    </tr>\n",
       "    <tr>\n",
       "      <th>1</th>\n",
       "      <td>representation</td>\n",
       "      <td>min_religion_name_representation_count</td>\n",
       "      <td>-</td>\n",
       "      <td>muslim</td>\n",
       "      <td>5.0</td>\n",
       "      <td>51.00</td>\n",
       "      <td>True</td>\n",
       "    </tr>\n",
       "    <tr>\n",
       "      <th>2</th>\n",
       "      <td>representation</td>\n",
       "      <td>min_religion_name_representation_count</td>\n",
       "      <td>-</td>\n",
       "      <td>hindu</td>\n",
       "      <td>15.0</td>\n",
       "      <td>2.00</td>\n",
       "      <td>False</td>\n",
       "    </tr>\n",
       "    <tr>\n",
       "      <th>3</th>\n",
       "      <td>representation</td>\n",
       "      <td>min_label_representation_proportion</td>\n",
       "      <td>-</td>\n",
       "      <td>O</td>\n",
       "      <td>0.5</td>\n",
       "      <td>0.73</td>\n",
       "      <td>True</td>\n",
       "    </tr>\n",
       "    <tr>\n",
       "      <th>4</th>\n",
       "      <td>representation</td>\n",
       "      <td>min_label_representation_proportion</td>\n",
       "      <td>-</td>\n",
       "      <td>LOC</td>\n",
       "      <td>0.2</td>\n",
       "      <td>0.06</td>\n",
       "      <td>False</td>\n",
       "    </tr>\n",
       "  </tbody>\n",
       "</table>\n",
       "</div>\n",
       "    <div class=\"colab-df-buttons\">\n",
       "\n",
       "  <div class=\"colab-df-container\">\n",
       "    <button class=\"colab-df-convert\" onclick=\"convertToInteractive('df-c00a7682-4256-445e-9b52-42b37e99d647')\"\n",
       "            title=\"Convert this dataframe to an interactive table.\"\n",
       "            style=\"display:none;\">\n",
       "\n",
       "  <svg xmlns=\"http://www.w3.org/2000/svg\" height=\"24px\" viewBox=\"0 -960 960 960\">\n",
       "    <path d=\"M120-120v-720h720v720H120Zm60-500h600v-160H180v160Zm220 220h160v-160H400v160Zm0 220h160v-160H400v160ZM180-400h160v-160H180v160Zm440 0h160v-160H620v160ZM180-180h160v-160H180v160Zm440 0h160v-160H620v160Z\"/>\n",
       "  </svg>\n",
       "    </button>\n",
       "\n",
       "  <style>\n",
       "    .colab-df-container {\n",
       "      display:flex;\n",
       "      gap: 12px;\n",
       "    }\n",
       "\n",
       "    .colab-df-convert {\n",
       "      background-color: #E8F0FE;\n",
       "      border: none;\n",
       "      border-radius: 50%;\n",
       "      cursor: pointer;\n",
       "      display: none;\n",
       "      fill: #1967D2;\n",
       "      height: 32px;\n",
       "      padding: 0 0 0 0;\n",
       "      width: 32px;\n",
       "    }\n",
       "\n",
       "    .colab-df-convert:hover {\n",
       "      background-color: #E2EBFA;\n",
       "      box-shadow: 0px 1px 2px rgba(60, 64, 67, 0.3), 0px 1px 3px 1px rgba(60, 64, 67, 0.15);\n",
       "      fill: #174EA6;\n",
       "    }\n",
       "\n",
       "    .colab-df-buttons div {\n",
       "      margin-bottom: 4px;\n",
       "    }\n",
       "\n",
       "    [theme=dark] .colab-df-convert {\n",
       "      background-color: #3B4455;\n",
       "      fill: #D2E3FC;\n",
       "    }\n",
       "\n",
       "    [theme=dark] .colab-df-convert:hover {\n",
       "      background-color: #434B5C;\n",
       "      box-shadow: 0px 1px 3px 1px rgba(0, 0, 0, 0.15);\n",
       "      filter: drop-shadow(0px 1px 2px rgba(0, 0, 0, 0.3));\n",
       "      fill: #FFFFFF;\n",
       "    }\n",
       "  </style>\n",
       "\n",
       "    <script>\n",
       "      const buttonEl =\n",
       "        document.querySelector('#df-c00a7682-4256-445e-9b52-42b37e99d647 button.colab-df-convert');\n",
       "      buttonEl.style.display =\n",
       "        google.colab.kernel.accessAllowed ? 'block' : 'none';\n",
       "\n",
       "      async function convertToInteractive(key) {\n",
       "        const element = document.querySelector('#df-c00a7682-4256-445e-9b52-42b37e99d647');\n",
       "        const dataTable =\n",
       "          await google.colab.kernel.invokeFunction('convertToInteractive',\n",
       "                                                    [key], {});\n",
       "        if (!dataTable) return;\n",
       "\n",
       "        const docLinkHtml = 'Like what you see? Visit the ' +\n",
       "          '<a target=\"_blank\" href=https://colab.research.google.com/notebooks/data_table.ipynb>data table notebook</a>'\n",
       "          + ' to learn more about interactive tables.';\n",
       "        element.innerHTML = '';\n",
       "        dataTable['output_type'] = 'display_data';\n",
       "        await google.colab.output.renderOutput(dataTable, element);\n",
       "        const docLink = document.createElement('div');\n",
       "        docLink.innerHTML = docLinkHtml;\n",
       "        element.appendChild(docLink);\n",
       "      }\n",
       "    </script>\n",
       "  </div>\n",
       "\n",
       "\n",
       "<div id=\"df-ce6ec618-183d-424a-b1f7-3ab2feac4531\">\n",
       "  <button class=\"colab-df-quickchart\" onclick=\"quickchart('df-ce6ec618-183d-424a-b1f7-3ab2feac4531')\"\n",
       "            title=\"Suggest charts.\"\n",
       "            style=\"display:none;\">\n",
       "\n",
       "<svg xmlns=\"http://www.w3.org/2000/svg\" height=\"24px\"viewBox=\"0 0 24 24\"\n",
       "     width=\"24px\">\n",
       "    <g>\n",
       "        <path d=\"M19 3H5c-1.1 0-2 .9-2 2v14c0 1.1.9 2 2 2h14c1.1 0 2-.9 2-2V5c0-1.1-.9-2-2-2zM9 17H7v-7h2v7zm4 0h-2V7h2v10zm4 0h-2v-4h2v4z\"/>\n",
       "    </g>\n",
       "</svg>\n",
       "  </button>\n",
       "\n",
       "<style>\n",
       "  .colab-df-quickchart {\n",
       "    background-color: #E8F0FE;\n",
       "    border: none;\n",
       "    border-radius: 50%;\n",
       "    cursor: pointer;\n",
       "    display: none;\n",
       "    fill: #1967D2;\n",
       "    height: 32px;\n",
       "    padding: 0 0 0 0;\n",
       "    width: 32px;\n",
       "  }\n",
       "\n",
       "  .colab-df-quickchart:hover {\n",
       "    background-color: #E2EBFA;\n",
       "    box-shadow: 0px 1px 2px rgba(60, 64, 67, 0.3), 0px 1px 3px 1px rgba(60, 64, 67, 0.15);\n",
       "    fill: #174EA6;\n",
       "  }\n",
       "\n",
       "  [theme=dark] .colab-df-quickchart {\n",
       "    background-color: #3B4455;\n",
       "    fill: #D2E3FC;\n",
       "  }\n",
       "\n",
       "  [theme=dark] .colab-df-quickchart:hover {\n",
       "    background-color: #434B5C;\n",
       "    box-shadow: 0px 1px 3px 1px rgba(0, 0, 0, 0.15);\n",
       "    filter: drop-shadow(0px 1px 2px rgba(0, 0, 0, 0.3));\n",
       "    fill: #FFFFFF;\n",
       "  }\n",
       "</style>\n",
       "\n",
       "  <script>\n",
       "    async function quickchart(key) {\n",
       "      const charts = await google.colab.kernel.invokeFunction(\n",
       "          'suggestCharts', [key], {});\n",
       "    }\n",
       "    (() => {\n",
       "      let quickchartButtonEl =\n",
       "        document.querySelector('#df-ce6ec618-183d-424a-b1f7-3ab2feac4531 button');\n",
       "      quickchartButtonEl.style.display =\n",
       "        google.colab.kernel.accessAllowed ? 'block' : 'none';\n",
       "    })();\n",
       "  </script>\n",
       "</div>\n",
       "    </div>\n",
       "  </div>\n"
      ],
      "text/plain": [
       "         category                               test_type original  test_case  \\\n",
       "0  representation  min_religion_name_representation_count        -  christian   \n",
       "1  representation  min_religion_name_representation_count        -     muslim   \n",
       "2  representation  min_religion_name_representation_count        -      hindu   \n",
       "3  representation     min_label_representation_proportion        -          O   \n",
       "4  representation     min_label_representation_proportion        -        LOC   \n",
       "\n",
       "   expected_result  actual_result   pass  \n",
       "0             10.0          60.00   True  \n",
       "1              5.0          51.00   True  \n",
       "2             15.0           2.00  False  \n",
       "3              0.5           0.73   True  \n",
       "4              0.2           0.06  False  "
      ]
     },
     "execution_count": 10,
     "metadata": {},
     "output_type": "execute_result"
    }
   ],
   "source": [
    "harness.generated_results()"
   ]
  },
  {
   "cell_type": "markdown",
   "metadata": {
    "id": "TSFzObxCBPkK"
   },
   "source": [
    "This method returns the generated results in the form of a pandas dataframe, which provides a convenient and easy-to-use format for working with the test results. You can use this method to quickly identify the test cases that failed and to determine where fixes are needed."
   ]
  },
  {
   "cell_type": "markdown",
   "metadata": {
    "id": "eZVEeqDD_06Z"
   },
   "source": [
    "### Report of the tests"
   ]
  },
  {
   "cell_type": "code",
   "execution_count": 11,
   "metadata": {
    "colab": {
     "base_uri": "https://localhost:8080/",
     "height": 112
    },
    "executionInfo": {
     "elapsed": 78,
     "status": "ok",
     "timestamp": 1692340980891,
     "user": {
      "displayName": "Prikshit sharma",
      "userId": "07819241395213139913"
     },
     "user_tz": -330
    },
    "id": "P21LM3Qa_yL3",
    "outputId": "116a01c2-65c4-4ff8-dc79-f9a8dcb56ae4"
   },
   "outputs": [
    {
     "data": {
      "text/html": [
       "\n",
       "  <div id=\"df-56f04659-59ca-4183-a2e6-d9830a21d6da\" class=\"colab-df-container\">\n",
       "    <div>\n",
       "<style scoped>\n",
       "    .dataframe tbody tr th:only-of-type {\n",
       "        vertical-align: middle;\n",
       "    }\n",
       "\n",
       "    .dataframe tbody tr th {\n",
       "        vertical-align: top;\n",
       "    }\n",
       "\n",
       "    .dataframe thead th {\n",
       "        text-align: right;\n",
       "    }\n",
       "</style>\n",
       "<table border=\"1\" class=\"dataframe\">\n",
       "  <thead>\n",
       "    <tr style=\"text-align: right;\">\n",
       "      <th></th>\n",
       "      <th>category</th>\n",
       "      <th>test_type</th>\n",
       "      <th>fail_count</th>\n",
       "      <th>pass_count</th>\n",
       "      <th>pass_rate</th>\n",
       "      <th>minimum_pass_rate</th>\n",
       "      <th>pass</th>\n",
       "    </tr>\n",
       "  </thead>\n",
       "  <tbody>\n",
       "    <tr>\n",
       "      <th>0</th>\n",
       "      <td>representation</td>\n",
       "      <td>min_religion_name_representation_count</td>\n",
       "      <td>1</td>\n",
       "      <td>2</td>\n",
       "      <td>67%</td>\n",
       "      <td>55%</td>\n",
       "      <td>True</td>\n",
       "    </tr>\n",
       "    <tr>\n",
       "      <th>1</th>\n",
       "      <td>representation</td>\n",
       "      <td>min_label_representation_proportion</td>\n",
       "      <td>1</td>\n",
       "      <td>1</td>\n",
       "      <td>50%</td>\n",
       "      <td>55%</td>\n",
       "      <td>False</td>\n",
       "    </tr>\n",
       "  </tbody>\n",
       "</table>\n",
       "</div>\n",
       "    <div class=\"colab-df-buttons\">\n",
       "\n",
       "  <div class=\"colab-df-container\">\n",
       "    <button class=\"colab-df-convert\" onclick=\"convertToInteractive('df-56f04659-59ca-4183-a2e6-d9830a21d6da')\"\n",
       "            title=\"Convert this dataframe to an interactive table.\"\n",
       "            style=\"display:none;\">\n",
       "\n",
       "  <svg xmlns=\"http://www.w3.org/2000/svg\" height=\"24px\" viewBox=\"0 -960 960 960\">\n",
       "    <path d=\"M120-120v-720h720v720H120Zm60-500h600v-160H180v160Zm220 220h160v-160H400v160Zm0 220h160v-160H400v160ZM180-400h160v-160H180v160Zm440 0h160v-160H620v160ZM180-180h160v-160H180v160Zm440 0h160v-160H620v160Z\"/>\n",
       "  </svg>\n",
       "    </button>\n",
       "\n",
       "  <style>\n",
       "    .colab-df-container {\n",
       "      display:flex;\n",
       "      gap: 12px;\n",
       "    }\n",
       "\n",
       "    .colab-df-convert {\n",
       "      background-color: #E8F0FE;\n",
       "      border: none;\n",
       "      border-radius: 50%;\n",
       "      cursor: pointer;\n",
       "      display: none;\n",
       "      fill: #1967D2;\n",
       "      height: 32px;\n",
       "      padding: 0 0 0 0;\n",
       "      width: 32px;\n",
       "    }\n",
       "\n",
       "    .colab-df-convert:hover {\n",
       "      background-color: #E2EBFA;\n",
       "      box-shadow: 0px 1px 2px rgba(60, 64, 67, 0.3), 0px 1px 3px 1px rgba(60, 64, 67, 0.15);\n",
       "      fill: #174EA6;\n",
       "    }\n",
       "\n",
       "    .colab-df-buttons div {\n",
       "      margin-bottom: 4px;\n",
       "    }\n",
       "\n",
       "    [theme=dark] .colab-df-convert {\n",
       "      background-color: #3B4455;\n",
       "      fill: #D2E3FC;\n",
       "    }\n",
       "\n",
       "    [theme=dark] .colab-df-convert:hover {\n",
       "      background-color: #434B5C;\n",
       "      box-shadow: 0px 1px 3px 1px rgba(0, 0, 0, 0.15);\n",
       "      filter: drop-shadow(0px 1px 2px rgba(0, 0, 0, 0.3));\n",
       "      fill: #FFFFFF;\n",
       "    }\n",
       "  </style>\n",
       "\n",
       "    <script>\n",
       "      const buttonEl =\n",
       "        document.querySelector('#df-56f04659-59ca-4183-a2e6-d9830a21d6da button.colab-df-convert');\n",
       "      buttonEl.style.display =\n",
       "        google.colab.kernel.accessAllowed ? 'block' : 'none';\n",
       "\n",
       "      async function convertToInteractive(key) {\n",
       "        const element = document.querySelector('#df-56f04659-59ca-4183-a2e6-d9830a21d6da');\n",
       "        const dataTable =\n",
       "          await google.colab.kernel.invokeFunction('convertToInteractive',\n",
       "                                                    [key], {});\n",
       "        if (!dataTable) return;\n",
       "\n",
       "        const docLinkHtml = 'Like what you see? Visit the ' +\n",
       "          '<a target=\"_blank\" href=https://colab.research.google.com/notebooks/data_table.ipynb>data table notebook</a>'\n",
       "          + ' to learn more about interactive tables.';\n",
       "        element.innerHTML = '';\n",
       "        dataTable['output_type'] = 'display_data';\n",
       "        await google.colab.output.renderOutput(dataTable, element);\n",
       "        const docLink = document.createElement('div');\n",
       "        docLink.innerHTML = docLinkHtml;\n",
       "        element.appendChild(docLink);\n",
       "      }\n",
       "    </script>\n",
       "  </div>\n",
       "\n",
       "\n",
       "<div id=\"df-fca5e1f4-91e3-4203-a487-62dd6f01aa86\">\n",
       "  <button class=\"colab-df-quickchart\" onclick=\"quickchart('df-fca5e1f4-91e3-4203-a487-62dd6f01aa86')\"\n",
       "            title=\"Suggest charts.\"\n",
       "            style=\"display:none;\">\n",
       "\n",
       "<svg xmlns=\"http://www.w3.org/2000/svg\" height=\"24px\"viewBox=\"0 0 24 24\"\n",
       "     width=\"24px\">\n",
       "    <g>\n",
       "        <path d=\"M19 3H5c-1.1 0-2 .9-2 2v14c0 1.1.9 2 2 2h14c1.1 0 2-.9 2-2V5c0-1.1-.9-2-2-2zM9 17H7v-7h2v7zm4 0h-2V7h2v10zm4 0h-2v-4h2v4z\"/>\n",
       "    </g>\n",
       "</svg>\n",
       "  </button>\n",
       "\n",
       "<style>\n",
       "  .colab-df-quickchart {\n",
       "    background-color: #E8F0FE;\n",
       "    border: none;\n",
       "    border-radius: 50%;\n",
       "    cursor: pointer;\n",
       "    display: none;\n",
       "    fill: #1967D2;\n",
       "    height: 32px;\n",
       "    padding: 0 0 0 0;\n",
       "    width: 32px;\n",
       "  }\n",
       "\n",
       "  .colab-df-quickchart:hover {\n",
       "    background-color: #E2EBFA;\n",
       "    box-shadow: 0px 1px 2px rgba(60, 64, 67, 0.3), 0px 1px 3px 1px rgba(60, 64, 67, 0.15);\n",
       "    fill: #174EA6;\n",
       "  }\n",
       "\n",
       "  [theme=dark] .colab-df-quickchart {\n",
       "    background-color: #3B4455;\n",
       "    fill: #D2E3FC;\n",
       "  }\n",
       "\n",
       "  [theme=dark] .colab-df-quickchart:hover {\n",
       "    background-color: #434B5C;\n",
       "    box-shadow: 0px 1px 3px 1px rgba(0, 0, 0, 0.15);\n",
       "    filter: drop-shadow(0px 1px 2px rgba(0, 0, 0, 0.3));\n",
       "    fill: #FFFFFF;\n",
       "  }\n",
       "</style>\n",
       "\n",
       "  <script>\n",
       "    async function quickchart(key) {\n",
       "      const charts = await google.colab.kernel.invokeFunction(\n",
       "          'suggestCharts', [key], {});\n",
       "    }\n",
       "    (() => {\n",
       "      let quickchartButtonEl =\n",
       "        document.querySelector('#df-fca5e1f4-91e3-4203-a487-62dd6f01aa86 button');\n",
       "      quickchartButtonEl.style.display =\n",
       "        google.colab.kernel.accessAllowed ? 'block' : 'none';\n",
       "    })();\n",
       "  </script>\n",
       "</div>\n",
       "    </div>\n",
       "  </div>\n"
      ],
      "text/plain": [
       "         category                               test_type  fail_count  \\\n",
       "0  representation  min_religion_name_representation_count           1   \n",
       "1  representation     min_label_representation_proportion           1   \n",
       "\n",
       "   pass_count pass_rate minimum_pass_rate   pass  \n",
       "0           2       67%               55%   True  \n",
       "1           1       50%               55%  False  "
      ]
     },
     "execution_count": 11,
     "metadata": {},
     "output_type": "execute_result"
    }
   ],
   "source": [
    "harness.report()"
   ]
  },
  {
   "cell_type": "markdown",
   "metadata": {
    "id": "aGWFYX5hB9Bk"
   },
   "source": [
    "Called after harness.run() and it summarizes the results giving information about pass and fail counts and overall test pass/fail flag."
   ]
  }
 ],
 "metadata": {
  "colab": {
   "provenance": [],
   "toc_visible": true
  },
  "kernelspec": {
   "display_name": "Python 3",
   "name": "python3"
  },
  "language_info": {
   "name": "python"
  }
 },
 "nbformat": 4,
 "nbformat_minor": 0
}
